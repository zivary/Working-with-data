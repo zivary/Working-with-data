{
 "cells": [
  {
   "cell_type": "code",
   "execution_count": 1,
   "id": "a88aad96",
   "metadata": {
    "ExecuteTime": {
     "end_time": "2022-07-16T06:25:09.020756Z",
     "start_time": "2022-07-16T06:25:09.015700Z"
    }
   },
   "outputs": [
    {
     "data": {
      "text/plain": [
       "'/Users/mac/Library/Mobile Documents/com~apple~CloudDocs/GitHub/sales_data_analysis'"
      ]
     },
     "execution_count": 1,
     "metadata": {},
     "output_type": "execute_result"
    }
   ],
   "source": [
    "%pwd"
   ]
  },
  {
   "cell_type": "markdown",
   "id": "c9ea644c",
   "metadata": {},
   "source": [
    "# 인사이트(중앙 편의점)\n",
    "1. 소비 트랜드 만들기 \n",
    "    - 1 지역 젊은 여상들의 고가품 소비 증가 경향\n",
    "    - 5 지역 고령 남성들의 저가품 소비 증가 경향\n",
    "    - 인당 평균 소비량 감소\n",
    "    - \n",
    "       |지역|소득|컨셉|연령분포|소득시간|\n",
    "       |-|-|-|-|-|\n",
    "       | 1지역 | 2억 | 부촌 |고령남여+ 젊은여|일과시간 소비|\n",
    "       | 2지역 | 1억 | 위성신도시 |신혼 부부 + 어린 자녀|오전,주말에 증가| \n",
    "       | 3지역 | 5천 | 업무지구 |30~50대 생상가능인구|점심시간,저녁, 주말 전무| \n",
    "       | 4지역 | 1천 | 대학가 |20대|점심시간, 저녁, 주말 전무|\n",
    "       | 5지역 | 3천 | 일반거주지구 |노년층|밤 늦게|\n",
    "      - 소득은 정규분포로 데이터 입력\n",
    "1. 트랜드 분석\n",
    "    - 평균 1회 결제 금액이 큰 고객을 더 유치하기위한 마케팅 계획 수립을 위한 분석\n",
    "    - 최근 변화한 소비 트렌드에 가장 민감하게 반응한 소득별 계층 분석\n",
    "    - \n",
    "4. 추가할 컬럼\n",
    "    고객\n",
    "        - *고객 번호, *성별, *지역, 등급, *나이, 20년 총 소비금액, 21년 총 소비금액, *소득, 거래당 평균 결제 금액, 연간 방문 횟수\n",
    "    상품\n",
    "        - *상품 코드, *가격, 고가 중가 저가 여부\n",
    "    거래\n",
    "        - 거래 번호, *고객 변호, *상품코드, *수량, *날짜\n",
    "        \n",
    "    "
   ]
  },
  {
   "cell_type": "code",
   "execution_count": 2,
   "id": "2805b6d0",
   "metadata": {
    "ExecuteTime": {
     "end_time": "2022-07-16T06:25:09.814567Z",
     "start_time": "2022-07-16T06:25:09.022463Z"
    }
   },
   "outputs": [],
   "source": [
    "import pandas as pd\n",
    "import numpy as np\n",
    "import matplotlib.pyplot as plt\n",
    "import seaborn as sns\n",
    "import random\n",
    "import warnings\n",
    "warnings.filterwarnings('ignore')\n",
    "\n",
    "random.seed(0)"
   ]
  },
  {
   "cell_type": "markdown",
   "id": "6296d752",
   "metadata": {
    "ExecuteTime": {
     "end_time": "2022-07-14T08:20:20.645016Z",
     "start_time": "2022-07-14T08:20:20.605679Z"
    }
   },
   "source": [
    "## 고객 데이터프레임 만들기"
   ]
  },
  {
   "cell_type": "markdown",
   "id": "94048cef",
   "metadata": {
    "ExecuteTime": {
     "end_time": "2022-07-14T11:32:11.666425Z",
     "start_time": "2022-07-14T11:32:11.651129Z"
    }
   },
   "source": [
    "### 고객 데이터프레임 양식 만들기"
   ]
  },
  {
   "cell_type": "code",
   "execution_count": 3,
   "id": "be159efa",
   "metadata": {
    "ExecuteTime": {
     "end_time": "2022-07-16T06:25:09.821922Z",
     "start_time": "2022-07-16T06:25:09.816436Z"
    }
   },
   "outputs": [
    {
     "data": {
      "text/html": [
       "<div>\n",
       "<style scoped>\n",
       "    .dataframe tbody tr th:only-of-type {\n",
       "        vertical-align: middle;\n",
       "    }\n",
       "\n",
       "    .dataframe tbody tr th {\n",
       "        vertical-align: top;\n",
       "    }\n",
       "\n",
       "    .dataframe thead th {\n",
       "        text-align: right;\n",
       "    }\n",
       "</style>\n",
       "<table border=\"1\" class=\"dataframe\">\n",
       "  <thead>\n",
       "    <tr style=\"text-align: right;\">\n",
       "      <th></th>\n",
       "      <th>cusno</th>\n",
       "      <th>region</th>\n",
       "      <th>gender</th>\n",
       "      <th>age</th>\n",
       "      <th>income</th>\n",
       "      <th>grade_20</th>\n",
       "      <th>grade_21</th>\n",
       "      <th>ARPPU_20</th>\n",
       "      <th>ARPPU_21</th>\n",
       "      <th>AVC_20</th>\n",
       "      <th>AVC_21</th>\n",
       "      <th>ASC_20</th>\n",
       "      <th>ASC_21</th>\n",
       "      <th>purchase_trend</th>\n",
       "    </tr>\n",
       "  </thead>\n",
       "  <tbody>\n",
       "  </tbody>\n",
       "</table>\n",
       "</div>"
      ],
      "text/plain": [
       "Empty DataFrame\n",
       "Columns: [cusno, region, gender, age, income, grade_20, grade_21, ARPPU_20, ARPPU_21, AVC_20, AVC_21, ASC_20, ASC_21, purchase_trend]\n",
       "Index: []"
      ]
     },
     "execution_count": 3,
     "metadata": {},
     "output_type": "execute_result"
    }
   ],
   "source": [
    "customer = pd.DataFrame(columns=['cusno', 'region', 'gender', 'age',  'income', 'grade_20',\n",
    "                        'grade_21', 'ARPPU_20', 'ARPPU_21', 'AVC_20', 'AVC_21', 'ASC_20', 'ASC_21', 'purchase_trend'])\n",
    "customer"
   ]
  },
  {
   "cell_type": "markdown",
   "id": "ca424309",
   "metadata": {
    "ExecuteTime": {
     "end_time": "2022-07-15T05:40:54.684672Z",
     "start_time": "2022-07-15T05:40:54.680569Z"
    }
   },
   "source": [
    "### 고객 데이터프레임 데이터 채우기"
   ]
  },
  {
   "cell_type": "markdown",
   "id": "3bf35969",
   "metadata": {
    "ExecuteTime": {
     "end_time": "2022-07-14T12:25:23.887093Z",
     "start_time": "2022-07-14T12:25:23.791326Z"
    },
    "scrolled": true
   },
   "source": [
    "#### 고객 번호 : cusno"
   ]
  },
  {
   "cell_type": "code",
   "execution_count": 4,
   "id": "295fa788",
   "metadata": {
    "ExecuteTime": {
     "end_time": "2022-07-16T06:25:09.824459Z",
     "start_time": "2022-07-16T06:25:09.822650Z"
    }
   },
   "outputs": [],
   "source": [
    "cusno = np.arange(10000, 11000)\n",
    "customer.cusno = cusno"
   ]
  },
  {
   "cell_type": "markdown",
   "id": "5b3f93a9",
   "metadata": {
    "ExecuteTime": {
     "end_time": "2022-07-14T12:25:23.887093Z",
     "start_time": "2022-07-14T12:25:23.791326Z"
    },
    "scrolled": true
   },
   "source": [
    "#### 거주 지역 : region"
   ]
  },
  {
   "cell_type": "code",
   "execution_count": 5,
   "id": "3419c5bd",
   "metadata": {
    "ExecuteTime": {
     "end_time": "2022-07-16T06:25:09.828185Z",
     "start_time": "2022-07-16T06:25:09.825289Z"
    }
   },
   "outputs": [],
   "source": [
    "area_1 = np.random.randint(1, 2, size=100).tolist()\n",
    "area_2 = np.random.randint(2, 3, size=150).tolist()\n",
    "area_3 = np.random.randint(3, 4, size=300).tolist()\n",
    "area_4 = np.random.randint(4, 5, size=200).tolist()\n",
    "area_5 = np.random.randint(5, 6, size=250).tolist()\n",
    "li = area_1+area_2+area_3+area_4+area_5\n",
    "random.shuffle(li)\n",
    "\n",
    "customer.region = li"
   ]
  },
  {
   "cell_type": "markdown",
   "id": "bf6d791c",
   "metadata": {
    "ExecuteTime": {
     "end_time": "2022-07-14T12:25:23.887093Z",
     "start_time": "2022-07-14T12:25:23.791326Z"
    },
    "scrolled": true
   },
   "source": [
    "#### 소득 : income"
   ]
  },
  {
   "cell_type": "markdown",
   "id": "6727fa3c",
   "metadata": {
    "ExecuteTime": {
     "end_time": "2022-07-15T05:55:18.033852Z",
     "start_time": "2022-07-15T05:55:17.920643Z"
    },
    "scrolled": true
   },
   "source": [
    "##### 지역별 소득 분포 산정 : 각각 특성에 맞는 정규분포 사용"
   ]
  },
  {
   "cell_type": "code",
   "execution_count": 6,
   "id": "52ad9695",
   "metadata": {
    "ExecuteTime": {
     "end_time": "2022-07-16T06:25:09.940476Z",
     "start_time": "2022-07-16T06:25:09.829120Z"
    }
   },
   "outputs": [],
   "source": [
    "customer.income[customer.region == 1] = np.random.normal(10, 3, 100)*20000\n",
    "customer.income[customer.region == 2] = np.random.normal(10, 2, 150)*10000\n",
    "customer.income[customer.region == 3] = np.random.normal(10, 1, 300)*5000\n",
    "customer.income[customer.region == 4] = np.random.normal(10, 2, 200)*1000\n",
    "customer.income[customer.region == 5] = np.random.normal(10, 0.5, 250)*3000\n",
    "customer.income = customer.income.map(lambda x: int(x))"
   ]
  },
  {
   "cell_type": "markdown",
   "id": "f6885ff5",
   "metadata": {
    "scrolled": true
   },
   "source": [
    "##### 소득 컬럼의 통계 요약"
   ]
  },
  {
   "cell_type": "code",
   "execution_count": 7,
   "id": "214a2806",
   "metadata": {
    "ExecuteTime": {
     "end_time": "2022-07-16T06:25:09.951547Z",
     "start_time": "2022-07-16T06:25:09.944344Z"
    },
    "scrolled": true
   },
   "outputs": [
    {
     "data": {
      "text/html": [
       "<div>\n",
       "<style scoped>\n",
       "    .dataframe tbody tr th:only-of-type {\n",
       "        vertical-align: middle;\n",
       "    }\n",
       "\n",
       "    .dataframe tbody tr th {\n",
       "        vertical-align: top;\n",
       "    }\n",
       "\n",
       "    .dataframe thead th {\n",
       "        text-align: right;\n",
       "    }\n",
       "</style>\n",
       "<table border=\"1\" class=\"dataframe\">\n",
       "  <thead>\n",
       "    <tr style=\"text-align: right;\">\n",
       "      <th></th>\n",
       "      <th>cusno</th>\n",
       "      <th>region</th>\n",
       "      <th>income</th>\n",
       "    </tr>\n",
       "  </thead>\n",
       "  <tbody>\n",
       "    <tr>\n",
       "      <th>count</th>\n",
       "      <td>1000.000000</td>\n",
       "      <td>1000.000000</td>\n",
       "      <td>1000.000000</td>\n",
       "    </tr>\n",
       "    <tr>\n",
       "      <th>mean</th>\n",
       "      <td>10499.500000</td>\n",
       "      <td>3.350000</td>\n",
       "      <td>59596.502000</td>\n",
       "    </tr>\n",
       "    <tr>\n",
       "      <th>std</th>\n",
       "      <td>288.819436</td>\n",
       "      <td>1.276373</td>\n",
       "      <td>59731.930037</td>\n",
       "    </tr>\n",
       "    <tr>\n",
       "      <th>min</th>\n",
       "      <td>10000.000000</td>\n",
       "      <td>1.000000</td>\n",
       "      <td>-17668.000000</td>\n",
       "    </tr>\n",
       "    <tr>\n",
       "      <th>25%</th>\n",
       "      <td>10249.750000</td>\n",
       "      <td>2.750000</td>\n",
       "      <td>28792.250000</td>\n",
       "    </tr>\n",
       "    <tr>\n",
       "      <th>50%</th>\n",
       "      <td>10499.500000</td>\n",
       "      <td>3.000000</td>\n",
       "      <td>44745.000000</td>\n",
       "    </tr>\n",
       "    <tr>\n",
       "      <th>75%</th>\n",
       "      <td>10749.250000</td>\n",
       "      <td>4.250000</td>\n",
       "      <td>61164.000000</td>\n",
       "    </tr>\n",
       "    <tr>\n",
       "      <th>max</th>\n",
       "      <td>10999.000000</td>\n",
       "      <td>5.000000</td>\n",
       "      <td>335608.000000</td>\n",
       "    </tr>\n",
       "  </tbody>\n",
       "</table>\n",
       "</div>"
      ],
      "text/plain": [
       "              cusno       region         income\n",
       "count   1000.000000  1000.000000    1000.000000\n",
       "mean   10499.500000     3.350000   59596.502000\n",
       "std      288.819436     1.276373   59731.930037\n",
       "min    10000.000000     1.000000  -17668.000000\n",
       "25%    10249.750000     2.750000   28792.250000\n",
       "50%    10499.500000     3.000000   44745.000000\n",
       "75%    10749.250000     4.250000   61164.000000\n",
       "max    10999.000000     5.000000  335608.000000"
      ]
     },
     "execution_count": 7,
     "metadata": {},
     "output_type": "execute_result"
    }
   ],
   "source": [
    "customer.describe()"
   ]
  },
  {
   "cell_type": "markdown",
   "id": "ad31b89e",
   "metadata": {},
   "source": [
    "##### 지역별 소득 값 중 이상치 보정"
   ]
  },
  {
   "cell_type": "code",
   "execution_count": 8,
   "id": "1b89f592",
   "metadata": {
    "ExecuteTime": {
     "end_time": "2022-07-16T06:25:10.021096Z",
     "start_time": "2022-07-16T06:25:09.952437Z"
    }
   },
   "outputs": [
    {
     "data": {
      "text/plain": [
       "<AxesSubplot:xlabel='region', ylabel='income'>"
      ]
     },
     "execution_count": 8,
     "metadata": {},
     "output_type": "execute_result"
    },
    {
     "data": {
      "image/png": "[encoded data removed]",
      "text/plain": [
       "<Figure size 432x288 with 1 Axes>"
      ]
     },
     "metadata": {
      "needs_background": "light"
     },
     "output_type": "display_data"
    }
   ],
   "source": [
    "# 지역에 따른 소득 분포 확인 : by boxenplot\n",
    "sns.boxenplot(x='region', y='income', data=customer, color='skyblue')"
   ]
  },
  {
   "cell_type": "code",
   "execution_count": 9,
   "id": "dbbd8e9b",
   "metadata": {
    "ExecuteTime": {
     "end_time": "2022-07-16T06:25:10.041447Z",
     "start_time": "2022-07-16T06:25:10.022162Z"
    }
   },
   "outputs": [
    {
     "name": "stdout",
     "output_type": "stream",
     "text": [
      "1지역 이상치\n",
      "680   -17668\n",
      "863     7718\n",
      "Name: income, dtype: int64\n",
      "2지역 이상치\n",
      "Series([], Name: income, dtype: int64)\n",
      "3지역 이상치\n",
      "9      34983\n",
      "137    32981\n",
      "518    63844\n",
      "Name: income, dtype: int64\n",
      "4지역 이상치\n",
      "184     4461\n",
      "292     4478\n",
      "355     4618\n",
      "430    15424\n",
      "567    17191\n",
      "862    15202\n",
      "Name: income, dtype: int64\n",
      "5지역 이상치\n",
      "94     25639\n",
      "855    25796\n",
      "Name: income, dtype: int64\n"
     ]
    }
   ],
   "source": [
    "# 고객 소득 데이터 이상치 처리\n",
    "for i in range(1, 6):\n",
    "    cus_info = customer[customer.region == i].describe()\n",
    "    Q1 = cus_info[\"income\"][\"25%\"]\n",
    "    Q3 = cus_info[\"income\"][\"75%\"]\n",
    "    IQR = Q3-Q1\n",
    "    print(f'{i}지역 이상치')\n",
    "    mask = (customer[customer.region == i].income <= (Q1 - IQR*1.5)\n",
    "            ) | (customer[customer.region == i].income >= (Q3 + IQR*1.5))\n",
    "    outlier = customer[customer.region == i][mask].income\n",
    "    print(outlier)\n",
    "\n",
    "# lower whisker 보다 작거나, upper whisker 보다 큰 값들을 이상치로 판정\n",
    "# 1지역: 2개\n",
    "# 2지역: 0개\n",
    "# 3지역: 2개\n",
    "# 4지역: 4개\n",
    "# 5지역: 2개\n",
    "\n",
    "# 위와 같이 이상치가 발생하였으나 분석 결과 사전에 설정한 가정에 영향이 없다고 판단되어 보정하지 않음"
   ]
  },
  {
   "cell_type": "markdown",
   "id": "d85ddaec",
   "metadata": {},
   "source": [
    "#### 연령 : age"
   ]
  },
  {
   "cell_type": "markdown",
   "id": "4ccf20d7",
   "metadata": {},
   "source": [
    "##### 지역별 연령 데이터 산정"
   ]
  },
  {
   "cell_type": "code",
   "execution_count": 10,
   "id": "f835015f",
   "metadata": {
    "ExecuteTime": {
     "end_time": "2022-07-16T06:25:10.067167Z",
     "start_time": "2022-07-16T06:25:10.042507Z"
    },
    "scrolled": false
   },
   "outputs": [
    {
     "data": {
      "text/plain": [
       "-1     1\n",
       " 0     2\n",
       " 1     4\n",
       " 2     5\n",
       " 3     7\n",
       "      ..\n",
       " 80    9\n",
       " 81    3\n",
       " 82    5\n",
       " 83    6\n",
       " 84    6\n",
       "Name: age, Length: 81, dtype: int64"
      ]
     },
     "execution_count": 10,
     "metadata": {},
     "output_type": "execute_result"
    }
   ],
   "source": [
    "# 1 지역 연령 데이터 생성\n",
    "age_1_old = np.random.normal(65, 6, 60).tolist()\n",
    "age_1_young = np.random.normal(24, 3, 40).tolist()\n",
    "age_1 = age_1_old + age_1_young\n",
    "customer.age[customer.region == 1] = age_1\n",
    "\n",
    "# 2 지역 연령 데이터 생성\n",
    "age_2_old = np.random.normal(40, 3, 100).tolist()\n",
    "age_2_young = np.random.normal(5, 3, 50).tolist()\n",
    "age_2 = age_2_old + age_2_young\n",
    "customer.age[customer.region == 2] = age_2\n",
    "\n",
    "# # 3 지역 연령 데이터 생성\n",
    "age_3 = np.random.randint(23, 57, size=300).tolist()\n",
    "customer.age[customer.region == 3] = age_3\n",
    "\n",
    "# # 4 지역 연령 데이터 생성\n",
    "age_4 = np.random.randint(20, 28, size=200).tolist()\n",
    "customer.age[customer.region == 4] = age_4\n",
    "\n",
    "# # 5 지역 연령 데이터 생성\n",
    "age_5 = np.random.randint(50, 85, size=250).tolist()\n",
    "customer.age[customer.region == 5] = age_5\n",
    "\n",
    "customer.age = customer.age.map(lambda x: int(x))\n",
    "customer.age.value_counts().sort_index()"
   ]
  },
  {
   "cell_type": "markdown",
   "id": "9fe21241",
   "metadata": {},
   "source": [
    "##### 지역별 연령 중 이상치 보정"
   ]
  },
  {
   "cell_type": "code",
   "execution_count": 11,
   "id": "61f71fcf",
   "metadata": {
    "ExecuteTime": {
     "end_time": "2022-07-16T06:25:10.125914Z",
     "start_time": "2022-07-16T06:25:10.068093Z"
    }
   },
   "outputs": [
    {
     "data": {
      "text/plain": [
       "<AxesSubplot:xlabel='region', ylabel='age'>"
      ]
     },
     "execution_count": 11,
     "metadata": {},
     "output_type": "execute_result"
    },
    {
     "data": {
      "image/png": "[encoded data removed]",
      "text/plain": [
       "<Figure size 432x288 with 1 Axes>"
      ]
     },
     "metadata": {
      "needs_background": "light"
     },
     "output_type": "display_data"
    }
   ],
   "source": [
    "# 지역에 따른 연령 분포 확인 : by boxenplot\n",
    "sns.boxenplot(x='region', y='age', data=customer, color='skyblue')"
   ]
  },
  {
   "cell_type": "code",
   "execution_count": 12,
   "id": "9271fe12",
   "metadata": {
    "ExecuteTime": {
     "end_time": "2022-07-16T06:25:10.152738Z",
     "start_time": "2022-07-16T06:25:10.127381Z"
    }
   },
   "outputs": [
    {
     "name": "stdout",
     "output_type": "stream",
     "text": [
      "1지역 이상치\n",
      "Series([], Name: age, dtype: int64)\n",
      "2지역 이상치\n",
      "Series([], Name: age, dtype: int64)\n",
      "3지역 이상치\n",
      "Series([], Name: age, dtype: int64)\n",
      "4지역 이상치\n",
      "Series([], Name: age, dtype: int64)\n",
      "5지역 이상치\n",
      "Series([], Name: age, dtype: int64)\n"
     ]
    }
   ],
   "source": [
    "# 고객 연령 데이터 이상치 처리\n",
    "for i in range(1, 6):\n",
    "    cus_info = customer[customer.region == i].describe()\n",
    "    Q1 = cus_info[\"age\"][\"25%\"]\n",
    "    Q3 = cus_info[\"age\"][\"75%\"]\n",
    "    IQR = Q3-Q1\n",
    "    print(f'{i}지역 이상치')\n",
    "    mask = (customer[customer.region == i].age <= (Q1 - IQR*1.5)\n",
    "            ) | (customer[customer.region == i].age >= (Q3 + IQR*1.5))\n",
    "    outlier = customer[customer.region == i][mask].age\n",
    "    print(outlier)\n",
    "\n",
    "# lower whisker 보다 작거나, upper whisker 보다 큰 값들을 이상치로 판정\n",
    "# 1지역: 0개\n",
    "# 2지역: 0개\n",
    "# 3지역: 0개\n",
    "# 4지역: 0개\n",
    "# 5지역: 0개\n",
    "\n",
    "# 위와 같이 이상치가 발생하였으나 분석 결과 사전에 설정한 가정에 영향이 없다고 판단되어 보정하지 않음"
   ]
  },
  {
   "cell_type": "code",
   "execution_count": 13,
   "id": "45d71073",
   "metadata": {
    "ExecuteTime": {
     "end_time": "2022-07-16T06:25:10.159085Z",
     "start_time": "2022-07-16T06:25:10.154310Z"
    }
   },
   "outputs": [
    {
     "data": {
      "text/plain": [
       "0     2\n",
       "1     5\n",
       "2     5\n",
       "3     7\n",
       "4     5\n",
       "     ..\n",
       "80    9\n",
       "81    3\n",
       "82    5\n",
       "83    6\n",
       "84    6\n",
       "Name: age, Length: 80, dtype: int64"
      ]
     },
     "execution_count": 13,
     "metadata": {},
     "output_type": "execute_result"
    }
   ],
   "source": [
    "# 추가 이상치 검증 : 나이가 음수인 이상치를 절대값을 이용하여 유효한 값으로 보정\n",
    "customer[customer.age <= 0] = abs(customer[customer.age <= 0])\n",
    "customer.age.value_counts().sort_index()"
   ]
  },
  {
   "cell_type": "markdown",
   "id": "b2425b84",
   "metadata": {},
   "source": [
    "#### 성별 : gender"
   ]
  },
  {
   "cell_type": "markdown",
   "id": "a54dd7e3",
   "metadata": {},
   "source": [
    "##### 지역별 성별 데이터 산정"
   ]
  },
  {
   "cell_type": "code",
   "execution_count": 14,
   "id": "9cceac25",
   "metadata": {
    "ExecuteTime": {
     "end_time": "2022-07-16T06:25:10.184794Z",
     "start_time": "2022-07-16T06:25:10.160072Z"
    }
   },
   "outputs": [
    {
     "data": {
      "text/plain": [
       "0    517\n",
       "1    483\n",
       "Name: gender, dtype: int64"
      ]
     },
     "execution_count": 14,
     "metadata": {},
     "output_type": "execute_result"
    }
   ],
   "source": [
    "# 1 지역 성별 데이터 생성\n",
    "gender_1_male = np.random.randint(0, 1, size=40).tolist()\n",
    "gender_1_female = np.random.randint(1, 2, size=60).tolist()\n",
    "gender_1 = gender_1_male + gender_1_female\n",
    "random.shuffle(gender_1)\n",
    "customer.gender[customer.region == 1] = gender_1\n",
    "\n",
    "# 2 지역 성별 데이터 생성\n",
    "gender_2 = np.random.randint(0, 2, size=150)\n",
    "customer.gender[customer.region == 2] = gender_2\n",
    "\n",
    "# 3 지역 성별 데이터 생성\n",
    "gender_3 = np.random.randint(0, 2, size=300)\n",
    "customer.gender[customer.region == 3] = gender_3\n",
    "\n",
    "# 4 지역 성별 데이터 생성\n",
    "gender_4 = np.random.randint(0, 2, size=200)\n",
    "customer.gender[customer.region == 4] = gender_4\n",
    "\n",
    "# 5 지역 성별 데이터 생성\n",
    "gender_5 = np.random.randint(0, 2, size=250)\n",
    "customer.gender[customer.region == 5] = gender_5\n",
    "\n",
    "customer.gender = customer.gender.map(lambda x: int(x))\n",
    "customer.gender.value_counts().sort_index()"
   ]
  },
  {
   "cell_type": "markdown",
   "id": "abb226d1",
   "metadata": {
    "ExecuteTime": {
     "end_time": "2022-07-14T08:36:50.831874Z",
     "start_time": "2022-07-14T08:36:50.829616Z"
    }
   },
   "source": [
    "## 상품 목록 데이터프레임 만들기"
   ]
  },
  {
   "cell_type": "markdown",
   "id": "6bf265c0",
   "metadata": {},
   "source": [
    "### 상품 목록 데이터프레임 양식 만들기"
   ]
  },
  {
   "cell_type": "code",
   "execution_count": 15,
   "id": "59da8691",
   "metadata": {
    "ExecuteTime": {
     "end_time": "2022-07-16T06:25:10.189813Z",
     "start_time": "2022-07-16T06:25:10.185971Z"
    }
   },
   "outputs": [
    {
     "data": {
      "text/html": [
       "<div>\n",
       "<style scoped>\n",
       "    .dataframe tbody tr th:only-of-type {\n",
       "        vertical-align: middle;\n",
       "    }\n",
       "\n",
       "    .dataframe tbody tr th {\n",
       "        vertical-align: top;\n",
       "    }\n",
       "\n",
       "    .dataframe thead th {\n",
       "        text-align: right;\n",
       "    }\n",
       "</style>\n",
       "<table border=\"1\" class=\"dataframe\">\n",
       "  <thead>\n",
       "    <tr style=\"text-align: right;\">\n",
       "      <th></th>\n",
       "      <th>product_num</th>\n",
       "      <th>price</th>\n",
       "      <th>price_grade</th>\n",
       "    </tr>\n",
       "  </thead>\n",
       "  <tbody>\n",
       "  </tbody>\n",
       "</table>\n",
       "</div>"
      ],
      "text/plain": [
       "Empty DataFrame\n",
       "Columns: [product_num, price, price_grade]\n",
       "Index: []"
      ]
     },
     "execution_count": 15,
     "metadata": {},
     "output_type": "execute_result"
    }
   ],
   "source": [
    "product = pd.DataFrame(columns=['product_num', 'price', 'price_grade'])\n",
    "product"
   ]
  },
  {
   "cell_type": "markdown",
   "id": "74d62afd",
   "metadata": {},
   "source": [
    "### 상품 목록 데이터프레임 데이터 채우기"
   ]
  },
  {
   "cell_type": "markdown",
   "id": "f9b1157c",
   "metadata": {
    "ExecuteTime": {
     "end_time": "2022-07-15T07:57:46.018692Z",
     "start_time": "2022-07-15T07:57:45.985750Z"
    },
    "scrolled": true
   },
   "source": [
    "#### 상품 코드 : product_num"
   ]
  },
  {
   "cell_type": "code",
   "execution_count": 16,
   "id": "22f103b1",
   "metadata": {
    "ExecuteTime": {
     "end_time": "2022-07-16T06:25:10.193043Z",
     "start_time": "2022-07-16T06:25:10.190986Z"
    }
   },
   "outputs": [],
   "source": [
    "product_num = np.arange(1, 101)\n",
    "product.product_num = product_num"
   ]
  },
  {
   "cell_type": "markdown",
   "id": "044a9589",
   "metadata": {},
   "source": [
    "#### 가격 : price"
   ]
  },
  {
   "cell_type": "code",
   "execution_count": 17,
   "id": "95a8b704",
   "metadata": {
    "ExecuteTime": {
     "end_time": "2022-07-16T06:25:10.197136Z",
     "start_time": "2022-07-16T06:25:10.193885Z"
    }
   },
   "outputs": [],
   "source": [
    "price = random.sample(list(range(1000, 100000)), 100)\n",
    "product.price = price"
   ]
  },
  {
   "cell_type": "markdown",
   "id": "318a47fb",
   "metadata": {},
   "source": []
  },
  {
   "cell_type": "markdown",
   "id": "5aa7dc66",
   "metadata": {},
   "source": [
    "## 거래 데이터 만들기"
   ]
  },
  {
   "cell_type": "markdown",
   "id": "5b1302f7",
   "metadata": {},
   "source": [
    "### 거래 데이터프레임 만들기"
   ]
  },
  {
   "cell_type": "markdown",
   "id": "e6262da4",
   "metadata": {},
   "source": [
    "#### 거래 데이터프레임 양식 만들기"
   ]
  },
  {
   "cell_type": "code",
   "execution_count": 18,
   "id": "16ab68e0",
   "metadata": {
    "ExecuteTime": {
     "end_time": "2022-07-16T06:25:10.202620Z",
     "start_time": "2022-07-16T06:25:10.198155Z"
    }
   },
   "outputs": [
    {
     "data": {
      "text/html": [
       "<div>\n",
       "<style scoped>\n",
       "    .dataframe tbody tr th:only-of-type {\n",
       "        vertical-align: middle;\n",
       "    }\n",
       "\n",
       "    .dataframe tbody tr th {\n",
       "        vertical-align: top;\n",
       "    }\n",
       "\n",
       "    .dataframe thead th {\n",
       "        text-align: right;\n",
       "    }\n",
       "</style>\n",
       "<table border=\"1\" class=\"dataframe\">\n",
       "  <thead>\n",
       "    <tr style=\"text-align: right;\">\n",
       "      <th></th>\n",
       "      <th>ts_num</th>\n",
       "      <th>ts_cusno</th>\n",
       "      <th>ts_product_num</th>\n",
       "      <th>quantity</th>\n",
       "      <th>amount</th>\n",
       "      <th>date</th>\n",
       "      <th>year</th>\n",
       "      <th>day</th>\n",
       "      <th>time</th>\n",
       "    </tr>\n",
       "  </thead>\n",
       "  <tbody>\n",
       "  </tbody>\n",
       "</table>\n",
       "</div>"
      ],
      "text/plain": [
       "Empty DataFrame\n",
       "Columns: [ts_num, ts_cusno, ts_product_num, quantity, amount, date, year, day, time]\n",
       "Index: []"
      ]
     },
     "execution_count": 18,
     "metadata": {},
     "output_type": "execute_result"
    }
   ],
   "source": [
    "purchase = pd.DataFrame(columns=['ts_num', 'ts_cusno', 'ts_product_num', 'quantity','amount', 'date', 'year', 'day', 'time'])\n",
    "purchase"
   ]
  },
  {
   "cell_type": "markdown",
   "id": "8f2d0c5f",
   "metadata": {},
   "source": [
    "#### 거래 데이터프레임 데이터 채우기"
   ]
  },
  {
   "cell_type": "markdown",
   "id": "53fbd3a0",
   "metadata": {},
   "source": [
    "##### 날짜,요일,시간 : date, day, time"
   ]
  },
  {
   "cell_type": "code",
   "execution_count": 19,
   "id": "ffcaa723",
   "metadata": {
    "ExecuteTime": {
     "end_time": "2022-07-16T06:25:10.338458Z",
     "start_time": "2022-07-16T06:25:10.203497Z"
    }
   },
   "outputs": [
    {
     "data": {
      "text/html": [
       "<div>\n",
       "<style scoped>\n",
       "    .dataframe tbody tr th:only-of-type {\n",
       "        vertical-align: middle;\n",
       "    }\n",
       "\n",
       "    .dataframe tbody tr th {\n",
       "        vertical-align: top;\n",
       "    }\n",
       "\n",
       "    .dataframe thead th {\n",
       "        text-align: right;\n",
       "    }\n",
       "</style>\n",
       "<table border=\"1\" class=\"dataframe\">\n",
       "  <thead>\n",
       "    <tr style=\"text-align: right;\">\n",
       "      <th></th>\n",
       "      <th>ts_num</th>\n",
       "      <th>ts_cusno</th>\n",
       "      <th>ts_product_num</th>\n",
       "      <th>quantity</th>\n",
       "      <th>amount</th>\n",
       "      <th>date</th>\n",
       "      <th>year</th>\n",
       "      <th>day</th>\n",
       "      <th>time</th>\n",
       "    </tr>\n",
       "  </thead>\n",
       "  <tbody>\n",
       "    <tr>\n",
       "      <th>0</th>\n",
       "      <td>NaN</td>\n",
       "      <td>NaN</td>\n",
       "      <td>NaN</td>\n",
       "      <td>NaN</td>\n",
       "      <td>NaN</td>\n",
       "      <td>2021-02-15</td>\n",
       "      <td>2021</td>\n",
       "      <td>0</td>\n",
       "      <td>1</td>\n",
       "    </tr>\n",
       "    <tr>\n",
       "      <th>1</th>\n",
       "      <td>NaN</td>\n",
       "      <td>NaN</td>\n",
       "      <td>NaN</td>\n",
       "      <td>NaN</td>\n",
       "      <td>NaN</td>\n",
       "      <td>2021-08-06</td>\n",
       "      <td>2021</td>\n",
       "      <td>4</td>\n",
       "      <td>7</td>\n",
       "    </tr>\n",
       "    <tr>\n",
       "      <th>2</th>\n",
       "      <td>NaN</td>\n",
       "      <td>NaN</td>\n",
       "      <td>NaN</td>\n",
       "      <td>NaN</td>\n",
       "      <td>NaN</td>\n",
       "      <td>2021-07-14</td>\n",
       "      <td>2021</td>\n",
       "      <td>2</td>\n",
       "      <td>2</td>\n",
       "    </tr>\n",
       "    <tr>\n",
       "      <th>3</th>\n",
       "      <td>NaN</td>\n",
       "      <td>NaN</td>\n",
       "      <td>NaN</td>\n",
       "      <td>NaN</td>\n",
       "      <td>NaN</td>\n",
       "      <td>2021-05-01</td>\n",
       "      <td>2021</td>\n",
       "      <td>5</td>\n",
       "      <td>23</td>\n",
       "    </tr>\n",
       "    <tr>\n",
       "      <th>4</th>\n",
       "      <td>NaN</td>\n",
       "      <td>NaN</td>\n",
       "      <td>NaN</td>\n",
       "      <td>NaN</td>\n",
       "      <td>NaN</td>\n",
       "      <td>2020-08-29</td>\n",
       "      <td>2020</td>\n",
       "      <td>5</td>\n",
       "      <td>4</td>\n",
       "    </tr>\n",
       "    <tr>\n",
       "      <th>...</th>\n",
       "      <td>...</td>\n",
       "      <td>...</td>\n",
       "      <td>...</td>\n",
       "      <td>...</td>\n",
       "      <td>...</td>\n",
       "      <td>...</td>\n",
       "      <td>...</td>\n",
       "      <td>...</td>\n",
       "      <td>...</td>\n",
       "    </tr>\n",
       "    <tr>\n",
       "      <th>9995</th>\n",
       "      <td>NaN</td>\n",
       "      <td>NaN</td>\n",
       "      <td>NaN</td>\n",
       "      <td>NaN</td>\n",
       "      <td>NaN</td>\n",
       "      <td>2020-12-10</td>\n",
       "      <td>2020</td>\n",
       "      <td>3</td>\n",
       "      <td>23</td>\n",
       "    </tr>\n",
       "    <tr>\n",
       "      <th>9996</th>\n",
       "      <td>NaN</td>\n",
       "      <td>NaN</td>\n",
       "      <td>NaN</td>\n",
       "      <td>NaN</td>\n",
       "      <td>NaN</td>\n",
       "      <td>2021-07-25</td>\n",
       "      <td>2021</td>\n",
       "      <td>6</td>\n",
       "      <td>3</td>\n",
       "    </tr>\n",
       "    <tr>\n",
       "      <th>9997</th>\n",
       "      <td>NaN</td>\n",
       "      <td>NaN</td>\n",
       "      <td>NaN</td>\n",
       "      <td>NaN</td>\n",
       "      <td>NaN</td>\n",
       "      <td>2020-10-07</td>\n",
       "      <td>2020</td>\n",
       "      <td>2</td>\n",
       "      <td>10</td>\n",
       "    </tr>\n",
       "    <tr>\n",
       "      <th>9998</th>\n",
       "      <td>NaN</td>\n",
       "      <td>NaN</td>\n",
       "      <td>NaN</td>\n",
       "      <td>NaN</td>\n",
       "      <td>NaN</td>\n",
       "      <td>2020-01-16</td>\n",
       "      <td>2020</td>\n",
       "      <td>3</td>\n",
       "      <td>13</td>\n",
       "    </tr>\n",
       "    <tr>\n",
       "      <th>9999</th>\n",
       "      <td>NaN</td>\n",
       "      <td>NaN</td>\n",
       "      <td>NaN</td>\n",
       "      <td>NaN</td>\n",
       "      <td>NaN</td>\n",
       "      <td>2021-12-29</td>\n",
       "      <td>2021</td>\n",
       "      <td>2</td>\n",
       "      <td>6</td>\n",
       "    </tr>\n",
       "  </tbody>\n",
       "</table>\n",
       "<p>10000 rows × 9 columns</p>\n",
       "</div>"
      ],
      "text/plain": [
       "     ts_num ts_cusno ts_product_num quantity amount       date  year  day  \\\n",
       "0       NaN      NaN            NaN      NaN    NaN 2021-02-15  2021    0   \n",
       "1       NaN      NaN            NaN      NaN    NaN 2021-08-06  2021    4   \n",
       "2       NaN      NaN            NaN      NaN    NaN 2021-07-14  2021    2   \n",
       "3       NaN      NaN            NaN      NaN    NaN 2021-05-01  2021    5   \n",
       "4       NaN      NaN            NaN      NaN    NaN 2020-08-29  2020    5   \n",
       "...     ...      ...            ...      ...    ...        ...   ...  ...   \n",
       "9995    NaN      NaN            NaN      NaN    NaN 2020-12-10  2020    3   \n",
       "9996    NaN      NaN            NaN      NaN    NaN 2021-07-25  2021    6   \n",
       "9997    NaN      NaN            NaN      NaN    NaN 2020-10-07  2020    2   \n",
       "9998    NaN      NaN            NaN      NaN    NaN 2020-01-16  2020    3   \n",
       "9999    NaN      NaN            NaN      NaN    NaN 2021-12-29  2021    2   \n",
       "\n",
       "      time  \n",
       "0        1  \n",
       "1        7  \n",
       "2        2  \n",
       "3       23  \n",
       "4        4  \n",
       "...    ...  \n",
       "9995    23  \n",
       "9996     3  \n",
       "9997    10  \n",
       "9998    13  \n",
       "9999     6  \n",
       "\n",
       "[10000 rows x 9 columns]"
      ]
     },
     "execution_count": 19,
     "metadata": {},
     "output_type": "execute_result"
    }
   ],
   "source": [
    "from datetime import datetime\n",
    "# date\n",
    "date_list_20 = list(pd.date_range('2020-01-01', '2020-12-31', freq='H'))\n",
    "date_list_21 = list(pd.date_range('2021-01-01', '2021-12-31', freq='H'))\n",
    "date_20 = np.random.choice(date_list_20, size=6000).tolist()\n",
    "date_21 = np.random.choice(date_list_21, size=4000).tolist()\n",
    "date = date_20 + date_21\n",
    "random.shuffle(date)\n",
    "date = pd.Series(date)\n",
    "\n",
    "# date 중에서 년월일만 추출\n",
    "purchase.date = date.map(lambda x:datetime.strptime(datetime.strftime(x, '%Y-%m-%d'), '%Y-%m-%d'))\n",
    "\n",
    "# year(년도)\n",
    "purchase.year = purchase.date.dt.year\n",
    "\n",
    "# day(요일)\n",
    "purchase.day = purchase.date.dt.weekday\n",
    "\n",
    "# 시간\n",
    "time = date.map(lambda x: x.hour)\n",
    "purchase.time = time\n",
    "\n",
    "purchase"
   ]
  },
  {
   "cell_type": "markdown",
   "id": "e792258b",
   "metadata": {},
   "source": [
    "##### 거래 번호 : ts_num"
   ]
  },
  {
   "cell_type": "code",
   "execution_count": 20,
   "id": "20ee8393",
   "metadata": {
    "ExecuteTime": {
     "end_time": "2022-07-16T06:25:10.341478Z",
     "start_time": "2022-07-16T06:25:10.339405Z"
    }
   },
   "outputs": [],
   "source": [
    "ts_num = np.arange(0, 10000)\n",
    "purchase.ts_num = ts_num"
   ]
  },
  {
   "cell_type": "markdown",
   "id": "750bbe5d",
   "metadata": {},
   "source": [
    "##### 고객번호 : ts_cusno"
   ]
  },
  {
   "cell_type": "code",
   "execution_count": 21,
   "id": "6b6ca022",
   "metadata": {
    "ExecuteTime": {
     "end_time": "2022-07-16T06:25:10.346388Z",
     "start_time": "2022-07-16T06:25:10.344486Z"
    }
   },
   "outputs": [],
   "source": [
    "# 기존 cusno가 중복될 수 있도록 만들기\n",
    "ts_cusno = np.random.choice(list(cusno), size=10000)\n",
    "purchase.ts_cusno = ts_cusno"
   ]
  },
  {
   "cell_type": "markdown",
   "id": "827579a3",
   "metadata": {},
   "source": [
    "##### 상품코드 : ts_product_num"
   ]
  },
  {
   "cell_type": "code",
   "execution_count": 22,
   "id": "f069add6",
   "metadata": {
    "ExecuteTime": {
     "end_time": "2022-07-16T06:25:10.598680Z",
     "start_time": "2022-07-16T06:25:10.347937Z"
    }
   },
   "outputs": [
    {
     "ename": "ValueError",
     "evalue": "'a' cannot be empty unless no samples are taken",
     "output_type": "error",
     "traceback": [
      "\u001b[0;31m---------------------------------------------------------------------------\u001b[0m",
      "\u001b[0;31mValueError\u001b[0m                                Traceback (most recent call last)",
      "Input \u001b[0;32mIn [22]\u001b[0m, in \u001b[0;36m<cell line: 9>\u001b[0;34m()\u001b[0m\n\u001b[1;32m      6\u001b[0m price_grade_3 \u001b[38;5;241m=\u001b[39m product[product[\u001b[38;5;124m'\u001b[39m\u001b[38;5;124mprice_grade\u001b[39m\u001b[38;5;124m'\u001b[39m]\u001b[38;5;241m==\u001b[39m \u001b[38;5;124m'\u001b[39m\u001b[38;5;124m3\u001b[39m\u001b[38;5;124m'\u001b[39m]\u001b[38;5;241m.\u001b[39mproduct_num\u001b[38;5;241m.\u001b[39mtolist()\n\u001b[1;32m      7\u001b[0m price_grade_3\n\u001b[0;32m----> 9\u001b[0m price_grade_1_20 \u001b[38;5;241m=\u001b[39m \u001b[43mnp\u001b[49m\u001b[38;5;241;43m.\u001b[39;49m\u001b[43mrandom\u001b[49m\u001b[38;5;241;43m.\u001b[39;49m\u001b[43mchoice\u001b[49m\u001b[43m(\u001b[49m\u001b[43mprice_grade_1\u001b[49m\u001b[43m,\u001b[49m\u001b[43m \u001b[49m\u001b[38;5;241;43m1000\u001b[39;49m\u001b[43m)\u001b[49m\u001b[38;5;241m.\u001b[39mtolist()\n\u001b[1;32m     10\u001b[0m price_grade_2_20 \u001b[38;5;241m=\u001b[39m np\u001b[38;5;241m.\u001b[39mrandom\u001b[38;5;241m.\u001b[39mchoice(price_grade_2, \u001b[38;5;241m2000\u001b[39m)\u001b[38;5;241m.\u001b[39mtolist()\n\u001b[1;32m     11\u001b[0m price_grade_3_20 \u001b[38;5;241m=\u001b[39m np\u001b[38;5;241m.\u001b[39mrandom\u001b[38;5;241m.\u001b[39mchoice(price_grade_3, \u001b[38;5;241m3000\u001b[39m)\u001b[38;5;241m.\u001b[39mtolist()\n",
      "File \u001b[0;32mmtrand.pyx:915\u001b[0m, in \u001b[0;36mnumpy.random.mtrand.RandomState.choice\u001b[0;34m()\u001b[0m\n",
      "\u001b[0;31mValueError\u001b[0m: 'a' cannot be empty unless no samples are taken"
     ]
    }
   ],
   "source": [
    "ts_product_num = np.random.choice(list(product_num), size=10000)\n",
    "purchase.ts_product_num = ts_product_num\n",
    "\n",
    "price_grade_1 = product[product['price_grade']== '1'].product_num.tolist()\n",
    "price_grade_2 = product[product['price_grade']== '2'].product_num.tolist()\n",
    "price_grade_3 = product[product['price_grade']== '3'].product_num.tolist()\n",
    "price_grade_3\n",
    "\n",
    "price_grade_1_20 = np.random.choice(price_grade_1, 1000).tolist()\n",
    "price_grade_2_20 = np.random.choice(price_grade_2, 2000).tolist()\n",
    "price_grade_3_20 = np.random.choice(price_grade_3, 3000).tolist()\n",
    "ts_product_num_20 = price_grade_1_20 + price_grade_2_20 + price_grade_3_20\n",
    "random.shuffle(ts_product_num_20)\n",
    "purchase[purchase['year'] == 2020].ts_product_num = ts_product_num_20\n",
    "\n",
    "price_grade_1_21 = np.random.choice(price_grade_1, 2000).tolist()\n",
    "price_grade_2_21 = np.random.choice(price_grade_2, 1000).tolist()\n",
    "price_grade_3_21 = np.random.choice(price_grade_3, 1000).tolist()\n",
    "ts_product_num_21 = price_grade_1_21 + price_grade_2_21 + price_grade_3_21\n",
    "random.shuffle(ts_product_num_21)\n",
    "purchase[purchase['year'] == 2021].ts_product_num = ts_product_num_21\n"
   ]
  },
  {
   "cell_type": "markdown",
   "id": "565eca08",
   "metadata": {},
   "source": [
    "##### 구매수량 : quantity"
   ]
  },
  {
   "cell_type": "code",
   "execution_count": null,
   "id": "e45a3670",
   "metadata": {
    "ExecuteTime": {
     "end_time": "2022-07-16T06:25:10.600515Z",
     "start_time": "2022-07-16T06:25:09.031Z"
    }
   },
   "outputs": [],
   "source": [
    "# 2020년 구매수량 데이터 생성\n",
    "a_20 = np.random.randint(1, 4, size=4500).tolist()\n",
    "b_20 = np.random.randint(4, 7, size=3500).tolist()\n",
    "c_20 = np.random.randint(7, 10, size=2000).tolist()\n",
    "li_20 = a_20+b_20+c_20\n",
    "random.shuffle(li_20)\n",
    "purchase.quantity[purchase.year == 2020] = li_20\n",
    "\n",
    "## 2021년 구매수량 데이터 생성\n",
    "a_21 = np.random.randint(1, 4, size=6500).tolist()\n",
    "b_21 = np.random.randint(4, 7, size=2500).tolist()\n",
    "c_21 = np.random.randint(7, 10, size=1000).tolist()\n",
    "li_21 = a_21+b_21+c_21\n",
    "random.shuffle(li_21)\n",
    "purchase.quantity[purchase.year == 2021] = li_21\n"
   ]
  },
  {
   "cell_type": "markdown",
   "id": "cd3af3e5",
   "metadata": {},
   "source": [
    "## 종속변수 데이터 생성"
   ]
  },
  {
   "cell_type": "markdown",
   "id": "6b848d1c",
   "metadata": {},
   "source": [
    "### 상품 목록 데이터프레임 종속변수"
   ]
  },
  {
   "cell_type": "markdown",
   "id": "9a0d2454",
   "metadata": {},
   "source": [
    "#### 상품 가격 분류 : product_grade"
   ]
  },
  {
   "cell_type": "code",
   "execution_count": null,
   "id": "921b4474",
   "metadata": {
    "ExecuteTime": {
     "end_time": "2022-07-16T06:25:10.601255Z",
     "start_time": "2022-07-16T06:25:09.032Z"
    },
    "scrolled": false
   },
   "outputs": [],
   "source": [
    "# price_grade : 고가품 : 1, 중가품 : 2, 저가품 : 3\n",
    "\n",
    "def price_grade(x):\n",
    "    y = 0\n",
    "    if x <= 20000:\n",
    "        y = '3'\n",
    "    elif x <= 50000:\n",
    "        y = '2'\n",
    "    else:\n",
    "        y = '1'\n",
    "    return y\n",
    "\n",
    "\n",
    "product['price_grade'] = product['price'].apply(price_grade)\n",
    "product"
   ]
  },
  {
   "cell_type": "markdown",
   "id": "7e195abb",
   "metadata": {},
   "source": [
    "### 거래 데이터프레임 종속변수"
   ]
  },
  {
   "cell_type": "markdown",
   "id": "1ccec2ae",
   "metadata": {},
   "source": [
    "#### 거래별 거래총액"
   ]
  },
  {
   "cell_type": "code",
   "execution_count": null,
   "id": "13b5f66c",
   "metadata": {
    "ExecuteTime": {
     "end_time": "2022-07-16T06:25:10.601893Z",
     "start_time": "2022-07-16T06:25:09.033Z"
    },
    "scrolled": true
   },
   "outputs": [],
   "source": [
    "def amount(x):\n",
    "    a = product[product.product_num ==  x].price\n",
    "    a = str(a).split()[1]\n",
    "    return int(a)\n",
    "    \n",
    "b = purchase.ts_product_num.map(amount)\n",
    "b = pd.Series(b)\n",
    "\n",
    "purchase['amount'] = b*purchase.quantity\n",
    "purchase"
   ]
  },
  {
   "cell_type": "markdown",
   "id": "84d47542",
   "metadata": {},
   "source": [
    "### 고객 데이터프레임 종속변수"
   ]
  },
  {
   "cell_type": "markdown",
   "id": "7a91c4cd",
   "metadata": {},
   "source": [
    "#### 년도별 고객별 연간 매출액 : ASC_20, ASC_21"
   ]
  },
  {
   "cell_type": "code",
   "execution_count": null,
   "id": "d2e3dca6",
   "metadata": {
    "ExecuteTime": {
     "end_time": "2022-07-16T06:25:10.602575Z",
     "start_time": "2022-07-16T06:25:09.035Z"
    }
   },
   "outputs": [],
   "source": [
    "li_2020 = []\n",
    "li_2021 = []\n",
    "for i in range(10000,11000):\n",
    "    a = purchase[(purchase['ts_cusno']== i)&(purchase[\"year\"] == 2020)]\n",
    "    b = purchase[(purchase['ts_cusno']== i)&(purchase[\"year\"] == 2021)]\n",
    "    li_2020.append(a.sum()[4])\n",
    "    li_2021.append(b.sum()[4])\n",
    "    \n",
    "customer.ASC_20 = li_2020\n",
    "customer.ASC_21 = li_2021\n"
   ]
  },
  {
   "cell_type": "markdown",
   "id": "f2ef7ee3",
   "metadata": {},
   "source": [
    "#### 년도별 고객 등급 : grade_20, grade_21"
   ]
  },
  {
   "cell_type": "code",
   "execution_count": null,
   "id": "460aae28",
   "metadata": {
    "ExecuteTime": {
     "end_time": "2022-07-16T06:25:10.603188Z",
     "start_time": "2022-07-16T06:25:09.035Z"
    },
    "scrolled": true
   },
   "outputs": [],
   "source": [
    "# 고객 등급 선정\n",
    "bin_dividers = np.linspace(customer.ASC_20.min(), customer.ASC_20.max(), 4)\n",
    "bin_names = ['Silver', 'Gold', 'VIP']  # qcut\n",
    "customer['grade_20'] = pd.cut(x=customer.ASC_20,  # 데이터 배열\n",
    "                              bins=bin_dividers,  # 경계값 리스트\n",
    "                              labels=bin_names,  # bin 이름\n",
    "                              include_lowest=True)  # 첫 경계값 포함 여부\n",
    "\n",
    "bin_dividers = np.linspace(customer.ASC_21.min(), customer.ASC_21.max(), 4)\n",
    "bin_names = ['Silver', 'Gold', 'VIP']\n",
    "customer['grade_21'] = pd.cut(x=customer.ASC_21,  # 데이터 배열\n",
    "                              bins=bin_dividers,  # 경계값 리스트\n",
    "                              labels=bin_names,  # bin 이름\n",
    "                              include_lowest=True)  # 첫 경계값 포함 여부\n"
   ]
  },
  {
   "cell_type": "markdown",
   "id": "3ac769fc",
   "metadata": {},
   "source": [
    "#### 년도별 고객별 연간 방문 횟수 : AVC_20, AVC_21"
   ]
  },
  {
   "cell_type": "code",
   "execution_count": null,
   "id": "3611c56d",
   "metadata": {
    "ExecuteTime": {
     "end_time": "2022-07-16T06:25:10.603757Z",
     "start_time": "2022-07-16T06:25:09.037Z"
    }
   },
   "outputs": [],
   "source": [
    "li_2020 = []\n",
    "li_2021 = []\n",
    "for i in range(10000,11000):\n",
    "    a = purchase[(purchase['ts_cusno']== i)&(purchase[\"year\"] == 2020)]\n",
    "    li_2020.append(len(a))\n",
    "    a = purchase[(purchase['ts_cusno']== i)&(purchase[\"year\"] == 2021)]\n",
    "    li_2021.append(len(a))\n",
    "    \n",
    "customer.AVC_20 = li_2020\n",
    "customer.AVC_21 = li_2021\n",
    "\n",
    "\n",
    "customer"
   ]
  },
  {
   "cell_type": "markdown",
   "id": "4f27a477",
   "metadata": {},
   "source": [
    "#### 년도별 고객별 회당 평균 결제액 : ARPPU_20, ARPPU_21"
   ]
  },
  {
   "cell_type": "code",
   "execution_count": null,
   "id": "4ef8da17",
   "metadata": {
    "ExecuteTime": {
     "end_time": "2022-07-16T06:25:10.604299Z",
     "start_time": "2022-07-16T06:25:09.038Z"
    }
   },
   "outputs": [],
   "source": [
    "customer.ARPPU_20 = (customer.ASC_20 / customer.AVC_20).round(2)\n",
    "customer.ARPPU_21 = (customer.ASC_21 / customer.AVC_21).round(2)\n",
    "customer"
   ]
  },
  {
   "cell_type": "markdown",
   "id": "f83339e6",
   "metadata": {},
   "source": [
    "#### 고객별 구매 추세 변화 : purchase_trend"
   ]
  },
  {
   "cell_type": "code",
   "execution_count": null,
   "id": "8866f5d2",
   "metadata": {
    "ExecuteTime": {
     "end_time": "2022-07-16T06:25:10.604858Z",
     "start_time": "2022-07-16T06:25:09.040Z"
    }
   },
   "outputs": [],
   "source": [
    "customer.purchase_trend = (customer.ASC_21 > customer.ASC_20)\n",
    "customer"
   ]
  },
  {
   "cell_type": "markdown",
   "id": "50ea8baa",
   "metadata": {},
   "source": [
    "## DataFrame 확인"
   ]
  },
  {
   "cell_type": "code",
   "execution_count": null,
   "id": "6a47bebb",
   "metadata": {
    "ExecuteTime": {
     "end_time": "2022-07-16T06:25:10.605373Z",
     "start_time": "2022-07-16T06:25:09.041Z"
    },
    "scrolled": true
   },
   "outputs": [],
   "source": [
    "customer"
   ]
  },
  {
   "cell_type": "code",
   "execution_count": null,
   "id": "30ca7502",
   "metadata": {
    "ExecuteTime": {
     "end_time": "2022-07-16T06:25:10.606037Z",
     "start_time": "2022-07-16T06:25:09.042Z"
    }
   },
   "outputs": [],
   "source": [
    "product"
   ]
  },
  {
   "cell_type": "code",
   "execution_count": null,
   "id": "bc7ae713",
   "metadata": {
    "ExecuteTime": {
     "end_time": "2022-07-16T06:25:10.606639Z",
     "start_time": "2022-07-16T06:25:09.044Z"
    },
    "scrolled": true
   },
   "outputs": [],
   "source": [
    "purchase"
   ]
  },
  {
   "cell_type": "code",
   "execution_count": null,
   "id": "b3245d19",
   "metadata": {},
   "outputs": [],
   "source": []
  },
  {
   "cell_type": "markdown",
   "id": "c9111cf2",
   "metadata": {},
   "source": [
    "## 데이터 분석 및 시각화"
   ]
  },
  {
   "cell_type": "code",
   "execution_count": null,
   "id": "00a39a58",
   "metadata": {
    "ExecuteTime": {
     "end_time": "2022-07-16T06:25:10.607315Z",
     "start_time": "2022-07-16T06:25:09.045Z"
    }
   },
   "outputs": [],
   "source": [
    "\n",
    "dff_date = purchase.date.unique()\n",
    "dff_date = pd.Series(dff_date, name='a')\n",
    "dff_date = dff_date.sort_values()\n",
    "dff_date.reset_index(drop=True, inplace=True)\n",
    "dff_date\n",
    "li = []\n",
    "for i in dff_date:\n",
    "    c = purchase[(purchase['date']== i)].amount.sum()\n",
    "    li.append(c)\n",
    "\n",
    "li = pd.Series(li, name='b')\n",
    "li = li.cumsum()\n",
    "li\n",
    "df = pd.concat([dff_date, li], axis = 1)\n",
    "df.set_index('a', inplace=True)\n",
    "df\n",
    "df.plot()"
   ]
  },
  {
   "cell_type": "code",
   "execution_count": null,
   "id": "143aeeb5",
   "metadata": {
    "ExecuteTime": {
     "end_time": "2022-07-16T06:25:10.607928Z",
     "start_time": "2022-07-16T06:25:09.046Z"
    }
   },
   "outputs": [],
   "source": [
    "df = purchase.merge(product, left_on = 'ts_product_num', right_on = 'product_num', how='outer')\n",
    "df\n",
    "\n",
    "# df = df.price_grade.map(lambda x: int(x))\n",
    "df_20 = df[df['year'] == 2020].price_grade.value_counts()\n",
    "df_20\n",
    "df_21 = df[df['year'] == 2021].price_grade.value_counts()\n",
    "df_21\n",
    "\n",
    "df_00 = pd.concat([df_20,df_21], axis=1)\n",
    "df_00.plot(kind='bar')\n",
    "\n",
    "# y = df\n",
    "# x = range(len(y))\n",
    "# plt.figure(figsize=(10,6))\n",
    "# plt.bar(x,y,width=0.7,color='skyblue')\n",
    "# plt.title('Bar Plot',size=30)"
   ]
  },
  {
   "cell_type": "code",
   "execution_count": null,
   "id": "7ed25174",
   "metadata": {
    "ExecuteTime": {
     "end_time": "2022-07-16T06:25:10.608458Z",
     "start_time": "2022-07-16T06:25:09.047Z"
    },
    "scrolled": false
   },
   "outputs": [],
   "source": [
    "grid = sns.FacetGrid(purchase, row='year', col='day', height=2.2, aspect=1.6)\n",
    "grid.map(plt.hist, 'amount', alpha=.5, bins=20)\n",
    "grid.add_legend()"
   ]
  },
  {
   "cell_type": "code",
   "execution_count": null,
   "id": "2913dbcf",
   "metadata": {
    "ExecuteTime": {
     "end_time": "2022-07-16T06:25:10.608997Z",
     "start_time": "2022-07-16T06:25:09.047Z"
    }
   },
   "outputs": [],
   "source": [
    "grid = sns.FacetGrid(X_train, row='embarked', col='survived', height=2.2, aspect=1.6)\n",
    "\n",
    "# 바그래프로 시각화, x: 성별, y: 요금, Error bar: 표시 안 함\n",
    "grid.map(sns.barplot, 'sex', 'fare', alpha=.5, ci=None,order=[\"male\",\"female\"])\n",
    "\n",
    "grid.add_legend()"
   ]
  },
  {
   "cell_type": "code",
   "execution_count": null,
   "id": "99dffd6a",
   "metadata": {
    "ExecuteTime": {
     "end_time": "2022-07-16T06:25:10.609583Z",
     "start_time": "2022-07-16T06:25:09.048Z"
    }
   },
   "outputs": [],
   "source": [
    "grid = sns.FacetGrid(X_train, row='embarked', height=2.2, aspect=1.6)\n",
    "\n",
    "# Pointplot으로 시각화, x: 객실 등급, y: 생존 여부, 색깔: 성별, x축 순서: [1, 2, 3], 색깔 순서: [남성, 여성]\n",
    "grid.map(sns.pointplot, 'pclass', 'survived', 'sex', palette='deep', order = [1, 2, 3], hue_order = [\"male\", \"female\"])\n",
    "\n",
    "grid.add_legend()"
   ]
  },
  {
   "cell_type": "code",
   "execution_count": null,
   "id": "9360ff95",
   "metadata": {
    "ExecuteTime": {
     "end_time": "2022-07-16T06:25:10.610196Z",
     "start_time": "2022-07-16T06:25:09.049Z"
    }
   },
   "outputs": [],
   "source": [
    "from sklearn import preprocessing\n",
    "from sklearn.model_selection import train_test_split\n",
    "\n",
    "# 독립변수, 종속 변수 분리\n",
    "X = df_1[['gender_c', 'age_c', 'region_c', 'ARPPU_20_c',\n",
    "          'AVC_20_c', 'AVC_21_c', 'amount_20_p']]\n",
    "y = df_1['sales_trend']\n",
    "\n",
    "# 학습용 테이터와 평가용 데이터를 8:2로 분리\n",
    "X_train, X_test, y_train, y_test = train_test_split(X, y, test_size=0.2,\n",
    "                                                    random_state=10)\n",
    "print(X_train.shape)\n",
    "print(X_test.shape)"
   ]
  },
  {
   "cell_type": "code",
   "execution_count": null,
   "id": "19cb8add",
   "metadata": {
    "ExecuteTime": {
     "end_time": "2022-07-16T06:25:10.610708Z",
     "start_time": "2022-07-16T06:25:09.049Z"
    }
   },
   "outputs": [],
   "source": [
    "# Decision Tree\n",
    "from sklearn.metrics import accuracy_score\n",
    "from sklearn.tree import DecisionTreeClassifier\n",
    "dt_model = DecisionTreeClassifier()\n",
    "dt_model.fit(X_train, y_train)\n",
    "dt_pred = dt_model.predict(X_test)\n",
    "\n",
    "print(dt_pred[0:10])\n",
    "print(y_test.values[0:10])\n",
    "\n",
    "accuracy = accuracy_score(y_test, dt_pred)\n",
    "print('dt 예측 정확도 :', accuracy)"
   ]
  },
  {
   "cell_type": "code",
   "execution_count": null,
   "id": "dab24153",
   "metadata": {
    "ExecuteTime": {
     "end_time": "2022-07-16T06:25:10.611445Z",
     "start_time": "2022-07-16T06:25:09.050Z"
    }
   },
   "outputs": [],
   "source": [
    "# Random Forest\n",
    "from sklearn.ensemble import RandomForestClassifier\n",
    "\n",
    "rf_model = RandomForestClassifier()\n",
    "rf_model.fit(X_train, y_train)\n",
    "rf_pred = rf_model.predict(X_test)\n",
    "\n",
    "rf_accuracy = accuracy_score(y_test, rf_pred)\n",
    "print('rf 예측 정확도 :', rf_accuracy)"
   ]
  },
  {
   "cell_type": "code",
   "execution_count": null,
   "id": "e067fd80",
   "metadata": {
    "ExecuteTime": {
     "end_time": "2022-07-16T06:25:10.611974Z",
     "start_time": "2022-07-16T06:25:09.051Z"
    }
   },
   "outputs": [],
   "source": [
    "# Logistic Regression\n",
    "from sklearn.linear_model import LogisticRegression\n",
    "import warnings\n",
    "warnings.filterwarnings('ignore')\n",
    "\n",
    "lr_model = LogisticRegression(random_state=0)\n",
    "lr_model.fit(X_train, y_train)\n",
    "lr_pred = lr_model.predict(X_test)\n",
    "\n",
    "lr_accuracy = accuracy_score(y_test, lr_pred)\n",
    "print('lr 예측 정확도 :', accuracy)"
   ]
  }
 ],
 "metadata": {
  "kernelspec": {
   "display_name": "Python 3",
   "language": "python",
   "name": "python3"
  },
  "language_info": {
   "codemirror_mode": {
    "name": "ipython",
    "version": 3
   },
   "file_extension": ".py",
   "mimetype": "text/x-python",
   "name": "python",
   "nbconvert_exporter": "python",
   "pygments_lexer": "ipython3",
   "version": "3.8.13"
  },
  "toc": {
   "base_numbering": 1,
   "nav_menu": {},
   "number_sections": true,
   "sideBar": true,
   "skip_h1_title": false,
   "title_cell": "Table of Contents",
   "title_sidebar": "Contents",
   "toc_cell": false,
   "toc_position": {
    "height": "772px",
    "left": "50px",
    "top": "96px",
    "width": "339px"
   },
   "toc_section_display": true,
   "toc_window_display": true
  }
 },
 "nbformat": 4,
 "nbformat_minor": 5
}
