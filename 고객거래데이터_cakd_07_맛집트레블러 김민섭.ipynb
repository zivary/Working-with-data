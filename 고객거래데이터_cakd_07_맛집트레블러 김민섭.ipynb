{
 "cells": [
  {
   "cell_type": "code",
   "execution_count": 1,
   "id": "a88aad96",
   "metadata": {
    "ExecuteTime": {
     "end_time": "2022-07-15T12:14:01.701371Z",
     "start_time": "2022-07-15T12:14:01.694614Z"
    }
   },
   "outputs": [
    {
     "data": {
      "text/plain": [
       "'/Users/alexkim/Documents/GitHub/sales_data_analysis'"
      ]
     },
     "execution_count": 1,
     "metadata": {},
     "output_type": "execute_result"
    }
   ],
   "source": [
    "%pwd"
   ]
  },
  {
   "cell_type": "markdown",
   "id": "c9ea644c",
   "metadata": {},
   "source": [
    "# 인사이트(중앙 편의점)\n",
    "1. 소비 트랜드 만들기 \n",
    "    - 1 지역 젊은 여상들의 고가품 소비 증가 경향\n",
    "    - 5 지역 고령 남성들의 저가품 소비 증가 경향\n",
    "    - 인당 평균 소비량 감소\n",
    "    - \n",
    "       |지역|소득|컨셉|연령분포|소득시간|\n",
    "       |-|-|-|-|-|\n",
    "       | 1지역 | 2억 | 부촌 |고령남여+ 젊은여|일과시간 소비|\n",
    "       | 2지역 | 1억 | 위성신도시 |신혼 부부 + 어린 자녀|오전,주말에 증가| \n",
    "       | 3지역 | 5천 | 업무지구 |30~50대 생상가능인구|점심시간,저녁, 주말 전무| \n",
    "       | 4지역 | 1천 | 대학가 |20대|점심시간, 저녁, 주말 전무|\n",
    "       | 5지역 | 3천 | 일반거주지구 |노년층|밤 늦게|\n",
    "      - 소득은 정규분포로 데이터 입력\n",
    "1. 트랜드 분석\n",
    "    - 평균 1회 결제 금액이 큰 고객을 더 유치하기위한 마케팅 계획 수립을 위한 분석\n",
    "    - 최근 변화한 소비 트렌드에 가장 민감하게 반응한 소득별 계층 분석\n",
    "    - \n",
    "4. 추가할 컬럼\n",
    "    고객\n",
    "        - *고객 번호, *성별, *지역, 등급, *나이, 20년 총 소비금액, 21년 총 소비금액, *소득, 거래당 평균 결제 금액, 연간 방문 횟수\n",
    "    상품\n",
    "        - *상품 코드, *가격, 고가 중가 저가 여부\n",
    "    거래\n",
    "        - 거래 번호, *고객 변호, *상품코드, *수량, *날짜\n",
    "        \n",
    "    "
   ]
  },
  {
   "cell_type": "code",
   "execution_count": 2,
   "id": "2805b6d0",
   "metadata": {
    "ExecuteTime": {
     "end_time": "2022-07-15T12:14:02.480647Z",
     "start_time": "2022-07-15T12:14:01.703919Z"
    }
   },
   "outputs": [],
   "source": [
    "import pandas as pd\n",
    "import numpy as np\n",
    "import matplotlib.pyplot as plt\n",
    "import seaborn as sns\n",
    "import random\n",
    "import warnings\n",
    "warnings.filterwarnings('ignore')\n",
    "\n",
    "random.seed(0)"
   ]
  },
  {
   "cell_type": "code",
   "execution_count": 3,
   "id": "4297e298-7783-43ed-95d2-e59dda7be896",
   "metadata": {},
   "outputs": [],
   "source": [
    "# from matplotlib import font_manager, rc\n",
    "# font_path = 'dataset/malgun.ttf'\n",
    "# font_name = font_manager.FontProperties(fname=font_path).get_name()\n",
    "# rc('font', family='AppleGothic')\n",
    "# #rc('font',family=font_name)\n",
    "# plt.rcParams['axes.unicode_minus'] = False # 마이너스 부호 출력"
   ]
  },
  {
   "cell_type": "markdown",
   "id": "6296d752",
   "metadata": {
    "ExecuteTime": {
     "end_time": "2022-07-14T08:20:20.645016Z",
     "start_time": "2022-07-14T08:20:20.605679Z"
    }
   },
   "source": [
    "## 고객 데이터프레임 만들기 : customer"
   ]
  },
  {
   "cell_type": "markdown",
   "id": "ff09cf6e",
   "metadata": {
    "ExecuteTime": {
     "end_time": "2022-07-14T11:32:11.666425Z",
     "start_time": "2022-07-14T11:32:11.651129Z"
    }
   },
   "source": [
    "### 고객 데이터프레임 양식 만들기"
   ]
  },
  {
   "cell_type": "code",
   "execution_count": 4,
   "id": "be159efa",
   "metadata": {
    "ExecuteTime": {
     "end_time": "2022-07-15T12:14:02.488494Z",
     "start_time": "2022-07-15T12:14:02.482247Z"
    }
   },
   "outputs": [
    {
     "data": {
      "text/html": [
       "<div>\n",
       "<style scoped>\n",
       "    .dataframe tbody tr th:only-of-type {\n",
       "        vertical-align: middle;\n",
       "    }\n",
       "\n",
       "    .dataframe tbody tr th {\n",
       "        vertical-align: top;\n",
       "    }\n",
       "\n",
       "    .dataframe thead th {\n",
       "        text-align: right;\n",
       "    }\n",
       "</style>\n",
       "<table border=\"1\" class=\"dataframe\">\n",
       "  <thead>\n",
       "    <tr style=\"text-align: right;\">\n",
       "      <th></th>\n",
       "      <th>cusno</th>\n",
       "      <th>region</th>\n",
       "      <th>gender</th>\n",
       "      <th>age</th>\n",
       "      <th>income</th>\n",
       "      <th>grade_20</th>\n",
       "      <th>grade_21</th>\n",
       "      <th>ARPPU_20</th>\n",
       "      <th>ARPPU_21</th>\n",
       "      <th>AVC_20</th>\n",
       "      <th>AVC_21</th>\n",
       "      <th>ASC_20</th>\n",
       "      <th>ASC_21</th>\n",
       "      <th>purchase_trend</th>\n",
       "    </tr>\n",
       "  </thead>\n",
       "  <tbody>\n",
       "  </tbody>\n",
       "</table>\n",
       "</div>"
      ],
      "text/plain": [
       "Empty DataFrame\n",
       "Columns: [cusno, region, gender, age, income, grade_20, grade_21, ARPPU_20, ARPPU_21, AVC_20, AVC_21, ASC_20, ASC_21, purchase_trend]\n",
       "Index: []"
      ]
     },
     "execution_count": 4,
     "metadata": {},
     "output_type": "execute_result"
    }
   ],
   "source": [
    "customer = pd.DataFrame(columns=['cusno', 'region', 'gender', 'age',  'income', 'grade_20',\n",
    "                        'grade_21', 'ARPPU_20', 'ARPPU_21', 'AVC_20', 'AVC_21', 'ASC_20', 'ASC_21', 'purchase_trend'])\n",
    "customer"
   ]
  },
  {
   "cell_type": "markdown",
   "id": "fdc47bee",
   "metadata": {
    "ExecuteTime": {
     "end_time": "2022-07-15T05:40:54.684672Z",
     "start_time": "2022-07-15T05:40:54.680569Z"
    }
   },
   "source": [
    "### 고객 데이터프레임 데이터 채우기"
   ]
  },
  {
   "cell_type": "markdown",
   "id": "407baa4d",
   "metadata": {
    "ExecuteTime": {
     "end_time": "2022-07-14T12:25:23.887093Z",
     "start_time": "2022-07-14T12:25:23.791326Z"
    }
   },
   "source": [
    "#### 고객 번호 : cusno"
   ]
  },
  {
   "cell_type": "code",
   "execution_count": 5,
   "id": "44e91dd4",
   "metadata": {
    "ExecuteTime": {
     "end_time": "2022-07-15T12:14:02.491619Z",
     "start_time": "2022-07-15T12:14:02.489341Z"
    }
   },
   "outputs": [],
   "source": [
    "cusno = np.arange(10000, 11000)\n",
    "customer.cusno = cusno"
   ]
  },
  {
   "cell_type": "markdown",
   "id": "f8c2855a",
   "metadata": {
    "ExecuteTime": {
     "end_time": "2022-07-14T12:25:23.887093Z",
     "start_time": "2022-07-14T12:25:23.791326Z"
    }
   },
   "source": [
    "#### 거주 지역 : region"
   ]
  },
  {
   "cell_type": "code",
   "execution_count": 6,
   "id": "b039d2f0",
   "metadata": {
    "ExecuteTime": {
     "end_time": "2022-07-15T12:14:02.496727Z",
     "start_time": "2022-07-15T12:14:02.493733Z"
    }
   },
   "outputs": [],
   "source": [
    "area_1 = np.random.randint(1, 2, size=100).tolist()\n",
    "area_2 = np.random.randint(2, 3, size=150).tolist()\n",
    "area_3 = np.random.randint(3, 4, size=300).tolist()\n",
    "area_4 = np.random.randint(4, 5, size=200).tolist()\n",
    "area_5 = np.random.randint(5, 6, size=250).tolist()\n",
    "li = area_1+area_2+area_3+area_4+area_5\n",
    "random.shuffle(li)\n",
    "\n",
    "customer.region = li"
   ]
  },
  {
   "cell_type": "markdown",
   "id": "b99682da",
   "metadata": {
    "ExecuteTime": {
     "end_time": "2022-07-14T12:25:23.887093Z",
     "start_time": "2022-07-14T12:25:23.791326Z"
    }
   },
   "source": [
    "#### 소득 : income"
   ]
  },
  {
   "cell_type": "markdown",
   "id": "d9594ec2",
   "metadata": {
    "ExecuteTime": {
     "end_time": "2022-07-15T05:55:18.033852Z",
     "start_time": "2022-07-15T05:55:17.920643Z"
    }
   },
   "source": [
    "##### 지역별 소득 분포 산정 : 각각 특성에 맞는 정규분포 사용"
   ]
  },
  {
   "cell_type": "code",
   "execution_count": 7,
   "id": "54378478",
   "metadata": {
    "ExecuteTime": {
     "end_time": "2022-07-15T12:14:02.612365Z",
     "start_time": "2022-07-15T12:14:02.498336Z"
    }
   },
   "outputs": [],
   "source": [
    "customer.income[customer.region == 1] = np.random.normal(10, 3, 100)*20000\n",
    "customer.income[customer.region == 2] = np.random.normal(10, 2, 150)*10000\n",
    "customer.income[customer.region == 3] = np.random.normal(10, 1, 300)*5000\n",
    "customer.income[customer.region == 4] = np.random.normal(10, 2, 200)*1000\n",
    "customer.income[customer.region == 5] = np.random.normal(10, 0.5, 250)*3000\n",
    "customer.income = customer.income.map(lambda x: int(x))"
   ]
  },
  {
   "cell_type": "markdown",
   "id": "025a0ecd",
   "metadata": {},
   "source": [
    "##### 소득 컬럼의 통계 요약"
   ]
  },
  {
   "cell_type": "code",
   "execution_count": 8,
   "id": "a6749331",
   "metadata": {
    "ExecuteTime": {
     "end_time": "2022-07-15T12:14:02.622034Z",
     "start_time": "2022-07-15T12:14:02.613714Z"
    },
    "scrolled": true
   },
   "outputs": [
    {
     "data": {
      "text/html": [
       "<div>\n",
       "<style scoped>\n",
       "    .dataframe tbody tr th:only-of-type {\n",
       "        vertical-align: middle;\n",
       "    }\n",
       "\n",
       "    .dataframe tbody tr th {\n",
       "        vertical-align: top;\n",
       "    }\n",
       "\n",
       "    .dataframe thead th {\n",
       "        text-align: right;\n",
       "    }\n",
       "</style>\n",
       "<table border=\"1\" class=\"dataframe\">\n",
       "  <thead>\n",
       "    <tr style=\"text-align: right;\">\n",
       "      <th></th>\n",
       "      <th>cusno</th>\n",
       "      <th>region</th>\n",
       "      <th>income</th>\n",
       "    </tr>\n",
       "  </thead>\n",
       "  <tbody>\n",
       "    <tr>\n",
       "      <th>count</th>\n",
       "      <td>1000.000000</td>\n",
       "      <td>1000.000000</td>\n",
       "      <td>1000.000000</td>\n",
       "    </tr>\n",
       "    <tr>\n",
       "      <th>mean</th>\n",
       "      <td>10499.500000</td>\n",
       "      <td>3.350000</td>\n",
       "      <td>59457.058000</td>\n",
       "    </tr>\n",
       "    <tr>\n",
       "      <th>std</th>\n",
       "      <td>288.819436</td>\n",
       "      <td>1.276373</td>\n",
       "      <td>58640.130695</td>\n",
       "    </tr>\n",
       "    <tr>\n",
       "      <th>min</th>\n",
       "      <td>10000.000000</td>\n",
       "      <td>1.000000</td>\n",
       "      <td>4823.000000</td>\n",
       "    </tr>\n",
       "    <tr>\n",
       "      <th>25%</th>\n",
       "      <td>10249.750000</td>\n",
       "      <td>2.750000</td>\n",
       "      <td>28977.500000</td>\n",
       "    </tr>\n",
       "    <tr>\n",
       "      <th>50%</th>\n",
       "      <td>10499.500000</td>\n",
       "      <td>3.000000</td>\n",
       "      <td>44777.000000</td>\n",
       "    </tr>\n",
       "    <tr>\n",
       "      <th>75%</th>\n",
       "      <td>10749.250000</td>\n",
       "      <td>4.250000</td>\n",
       "      <td>61426.250000</td>\n",
       "    </tr>\n",
       "    <tr>\n",
       "      <th>max</th>\n",
       "      <td>10999.000000</td>\n",
       "      <td>5.000000</td>\n",
       "      <td>356663.000000</td>\n",
       "    </tr>\n",
       "  </tbody>\n",
       "</table>\n",
       "</div>"
      ],
      "text/plain": [
       "              cusno       region         income\n",
       "count   1000.000000  1000.000000    1000.000000\n",
       "mean   10499.500000     3.350000   59457.058000\n",
       "std      288.819436     1.276373   58640.130695\n",
       "min    10000.000000     1.000000    4823.000000\n",
       "25%    10249.750000     2.750000   28977.500000\n",
       "50%    10499.500000     3.000000   44777.000000\n",
       "75%    10749.250000     4.250000   61426.250000\n",
       "max    10999.000000     5.000000  356663.000000"
      ]
     },
     "execution_count": 8,
     "metadata": {},
     "output_type": "execute_result"
    }
   ],
   "source": [
    "customer.describe()"
   ]
  },
  {
   "cell_type": "markdown",
   "id": "6d8d412c",
   "metadata": {},
   "source": [
    "##### 지역별 소득 값 중 이상치 보정"
   ]
  },
  {
   "cell_type": "code",
   "execution_count": 9,
   "id": "8749a253",
   "metadata": {
    "ExecuteTime": {
     "end_time": "2022-07-15T12:14:02.695258Z",
     "start_time": "2022-07-15T12:14:02.623407Z"
    }
   },
   "outputs": [
    {
     "data": {
      "text/plain": [
       "<AxesSubplot:xlabel='region', ylabel='income'>"
      ]
     },
     "execution_count": 9,
     "metadata": {},
     "output_type": "execute_result"
    },
    {
     "data": {
      "image/png": "[encoded data removed]",
      "text/plain": [
       "<Figure size 432x288 with 1 Axes>"
      ]
     },
     "metadata": {
      "needs_background": "light"
     },
     "output_type": "display_data"
    }
   ],
   "source": [
    "# 지역에 따른 소득 분포 확인 : by boxenplot\n",
    "sns.boxenplot(x='region', y='income', data=customer, color='skyblue')"
   ]
  },
  {
   "cell_type": "code",
   "execution_count": 10,
   "id": "dbbd8e9b",
   "metadata": {
    "ExecuteTime": {
     "end_time": "2022-07-15T12:14:02.716462Z",
     "start_time": "2022-07-15T12:14:02.697012Z"
    }
   },
   "outputs": [
    {
     "name": "stdout",
     "output_type": "stream",
     "text": [
      "1지역 이상치\n",
      "Series([], Name: income, dtype: int64)\n",
      "2지역 이상치\n",
      "216    154754\n",
      "345    151644\n",
      "Name: income, dtype: int64\n",
      "3지역 이상치\n",
      "Series([], Name: income, dtype: int64)\n",
      "4지역 이상치\n",
      "489    16230\n",
      "Name: income, dtype: int64\n",
      "5지역 이상치\n",
      "400    33643\n",
      "653    34031\n",
      "Name: income, dtype: int64\n"
     ]
    }
   ],
   "source": [
    "# 고객 소득 데이터 이상치 처리\n",
    "for i in range(1, 6):\n",
    "    cus_info = customer[customer.region == i].describe()\n",
    "    Q1 = cus_info[\"income\"][\"25%\"]\n",
    "    Q3 = cus_info[\"income\"][\"75%\"]\n",
    "    IQR = Q3-Q1\n",
    "    print(f'{i}지역 이상치')\n",
    "    mask = (customer[customer.region == i].income <= (Q1 - IQR*1.5)\n",
    "            ) | (customer[customer.region == i].income >= (Q3 + IQR*1.5))\n",
    "    outlier = customer[customer.region == i][mask].income\n",
    "    print(outlier)\n",
    "\n",
    "# lower whisker 보다 작거나, upper whisker 보다 큰 값들을 이상치로 판정\n",
    "# 1지역: 2개\n",
    "# 2지역: 0개\n",
    "# 3지역: 2개\n",
    "# 4지역: 4개\n",
    "# 5지역: 2개\n",
    "\n",
    "# 위와 같이 이상치가 발생하였으나 분석 결과 사전에 설정한 가정에 영향이 없다고 판단되어 보정하지 않음"
   ]
  },
  {
   "cell_type": "markdown",
   "id": "5d49f367",
   "metadata": {},
   "source": [
    "#### 연령 : age"
   ]
  },
  {
   "cell_type": "markdown",
   "id": "d97fadb4",
   "metadata": {},
   "source": [
    "##### 지역별 연령 데이터 산정"
   ]
  },
  {
   "cell_type": "code",
   "execution_count": 11,
   "id": "1586897a",
   "metadata": {
    "ExecuteTime": {
     "end_time": "2022-07-15T12:14:02.741832Z",
     "start_time": "2022-07-15T12:14:02.717391Z"
    }
   },
   "outputs": [
    {
     "data": {
      "text/plain": [
       "-1     1\n",
       " 0     2\n",
       " 1     3\n",
       " 2     8\n",
       " 3     6\n",
       "      ..\n",
       " 80    6\n",
       " 81    6\n",
       " 82    8\n",
       " 83    5\n",
       " 84    4\n",
       "Name: age, Length: 79, dtype: int64"
      ]
     },
     "execution_count": 11,
     "metadata": {},
     "output_type": "execute_result"
    }
   ],
   "source": [
    "# 1 지역 연령 데이터 생성\n",
    "age_1_old = np.random.normal(65, 6, 60).tolist()\n",
    "age_1_young = np.random.normal(24, 3, 40).tolist()\n",
    "age_1 = age_1_old + age_1_young\n",
    "customer.age[customer.region == 1] = age_1\n",
    "\n",
    "# 2 지역 연령 데이터 생성\n",
    "age_2_old = np.random.normal(40, 3, 100).tolist()\n",
    "age_2_young = np.random.normal(5, 3, 50).tolist()\n",
    "age_2 = age_2_old + age_2_young\n",
    "customer.age[customer.region == 2] = age_2\n",
    "\n",
    "# # 3 지역 연령 데이터 생성\n",
    "age_3 = np.random.randint(23, 57, size=300).tolist()\n",
    "customer.age[customer.region == 3] = age_3\n",
    "\n",
    "# # 4 지역 연령 데이터 생성\n",
    "age_4 = np.random.randint(20, 28, size=200).tolist()\n",
    "customer.age[customer.region == 4] = age_4\n",
    "\n",
    "# # 5 지역 연령 데이터 생성\n",
    "age_5 = np.random.randint(50, 85, size=250).tolist()\n",
    "customer.age[customer.region == 5] = age_5\n",
    "\n",
    "customer.age = customer.age.map(lambda x: int(x))\n",
    "customer.age.value_counts().sort_index()"
   ]
  },
  {
   "cell_type": "markdown",
   "id": "9249684d",
   "metadata": {},
   "source": [
    "##### 지역별 연령 중 이상치 보정"
   ]
  },
  {
   "cell_type": "code",
   "execution_count": 12,
   "id": "d5c79f1d",
   "metadata": {
    "ExecuteTime": {
     "end_time": "2022-07-15T12:14:02.800657Z",
     "start_time": "2022-07-15T12:14:02.742813Z"
    }
   },
   "outputs": [
    {
     "data": {
      "text/plain": [
       "<AxesSubplot:xlabel='region', ylabel='age'>"
      ]
     },
     "execution_count": 12,
     "metadata": {},
     "output_type": "execute_result"
    },
    {
     "data": {
      "image/png": "[encoded data removed]",
      "text/plain": [
       "<Figure size 432x288 with 1 Axes>"
      ]
     },
     "metadata": {
      "needs_background": "light"
     },
     "output_type": "display_data"
    }
   ],
   "source": [
    "# 지역에 따른 연령 분포 확인 : by boxenplot\n",
    "sns.boxenplot(x='region', y='age', data=customer, color='skyblue')"
   ]
  },
  {
   "cell_type": "code",
   "execution_count": 13,
   "id": "a676f4d8",
   "metadata": {
    "ExecuteTime": {
     "end_time": "2022-07-15T12:14:02.826630Z",
     "start_time": "2022-07-15T12:14:02.802272Z"
    }
   },
   "outputs": [
    {
     "name": "stdout",
     "output_type": "stream",
     "text": [
      "1지역 이상치\n",
      "Series([], Name: age, dtype: int64)\n",
      "2지역 이상치\n",
      "Series([], Name: age, dtype: int64)\n",
      "3지역 이상치\n",
      "Series([], Name: age, dtype: int64)\n",
      "4지역 이상치\n",
      "Series([], Name: age, dtype: int64)\n",
      "5지역 이상치\n",
      "Series([], Name: age, dtype: int64)\n"
     ]
    }
   ],
   "source": [
    "# 고객 연령 데이터 이상치 처리\n",
    "for i in range(1, 6):\n",
    "    cus_info = customer[customer.region == i].describe()\n",
    "    Q1 = cus_info[\"age\"][\"25%\"]\n",
    "    Q3 = cus_info[\"age\"][\"75%\"]\n",
    "    IQR = Q3-Q1\n",
    "    print(f'{i}지역 이상치')\n",
    "    mask = (customer[customer.region == i].age <= (Q1 - IQR*1.5)\n",
    "            ) | (customer[customer.region == i].age >= (Q3 + IQR*1.5))\n",
    "    outlier = customer[customer.region == i][mask].age\n",
    "    print(outlier)\n",
    "\n",
    "# lower whisker 보다 작거나, upper whisker 보다 큰 값들을 이상치로 판정\n",
    "# 1지역: 0개\n",
    "# 2지역: 0개\n",
    "# 3지역: 0개\n",
    "# 4지역: 0개\n",
    "# 5지역: 0개\n",
    "\n",
    "# 위와 같이 이상치가 발생하였으나 분석 결과 사전에 설정한 가정에 영향이 없다고 판단되어 보정하지 않음"
   ]
  },
  {
   "cell_type": "code",
   "execution_count": 14,
   "id": "17e68bd0",
   "metadata": {
    "ExecuteTime": {
     "end_time": "2022-07-15T12:14:02.833932Z",
     "start_time": "2022-07-15T12:14:02.828366Z"
    }
   },
   "outputs": [
    {
     "data": {
      "text/plain": [
       "0     2\n",
       "1     4\n",
       "2     8\n",
       "3     6\n",
       "4     6\n",
       "     ..\n",
       "80    6\n",
       "81    6\n",
       "82    8\n",
       "83    5\n",
       "84    4\n",
       "Name: age, Length: 78, dtype: int64"
      ]
     },
     "execution_count": 14,
     "metadata": {},
     "output_type": "execute_result"
    }
   ],
   "source": [
    "# 추가 이상치 검증 : 나이가 음수인 이상치를 절대값을 이용하여 유효한 값으로 보정\n",
    "customer[customer.age <= 0] = abs(customer[customer.age <= 0])\n",
    "customer.age.value_counts().sort_index()"
   ]
  },
  {
   "cell_type": "markdown",
   "id": "141a419a",
   "metadata": {},
   "source": [
    "#### 성별 : gender"
   ]
  },
  {
   "cell_type": "markdown",
   "id": "dd2736f6",
   "metadata": {},
   "source": [
    "##### 지역별 성별 데이터 산정"
   ]
  },
  {
   "cell_type": "code",
   "execution_count": 15,
   "id": "bd21bc04",
   "metadata": {
    "ExecuteTime": {
     "end_time": "2022-07-15T12:14:02.860224Z",
     "start_time": "2022-07-15T12:14:02.835623Z"
    }
   },
   "outputs": [
    {
     "data": {
      "text/plain": [
       "0    482\n",
       "1    518\n",
       "Name: gender, dtype: int64"
      ]
     },
     "execution_count": 15,
     "metadata": {},
     "output_type": "execute_result"
    }
   ],
   "source": [
    "# 1 지역 성별 데이터 생성\n",
    "gender_1_male = np.random.randint(0, 1, size=40).tolist()\n",
    "gender_1_female = np.random.randint(1, 2, size=60).tolist()\n",
    "gender_1 = gender_1_male + gender_1_female\n",
    "random.shuffle(gender_1)\n",
    "customer.gender[customer.region == 1] = gender_1\n",
    "\n",
    "# 2 지역 성별 데이터 생성\n",
    "gender_2 = np.random.randint(0, 2, size=150)\n",
    "customer.gender[customer.region == 2] = gender_2\n",
    "\n",
    "# 3 지역 성별 데이터 생성\n",
    "gender_3 = np.random.randint(0, 2, size=300)\n",
    "customer.gender[customer.region == 3] = gender_3\n",
    "\n",
    "# 4 지역 성별 데이터 생성\n",
    "gender_4 = np.random.randint(0, 2, size=200)\n",
    "customer.gender[customer.region == 4] = gender_4\n",
    "\n",
    "# 5 지역 성별 데이터 생성\n",
    "gender_5 = np.random.randint(0, 2, size=250)\n",
    "customer.gender[customer.region == 5] = gender_5\n",
    "\n",
    "customer.gender = customer.gender.map(lambda x: int(x))\n",
    "customer.gender.value_counts().sort_index()"
   ]
  },
  {
   "cell_type": "markdown",
   "id": "abb226d1",
   "metadata": {
    "ExecuteTime": {
     "end_time": "2022-07-14T08:36:50.831874Z",
     "start_time": "2022-07-14T08:36:50.829616Z"
    }
   },
   "source": [
    "## 상품 목록 데이터프레임 만들기 : product"
   ]
  },
  {
   "cell_type": "markdown",
   "id": "51e39d3c",
   "metadata": {},
   "source": [
    "### 상품 목록 데이터프레임 양식 만들기"
   ]
  },
  {
   "cell_type": "code",
   "execution_count": 16,
   "id": "ec7a42d6",
   "metadata": {
    "ExecuteTime": {
     "end_time": "2022-07-15T12:14:02.865731Z",
     "start_time": "2022-07-15T12:14:02.861271Z"
    }
   },
   "outputs": [
    {
     "data": {
      "text/html": [
       "<div>\n",
       "<style scoped>\n",
       "    .dataframe tbody tr th:only-of-type {\n",
       "        vertical-align: middle;\n",
       "    }\n",
       "\n",
       "    .dataframe tbody tr th {\n",
       "        vertical-align: top;\n",
       "    }\n",
       "\n",
       "    .dataframe thead th {\n",
       "        text-align: right;\n",
       "    }\n",
       "</style>\n",
       "<table border=\"1\" class=\"dataframe\">\n",
       "  <thead>\n",
       "    <tr style=\"text-align: right;\">\n",
       "      <th></th>\n",
       "      <th>product_num</th>\n",
       "      <th>price</th>\n",
       "      <th>price_grade</th>\n",
       "    </tr>\n",
       "  </thead>\n",
       "  <tbody>\n",
       "  </tbody>\n",
       "</table>\n",
       "</div>"
      ],
      "text/plain": [
       "Empty DataFrame\n",
       "Columns: [product_num, price, price_grade]\n",
       "Index: []"
      ]
     },
     "execution_count": 16,
     "metadata": {},
     "output_type": "execute_result"
    }
   ],
   "source": [
    "product = pd.DataFrame(columns=['product_num', 'price', 'price_grade'])\n",
    "product"
   ]
  },
  {
   "cell_type": "markdown",
   "id": "4c3077ef",
   "metadata": {},
   "source": [
    "### 상품 목록 데이터프레임 데이터 채우기"
   ]
  },
  {
   "cell_type": "markdown",
   "id": "5839b809",
   "metadata": {
    "ExecuteTime": {
     "end_time": "2022-07-15T07:57:46.018692Z",
     "start_time": "2022-07-15T07:57:45.985750Z"
    }
   },
   "source": [
    "#### 상품 코드 : product_num"
   ]
  },
  {
   "cell_type": "code",
   "execution_count": 17,
   "id": "7ef34eb1",
   "metadata": {
    "ExecuteTime": {
     "end_time": "2022-07-15T12:14:02.868927Z",
     "start_time": "2022-07-15T12:14:02.866960Z"
    }
   },
   "outputs": [],
   "source": [
    "product_num = np.arange(1, 101)\n",
    "product.product_num = product_num"
   ]
  },
  {
   "cell_type": "markdown",
   "id": "636f39c7",
   "metadata": {},
   "source": [
    "#### 가격 : price"
   ]
  },
  {
   "cell_type": "code",
   "execution_count": 18,
   "id": "78ab4a2e",
   "metadata": {
    "ExecuteTime": {
     "end_time": "2022-07-15T12:14:02.873141Z",
     "start_time": "2022-07-15T12:14:02.870005Z"
    }
   },
   "outputs": [],
   "source": [
    "price = random.sample(list(range(1000, 100000)), 100)\n",
    "product.price = price"
   ]
  },
  {
   "cell_type": "markdown",
   "id": "0adb818a",
   "metadata": {},
   "source": []
  },
  {
   "cell_type": "markdown",
   "id": "5aa7dc66",
   "metadata": {},
   "source": [
    "## 거래 데이터 만들기 : purchase"
   ]
  },
  {
   "cell_type": "markdown",
   "id": "60d50c8b",
   "metadata": {},
   "source": [
    "### 거래 데이터프레임 만들기"
   ]
  },
  {
   "cell_type": "markdown",
   "id": "d9ed84ad",
   "metadata": {},
   "source": [
    "#### 거래 데이터프레임 양식 만들기"
   ]
  },
  {
   "cell_type": "code",
   "execution_count": 19,
   "id": "2f43b874",
   "metadata": {
    "ExecuteTime": {
     "end_time": "2022-07-15T12:14:02.878259Z",
     "start_time": "2022-07-15T12:14:02.874244Z"
    }
   },
   "outputs": [
    {
     "data": {
      "text/html": [
       "<div>\n",
       "<style scoped>\n",
       "    .dataframe tbody tr th:only-of-type {\n",
       "        vertical-align: middle;\n",
       "    }\n",
       "\n",
       "    .dataframe tbody tr th {\n",
       "        vertical-align: top;\n",
       "    }\n",
       "\n",
       "    .dataframe thead th {\n",
       "        text-align: right;\n",
       "    }\n",
       "</style>\n",
       "<table border=\"1\" class=\"dataframe\">\n",
       "  <thead>\n",
       "    <tr style=\"text-align: right;\">\n",
       "      <th></th>\n",
       "      <th>ts_num</th>\n",
       "      <th>ts_cusno</th>\n",
       "      <th>ts_product_num</th>\n",
       "      <th>quantity</th>\n",
       "      <th>amount</th>\n",
       "      <th>date</th>\n",
       "      <th>year</th>\n",
       "      <th>day</th>\n",
       "      <th>time</th>\n",
       "    </tr>\n",
       "  </thead>\n",
       "  <tbody>\n",
       "  </tbody>\n",
       "</table>\n",
       "</div>"
      ],
      "text/plain": [
       "Empty DataFrame\n",
       "Columns: [ts_num, ts_cusno, ts_product_num, quantity, amount, date, year, day, time]\n",
       "Index: []"
      ]
     },
     "execution_count": 19,
     "metadata": {},
     "output_type": "execute_result"
    }
   ],
   "source": [
    "purchase = pd.DataFrame(columns=['ts_num', 'ts_cusno', 'ts_product_num', 'quantity','amount', 'date', 'year', 'day', 'time'])\n",
    "purchase"
   ]
  },
  {
   "cell_type": "markdown",
   "id": "5e095db2",
   "metadata": {},
   "source": [
    "#### 거래 데이터프레임 데이터 채우기"
   ]
  },
  {
   "cell_type": "markdown",
   "id": "722d4abc",
   "metadata": {},
   "source": [
    "##### 날짜,요일,시간 : date, day, time"
   ]
  },
  {
   "cell_type": "code",
   "execution_count": 20,
   "id": "eb9ae577",
   "metadata": {
    "ExecuteTime": {
     "end_time": "2022-07-15T12:14:03.012894Z",
     "start_time": "2022-07-15T12:14:02.879309Z"
    }
   },
   "outputs": [
    {
     "data": {
      "text/html": [
       "<div>\n",
       "<style scoped>\n",
       "    .dataframe tbody tr th:only-of-type {\n",
       "        vertical-align: middle;\n",
       "    }\n",
       "\n",
       "    .dataframe tbody tr th {\n",
       "        vertical-align: top;\n",
       "    }\n",
       "\n",
       "    .dataframe thead th {\n",
       "        text-align: right;\n",
       "    }\n",
       "</style>\n",
       "<table border=\"1\" class=\"dataframe\">\n",
       "  <thead>\n",
       "    <tr style=\"text-align: right;\">\n",
       "      <th></th>\n",
       "      <th>ts_num</th>\n",
       "      <th>ts_cusno</th>\n",
       "      <th>ts_product_num</th>\n",
       "      <th>quantity</th>\n",
       "      <th>amount</th>\n",
       "      <th>date</th>\n",
       "      <th>year</th>\n",
       "      <th>day</th>\n",
       "      <th>time</th>\n",
       "    </tr>\n",
       "  </thead>\n",
       "  <tbody>\n",
       "    <tr>\n",
       "      <th>5862</th>\n",
       "      <td>NaN</td>\n",
       "      <td>NaN</td>\n",
       "      <td>NaN</td>\n",
       "      <td>NaN</td>\n",
       "      <td>NaN</td>\n",
       "      <td>2020-01-01</td>\n",
       "      <td>2020</td>\n",
       "      <td>2</td>\n",
       "      <td>20</td>\n",
       "    </tr>\n",
       "    <tr>\n",
       "      <th>7039</th>\n",
       "      <td>NaN</td>\n",
       "      <td>NaN</td>\n",
       "      <td>NaN</td>\n",
       "      <td>NaN</td>\n",
       "      <td>NaN</td>\n",
       "      <td>2020-01-01</td>\n",
       "      <td>2020</td>\n",
       "      <td>2</td>\n",
       "      <td>19</td>\n",
       "    </tr>\n",
       "    <tr>\n",
       "      <th>2372</th>\n",
       "      <td>NaN</td>\n",
       "      <td>NaN</td>\n",
       "      <td>NaN</td>\n",
       "      <td>NaN</td>\n",
       "      <td>NaN</td>\n",
       "      <td>2020-01-01</td>\n",
       "      <td>2020</td>\n",
       "      <td>2</td>\n",
       "      <td>20</td>\n",
       "    </tr>\n",
       "    <tr>\n",
       "      <th>8956</th>\n",
       "      <td>NaN</td>\n",
       "      <td>NaN</td>\n",
       "      <td>NaN</td>\n",
       "      <td>NaN</td>\n",
       "      <td>NaN</td>\n",
       "      <td>2020-01-01</td>\n",
       "      <td>2020</td>\n",
       "      <td>2</td>\n",
       "      <td>17</td>\n",
       "    </tr>\n",
       "    <tr>\n",
       "      <th>3747</th>\n",
       "      <td>NaN</td>\n",
       "      <td>NaN</td>\n",
       "      <td>NaN</td>\n",
       "      <td>NaN</td>\n",
       "      <td>NaN</td>\n",
       "      <td>2020-01-01</td>\n",
       "      <td>2020</td>\n",
       "      <td>2</td>\n",
       "      <td>8</td>\n",
       "    </tr>\n",
       "  </tbody>\n",
       "</table>\n",
       "</div>"
      ],
      "text/plain": [
       "     ts_num ts_cusno ts_product_num quantity amount       date  year  day  \\\n",
       "5862    NaN      NaN            NaN      NaN    NaN 2020-01-01  2020    2   \n",
       "7039    NaN      NaN            NaN      NaN    NaN 2020-01-01  2020    2   \n",
       "2372    NaN      NaN            NaN      NaN    NaN 2020-01-01  2020    2   \n",
       "8956    NaN      NaN            NaN      NaN    NaN 2020-01-01  2020    2   \n",
       "3747    NaN      NaN            NaN      NaN    NaN 2020-01-01  2020    2   \n",
       "\n",
       "      time  \n",
       "5862    20  \n",
       "7039    19  \n",
       "2372    20  \n",
       "8956    17  \n",
       "3747     8  "
      ]
     },
     "execution_count": 20,
     "metadata": {},
     "output_type": "execute_result"
    }
   ],
   "source": [
    "from datetime import datetime\n",
    "# date\n",
    "date_list_20 = list(pd.date_range('2020-01-01', '2020-12-31', freq='H'))\n",
    "date_list_21 = list(pd.date_range('2021-01-01', '2021-12-31', freq='H'))\n",
    "date_20 = np.random.choice(date_list_20, size=6000).tolist()\n",
    "date_21 = np.random.choice(date_list_21, size=4000).tolist()\n",
    "date = date_20 + date_21\n",
    "random.shuffle(date)\n",
    "date = pd.Series(date)\n",
    "\n",
    "# date 중에서 년월일만 추출\n",
    "purchase.date = date.map(lambda x:datetime.strptime(datetime.strftime(x, '%Y-%m-%d'), '%Y-%m-%d'))\n",
    "\n",
    "# year(년도)\n",
    "purchase.year = purchase.date.dt.year\n",
    "\n",
    "# day(요일)\n",
    "purchase.day = purchase.date.dt.weekday\n",
    "\n",
    "# 시간\n",
    "time = date.map(lambda x: x.hour)\n",
    "purchase.time = time\n",
    "\n",
    "# purchase.head()\n",
    "# purchase=purchase.set_index('date')\n",
    "purchase=purchase.sort_values('date',ascending=True)\n",
    "purchase.head()"
   ]
  },
  {
   "cell_type": "markdown",
   "id": "a31f10ed",
   "metadata": {},
   "source": [
    "##### 거래 번호 : ts_num"
   ]
  },
  {
   "cell_type": "code",
   "execution_count": 21,
   "id": "beb704ce",
   "metadata": {
    "ExecuteTime": {
     "end_time": "2022-07-15T12:14:03.015985Z",
     "start_time": "2022-07-15T12:14:03.013780Z"
    }
   },
   "outputs": [],
   "source": [
    "ts_num = np.arange(0, 10000)\n",
    "purchase.ts_num = ts_num"
   ]
  },
  {
   "cell_type": "markdown",
   "id": "7e694b9e",
   "metadata": {},
   "source": [
    "##### 고객번호 : ts_cusno"
   ]
  },
  {
   "cell_type": "code",
   "execution_count": 22,
   "id": "7ee676f5",
   "metadata": {
    "ExecuteTime": {
     "end_time": "2022-07-15T12:14:03.019006Z",
     "start_time": "2022-07-15T12:14:03.016846Z"
    }
   },
   "outputs": [],
   "source": [
    "# 기존 cusno가 중복될 수 있도록 만들기\n",
    "ts_cusno = np.random.choice(list(cusno), size=10000)\n",
    "purchase.ts_cusno = ts_cusno"
   ]
  },
  {
   "cell_type": "markdown",
   "id": "0f439d9f",
   "metadata": {},
   "source": [
    "##### 상품코드 : ts_product_num"
   ]
  },
  {
   "cell_type": "code",
   "execution_count": 23,
   "id": "1d2f2107-dc33-4100-a3e8-2627f6b5863d",
   "metadata": {},
   "outputs": [
    {
     "data": {
      "text/html": [
       "<div>\n",
       "<style scoped>\n",
       "    .dataframe tbody tr th:only-of-type {\n",
       "        vertical-align: middle;\n",
       "    }\n",
       "\n",
       "    .dataframe tbody tr th {\n",
       "        vertical-align: top;\n",
       "    }\n",
       "\n",
       "    .dataframe thead th {\n",
       "        text-align: right;\n",
       "    }\n",
       "</style>\n",
       "<table border=\"1\" class=\"dataframe\">\n",
       "  <thead>\n",
       "    <tr style=\"text-align: right;\">\n",
       "      <th></th>\n",
       "      <th>product_num</th>\n",
       "      <th>price</th>\n",
       "      <th>price_grade</th>\n",
       "    </tr>\n",
       "  </thead>\n",
       "  <tbody>\n",
       "    <tr>\n",
       "      <th>0</th>\n",
       "      <td>1</td>\n",
       "      <td>65694</td>\n",
       "      <td>1</td>\n",
       "    </tr>\n",
       "    <tr>\n",
       "      <th>1</th>\n",
       "      <td>2</td>\n",
       "      <td>61360</td>\n",
       "      <td>1</td>\n",
       "    </tr>\n",
       "    <tr>\n",
       "      <th>2</th>\n",
       "      <td>3</td>\n",
       "      <td>58685</td>\n",
       "      <td>1</td>\n",
       "    </tr>\n",
       "    <tr>\n",
       "      <th>3</th>\n",
       "      <td>4</td>\n",
       "      <td>16482</td>\n",
       "      <td>3</td>\n",
       "    </tr>\n",
       "    <tr>\n",
       "      <th>4</th>\n",
       "      <td>5</td>\n",
       "      <td>12221</td>\n",
       "      <td>3</td>\n",
       "    </tr>\n",
       "    <tr>\n",
       "      <th>...</th>\n",
       "      <td>...</td>\n",
       "      <td>...</td>\n",
       "      <td>...</td>\n",
       "    </tr>\n",
       "    <tr>\n",
       "      <th>95</th>\n",
       "      <td>96</td>\n",
       "      <td>3031</td>\n",
       "      <td>3</td>\n",
       "    </tr>\n",
       "    <tr>\n",
       "      <th>96</th>\n",
       "      <td>97</td>\n",
       "      <td>73498</td>\n",
       "      <td>1</td>\n",
       "    </tr>\n",
       "    <tr>\n",
       "      <th>97</th>\n",
       "      <td>98</td>\n",
       "      <td>67171</td>\n",
       "      <td>1</td>\n",
       "    </tr>\n",
       "    <tr>\n",
       "      <th>98</th>\n",
       "      <td>99</td>\n",
       "      <td>43976</td>\n",
       "      <td>2</td>\n",
       "    </tr>\n",
       "    <tr>\n",
       "      <th>99</th>\n",
       "      <td>100</td>\n",
       "      <td>49101</td>\n",
       "      <td>2</td>\n",
       "    </tr>\n",
       "  </tbody>\n",
       "</table>\n",
       "<p>100 rows × 3 columns</p>\n",
       "</div>"
      ],
      "text/plain": [
       "    product_num  price  price_grade\n",
       "0             1  65694            1\n",
       "1             2  61360            1\n",
       "2             3  58685            1\n",
       "3             4  16482            3\n",
       "4             5  12221            3\n",
       "..          ...    ...          ...\n",
       "95           96   3031            3\n",
       "96           97  73498            1\n",
       "97           98  67171            1\n",
       "98           99  43976            2\n",
       "99          100  49101            2\n",
       "\n",
       "[100 rows x 3 columns]"
      ]
     },
     "execution_count": 23,
     "metadata": {},
     "output_type": "execute_result"
    }
   ],
   "source": [
    "# price_grade : 고가품 : 1, 중가품 : 2, 저가품 : 3\n",
    "\n",
    "def price_grade(x):\n",
    "    y = 0\n",
    "    if x <= 20000:\n",
    "        y = 3\n",
    "    elif x <= 50000:\n",
    "        y = 2\n",
    "    else:\n",
    "        y = 1\n",
    "    return y\n",
    "\n",
    "\n",
    "product['price_grade'] = product['price'].apply(price_grade)\n",
    "product"
   ]
  },
  {
   "cell_type": "code",
   "execution_count": 24,
   "id": "b9946884",
   "metadata": {
    "ExecuteTime": {
     "end_time": "2022-07-15T12:18:34.352042Z",
     "start_time": "2022-07-15T12:18:34.311293Z"
    }
   },
   "outputs": [],
   "source": [
    "ts_product_num = np.random.choice(list(product_num), size=10000)\n",
    "purchase.ts_product_num = ts_product_num\n",
    "\n",
    "price_grade_1 = product[product['price_grade']== 1].product_num.tolist()\n",
    "price_grade_2 = product[product['price_grade']== 2].product_num.tolist()\n",
    "price_grade_3 = product[product['price_grade']== 3].product_num.tolist()\n",
    "price_grade_3\n",
    "\n",
    "price_grade_1_20 = np.random.choice(price_grade_1, 1000).tolist()\n",
    "price_grade_2_20 = np.random.choice(price_grade_2, 2000).tolist()\n",
    "price_grade_3_20 = np.random.choice(price_grade_3, 3000).tolist()\n",
    "ts_product_num_20 = price_grade_1_20 + price_grade_2_20 + price_grade_3_20\n",
    "random.shuffle(ts_product_num_20)\n",
    "purchase[purchase['year'] == 2020].ts_product_num = ts_product_num_20\n",
    "\n",
    "price_grade_1_21 = np.random.choice(price_grade_1, 2000).tolist()\n",
    "price_grade_2_21 = np.random.choice(price_grade_2, 1000).tolist()\n",
    "price_grade_3_21 = np.random.choice(price_grade_3, 1000).tolist()\n",
    "ts_product_num_21 = price_grade_1_21 + price_grade_2_21 + price_grade_3_21\n",
    "random.shuffle(ts_product_num_21)\n",
    "purchase[purchase['year'] == 2021].ts_product_num = ts_product_num_21\n"
   ]
  },
  {
   "cell_type": "markdown",
   "id": "36054ae2",
   "metadata": {},
   "source": [
    "##### 구매수량 : quantity"
   ]
  },
  {
   "cell_type": "code",
   "execution_count": 25,
   "id": "3ad0bd96",
   "metadata": {
    "ExecuteTime": {
     "end_time": "2022-07-15T12:18:37.815427Z",
     "start_time": "2022-07-15T12:18:37.778662Z"
    }
   },
   "outputs": [],
   "source": [
    "# 2020년 구매수량 데이터 생성\n",
    "a_20 = np.random.randint(1, 4, size=3500).tolist()\n",
    "b_20 = np.random.randint(4, 7, size=2000).tolist()\n",
    "c_20 = np.random.randint(7, 10, size=500).tolist()\n",
    "li_20 = a_20+b_20+c_20\n",
    "random.shuffle(li_20)\n",
    "\n",
    "\n",
    "purchase.quantity[purchase.year == 2020] = li_20\n",
    "\n",
    "## 2021년 구매수량 데이터 생성\n",
    "a_21 = np.random.randint(1, 4, size=2500).tolist()\n",
    "b_21 = np.random.randint(4, 7, size=1000).tolist()\n",
    "c_21 = np.random.randint(7, 10, size=500).tolist()\n",
    "li_21 = a_21+b_21+c_21\n",
    "random.shuffle(li_21)\n",
    "\n",
    "purchase.quantity[purchase.year == 2021] = li_21\n",
    "purchase = purchase.astype({'quantity':'int'})"
   ]
  },
  {
   "cell_type": "code",
   "execution_count": 26,
   "id": "222a4a2a-5b6b-433b-a3be-51f5a5a56e9f",
   "metadata": {},
   "outputs": [
    {
     "data": {
      "text/plain": [
       "5862    4\n",
       "7039    6\n",
       "2372    6\n",
       "8956    2\n",
       "3747    2\n",
       "       ..\n",
       "4851    3\n",
       "7084    3\n",
       "6435    2\n",
       "9758    1\n",
       "1200    2\n",
       "Name: quantity, Length: 6000, dtype: int64"
      ]
     },
     "execution_count": 26,
     "metadata": {},
     "output_type": "execute_result"
    }
   ],
   "source": [
    "purchase.quantity[purchase.year == 2020]"
   ]
  },
  {
   "cell_type": "markdown",
   "id": "f9d3e797",
   "metadata": {},
   "source": [
    "## 종속변수 데이터 생성"
   ]
  },
  {
   "cell_type": "markdown",
   "id": "5083dd2e",
   "metadata": {},
   "source": [
    "### 상품 목록 데이터프레임 종속변수"
   ]
  },
  {
   "cell_type": "markdown",
   "id": "f1c44478",
   "metadata": {},
   "source": [
    "#### 상품 가격 분류 : product_grade"
   ]
  },
  {
   "cell_type": "code",
   "execution_count": 27,
   "id": "4712101b",
   "metadata": {
    "ExecuteTime": {
     "end_time": "2022-07-15T12:18:04.419183Z",
     "start_time": "2022-07-15T12:18:04.405001Z"
    }
   },
   "outputs": [
    {
     "data": {
      "text/html": [
       "<div>\n",
       "<style scoped>\n",
       "    .dataframe tbody tr th:only-of-type {\n",
       "        vertical-align: middle;\n",
       "    }\n",
       "\n",
       "    .dataframe tbody tr th {\n",
       "        vertical-align: top;\n",
       "    }\n",
       "\n",
       "    .dataframe thead th {\n",
       "        text-align: right;\n",
       "    }\n",
       "</style>\n",
       "<table border=\"1\" class=\"dataframe\">\n",
       "  <thead>\n",
       "    <tr style=\"text-align: right;\">\n",
       "      <th></th>\n",
       "      <th>product_num</th>\n",
       "      <th>price</th>\n",
       "      <th>price_grade</th>\n",
       "    </tr>\n",
       "  </thead>\n",
       "  <tbody>\n",
       "    <tr>\n",
       "      <th>0</th>\n",
       "      <td>1</td>\n",
       "      <td>65694</td>\n",
       "      <td>1</td>\n",
       "    </tr>\n",
       "    <tr>\n",
       "      <th>1</th>\n",
       "      <td>2</td>\n",
       "      <td>61360</td>\n",
       "      <td>1</td>\n",
       "    </tr>\n",
       "    <tr>\n",
       "      <th>2</th>\n",
       "      <td>3</td>\n",
       "      <td>58685</td>\n",
       "      <td>1</td>\n",
       "    </tr>\n",
       "    <tr>\n",
       "      <th>3</th>\n",
       "      <td>4</td>\n",
       "      <td>16482</td>\n",
       "      <td>3</td>\n",
       "    </tr>\n",
       "    <tr>\n",
       "      <th>4</th>\n",
       "      <td>5</td>\n",
       "      <td>12221</td>\n",
       "      <td>3</td>\n",
       "    </tr>\n",
       "    <tr>\n",
       "      <th>...</th>\n",
       "      <td>...</td>\n",
       "      <td>...</td>\n",
       "      <td>...</td>\n",
       "    </tr>\n",
       "    <tr>\n",
       "      <th>95</th>\n",
       "      <td>96</td>\n",
       "      <td>3031</td>\n",
       "      <td>3</td>\n",
       "    </tr>\n",
       "    <tr>\n",
       "      <th>96</th>\n",
       "      <td>97</td>\n",
       "      <td>73498</td>\n",
       "      <td>1</td>\n",
       "    </tr>\n",
       "    <tr>\n",
       "      <th>97</th>\n",
       "      <td>98</td>\n",
       "      <td>67171</td>\n",
       "      <td>1</td>\n",
       "    </tr>\n",
       "    <tr>\n",
       "      <th>98</th>\n",
       "      <td>99</td>\n",
       "      <td>43976</td>\n",
       "      <td>2</td>\n",
       "    </tr>\n",
       "    <tr>\n",
       "      <th>99</th>\n",
       "      <td>100</td>\n",
       "      <td>49101</td>\n",
       "      <td>2</td>\n",
       "    </tr>\n",
       "  </tbody>\n",
       "</table>\n",
       "<p>100 rows × 3 columns</p>\n",
       "</div>"
      ],
      "text/plain": [
       "    product_num  price  price_grade\n",
       "0             1  65694            1\n",
       "1             2  61360            1\n",
       "2             3  58685            1\n",
       "3             4  16482            3\n",
       "4             5  12221            3\n",
       "..          ...    ...          ...\n",
       "95           96   3031            3\n",
       "96           97  73498            1\n",
       "97           98  67171            1\n",
       "98           99  43976            2\n",
       "99          100  49101            2\n",
       "\n",
       "[100 rows x 3 columns]"
      ]
     },
     "execution_count": 27,
     "metadata": {},
     "output_type": "execute_result"
    }
   ],
   "source": [
    "# price_grade : 고가품 : 1, 중가품 : 2, 저가품 : 3\n",
    "\n",
    "def price_grade(x):\n",
    "    y = 0\n",
    "    if x <= 20000:\n",
    "        y = 3\n",
    "    elif x <= 50000:\n",
    "        y = 2\n",
    "    else:\n",
    "        y = 1\n",
    "    return y\n",
    "\n",
    "\n",
    "product['price_grade'] = product['price'].apply(price_grade)\n",
    "product"
   ]
  },
  {
   "cell_type": "markdown",
   "id": "e3a71cff",
   "metadata": {},
   "source": [
    "### 거래 데이터프레임 종속변수"
   ]
  },
  {
   "cell_type": "markdown",
   "id": "193ce95b",
   "metadata": {},
   "source": [
    "#### 거래별 거래총액 : amount"
   ]
  },
  {
   "cell_type": "code",
   "execution_count": 51,
   "id": "db0801d8",
   "metadata": {
    "ExecuteTime": {
     "end_time": "2022-07-15T12:18:45.410666Z",
     "start_time": "2022-07-15T12:18:43.677488Z"
    },
    "scrolled": true
   },
   "outputs": [
    {
     "name": "stdout",
     "output_type": "stream",
     "text": [
      "<class 'pandas.core.frame.DataFrame'>\n",
      "Int64Index: 10000 entries, 5862 to 1080\n",
      "Data columns (total 11 columns):\n",
      " #   Column          Non-Null Count  Dtype         \n",
      "---  ------          --------------  -----         \n",
      " 0   ts_num          10000 non-null  int64         \n",
      " 1   ts_cusno        10000 non-null  int64         \n",
      " 2   ts_product_num  10000 non-null  int64         \n",
      " 3   quantity        10000 non-null  int64         \n",
      " 4   amount          10000 non-null  int64         \n",
      " 5   date            10000 non-null  datetime64[ns]\n",
      " 6   year            10000 non-null  int64         \n",
      " 7   day             10000 non-null  int64         \n",
      " 8   time            10000 non-null  int64         \n",
      " 9   ts_price        10000 non-null  int64         \n",
      " 10  ts_grade        10000 non-null  int64         \n",
      "dtypes: datetime64[ns](1), int64(10)\n",
      "memory usage: 937.5 KB\n"
     ]
    }
   ],
   "source": [
    "def amount(x):\n",
    "    a = product[product.product_num ==  x].price\n",
    "    a = str(a).split()[1]\n",
    "    return int(a)\n",
    "    \n",
    "b = purchase.ts_product_num.map(amount)\n",
    "b = pd.Series(b)\n",
    "\n",
    "purchase['amount'] = b*purchase.quantity\n",
    "purchase.info()"
   ]
  },
  {
   "cell_type": "markdown",
   "id": "c25d5d3f-3d93-4189-b658-8de78c91dddf",
   "metadata": {
    "tags": []
   },
   "source": [
    "#### 거래별 상품가격 : ts_price"
   ]
  },
  {
   "cell_type": "code",
   "execution_count": 29,
   "id": "6da4c0b8-e9f6-437e-b0cc-c92f67e428d4",
   "metadata": {},
   "outputs": [
    {
     "data": {
      "text/html": [
       "<div>\n",
       "<style scoped>\n",
       "    .dataframe tbody tr th:only-of-type {\n",
       "        vertical-align: middle;\n",
       "    }\n",
       "\n",
       "    .dataframe tbody tr th {\n",
       "        vertical-align: top;\n",
       "    }\n",
       "\n",
       "    .dataframe thead th {\n",
       "        text-align: right;\n",
       "    }\n",
       "</style>\n",
       "<table border=\"1\" class=\"dataframe\">\n",
       "  <thead>\n",
       "    <tr style=\"text-align: right;\">\n",
       "      <th></th>\n",
       "      <th>ts_num</th>\n",
       "      <th>ts_cusno</th>\n",
       "      <th>ts_product_num</th>\n",
       "      <th>quantity</th>\n",
       "      <th>amount</th>\n",
       "      <th>date</th>\n",
       "      <th>year</th>\n",
       "      <th>day</th>\n",
       "      <th>time</th>\n",
       "      <th>ts_price</th>\n",
       "    </tr>\n",
       "  </thead>\n",
       "  <tbody>\n",
       "    <tr>\n",
       "      <th>5862</th>\n",
       "      <td>0</td>\n",
       "      <td>10066</td>\n",
       "      <td>3</td>\n",
       "      <td>4</td>\n",
       "      <td>234740</td>\n",
       "      <td>2020-01-01</td>\n",
       "      <td>2020</td>\n",
       "      <td>2</td>\n",
       "      <td>20</td>\n",
       "      <td>58685</td>\n",
       "    </tr>\n",
       "    <tr>\n",
       "      <th>7039</th>\n",
       "      <td>1</td>\n",
       "      <td>10439</td>\n",
       "      <td>45</td>\n",
       "      <td>6</td>\n",
       "      <td>188280</td>\n",
       "      <td>2020-01-01</td>\n",
       "      <td>2020</td>\n",
       "      <td>2</td>\n",
       "      <td>19</td>\n",
       "      <td>31380</td>\n",
       "    </tr>\n",
       "    <tr>\n",
       "      <th>2372</th>\n",
       "      <td>2</td>\n",
       "      <td>10492</td>\n",
       "      <td>96</td>\n",
       "      <td>6</td>\n",
       "      <td>18186</td>\n",
       "      <td>2020-01-01</td>\n",
       "      <td>2020</td>\n",
       "      <td>2</td>\n",
       "      <td>20</td>\n",
       "      <td>3031</td>\n",
       "    </tr>\n",
       "    <tr>\n",
       "      <th>8956</th>\n",
       "      <td>3</td>\n",
       "      <td>10023</td>\n",
       "      <td>3</td>\n",
       "      <td>2</td>\n",
       "      <td>117370</td>\n",
       "      <td>2020-01-01</td>\n",
       "      <td>2020</td>\n",
       "      <td>2</td>\n",
       "      <td>17</td>\n",
       "      <td>58685</td>\n",
       "    </tr>\n",
       "    <tr>\n",
       "      <th>3747</th>\n",
       "      <td>4</td>\n",
       "      <td>10773</td>\n",
       "      <td>71</td>\n",
       "      <td>2</td>\n",
       "      <td>150024</td>\n",
       "      <td>2020-01-01</td>\n",
       "      <td>2020</td>\n",
       "      <td>2</td>\n",
       "      <td>8</td>\n",
       "      <td>75012</td>\n",
       "    </tr>\n",
       "  </tbody>\n",
       "</table>\n",
       "</div>"
      ],
      "text/plain": [
       "      ts_num  ts_cusno  ts_product_num  quantity  amount       date  year  \\\n",
       "5862       0     10066               3         4  234740 2020-01-01  2020   \n",
       "7039       1     10439              45         6  188280 2020-01-01  2020   \n",
       "2372       2     10492              96         6   18186 2020-01-01  2020   \n",
       "8956       3     10023               3         2  117370 2020-01-01  2020   \n",
       "3747       4     10773              71         2  150024 2020-01-01  2020   \n",
       "\n",
       "      day  time  ts_price  \n",
       "5862    2    20     58685  \n",
       "7039    2    19     31380  \n",
       "2372    2    20      3031  \n",
       "8956    2    17     58685  \n",
       "3747    2     8     75012  "
      ]
     },
     "execution_count": 29,
     "metadata": {},
     "output_type": "execute_result"
    }
   ],
   "source": [
    "def price_check(x):\n",
    "    a = product.loc[product.product_num ==  x,'price']\n",
    "    # a = str(a).split()[1]\n",
    "    return int(a)\n",
    "\n",
    "# price_check(14)\n",
    "    \n",
    "b = purchase.ts_product_num.map(price_check)\n",
    "b = pd.Series(b)\n",
    "\n",
    "purchase['ts_price'] = b\n",
    "purchase.head()"
   ]
  },
  {
   "cell_type": "markdown",
   "id": "9230adb8-0f1a-46f4-8da6-8740134be458",
   "metadata": {},
   "source": [
    "#### 거래별 상품 등급 : ts_grade"
   ]
  },
  {
   "cell_type": "code",
   "execution_count": 30,
   "id": "15d7cae0-6278-4c0b-8a75-e60dc548b188",
   "metadata": {},
   "outputs": [
    {
     "data": {
      "text/html": [
       "<div>\n",
       "<style scoped>\n",
       "    .dataframe tbody tr th:only-of-type {\n",
       "        vertical-align: middle;\n",
       "    }\n",
       "\n",
       "    .dataframe tbody tr th {\n",
       "        vertical-align: top;\n",
       "    }\n",
       "\n",
       "    .dataframe thead th {\n",
       "        text-align: right;\n",
       "    }\n",
       "</style>\n",
       "<table border=\"1\" class=\"dataframe\">\n",
       "  <thead>\n",
       "    <tr style=\"text-align: right;\">\n",
       "      <th></th>\n",
       "      <th>ts_num</th>\n",
       "      <th>ts_cusno</th>\n",
       "      <th>ts_product_num</th>\n",
       "      <th>quantity</th>\n",
       "      <th>amount</th>\n",
       "      <th>date</th>\n",
       "      <th>year</th>\n",
       "      <th>day</th>\n",
       "      <th>time</th>\n",
       "      <th>ts_price</th>\n",
       "      <th>ts_grade</th>\n",
       "    </tr>\n",
       "  </thead>\n",
       "  <tbody>\n",
       "    <tr>\n",
       "      <th>5862</th>\n",
       "      <td>0</td>\n",
       "      <td>10066</td>\n",
       "      <td>3</td>\n",
       "      <td>4</td>\n",
       "      <td>234740</td>\n",
       "      <td>2020-01-01</td>\n",
       "      <td>2020</td>\n",
       "      <td>2</td>\n",
       "      <td>20</td>\n",
       "      <td>58685</td>\n",
       "      <td>1</td>\n",
       "    </tr>\n",
       "    <tr>\n",
       "      <th>7039</th>\n",
       "      <td>1</td>\n",
       "      <td>10439</td>\n",
       "      <td>45</td>\n",
       "      <td>6</td>\n",
       "      <td>188280</td>\n",
       "      <td>2020-01-01</td>\n",
       "      <td>2020</td>\n",
       "      <td>2</td>\n",
       "      <td>19</td>\n",
       "      <td>31380</td>\n",
       "      <td>2</td>\n",
       "    </tr>\n",
       "    <tr>\n",
       "      <th>2372</th>\n",
       "      <td>2</td>\n",
       "      <td>10492</td>\n",
       "      <td>96</td>\n",
       "      <td>6</td>\n",
       "      <td>18186</td>\n",
       "      <td>2020-01-01</td>\n",
       "      <td>2020</td>\n",
       "      <td>2</td>\n",
       "      <td>20</td>\n",
       "      <td>3031</td>\n",
       "      <td>3</td>\n",
       "    </tr>\n",
       "    <tr>\n",
       "      <th>8956</th>\n",
       "      <td>3</td>\n",
       "      <td>10023</td>\n",
       "      <td>3</td>\n",
       "      <td>2</td>\n",
       "      <td>117370</td>\n",
       "      <td>2020-01-01</td>\n",
       "      <td>2020</td>\n",
       "      <td>2</td>\n",
       "      <td>17</td>\n",
       "      <td>58685</td>\n",
       "      <td>1</td>\n",
       "    </tr>\n",
       "    <tr>\n",
       "      <th>3747</th>\n",
       "      <td>4</td>\n",
       "      <td>10773</td>\n",
       "      <td>71</td>\n",
       "      <td>2</td>\n",
       "      <td>150024</td>\n",
       "      <td>2020-01-01</td>\n",
       "      <td>2020</td>\n",
       "      <td>2</td>\n",
       "      <td>8</td>\n",
       "      <td>75012</td>\n",
       "      <td>1</td>\n",
       "    </tr>\n",
       "  </tbody>\n",
       "</table>\n",
       "</div>"
      ],
      "text/plain": [
       "      ts_num  ts_cusno  ts_product_num  quantity  amount       date  year  \\\n",
       "5862       0     10066               3         4  234740 2020-01-01  2020   \n",
       "7039       1     10439              45         6  188280 2020-01-01  2020   \n",
       "2372       2     10492              96         6   18186 2020-01-01  2020   \n",
       "8956       3     10023               3         2  117370 2020-01-01  2020   \n",
       "3747       4     10773              71         2  150024 2020-01-01  2020   \n",
       "\n",
       "      day  time  ts_price  ts_grade  \n",
       "5862    2    20     58685         1  \n",
       "7039    2    19     31380         2  \n",
       "2372    2    20      3031         3  \n",
       "8956    2    17     58685         1  \n",
       "3747    2     8     75012         1  "
      ]
     },
     "execution_count": 30,
     "metadata": {},
     "output_type": "execute_result"
    }
   ],
   "source": [
    "def grade_check(x):\n",
    "    a = product.loc[product.product_num ==  x,'price_grade']\n",
    "    # a = str(a).split()[1]\n",
    "    return int(a)\n",
    "\n",
    "# price_check(14)\n",
    "    \n",
    "b = purchase.ts_product_num.map(grade_check)\n",
    "b = pd.Series(b)\n",
    "\n",
    "purchase['ts_grade'] = b\n",
    "purchase.head()"
   ]
  },
  {
   "cell_type": "markdown",
   "id": "770842d2",
   "metadata": {},
   "source": [
    "### 고객 데이터프레임 종속변수"
   ]
  },
  {
   "cell_type": "markdown",
   "id": "b407d9c1",
   "metadata": {},
   "source": [
    "#### 년도별 고객별 연간 매출액 : ASC_20, ASC_21"
   ]
  },
  {
   "cell_type": "code",
   "execution_count": 31,
   "id": "36ed2aea",
   "metadata": {
    "ExecuteTime": {
     "end_time": "2022-07-15T12:18:51.108914Z",
     "start_time": "2022-07-15T12:18:45.411843Z"
    }
   },
   "outputs": [],
   "source": [
    "li_2020 = []\n",
    "li_2021 = []\n",
    "for i in range(10000,11000):\n",
    "    a = purchase[(purchase['ts_cusno']== i)&(purchase[\"year\"] == 2020)]\n",
    "    b = purchase[(purchase['ts_cusno']== i)&(purchase[\"year\"] == 2021)]\n",
    "    li_2020.append(a.sum()[4])\n",
    "    li_2021.append(b.sum()[4])\n",
    "    \n",
    "customer.ASC_20 = li_2020\n",
    "customer.ASC_21 = li_2021\n"
   ]
  },
  {
   "cell_type": "markdown",
   "id": "d2e713a1",
   "metadata": {},
   "source": [
    "#### 년도별 고객 등급 : grade_20, grade_21"
   ]
  },
  {
   "cell_type": "code",
   "execution_count": 32,
   "id": "bf3e652a",
   "metadata": {
    "ExecuteTime": {
     "end_time": "2022-07-15T12:18:51.114735Z",
     "start_time": "2022-07-15T12:18:51.110398Z"
    },
    "scrolled": true
   },
   "outputs": [
    {
     "name": "stdout",
     "output_type": "stream",
     "text": [
      "[      0.         1535641.33333333 3071282.66666667 4606924.        ]\n",
      "[      0. 1118544. 2237088. 3355632.]\n"
     ]
    }
   ],
   "source": [
    "# 고객 등급 선정\n",
    "bin_dividers = np.linspace(customer.ASC_20.min(), customer.ASC_20.max(), 4)\n",
    "bin_names = ['Silver', 'Gold', 'VIP']  # qcut\n",
    "customer['grade_20'] = pd.cut(x=customer.ASC_20,  # 데이터 배열\n",
    "                              bins=bin_dividers,  # 경계값 리스트\n",
    "                              labels=bin_names,  # bin 이름\n",
    "                              include_lowest=True)  # 첫 경계값 포함 여부\n",
    "print(bin_dividers)\n",
    "bin_dividers = np.linspace(customer.ASC_21.min(), customer.ASC_21.max(), 4)\n",
    "bin_names = ['Silver', 'Gold', 'VIP']\n",
    "customer['grade_21'] = pd.cut(x=customer.ASC_21,  # 데이터 배열\n",
    "                              bins=bin_dividers,  # 경계값 리스트\n",
    "                              labels=bin_names,  # bin 이름\n",
    "                              include_lowest=True)  # 첫 경계값 포함 여부\n",
    "print(bin_dividers)\n"
   ]
  },
  {
   "cell_type": "markdown",
   "id": "50a4f682",
   "metadata": {},
   "source": [
    "#### 년도별 고객별 연간 방문 횟수 : AVC_20, AVC_21"
   ]
  },
  {
   "cell_type": "code",
   "execution_count": 33,
   "id": "85357ff2",
   "metadata": {
    "ExecuteTime": {
     "end_time": "2022-07-15T12:18:51.455862Z",
     "start_time": "2022-07-15T12:18:51.115971Z"
    }
   },
   "outputs": [
    {
     "data": {
      "text/html": [
       "<div>\n",
       "<style scoped>\n",
       "    .dataframe tbody tr th:only-of-type {\n",
       "        vertical-align: middle;\n",
       "    }\n",
       "\n",
       "    .dataframe tbody tr th {\n",
       "        vertical-align: top;\n",
       "    }\n",
       "\n",
       "    .dataframe thead th {\n",
       "        text-align: right;\n",
       "    }\n",
       "</style>\n",
       "<table border=\"1\" class=\"dataframe\">\n",
       "  <thead>\n",
       "    <tr style=\"text-align: right;\">\n",
       "      <th></th>\n",
       "      <th>cusno</th>\n",
       "      <th>region</th>\n",
       "      <th>gender</th>\n",
       "      <th>age</th>\n",
       "      <th>income</th>\n",
       "      <th>grade_20</th>\n",
       "      <th>grade_21</th>\n",
       "      <th>ARPPU_20</th>\n",
       "      <th>ARPPU_21</th>\n",
       "      <th>AVC_20</th>\n",
       "      <th>AVC_21</th>\n",
       "      <th>ASC_20</th>\n",
       "      <th>ASC_21</th>\n",
       "      <th>purchase_trend</th>\n",
       "    </tr>\n",
       "  </thead>\n",
       "  <tbody>\n",
       "    <tr>\n",
       "      <th>0</th>\n",
       "      <td>10000</td>\n",
       "      <td>3</td>\n",
       "      <td>1</td>\n",
       "      <td>54</td>\n",
       "      <td>61526</td>\n",
       "      <td>Silver</td>\n",
       "      <td>Silver</td>\n",
       "      <td>NaN</td>\n",
       "      <td>NaN</td>\n",
       "      <td>7</td>\n",
       "      <td>4</td>\n",
       "      <td>927333.0</td>\n",
       "      <td>807373.0</td>\n",
       "      <td>NaN</td>\n",
       "    </tr>\n",
       "    <tr>\n",
       "      <th>1</th>\n",
       "      <td>10001</td>\n",
       "      <td>4</td>\n",
       "      <td>1</td>\n",
       "      <td>24</td>\n",
       "      <td>8709</td>\n",
       "      <td>Silver</td>\n",
       "      <td>Gold</td>\n",
       "      <td>NaN</td>\n",
       "      <td>NaN</td>\n",
       "      <td>8</td>\n",
       "      <td>7</td>\n",
       "      <td>852024.0</td>\n",
       "      <td>2123328.0</td>\n",
       "      <td>NaN</td>\n",
       "    </tr>\n",
       "    <tr>\n",
       "      <th>2</th>\n",
       "      <td>10002</td>\n",
       "      <td>2</td>\n",
       "      <td>0</td>\n",
       "      <td>40</td>\n",
       "      <td>94143</td>\n",
       "      <td>Silver</td>\n",
       "      <td>Gold</td>\n",
       "      <td>NaN</td>\n",
       "      <td>NaN</td>\n",
       "      <td>6</td>\n",
       "      <td>3</td>\n",
       "      <td>622055.0</td>\n",
       "      <td>1239954.0</td>\n",
       "      <td>NaN</td>\n",
       "    </tr>\n",
       "    <tr>\n",
       "      <th>3</th>\n",
       "      <td>10003</td>\n",
       "      <td>3</td>\n",
       "      <td>1</td>\n",
       "      <td>29</td>\n",
       "      <td>39079</td>\n",
       "      <td>Silver</td>\n",
       "      <td>Gold</td>\n",
       "      <td>NaN</td>\n",
       "      <td>NaN</td>\n",
       "      <td>6</td>\n",
       "      <td>6</td>\n",
       "      <td>1055958.0</td>\n",
       "      <td>1314407.0</td>\n",
       "      <td>NaN</td>\n",
       "    </tr>\n",
       "    <tr>\n",
       "      <th>4</th>\n",
       "      <td>10004</td>\n",
       "      <td>2</td>\n",
       "      <td>0</td>\n",
       "      <td>39</td>\n",
       "      <td>102429</td>\n",
       "      <td>Silver</td>\n",
       "      <td>Gold</td>\n",
       "      <td>NaN</td>\n",
       "      <td>NaN</td>\n",
       "      <td>8</td>\n",
       "      <td>6</td>\n",
       "      <td>1018692.0</td>\n",
       "      <td>1525453.0</td>\n",
       "      <td>NaN</td>\n",
       "    </tr>\n",
       "  </tbody>\n",
       "</table>\n",
       "</div>"
      ],
      "text/plain": [
       "   cusno  region  gender  age  income grade_20 grade_21 ARPPU_20 ARPPU_21  \\\n",
       "0  10000       3       1   54   61526   Silver   Silver      NaN      NaN   \n",
       "1  10001       4       1   24    8709   Silver     Gold      NaN      NaN   \n",
       "2  10002       2       0   40   94143   Silver     Gold      NaN      NaN   \n",
       "3  10003       3       1   29   39079   Silver     Gold      NaN      NaN   \n",
       "4  10004       2       0   39  102429   Silver     Gold      NaN      NaN   \n",
       "\n",
       "   AVC_20  AVC_21     ASC_20     ASC_21 purchase_trend  \n",
       "0       7       4   927333.0   807373.0            NaN  \n",
       "1       8       7   852024.0  2123328.0            NaN  \n",
       "2       6       3   622055.0  1239954.0            NaN  \n",
       "3       6       6  1055958.0  1314407.0            NaN  \n",
       "4       8       6  1018692.0  1525453.0            NaN  "
      ]
     },
     "execution_count": 33,
     "metadata": {},
     "output_type": "execute_result"
    }
   ],
   "source": [
    "li_2020 = []\n",
    "li_2021 = []\n",
    "for i in range(10000,11000):\n",
    "    a = purchase[(purchase['ts_cusno']== i)&(purchase[\"year\"] == 2020)]\n",
    "    li_2020.append(len(a))\n",
    "    a = purchase[(purchase['ts_cusno']== i)&(purchase[\"year\"] == 2021)]\n",
    "    li_2021.append(len(a))\n",
    "    \n",
    "customer.AVC_20 = li_2020\n",
    "customer.AVC_21 = li_2021\n",
    "\n",
    "\n",
    "customer.head()"
   ]
  },
  {
   "cell_type": "markdown",
   "id": "d01fbb3e",
   "metadata": {},
   "source": [
    "#### 년도별 고객별 회당 평균 결제액 : ARPPU_20, ARPPU_21"
   ]
  },
  {
   "cell_type": "code",
   "execution_count": 34,
   "id": "182db3b5",
   "metadata": {
    "ExecuteTime": {
     "end_time": "2022-07-15T12:18:51.465068Z",
     "start_time": "2022-07-15T12:18:51.456915Z"
    }
   },
   "outputs": [
    {
     "data": {
      "text/html": [
       "<div>\n",
       "<style scoped>\n",
       "    .dataframe tbody tr th:only-of-type {\n",
       "        vertical-align: middle;\n",
       "    }\n",
       "\n",
       "    .dataframe tbody tr th {\n",
       "        vertical-align: top;\n",
       "    }\n",
       "\n",
       "    .dataframe thead th {\n",
       "        text-align: right;\n",
       "    }\n",
       "</style>\n",
       "<table border=\"1\" class=\"dataframe\">\n",
       "  <thead>\n",
       "    <tr style=\"text-align: right;\">\n",
       "      <th></th>\n",
       "      <th>cusno</th>\n",
       "      <th>region</th>\n",
       "      <th>gender</th>\n",
       "      <th>age</th>\n",
       "      <th>income</th>\n",
       "      <th>grade_20</th>\n",
       "      <th>grade_21</th>\n",
       "      <th>ARPPU_20</th>\n",
       "      <th>ARPPU_21</th>\n",
       "      <th>AVC_20</th>\n",
       "      <th>AVC_21</th>\n",
       "      <th>ASC_20</th>\n",
       "      <th>ASC_21</th>\n",
       "      <th>purchase_trend</th>\n",
       "    </tr>\n",
       "  </thead>\n",
       "  <tbody>\n",
       "    <tr>\n",
       "      <th>0</th>\n",
       "      <td>10000</td>\n",
       "      <td>3</td>\n",
       "      <td>1</td>\n",
       "      <td>54</td>\n",
       "      <td>61526</td>\n",
       "      <td>Silver</td>\n",
       "      <td>Silver</td>\n",
       "      <td>132476.14</td>\n",
       "      <td>201843.25</td>\n",
       "      <td>7</td>\n",
       "      <td>4</td>\n",
       "      <td>927333.0</td>\n",
       "      <td>807373.0</td>\n",
       "      <td>NaN</td>\n",
       "    </tr>\n",
       "    <tr>\n",
       "      <th>1</th>\n",
       "      <td>10001</td>\n",
       "      <td>4</td>\n",
       "      <td>1</td>\n",
       "      <td>24</td>\n",
       "      <td>8709</td>\n",
       "      <td>Silver</td>\n",
       "      <td>Gold</td>\n",
       "      <td>106503.00</td>\n",
       "      <td>303332.57</td>\n",
       "      <td>8</td>\n",
       "      <td>7</td>\n",
       "      <td>852024.0</td>\n",
       "      <td>2123328.0</td>\n",
       "      <td>NaN</td>\n",
       "    </tr>\n",
       "    <tr>\n",
       "      <th>2</th>\n",
       "      <td>10002</td>\n",
       "      <td>2</td>\n",
       "      <td>0</td>\n",
       "      <td>40</td>\n",
       "      <td>94143</td>\n",
       "      <td>Silver</td>\n",
       "      <td>Gold</td>\n",
       "      <td>103675.83</td>\n",
       "      <td>413318.00</td>\n",
       "      <td>6</td>\n",
       "      <td>3</td>\n",
       "      <td>622055.0</td>\n",
       "      <td>1239954.0</td>\n",
       "      <td>NaN</td>\n",
       "    </tr>\n",
       "    <tr>\n",
       "      <th>3</th>\n",
       "      <td>10003</td>\n",
       "      <td>3</td>\n",
       "      <td>1</td>\n",
       "      <td>29</td>\n",
       "      <td>39079</td>\n",
       "      <td>Silver</td>\n",
       "      <td>Gold</td>\n",
       "      <td>175993.00</td>\n",
       "      <td>219067.83</td>\n",
       "      <td>6</td>\n",
       "      <td>6</td>\n",
       "      <td>1055958.0</td>\n",
       "      <td>1314407.0</td>\n",
       "      <td>NaN</td>\n",
       "    </tr>\n",
       "    <tr>\n",
       "      <th>4</th>\n",
       "      <td>10004</td>\n",
       "      <td>2</td>\n",
       "      <td>0</td>\n",
       "      <td>39</td>\n",
       "      <td>102429</td>\n",
       "      <td>Silver</td>\n",
       "      <td>Gold</td>\n",
       "      <td>127336.50</td>\n",
       "      <td>254242.17</td>\n",
       "      <td>8</td>\n",
       "      <td>6</td>\n",
       "      <td>1018692.0</td>\n",
       "      <td>1525453.0</td>\n",
       "      <td>NaN</td>\n",
       "    </tr>\n",
       "  </tbody>\n",
       "</table>\n",
       "</div>"
      ],
      "text/plain": [
       "   cusno  region  gender  age  income grade_20 grade_21   ARPPU_20   ARPPU_21  \\\n",
       "0  10000       3       1   54   61526   Silver   Silver  132476.14  201843.25   \n",
       "1  10001       4       1   24    8709   Silver     Gold  106503.00  303332.57   \n",
       "2  10002       2       0   40   94143   Silver     Gold  103675.83  413318.00   \n",
       "3  10003       3       1   29   39079   Silver     Gold  175993.00  219067.83   \n",
       "4  10004       2       0   39  102429   Silver     Gold  127336.50  254242.17   \n",
       "\n",
       "   AVC_20  AVC_21     ASC_20     ASC_21 purchase_trend  \n",
       "0       7       4   927333.0   807373.0            NaN  \n",
       "1       8       7   852024.0  2123328.0            NaN  \n",
       "2       6       3   622055.0  1239954.0            NaN  \n",
       "3       6       6  1055958.0  1314407.0            NaN  \n",
       "4       8       6  1018692.0  1525453.0            NaN  "
      ]
     },
     "execution_count": 34,
     "metadata": {},
     "output_type": "execute_result"
    }
   ],
   "source": [
    "customer.ARPPU_20 = (customer.ASC_20 / customer.AVC_20).round(2)\n",
    "customer.ARPPU_21 = (customer.ASC_21 / customer.AVC_21).round(2)\n",
    "customer.head()"
   ]
  },
  {
   "cell_type": "markdown",
   "id": "b9677963",
   "metadata": {},
   "source": [
    "#### 고객별 구매 추세 변화 : purchase_trend"
   ]
  },
  {
   "cell_type": "code",
   "execution_count": 35,
   "id": "059d8557",
   "metadata": {
    "ExecuteTime": {
     "end_time": "2022-07-15T12:18:51.475504Z",
     "start_time": "2022-07-15T12:18:51.466760Z"
    }
   },
   "outputs": [
    {
     "data": {
      "text/html": [
       "<div>\n",
       "<style scoped>\n",
       "    .dataframe tbody tr th:only-of-type {\n",
       "        vertical-align: middle;\n",
       "    }\n",
       "\n",
       "    .dataframe tbody tr th {\n",
       "        vertical-align: top;\n",
       "    }\n",
       "\n",
       "    .dataframe thead th {\n",
       "        text-align: right;\n",
       "    }\n",
       "</style>\n",
       "<table border=\"1\" class=\"dataframe\">\n",
       "  <thead>\n",
       "    <tr style=\"text-align: right;\">\n",
       "      <th></th>\n",
       "      <th>cusno</th>\n",
       "      <th>region</th>\n",
       "      <th>gender</th>\n",
       "      <th>age</th>\n",
       "      <th>income</th>\n",
       "      <th>grade_20</th>\n",
       "      <th>grade_21</th>\n",
       "      <th>ARPPU_20</th>\n",
       "      <th>ARPPU_21</th>\n",
       "      <th>AVC_20</th>\n",
       "      <th>AVC_21</th>\n",
       "      <th>ASC_20</th>\n",
       "      <th>ASC_21</th>\n",
       "      <th>purchase_trend</th>\n",
       "    </tr>\n",
       "  </thead>\n",
       "  <tbody>\n",
       "    <tr>\n",
       "      <th>0</th>\n",
       "      <td>10000</td>\n",
       "      <td>3</td>\n",
       "      <td>1</td>\n",
       "      <td>54</td>\n",
       "      <td>61526</td>\n",
       "      <td>Silver</td>\n",
       "      <td>Silver</td>\n",
       "      <td>132476.14</td>\n",
       "      <td>201843.25</td>\n",
       "      <td>7</td>\n",
       "      <td>4</td>\n",
       "      <td>927333.0</td>\n",
       "      <td>807373.0</td>\n",
       "      <td>0</td>\n",
       "    </tr>\n",
       "    <tr>\n",
       "      <th>1</th>\n",
       "      <td>10001</td>\n",
       "      <td>4</td>\n",
       "      <td>1</td>\n",
       "      <td>24</td>\n",
       "      <td>8709</td>\n",
       "      <td>Silver</td>\n",
       "      <td>Gold</td>\n",
       "      <td>106503.00</td>\n",
       "      <td>303332.57</td>\n",
       "      <td>8</td>\n",
       "      <td>7</td>\n",
       "      <td>852024.0</td>\n",
       "      <td>2123328.0</td>\n",
       "      <td>1</td>\n",
       "    </tr>\n",
       "    <tr>\n",
       "      <th>2</th>\n",
       "      <td>10002</td>\n",
       "      <td>2</td>\n",
       "      <td>0</td>\n",
       "      <td>40</td>\n",
       "      <td>94143</td>\n",
       "      <td>Silver</td>\n",
       "      <td>Gold</td>\n",
       "      <td>103675.83</td>\n",
       "      <td>413318.00</td>\n",
       "      <td>6</td>\n",
       "      <td>3</td>\n",
       "      <td>622055.0</td>\n",
       "      <td>1239954.0</td>\n",
       "      <td>1</td>\n",
       "    </tr>\n",
       "    <tr>\n",
       "      <th>3</th>\n",
       "      <td>10003</td>\n",
       "      <td>3</td>\n",
       "      <td>1</td>\n",
       "      <td>29</td>\n",
       "      <td>39079</td>\n",
       "      <td>Silver</td>\n",
       "      <td>Gold</td>\n",
       "      <td>175993.00</td>\n",
       "      <td>219067.83</td>\n",
       "      <td>6</td>\n",
       "      <td>6</td>\n",
       "      <td>1055958.0</td>\n",
       "      <td>1314407.0</td>\n",
       "      <td>1</td>\n",
       "    </tr>\n",
       "    <tr>\n",
       "      <th>4</th>\n",
       "      <td>10004</td>\n",
       "      <td>2</td>\n",
       "      <td>0</td>\n",
       "      <td>39</td>\n",
       "      <td>102429</td>\n",
       "      <td>Silver</td>\n",
       "      <td>Gold</td>\n",
       "      <td>127336.50</td>\n",
       "      <td>254242.17</td>\n",
       "      <td>8</td>\n",
       "      <td>6</td>\n",
       "      <td>1018692.0</td>\n",
       "      <td>1525453.0</td>\n",
       "      <td>1</td>\n",
       "    </tr>\n",
       "  </tbody>\n",
       "</table>\n",
       "</div>"
      ],
      "text/plain": [
       "   cusno  region  gender  age  income grade_20 grade_21   ARPPU_20   ARPPU_21  \\\n",
       "0  10000       3       1   54   61526   Silver   Silver  132476.14  201843.25   \n",
       "1  10001       4       1   24    8709   Silver     Gold  106503.00  303332.57   \n",
       "2  10002       2       0   40   94143   Silver     Gold  103675.83  413318.00   \n",
       "3  10003       3       1   29   39079   Silver     Gold  175993.00  219067.83   \n",
       "4  10004       2       0   39  102429   Silver     Gold  127336.50  254242.17   \n",
       "\n",
       "   AVC_20  AVC_21     ASC_20     ASC_21  purchase_trend  \n",
       "0       7       4   927333.0   807373.0               0  \n",
       "1       8       7   852024.0  2123328.0               1  \n",
       "2       6       3   622055.0  1239954.0               1  \n",
       "3       6       6  1055958.0  1314407.0               1  \n",
       "4       8       6  1018692.0  1525453.0               1  "
      ]
     },
     "execution_count": 35,
     "metadata": {},
     "output_type": "execute_result"
    }
   ],
   "source": [
    "# 20년 대비 21년 구매량이 늘면 1, 줄면 0\n",
    "customer.purchase_trend = np.where(customer.ASC_21 > customer.ASC_20, 1,0)\n",
    "customer.head()"
   ]
  },
  {
   "cell_type": "markdown",
   "id": "50ea8baa",
   "metadata": {},
   "source": [
    "## DataFrame 확인"
   ]
  },
  {
   "cell_type": "code",
   "execution_count": 36,
   "id": "6a47bebb",
   "metadata": {
    "ExecuteTime": {
     "end_time": "2022-07-15T12:18:51.483601Z",
     "start_time": "2022-07-15T12:18:51.476300Z"
    },
    "scrolled": true
   },
   "outputs": [
    {
     "data": {
      "text/html": [
       "<div>\n",
       "<style scoped>\n",
       "    .dataframe tbody tr th:only-of-type {\n",
       "        vertical-align: middle;\n",
       "    }\n",
       "\n",
       "    .dataframe tbody tr th {\n",
       "        vertical-align: top;\n",
       "    }\n",
       "\n",
       "    .dataframe thead th {\n",
       "        text-align: right;\n",
       "    }\n",
       "</style>\n",
       "<table border=\"1\" class=\"dataframe\">\n",
       "  <thead>\n",
       "    <tr style=\"text-align: right;\">\n",
       "      <th></th>\n",
       "      <th>cusno</th>\n",
       "      <th>region</th>\n",
       "      <th>gender</th>\n",
       "      <th>age</th>\n",
       "      <th>income</th>\n",
       "      <th>grade_20</th>\n",
       "      <th>grade_21</th>\n",
       "      <th>ARPPU_20</th>\n",
       "      <th>ARPPU_21</th>\n",
       "      <th>AVC_20</th>\n",
       "      <th>AVC_21</th>\n",
       "      <th>ASC_20</th>\n",
       "      <th>ASC_21</th>\n",
       "      <th>purchase_trend</th>\n",
       "    </tr>\n",
       "  </thead>\n",
       "  <tbody>\n",
       "    <tr>\n",
       "      <th>0</th>\n",
       "      <td>10000</td>\n",
       "      <td>3</td>\n",
       "      <td>1</td>\n",
       "      <td>54</td>\n",
       "      <td>61526</td>\n",
       "      <td>Silver</td>\n",
       "      <td>Silver</td>\n",
       "      <td>132476.14</td>\n",
       "      <td>201843.25</td>\n",
       "      <td>7</td>\n",
       "      <td>4</td>\n",
       "      <td>927333.0</td>\n",
       "      <td>807373.0</td>\n",
       "      <td>0</td>\n",
       "    </tr>\n",
       "    <tr>\n",
       "      <th>1</th>\n",
       "      <td>10001</td>\n",
       "      <td>4</td>\n",
       "      <td>1</td>\n",
       "      <td>24</td>\n",
       "      <td>8709</td>\n",
       "      <td>Silver</td>\n",
       "      <td>Gold</td>\n",
       "      <td>106503.00</td>\n",
       "      <td>303332.57</td>\n",
       "      <td>8</td>\n",
       "      <td>7</td>\n",
       "      <td>852024.0</td>\n",
       "      <td>2123328.0</td>\n",
       "      <td>1</td>\n",
       "    </tr>\n",
       "    <tr>\n",
       "      <th>2</th>\n",
       "      <td>10002</td>\n",
       "      <td>2</td>\n",
       "      <td>0</td>\n",
       "      <td>40</td>\n",
       "      <td>94143</td>\n",
       "      <td>Silver</td>\n",
       "      <td>Gold</td>\n",
       "      <td>103675.83</td>\n",
       "      <td>413318.00</td>\n",
       "      <td>6</td>\n",
       "      <td>3</td>\n",
       "      <td>622055.0</td>\n",
       "      <td>1239954.0</td>\n",
       "      <td>1</td>\n",
       "    </tr>\n",
       "    <tr>\n",
       "      <th>3</th>\n",
       "      <td>10003</td>\n",
       "      <td>3</td>\n",
       "      <td>1</td>\n",
       "      <td>29</td>\n",
       "      <td>39079</td>\n",
       "      <td>Silver</td>\n",
       "      <td>Gold</td>\n",
       "      <td>175993.00</td>\n",
       "      <td>219067.83</td>\n",
       "      <td>6</td>\n",
       "      <td>6</td>\n",
       "      <td>1055958.0</td>\n",
       "      <td>1314407.0</td>\n",
       "      <td>1</td>\n",
       "    </tr>\n",
       "    <tr>\n",
       "      <th>4</th>\n",
       "      <td>10004</td>\n",
       "      <td>2</td>\n",
       "      <td>0</td>\n",
       "      <td>39</td>\n",
       "      <td>102429</td>\n",
       "      <td>Silver</td>\n",
       "      <td>Gold</td>\n",
       "      <td>127336.50</td>\n",
       "      <td>254242.17</td>\n",
       "      <td>8</td>\n",
       "      <td>6</td>\n",
       "      <td>1018692.0</td>\n",
       "      <td>1525453.0</td>\n",
       "      <td>1</td>\n",
       "    </tr>\n",
       "  </tbody>\n",
       "</table>\n",
       "</div>"
      ],
      "text/plain": [
       "   cusno  region  gender  age  income grade_20 grade_21   ARPPU_20   ARPPU_21  \\\n",
       "0  10000       3       1   54   61526   Silver   Silver  132476.14  201843.25   \n",
       "1  10001       4       1   24    8709   Silver     Gold  106503.00  303332.57   \n",
       "2  10002       2       0   40   94143   Silver     Gold  103675.83  413318.00   \n",
       "3  10003       3       1   29   39079   Silver     Gold  175993.00  219067.83   \n",
       "4  10004       2       0   39  102429   Silver     Gold  127336.50  254242.17   \n",
       "\n",
       "   AVC_20  AVC_21     ASC_20     ASC_21  purchase_trend  \n",
       "0       7       4   927333.0   807373.0               0  \n",
       "1       8       7   852024.0  2123328.0               1  \n",
       "2       6       3   622055.0  1239954.0               1  \n",
       "3       6       6  1055958.0  1314407.0               1  \n",
       "4       8       6  1018692.0  1525453.0               1  "
      ]
     },
     "execution_count": 36,
     "metadata": {},
     "output_type": "execute_result"
    }
   ],
   "source": [
    "customer.head()\n",
    "# customer.info()"
   ]
  },
  {
   "cell_type": "code",
   "execution_count": 37,
   "id": "8032aebc-7b20-4257-9b5a-832684495e99",
   "metadata": {},
   "outputs": [
    {
     "data": {
      "text/plain": [
       "0.323"
      ]
     },
     "execution_count": 37,
     "metadata": {},
     "output_type": "execute_result"
    }
   ],
   "source": [
    "customer.purchase_trend.mean() # 29% 고객들의 매출이 늘었음, 71%의 고객들의 매출이 줄어듬."
   ]
  },
  {
   "cell_type": "code",
   "execution_count": 38,
   "id": "3681c3fc-8a17-4637-affa-411cfb69c507",
   "metadata": {},
   "outputs": [
    {
     "data": {
      "text/html": [
       "<div>\n",
       "<style scoped>\n",
       "    .dataframe tbody tr th:only-of-type {\n",
       "        vertical-align: middle;\n",
       "    }\n",
       "\n",
       "    .dataframe tbody tr th {\n",
       "        vertical-align: top;\n",
       "    }\n",
       "\n",
       "    .dataframe thead tr th {\n",
       "        text-align: left;\n",
       "    }\n",
       "\n",
       "    .dataframe thead tr:last-of-type th {\n",
       "        text-align: right;\n",
       "    }\n",
       "</style>\n",
       "<table border=\"1\" class=\"dataframe\">\n",
       "  <thead>\n",
       "    <tr>\n",
       "      <th></th>\n",
       "      <th colspan=\"2\" halign=\"left\">AVC_20</th>\n",
       "      <th colspan=\"2\" halign=\"left\">AVC_21</th>\n",
       "    </tr>\n",
       "    <tr>\n",
       "      <th>gender</th>\n",
       "      <th>0</th>\n",
       "      <th>1</th>\n",
       "      <th>0</th>\n",
       "      <th>1</th>\n",
       "    </tr>\n",
       "    <tr>\n",
       "      <th>region</th>\n",
       "      <th></th>\n",
       "      <th></th>\n",
       "      <th></th>\n",
       "      <th></th>\n",
       "    </tr>\n",
       "  </thead>\n",
       "  <tbody>\n",
       "    <tr>\n",
       "      <th>1</th>\n",
       "      <td>5.700000</td>\n",
       "      <td>6.250000</td>\n",
       "      <td>3.900000</td>\n",
       "      <td>4.016667</td>\n",
       "    </tr>\n",
       "    <tr>\n",
       "      <th>2</th>\n",
       "      <td>5.631579</td>\n",
       "      <td>5.810811</td>\n",
       "      <td>4.013158</td>\n",
       "      <td>4.216216</td>\n",
       "    </tr>\n",
       "    <tr>\n",
       "      <th>3</th>\n",
       "      <td>5.986577</td>\n",
       "      <td>6.192053</td>\n",
       "      <td>3.771812</td>\n",
       "      <td>4.152318</td>\n",
       "    </tr>\n",
       "    <tr>\n",
       "      <th>4</th>\n",
       "      <td>5.813187</td>\n",
       "      <td>6.339450</td>\n",
       "      <td>3.846154</td>\n",
       "      <td>4.183486</td>\n",
       "    </tr>\n",
       "    <tr>\n",
       "      <th>5</th>\n",
       "      <td>5.777778</td>\n",
       "      <td>6.161290</td>\n",
       "      <td>4.039683</td>\n",
       "      <td>3.887097</td>\n",
       "    </tr>\n",
       "  </tbody>\n",
       "</table>\n",
       "</div>"
      ],
      "text/plain": [
       "          AVC_20              AVC_21          \n",
       "gender         0         1         0         1\n",
       "region                                        \n",
       "1       5.700000  6.250000  3.900000  4.016667\n",
       "2       5.631579  5.810811  4.013158  4.216216\n",
       "3       5.986577  6.192053  3.771812  4.152318\n",
       "4       5.813187  6.339450  3.846154  4.183486\n",
       "5       5.777778  6.161290  4.039683  3.887097"
      ]
     },
     "execution_count": 38,
     "metadata": {},
     "output_type": "execute_result"
    }
   ],
   "source": [
    "table = customer.pivot_table(index=['region'],columns=['gender'],values=['AVC_20','AVC_21'],aggfunc='mean')\n",
    "table"
   ]
  },
  {
   "cell_type": "code",
   "execution_count": 39,
   "id": "e525bd71-d717-476d-bd09-cf432704f82b",
   "metadata": {},
   "outputs": [
    {
     "data": {
      "text/plain": [
       "<AxesSubplot:xlabel='region', ylabel='income'>"
      ]
     },
     "execution_count": 39,
     "metadata": {},
     "output_type": "execute_result"
    },
    {
     "data": {
      "image/png": "[encoded data removed]",
      "text/plain": [
       "<Figure size 432x288 with 1 Axes>"
      ]
     },
     "metadata": {
      "needs_background": "light"
     },
     "output_type": "display_data"
    }
   ],
   "source": [
    "# 지역별 연봉 분포\n",
    "customer.plot(x='region', y='income', kind='scatter')"
   ]
  },
  {
   "cell_type": "code",
   "execution_count": 40,
   "id": "01b7d79f-a0c8-4d83-854d-d054e648515d",
   "metadata": {},
   "outputs": [
    {
     "data": {
      "text/plain": [
       "<AxesSubplot:xlabel='region', ylabel='age'>"
      ]
     },
     "execution_count": 40,
     "metadata": {},
     "output_type": "execute_result"
    },
    {
     "data": {
      "image/png": "[encoded data removed]",
      "text/plain": [
       "<Figure size 432x288 with 1 Axes>"
      ]
     },
     "metadata": {
      "needs_background": "light"
     },
     "output_type": "display_data"
    }
   ],
   "source": [
    "# 지역별 나이 분포\n",
    "customer.plot(x='region', y='age', kind='scatter')"
   ]
  },
  {
   "cell_type": "code",
   "execution_count": 41,
   "id": "399d7d5a-242b-424a-90c4-7d4e09f78b78",
   "metadata": {},
   "outputs": [
    {
     "data": {
      "text/plain": [
       "<AxesSubplot:xlabel='region'>"
      ]
     },
     "execution_count": 41,
     "metadata": {},
     "output_type": "execute_result"
    },
    {
     "data": {
      "image/png": "[encoded data removed]",
      "text/plain": [
       "<Figure size 432x288 with 1 Axes>"
      ]
     },
     "metadata": {
      "needs_background": "light"
     },
     "output_type": "display_data"
    }
   ],
   "source": [
    "# 지역별 매출 증가 비율( 남/여 )\n",
    "table = customer.pivot_table(index=['region'],columns=['gender'],values=['purchase_trend'],aggfunc='mean')\n",
    "table.plot()"
   ]
  },
  {
   "cell_type": "code",
   "execution_count": 42,
   "id": "30ca7502",
   "metadata": {
    "ExecuteTime": {
     "end_time": "2022-07-15T12:18:51.489249Z",
     "start_time": "2022-07-15T12:18:51.485693Z"
    }
   },
   "outputs": [
    {
     "data": {
      "text/plain": [
       "<AxesSubplot:xlabel='price_grade', ylabel='price'>"
      ]
     },
     "execution_count": 42,
     "metadata": {},
     "output_type": "execute_result"
    },
    {
     "data": {
      "image/png": "[encoded data removed]",
      "text/plain": [
       "<Figure size 432x288 with 1 Axes>"
      ]
     },
     "metadata": {
      "needs_background": "light"
     },
     "output_type": "display_data"
    }
   ],
   "source": [
    "# 상품 등급별 가격분포\n",
    "product.head()\n",
    "# product.info()\n",
    "x = product.price_grade\n",
    "y = product.price\n",
    "sns.violinplot(x,y,data=product, color='skyblue')"
   ]
  },
  {
   "cell_type": "code",
   "execution_count": 52,
   "id": "bc7ae713",
   "metadata": {
    "ExecuteTime": {
     "end_time": "2022-07-15T12:18:51.495199Z",
     "start_time": "2022-07-15T12:18:51.490391Z"
    },
    "scrolled": true
   },
   "outputs": [
    {
     "data": {
      "text/html": [
       "<div>\n",
       "<style scoped>\n",
       "    .dataframe tbody tr th:only-of-type {\n",
       "        vertical-align: middle;\n",
       "    }\n",
       "\n",
       "    .dataframe tbody tr th {\n",
       "        vertical-align: top;\n",
       "    }\n",
       "\n",
       "    .dataframe thead th {\n",
       "        text-align: right;\n",
       "    }\n",
       "</style>\n",
       "<table border=\"1\" class=\"dataframe\">\n",
       "  <thead>\n",
       "    <tr style=\"text-align: right;\">\n",
       "      <th></th>\n",
       "      <th>ts_num</th>\n",
       "      <th>ts_cusno</th>\n",
       "      <th>ts_product_num</th>\n",
       "      <th>quantity</th>\n",
       "      <th>amount</th>\n",
       "      <th>date</th>\n",
       "      <th>year</th>\n",
       "      <th>day</th>\n",
       "      <th>time</th>\n",
       "      <th>ts_price</th>\n",
       "      <th>ts_grade</th>\n",
       "    </tr>\n",
       "  </thead>\n",
       "  <tbody>\n",
       "    <tr>\n",
       "      <th>5862</th>\n",
       "      <td>0</td>\n",
       "      <td>10066</td>\n",
       "      <td>3</td>\n",
       "      <td>4</td>\n",
       "      <td>234740</td>\n",
       "      <td>2020-01-01</td>\n",
       "      <td>2020</td>\n",
       "      <td>2</td>\n",
       "      <td>20</td>\n",
       "      <td>58685</td>\n",
       "      <td>1</td>\n",
       "    </tr>\n",
       "    <tr>\n",
       "      <th>7039</th>\n",
       "      <td>1</td>\n",
       "      <td>10439</td>\n",
       "      <td>45</td>\n",
       "      <td>6</td>\n",
       "      <td>188280</td>\n",
       "      <td>2020-01-01</td>\n",
       "      <td>2020</td>\n",
       "      <td>2</td>\n",
       "      <td>19</td>\n",
       "      <td>31380</td>\n",
       "      <td>2</td>\n",
       "    </tr>\n",
       "    <tr>\n",
       "      <th>2372</th>\n",
       "      <td>2</td>\n",
       "      <td>10492</td>\n",
       "      <td>96</td>\n",
       "      <td>6</td>\n",
       "      <td>18186</td>\n",
       "      <td>2020-01-01</td>\n",
       "      <td>2020</td>\n",
       "      <td>2</td>\n",
       "      <td>20</td>\n",
       "      <td>3031</td>\n",
       "      <td>3</td>\n",
       "    </tr>\n",
       "    <tr>\n",
       "      <th>8956</th>\n",
       "      <td>3</td>\n",
       "      <td>10023</td>\n",
       "      <td>3</td>\n",
       "      <td>2</td>\n",
       "      <td>117370</td>\n",
       "      <td>2020-01-01</td>\n",
       "      <td>2020</td>\n",
       "      <td>2</td>\n",
       "      <td>17</td>\n",
       "      <td>58685</td>\n",
       "      <td>1</td>\n",
       "    </tr>\n",
       "    <tr>\n",
       "      <th>3747</th>\n",
       "      <td>4</td>\n",
       "      <td>10773</td>\n",
       "      <td>71</td>\n",
       "      <td>2</td>\n",
       "      <td>150024</td>\n",
       "      <td>2020-01-01</td>\n",
       "      <td>2020</td>\n",
       "      <td>2</td>\n",
       "      <td>8</td>\n",
       "      <td>75012</td>\n",
       "      <td>1</td>\n",
       "    </tr>\n",
       "    <tr>\n",
       "      <th>...</th>\n",
       "      <td>...</td>\n",
       "      <td>...</td>\n",
       "      <td>...</td>\n",
       "      <td>...</td>\n",
       "      <td>...</td>\n",
       "      <td>...</td>\n",
       "      <td>...</td>\n",
       "      <td>...</td>\n",
       "      <td>...</td>\n",
       "      <td>...</td>\n",
       "      <td>...</td>\n",
       "    </tr>\n",
       "    <tr>\n",
       "      <th>8930</th>\n",
       "      <td>9995</td>\n",
       "      <td>10382</td>\n",
       "      <td>90</td>\n",
       "      <td>6</td>\n",
       "      <td>500280</td>\n",
       "      <td>2021-12-30</td>\n",
       "      <td>2021</td>\n",
       "      <td>3</td>\n",
       "      <td>1</td>\n",
       "      <td>83380</td>\n",
       "      <td>1</td>\n",
       "    </tr>\n",
       "    <tr>\n",
       "      <th>174</th>\n",
       "      <td>9996</td>\n",
       "      <td>10562</td>\n",
       "      <td>67</td>\n",
       "      <td>1</td>\n",
       "      <td>85567</td>\n",
       "      <td>2021-12-30</td>\n",
       "      <td>2021</td>\n",
       "      <td>3</td>\n",
       "      <td>4</td>\n",
       "      <td>85567</td>\n",
       "      <td>1</td>\n",
       "    </tr>\n",
       "    <tr>\n",
       "      <th>527</th>\n",
       "      <td>9997</td>\n",
       "      <td>10487</td>\n",
       "      <td>17</td>\n",
       "      <td>3</td>\n",
       "      <td>299808</td>\n",
       "      <td>2021-12-30</td>\n",
       "      <td>2021</td>\n",
       "      <td>3</td>\n",
       "      <td>19</td>\n",
       "      <td>99936</td>\n",
       "      <td>1</td>\n",
       "    </tr>\n",
       "    <tr>\n",
       "      <th>1894</th>\n",
       "      <td>9998</td>\n",
       "      <td>10800</td>\n",
       "      <td>55</td>\n",
       "      <td>2</td>\n",
       "      <td>59164</td>\n",
       "      <td>2021-12-30</td>\n",
       "      <td>2021</td>\n",
       "      <td>3</td>\n",
       "      <td>6</td>\n",
       "      <td>29582</td>\n",
       "      <td>2</td>\n",
       "    </tr>\n",
       "    <tr>\n",
       "      <th>1080</th>\n",
       "      <td>9999</td>\n",
       "      <td>10421</td>\n",
       "      <td>51</td>\n",
       "      <td>6</td>\n",
       "      <td>141714</td>\n",
       "      <td>2021-12-30</td>\n",
       "      <td>2021</td>\n",
       "      <td>3</td>\n",
       "      <td>2</td>\n",
       "      <td>23619</td>\n",
       "      <td>2</td>\n",
       "    </tr>\n",
       "  </tbody>\n",
       "</table>\n",
       "<p>10000 rows × 11 columns</p>\n",
       "</div>"
      ],
      "text/plain": [
       "      ts_num  ts_cusno  ts_product_num  quantity  amount       date  year  \\\n",
       "5862       0     10066               3         4  234740 2020-01-01  2020   \n",
       "7039       1     10439              45         6  188280 2020-01-01  2020   \n",
       "2372       2     10492              96         6   18186 2020-01-01  2020   \n",
       "8956       3     10023               3         2  117370 2020-01-01  2020   \n",
       "3747       4     10773              71         2  150024 2020-01-01  2020   \n",
       "...      ...       ...             ...       ...     ...        ...   ...   \n",
       "8930    9995     10382              90         6  500280 2021-12-30  2021   \n",
       "174     9996     10562              67         1   85567 2021-12-30  2021   \n",
       "527     9997     10487              17         3  299808 2021-12-30  2021   \n",
       "1894    9998     10800              55         2   59164 2021-12-30  2021   \n",
       "1080    9999     10421              51         6  141714 2021-12-30  2021   \n",
       "\n",
       "      day  time  ts_price  ts_grade  \n",
       "5862    2    20     58685         1  \n",
       "7039    2    19     31380         2  \n",
       "2372    2    20      3031         3  \n",
       "8956    2    17     58685         1  \n",
       "3747    2     8     75012         1  \n",
       "...   ...   ...       ...       ...  \n",
       "8930    3     1     83380         1  \n",
       "174     3     4     85567         1  \n",
       "527     3    19     99936         1  \n",
       "1894    3     6     29582         2  \n",
       "1080    3     2     23619         2  \n",
       "\n",
       "[10000 rows x 11 columns]"
      ]
     },
     "execution_count": 52,
     "metadata": {},
     "output_type": "execute_result"
    }
   ],
   "source": [
    "# purchase.head()\n",
    "purchase"
   ]
  },
  {
   "cell_type": "code",
   "execution_count": 44,
   "id": "878cdd40-30c3-4474-8bc8-804062bc2a67",
   "metadata": {},
   "outputs": [
    {
     "data": {
      "text/html": [
       "<div>\n",
       "<style scoped>\n",
       "    .dataframe tbody tr th:only-of-type {\n",
       "        vertical-align: middle;\n",
       "    }\n",
       "\n",
       "    .dataframe tbody tr th {\n",
       "        vertical-align: top;\n",
       "    }\n",
       "\n",
       "    .dataframe thead tr th {\n",
       "        text-align: left;\n",
       "    }\n",
       "\n",
       "    .dataframe thead tr:last-of-type th {\n",
       "        text-align: right;\n",
       "    }\n",
       "</style>\n",
       "<table border=\"1\" class=\"dataframe\">\n",
       "  <thead>\n",
       "    <tr>\n",
       "      <th></th>\n",
       "      <th colspan=\"3\" halign=\"left\">amount</th>\n",
       "    </tr>\n",
       "    <tr>\n",
       "      <th>ts_grade</th>\n",
       "      <th>1</th>\n",
       "      <th>2</th>\n",
       "      <th>3</th>\n",
       "    </tr>\n",
       "    <tr>\n",
       "      <th>year</th>\n",
       "      <th></th>\n",
       "      <th></th>\n",
       "      <th></th>\n",
       "    </tr>\n",
       "  </thead>\n",
       "  <tbody>\n",
       "    <tr>\n",
       "      <th>2020</th>\n",
       "      <td>NaN</td>\n",
       "      <td>NaN</td>\n",
       "      <td>NaN</td>\n",
       "    </tr>\n",
       "    <tr>\n",
       "      <th>2021</th>\n",
       "      <td>0.021191</td>\n",
       "      <td>-0.030825</td>\n",
       "      <td>-0.004613</td>\n",
       "    </tr>\n",
       "  </tbody>\n",
       "</table>\n",
       "</div>"
      ],
      "text/plain": [
       "            amount                    \n",
       "ts_grade         1         2         3\n",
       "year                                  \n",
       "2020           NaN       NaN       NaN\n",
       "2021      0.021191 -0.030825 -0.004613"
      ]
     },
     "execution_count": 44,
     "metadata": {},
     "output_type": "execute_result"
    }
   ],
   "source": [
    "# 상품 등급별 매출 증가 여부\n",
    "table = purchase.pivot_table(index=['year'],columns=['ts_grade'],values=['amount'],aggfunc='mean')\n",
    "table.pct_change()\n",
    "# table"
   ]
  },
  {
   "cell_type": "markdown",
   "id": "ab247dc9",
   "metadata": {},
   "source": [
    "## 데이터 분석 및 시각화"
   ]
  },
  {
   "cell_type": "code",
   "execution_count": 45,
   "id": "f927a641",
   "metadata": {
    "ExecuteTime": {
     "end_time": "2022-07-15T12:32:03.771352Z",
     "start_time": "2022-07-15T12:32:03.551202Z"
    }
   },
   "outputs": [
    {
     "data": {
      "text/plain": [
       "<matplotlib.legend.Legend at 0x7ff021312cd0>"
      ]
     },
     "execution_count": 45,
     "metadata": {},
     "output_type": "execute_result"
    },
    {
     "data": {
      "image/png": "[encoded data removed]",
      "text/plain": [
       "<Figure size 576x288 with 1 Axes>"
      ]
     },
     "metadata": {
      "needs_background": "light"
     },
     "output_type": "display_data"
    }
   ],
   "source": [
    "# 매출 증가 그래프\n",
    "x = purchase.date\n",
    "y = purchase.amount.cumsum()\n",
    "\n",
    "plt.figure(figsize=(8,4))\n",
    "plt.plot(x,y,color='blue',marker='o',markersize=1)\n",
    "plt.title('매출 증가 그래프',size=20)\n",
    "plt.xlabel('날짜',size=10)\n",
    "plt.ylabel('누적매출',size=10)\n",
    "plt.legend(labels=[''])\n"
   ]
  },
  {
   "cell_type": "code",
   "execution_count": 46,
   "id": "5eb3a442",
   "metadata": {
    "ExecuteTime": {
     "end_time": "2022-07-15T12:18:51.507738Z",
     "start_time": "2022-07-15T12:18:45.232Z"
    }
   },
   "outputs": [
    {
     "data": {
      "text/plain": [
       "<seaborn.axisgrid.FacetGrid at 0x7ff021269fd0>"
      ]
     },
     "execution_count": 46,
     "metadata": {},
     "output_type": "execute_result"
    },
    {
     "data": {
      "image/png": "[encoded data removed]",
      "text/plain": [
       "<Figure size 1275.2x316.8 with 10 Axes>"
      ]
     },
     "metadata": {
      "needs_background": "light"
     },
     "output_type": "display_data"
    }
   ],
   "source": [
    "# 지역별 연령 분포\n",
    "grid = sns.FacetGrid(customer, row='gender', col='region', height=2.2, aspect=1.6)\n",
    "grid.map(plt.hist, 'age', alpha=.5,bins=5)\n",
    "grid.add_legend()"
   ]
  },
  {
   "cell_type": "code",
   "execution_count": 47,
   "id": "25eac7ca",
   "metadata": {
    "ExecuteTime": {
     "end_time": "2022-07-15T12:18:51.508322Z",
     "start_time": "2022-07-15T12:18:45.319Z"
    }
   },
   "outputs": [
    {
     "data": {
      "text/plain": [
       "<seaborn.axisgrid.FacetGrid at 0x7ff052c3a610>"
      ]
     },
     "execution_count": 47,
     "metadata": {},
     "output_type": "execute_result"
    },
    {
     "data": {
      "image/png": "[encoded data removed]",
      "text/plain": [
       "<Figure size 768.32x316.8 with 6 Axes>"
      ]
     },
     "metadata": {
      "needs_background": "light"
     },
     "output_type": "display_data"
    }
   ],
   "source": [
    "# 21년도 등급별 당해 매출 차이\n",
    "grid = sns.FacetGrid(customer, row='gender', col='grade_21', height=2.2, aspect=1.6)\n",
    "\n",
    "grid.map(sns.barplot, 'age', 'ASC_21', alpha=.5, ci=None, order=(10,20,30,40,50,60,70))\n",
    "\n",
    "grid.add_legend()"
   ]
  },
  {
   "cell_type": "code",
   "execution_count": 48,
   "id": "85d7fdf9-09d4-494e-9de4-360fd09aa1e1",
   "metadata": {},
   "outputs": [
    {
     "data": {
      "text/html": [
       "<div>\n",
       "<style scoped>\n",
       "    .dataframe tbody tr th:only-of-type {\n",
       "        vertical-align: middle;\n",
       "    }\n",
       "\n",
       "    .dataframe tbody tr th {\n",
       "        vertical-align: top;\n",
       "    }\n",
       "\n",
       "    .dataframe thead th {\n",
       "        text-align: right;\n",
       "    }\n",
       "</style>\n",
       "<table border=\"1\" class=\"dataframe\">\n",
       "  <thead>\n",
       "    <tr style=\"text-align: right;\">\n",
       "      <th></th>\n",
       "      <th>cusno</th>\n",
       "      <th>region</th>\n",
       "      <th>gender</th>\n",
       "      <th>age</th>\n",
       "      <th>income</th>\n",
       "      <th>grade_20</th>\n",
       "      <th>grade_21</th>\n",
       "      <th>ARPPU_20</th>\n",
       "      <th>ARPPU_21</th>\n",
       "      <th>AVC_20</th>\n",
       "      <th>AVC_21</th>\n",
       "      <th>ASC_20</th>\n",
       "      <th>ASC_21</th>\n",
       "      <th>purchase_trend</th>\n",
       "    </tr>\n",
       "  </thead>\n",
       "  <tbody>\n",
       "    <tr>\n",
       "      <th>0</th>\n",
       "      <td>10000</td>\n",
       "      <td>3</td>\n",
       "      <td>1</td>\n",
       "      <td>54</td>\n",
       "      <td>61526</td>\n",
       "      <td>Silver</td>\n",
       "      <td>Silver</td>\n",
       "      <td>132476.14</td>\n",
       "      <td>201843.25</td>\n",
       "      <td>7</td>\n",
       "      <td>4</td>\n",
       "      <td>927333.0</td>\n",
       "      <td>807373.0</td>\n",
       "      <td>0</td>\n",
       "    </tr>\n",
       "    <tr>\n",
       "      <th>1</th>\n",
       "      <td>10001</td>\n",
       "      <td>4</td>\n",
       "      <td>1</td>\n",
       "      <td>24</td>\n",
       "      <td>8709</td>\n",
       "      <td>Silver</td>\n",
       "      <td>Gold</td>\n",
       "      <td>106503.00</td>\n",
       "      <td>303332.57</td>\n",
       "      <td>8</td>\n",
       "      <td>7</td>\n",
       "      <td>852024.0</td>\n",
       "      <td>2123328.0</td>\n",
       "      <td>1</td>\n",
       "    </tr>\n",
       "    <tr>\n",
       "      <th>2</th>\n",
       "      <td>10002</td>\n",
       "      <td>2</td>\n",
       "      <td>0</td>\n",
       "      <td>40</td>\n",
       "      <td>94143</td>\n",
       "      <td>Silver</td>\n",
       "      <td>Gold</td>\n",
       "      <td>103675.83</td>\n",
       "      <td>413318.00</td>\n",
       "      <td>6</td>\n",
       "      <td>3</td>\n",
       "      <td>622055.0</td>\n",
       "      <td>1239954.0</td>\n",
       "      <td>1</td>\n",
       "    </tr>\n",
       "    <tr>\n",
       "      <th>3</th>\n",
       "      <td>10003</td>\n",
       "      <td>3</td>\n",
       "      <td>1</td>\n",
       "      <td>29</td>\n",
       "      <td>39079</td>\n",
       "      <td>Silver</td>\n",
       "      <td>Gold</td>\n",
       "      <td>175993.00</td>\n",
       "      <td>219067.83</td>\n",
       "      <td>6</td>\n",
       "      <td>6</td>\n",
       "      <td>1055958.0</td>\n",
       "      <td>1314407.0</td>\n",
       "      <td>1</td>\n",
       "    </tr>\n",
       "    <tr>\n",
       "      <th>4</th>\n",
       "      <td>10004</td>\n",
       "      <td>2</td>\n",
       "      <td>0</td>\n",
       "      <td>39</td>\n",
       "      <td>102429</td>\n",
       "      <td>Silver</td>\n",
       "      <td>Gold</td>\n",
       "      <td>127336.50</td>\n",
       "      <td>254242.17</td>\n",
       "      <td>8</td>\n",
       "      <td>6</td>\n",
       "      <td>1018692.0</td>\n",
       "      <td>1525453.0</td>\n",
       "      <td>1</td>\n",
       "    </tr>\n",
       "  </tbody>\n",
       "</table>\n",
       "</div>"
      ],
      "text/plain": [
       "   cusno  region  gender  age  income grade_20 grade_21   ARPPU_20   ARPPU_21  \\\n",
       "0  10000       3       1   54   61526   Silver   Silver  132476.14  201843.25   \n",
       "1  10001       4       1   24    8709   Silver     Gold  106503.00  303332.57   \n",
       "2  10002       2       0   40   94143   Silver     Gold  103675.83  413318.00   \n",
       "3  10003       3       1   29   39079   Silver     Gold  175993.00  219067.83   \n",
       "4  10004       2       0   39  102429   Silver     Gold  127336.50  254242.17   \n",
       "\n",
       "   AVC_20  AVC_21     ASC_20     ASC_21  purchase_trend  \n",
       "0       7       4   927333.0   807373.0               0  \n",
       "1       8       7   852024.0  2123328.0               1  \n",
       "2       6       3   622055.0  1239954.0               1  \n",
       "3       6       6  1055958.0  1314407.0               1  \n",
       "4       8       6  1018692.0  1525453.0               1  "
      ]
     },
     "execution_count": 48,
     "metadata": {},
     "output_type": "execute_result"
    }
   ],
   "source": [
    "customer.head()"
   ]
  },
  {
   "cell_type": "code",
   "execution_count": 49,
   "id": "250032c0",
   "metadata": {
    "ExecuteTime": {
     "end_time": "2022-07-15T12:18:51.508927Z",
     "start_time": "2022-07-15T12:18:45.400Z"
    }
   },
   "outputs": [
    {
     "data": {
      "text/plain": [
       "<seaborn.axisgrid.FacetGrid at 0x7ff0414e8880>"
      ]
     },
     "execution_count": 49,
     "metadata": {},
     "output_type": "execute_result"
    },
    {
     "data": {
      "image/png": "[encoded data removed]",
      "text/plain": [
       "<Figure size 474.375x1080 with 5 Axes>"
      ]
     },
     "metadata": {
      "needs_background": "light"
     },
     "output_type": "display_data"
    }
   ],
   "source": [
    "grid = sns.FacetGrid(customer, row='region', height=3, aspect=2)\n",
    "\n",
    "# Pointplot으로 시각화, x: 객실 등급, y: 생존 여부, 색깔: 성별, x축 순서: [1, 2, 3], 색깔 순서: [남성, 여성]\n",
    "grid.map(sns.pointplot, 'age', 'purchase_trend','gender', palette='deep',order=[0,10,20,30,40,50,60,70,80],hue_order=[0,1])\n",
    "\n",
    "grid.add_legend()"
   ]
  },
  {
   "cell_type": "code",
   "execution_count": 50,
   "id": "a7b4fe80",
   "metadata": {
    "ExecuteTime": {
     "end_time": "2022-07-15T12:18:51.509514Z",
     "start_time": "2022-07-15T12:18:45.487Z"
    }
   },
   "outputs": [
    {
     "ename": "NameError",
     "evalue": "name 'df_1' is not defined",
     "output_type": "error",
     "traceback": [
      "\u001b[0;31m---------------------------------------------------------------------------\u001b[0m",
      "\u001b[0;31mNameError\u001b[0m                                 Traceback (most recent call last)",
      "Input \u001b[0;32mIn [50]\u001b[0m, in \u001b[0;36m<cell line: 5>\u001b[0;34m()\u001b[0m\n\u001b[1;32m      2\u001b[0m \u001b[38;5;28;01mfrom\u001b[39;00m \u001b[38;5;21;01msklearn\u001b[39;00m\u001b[38;5;21;01m.\u001b[39;00m\u001b[38;5;21;01mmodel_selection\u001b[39;00m \u001b[38;5;28;01mimport\u001b[39;00m train_test_split\n\u001b[1;32m      4\u001b[0m \u001b[38;5;66;03m# 독립변수, 종속 변수 분리\u001b[39;00m\n\u001b[0;32m----> 5\u001b[0m X \u001b[38;5;241m=\u001b[39m \u001b[43mdf_1\u001b[49m[[\u001b[38;5;124m'\u001b[39m\u001b[38;5;124mgender_c\u001b[39m\u001b[38;5;124m'\u001b[39m, \u001b[38;5;124m'\u001b[39m\u001b[38;5;124mage_c\u001b[39m\u001b[38;5;124m'\u001b[39m, \u001b[38;5;124m'\u001b[39m\u001b[38;5;124mregion_c\u001b[39m\u001b[38;5;124m'\u001b[39m, \u001b[38;5;124m'\u001b[39m\u001b[38;5;124mARPPU_20_c\u001b[39m\u001b[38;5;124m'\u001b[39m,\n\u001b[1;32m      6\u001b[0m           \u001b[38;5;124m'\u001b[39m\u001b[38;5;124mAVC_20_c\u001b[39m\u001b[38;5;124m'\u001b[39m, \u001b[38;5;124m'\u001b[39m\u001b[38;5;124mAVC_21_c\u001b[39m\u001b[38;5;124m'\u001b[39m, \u001b[38;5;124m'\u001b[39m\u001b[38;5;124mamount_20_p\u001b[39m\u001b[38;5;124m'\u001b[39m]]\n\u001b[1;32m      7\u001b[0m y \u001b[38;5;241m=\u001b[39m df_1[\u001b[38;5;124m'\u001b[39m\u001b[38;5;124msales_trend\u001b[39m\u001b[38;5;124m'\u001b[39m]\n\u001b[1;32m      9\u001b[0m \u001b[38;5;66;03m# 학습용 테이터와 평가용 데이터를 8:2로 분리\u001b[39;00m\n",
      "\u001b[0;31mNameError\u001b[0m: name 'df_1' is not defined"
     ]
    }
   ],
   "source": [
    "from sklearn import preprocessing\n",
    "from sklearn.model_selection import train_test_split\n",
    "\n",
    "# 독립변수, 종속 변수 분리\n",
    "X = df_1[['gender_c', 'age_c', 'region_c', 'ARPPU_20_c',\n",
    "          'AVC_20_c', 'AVC_21_c', 'amount_20_p']]\n",
    "y = df_1['sales_trend']\n",
    "\n",
    "# 학습용 테이터와 평가용 데이터를 8:2로 분리\n",
    "X_train, X_test, y_train, y_test = train_test_split(X, y, test_size=0.2,\n",
    "                                                    random_state=10)\n",
    "print(X_train.shape)\n",
    "print(X_test.shape)"
   ]
  },
  {
   "cell_type": "code",
   "execution_count": null,
   "id": "2435954c",
   "metadata": {
    "ExecuteTime": {
     "end_time": "2022-07-15T12:18:51.510003Z",
     "start_time": "2022-07-15T12:18:45.577Z"
    }
   },
   "outputs": [],
   "source": [
    "# Decision Tree\n",
    "from sklearn.metrics import accuracy_score\n",
    "from sklearn.tree import DecisionTreeClassifier\n",
    "dt_model = DecisionTreeClassifier()\n",
    "dt_model.fit(X_train, y_train)\n",
    "dt_pred = dt_model.predict(X_test)\n",
    "\n",
    "print(dt_pred[0:10])\n",
    "print(y_test.values[0:10])\n",
    "\n",
    "accuracy = accuracy_score(y_test, dt_pred)\n",
    "print('dt 예측 정확도 :', accuracy)"
   ]
  },
  {
   "cell_type": "code",
   "execution_count": null,
   "id": "d5ea40f1",
   "metadata": {
    "ExecuteTime": {
     "end_time": "2022-07-15T12:14:03.290851Z",
     "start_time": "2022-07-15T12:14:01.729Z"
    }
   },
   "outputs": [],
   "source": [
    "# Random Forest\n",
    "from sklearn.ensemble import RandomForestClassifier\n",
    "\n",
    "rf_model = RandomForestClassifier()\n",
    "rf_model.fit(X_train, y_train)\n",
    "rf_pred = rf_model.predict(X_test)\n",
    "\n",
    "rf_accuracy = accuracy_score(y_test, rf_pred)\n",
    "print('rf 예측 정확도 :', rf_accuracy)"
   ]
  },
  {
   "cell_type": "code",
   "execution_count": null,
   "id": "47f6c6a7",
   "metadata": {
    "ExecuteTime": {
     "end_time": "2022-07-15T12:14:03.291373Z",
     "start_time": "2022-07-15T12:14:01.729Z"
    }
   },
   "outputs": [],
   "source": [
    "# Logistic Regression\n",
    "from sklearn.linear_model import LogisticRegression\n",
    "import warnings\n",
    "warnings.filterwarnings('ignore')\n",
    "\n",
    "lr_model = LogisticRegression(random_state=0)\n",
    "lr_model.fit(X_train, y_train)\n",
    "lr_pred = lr_model.predict(X_test)\n",
    "\n",
    "lr_accuracy = accuracy_score(y_test, lr_pred)\n",
    "print('lr 예측 정확도 :', accuracy)"
   ]
  }
 ],
 "metadata": {
  "kernelspec": {
   "display_name": "Python 3 (ipykernel)",
   "language": "python",
   "name": "python3"
  },
  "language_info": {
   "codemirror_mode": {
    "name": "ipython",
    "version": 3
   },
   "file_extension": ".py",
   "mimetype": "text/x-python",
   "name": "python",
   "nbconvert_exporter": "python",
   "pygments_lexer": "ipython3",
   "version": "3.9.12"
  },
  "toc": {
   "base_numbering": 1,
   "nav_menu": {},
   "number_sections": true,
   "sideBar": true,
   "skip_h1_title": false,
   "title_cell": "Table of Contents",
   "title_sidebar": "Contents",
   "toc_cell": false,
   "toc_position": {
    "height": "772px",
    "left": "50px",
    "top": "96px",
    "width": "339px"
   },
   "toc_section_display": true,
   "toc_window_display": true
  },
  "toc-autonumbering": true,
  "toc-showmarkdowntxt": true
 },
 "nbformat": 4,
 "nbformat_minor": 5
}
