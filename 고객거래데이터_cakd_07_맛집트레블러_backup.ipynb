{
 "cells": [
  {
   "cell_type": "code",
   "execution_count": 1,
   "id": "a88aad96",
   "metadata": {
    "ExecuteTime": {
     "end_time": "2022-07-17T16:43:37.431973Z",
     "start_time": "2022-07-17T16:43:37.423731Z"
    }
   },
   "outputs": [
    {
     "data": {
      "text/plain": [
       "'/Users/mac/Library/Mobile Documents/com~apple~CloudDocs/GitHub/sales_data_analysis'"
      ]
     },
     "execution_count": 1,
     "metadata": {},
     "output_type": "execute_result"
    }
   ],
   "source": [
    "%pwd"
   ]
  },
  {
   "cell_type": "markdown",
   "id": "c9ea644c",
   "metadata": {},
   "source": [
    "# 인사이트(중앙 편의점)\n",
    "1. 소비 트랜드 만들기 \n",
    "    - 지역 별 소득 수준 구분\n",
    "    - 인당 평균 소비량 감소\n",
    "    - 1 지역 고가품 소비 증가 경향\n",
    "    - 5 지역 저가품 소비 증가 경향\n",
    "       |지역|인구(명)|소득|컨셉|연령 분포|소비 집중 시간|\n",
    "       |-|-|-|-|-|-|\n",
    "       | 1지역 | 100 | 2억 | 부촌 | 고령남여 + 청년 | 일과 시간 소비 |\n",
    "       | 2지역 | 150 | 1억 | 위성신도시 | 신혼 부부 + 어린 자녀 |  평일 오전, 주말 | \n",
    "       | 3지역 | 300 | 5천 | 업무지구 | 30~50대 생상가능인구 | 점심시간, 저녁, (특징: 주말 소비 급감) | \n",
    "       | 4지역 | 200 | 1천 | 대학가 | 20대 | 점심시간, 저녁, (특징: 주말 소비 급감) |\n",
    "       | 5지역 | 250 | 3천 | 일반거주지구 | 노년층 | 늦은 밤 |\n",
    "       \n",
    "       -  소득은 정규분포로 데이터 입력\n",
    "1. 트랜드 분석\n",
    "    - 평균 1회 결제 금액이 큰 고객을 더 유치하기위한 마케팅 계획 수립을 위한 분석\n",
    "    - 최근 변화한 소비 트렌드에 가장 민감하게 반응한 소득별 계층 분석\n",
    "\n",
    "1. 데이터프레임\n",
    "    - 상품 데이터프레임\n",
    ">- product_num* : 상품 코드\n",
    ">- price* : 상품 가격\n",
    ">- price_grade : 고가 중가 저가 여부\n",
    "\n",
    "    - 고객 데이터프레임\n",
    ">- cusno* : 고객 번호\n",
    ">- region* : 지역  \n",
    ">- gender* : 성별  \n",
    ">- age* : 나이  \n",
    ">- income* : 급여  \n",
    ">- grade_20 : 2020년 회원 등급\n",
    ">- grade_21 : 2021년 회원 등급\n",
    ">- ARPPU_20 : 2020년 회당 평균 결제액\n",
    ">- ARPPU_21 : 2021년 회당 평균 결제액\n",
    ">- AVC_20 : 2020년 연간 방문 횟수\n",
    ">- AVC_21 : 2021년 연간 방문 횟수\n",
    ">- purchase_trend : 고개 구매 추세 변화\n",
    "    \n",
    "    - 거래 데이터프레임\n",
    ">- num_ts* : 거래 번호\n",
    ">- cusno_ts* : 고객 변호\n",
    ">- product_num_ts* : 상품코드\n",
    ">- price_ts : 상품 가격\n",
    ">- quantity* : 수량\n",
    ">- amount : 해당 거래 매출\n",
    ">- date*: 거래 날짜\n",
    ">- year, weekday, hour : 거래 년도, 요일, 시간\n",
    "\n",
    " **변수명* <- 독립변수로 직접 입력해준 데이터**"
   ]
  },
  {
   "cell_type": "code",
   "execution_count": 2,
   "id": "2805b6d0",
   "metadata": {
    "ExecuteTime": {
     "end_time": "2022-07-17T16:43:38.269958Z",
     "start_time": "2022-07-17T16:43:37.433949Z"
    }
   },
   "outputs": [],
   "source": [
    "import pandas as pd\n",
    "import numpy as np\n",
    "import matplotlib.pyplot as plt\n",
    "from matplotlib import rc\n",
    "rc('font', family='AppleGothic')\n",
    "plt.rcParams['axes.unicode_minus'] = False\n",
    "import plotly.express as px\n",
    "import seaborn as sns\n",
    "import random\n",
    "import warnings\n",
    "from datetime import datetime\n",
    "from dateutil.parser import parse\n",
    "warnings.filterwarnings('ignore')\n",
    "\n",
    "random.seed(0)"
   ]
  },
  {
   "cell_type": "markdown",
   "id": "65a3b986",
   "metadata": {
    "ExecuteTime": {
     "end_time": "2022-07-14T08:36:50.831874Z",
     "start_time": "2022-07-14T08:36:50.829616Z"
    }
   },
   "source": [
    "## 상품 목록 데이터프레임 만들기 : product"
   ]
  },
  {
   "cell_type": "markdown",
   "id": "8bd1bf67",
   "metadata": {},
   "source": [
    "### 상품 목록 데이터프레임 양식 만들기"
   ]
  },
  {
   "cell_type": "code",
   "execution_count": 3,
   "id": "20b3524f",
   "metadata": {
    "ExecuteTime": {
     "end_time": "2022-07-17T16:43:38.276864Z",
     "start_time": "2022-07-17T16:43:38.270779Z"
    }
   },
   "outputs": [
    {
     "data": {
      "text/html": [
       "<div>\n",
       "<style scoped>\n",
       "    .dataframe tbody tr th:only-of-type {\n",
       "        vertical-align: middle;\n",
       "    }\n",
       "\n",
       "    .dataframe tbody tr th {\n",
       "        vertical-align: top;\n",
       "    }\n",
       "\n",
       "    .dataframe thead th {\n",
       "        text-align: right;\n",
       "    }\n",
       "</style>\n",
       "<table border=\"1\" class=\"dataframe\">\n",
       "  <thead>\n",
       "    <tr style=\"text-align: right;\">\n",
       "      <th></th>\n",
       "      <th>product_num</th>\n",
       "      <th>price</th>\n",
       "      <th>price_grade</th>\n",
       "    </tr>\n",
       "  </thead>\n",
       "  <tbody>\n",
       "  </tbody>\n",
       "</table>\n",
       "</div>"
      ],
      "text/plain": [
       "Empty DataFrame\n",
       "Columns: [product_num, price, price_grade]\n",
       "Index: []"
      ]
     },
     "execution_count": 3,
     "metadata": {},
     "output_type": "execute_result"
    }
   ],
   "source": [
    "product = pd.DataFrame(columns=['product_num', 'price', 'price_grade'])\n",
    "product"
   ]
  },
  {
   "cell_type": "markdown",
   "id": "60a93b08",
   "metadata": {},
   "source": [
    "### 상품 목록 데이터프레임 데이터 채우기"
   ]
  },
  {
   "cell_type": "markdown",
   "id": "2a8471d2",
   "metadata": {
    "ExecuteTime": {
     "end_time": "2022-07-15T07:57:46.018692Z",
     "start_time": "2022-07-15T07:57:45.985750Z"
    },
    "scrolled": true
   },
   "source": [
    "#### 상품 코드 : product_num"
   ]
  },
  {
   "cell_type": "code",
   "execution_count": 4,
   "id": "2681babe",
   "metadata": {
    "ExecuteTime": {
     "end_time": "2022-07-17T16:43:38.280136Z",
     "start_time": "2022-07-17T16:43:38.277676Z"
    }
   },
   "outputs": [],
   "source": [
    "product_num = np.arange(1, 101)\n",
    "product.product_num = product_num"
   ]
  },
  {
   "cell_type": "markdown",
   "id": "a7df4f4b",
   "metadata": {},
   "source": [
    "#### 상품 가격 : price"
   ]
  },
  {
   "cell_type": "code",
   "execution_count": 5,
   "id": "934d805e",
   "metadata": {
    "ExecuteTime": {
     "end_time": "2022-07-17T16:43:38.285091Z",
     "start_time": "2022-07-17T16:43:38.281142Z"
    }
   },
   "outputs": [],
   "source": [
    "price = random.sample(list(range(1000, 100000)), 100)\n",
    "product.price = price"
   ]
  },
  {
   "cell_type": "markdown",
   "id": "2785363e",
   "metadata": {},
   "source": [
    "### 상품 목록 데이터프레임 종속변수"
   ]
  },
  {
   "cell_type": "markdown",
   "id": "c29ed4ea",
   "metadata": {},
   "source": [
    "#### 상품 가격 분류 : price_grade"
   ]
  },
  {
   "cell_type": "code",
   "execution_count": 6,
   "id": "fa9659d1",
   "metadata": {
    "ExecuteTime": {
     "end_time": "2022-07-17T16:43:38.291819Z",
     "start_time": "2022-07-17T16:43:38.286009Z"
    },
    "scrolled": true
   },
   "outputs": [
    {
     "data": {
      "text/html": [
       "<div>\n",
       "<style scoped>\n",
       "    .dataframe tbody tr th:only-of-type {\n",
       "        vertical-align: middle;\n",
       "    }\n",
       "\n",
       "    .dataframe tbody tr th {\n",
       "        vertical-align: top;\n",
       "    }\n",
       "\n",
       "    .dataframe thead th {\n",
       "        text-align: right;\n",
       "    }\n",
       "</style>\n",
       "<table border=\"1\" class=\"dataframe\">\n",
       "  <thead>\n",
       "    <tr style=\"text-align: right;\">\n",
       "      <th></th>\n",
       "      <th>product_num</th>\n",
       "      <th>price</th>\n",
       "      <th>price_grade</th>\n",
       "    </tr>\n",
       "  </thead>\n",
       "  <tbody>\n",
       "    <tr>\n",
       "      <th>0</th>\n",
       "      <td>1</td>\n",
       "      <td>51494</td>\n",
       "      <td>1</td>\n",
       "    </tr>\n",
       "    <tr>\n",
       "      <th>1</th>\n",
       "      <td>2</td>\n",
       "      <td>56125</td>\n",
       "      <td>1</td>\n",
       "    </tr>\n",
       "    <tr>\n",
       "      <th>2</th>\n",
       "      <td>3</td>\n",
       "      <td>6306</td>\n",
       "      <td>3</td>\n",
       "    </tr>\n",
       "    <tr>\n",
       "      <th>3</th>\n",
       "      <td>4</td>\n",
       "      <td>34936</td>\n",
       "      <td>2</td>\n",
       "    </tr>\n",
       "    <tr>\n",
       "      <th>4</th>\n",
       "      <td>5</td>\n",
       "      <td>68013</td>\n",
       "      <td>1</td>\n",
       "    </tr>\n",
       "    <tr>\n",
       "      <th>...</th>\n",
       "      <td>...</td>\n",
       "      <td>...</td>\n",
       "      <td>...</td>\n",
       "    </tr>\n",
       "    <tr>\n",
       "      <th>95</th>\n",
       "      <td>96</td>\n",
       "      <td>25100</td>\n",
       "      <td>2</td>\n",
       "    </tr>\n",
       "    <tr>\n",
       "      <th>96</th>\n",
       "      <td>97</td>\n",
       "      <td>25823</td>\n",
       "      <td>2</td>\n",
       "    </tr>\n",
       "    <tr>\n",
       "      <th>97</th>\n",
       "      <td>98</td>\n",
       "      <td>25475</td>\n",
       "      <td>2</td>\n",
       "    </tr>\n",
       "    <tr>\n",
       "      <th>98</th>\n",
       "      <td>99</td>\n",
       "      <td>5321</td>\n",
       "      <td>3</td>\n",
       "    </tr>\n",
       "    <tr>\n",
       "      <th>99</th>\n",
       "      <td>100</td>\n",
       "      <td>81317</td>\n",
       "      <td>1</td>\n",
       "    </tr>\n",
       "  </tbody>\n",
       "</table>\n",
       "<p>100 rows × 3 columns</p>\n",
       "</div>"
      ],
      "text/plain": [
       "    product_num  price price_grade\n",
       "0             1  51494           1\n",
       "1             2  56125           1\n",
       "2             3   6306           3\n",
       "3             4  34936           2\n",
       "4             5  68013           1\n",
       "..          ...    ...         ...\n",
       "95           96  25100           2\n",
       "96           97  25823           2\n",
       "97           98  25475           2\n",
       "98           99   5321           3\n",
       "99          100  81317           1\n",
       "\n",
       "[100 rows x 3 columns]"
      ]
     },
     "execution_count": 6,
     "metadata": {},
     "output_type": "execute_result"
    }
   ],
   "source": [
    "# price_grade : 고가품 : 1, 중가품 : 2, 저가품 : 3\n",
    "\n",
    "def price_grade(x):\n",
    "    y = 0\n",
    "    if x <= 20000:\n",
    "        y = '3'\n",
    "    elif x <= 50000:\n",
    "        y = '2'\n",
    "    else:\n",
    "        y = '1'\n",
    "    return y\n",
    "\n",
    "\n",
    "product['price_grade'] = product['price'].apply(price_grade)\n",
    "product"
   ]
  },
  {
   "cell_type": "markdown",
   "id": "57e5fdf8",
   "metadata": {},
   "source": [
    "## 거래 데이터 만들기 : purchase"
   ]
  },
  {
   "cell_type": "markdown",
   "id": "33b5b325",
   "metadata": {},
   "source": [
    "### 거래 데이터프레임 만들기"
   ]
  },
  {
   "cell_type": "markdown",
   "id": "9a1acce0",
   "metadata": {},
   "source": [
    "#### 거래 데이터프레임 양식 만들기"
   ]
  },
  {
   "cell_type": "code",
   "execution_count": 7,
   "id": "c0057d6e",
   "metadata": {
    "ExecuteTime": {
     "end_time": "2022-07-17T16:43:38.296664Z",
     "start_time": "2022-07-17T16:43:38.292699Z"
    }
   },
   "outputs": [
    {
     "data": {
      "text/html": [
       "<div>\n",
       "<style scoped>\n",
       "    .dataframe tbody tr th:only-of-type {\n",
       "        vertical-align: middle;\n",
       "    }\n",
       "\n",
       "    .dataframe tbody tr th {\n",
       "        vertical-align: top;\n",
       "    }\n",
       "\n",
       "    .dataframe thead th {\n",
       "        text-align: right;\n",
       "    }\n",
       "</style>\n",
       "<table border=\"1\" class=\"dataframe\">\n",
       "  <thead>\n",
       "    <tr style=\"text-align: right;\">\n",
       "      <th></th>\n",
       "      <th>num_ts</th>\n",
       "      <th>cusno_ts</th>\n",
       "      <th>product_num_ts</th>\n",
       "      <th>price_ts</th>\n",
       "      <th>quantity</th>\n",
       "      <th>amount</th>\n",
       "      <th>date</th>\n",
       "      <th>year</th>\n",
       "      <th>weekday</th>\n",
       "      <th>hour</th>\n",
       "    </tr>\n",
       "  </thead>\n",
       "  <tbody>\n",
       "  </tbody>\n",
       "</table>\n",
       "</div>"
      ],
      "text/plain": [
       "Empty DataFrame\n",
       "Columns: [num_ts, cusno_ts, product_num_ts, price_ts, quantity, amount, date, year, weekday, hour]\n",
       "Index: []"
      ]
     },
     "execution_count": 7,
     "metadata": {},
     "output_type": "execute_result"
    }
   ],
   "source": [
    "purchase = pd.DataFrame(columns=['num_ts', 'cusno_ts', 'product_num_ts', 'price_ts',\n",
    "                        'quantity', 'amount', 'date', 'year', 'weekday', 'hour'])\n",
    "purchase"
   ]
  },
  {
   "cell_type": "markdown",
   "id": "29c5e03d",
   "metadata": {},
   "source": [
    "### 거래 데이터프레임 데이터 채우기"
   ]
  },
  {
   "cell_type": "markdown",
   "id": "072ae6c9",
   "metadata": {},
   "source": [
    "#### 날짜,요일,시간 : date, day, time"
   ]
  },
  {
   "cell_type": "code",
   "execution_count": 8,
   "id": "7ba936e9",
   "metadata": {
    "ExecuteTime": {
     "end_time": "2022-07-17T16:43:38.387023Z",
     "start_time": "2022-07-17T16:43:38.298679Z"
    },
    "scrolled": true
   },
   "outputs": [
    {
     "name": "stdout",
     "output_type": "stream",
     "text": [
      "<class 'pandas.core.frame.DataFrame'>\n",
      "RangeIndex: 10000 entries, 0 to 9999\n",
      "Data columns (total 10 columns):\n",
      " #   Column          Non-Null Count  Dtype         \n",
      "---  ------          --------------  -----         \n",
      " 0   num_ts          0 non-null      object        \n",
      " 1   cusno_ts        0 non-null      object        \n",
      " 2   product_num_ts  0 non-null      object        \n",
      " 3   price_ts        0 non-null      object        \n",
      " 4   quantity        0 non-null      object        \n",
      " 5   amount          0 non-null      object        \n",
      " 6   date            10000 non-null  datetime64[ns]\n",
      " 7   year            10000 non-null  int64         \n",
      " 8   weekday         10000 non-null  int64         \n",
      " 9   hour            10000 non-null  int64         \n",
      "dtypes: datetime64[ns](1), int64(3), object(6)\n",
      "memory usage: 781.4+ KB\n"
     ]
    }
   ],
   "source": [
    "# date\n",
    "# date 간격 : 시간\n",
    "date_list_20 = list(pd.date_range('2020-01-01', '2020-12-31', freq='H'))\n",
    "date_list_21 = list(pd.date_range('2021-01-01', '2021-12-31', freq='H'))\n",
    "\n",
    "# 2020 년 거래량 6000건\n",
    "date_20 = np.random.choice(date_list_20, size=6000).tolist()\n",
    "# 2021 년 거래량 4000건\n",
    "date_21 = np.random.choice(date_list_21, size=4000).tolist()\n",
    "date = date_20 + date_21\n",
    "random.shuffle(date)\n",
    "date = pd.Series(date)\n",
    "\n",
    "#date 에서 년-월-일 형식의 날짜 추출\n",
    "# purchase.date = date.dt.date\n",
    "purchase.date = pd.to_datetime(date.dt.date)\n",
    "\n",
    "# # year(년도)\n",
    "purchase.year = date.dt.year\n",
    "\n",
    "# # day(요일)\n",
    "purchase.weekday = date.dt.weekday\n",
    "\n",
    "# # 시간\n",
    "purchase.hour = date.dt.hour\n",
    "\n",
    "purchase.info()"
   ]
  },
  {
   "cell_type": "markdown",
   "id": "bafb7fb7",
   "metadata": {},
   "source": [
    "#### 거래 번호 : num_ts"
   ]
  },
  {
   "cell_type": "code",
   "execution_count": 9,
   "id": "618e0aca",
   "metadata": {
    "ExecuteTime": {
     "end_time": "2022-07-17T16:43:38.392332Z",
     "start_time": "2022-07-17T16:43:38.388743Z"
    }
   },
   "outputs": [],
   "source": [
    "num_ts = np.arange(0, 10000)\n",
    "purchase.num_ts = num_ts"
   ]
  },
  {
   "cell_type": "markdown",
   "id": "debfb15f",
   "metadata": {},
   "source": [
    "#### 고객번호 : cusno_ts"
   ]
  },
  {
   "cell_type": "code",
   "execution_count": 10,
   "id": "a799d939",
   "metadata": {
    "ExecuteTime": {
     "end_time": "2022-07-17T16:43:38.396276Z",
     "start_time": "2022-07-17T16:43:38.393276Z"
    }
   },
   "outputs": [],
   "source": [
    "# 기존 cusno가 중복될 수 있도록 만들기\n",
    "cusno_ts = np.random.choice(list(np.arange(10000, 11000)), size=10000)\n",
    "purchase.cusno_ts = cusno_ts"
   ]
  },
  {
   "cell_type": "markdown",
   "id": "c29f2ddd",
   "metadata": {},
   "source": [
    "#### 상품코드 : product_num_ts"
   ]
  },
  {
   "cell_type": "code",
   "execution_count": 11,
   "id": "dd2298d7",
   "metadata": {
    "ExecuteTime": {
     "end_time": "2022-07-17T16:43:38.523834Z",
     "start_time": "2022-07-17T16:43:38.397172Z"
    }
   },
   "outputs": [],
   "source": [
    "product_num_ts = np.random.choice(list(product_num), size=10000)\n",
    "purchase.product_num_ts = product_num_ts\n",
    "\n",
    "price_grade_1 = product[product['price_grade'] == '1'].product_num.tolist()\n",
    "price_grade_2 = product[product['price_grade'] == '2'].product_num.tolist()\n",
    "price_grade_3 = product[product['price_grade'] == '3'].product_num.tolist()\n",
    "price_grade_3\n",
    "\n",
    "price_grade_1_20 = np.random.choice(price_grade_1, 1000).tolist()\n",
    "price_grade_2_20 = np.random.choice(price_grade_2, 2000).tolist()\n",
    "price_grade_3_20 = np.random.choice(price_grade_3, 3000).tolist()\n",
    "product_num_ts_20 = price_grade_1_20 + price_grade_2_20 + price_grade_3_20\n",
    "random.shuffle(product_num_ts_20)\n",
    "purchase[purchase['year'] == 2020].product_num_ts = product_num_ts_20\n",
    "\n",
    "price_grade_1_21 = np.random.choice(price_grade_1, 2000).tolist()\n",
    "price_grade_2_21 = np.random.choice(price_grade_2, 1000).tolist()\n",
    "price_grade_3_21 = np.random.choice(price_grade_3, 1000).tolist()\n",
    "product_num_ts_21 = price_grade_1_21 + price_grade_2_21 + price_grade_3_21\n",
    "random.shuffle(product_num_ts_21)\n",
    "purchase[purchase['year'] == 2021].product_num_ts = product_num_ts_21"
   ]
  },
  {
   "cell_type": "markdown",
   "id": "6e45d254",
   "metadata": {},
   "source": [
    "#### 상품 가격 : price_ts"
   ]
  },
  {
   "cell_type": "code",
   "execution_count": 12,
   "id": "ce850268",
   "metadata": {
    "ExecuteTime": {
     "end_time": "2022-07-17T16:43:40.530531Z",
     "start_time": "2022-07-17T16:43:38.524789Z"
    }
   },
   "outputs": [
    {
     "data": {
      "text/html": [
       "<div>\n",
       "<style scoped>\n",
       "    .dataframe tbody tr th:only-of-type {\n",
       "        vertical-align: middle;\n",
       "    }\n",
       "\n",
       "    .dataframe tbody tr th {\n",
       "        vertical-align: top;\n",
       "    }\n",
       "\n",
       "    .dataframe thead th {\n",
       "        text-align: right;\n",
       "    }\n",
       "</style>\n",
       "<table border=\"1\" class=\"dataframe\">\n",
       "  <thead>\n",
       "    <tr style=\"text-align: right;\">\n",
       "      <th></th>\n",
       "      <th>num_ts</th>\n",
       "      <th>cusno_ts</th>\n",
       "      <th>product_num_ts</th>\n",
       "      <th>price_ts</th>\n",
       "      <th>quantity</th>\n",
       "      <th>amount</th>\n",
       "      <th>date</th>\n",
       "      <th>year</th>\n",
       "      <th>weekday</th>\n",
       "      <th>hour</th>\n",
       "    </tr>\n",
       "  </thead>\n",
       "  <tbody>\n",
       "    <tr>\n",
       "      <th>0</th>\n",
       "      <td>0</td>\n",
       "      <td>10712</td>\n",
       "      <td>100</td>\n",
       "      <td>81317</td>\n",
       "      <td>NaN</td>\n",
       "      <td>NaN</td>\n",
       "      <td>2020-05-27</td>\n",
       "      <td>2020</td>\n",
       "      <td>2</td>\n",
       "      <td>1</td>\n",
       "    </tr>\n",
       "    <tr>\n",
       "      <th>1</th>\n",
       "      <td>1</td>\n",
       "      <td>10463</td>\n",
       "      <td>44</td>\n",
       "      <td>9163</td>\n",
       "      <td>NaN</td>\n",
       "      <td>NaN</td>\n",
       "      <td>2020-01-22</td>\n",
       "      <td>2020</td>\n",
       "      <td>2</td>\n",
       "      <td>17</td>\n",
       "    </tr>\n",
       "    <tr>\n",
       "      <th>2</th>\n",
       "      <td>2</td>\n",
       "      <td>10199</td>\n",
       "      <td>77</td>\n",
       "      <td>39153</td>\n",
       "      <td>NaN</td>\n",
       "      <td>NaN</td>\n",
       "      <td>2020-02-29</td>\n",
       "      <td>2020</td>\n",
       "      <td>5</td>\n",
       "      <td>13</td>\n",
       "    </tr>\n",
       "    <tr>\n",
       "      <th>3</th>\n",
       "      <td>3</td>\n",
       "      <td>10638</td>\n",
       "      <td>64</td>\n",
       "      <td>30059</td>\n",
       "      <td>NaN</td>\n",
       "      <td>NaN</td>\n",
       "      <td>2020-08-26</td>\n",
       "      <td>2020</td>\n",
       "      <td>2</td>\n",
       "      <td>22</td>\n",
       "    </tr>\n",
       "    <tr>\n",
       "      <th>4</th>\n",
       "      <td>4</td>\n",
       "      <td>10921</td>\n",
       "      <td>95</td>\n",
       "      <td>39054</td>\n",
       "      <td>NaN</td>\n",
       "      <td>NaN</td>\n",
       "      <td>2020-06-11</td>\n",
       "      <td>2020</td>\n",
       "      <td>3</td>\n",
       "      <td>16</td>\n",
       "    </tr>\n",
       "    <tr>\n",
       "      <th>...</th>\n",
       "      <td>...</td>\n",
       "      <td>...</td>\n",
       "      <td>...</td>\n",
       "      <td>...</td>\n",
       "      <td>...</td>\n",
       "      <td>...</td>\n",
       "      <td>...</td>\n",
       "      <td>...</td>\n",
       "      <td>...</td>\n",
       "      <td>...</td>\n",
       "    </tr>\n",
       "    <tr>\n",
       "      <th>9995</th>\n",
       "      <td>9995</td>\n",
       "      <td>10932</td>\n",
       "      <td>6</td>\n",
       "      <td>64691</td>\n",
       "      <td>NaN</td>\n",
       "      <td>NaN</td>\n",
       "      <td>2020-03-11</td>\n",
       "      <td>2020</td>\n",
       "      <td>2</td>\n",
       "      <td>21</td>\n",
       "    </tr>\n",
       "    <tr>\n",
       "      <th>9996</th>\n",
       "      <td>9996</td>\n",
       "      <td>10943</td>\n",
       "      <td>40</td>\n",
       "      <td>63522</td>\n",
       "      <td>NaN</td>\n",
       "      <td>NaN</td>\n",
       "      <td>2020-12-10</td>\n",
       "      <td>2020</td>\n",
       "      <td>3</td>\n",
       "      <td>9</td>\n",
       "    </tr>\n",
       "    <tr>\n",
       "      <th>9997</th>\n",
       "      <td>9997</td>\n",
       "      <td>10744</td>\n",
       "      <td>54</td>\n",
       "      <td>81202</td>\n",
       "      <td>NaN</td>\n",
       "      <td>NaN</td>\n",
       "      <td>2020-07-10</td>\n",
       "      <td>2020</td>\n",
       "      <td>4</td>\n",
       "      <td>20</td>\n",
       "    </tr>\n",
       "    <tr>\n",
       "      <th>9998</th>\n",
       "      <td>9998</td>\n",
       "      <td>10266</td>\n",
       "      <td>60</td>\n",
       "      <td>93227</td>\n",
       "      <td>NaN</td>\n",
       "      <td>NaN</td>\n",
       "      <td>2021-12-27</td>\n",
       "      <td>2021</td>\n",
       "      <td>0</td>\n",
       "      <td>14</td>\n",
       "    </tr>\n",
       "    <tr>\n",
       "      <th>9999</th>\n",
       "      <td>9999</td>\n",
       "      <td>10654</td>\n",
       "      <td>54</td>\n",
       "      <td>81202</td>\n",
       "      <td>NaN</td>\n",
       "      <td>NaN</td>\n",
       "      <td>2020-10-04</td>\n",
       "      <td>2020</td>\n",
       "      <td>6</td>\n",
       "      <td>15</td>\n",
       "    </tr>\n",
       "  </tbody>\n",
       "</table>\n",
       "<p>10000 rows × 10 columns</p>\n",
       "</div>"
      ],
      "text/plain": [
       "      num_ts  cusno_ts  product_num_ts  price_ts quantity amount       date  \\\n",
       "0          0     10712             100     81317      NaN    NaN 2020-05-27   \n",
       "1          1     10463              44      9163      NaN    NaN 2020-01-22   \n",
       "2          2     10199              77     39153      NaN    NaN 2020-02-29   \n",
       "3          3     10638              64     30059      NaN    NaN 2020-08-26   \n",
       "4          4     10921              95     39054      NaN    NaN 2020-06-11   \n",
       "...      ...       ...             ...       ...      ...    ...        ...   \n",
       "9995    9995     10932               6     64691      NaN    NaN 2020-03-11   \n",
       "9996    9996     10943              40     63522      NaN    NaN 2020-12-10   \n",
       "9997    9997     10744              54     81202      NaN    NaN 2020-07-10   \n",
       "9998    9998     10266              60     93227      NaN    NaN 2021-12-27   \n",
       "9999    9999     10654              54     81202      NaN    NaN 2020-10-04   \n",
       "\n",
       "      year  weekday  hour  \n",
       "0     2020        2     1  \n",
       "1     2020        2    17  \n",
       "2     2020        5    13  \n",
       "3     2020        2    22  \n",
       "4     2020        3    16  \n",
       "...    ...      ...   ...  \n",
       "9995  2020        2    21  \n",
       "9996  2020        3     9  \n",
       "9997  2020        4    20  \n",
       "9998  2021        0    14  \n",
       "9999  2020        6    15  \n",
       "\n",
       "[10000 rows x 10 columns]"
      ]
     },
     "execution_count": 12,
     "metadata": {},
     "output_type": "execute_result"
    }
   ],
   "source": [
    "def price(x):\n",
    "    price = str(product[product.product_num == x].price)\n",
    "    price = int(price.split()[1])\n",
    "    return price\n",
    "\n",
    "\n",
    "purchase.price_ts = pd.Series(purchase.product_num_ts.map(price))\n",
    "purchase"
   ]
  },
  {
   "cell_type": "markdown",
   "id": "31336753",
   "metadata": {},
   "source": [
    "#### 구매수량 : quantity"
   ]
  },
  {
   "cell_type": "code",
   "execution_count": 13,
   "id": "33dd2bca",
   "metadata": {
    "ExecuteTime": {
     "end_time": "2022-07-17T16:43:40.557148Z",
     "start_time": "2022-07-17T16:43:40.531478Z"
    },
    "scrolled": true
   },
   "outputs": [
    {
     "name": "stdout",
     "output_type": "stream",
     "text": [
      "<class 'pandas.core.frame.DataFrame'>\n",
      "RangeIndex: 10000 entries, 0 to 9999\n",
      "Data columns (total 10 columns):\n",
      " #   Column          Non-Null Count  Dtype         \n",
      "---  ------          --------------  -----         \n",
      " 0   num_ts          10000 non-null  int64         \n",
      " 1   cusno_ts        10000 non-null  int64         \n",
      " 2   product_num_ts  10000 non-null  int64         \n",
      " 3   price_ts        10000 non-null  int64         \n",
      " 4   quantity        10000 non-null  object        \n",
      " 5   amount          0 non-null      object        \n",
      " 6   date            10000 non-null  datetime64[ns]\n",
      " 7   year            10000 non-null  int64         \n",
      " 8   weekday         10000 non-null  int64         \n",
      " 9   hour            10000 non-null  int64         \n",
      "dtypes: datetime64[ns](1), int64(7), object(2)\n",
      "memory usage: 781.4+ KB\n"
     ]
    }
   ],
   "source": [
    "# 2020년 구매수량 데이터 생성\n",
    "a_20 = np.random.randint(1, 4, size=4500).tolist()\n",
    "b_20 = np.random.randint(4, 7, size=3500).tolist()\n",
    "c_20 = np.random.randint(7, 10, size=2000).tolist()\n",
    "li_20 = a_20+b_20+c_20\n",
    "random.shuffle(li_20)\n",
    "purchase.quantity[purchase.year == 2020] = li_20\n",
    "\n",
    "# 2021년 구매수량 데이터 생성\n",
    "a_21 = np.random.randint(1, 4, size=6500).tolist()\n",
    "b_21 = np.random.randint(4, 7, size=2500).tolist()\n",
    "c_21 = np.random.randint(7, 10, size=1000).tolist()\n",
    "li_21 = a_21+b_21+c_21\n",
    "random.shuffle(li_21)\n",
    "purchase.quantity[purchase.year == 2021] = li_21\n",
    "purchase.info()"
   ]
  },
  {
   "cell_type": "markdown",
   "id": "61af84ed",
   "metadata": {},
   "source": [
    "### 거래 데이터프레임 종속변수"
   ]
  },
  {
   "cell_type": "markdown",
   "id": "bfb227c2",
   "metadata": {},
   "source": [
    "#### 거래별 거래총액 : amount"
   ]
  },
  {
   "cell_type": "code",
   "execution_count": 14,
   "id": "4ea2caa4",
   "metadata": {
    "ExecuteTime": {
     "end_time": "2022-07-17T16:43:42.730751Z",
     "start_time": "2022-07-17T16:43:40.558039Z"
    },
    "scrolled": true
   },
   "outputs": [
    {
     "data": {
      "text/html": [
       "<div>\n",
       "<style scoped>\n",
       "    .dataframe tbody tr th:only-of-type {\n",
       "        vertical-align: middle;\n",
       "    }\n",
       "\n",
       "    .dataframe tbody tr th {\n",
       "        vertical-align: top;\n",
       "    }\n",
       "\n",
       "    .dataframe thead th {\n",
       "        text-align: right;\n",
       "    }\n",
       "</style>\n",
       "<table border=\"1\" class=\"dataframe\">\n",
       "  <thead>\n",
       "    <tr style=\"text-align: right;\">\n",
       "      <th></th>\n",
       "      <th>num_ts</th>\n",
       "      <th>cusno_ts</th>\n",
       "      <th>product_num_ts</th>\n",
       "      <th>price_ts</th>\n",
       "      <th>quantity</th>\n",
       "      <th>amount</th>\n",
       "      <th>date</th>\n",
       "      <th>year</th>\n",
       "      <th>weekday</th>\n",
       "      <th>hour</th>\n",
       "    </tr>\n",
       "  </thead>\n",
       "  <tbody>\n",
       "    <tr>\n",
       "      <th>0</th>\n",
       "      <td>0</td>\n",
       "      <td>10712</td>\n",
       "      <td>100</td>\n",
       "      <td>81317</td>\n",
       "      <td>4</td>\n",
       "      <td>325268</td>\n",
       "      <td>2020-05-27</td>\n",
       "      <td>2020</td>\n",
       "      <td>2</td>\n",
       "      <td>1</td>\n",
       "    </tr>\n",
       "    <tr>\n",
       "      <th>1</th>\n",
       "      <td>1</td>\n",
       "      <td>10463</td>\n",
       "      <td>44</td>\n",
       "      <td>9163</td>\n",
       "      <td>5</td>\n",
       "      <td>45815</td>\n",
       "      <td>2020-01-22</td>\n",
       "      <td>2020</td>\n",
       "      <td>2</td>\n",
       "      <td>17</td>\n",
       "    </tr>\n",
       "    <tr>\n",
       "      <th>2</th>\n",
       "      <td>2</td>\n",
       "      <td>10199</td>\n",
       "      <td>77</td>\n",
       "      <td>39153</td>\n",
       "      <td>6</td>\n",
       "      <td>234918</td>\n",
       "      <td>2020-02-29</td>\n",
       "      <td>2020</td>\n",
       "      <td>5</td>\n",
       "      <td>13</td>\n",
       "    </tr>\n",
       "    <tr>\n",
       "      <th>3</th>\n",
       "      <td>3</td>\n",
       "      <td>10638</td>\n",
       "      <td>64</td>\n",
       "      <td>30059</td>\n",
       "      <td>1</td>\n",
       "      <td>30059</td>\n",
       "      <td>2020-08-26</td>\n",
       "      <td>2020</td>\n",
       "      <td>2</td>\n",
       "      <td>22</td>\n",
       "    </tr>\n",
       "    <tr>\n",
       "      <th>4</th>\n",
       "      <td>4</td>\n",
       "      <td>10921</td>\n",
       "      <td>95</td>\n",
       "      <td>39054</td>\n",
       "      <td>2</td>\n",
       "      <td>78108</td>\n",
       "      <td>2020-06-11</td>\n",
       "      <td>2020</td>\n",
       "      <td>3</td>\n",
       "      <td>16</td>\n",
       "    </tr>\n",
       "    <tr>\n",
       "      <th>...</th>\n",
       "      <td>...</td>\n",
       "      <td>...</td>\n",
       "      <td>...</td>\n",
       "      <td>...</td>\n",
       "      <td>...</td>\n",
       "      <td>...</td>\n",
       "      <td>...</td>\n",
       "      <td>...</td>\n",
       "      <td>...</td>\n",
       "      <td>...</td>\n",
       "    </tr>\n",
       "    <tr>\n",
       "      <th>9995</th>\n",
       "      <td>9995</td>\n",
       "      <td>10932</td>\n",
       "      <td>6</td>\n",
       "      <td>64691</td>\n",
       "      <td>5</td>\n",
       "      <td>323455</td>\n",
       "      <td>2020-03-11</td>\n",
       "      <td>2020</td>\n",
       "      <td>2</td>\n",
       "      <td>21</td>\n",
       "    </tr>\n",
       "    <tr>\n",
       "      <th>9996</th>\n",
       "      <td>9996</td>\n",
       "      <td>10943</td>\n",
       "      <td>40</td>\n",
       "      <td>63522</td>\n",
       "      <td>6</td>\n",
       "      <td>381132</td>\n",
       "      <td>2020-12-10</td>\n",
       "      <td>2020</td>\n",
       "      <td>3</td>\n",
       "      <td>9</td>\n",
       "    </tr>\n",
       "    <tr>\n",
       "      <th>9997</th>\n",
       "      <td>9997</td>\n",
       "      <td>10744</td>\n",
       "      <td>54</td>\n",
       "      <td>81202</td>\n",
       "      <td>1</td>\n",
       "      <td>81202</td>\n",
       "      <td>2020-07-10</td>\n",
       "      <td>2020</td>\n",
       "      <td>4</td>\n",
       "      <td>20</td>\n",
       "    </tr>\n",
       "    <tr>\n",
       "      <th>9998</th>\n",
       "      <td>9998</td>\n",
       "      <td>10266</td>\n",
       "      <td>60</td>\n",
       "      <td>93227</td>\n",
       "      <td>2</td>\n",
       "      <td>186454</td>\n",
       "      <td>2021-12-27</td>\n",
       "      <td>2021</td>\n",
       "      <td>0</td>\n",
       "      <td>14</td>\n",
       "    </tr>\n",
       "    <tr>\n",
       "      <th>9999</th>\n",
       "      <td>9999</td>\n",
       "      <td>10654</td>\n",
       "      <td>54</td>\n",
       "      <td>81202</td>\n",
       "      <td>1</td>\n",
       "      <td>81202</td>\n",
       "      <td>2020-10-04</td>\n",
       "      <td>2020</td>\n",
       "      <td>6</td>\n",
       "      <td>15</td>\n",
       "    </tr>\n",
       "  </tbody>\n",
       "</table>\n",
       "<p>10000 rows × 10 columns</p>\n",
       "</div>"
      ],
      "text/plain": [
       "      num_ts  cusno_ts  product_num_ts  price_ts quantity  amount       date  \\\n",
       "0          0     10712             100     81317        4  325268 2020-05-27   \n",
       "1          1     10463              44      9163        5   45815 2020-01-22   \n",
       "2          2     10199              77     39153        6  234918 2020-02-29   \n",
       "3          3     10638              64     30059        1   30059 2020-08-26   \n",
       "4          4     10921              95     39054        2   78108 2020-06-11   \n",
       "...      ...       ...             ...       ...      ...     ...        ...   \n",
       "9995    9995     10932               6     64691        5  323455 2020-03-11   \n",
       "9996    9996     10943              40     63522        6  381132 2020-12-10   \n",
       "9997    9997     10744              54     81202        1   81202 2020-07-10   \n",
       "9998    9998     10266              60     93227        2  186454 2021-12-27   \n",
       "9999    9999     10654              54     81202        1   81202 2020-10-04   \n",
       "\n",
       "      year  weekday  hour  \n",
       "0     2020        2     1  \n",
       "1     2020        2    17  \n",
       "2     2020        5    13  \n",
       "3     2020        2    22  \n",
       "4     2020        3    16  \n",
       "...    ...      ...   ...  \n",
       "9995  2020        2    21  \n",
       "9996  2020        3     9  \n",
       "9997  2020        4    20  \n",
       "9998  2021        0    14  \n",
       "9999  2020        6    15  \n",
       "\n",
       "[10000 rows x 10 columns]"
      ]
     },
     "execution_count": 14,
     "metadata": {},
     "output_type": "execute_result"
    }
   ],
   "source": [
    "def price(x):\n",
    "    price = str(product[product.product_num == x].price)\n",
    "    price = int(price.split()[1])\n",
    "    return price\n",
    "\n",
    "\n",
    "purchase.amount = pd.Series(\n",
    "    purchase.product_num_ts.map(price))*purchase.quantity\n",
    "purchase"
   ]
  },
  {
   "cell_type": "markdown",
   "id": "6296d752",
   "metadata": {
    "ExecuteTime": {
     "end_time": "2022-07-14T08:20:20.645016Z",
     "start_time": "2022-07-14T08:20:20.605679Z"
    }
   },
   "source": [
    "## 고객 데이터프레임 만들기 : customer"
   ]
  },
  {
   "cell_type": "markdown",
   "id": "395059e0",
   "metadata": {
    "ExecuteTime": {
     "end_time": "2022-07-14T11:32:11.666425Z",
     "start_time": "2022-07-14T11:32:11.651129Z"
    }
   },
   "source": [
    "### 고객 데이터프레임 양식 만들기"
   ]
  },
  {
   "cell_type": "code",
   "execution_count": 15,
   "id": "be159efa",
   "metadata": {
    "ExecuteTime": {
     "end_time": "2022-07-17T16:43:42.737535Z",
     "start_time": "2022-07-17T16:43:42.731658Z"
    }
   },
   "outputs": [
    {
     "data": {
      "text/html": [
       "<div>\n",
       "<style scoped>\n",
       "    .dataframe tbody tr th:only-of-type {\n",
       "        vertical-align: middle;\n",
       "    }\n",
       "\n",
       "    .dataframe tbody tr th {\n",
       "        vertical-align: top;\n",
       "    }\n",
       "\n",
       "    .dataframe thead th {\n",
       "        text-align: right;\n",
       "    }\n",
       "</style>\n",
       "<table border=\"1\" class=\"dataframe\">\n",
       "  <thead>\n",
       "    <tr style=\"text-align: right;\">\n",
       "      <th></th>\n",
       "      <th>cusno</th>\n",
       "      <th>region</th>\n",
       "      <th>gender</th>\n",
       "      <th>age</th>\n",
       "      <th>income</th>\n",
       "      <th>grade_20</th>\n",
       "      <th>grade_21</th>\n",
       "      <th>ARPPU_20</th>\n",
       "      <th>ARPPU_21</th>\n",
       "      <th>AVC_20</th>\n",
       "      <th>AVC_21</th>\n",
       "      <th>ASC_20</th>\n",
       "      <th>ASC_21</th>\n",
       "      <th>purchase_trend</th>\n",
       "    </tr>\n",
       "  </thead>\n",
       "  <tbody>\n",
       "  </tbody>\n",
       "</table>\n",
       "</div>"
      ],
      "text/plain": [
       "Empty DataFrame\n",
       "Columns: [cusno, region, gender, age, income, grade_20, grade_21, ARPPU_20, ARPPU_21, AVC_20, AVC_21, ASC_20, ASC_21, purchase_trend]\n",
       "Index: []"
      ]
     },
     "execution_count": 15,
     "metadata": {},
     "output_type": "execute_result"
    }
   ],
   "source": [
    "customer = pd.DataFrame(columns=['cusno', 'region', 'gender', 'age',  'income', 'grade_20',\n",
    "                        'grade_21', 'ARPPU_20', 'ARPPU_21', 'AVC_20', 'AVC_21', 'ASC_20', 'ASC_21', 'purchase_trend'])\n",
    "customer"
   ]
  },
  {
   "cell_type": "markdown",
   "id": "aed7e527",
   "metadata": {
    "ExecuteTime": {
     "end_time": "2022-07-15T05:40:54.684672Z",
     "start_time": "2022-07-15T05:40:54.680569Z"
    }
   },
   "source": [
    "### 고객 데이터프레임 데이터 채우기"
   ]
  },
  {
   "cell_type": "markdown",
   "id": "8a3a7cb3",
   "metadata": {
    "ExecuteTime": {
     "end_time": "2022-07-14T12:25:23.887093Z",
     "start_time": "2022-07-14T12:25:23.791326Z"
    },
    "scrolled": true
   },
   "source": [
    "#### 고객 번호 : cusno"
   ]
  },
  {
   "cell_type": "code",
   "execution_count": 16,
   "id": "b8c26eff",
   "metadata": {
    "ExecuteTime": {
     "end_time": "2022-07-17T16:43:42.742926Z",
     "start_time": "2022-07-17T16:43:42.739382Z"
    }
   },
   "outputs": [],
   "source": [
    "cusno = np.arange(10000, 11000)\n",
    "customer.cusno = cusno"
   ]
  },
  {
   "cell_type": "markdown",
   "id": "5014fedc",
   "metadata": {
    "ExecuteTime": {
     "end_time": "2022-07-14T12:25:23.887093Z",
     "start_time": "2022-07-14T12:25:23.791326Z"
    },
    "scrolled": true
   },
   "source": [
    "#### 거주 지역 : region"
   ]
  },
  {
   "cell_type": "code",
   "execution_count": 17,
   "id": "a6f30c7c",
   "metadata": {
    "ExecuteTime": {
     "end_time": "2022-07-17T16:43:42.747853Z",
     "start_time": "2022-07-17T16:43:42.744056Z"
    }
   },
   "outputs": [],
   "source": [
    "# 지역별 인구 분포 산정\n",
    "area_1 = np.random.randint(1, 2, size=100).tolist()\n",
    "area_2 = np.random.randint(2, 3, size=150).tolist()\n",
    "area_3 = np.random.randint(3, 4, size=300).tolist()\n",
    "area_4 = np.random.randint(4, 5, size=200).tolist()\n",
    "area_5 = np.random.randint(5, 6, size=250).tolist()\n",
    "li = area_1+area_2+area_3+area_4+area_5\n",
    "random.shuffle(li)\n",
    "\n",
    "customer.region = li"
   ]
  },
  {
   "cell_type": "markdown",
   "id": "0aaf8238",
   "metadata": {
    "ExecuteTime": {
     "end_time": "2022-07-14T12:25:23.887093Z",
     "start_time": "2022-07-14T12:25:23.791326Z"
    },
    "scrolled": true
   },
   "source": [
    "#### 소득 : income"
   ]
  },
  {
   "cell_type": "code",
   "execution_count": 18,
   "id": "3f2b40bf",
   "metadata": {
    "ExecuteTime": {
     "end_time": "2022-07-17T16:43:42.780766Z",
     "start_time": "2022-07-17T16:43:42.748687Z"
    }
   },
   "outputs": [],
   "source": [
    "# 지역별 소득 분포 산정 : 정규분포 사용\n",
    "customer.income[customer.region == 1] = np.random.normal(10, 3, 100)*20000\n",
    "customer.income[customer.region == 2] = np.random.normal(10, 2, 150)*10000\n",
    "customer.income[customer.region == 3] = np.random.normal(10, 1, 300)*5000\n",
    "customer.income[customer.region == 4] = np.random.normal(10, 2, 200)*1000\n",
    "customer.income[customer.region == 5] = np.random.normal(10, 0.5, 250)*3000\n",
    "customer.income = customer.income.map(lambda x: int(x))"
   ]
  },
  {
   "cell_type": "markdown",
   "id": "fcda3419",
   "metadata": {},
   "source": [
    "##### 지역별 소득 값 중 이상치 보정"
   ]
  },
  {
   "cell_type": "code",
   "execution_count": 19,
   "id": "029ed735",
   "metadata": {
    "ExecuteTime": {
     "end_time": "2022-07-17T16:43:42.869679Z",
     "start_time": "2022-07-17T16:43:42.781631Z"
    },
    "scrolled": true
   },
   "outputs": [
    {
     "data": {
      "text/plain": [
       "<AxesSubplot:xlabel='region', ylabel='income'>"
      ]
     },
     "execution_count": 19,
     "metadata": {},
     "output_type": "execute_result"
    },
    {
     "data": {
      "image/png": "[encoded data removed]",
      "text/plain": [
       "<Figure size 432x288 with 1 Axes>"
      ]
     },
     "metadata": {
      "needs_background": "light"
     },
     "output_type": "display_data"
    }
   ],
   "source": [
    "# 지역에 따른 소득 분포 확인 : by boxenplot\n",
    "sns.boxenplot(x='region', y='income', data=customer, color='skyblue')"
   ]
  },
  {
   "cell_type": "code",
   "execution_count": 20,
   "id": "7921bfc2",
   "metadata": {
    "ExecuteTime": {
     "end_time": "2022-07-17T16:43:42.880671Z",
     "start_time": "2022-07-17T16:43:42.870743Z"
    },
    "scrolled": false
   },
   "outputs": [
    {
     "data": {
      "text/html": [
       "<div>\n",
       "<style scoped>\n",
       "    .dataframe tbody tr th:only-of-type {\n",
       "        vertical-align: middle;\n",
       "    }\n",
       "\n",
       "    .dataframe tbody tr th {\n",
       "        vertical-align: top;\n",
       "    }\n",
       "\n",
       "    .dataframe thead th {\n",
       "        text-align: right;\n",
       "    }\n",
       "</style>\n",
       "<table border=\"1\" class=\"dataframe\">\n",
       "  <thead>\n",
       "    <tr style=\"text-align: right;\">\n",
       "      <th></th>\n",
       "      <th>cusno</th>\n",
       "      <th>region</th>\n",
       "      <th>income</th>\n",
       "    </tr>\n",
       "  </thead>\n",
       "  <tbody>\n",
       "    <tr>\n",
       "      <th>count</th>\n",
       "      <td>1000.000000</td>\n",
       "      <td>1000.000000</td>\n",
       "      <td>1000.000000</td>\n",
       "    </tr>\n",
       "    <tr>\n",
       "      <th>mean</th>\n",
       "      <td>10499.500000</td>\n",
       "      <td>3.350000</td>\n",
       "      <td>58771.797000</td>\n",
       "    </tr>\n",
       "    <tr>\n",
       "      <th>std</th>\n",
       "      <td>288.819436</td>\n",
       "      <td>1.276373</td>\n",
       "      <td>56207.875802</td>\n",
       "    </tr>\n",
       "    <tr>\n",
       "      <th>min</th>\n",
       "      <td>10000.000000</td>\n",
       "      <td>1.000000</td>\n",
       "      <td>4523.000000</td>\n",
       "    </tr>\n",
       "    <tr>\n",
       "      <th>25%</th>\n",
       "      <td>10249.750000</td>\n",
       "      <td>2.750000</td>\n",
       "      <td>28657.750000</td>\n",
       "    </tr>\n",
       "    <tr>\n",
       "      <th>50%</th>\n",
       "      <td>10499.500000</td>\n",
       "      <td>3.000000</td>\n",
       "      <td>44925.500000</td>\n",
       "    </tr>\n",
       "    <tr>\n",
       "      <th>75%</th>\n",
       "      <td>10749.250000</td>\n",
       "      <td>4.250000</td>\n",
       "      <td>59730.250000</td>\n",
       "    </tr>\n",
       "    <tr>\n",
       "      <th>max</th>\n",
       "      <td>10999.000000</td>\n",
       "      <td>5.000000</td>\n",
       "      <td>323201.000000</td>\n",
       "    </tr>\n",
       "  </tbody>\n",
       "</table>\n",
       "</div>"
      ],
      "text/plain": [
       "              cusno       region         income\n",
       "count   1000.000000  1000.000000    1000.000000\n",
       "mean   10499.500000     3.350000   58771.797000\n",
       "std      288.819436     1.276373   56207.875802\n",
       "min    10000.000000     1.000000    4523.000000\n",
       "25%    10249.750000     2.750000   28657.750000\n",
       "50%    10499.500000     3.000000   44925.500000\n",
       "75%    10749.250000     4.250000   59730.250000\n",
       "max    10999.000000     5.000000  323201.000000"
      ]
     },
     "execution_count": 20,
     "metadata": {},
     "output_type": "execute_result"
    }
   ],
   "source": [
    "# 소득 컬럼의 통계 요약\n",
    "customer.describe()"
   ]
  },
  {
   "cell_type": "code",
   "execution_count": 21,
   "id": "dbbd8e9b",
   "metadata": {
    "ExecuteTime": {
     "end_time": "2022-07-17T16:43:42.911161Z",
     "start_time": "2022-07-17T16:43:42.881596Z"
    }
   },
   "outputs": [
    {
     "name": "stdout",
     "output_type": "stream",
     "text": [
      "1지역 이상치\n",
      "Series([], Name: income, dtype: int64) \n",
      "\n",
      "2지역 이상치\n",
      "Series([], Name: income, dtype: int64) \n",
      "\n",
      "3지역 이상치\n",
      "Series([], Name: income, dtype: int64) \n",
      "\n",
      "4지역 이상치\n",
      "545    4523\n",
      "919    4627\n",
      "Name: income, dtype: int64 \n",
      "\n",
      "5지역 이상치\n",
      "Series([], Name: income, dtype: int64) \n",
      "\n"
     ]
    }
   ],
   "source": [
    "# 고객 소득 데이터 이상치 처리\n",
    "for i in range(1, 6):\n",
    "    cus_info = customer[customer.region == i].describe()\n",
    "    # 사분위 수(quartile)\n",
    "    Q1 = cus_info[\"income\"][\"25%\"]\n",
    "    Q3 = cus_info[\"income\"][\"75%\"]\n",
    "    # 사분위간 범위(Interquartile range, IQR)\n",
    "    IQR = Q3 - Q1\n",
    "    print(f'{i}지역 이상치')\n",
    "    mask = (customer[customer.region == i].income <= (Q1 - IQR*1.5)\n",
    "            ) | (customer[customer.region == i].income >= (Q3 + IQR*1.5))\n",
    "    outlier = customer[customer.region == i][mask].income\n",
    "    print(outlier, '\\n')\n",
    "\n",
    "# lower whisker 보다 작거나, upper whisker 보다 큰 값들을 이상치로 판정\n",
    "# 1지역: 2개\n",
    "# 2지역: 0개\n",
    "# 3지역: 2개\n",
    "# 4지역: 4개\n",
    "# 5지역: 2개\n",
    "\n",
    "# 위와 같이 이상치가 발생하였으나 분석 결과 사전에 설정한 가정에 영향이 없다고 판단되어 보정하지 않음"
   ]
  },
  {
   "cell_type": "markdown",
   "id": "39bce640",
   "metadata": {},
   "source": [
    "#### 연령 : age"
   ]
  },
  {
   "cell_type": "markdown",
   "id": "b836733b",
   "metadata": {},
   "source": [
    "##### 지역별 연령 데이터 산정"
   ]
  },
  {
   "cell_type": "code",
   "execution_count": 22,
   "id": "55c7573b",
   "metadata": {
    "ExecuteTime": {
     "end_time": "2022-07-17T16:43:42.945574Z",
     "start_time": "2022-07-17T16:43:42.912910Z"
    },
    "scrolled": false
   },
   "outputs": [],
   "source": [
    "# 1 지역 연령 데이터 생성\n",
    "age_1_old = np.random.normal(65, 6, 60).tolist()\n",
    "age_1_young = np.random.normal(24, 3, 40).tolist()\n",
    "age_1 = age_1_old + age_1_young\n",
    "customer.age[customer.region == 1] = age_1\n",
    "\n",
    "# 2 지역 연령 데이터 생성\n",
    "age_2_old = np.random.normal(40, 3, 100).tolist()\n",
    "age_2_young = np.random.normal(5, 3, 50).tolist()\n",
    "age_2 = age_2_old + age_2_young\n",
    "customer.age[customer.region == 2] = age_2\n",
    "\n",
    "# # 3 지역 연령 데이터 생성\n",
    "age_3 = np.random.randint(23, 57, size=300).tolist()\n",
    "customer.age[customer.region == 3] = age_3\n",
    "\n",
    "# # 4 지역 연령 데이터 생성\n",
    "age_4 = np.random.randint(20, 28, size=200).tolist()\n",
    "customer.age[customer.region == 4] = age_4\n",
    "\n",
    "# # 5 지역 연령 데이터 생성\n",
    "age_5 = np.random.randint(50, 85, size=250).tolist()\n",
    "customer.age[customer.region == 5] = age_5\n",
    "\n",
    "customer.age = customer.age.map(lambda x: int(x))"
   ]
  },
  {
   "cell_type": "markdown",
   "id": "a384c5c0",
   "metadata": {},
   "source": [
    "##### 지역별 연령 중 이상치 보정"
   ]
  },
  {
   "cell_type": "code",
   "execution_count": 23,
   "id": "92d2d399",
   "metadata": {
    "ExecuteTime": {
     "end_time": "2022-07-17T16:43:43.009414Z",
     "start_time": "2022-07-17T16:43:42.946774Z"
    },
    "scrolled": true
   },
   "outputs": [
    {
     "data": {
      "image/png": "[encoded data removed]",
      "text/plain": [
       "<Figure size 432x288 with 1 Axes>"
      ]
     },
     "metadata": {
      "needs_background": "light"
     },
     "output_type": "display_data"
    }
   ],
   "source": [
    "# 지역에 따른 연령 분포 확인 : by boxenplot\n",
    "sns.boxenplot(x='region', y='age', data=customer, color='skyblue');"
   ]
  },
  {
   "cell_type": "code",
   "execution_count": 24,
   "id": "eb51b914",
   "metadata": {
    "ExecuteTime": {
     "end_time": "2022-07-17T16:43:43.035338Z",
     "start_time": "2022-07-17T16:43:43.010608Z"
    },
    "scrolled": true
   },
   "outputs": [
    {
     "name": "stdout",
     "output_type": "stream",
     "text": [
      "1지역 이상치\n",
      "Series([], Name: age, dtype: int64)\n",
      "2지역 이상치\n",
      "Series([], Name: age, dtype: int64)\n",
      "3지역 이상치\n",
      "Series([], Name: age, dtype: int64)\n",
      "4지역 이상치\n",
      "Series([], Name: age, dtype: int64)\n",
      "5지역 이상치\n",
      "Series([], Name: age, dtype: int64)\n"
     ]
    }
   ],
   "source": [
    "# 고객 연령 데이터 이상치 처리\n",
    "for i in range(1, 6):\n",
    "    cus_info = customer[customer.region == i].describe()\n",
    "    # 사분위 수(quartile)\n",
    "    Q1 = cus_info[\"age\"][\"25%\"]\n",
    "    Q3 = cus_info[\"age\"][\"75%\"]\n",
    "    # 사분위간 범위(Interquartile range, IQR)\n",
    "    IQR = Q3-Q1\n",
    "    print(f'{i}지역 이상치')\n",
    "    mask = (customer[customer.region == i].age <= (Q1 - IQR*1.5)\n",
    "            ) | (customer[customer.region == i].age >= (Q3 + IQR*1.5))\n",
    "    outlier = customer[customer.region == i][mask].age\n",
    "    print(outlier)\n",
    "\n",
    "# lower whisker 보다 작거나, upper whisker 보다 큰 값들을 이상치로 판정\n",
    "# 1지역: 0개\n",
    "# 2지역: 0개\n",
    "# 3지역: 0개\n",
    "# 4지역: 0개\n",
    "# 5지역: 0개\n",
    "\n",
    "# 위와 같이 이상치가 발생하였으나 분석 결과 사전에 설정한 가정에 영향이 없다고 판단되어 보정하지 않음"
   ]
  },
  {
   "cell_type": "code",
   "execution_count": 25,
   "id": "293e522c",
   "metadata": {
    "ExecuteTime": {
     "end_time": "2022-07-17T16:43:43.042051Z",
     "start_time": "2022-07-17T16:43:43.036545Z"
    }
   },
   "outputs": [
    {
     "name": "stdout",
     "output_type": "stream",
     "text": [
      "1\n",
      "15    1\n",
      "18    1\n",
      "19    1\n",
      "20    2\n",
      "21    3\n",
      "22    8\n",
      "23    5\n",
      "24    3\n",
      "25    5\n",
      "26    4\n",
      "28    2\n",
      "29    2\n",
      "30    2\n",
      "33    1\n",
      "50    1\n",
      "52    1\n",
      "54    1\n",
      "55    2\n",
      "56    3\n",
      "57    2\n",
      "58    1\n",
      "59    4\n",
      "60    2\n",
      "61    5\n",
      "62    3\n",
      "63    4\n",
      "64    4\n",
      "65    6\n",
      "66    3\n",
      "67    3\n",
      "68    3\n",
      "69    2\n",
      "70    1\n",
      "71    3\n",
      "72    2\n",
      "73    3\n",
      "74    1\n",
      "Name: age, dtype: int64\n",
      "2\n",
      "-1      1\n",
      " 0      5\n",
      " 1      4\n",
      " 2      6\n",
      " 3      3\n",
      " 4     13\n",
      " 5      6\n",
      " 6      2\n",
      " 7      3\n",
      " 8      3\n",
      " 9      3\n",
      " 10     1\n",
      " 31     1\n",
      " 33     3\n",
      " 34     2\n",
      " 35     6\n",
      " 36     8\n",
      " 37     5\n",
      " 38     6\n",
      " 39    13\n",
      " 40    12\n",
      " 41     9\n",
      " 42    15\n",
      " 43    11\n",
      " 44     3\n",
      " 45     2\n",
      " 46     2\n",
      " 47     1\n",
      " 48     1\n",
      "Name: age, dtype: int64\n",
      "3\n",
      "23     7\n",
      "24    11\n",
      "25     7\n",
      "26     7\n",
      "27     9\n",
      "28     6\n",
      "29     9\n",
      "30     7\n",
      "31    11\n",
      "32    13\n",
      "33     6\n",
      "34    15\n",
      "35     8\n",
      "36    10\n",
      "37     8\n",
      "38     7\n",
      "39     7\n",
      "40     8\n",
      "41     5\n",
      "42     6\n",
      "43     9\n",
      "44    11\n",
      "45    10\n",
      "46    13\n",
      "47    15\n",
      "48    10\n",
      "49     5\n",
      "50     9\n",
      "51     7\n",
      "52     5\n",
      "53     8\n",
      "54     6\n",
      "55    10\n",
      "56    15\n",
      "Name: age, dtype: int64\n",
      "4\n",
      "20    32\n",
      "21    22\n",
      "22    19\n",
      "23    23\n",
      "24    27\n",
      "25    29\n",
      "26    26\n",
      "27    22\n",
      "Name: age, dtype: int64\n",
      "5\n",
      "50     6\n",
      "51     3\n",
      "52     8\n",
      "53     9\n",
      "54     5\n",
      "55     4\n",
      "56     8\n",
      "57    10\n",
      "58     8\n",
      "59     7\n",
      "60     6\n",
      "61    14\n",
      "62     9\n",
      "63    10\n",
      "64     6\n",
      "65     5\n",
      "66     5\n",
      "67     5\n",
      "68    11\n",
      "69    11\n",
      "70     4\n",
      "71     7\n",
      "72     9\n",
      "73     3\n",
      "74     5\n",
      "75    17\n",
      "76     6\n",
      "77     4\n",
      "78     9\n",
      "79     8\n",
      "80     5\n",
      "81     7\n",
      "82     4\n",
      "83     7\n",
      "84     5\n",
      "Name: age, dtype: int64\n"
     ]
    }
   ],
   "source": [
    "# 추가 이상치 검증 : 나이가 음수인 이상치 확인\n",
    "grouped = customer.groupby('region').age\n",
    "for i, j in grouped:\n",
    "    print(i)\n",
    "    print(j.value_counts().sort_index())"
   ]
  },
  {
   "cell_type": "code",
   "execution_count": 26,
   "id": "e7ff988c",
   "metadata": {
    "ExecuteTime": {
     "end_time": "2022-07-17T16:43:43.050874Z",
     "start_time": "2022-07-17T16:43:43.045967Z"
    }
   },
   "outputs": [
    {
     "data": {
      "text/plain": [
       "0      5\n",
       "1      5\n",
       "2      6\n",
       "3      3\n",
       "4     13\n",
       "      ..\n",
       "80     5\n",
       "81     7\n",
       "82     4\n",
       "83     7\n",
       "84     5\n",
       "Name: age, Length: 79, dtype: int64"
      ]
     },
     "execution_count": 26,
     "metadata": {},
     "output_type": "execute_result"
    }
   ],
   "source": [
    "# 추가 이상치 검증 : 나이가 음수인 이상치를 절대값을 이용하여 유효한 값으로 보정\n",
    "customer[customer.age <= 0] = abs(customer[customer.age <= 0])\n",
    "customer.age.value_counts().sort_index()"
   ]
  },
  {
   "cell_type": "markdown",
   "id": "14bc15e0",
   "metadata": {},
   "source": [
    "#### 성별 : gender"
   ]
  },
  {
   "cell_type": "markdown",
   "id": "8d4787f2",
   "metadata": {},
   "source": [
    "##### 지역별 성별 데이터 산정"
   ]
  },
  {
   "cell_type": "code",
   "execution_count": 27,
   "id": "bb91f34f",
   "metadata": {
    "ExecuteTime": {
     "end_time": "2022-07-17T16:43:43.081547Z",
     "start_time": "2022-07-17T16:43:43.051775Z"
    }
   },
   "outputs": [
    {
     "name": "stdout",
     "output_type": "stream",
     "text": [
      "남성 : 489명\n",
      "여성 : 511명\n"
     ]
    }
   ],
   "source": [
    "# 1 지역 성별 데이터 생성\n",
    "gender_1_male = np.random.randint(0, 1, size=40).tolist()\n",
    "gender_1_female = np.random.randint(1, 2, size=60).tolist()\n",
    "gender_1 = gender_1_male + gender_1_female\n",
    "random.shuffle(gender_1)\n",
    "customer.gender[customer.region == 1] = gender_1\n",
    "\n",
    "# 2 지역 성별 데이터 생성\n",
    "gender_2 = np.random.randint(0, 2, size=150)\n",
    "customer.gender[customer.region == 2] = gender_2\n",
    "\n",
    "# 3 지역 성별 데이터 생성\n",
    "gender_3 = np.random.randint(0, 2, size=300)\n",
    "customer.gender[customer.region == 3] = gender_3\n",
    "\n",
    "# 4 지역 성별 데이터 생성\n",
    "gender_4 = np.random.randint(0, 2, size=200)\n",
    "customer.gender[customer.region == 4] = gender_4\n",
    "\n",
    "# 5 지역 성별 데이터 생성\n",
    "gender_5 = np.random.randint(0, 2, size=250)\n",
    "customer.gender[customer.region == 5] = gender_5\n",
    "\n",
    "customer.gender = customer.gender.map(lambda x: int(x))\n",
    "gender_count = customer.gender.value_counts().sort_index()\n",
    "\n",
    "print(f'남성 : {gender_count[0]}명\\n여성 : {gender_count[1]}명')"
   ]
  },
  {
   "cell_type": "markdown",
   "id": "d0a61197",
   "metadata": {},
   "source": [
    "### 고객 데이터프레임 종속변수"
   ]
  },
  {
   "cell_type": "markdown",
   "id": "aa69c1d9",
   "metadata": {},
   "source": [
    "#### 년도별 고객별 연간 매출액 : ASC_20, ASC_21"
   ]
  },
  {
   "cell_type": "code",
   "execution_count": 28,
   "id": "5c78718b",
   "metadata": {
    "ExecuteTime": {
     "end_time": "2022-07-17T16:43:43.668544Z",
     "start_time": "2022-07-17T16:43:43.083135Z"
    }
   },
   "outputs": [],
   "source": [
    "li_2020 = []\n",
    "li_2021 = []\n",
    "for i in range(10000, 11000):\n",
    "    a = purchase[(purchase['cusno_ts'] == i) & (\n",
    "        purchase[\"year\"] == 2020)].amount.sum()\n",
    "    b = purchase[(purchase['cusno_ts'] == i) & (\n",
    "        purchase[\"year\"] == 2021)].amount.sum()\n",
    "\n",
    "    li_2020.append(a)\n",
    "    li_2021.append(b)\n",
    "\n",
    "customer.ASC_20 = li_2020\n",
    "customer.ASC_21 = li_2021"
   ]
  },
  {
   "cell_type": "markdown",
   "id": "9b041e1c",
   "metadata": {},
   "source": [
    "#### 년도별 고객 등급 : grade_20, grade_21"
   ]
  },
  {
   "cell_type": "code",
   "execution_count": 29,
   "id": "a0de924c",
   "metadata": {
    "ExecuteTime": {
     "end_time": "2022-07-17T16:43:43.676303Z",
     "start_time": "2022-07-17T16:43:43.669388Z"
    },
    "scrolled": true
   },
   "outputs": [],
   "source": [
    "# 고객 등급 선정\n",
    "# 3가지 등급, 인원수 1:1:1 비율로 선정\n",
    "bin_dividers = np.linspace(customer.ASC_20.min(), customer.ASC_20.max(), 4)\n",
    "bin_names = ['Silver', 'Gold', 'VIP']  # qcut\n",
    "customer['grade_20'] = pd.cut(x=customer.ASC_20,  # 데이터 배열\n",
    "                              bins=bin_dividers,  # 경계값 리스트\n",
    "                              labels=bin_names,  # bin 이름\n",
    "                              include_lowest=True)  # 첫 경계값 포함 여부\n",
    "\n",
    "bin_dividers = np.linspace(customer.ASC_21.min(), customer.ASC_21.max(), 4)\n",
    "bin_names = ['Silver', 'Gold', 'VIP']\n",
    "customer['grade_21'] = pd.cut(x=customer.ASC_21,  # 데이터 배열\n",
    "                              bins=bin_dividers,  # 경계값 리스트\n",
    "                              labels=bin_names,  # bin 이름\n",
    "                              include_lowest=True)  # 첫 경계값 포함 여부"
   ]
  },
  {
   "cell_type": "markdown",
   "id": "eeb3615d",
   "metadata": {},
   "source": [
    "#### 년도별 고객별 연간 방문 횟수 : AVC_20, AVC_21"
   ]
  },
  {
   "cell_type": "code",
   "execution_count": 30,
   "id": "110c986a",
   "metadata": {
    "ExecuteTime": {
     "end_time": "2022-07-17T16:43:44.050924Z",
     "start_time": "2022-07-17T16:43:43.677197Z"
    },
    "scrolled": true
   },
   "outputs": [],
   "source": [
    "li_2020 = []\n",
    "li_2021 = []\n",
    "for i in range(10000, 11000):\n",
    "    a = purchase[(purchase['cusno_ts'] == i) & (purchase[\"year\"] == 2020)]\n",
    "    li_2020.append(len(a))\n",
    "    a = purchase[(purchase['cusno_ts'] == i) & (purchase[\"year\"] == 2021)]\n",
    "    li_2021.append(len(a))\n",
    "\n",
    "customer.AVC_20 = li_2020\n",
    "customer.AVC_21 = li_2021"
   ]
  },
  {
   "cell_type": "markdown",
   "id": "158ace2b",
   "metadata": {},
   "source": [
    "#### 년도별 고객별 회당 평균 결제액(Average Revenue Per Paid User) : ARPPU_20, ARPPU_21"
   ]
  },
  {
   "cell_type": "code",
   "execution_count": 31,
   "id": "6cba7d29",
   "metadata": {
    "ExecuteTime": {
     "end_time": "2022-07-17T16:43:44.055852Z",
     "start_time": "2022-07-17T16:43:44.051947Z"
    }
   },
   "outputs": [],
   "source": [
    "customer.ARPPU_20 = (customer.ASC_20 / customer.AVC_20).round()\n",
    "customer.ARPPU_21 = (customer.ASC_21 / customer.AVC_21).round()"
   ]
  },
  {
   "cell_type": "markdown",
   "id": "597ac159",
   "metadata": {},
   "source": [
    "#### 고객별 구매 추세 변화 : purchase_trend"
   ]
  },
  {
   "cell_type": "code",
   "execution_count": 32,
   "id": "ec75872e",
   "metadata": {
    "ExecuteTime": {
     "end_time": "2022-07-17T16:43:44.060217Z",
     "start_time": "2022-07-17T16:43:44.058256Z"
    }
   },
   "outputs": [],
   "source": [
    "customer.purchase_trend = (customer.ASC_21 > customer.ASC_20)"
   ]
  },
  {
   "cell_type": "markdown",
   "id": "50ea8baa",
   "metadata": {},
   "source": [
    "## DataFrame 확인"
   ]
  },
  {
   "cell_type": "markdown",
   "id": "4eebf016",
   "metadata": {},
   "source": [
    "### 결측치 처리"
   ]
  },
  {
   "cell_type": "code",
   "execution_count": 33,
   "id": "cb6cbaeb",
   "metadata": {
    "ExecuteTime": {
     "end_time": "2022-07-17T16:43:44.065119Z",
     "start_time": "2022-07-17T16:43:44.061176Z"
    },
    "scrolled": true
   },
   "outputs": [
    {
     "data": {
      "text/plain": [
       "cusno              0\n",
       "region             0\n",
       "gender             0\n",
       "age                0\n",
       "income             0\n",
       "grade_20           0\n",
       "grade_21           0\n",
       "ARPPU_20           2\n",
       "ARPPU_21          12\n",
       "AVC_20             0\n",
       "AVC_21             0\n",
       "ASC_20             0\n",
       "ASC_21             0\n",
       "purchase_trend     0\n",
       "dtype: int64"
      ]
     },
     "execution_count": 33,
     "metadata": {},
     "output_type": "execute_result"
    }
   ],
   "source": [
    "customer.isnull().sum()"
   ]
  },
  {
   "cell_type": "code",
   "execution_count": 34,
   "id": "8c9efe80",
   "metadata": {
    "ExecuteTime": {
     "end_time": "2022-07-17T16:43:44.070215Z",
     "start_time": "2022-07-17T16:43:44.065965Z"
    }
   },
   "outputs": [
    {
     "data": {
      "text/plain": [
       "cusno             0\n",
       "region            0\n",
       "gender            0\n",
       "age               0\n",
       "income            0\n",
       "grade_20          0\n",
       "grade_21          0\n",
       "ARPPU_20          0\n",
       "ARPPU_21          0\n",
       "AVC_20            0\n",
       "AVC_21            0\n",
       "ASC_20            0\n",
       "ASC_21            0\n",
       "purchase_trend    0\n",
       "dtype: int64"
      ]
     },
     "execution_count": 34,
     "metadata": {},
     "output_type": "execute_result"
    }
   ],
   "source": [
    "customer.ARPPU_20.fillna(0, inplace=True)\n",
    "customer.ARPPU_21.fillna(0, inplace=True)\n",
    "customer.isnull().sum()"
   ]
  },
  {
   "cell_type": "code",
   "execution_count": 35,
   "id": "a00151ca",
   "metadata": {
    "ExecuteTime": {
     "end_time": "2022-07-17T16:43:44.077527Z",
     "start_time": "2022-07-17T16:43:44.072091Z"
    },
    "scrolled": true
   },
   "outputs": [
    {
     "data": {
      "text/html": [
       "<div>\n",
       "<style scoped>\n",
       "    .dataframe tbody tr th:only-of-type {\n",
       "        vertical-align: middle;\n",
       "    }\n",
       "\n",
       "    .dataframe tbody tr th {\n",
       "        vertical-align: top;\n",
       "    }\n",
       "\n",
       "    .dataframe thead th {\n",
       "        text-align: right;\n",
       "    }\n",
       "</style>\n",
       "<table border=\"1\" class=\"dataframe\">\n",
       "  <thead>\n",
       "    <tr style=\"text-align: right;\">\n",
       "      <th></th>\n",
       "      <th>product_num</th>\n",
       "      <th>price</th>\n",
       "      <th>price_grade</th>\n",
       "    </tr>\n",
       "  </thead>\n",
       "  <tbody>\n",
       "    <tr>\n",
       "      <th>0</th>\n",
       "      <td>1</td>\n",
       "      <td>51494</td>\n",
       "      <td>1</td>\n",
       "    </tr>\n",
       "    <tr>\n",
       "      <th>1</th>\n",
       "      <td>2</td>\n",
       "      <td>56125</td>\n",
       "      <td>1</td>\n",
       "    </tr>\n",
       "    <tr>\n",
       "      <th>2</th>\n",
       "      <td>3</td>\n",
       "      <td>6306</td>\n",
       "      <td>3</td>\n",
       "    </tr>\n",
       "    <tr>\n",
       "      <th>3</th>\n",
       "      <td>4</td>\n",
       "      <td>34936</td>\n",
       "      <td>2</td>\n",
       "    </tr>\n",
       "    <tr>\n",
       "      <th>4</th>\n",
       "      <td>5</td>\n",
       "      <td>68013</td>\n",
       "      <td>1</td>\n",
       "    </tr>\n",
       "    <tr>\n",
       "      <th>...</th>\n",
       "      <td>...</td>\n",
       "      <td>...</td>\n",
       "      <td>...</td>\n",
       "    </tr>\n",
       "    <tr>\n",
       "      <th>95</th>\n",
       "      <td>96</td>\n",
       "      <td>25100</td>\n",
       "      <td>2</td>\n",
       "    </tr>\n",
       "    <tr>\n",
       "      <th>96</th>\n",
       "      <td>97</td>\n",
       "      <td>25823</td>\n",
       "      <td>2</td>\n",
       "    </tr>\n",
       "    <tr>\n",
       "      <th>97</th>\n",
       "      <td>98</td>\n",
       "      <td>25475</td>\n",
       "      <td>2</td>\n",
       "    </tr>\n",
       "    <tr>\n",
       "      <th>98</th>\n",
       "      <td>99</td>\n",
       "      <td>5321</td>\n",
       "      <td>3</td>\n",
       "    </tr>\n",
       "    <tr>\n",
       "      <th>99</th>\n",
       "      <td>100</td>\n",
       "      <td>81317</td>\n",
       "      <td>1</td>\n",
       "    </tr>\n",
       "  </tbody>\n",
       "</table>\n",
       "<p>100 rows × 3 columns</p>\n",
       "</div>"
      ],
      "text/plain": [
       "    product_num  price price_grade\n",
       "0             1  51494           1\n",
       "1             2  56125           1\n",
       "2             3   6306           3\n",
       "3             4  34936           2\n",
       "4             5  68013           1\n",
       "..          ...    ...         ...\n",
       "95           96  25100           2\n",
       "96           97  25823           2\n",
       "97           98  25475           2\n",
       "98           99   5321           3\n",
       "99          100  81317           1\n",
       "\n",
       "[100 rows x 3 columns]"
      ]
     },
     "execution_count": 35,
     "metadata": {},
     "output_type": "execute_result"
    }
   ],
   "source": [
    "product"
   ]
  },
  {
   "cell_type": "code",
   "execution_count": 36,
   "id": "07d55da8",
   "metadata": {
    "ExecuteTime": {
     "end_time": "2022-07-17T16:43:44.083926Z",
     "start_time": "2022-07-17T16:43:44.078430Z"
    },
    "scrolled": true
   },
   "outputs": [
    {
     "name": "stdout",
     "output_type": "stream",
     "text": [
      "<class 'pandas.core.frame.DataFrame'>\n",
      "RangeIndex: 100 entries, 0 to 99\n",
      "Data columns (total 3 columns):\n",
      " #   Column       Non-Null Count  Dtype \n",
      "---  ------       --------------  ----- \n",
      " 0   product_num  100 non-null    int64 \n",
      " 1   price        100 non-null    int64 \n",
      " 2   price_grade  100 non-null    object\n",
      "dtypes: int64(2), object(1)\n",
      "memory usage: 2.5+ KB\n"
     ]
    }
   ],
   "source": [
    "product.info()"
   ]
  },
  {
   "cell_type": "code",
   "execution_count": 37,
   "id": "cd906c9a",
   "metadata": {
    "ExecuteTime": {
     "end_time": "2022-07-17T16:43:44.094520Z",
     "start_time": "2022-07-17T16:43:44.085589Z"
    },
    "scrolled": false
   },
   "outputs": [
    {
     "data": {
      "text/html": [
       "<div>\n",
       "<style scoped>\n",
       "    .dataframe tbody tr th:only-of-type {\n",
       "        vertical-align: middle;\n",
       "    }\n",
       "\n",
       "    .dataframe tbody tr th {\n",
       "        vertical-align: top;\n",
       "    }\n",
       "\n",
       "    .dataframe thead th {\n",
       "        text-align: right;\n",
       "    }\n",
       "</style>\n",
       "<table border=\"1\" class=\"dataframe\">\n",
       "  <thead>\n",
       "    <tr style=\"text-align: right;\">\n",
       "      <th></th>\n",
       "      <th>num_ts</th>\n",
       "      <th>cusno_ts</th>\n",
       "      <th>product_num_ts</th>\n",
       "      <th>price_ts</th>\n",
       "      <th>quantity</th>\n",
       "      <th>amount</th>\n",
       "      <th>date</th>\n",
       "      <th>year</th>\n",
       "      <th>weekday</th>\n",
       "      <th>hour</th>\n",
       "    </tr>\n",
       "  </thead>\n",
       "  <tbody>\n",
       "    <tr>\n",
       "      <th>0</th>\n",
       "      <td>0</td>\n",
       "      <td>10712</td>\n",
       "      <td>100</td>\n",
       "      <td>81317</td>\n",
       "      <td>4</td>\n",
       "      <td>325268</td>\n",
       "      <td>2020-05-27</td>\n",
       "      <td>2020</td>\n",
       "      <td>2</td>\n",
       "      <td>1</td>\n",
       "    </tr>\n",
       "    <tr>\n",
       "      <th>1</th>\n",
       "      <td>1</td>\n",
       "      <td>10463</td>\n",
       "      <td>44</td>\n",
       "      <td>9163</td>\n",
       "      <td>5</td>\n",
       "      <td>45815</td>\n",
       "      <td>2020-01-22</td>\n",
       "      <td>2020</td>\n",
       "      <td>2</td>\n",
       "      <td>17</td>\n",
       "    </tr>\n",
       "    <tr>\n",
       "      <th>2</th>\n",
       "      <td>2</td>\n",
       "      <td>10199</td>\n",
       "      <td>77</td>\n",
       "      <td>39153</td>\n",
       "      <td>6</td>\n",
       "      <td>234918</td>\n",
       "      <td>2020-02-29</td>\n",
       "      <td>2020</td>\n",
       "      <td>5</td>\n",
       "      <td>13</td>\n",
       "    </tr>\n",
       "    <tr>\n",
       "      <th>3</th>\n",
       "      <td>3</td>\n",
       "      <td>10638</td>\n",
       "      <td>64</td>\n",
       "      <td>30059</td>\n",
       "      <td>1</td>\n",
       "      <td>30059</td>\n",
       "      <td>2020-08-26</td>\n",
       "      <td>2020</td>\n",
       "      <td>2</td>\n",
       "      <td>22</td>\n",
       "    </tr>\n",
       "    <tr>\n",
       "      <th>4</th>\n",
       "      <td>4</td>\n",
       "      <td>10921</td>\n",
       "      <td>95</td>\n",
       "      <td>39054</td>\n",
       "      <td>2</td>\n",
       "      <td>78108</td>\n",
       "      <td>2020-06-11</td>\n",
       "      <td>2020</td>\n",
       "      <td>3</td>\n",
       "      <td>16</td>\n",
       "    </tr>\n",
       "    <tr>\n",
       "      <th>...</th>\n",
       "      <td>...</td>\n",
       "      <td>...</td>\n",
       "      <td>...</td>\n",
       "      <td>...</td>\n",
       "      <td>...</td>\n",
       "      <td>...</td>\n",
       "      <td>...</td>\n",
       "      <td>...</td>\n",
       "      <td>...</td>\n",
       "      <td>...</td>\n",
       "    </tr>\n",
       "    <tr>\n",
       "      <th>9995</th>\n",
       "      <td>9995</td>\n",
       "      <td>10932</td>\n",
       "      <td>6</td>\n",
       "      <td>64691</td>\n",
       "      <td>5</td>\n",
       "      <td>323455</td>\n",
       "      <td>2020-03-11</td>\n",
       "      <td>2020</td>\n",
       "      <td>2</td>\n",
       "      <td>21</td>\n",
       "    </tr>\n",
       "    <tr>\n",
       "      <th>9996</th>\n",
       "      <td>9996</td>\n",
       "      <td>10943</td>\n",
       "      <td>40</td>\n",
       "      <td>63522</td>\n",
       "      <td>6</td>\n",
       "      <td>381132</td>\n",
       "      <td>2020-12-10</td>\n",
       "      <td>2020</td>\n",
       "      <td>3</td>\n",
       "      <td>9</td>\n",
       "    </tr>\n",
       "    <tr>\n",
       "      <th>9997</th>\n",
       "      <td>9997</td>\n",
       "      <td>10744</td>\n",
       "      <td>54</td>\n",
       "      <td>81202</td>\n",
       "      <td>1</td>\n",
       "      <td>81202</td>\n",
       "      <td>2020-07-10</td>\n",
       "      <td>2020</td>\n",
       "      <td>4</td>\n",
       "      <td>20</td>\n",
       "    </tr>\n",
       "    <tr>\n",
       "      <th>9998</th>\n",
       "      <td>9998</td>\n",
       "      <td>10266</td>\n",
       "      <td>60</td>\n",
       "      <td>93227</td>\n",
       "      <td>2</td>\n",
       "      <td>186454</td>\n",
       "      <td>2021-12-27</td>\n",
       "      <td>2021</td>\n",
       "      <td>0</td>\n",
       "      <td>14</td>\n",
       "    </tr>\n",
       "    <tr>\n",
       "      <th>9999</th>\n",
       "      <td>9999</td>\n",
       "      <td>10654</td>\n",
       "      <td>54</td>\n",
       "      <td>81202</td>\n",
       "      <td>1</td>\n",
       "      <td>81202</td>\n",
       "      <td>2020-10-04</td>\n",
       "      <td>2020</td>\n",
       "      <td>6</td>\n",
       "      <td>15</td>\n",
       "    </tr>\n",
       "  </tbody>\n",
       "</table>\n",
       "<p>10000 rows × 10 columns</p>\n",
       "</div>"
      ],
      "text/plain": [
       "      num_ts  cusno_ts  product_num_ts  price_ts quantity  amount       date  \\\n",
       "0          0     10712             100     81317        4  325268 2020-05-27   \n",
       "1          1     10463              44      9163        5   45815 2020-01-22   \n",
       "2          2     10199              77     39153        6  234918 2020-02-29   \n",
       "3          3     10638              64     30059        1   30059 2020-08-26   \n",
       "4          4     10921              95     39054        2   78108 2020-06-11   \n",
       "...      ...       ...             ...       ...      ...     ...        ...   \n",
       "9995    9995     10932               6     64691        5  323455 2020-03-11   \n",
       "9996    9996     10943              40     63522        6  381132 2020-12-10   \n",
       "9997    9997     10744              54     81202        1   81202 2020-07-10   \n",
       "9998    9998     10266              60     93227        2  186454 2021-12-27   \n",
       "9999    9999     10654              54     81202        1   81202 2020-10-04   \n",
       "\n",
       "      year  weekday  hour  \n",
       "0     2020        2     1  \n",
       "1     2020        2    17  \n",
       "2     2020        5    13  \n",
       "3     2020        2    22  \n",
       "4     2020        3    16  \n",
       "...    ...      ...   ...  \n",
       "9995  2020        2    21  \n",
       "9996  2020        3     9  \n",
       "9997  2020        4    20  \n",
       "9998  2021        0    14  \n",
       "9999  2020        6    15  \n",
       "\n",
       "[10000 rows x 10 columns]"
      ]
     },
     "execution_count": 37,
     "metadata": {},
     "output_type": "execute_result"
    }
   ],
   "source": [
    "purchase"
   ]
  },
  {
   "cell_type": "code",
   "execution_count": 38,
   "id": "8e961d32",
   "metadata": {
    "ExecuteTime": {
     "end_time": "2022-07-17T16:43:44.102656Z",
     "start_time": "2022-07-17T16:43:44.096010Z"
    },
    "scrolled": true
   },
   "outputs": [
    {
     "name": "stdout",
     "output_type": "stream",
     "text": [
      "<class 'pandas.core.frame.DataFrame'>\n",
      "RangeIndex: 10000 entries, 0 to 9999\n",
      "Data columns (total 10 columns):\n",
      " #   Column          Non-Null Count  Dtype         \n",
      "---  ------          --------------  -----         \n",
      " 0   num_ts          10000 non-null  int64         \n",
      " 1   cusno_ts        10000 non-null  int64         \n",
      " 2   product_num_ts  10000 non-null  int64         \n",
      " 3   price_ts        10000 non-null  int64         \n",
      " 4   quantity        10000 non-null  object        \n",
      " 5   amount          10000 non-null  object        \n",
      " 6   date            10000 non-null  datetime64[ns]\n",
      " 7   year            10000 non-null  int64         \n",
      " 8   weekday         10000 non-null  int64         \n",
      " 9   hour            10000 non-null  int64         \n",
      "dtypes: datetime64[ns](1), int64(7), object(2)\n",
      "memory usage: 781.4+ KB\n"
     ]
    }
   ],
   "source": [
    "purchase.info()"
   ]
  },
  {
   "cell_type": "code",
   "execution_count": 39,
   "id": "6a47bebb",
   "metadata": {
    "ExecuteTime": {
     "end_time": "2022-07-17T16:43:44.113649Z",
     "start_time": "2022-07-17T16:43:44.103643Z"
    },
    "scrolled": false
   },
   "outputs": [
    {
     "data": {
      "text/html": [
       "<div>\n",
       "<style scoped>\n",
       "    .dataframe tbody tr th:only-of-type {\n",
       "        vertical-align: middle;\n",
       "    }\n",
       "\n",
       "    .dataframe tbody tr th {\n",
       "        vertical-align: top;\n",
       "    }\n",
       "\n",
       "    .dataframe thead th {\n",
       "        text-align: right;\n",
       "    }\n",
       "</style>\n",
       "<table border=\"1\" class=\"dataframe\">\n",
       "  <thead>\n",
       "    <tr style=\"text-align: right;\">\n",
       "      <th></th>\n",
       "      <th>cusno</th>\n",
       "      <th>region</th>\n",
       "      <th>gender</th>\n",
       "      <th>age</th>\n",
       "      <th>income</th>\n",
       "      <th>grade_20</th>\n",
       "      <th>grade_21</th>\n",
       "      <th>ARPPU_20</th>\n",
       "      <th>ARPPU_21</th>\n",
       "      <th>AVC_20</th>\n",
       "      <th>AVC_21</th>\n",
       "      <th>ASC_20</th>\n",
       "      <th>ASC_21</th>\n",
       "      <th>purchase_trend</th>\n",
       "    </tr>\n",
       "  </thead>\n",
       "  <tbody>\n",
       "    <tr>\n",
       "      <th>0</th>\n",
       "      <td>10000</td>\n",
       "      <td>3</td>\n",
       "      <td>0</td>\n",
       "      <td>40</td>\n",
       "      <td>46259</td>\n",
       "      <td>Silver</td>\n",
       "      <td>Silver</td>\n",
       "      <td>253136.0</td>\n",
       "      <td>106138.0</td>\n",
       "      <td>4</td>\n",
       "      <td>4</td>\n",
       "      <td>1012542</td>\n",
       "      <td>424554</td>\n",
       "      <td>False</td>\n",
       "    </tr>\n",
       "    <tr>\n",
       "      <th>1</th>\n",
       "      <td>10001</td>\n",
       "      <td>2</td>\n",
       "      <td>0</td>\n",
       "      <td>40</td>\n",
       "      <td>97410</td>\n",
       "      <td>Silver</td>\n",
       "      <td>Silver</td>\n",
       "      <td>197577.0</td>\n",
       "      <td>130597.0</td>\n",
       "      <td>5</td>\n",
       "      <td>3</td>\n",
       "      <td>987883</td>\n",
       "      <td>391792</td>\n",
       "      <td>False</td>\n",
       "    </tr>\n",
       "    <tr>\n",
       "      <th>2</th>\n",
       "      <td>10002</td>\n",
       "      <td>4</td>\n",
       "      <td>0</td>\n",
       "      <td>20</td>\n",
       "      <td>11447</td>\n",
       "      <td>Gold</td>\n",
       "      <td>Gold</td>\n",
       "      <td>222227.0</td>\n",
       "      <td>200925.0</td>\n",
       "      <td>10</td>\n",
       "      <td>8</td>\n",
       "      <td>2222272</td>\n",
       "      <td>1607402</td>\n",
       "      <td>False</td>\n",
       "    </tr>\n",
       "    <tr>\n",
       "      <th>3</th>\n",
       "      <td>10003</td>\n",
       "      <td>2</td>\n",
       "      <td>0</td>\n",
       "      <td>40</td>\n",
       "      <td>104629</td>\n",
       "      <td>Gold</td>\n",
       "      <td>Silver</td>\n",
       "      <td>212410.0</td>\n",
       "      <td>176681.0</td>\n",
       "      <td>6</td>\n",
       "      <td>3</td>\n",
       "      <td>1274460</td>\n",
       "      <td>530042</td>\n",
       "      <td>False</td>\n",
       "    </tr>\n",
       "    <tr>\n",
       "      <th>4</th>\n",
       "      <td>10004</td>\n",
       "      <td>4</td>\n",
       "      <td>0</td>\n",
       "      <td>22</td>\n",
       "      <td>10980</td>\n",
       "      <td>Gold</td>\n",
       "      <td>Silver</td>\n",
       "      <td>200435.0</td>\n",
       "      <td>79591.0</td>\n",
       "      <td>10</td>\n",
       "      <td>3</td>\n",
       "      <td>2004349</td>\n",
       "      <td>238773</td>\n",
       "      <td>False</td>\n",
       "    </tr>\n",
       "    <tr>\n",
       "      <th>...</th>\n",
       "      <td>...</td>\n",
       "      <td>...</td>\n",
       "      <td>...</td>\n",
       "      <td>...</td>\n",
       "      <td>...</td>\n",
       "      <td>...</td>\n",
       "      <td>...</td>\n",
       "      <td>...</td>\n",
       "      <td>...</td>\n",
       "      <td>...</td>\n",
       "      <td>...</td>\n",
       "      <td>...</td>\n",
       "      <td>...</td>\n",
       "      <td>...</td>\n",
       "    </tr>\n",
       "    <tr>\n",
       "      <th>995</th>\n",
       "      <td>10995</td>\n",
       "      <td>3</td>\n",
       "      <td>0</td>\n",
       "      <td>47</td>\n",
       "      <td>51078</td>\n",
       "      <td>Gold</td>\n",
       "      <td>Gold</td>\n",
       "      <td>344304.0</td>\n",
       "      <td>215636.0</td>\n",
       "      <td>5</td>\n",
       "      <td>5</td>\n",
       "      <td>1721520</td>\n",
       "      <td>1078179</td>\n",
       "      <td>False</td>\n",
       "    </tr>\n",
       "    <tr>\n",
       "      <th>996</th>\n",
       "      <td>10996</td>\n",
       "      <td>3</td>\n",
       "      <td>0</td>\n",
       "      <td>39</td>\n",
       "      <td>50257</td>\n",
       "      <td>VIP</td>\n",
       "      <td>Silver</td>\n",
       "      <td>238877.0</td>\n",
       "      <td>206961.0</td>\n",
       "      <td>13</td>\n",
       "      <td>3</td>\n",
       "      <td>3105402</td>\n",
       "      <td>620883</td>\n",
       "      <td>False</td>\n",
       "    </tr>\n",
       "    <tr>\n",
       "      <th>997</th>\n",
       "      <td>10997</td>\n",
       "      <td>5</td>\n",
       "      <td>0</td>\n",
       "      <td>77</td>\n",
       "      <td>33416</td>\n",
       "      <td>Gold</td>\n",
       "      <td>Silver</td>\n",
       "      <td>207292.0</td>\n",
       "      <td>574528.0</td>\n",
       "      <td>9</td>\n",
       "      <td>1</td>\n",
       "      <td>1865627</td>\n",
       "      <td>574528</td>\n",
       "      <td>False</td>\n",
       "    </tr>\n",
       "    <tr>\n",
       "      <th>998</th>\n",
       "      <td>10998</td>\n",
       "      <td>4</td>\n",
       "      <td>1</td>\n",
       "      <td>23</td>\n",
       "      <td>9194</td>\n",
       "      <td>Silver</td>\n",
       "      <td>Silver</td>\n",
       "      <td>154077.0</td>\n",
       "      <td>155074.0</td>\n",
       "      <td>4</td>\n",
       "      <td>3</td>\n",
       "      <td>616309</td>\n",
       "      <td>465221</td>\n",
       "      <td>False</td>\n",
       "    </tr>\n",
       "    <tr>\n",
       "      <th>999</th>\n",
       "      <td>10999</td>\n",
       "      <td>3</td>\n",
       "      <td>0</td>\n",
       "      <td>55</td>\n",
       "      <td>42592</td>\n",
       "      <td>Silver</td>\n",
       "      <td>Silver</td>\n",
       "      <td>233251.0</td>\n",
       "      <td>119432.0</td>\n",
       "      <td>3</td>\n",
       "      <td>1</td>\n",
       "      <td>699752</td>\n",
       "      <td>119432</td>\n",
       "      <td>False</td>\n",
       "    </tr>\n",
       "  </tbody>\n",
       "</table>\n",
       "<p>1000 rows × 14 columns</p>\n",
       "</div>"
      ],
      "text/plain": [
       "     cusno  region  gender  age  income grade_20 grade_21  ARPPU_20  ARPPU_21  \\\n",
       "0    10000       3       0   40   46259   Silver   Silver  253136.0  106138.0   \n",
       "1    10001       2       0   40   97410   Silver   Silver  197577.0  130597.0   \n",
       "2    10002       4       0   20   11447     Gold     Gold  222227.0  200925.0   \n",
       "3    10003       2       0   40  104629     Gold   Silver  212410.0  176681.0   \n",
       "4    10004       4       0   22   10980     Gold   Silver  200435.0   79591.0   \n",
       "..     ...     ...     ...  ...     ...      ...      ...       ...       ...   \n",
       "995  10995       3       0   47   51078     Gold     Gold  344304.0  215636.0   \n",
       "996  10996       3       0   39   50257      VIP   Silver  238877.0  206961.0   \n",
       "997  10997       5       0   77   33416     Gold   Silver  207292.0  574528.0   \n",
       "998  10998       4       1   23    9194   Silver   Silver  154077.0  155074.0   \n",
       "999  10999       3       0   55   42592   Silver   Silver  233251.0  119432.0   \n",
       "\n",
       "     AVC_20  AVC_21   ASC_20   ASC_21  purchase_trend  \n",
       "0         4       4  1012542   424554           False  \n",
       "1         5       3   987883   391792           False  \n",
       "2        10       8  2222272  1607402           False  \n",
       "3         6       3  1274460   530042           False  \n",
       "4        10       3  2004349   238773           False  \n",
       "..      ...     ...      ...      ...             ...  \n",
       "995       5       5  1721520  1078179           False  \n",
       "996      13       3  3105402   620883           False  \n",
       "997       9       1  1865627   574528           False  \n",
       "998       4       3   616309   465221           False  \n",
       "999       3       1   699752   119432           False  \n",
       "\n",
       "[1000 rows x 14 columns]"
      ]
     },
     "execution_count": 39,
     "metadata": {},
     "output_type": "execute_result"
    }
   ],
   "source": [
    "customer"
   ]
  },
  {
   "cell_type": "code",
   "execution_count": 40,
   "id": "3b72d6b5",
   "metadata": {
    "ExecuteTime": {
     "end_time": "2022-07-17T16:43:44.120678Z",
     "start_time": "2022-07-17T16:43:44.114778Z"
    }
   },
   "outputs": [
    {
     "name": "stdout",
     "output_type": "stream",
     "text": [
      "<class 'pandas.core.frame.DataFrame'>\n",
      "RangeIndex: 1000 entries, 0 to 999\n",
      "Data columns (total 14 columns):\n",
      " #   Column          Non-Null Count  Dtype   \n",
      "---  ------          --------------  -----   \n",
      " 0   cusno           1000 non-null   int64   \n",
      " 1   region          1000 non-null   int64   \n",
      " 2   gender          1000 non-null   int64   \n",
      " 3   age             1000 non-null   int64   \n",
      " 4   income          1000 non-null   int64   \n",
      " 5   grade_20        1000 non-null   category\n",
      " 6   grade_21        1000 non-null   category\n",
      " 7   ARPPU_20        1000 non-null   float64 \n",
      " 8   ARPPU_21        1000 non-null   float64 \n",
      " 9   AVC_20          1000 non-null   int64   \n",
      " 10  AVC_21          1000 non-null   int64   \n",
      " 11  ASC_20          1000 non-null   int64   \n",
      " 12  ASC_21          1000 non-null   int64   \n",
      " 13  purchase_trend  1000 non-null   bool    \n",
      "dtypes: bool(1), category(2), float64(2), int64(9)\n",
      "memory usage: 89.2 KB\n"
     ]
    }
   ],
   "source": [
    "customer.info()"
   ]
  },
  {
   "cell_type": "markdown",
   "id": "3360ff87",
   "metadata": {},
   "source": [
    "# 데이터 분석 및 시각화"
   ]
  },
  {
   "cell_type": "markdown",
   "id": "bfe3d17e",
   "metadata": {},
   "source": [
    "## 데이터프레임 Merge"
   ]
  },
  {
   "cell_type": "code",
   "execution_count": 41,
   "id": "5602edb0",
   "metadata": {
    "ExecuteTime": {
     "end_time": "2022-07-17T16:43:44.136868Z",
     "start_time": "2022-07-17T16:43:44.121573Z"
    },
    "scrolled": true
   },
   "outputs": [
    {
     "data": {
      "text/html": [
       "<div>\n",
       "<style scoped>\n",
       "    .dataframe tbody tr th:only-of-type {\n",
       "        vertical-align: middle;\n",
       "    }\n",
       "\n",
       "    .dataframe tbody tr th {\n",
       "        vertical-align: top;\n",
       "    }\n",
       "\n",
       "    .dataframe thead th {\n",
       "        text-align: right;\n",
       "    }\n",
       "</style>\n",
       "<table border=\"1\" class=\"dataframe\">\n",
       "  <thead>\n",
       "    <tr style=\"text-align: right;\">\n",
       "      <th></th>\n",
       "      <th>num_ts</th>\n",
       "      <th>cusno_ts</th>\n",
       "      <th>product_num_ts</th>\n",
       "      <th>price_ts</th>\n",
       "      <th>quantity</th>\n",
       "      <th>amount</th>\n",
       "      <th>date</th>\n",
       "      <th>year</th>\n",
       "      <th>weekday</th>\n",
       "      <th>hour</th>\n",
       "      <th>...</th>\n",
       "      <th>ARPPU_20</th>\n",
       "      <th>ARPPU_21</th>\n",
       "      <th>AVC_20</th>\n",
       "      <th>AVC_21</th>\n",
       "      <th>ASC_20</th>\n",
       "      <th>ASC_21</th>\n",
       "      <th>purchase_trend</th>\n",
       "      <th>product_num</th>\n",
       "      <th>price</th>\n",
       "      <th>price_grade</th>\n",
       "    </tr>\n",
       "  </thead>\n",
       "  <tbody>\n",
       "    <tr>\n",
       "      <th>0</th>\n",
       "      <td>0</td>\n",
       "      <td>10712</td>\n",
       "      <td>100</td>\n",
       "      <td>81317</td>\n",
       "      <td>4</td>\n",
       "      <td>325268</td>\n",
       "      <td>2020-05-27</td>\n",
       "      <td>2020</td>\n",
       "      <td>2</td>\n",
       "      <td>1</td>\n",
       "      <td>...</td>\n",
       "      <td>378082.0</td>\n",
       "      <td>114469.0</td>\n",
       "      <td>2</td>\n",
       "      <td>3</td>\n",
       "      <td>756164</td>\n",
       "      <td>343406</td>\n",
       "      <td>False</td>\n",
       "      <td>100</td>\n",
       "      <td>81317</td>\n",
       "      <td>1</td>\n",
       "    </tr>\n",
       "    <tr>\n",
       "      <th>1</th>\n",
       "      <td>1</td>\n",
       "      <td>10463</td>\n",
       "      <td>44</td>\n",
       "      <td>9163</td>\n",
       "      <td>5</td>\n",
       "      <td>45815</td>\n",
       "      <td>2020-01-22</td>\n",
       "      <td>2020</td>\n",
       "      <td>2</td>\n",
       "      <td>17</td>\n",
       "      <td>...</td>\n",
       "      <td>247135.0</td>\n",
       "      <td>378061.0</td>\n",
       "      <td>10</td>\n",
       "      <td>2</td>\n",
       "      <td>2471352</td>\n",
       "      <td>756122</td>\n",
       "      <td>False</td>\n",
       "      <td>44</td>\n",
       "      <td>9163</td>\n",
       "      <td>3</td>\n",
       "    </tr>\n",
       "    <tr>\n",
       "      <th>2</th>\n",
       "      <td>2</td>\n",
       "      <td>10199</td>\n",
       "      <td>77</td>\n",
       "      <td>39153</td>\n",
       "      <td>6</td>\n",
       "      <td>234918</td>\n",
       "      <td>2020-02-29</td>\n",
       "      <td>2020</td>\n",
       "      <td>5</td>\n",
       "      <td>13</td>\n",
       "      <td>...</td>\n",
       "      <td>254944.0</td>\n",
       "      <td>299416.0</td>\n",
       "      <td>3</td>\n",
       "      <td>8</td>\n",
       "      <td>764832</td>\n",
       "      <td>2395324</td>\n",
       "      <td>True</td>\n",
       "      <td>77</td>\n",
       "      <td>39153</td>\n",
       "      <td>2</td>\n",
       "    </tr>\n",
       "    <tr>\n",
       "      <th>3</th>\n",
       "      <td>3</td>\n",
       "      <td>10638</td>\n",
       "      <td>64</td>\n",
       "      <td>30059</td>\n",
       "      <td>1</td>\n",
       "      <td>30059</td>\n",
       "      <td>2020-08-26</td>\n",
       "      <td>2020</td>\n",
       "      <td>2</td>\n",
       "      <td>22</td>\n",
       "      <td>...</td>\n",
       "      <td>128981.0</td>\n",
       "      <td>266719.0</td>\n",
       "      <td>7</td>\n",
       "      <td>4</td>\n",
       "      <td>902865</td>\n",
       "      <td>1066877</td>\n",
       "      <td>True</td>\n",
       "      <td>64</td>\n",
       "      <td>30059</td>\n",
       "      <td>2</td>\n",
       "    </tr>\n",
       "    <tr>\n",
       "      <th>4</th>\n",
       "      <td>4</td>\n",
       "      <td>10921</td>\n",
       "      <td>95</td>\n",
       "      <td>39054</td>\n",
       "      <td>2</td>\n",
       "      <td>78108</td>\n",
       "      <td>2020-06-11</td>\n",
       "      <td>2020</td>\n",
       "      <td>3</td>\n",
       "      <td>16</td>\n",
       "      <td>...</td>\n",
       "      <td>202864.0</td>\n",
       "      <td>114564.0</td>\n",
       "      <td>5</td>\n",
       "      <td>9</td>\n",
       "      <td>1014318</td>\n",
       "      <td>1031074</td>\n",
       "      <td>True</td>\n",
       "      <td>95</td>\n",
       "      <td>39054</td>\n",
       "      <td>2</td>\n",
       "    </tr>\n",
       "    <tr>\n",
       "      <th>...</th>\n",
       "      <td>...</td>\n",
       "      <td>...</td>\n",
       "      <td>...</td>\n",
       "      <td>...</td>\n",
       "      <td>...</td>\n",
       "      <td>...</td>\n",
       "      <td>...</td>\n",
       "      <td>...</td>\n",
       "      <td>...</td>\n",
       "      <td>...</td>\n",
       "      <td>...</td>\n",
       "      <td>...</td>\n",
       "      <td>...</td>\n",
       "      <td>...</td>\n",
       "      <td>...</td>\n",
       "      <td>...</td>\n",
       "      <td>...</td>\n",
       "      <td>...</td>\n",
       "      <td>...</td>\n",
       "      <td>...</td>\n",
       "      <td>...</td>\n",
       "    </tr>\n",
       "    <tr>\n",
       "      <th>9995</th>\n",
       "      <td>9995</td>\n",
       "      <td>10932</td>\n",
       "      <td>6</td>\n",
       "      <td>64691</td>\n",
       "      <td>5</td>\n",
       "      <td>323455</td>\n",
       "      <td>2020-03-11</td>\n",
       "      <td>2020</td>\n",
       "      <td>2</td>\n",
       "      <td>21</td>\n",
       "      <td>...</td>\n",
       "      <td>224232.0</td>\n",
       "      <td>127018.0</td>\n",
       "      <td>6</td>\n",
       "      <td>4</td>\n",
       "      <td>1345392</td>\n",
       "      <td>508073</td>\n",
       "      <td>False</td>\n",
       "      <td>6</td>\n",
       "      <td>64691</td>\n",
       "      <td>1</td>\n",
       "    </tr>\n",
       "    <tr>\n",
       "      <th>9996</th>\n",
       "      <td>9996</td>\n",
       "      <td>10943</td>\n",
       "      <td>40</td>\n",
       "      <td>63522</td>\n",
       "      <td>6</td>\n",
       "      <td>381132</td>\n",
       "      <td>2020-12-10</td>\n",
       "      <td>2020</td>\n",
       "      <td>3</td>\n",
       "      <td>9</td>\n",
       "      <td>...</td>\n",
       "      <td>238828.0</td>\n",
       "      <td>234210.0</td>\n",
       "      <td>8</td>\n",
       "      <td>5</td>\n",
       "      <td>1910628</td>\n",
       "      <td>1171052</td>\n",
       "      <td>False</td>\n",
       "      <td>40</td>\n",
       "      <td>63522</td>\n",
       "      <td>1</td>\n",
       "    </tr>\n",
       "    <tr>\n",
       "      <th>9997</th>\n",
       "      <td>9997</td>\n",
       "      <td>10744</td>\n",
       "      <td>54</td>\n",
       "      <td>81202</td>\n",
       "      <td>1</td>\n",
       "      <td>81202</td>\n",
       "      <td>2020-07-10</td>\n",
       "      <td>2020</td>\n",
       "      <td>4</td>\n",
       "      <td>20</td>\n",
       "      <td>...</td>\n",
       "      <td>96661.0</td>\n",
       "      <td>30588.0</td>\n",
       "      <td>3</td>\n",
       "      <td>1</td>\n",
       "      <td>289982</td>\n",
       "      <td>30588</td>\n",
       "      <td>False</td>\n",
       "      <td>54</td>\n",
       "      <td>81202</td>\n",
       "      <td>1</td>\n",
       "    </tr>\n",
       "    <tr>\n",
       "      <th>9998</th>\n",
       "      <td>9998</td>\n",
       "      <td>10266</td>\n",
       "      <td>60</td>\n",
       "      <td>93227</td>\n",
       "      <td>2</td>\n",
       "      <td>186454</td>\n",
       "      <td>2021-12-27</td>\n",
       "      <td>2021</td>\n",
       "      <td>0</td>\n",
       "      <td>14</td>\n",
       "      <td>...</td>\n",
       "      <td>184369.0</td>\n",
       "      <td>312652.0</td>\n",
       "      <td>9</td>\n",
       "      <td>3</td>\n",
       "      <td>1659321</td>\n",
       "      <td>937956</td>\n",
       "      <td>False</td>\n",
       "      <td>60</td>\n",
       "      <td>93227</td>\n",
       "      <td>1</td>\n",
       "    </tr>\n",
       "    <tr>\n",
       "      <th>9999</th>\n",
       "      <td>9999</td>\n",
       "      <td>10654</td>\n",
       "      <td>54</td>\n",
       "      <td>81202</td>\n",
       "      <td>1</td>\n",
       "      <td>81202</td>\n",
       "      <td>2020-10-04</td>\n",
       "      <td>2020</td>\n",
       "      <td>6</td>\n",
       "      <td>15</td>\n",
       "      <td>...</td>\n",
       "      <td>266607.0</td>\n",
       "      <td>233555.0</td>\n",
       "      <td>9</td>\n",
       "      <td>3</td>\n",
       "      <td>2399466</td>\n",
       "      <td>700665</td>\n",
       "      <td>False</td>\n",
       "      <td>54</td>\n",
       "      <td>81202</td>\n",
       "      <td>1</td>\n",
       "    </tr>\n",
       "  </tbody>\n",
       "</table>\n",
       "<p>10000 rows × 27 columns</p>\n",
       "</div>"
      ],
      "text/plain": [
       "      num_ts  cusno_ts  product_num_ts  price_ts quantity  amount       date  \\\n",
       "0          0     10712             100     81317        4  325268 2020-05-27   \n",
       "1          1     10463              44      9163        5   45815 2020-01-22   \n",
       "2          2     10199              77     39153        6  234918 2020-02-29   \n",
       "3          3     10638              64     30059        1   30059 2020-08-26   \n",
       "4          4     10921              95     39054        2   78108 2020-06-11   \n",
       "...      ...       ...             ...       ...      ...     ...        ...   \n",
       "9995    9995     10932               6     64691        5  323455 2020-03-11   \n",
       "9996    9996     10943              40     63522        6  381132 2020-12-10   \n",
       "9997    9997     10744              54     81202        1   81202 2020-07-10   \n",
       "9998    9998     10266              60     93227        2  186454 2021-12-27   \n",
       "9999    9999     10654              54     81202        1   81202 2020-10-04   \n",
       "\n",
       "      year  weekday  hour  ...  ARPPU_20  ARPPU_21  AVC_20  AVC_21   ASC_20  \\\n",
       "0     2020        2     1  ...  378082.0  114469.0       2       3   756164   \n",
       "1     2020        2    17  ...  247135.0  378061.0      10       2  2471352   \n",
       "2     2020        5    13  ...  254944.0  299416.0       3       8   764832   \n",
       "3     2020        2    22  ...  128981.0  266719.0       7       4   902865   \n",
       "4     2020        3    16  ...  202864.0  114564.0       5       9  1014318   \n",
       "...    ...      ...   ...  ...       ...       ...     ...     ...      ...   \n",
       "9995  2020        2    21  ...  224232.0  127018.0       6       4  1345392   \n",
       "9996  2020        3     9  ...  238828.0  234210.0       8       5  1910628   \n",
       "9997  2020        4    20  ...   96661.0   30588.0       3       1   289982   \n",
       "9998  2021        0    14  ...  184369.0  312652.0       9       3  1659321   \n",
       "9999  2020        6    15  ...  266607.0  233555.0       9       3  2399466   \n",
       "\n",
       "       ASC_21 purchase_trend  product_num  price  price_grade  \n",
       "0      343406          False          100  81317            1  \n",
       "1      756122          False           44   9163            3  \n",
       "2     2395324           True           77  39153            2  \n",
       "3     1066877           True           64  30059            2  \n",
       "4     1031074           True           95  39054            2  \n",
       "...       ...            ...          ...    ...          ...  \n",
       "9995   508073          False            6  64691            1  \n",
       "9996  1171052          False           40  63522            1  \n",
       "9997    30588          False           54  81202            1  \n",
       "9998   937956          False           60  93227            1  \n",
       "9999   700665          False           54  81202            1  \n",
       "\n",
       "[10000 rows x 27 columns]"
      ]
     },
     "execution_count": 41,
     "metadata": {},
     "output_type": "execute_result"
    }
   ],
   "source": [
    "# Merge purchase and customer\n",
    "df = purchase.merge(customer, how='left', left_on='cusno_ts', right_on='cusno', left_index=False,\n",
    "                    right_index=False, sort=False, suffixes=('_ts', '_c'), copy=True, indicator=False, validate=None)\n",
    "\n",
    "# Merge additional product\n",
    "df = df.merge(product, how='left', left_on='product_num_ts',\n",
    "              right_on='product_num', suffixes=('', '_p'), copy=True, indicator=False,)\n",
    "df"
   ]
  },
  {
   "cell_type": "code",
   "execution_count": 42,
   "id": "2aa4a112",
   "metadata": {
    "ExecuteTime": {
     "end_time": "2022-07-17T16:43:44.161706Z",
     "start_time": "2022-07-17T16:43:44.139079Z"
    },
    "scrolled": true
   },
   "outputs": [
    {
     "data": {
      "text/html": [
       "<div>\n",
       "<style scoped>\n",
       "    .dataframe tbody tr th:only-of-type {\n",
       "        vertical-align: middle;\n",
       "    }\n",
       "\n",
       "    .dataframe tbody tr th {\n",
       "        vertical-align: top;\n",
       "    }\n",
       "\n",
       "    .dataframe thead th {\n",
       "        text-align: right;\n",
       "    }\n",
       "</style>\n",
       "<table border=\"1\" class=\"dataframe\">\n",
       "  <thead>\n",
       "    <tr style=\"text-align: right;\">\n",
       "      <th></th>\n",
       "      <th>num_ts</th>\n",
       "      <th>date</th>\n",
       "      <th>product_num</th>\n",
       "      <th>price</th>\n",
       "      <th>price_grade</th>\n",
       "      <th>quantity</th>\n",
       "      <th>amount</th>\n",
       "      <th>year</th>\n",
       "      <th>weekday</th>\n",
       "      <th>hour</th>\n",
       "      <th>...</th>\n",
       "      <th>income</th>\n",
       "      <th>grade_20</th>\n",
       "      <th>grade_21</th>\n",
       "      <th>ARPPU_20</th>\n",
       "      <th>ARPPU_21</th>\n",
       "      <th>AVC_20</th>\n",
       "      <th>AVC_21</th>\n",
       "      <th>ASC_20</th>\n",
       "      <th>ASC_21</th>\n",
       "      <th>purchase_trend</th>\n",
       "    </tr>\n",
       "  </thead>\n",
       "  <tbody>\n",
       "    <tr>\n",
       "      <th>0</th>\n",
       "      <td>0</td>\n",
       "      <td>2020-05-27</td>\n",
       "      <td>100</td>\n",
       "      <td>81317</td>\n",
       "      <td>1</td>\n",
       "      <td>4</td>\n",
       "      <td>325268</td>\n",
       "      <td>2020</td>\n",
       "      <td>2</td>\n",
       "      <td>1</td>\n",
       "      <td>...</td>\n",
       "      <td>51454</td>\n",
       "      <td>Silver</td>\n",
       "      <td>Silver</td>\n",
       "      <td>378082.0</td>\n",
       "      <td>114469.0</td>\n",
       "      <td>2</td>\n",
       "      <td>3</td>\n",
       "      <td>756164</td>\n",
       "      <td>343406</td>\n",
       "      <td>False</td>\n",
       "    </tr>\n",
       "    <tr>\n",
       "      <th>1</th>\n",
       "      <td>1</td>\n",
       "      <td>2020-01-22</td>\n",
       "      <td>44</td>\n",
       "      <td>9163</td>\n",
       "      <td>3</td>\n",
       "      <td>5</td>\n",
       "      <td>45815</td>\n",
       "      <td>2020</td>\n",
       "      <td>2</td>\n",
       "      <td>17</td>\n",
       "      <td>...</td>\n",
       "      <td>43363</td>\n",
       "      <td>VIP</td>\n",
       "      <td>Silver</td>\n",
       "      <td>247135.0</td>\n",
       "      <td>378061.0</td>\n",
       "      <td>10</td>\n",
       "      <td>2</td>\n",
       "      <td>2471352</td>\n",
       "      <td>756122</td>\n",
       "      <td>False</td>\n",
       "    </tr>\n",
       "    <tr>\n",
       "      <th>2</th>\n",
       "      <td>2</td>\n",
       "      <td>2020-02-29</td>\n",
       "      <td>77</td>\n",
       "      <td>39153</td>\n",
       "      <td>2</td>\n",
       "      <td>6</td>\n",
       "      <td>234918</td>\n",
       "      <td>2020</td>\n",
       "      <td>5</td>\n",
       "      <td>13</td>\n",
       "      <td>...</td>\n",
       "      <td>7958</td>\n",
       "      <td>Silver</td>\n",
       "      <td>VIP</td>\n",
       "      <td>254944.0</td>\n",
       "      <td>299416.0</td>\n",
       "      <td>3</td>\n",
       "      <td>8</td>\n",
       "      <td>764832</td>\n",
       "      <td>2395324</td>\n",
       "      <td>True</td>\n",
       "    </tr>\n",
       "    <tr>\n",
       "      <th>3</th>\n",
       "      <td>3</td>\n",
       "      <td>2020-08-26</td>\n",
       "      <td>64</td>\n",
       "      <td>30059</td>\n",
       "      <td>2</td>\n",
       "      <td>1</td>\n",
       "      <td>30059</td>\n",
       "      <td>2020</td>\n",
       "      <td>2</td>\n",
       "      <td>22</td>\n",
       "      <td>...</td>\n",
       "      <td>98591</td>\n",
       "      <td>Silver</td>\n",
       "      <td>Gold</td>\n",
       "      <td>128981.0</td>\n",
       "      <td>266719.0</td>\n",
       "      <td>7</td>\n",
       "      <td>4</td>\n",
       "      <td>902865</td>\n",
       "      <td>1066877</td>\n",
       "      <td>True</td>\n",
       "    </tr>\n",
       "    <tr>\n",
       "      <th>4</th>\n",
       "      <td>4</td>\n",
       "      <td>2020-06-11</td>\n",
       "      <td>95</td>\n",
       "      <td>39054</td>\n",
       "      <td>2</td>\n",
       "      <td>2</td>\n",
       "      <td>78108</td>\n",
       "      <td>2020</td>\n",
       "      <td>3</td>\n",
       "      <td>16</td>\n",
       "      <td>...</td>\n",
       "      <td>218380</td>\n",
       "      <td>Silver</td>\n",
       "      <td>Gold</td>\n",
       "      <td>202864.0</td>\n",
       "      <td>114564.0</td>\n",
       "      <td>5</td>\n",
       "      <td>9</td>\n",
       "      <td>1014318</td>\n",
       "      <td>1031074</td>\n",
       "      <td>True</td>\n",
       "    </tr>\n",
       "    <tr>\n",
       "      <th>...</th>\n",
       "      <td>...</td>\n",
       "      <td>...</td>\n",
       "      <td>...</td>\n",
       "      <td>...</td>\n",
       "      <td>...</td>\n",
       "      <td>...</td>\n",
       "      <td>...</td>\n",
       "      <td>...</td>\n",
       "      <td>...</td>\n",
       "      <td>...</td>\n",
       "      <td>...</td>\n",
       "      <td>...</td>\n",
       "      <td>...</td>\n",
       "      <td>...</td>\n",
       "      <td>...</td>\n",
       "      <td>...</td>\n",
       "      <td>...</td>\n",
       "      <td>...</td>\n",
       "      <td>...</td>\n",
       "      <td>...</td>\n",
       "      <td>...</td>\n",
       "    </tr>\n",
       "    <tr>\n",
       "      <th>9995</th>\n",
       "      <td>9995</td>\n",
       "      <td>2020-03-11</td>\n",
       "      <td>6</td>\n",
       "      <td>64691</td>\n",
       "      <td>1</td>\n",
       "      <td>5</td>\n",
       "      <td>323455</td>\n",
       "      <td>2020</td>\n",
       "      <td>2</td>\n",
       "      <td>21</td>\n",
       "      <td>...</td>\n",
       "      <td>31625</td>\n",
       "      <td>Gold</td>\n",
       "      <td>Silver</td>\n",
       "      <td>224232.0</td>\n",
       "      <td>127018.0</td>\n",
       "      <td>6</td>\n",
       "      <td>4</td>\n",
       "      <td>1345392</td>\n",
       "      <td>508073</td>\n",
       "      <td>False</td>\n",
       "    </tr>\n",
       "    <tr>\n",
       "      <th>9996</th>\n",
       "      <td>9996</td>\n",
       "      <td>2020-12-10</td>\n",
       "      <td>40</td>\n",
       "      <td>63522</td>\n",
       "      <td>1</td>\n",
       "      <td>6</td>\n",
       "      <td>381132</td>\n",
       "      <td>2020</td>\n",
       "      <td>3</td>\n",
       "      <td>9</td>\n",
       "      <td>...</td>\n",
       "      <td>47311</td>\n",
       "      <td>Gold</td>\n",
       "      <td>Gold</td>\n",
       "      <td>238828.0</td>\n",
       "      <td>234210.0</td>\n",
       "      <td>8</td>\n",
       "      <td>5</td>\n",
       "      <td>1910628</td>\n",
       "      <td>1171052</td>\n",
       "      <td>False</td>\n",
       "    </tr>\n",
       "    <tr>\n",
       "      <th>9997</th>\n",
       "      <td>9997</td>\n",
       "      <td>2020-07-10</td>\n",
       "      <td>54</td>\n",
       "      <td>81202</td>\n",
       "      <td>1</td>\n",
       "      <td>1</td>\n",
       "      <td>81202</td>\n",
       "      <td>2020</td>\n",
       "      <td>4</td>\n",
       "      <td>20</td>\n",
       "      <td>...</td>\n",
       "      <td>32698</td>\n",
       "      <td>Silver</td>\n",
       "      <td>Silver</td>\n",
       "      <td>96661.0</td>\n",
       "      <td>30588.0</td>\n",
       "      <td>3</td>\n",
       "      <td>1</td>\n",
       "      <td>289982</td>\n",
       "      <td>30588</td>\n",
       "      <td>False</td>\n",
       "    </tr>\n",
       "    <tr>\n",
       "      <th>9998</th>\n",
       "      <td>9998</td>\n",
       "      <td>2021-12-27</td>\n",
       "      <td>60</td>\n",
       "      <td>93227</td>\n",
       "      <td>1</td>\n",
       "      <td>2</td>\n",
       "      <td>186454</td>\n",
       "      <td>2021</td>\n",
       "      <td>0</td>\n",
       "      <td>14</td>\n",
       "      <td>...</td>\n",
       "      <td>51588</td>\n",
       "      <td>Gold</td>\n",
       "      <td>Gold</td>\n",
       "      <td>184369.0</td>\n",
       "      <td>312652.0</td>\n",
       "      <td>9</td>\n",
       "      <td>3</td>\n",
       "      <td>1659321</td>\n",
       "      <td>937956</td>\n",
       "      <td>False</td>\n",
       "    </tr>\n",
       "    <tr>\n",
       "      <th>9999</th>\n",
       "      <td>9999</td>\n",
       "      <td>2020-10-04</td>\n",
       "      <td>54</td>\n",
       "      <td>81202</td>\n",
       "      <td>1</td>\n",
       "      <td>1</td>\n",
       "      <td>81202</td>\n",
       "      <td>2020</td>\n",
       "      <td>6</td>\n",
       "      <td>15</td>\n",
       "      <td>...</td>\n",
       "      <td>10877</td>\n",
       "      <td>Gold</td>\n",
       "      <td>Silver</td>\n",
       "      <td>266607.0</td>\n",
       "      <td>233555.0</td>\n",
       "      <td>9</td>\n",
       "      <td>3</td>\n",
       "      <td>2399466</td>\n",
       "      <td>700665</td>\n",
       "      <td>False</td>\n",
       "    </tr>\n",
       "  </tbody>\n",
       "</table>\n",
       "<p>10000 rows × 24 columns</p>\n",
       "</div>"
      ],
      "text/plain": [
       "      num_ts       date  product_num  price price_grade quantity  amount  \\\n",
       "0          0 2020-05-27          100  81317           1        4  325268   \n",
       "1          1 2020-01-22           44   9163           3        5   45815   \n",
       "2          2 2020-02-29           77  39153           2        6  234918   \n",
       "3          3 2020-08-26           64  30059           2        1   30059   \n",
       "4          4 2020-06-11           95  39054           2        2   78108   \n",
       "...      ...        ...          ...    ...         ...      ...     ...   \n",
       "9995    9995 2020-03-11            6  64691           1        5  323455   \n",
       "9996    9996 2020-12-10           40  63522           1        6  381132   \n",
       "9997    9997 2020-07-10           54  81202           1        1   81202   \n",
       "9998    9998 2021-12-27           60  93227           1        2  186454   \n",
       "9999    9999 2020-10-04           54  81202           1        1   81202   \n",
       "\n",
       "      year  weekday  hour  ...  income  grade_20  grade_21  ARPPU_20  \\\n",
       "0     2020        2     1  ...   51454    Silver    Silver  378082.0   \n",
       "1     2020        2    17  ...   43363       VIP    Silver  247135.0   \n",
       "2     2020        5    13  ...    7958    Silver       VIP  254944.0   \n",
       "3     2020        2    22  ...   98591    Silver      Gold  128981.0   \n",
       "4     2020        3    16  ...  218380    Silver      Gold  202864.0   \n",
       "...    ...      ...   ...  ...     ...       ...       ...       ...   \n",
       "9995  2020        2    21  ...   31625      Gold    Silver  224232.0   \n",
       "9996  2020        3     9  ...   47311      Gold      Gold  238828.0   \n",
       "9997  2020        4    20  ...   32698    Silver    Silver   96661.0   \n",
       "9998  2021        0    14  ...   51588      Gold      Gold  184369.0   \n",
       "9999  2020        6    15  ...   10877      Gold    Silver  266607.0   \n",
       "\n",
       "      ARPPU_21 AVC_20 AVC_21   ASC_20   ASC_21  purchase_trend  \n",
       "0     114469.0      2      3   756164   343406           False  \n",
       "1     378061.0     10      2  2471352   756122           False  \n",
       "2     299416.0      3      8   764832  2395324            True  \n",
       "3     266719.0      7      4   902865  1066877            True  \n",
       "4     114564.0      5      9  1014318  1031074            True  \n",
       "...        ...    ...    ...      ...      ...             ...  \n",
       "9995  127018.0      6      4  1345392   508073           False  \n",
       "9996  234210.0      8      5  1910628  1171052           False  \n",
       "9997   30588.0      3      1   289982    30588           False  \n",
       "9998  312652.0      9      3  1659321   937956           False  \n",
       "9999  233555.0      9      3  2399466   700665           False  \n",
       "\n",
       "[10000 rows x 24 columns]"
      ]
     },
     "execution_count": 42,
     "metadata": {},
     "output_type": "execute_result"
    }
   ],
   "source": [
    "# 중복을 제외하고 데이터 분석에 사용할 컬럼들로 이루어진 DataFrame 생성\n",
    "df = df.loc[:, ['num_ts', 'date', 'product_num', 'price', 'price_grade', 'quantity', 'amount',\n",
    "                'year', 'weekday', 'hour', 'cusno', 'region', 'gender', 'age', 'income',\n",
    "                'grade_20', 'grade_21', 'ARPPU_20', 'ARPPU_21', 'AVC_20', 'AVC_21', 'ASC_20', 'ASC_21', 'purchase_trend']]\n",
    "df"
   ]
  },
  {
   "cell_type": "code",
   "execution_count": 43,
   "id": "89e884af",
   "metadata": {
    "ExecuteTime": {
     "end_time": "2022-07-17T16:43:44.170178Z",
     "start_time": "2022-07-17T16:43:44.162605Z"
    },
    "scrolled": true
   },
   "outputs": [
    {
     "name": "stdout",
     "output_type": "stream",
     "text": [
      "<class 'pandas.core.frame.DataFrame'>\n",
      "Int64Index: 10000 entries, 0 to 9999\n",
      "Data columns (total 24 columns):\n",
      " #   Column          Non-Null Count  Dtype         \n",
      "---  ------          --------------  -----         \n",
      " 0   num_ts          10000 non-null  int64         \n",
      " 1   date            10000 non-null  datetime64[ns]\n",
      " 2   product_num     10000 non-null  int64         \n",
      " 3   price           10000 non-null  int64         \n",
      " 4   price_grade     10000 non-null  object        \n",
      " 5   quantity        10000 non-null  object        \n",
      " 6   amount          10000 non-null  object        \n",
      " 7   year            10000 non-null  int64         \n",
      " 8   weekday         10000 non-null  int64         \n",
      " 9   hour            10000 non-null  int64         \n",
      " 10  cusno           10000 non-null  int64         \n",
      " 11  region          10000 non-null  int64         \n",
      " 12  gender          10000 non-null  int64         \n",
      " 13  age             10000 non-null  int64         \n",
      " 14  income          10000 non-null  int64         \n",
      " 15  grade_20        10000 non-null  category      \n",
      " 16  grade_21        10000 non-null  category      \n",
      " 17  ARPPU_20        10000 non-null  float64       \n",
      " 18  ARPPU_21        10000 non-null  float64       \n",
      " 19  AVC_20          10000 non-null  int64         \n",
      " 20  AVC_21          10000 non-null  int64         \n",
      " 21  ASC_20          10000 non-null  int64         \n",
      " 22  ASC_21          10000 non-null  int64         \n",
      " 23  purchase_trend  10000 non-null  bool          \n",
      "dtypes: bool(1), category(2), datetime64[ns](1), float64(2), int64(15), object(3)\n",
      "memory usage: 1.7+ MB\n"
     ]
    }
   ],
   "source": [
    "df.info()"
   ]
  },
  {
   "cell_type": "markdown",
   "id": "e1860b00",
   "metadata": {},
   "source": [
    "## 의도한 데이터 경향성 확인\n",
    "- 고객별 총 소비량 감소\n",
    "- 누적 매출액 증가량 증가량 감소\n",
    "- 지역별, 소득수준 별 소비량 변화\n",
    "- 1 지역 고가품 소비 증가 경향\n",
    "- 5 지역 저가품 소비 증가 경향\n"
   ]
  },
  {
   "cell_type": "markdown",
   "id": "22f1fcb0",
   "metadata": {},
   "source": [
    "### 고객별 총 소비량 감소"
   ]
  },
  {
   "cell_type": "code",
   "execution_count": 44,
   "id": "bbb77e0f",
   "metadata": {
    "ExecuteTime": {
     "end_time": "2022-07-17T16:43:44.245647Z",
     "start_time": "2022-07-17T16:43:44.171353Z"
    },
    "scrolled": false
   },
   "outputs": [
    {
     "name": "stdout",
     "output_type": "stream",
     "text": [
      "True     216\n",
      "False    784\n",
      "Name: purchase_trend, dtype: int64\n"
     ]
    },
    {
     "data": {
      "image/png": "[encoded data removed]",
      "text/plain": [
       "<Figure size 432x288 with 1 Axes>"
      ]
     },
     "metadata": {
      "needs_background": "light"
     },
     "output_type": "display_data"
    },
    {
     "name": "stdout",
     "output_type": "stream",
     "text": [
      "2020년 대비 2021년도 고객별 총 소비량이\n",
      " 증가 216 명\n",
      " 감소 784 명\n",
      "으로 대다수 고객들의 소비가 감소한 것으로 나타났다. \n"
     ]
    }
   ],
   "source": [
    "a = customer.purchase_trend.value_counts()\n",
    "a = a[::-1]\n",
    "print(a)\n",
    "a = a.rename(index={True: '증가', False: '감소'})\n",
    "a.plot(kind='bar')\n",
    "plt.title('2020년 대비 2021년도 고객별 평균 소비량 변화', color='white')\n",
    "plt.xlabel('purchase_trend', color='white')\n",
    "plt.ylabel('고객 수', color='white')\n",
    "plt.legend()\n",
    "plt.show()\n",
    "\n",
    "print(f'2020년 대비 2021년도 고객별 총 소비량이\\n 증가 {a[0]} 명\\n 감소 {a[1]} 명\\n으로 대다수 고객들의 소비가 감소한 것으로 나타났다. ')"
   ]
  },
  {
   "cell_type": "markdown",
   "id": "8875918e",
   "metadata": {},
   "source": [
    "###  누적 매출액 증가량 감소"
   ]
  },
  {
   "cell_type": "code",
   "execution_count": 45,
   "id": "c1608c21",
   "metadata": {
    "ExecuteTime": {
     "end_time": "2022-07-17T16:43:46.192741Z",
     "start_time": "2022-07-17T16:43:44.247099Z"
    },
    "scrolled": false
   },
   "outputs": [
    {
     "data": {
      "image/png": "[encoded data removed]",
      "text/plain": [
       "<Figure size 432x288 with 1 Axes>"
      ]
     },
     "metadata": {
      "needs_background": "light"
     },
     "output_type": "display_data"
    }
   ],
   "source": [
    "df_date = date.unique()\n",
    "df_date = pd.Series(df_date, name='df_date')\n",
    "df_date = df_date.sort_values()\n",
    "df_date = df_date.reset_index(drop=True)\n",
    "df_date = df_date.dt.date.unique()\n",
    "df_date = pd.Series(df_date, name='df_date')\n",
    "# print(df_date.info())\n",
    "# 날짜별 총 매출액\n",
    "li = []\n",
    "for i in df_date:\n",
    "    c = purchase[purchase['date'].dt.date == i].amount.sum()\n",
    "    li.append(c)\n",
    "\n",
    "li = pd.Series(li, name='amount')\n",
    "li = li.cumsum()\n",
    "df = pd.concat([df_date, li], axis=1)\n",
    "df\n",
    "plt.plot(df.df_date, df.amount)\n",
    "plt.title('날자별 누적 매출액', color='white')\n",
    "plt.xlabel('날짜', color='white')\n",
    "plt.ylabel('누적 매출엑', color='white')\n",
    "plt.show()"
   ]
  },
  {
   "cell_type": "markdown",
   "id": "43faf94d",
   "metadata": {},
   "source": [
    "### 지역별, 소득수준 별 소비량 변화"
   ]
  },
  {
   "cell_type": "markdown",
   "id": "f6fdd9d9",
   "metadata": {},
   "source": [
    "### 고가품 소비 증감 현황"
   ]
  },
  {
   "cell_type": "code",
   "execution_count": null,
   "id": "05eef6c9",
   "metadata": {},
   "outputs": [],
   "source": []
  },
  {
   "cell_type": "code",
   "execution_count": null,
   "id": "c17e0f5e",
   "metadata": {},
   "outputs": [],
   "source": []
  },
  {
   "cell_type": "code",
   "execution_count": null,
   "id": "b93caf13",
   "metadata": {},
   "outputs": [],
   "source": []
  },
  {
   "cell_type": "code",
   "execution_count": null,
   "id": "4cd31720",
   "metadata": {},
   "outputs": [],
   "source": []
  },
  {
   "cell_type": "code",
   "execution_count": null,
   "id": "934a8372",
   "metadata": {},
   "outputs": [],
   "source": []
  },
  {
   "cell_type": "code",
   "execution_count": 46,
   "id": "fe19448d",
   "metadata": {
    "ExecuteTime": {
     "end_time": "2022-07-17T16:43:47.673366Z",
     "start_time": "2022-07-17T16:43:46.194361Z"
    },
    "scrolled": false
   },
   "outputs": [
    {
     "ename": "KeyError",
     "evalue": "'day'",
     "output_type": "error",
     "traceback": [
      "\u001b[0;31m---------------------------------------------------------------------------\u001b[0m",
      "\u001b[0;31mKeyError\u001b[0m                                  Traceback (most recent call last)",
      "File \u001b[0;32m/opt/homebrew/Caskroom/miniconda/base/envs/cakd7/lib/python3.8/site-packages/pandas/core/indexes/base.py:3621\u001b[0m, in \u001b[0;36mIndex.get_loc\u001b[0;34m(self, key, method, tolerance)\u001b[0m\n\u001b[1;32m   3620\u001b[0m \u001b[38;5;28;01mtry\u001b[39;00m:\n\u001b[0;32m-> 3621\u001b[0m     \u001b[38;5;28;01mreturn\u001b[39;00m \u001b[38;5;28;43mself\u001b[39;49m\u001b[38;5;241;43m.\u001b[39;49m\u001b[43m_engine\u001b[49m\u001b[38;5;241;43m.\u001b[39;49m\u001b[43mget_loc\u001b[49m\u001b[43m(\u001b[49m\u001b[43mcasted_key\u001b[49m\u001b[43m)\u001b[49m\n\u001b[1;32m   3622\u001b[0m \u001b[38;5;28;01mexcept\u001b[39;00m \u001b[38;5;167;01mKeyError\u001b[39;00m \u001b[38;5;28;01mas\u001b[39;00m err:\n",
      "File \u001b[0;32m/opt/homebrew/Caskroom/miniconda/base/envs/cakd7/lib/python3.8/site-packages/pandas/_libs/index.pyx:136\u001b[0m, in \u001b[0;36mpandas._libs.index.IndexEngine.get_loc\u001b[0;34m()\u001b[0m\n",
      "File \u001b[0;32m/opt/homebrew/Caskroom/miniconda/base/envs/cakd7/lib/python3.8/site-packages/pandas/_libs/index.pyx:163\u001b[0m, in \u001b[0;36mpandas._libs.index.IndexEngine.get_loc\u001b[0;34m()\u001b[0m\n",
      "File \u001b[0;32mpandas/_libs/hashtable_class_helper.pxi:5198\u001b[0m, in \u001b[0;36mpandas._libs.hashtable.PyObjectHashTable.get_item\u001b[0;34m()\u001b[0m\n",
      "File \u001b[0;32mpandas/_libs/hashtable_class_helper.pxi:5206\u001b[0m, in \u001b[0;36mpandas._libs.hashtable.PyObjectHashTable.get_item\u001b[0;34m()\u001b[0m\n",
      "\u001b[0;31mKeyError\u001b[0m: 'day'",
      "\nThe above exception was the direct cause of the following exception:\n",
      "\u001b[0;31mKeyError\u001b[0m                                  Traceback (most recent call last)",
      "Input \u001b[0;32mIn [46]\u001b[0m, in \u001b[0;36m<cell line: 1>\u001b[0;34m()\u001b[0m\n\u001b[0;32m----> 1\u001b[0m grid \u001b[38;5;241m=\u001b[39m \u001b[43msns\u001b[49m\u001b[38;5;241;43m.\u001b[39;49m\u001b[43mFacetGrid\u001b[49m\u001b[43m(\u001b[49m\u001b[43mpurchase\u001b[49m\u001b[43m,\u001b[49m\u001b[43m \u001b[49m\u001b[43mrow\u001b[49m\u001b[38;5;241;43m=\u001b[39;49m\u001b[38;5;124;43m'\u001b[39;49m\u001b[38;5;124;43myear\u001b[39;49m\u001b[38;5;124;43m'\u001b[39;49m\u001b[43m,\u001b[49m\u001b[43m \u001b[49m\u001b[43mcol\u001b[49m\u001b[38;5;241;43m=\u001b[39;49m\u001b[38;5;124;43m'\u001b[39;49m\u001b[38;5;124;43mday\u001b[39;49m\u001b[38;5;124;43m'\u001b[39;49m\u001b[43m,\u001b[49m\u001b[43m \u001b[49m\u001b[43mheight\u001b[49m\u001b[38;5;241;43m=\u001b[39;49m\u001b[38;5;241;43m2.2\u001b[39;49m\u001b[43m,\u001b[49m\u001b[43m \u001b[49m\u001b[43maspect\u001b[49m\u001b[38;5;241;43m=\u001b[39;49m\u001b[38;5;241;43m1.6\u001b[39;49m\u001b[43m)\u001b[49m\n\u001b[1;32m      2\u001b[0m grid\u001b[38;5;241m.\u001b[39mmap(plt\u001b[38;5;241m.\u001b[39mhist, \u001b[38;5;124m'\u001b[39m\u001b[38;5;124mamount\u001b[39m\u001b[38;5;124m'\u001b[39m, alpha\u001b[38;5;241m=\u001b[39m\u001b[38;5;241m.5\u001b[39m, bins\u001b[38;5;241m=\u001b[39m\u001b[38;5;241m20\u001b[39m)\n\u001b[1;32m      3\u001b[0m grid\u001b[38;5;241m.\u001b[39madd_legend()\n",
      "File \u001b[0;32m/opt/homebrew/Caskroom/miniconda/base/envs/cakd7/lib/python3.8/site-packages/seaborn/_decorators.py:46\u001b[0m, in \u001b[0;36m_deprecate_positional_args.<locals>.inner_f\u001b[0;34m(*args, **kwargs)\u001b[0m\n\u001b[1;32m     36\u001b[0m     warnings\u001b[38;5;241m.\u001b[39mwarn(\n\u001b[1;32m     37\u001b[0m         \u001b[38;5;124m\"\u001b[39m\u001b[38;5;124mPass the following variable\u001b[39m\u001b[38;5;132;01m{}\u001b[39;00m\u001b[38;5;124m as \u001b[39m\u001b[38;5;132;01m{}\u001b[39;00m\u001b[38;5;124mkeyword arg\u001b[39m\u001b[38;5;132;01m{}\u001b[39;00m\u001b[38;5;124m: \u001b[39m\u001b[38;5;132;01m{}\u001b[39;00m\u001b[38;5;124m. \u001b[39m\u001b[38;5;124m\"\u001b[39m\n\u001b[1;32m     38\u001b[0m         \u001b[38;5;124m\"\u001b[39m\u001b[38;5;124mFrom version 0.12, the only valid positional argument \u001b[39m\u001b[38;5;124m\"\u001b[39m\n\u001b[0;32m   (...)\u001b[0m\n\u001b[1;32m     43\u001b[0m         \u001b[38;5;167;01mFutureWarning\u001b[39;00m\n\u001b[1;32m     44\u001b[0m     )\n\u001b[1;32m     45\u001b[0m kwargs\u001b[38;5;241m.\u001b[39mupdate({k: arg \u001b[38;5;28;01mfor\u001b[39;00m k, arg \u001b[38;5;129;01min\u001b[39;00m \u001b[38;5;28mzip\u001b[39m(sig\u001b[38;5;241m.\u001b[39mparameters, args)})\n\u001b[0;32m---> 46\u001b[0m \u001b[38;5;28;01mreturn\u001b[39;00m \u001b[43mf\u001b[49m\u001b[43m(\u001b[49m\u001b[38;5;241;43m*\u001b[39;49m\u001b[38;5;241;43m*\u001b[39;49m\u001b[43mkwargs\u001b[49m\u001b[43m)\u001b[49m\n",
      "File \u001b[0;32m/opt/homebrew/Caskroom/miniconda/base/envs/cakd7/lib/python3.8/site-packages/seaborn/axisgrid.py:357\u001b[0m, in \u001b[0;36mFacetGrid.__init__\u001b[0;34m(self, data, row, col, hue, col_wrap, sharex, sharey, height, aspect, palette, row_order, col_order, hue_order, hue_kws, dropna, legend_out, despine, margin_titles, xlim, ylim, subplot_kws, gridspec_kws, size)\u001b[0m\n\u001b[1;32m    355\u001b[0m     col_names \u001b[38;5;241m=\u001b[39m []\n\u001b[1;32m    356\u001b[0m \u001b[38;5;28;01melse\u001b[39;00m:\n\u001b[0;32m--> 357\u001b[0m     col_names \u001b[38;5;241m=\u001b[39m categorical_order(\u001b[43mdata\u001b[49m\u001b[43m[\u001b[49m\u001b[43mcol\u001b[49m\u001b[43m]\u001b[49m, col_order)\n\u001b[1;32m    359\u001b[0m \u001b[38;5;66;03m# Additional dict of kwarg -> list of values for mapping the hue var\u001b[39;00m\n\u001b[1;32m    360\u001b[0m hue_kws \u001b[38;5;241m=\u001b[39m hue_kws \u001b[38;5;28;01mif\u001b[39;00m hue_kws \u001b[38;5;129;01mis\u001b[39;00m \u001b[38;5;129;01mnot\u001b[39;00m \u001b[38;5;28;01mNone\u001b[39;00m \u001b[38;5;28;01melse\u001b[39;00m {}\n",
      "File \u001b[0;32m/opt/homebrew/Caskroom/miniconda/base/envs/cakd7/lib/python3.8/site-packages/pandas/core/frame.py:3505\u001b[0m, in \u001b[0;36mDataFrame.__getitem__\u001b[0;34m(self, key)\u001b[0m\n\u001b[1;32m   3503\u001b[0m \u001b[38;5;28;01mif\u001b[39;00m \u001b[38;5;28mself\u001b[39m\u001b[38;5;241m.\u001b[39mcolumns\u001b[38;5;241m.\u001b[39mnlevels \u001b[38;5;241m>\u001b[39m \u001b[38;5;241m1\u001b[39m:\n\u001b[1;32m   3504\u001b[0m     \u001b[38;5;28;01mreturn\u001b[39;00m \u001b[38;5;28mself\u001b[39m\u001b[38;5;241m.\u001b[39m_getitem_multilevel(key)\n\u001b[0;32m-> 3505\u001b[0m indexer \u001b[38;5;241m=\u001b[39m \u001b[38;5;28;43mself\u001b[39;49m\u001b[38;5;241;43m.\u001b[39;49m\u001b[43mcolumns\u001b[49m\u001b[38;5;241;43m.\u001b[39;49m\u001b[43mget_loc\u001b[49m\u001b[43m(\u001b[49m\u001b[43mkey\u001b[49m\u001b[43m)\u001b[49m\n\u001b[1;32m   3506\u001b[0m \u001b[38;5;28;01mif\u001b[39;00m is_integer(indexer):\n\u001b[1;32m   3507\u001b[0m     indexer \u001b[38;5;241m=\u001b[39m [indexer]\n",
      "File \u001b[0;32m/opt/homebrew/Caskroom/miniconda/base/envs/cakd7/lib/python3.8/site-packages/pandas/core/indexes/base.py:3623\u001b[0m, in \u001b[0;36mIndex.get_loc\u001b[0;34m(self, key, method, tolerance)\u001b[0m\n\u001b[1;32m   3621\u001b[0m     \u001b[38;5;28;01mreturn\u001b[39;00m \u001b[38;5;28mself\u001b[39m\u001b[38;5;241m.\u001b[39m_engine\u001b[38;5;241m.\u001b[39mget_loc(casted_key)\n\u001b[1;32m   3622\u001b[0m \u001b[38;5;28;01mexcept\u001b[39;00m \u001b[38;5;167;01mKeyError\u001b[39;00m \u001b[38;5;28;01mas\u001b[39;00m err:\n\u001b[0;32m-> 3623\u001b[0m     \u001b[38;5;28;01mraise\u001b[39;00m \u001b[38;5;167;01mKeyError\u001b[39;00m(key) \u001b[38;5;28;01mfrom\u001b[39;00m \u001b[38;5;21;01merr\u001b[39;00m\n\u001b[1;32m   3624\u001b[0m \u001b[38;5;28;01mexcept\u001b[39;00m \u001b[38;5;167;01mTypeError\u001b[39;00m:\n\u001b[1;32m   3625\u001b[0m     \u001b[38;5;66;03m# If we have a listlike key, _check_indexing_error will raise\u001b[39;00m\n\u001b[1;32m   3626\u001b[0m     \u001b[38;5;66;03m#  InvalidIndexError. Otherwise we fall through and re-raise\u001b[39;00m\n\u001b[1;32m   3627\u001b[0m     \u001b[38;5;66;03m#  the TypeError.\u001b[39;00m\n\u001b[1;32m   3628\u001b[0m     \u001b[38;5;28mself\u001b[39m\u001b[38;5;241m.\u001b[39m_check_indexing_error(key)\n",
      "\u001b[0;31mKeyError\u001b[0m: 'day'"
     ]
    }
   ],
   "source": [
    "grid = sns.FacetGrid(purchase, row='year', col='day', height=2.2, aspect=1.6)\n",
    "grid.map(plt.hist, 'amount', alpha=.5, bins=20)\n",
    "grid.add_legend()"
   ]
  },
  {
   "cell_type": "code",
   "execution_count": null,
   "id": "a24fd6fb",
   "metadata": {
    "ExecuteTime": {
     "end_time": "2022-07-17T16:43:47.675251Z",
     "start_time": "2022-07-17T16:43:47.675245Z"
    }
   },
   "outputs": [],
   "source": [
    "grid = sns.FacetGrid(X_train, row='embarked',\n",
    "                     col='survived', height=2.2, aspect=1.6)\n",
    "\n",
    "# 바그래프로 시각화, x: 성별, y: 요금, Error bar: 표시 안 함\n",
    "grid.map(sns.barplot, 'sex', 'fare', alpha=.5,\n",
    "         ci=None, order=[\"male\", \"female\"])\n",
    "\n",
    "grid.add_legend()"
   ]
  },
  {
   "cell_type": "code",
   "execution_count": null,
   "id": "bec723bd",
   "metadata": {
    "ExecuteTime": {
     "end_time": "2022-07-17T16:43:47.675697Z",
     "start_time": "2022-07-17T16:43:47.675691Z"
    }
   },
   "outputs": [],
   "source": [
    "grid = sns.FacetGrid(X_train, row='embarked', height=2.2, aspect=1.6)\n",
    "\n",
    "# Pointplot으로 시각화, x: 객실 등급, y: 생존 여부, 색깔: 성별, x축 순서: [1, 2, 3], 색깔 순서: [남성, 여성]\n",
    "grid.map(sns.pointplot, 'pclass', 'survived', 'sex', palette='deep',\n",
    "         order=[1, 2, 3], hue_order=[\"male\", \"female\"])\n",
    "\n",
    "grid.add_legend()"
   ]
  },
  {
   "cell_type": "code",
   "execution_count": null,
   "id": "2309e6c4",
   "metadata": {
    "ExecuteTime": {
     "end_time": "2022-07-17T16:43:47.676718Z",
     "start_time": "2022-07-17T16:43:47.676712Z"
    }
   },
   "outputs": [],
   "source": [
    "from sklearn import preprocessing\n",
    "from sklearn.model_selection import train_test_split\n",
    "\n",
    "# 독립변수, 종속 변수 분리\n",
    "X = df_1[['gender_c', 'age_c', 'region_c', 'ARPPU_20_c',\n",
    "          'AVC_20_c', 'AVC_21_c', 'amount_20_p']]\n",
    "y = df_1['sales_trend']\n",
    "\n",
    "# 학습용 테이터와 평가용 데이터를 8:2로 분리\n",
    "X_train, X_test, y_train, y_test = train_test_split(X, y, test_size=0.2,\n",
    "                                                    random_state=10)\n",
    "print(X_train.shape)\n",
    "print(X_test.shape)"
   ]
  },
  {
   "cell_type": "code",
   "execution_count": null,
   "id": "460edd9f",
   "metadata": {
    "ExecuteTime": {
     "end_time": "2022-07-17T16:43:47.677462Z",
     "start_time": "2022-07-17T16:43:47.677455Z"
    }
   },
   "outputs": [],
   "source": [
    "# Decision Tree\n",
    "from sklearn.metrics import accuracy_score\n",
    "from sklearn.tree import DecisionTreeClassifier\n",
    "dt_model = DecisionTreeClassifier()\n",
    "dt_model.fit(X_train, y_train)\n",
    "dt_pred = dt_model.predict(X_test)\n",
    "\n",
    "print(dt_pred[0:10])\n",
    "print(y_test.values[0:10])\n",
    "\n",
    "accuracy = accuracy_score(y_test, dt_pred)\n",
    "print('dt 예측 정확도 :', accuracy)"
   ]
  },
  {
   "cell_type": "code",
   "execution_count": null,
   "id": "9b4e0df5",
   "metadata": {
    "ExecuteTime": {
     "end_time": "2022-07-17T16:43:47.679358Z",
     "start_time": "2022-07-17T16:43:47.679328Z"
    }
   },
   "outputs": [],
   "source": [
    "# Random Forest\n",
    "from sklearn.ensemble import RandomForestClassifier\n",
    "\n",
    "rf_model = RandomForestClassifier()\n",
    "rf_model.fit(X_train, y_train)\n",
    "rf_pred = rf_model.predict(X_test)\n",
    "\n",
    "rf_accuracy = accuracy_score(y_test, rf_pred)\n",
    "print('rf 예측 정확도 :', rf_accuracy)"
   ]
  },
  {
   "cell_type": "code",
   "execution_count": null,
   "id": "4d20edf0",
   "metadata": {
    "ExecuteTime": {
     "end_time": "2022-07-17T16:43:47.681656Z",
     "start_time": "2022-07-17T16:43:47.681649Z"
    }
   },
   "outputs": [],
   "source": [
    "# Logistic Regression\n",
    "from sklearn.linear_model import LogisticRegression\n",
    "import warnings\n",
    "warnings.filterwarnings('ignore')\n",
    "\n",
    "lr_model = LogisticRegression(random_state=0)\n",
    "lr_model.fit(X_train, y_train)\n",
    "lr_pred = lr_model.predict(X_test)\n",
    "\n",
    "lr_accuracy = accuracy_score(y_test, lr_pred)\n",
    "print('lr 예측 정확도 :', accuracy)"
   ]
  }
 ],
 "metadata": {
  "kernelspec": {
   "display_name": "Python 3 (ipykernel)",
   "language": "python",
   "name": "python3"
  },
  "language_info": {
   "codemirror_mode": {
    "name": "ipython",
    "version": 3
   },
   "file_extension": ".py",
   "mimetype": "text/x-python",
   "name": "python",
   "nbconvert_exporter": "python",
   "pygments_lexer": "ipython3",
   "version": "3.8.13"
  },
  "toc": {
   "base_numbering": 1,
   "nav_menu": {},
   "number_sections": true,
   "sideBar": true,
   "skip_h1_title": false,
   "title_cell": "Table of Contents",
   "title_sidebar": "Contents",
   "toc_cell": false,
   "toc_position": {
    "height": "772px",
    "left": "50px",
    "top": "96px",
    "width": "338.98895263671875px"
   },
   "toc_section_display": true,
   "toc_window_display": true
  },
  "vscode": {
   "interpreter": {
    "hash": "8bc63b9dccddb30ca262e4173412da2e79bc15ab91475421876c1b615dda9d9c"
   }
  }
 },
 "nbformat": 4,
 "nbformat_minor": 5
}
