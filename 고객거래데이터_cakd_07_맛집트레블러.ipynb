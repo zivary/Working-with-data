{
 "cells": [
  {
   "cell_type": "code",
   "execution_count": 1,
   "id": "a88aad96",
   "metadata": {
    "ExecuteTime": {
     "end_time": "2022-07-16T19:40:52.790595Z",
     "start_time": "2022-07-16T19:40:52.785301Z"
    }
   },
   "outputs": [
    {
     "data": {
      "text/plain": [
       "'/Users/mac/Library/Mobile Documents/com~apple~CloudDocs/GitHub/sales_data_analysis'"
      ]
     },
     "execution_count": 1,
     "metadata": {},
     "output_type": "execute_result"
    }
   ],
   "source": [
    "%pwd"
   ]
  },
  {
   "cell_type": "markdown",
   "id": "c9ea644c",
   "metadata": {},
   "source": [
    "# 인사이트(중앙 편의점)\n",
    "1. 소비 트랜드 만들기 \n",
    "    - 지역 별 소들 수준 구분\n",
    "    - \n",
    "    - 인당 평균 소비량 감소\n",
    "    - 1 지역 젊은 여상들의 고가품 소비 증가 경향\n",
    "    - 5 지역 고령 남성들의 저가품 소비 증가 경향\n",
    "       |지역|인구(명)|소득|컨셉|연령 분포|소비 집중 시간|\n",
    "       |-|-|-|-|-|-|\n",
    "       | 1지역 | 100 | 2억 | 부촌 | 고령남여+ 젊은여 | 일과 시간 소비 |\n",
    "       | 2지역 | 150 | 1억 | 위성신도시 | 신혼 부부 + 어린 자녀 |  평일 오전, 주말 | \n",
    "       | 3지역 | 300 | 5천 | 업무지구 | 30~50대 생상가능인구 | 점심시간, 저녁, (특징: 주말 소비 급감) | \n",
    "       | 4지역 | 200 | 1천 | 대학가 | 20대 | 점심시간, 저녁, (특징: 주말 소비 급감) |\n",
    "       | 5지역 | 250 | 3천 | 일반거주지구 | 노년층 | 늦은 밤 |\n",
    "       \n",
    "       -  소득은 정규분포로 데이터 입력\n",
    "1. 트랜드 분석\n",
    "    - 평균 1회 결제 금액이 큰 고객을 더 유치하기위한 마케팅 계획 수립을 위한 분석\n",
    "    - 최근 변화한 소비 트렌드에 가장 민감하게 반응한 소득별 계층 분석\n",
    "    - \n",
    "4. 데이터프레임\n",
    "    - 상품 데이터프레임\n",
    ">- product_num* : 상품 코드\n",
    ">- price* : 상품 가격\n",
    ">- price_grade : 고가 중가 저가 여부\n",
    "\n",
    "    - 고객\n",
    ">- cusno* : 고객 번호\n",
    ">- region* : 지역  \n",
    ">- gender* : 성별  \n",
    ">- age* : 나이  \n",
    ">- income* : 급여  \n",
    ">- grade_20 : 2020년 회원 등급\n",
    ">- grade_21 : 2021년 회원 등급\n",
    ">- ARPPU_20 : 2020년 회당 평균 결제액\n",
    ">- ARPPU_21 : 2021년 회당 평균 결제액\n",
    ">- AVC_20 : 2020년 연간 방문 횟수\n",
    ">- AVC_21 : 2021년 연간 방문 횟수\n",
    ">- purchase_trend : 고개 구매 추세 변화\n",
    "    \n",
    "    - 거래 데이터프레임\n",
    ">- num_ts* : 거래 번호\n",
    ">- cusno_ts* : 고객 변호\n",
    ">- product_num_ts* : 상품코드\n",
    ">- price_ts : 상품 가격\n",
    ">- quantity* : 수량\n",
    ">- amount : 해당 거래 매출\n",
    ">- date*: 거래 날짜\n",
    ">- year, weekday, hour : 거래 년도, 요일, 시간\n",
    "\n",
    " **변수명* <- 독립변수로 직접 입력해준 데이터**"
   ]
  },
  {
   "cell_type": "code",
   "execution_count": 2,
   "id": "2805b6d0",
   "metadata": {
    "ExecuteTime": {
     "end_time": "2022-07-16T19:40:53.456358Z",
     "start_time": "2022-07-16T19:40:52.792306Z"
    }
   },
   "outputs": [],
   "source": [
    "import pandas as pd\n",
    "import numpy as np\n",
    "import matplotlib.pyplot as plt\n",
    "import plotly.express as px\n",
    "import seaborn as sns\n",
    "import random\n",
    "import warnings\n",
    "from datetime import datetime\n",
    "from dateutil.parser import parse\n",
    "warnings.filterwarnings('ignore')\n",
    "\n",
    "random.seed(0)"
   ]
  },
  {
   "cell_type": "markdown",
   "id": "65a3b986",
   "metadata": {
    "ExecuteTime": {
     "end_time": "2022-07-14T08:36:50.831874Z",
     "start_time": "2022-07-14T08:36:50.829616Z"
    }
   },
   "source": [
    "## 상품 목록 데이터프레임 만들기 : product"
   ]
  },
  {
   "cell_type": "markdown",
   "id": "8bd1bf67",
   "metadata": {},
   "source": [
    "### 상품 목록 데이터프레임 양식 만들기"
   ]
  },
  {
   "cell_type": "code",
   "execution_count": 3,
   "id": "20b3524f",
   "metadata": {
    "ExecuteTime": {
     "end_time": "2022-07-16T19:40:53.462497Z",
     "start_time": "2022-07-16T19:40:53.457502Z"
    }
   },
   "outputs": [
    {
     "data": {
      "text/html": [
       "<div>\n",
       "<style scoped>\n",
       "    .dataframe tbody tr th:only-of-type {\n",
       "        vertical-align: middle;\n",
       "    }\n",
       "\n",
       "    .dataframe tbody tr th {\n",
       "        vertical-align: top;\n",
       "    }\n",
       "\n",
       "    .dataframe thead th {\n",
       "        text-align: right;\n",
       "    }\n",
       "</style>\n",
       "<table border=\"1\" class=\"dataframe\">\n",
       "  <thead>\n",
       "    <tr style=\"text-align: right;\">\n",
       "      <th></th>\n",
       "      <th>product_num</th>\n",
       "      <th>price</th>\n",
       "      <th>price_grade</th>\n",
       "    </tr>\n",
       "  </thead>\n",
       "  <tbody>\n",
       "  </tbody>\n",
       "</table>\n",
       "</div>"
      ],
      "text/plain": [
       "Empty DataFrame\n",
       "Columns: [product_num, price, price_grade]\n",
       "Index: []"
      ]
     },
     "execution_count": 3,
     "metadata": {},
     "output_type": "execute_result"
    }
   ],
   "source": [
    "product = pd.DataFrame(columns=['product_num', 'price', 'price_grade'])\n",
    "product"
   ]
  },
  {
   "cell_type": "markdown",
   "id": "60a93b08",
   "metadata": {},
   "source": [
    "### 상품 목록 데이터프레임 데이터 채우기"
   ]
  },
  {
   "cell_type": "markdown",
   "id": "2a8471d2",
   "metadata": {
    "ExecuteTime": {
     "end_time": "2022-07-15T07:57:46.018692Z",
     "start_time": "2022-07-15T07:57:45.985750Z"
    },
    "scrolled": true
   },
   "source": [
    "#### 상품 코드 : product_num"
   ]
  },
  {
   "cell_type": "code",
   "execution_count": 4,
   "id": "2681babe",
   "metadata": {
    "ExecuteTime": {
     "end_time": "2022-07-16T19:40:53.465439Z",
     "start_time": "2022-07-16T19:40:53.463447Z"
    }
   },
   "outputs": [],
   "source": [
    "product_num = np.arange(1, 101)\n",
    "product.product_num = product_num"
   ]
  },
  {
   "cell_type": "markdown",
   "id": "a7df4f4b",
   "metadata": {},
   "source": [
    "#### 상품 가격 : price"
   ]
  },
  {
   "cell_type": "code",
   "execution_count": 5,
   "id": "934d805e",
   "metadata": {
    "ExecuteTime": {
     "end_time": "2022-07-16T19:40:53.469496Z",
     "start_time": "2022-07-16T19:40:53.466242Z"
    }
   },
   "outputs": [],
   "source": [
    "price = random.sample(list(range(1000, 100000)), 100)\n",
    "product.price = price"
   ]
  },
  {
   "cell_type": "markdown",
   "id": "75c917c7",
   "metadata": {},
   "source": [
    "### 상품 목록 데이터프레임 종속변수"
   ]
  },
  {
   "cell_type": "markdown",
   "id": "07dbe1cf",
   "metadata": {},
   "source": [
    "#### 상품 가격 분류 : price_grade"
   ]
  },
  {
   "cell_type": "code",
   "execution_count": 6,
   "id": "8ba25f05",
   "metadata": {
    "ExecuteTime": {
     "end_time": "2022-07-16T19:40:53.474983Z",
     "start_time": "2022-07-16T19:40:53.470352Z"
    },
    "scrolled": true
   },
   "outputs": [
    {
     "data": {
      "text/html": [
       "<div>\n",
       "<style scoped>\n",
       "    .dataframe tbody tr th:only-of-type {\n",
       "        vertical-align: middle;\n",
       "    }\n",
       "\n",
       "    .dataframe tbody tr th {\n",
       "        vertical-align: top;\n",
       "    }\n",
       "\n",
       "    .dataframe thead th {\n",
       "        text-align: right;\n",
       "    }\n",
       "</style>\n",
       "<table border=\"1\" class=\"dataframe\">\n",
       "  <thead>\n",
       "    <tr style=\"text-align: right;\">\n",
       "      <th></th>\n",
       "      <th>product_num</th>\n",
       "      <th>price</th>\n",
       "      <th>price_grade</th>\n",
       "    </tr>\n",
       "  </thead>\n",
       "  <tbody>\n",
       "    <tr>\n",
       "      <th>0</th>\n",
       "      <td>1</td>\n",
       "      <td>51494</td>\n",
       "      <td>1</td>\n",
       "    </tr>\n",
       "    <tr>\n",
       "      <th>1</th>\n",
       "      <td>2</td>\n",
       "      <td>56125</td>\n",
       "      <td>1</td>\n",
       "    </tr>\n",
       "    <tr>\n",
       "      <th>2</th>\n",
       "      <td>3</td>\n",
       "      <td>6306</td>\n",
       "      <td>3</td>\n",
       "    </tr>\n",
       "    <tr>\n",
       "      <th>3</th>\n",
       "      <td>4</td>\n",
       "      <td>34936</td>\n",
       "      <td>2</td>\n",
       "    </tr>\n",
       "    <tr>\n",
       "      <th>4</th>\n",
       "      <td>5</td>\n",
       "      <td>68013</td>\n",
       "      <td>1</td>\n",
       "    </tr>\n",
       "    <tr>\n",
       "      <th>...</th>\n",
       "      <td>...</td>\n",
       "      <td>...</td>\n",
       "      <td>...</td>\n",
       "    </tr>\n",
       "    <tr>\n",
       "      <th>95</th>\n",
       "      <td>96</td>\n",
       "      <td>25100</td>\n",
       "      <td>2</td>\n",
       "    </tr>\n",
       "    <tr>\n",
       "      <th>96</th>\n",
       "      <td>97</td>\n",
       "      <td>25823</td>\n",
       "      <td>2</td>\n",
       "    </tr>\n",
       "    <tr>\n",
       "      <th>97</th>\n",
       "      <td>98</td>\n",
       "      <td>25475</td>\n",
       "      <td>2</td>\n",
       "    </tr>\n",
       "    <tr>\n",
       "      <th>98</th>\n",
       "      <td>99</td>\n",
       "      <td>5321</td>\n",
       "      <td>3</td>\n",
       "    </tr>\n",
       "    <tr>\n",
       "      <th>99</th>\n",
       "      <td>100</td>\n",
       "      <td>81317</td>\n",
       "      <td>1</td>\n",
       "    </tr>\n",
       "  </tbody>\n",
       "</table>\n",
       "<p>100 rows × 3 columns</p>\n",
       "</div>"
      ],
      "text/plain": [
       "    product_num  price price_grade\n",
       "0             1  51494           1\n",
       "1             2  56125           1\n",
       "2             3   6306           3\n",
       "3             4  34936           2\n",
       "4             5  68013           1\n",
       "..          ...    ...         ...\n",
       "95           96  25100           2\n",
       "96           97  25823           2\n",
       "97           98  25475           2\n",
       "98           99   5321           3\n",
       "99          100  81317           1\n",
       "\n",
       "[100 rows x 3 columns]"
      ]
     },
     "execution_count": 6,
     "metadata": {},
     "output_type": "execute_result"
    }
   ],
   "source": [
    "# price_grade : 고가품 : 1, 중가품 : 2, 저가품 : 3\n",
    "\n",
    "def price_grade(x):\n",
    "    y = 0\n",
    "    if x <= 20000:\n",
    "        y = '3'\n",
    "    elif x <= 50000:\n",
    "        y = '2'\n",
    "    else:\n",
    "        y = '1'\n",
    "    return y\n",
    "\n",
    "\n",
    "product['price_grade'] = product['price'].apply(price_grade)\n",
    "product"
   ]
  },
  {
   "cell_type": "markdown",
   "id": "532b4fb7",
   "metadata": {},
   "source": [
    "## 거래 데이터 만들기 : purchase"
   ]
  },
  {
   "cell_type": "markdown",
   "id": "6d56d712",
   "metadata": {},
   "source": [
    "### 거래 데이터프레임 만들기"
   ]
  },
  {
   "cell_type": "markdown",
   "id": "171f8dd1",
   "metadata": {},
   "source": [
    "#### 거래 데이터프레임 양식 만들기"
   ]
  },
  {
   "cell_type": "code",
   "execution_count": 7,
   "id": "c7f379ff",
   "metadata": {
    "ExecuteTime": {
     "end_time": "2022-07-16T19:40:53.480917Z",
     "start_time": "2022-07-16T19:40:53.476930Z"
    }
   },
   "outputs": [
    {
     "data": {
      "text/html": [
       "<div>\n",
       "<style scoped>\n",
       "    .dataframe tbody tr th:only-of-type {\n",
       "        vertical-align: middle;\n",
       "    }\n",
       "\n",
       "    .dataframe tbody tr th {\n",
       "        vertical-align: top;\n",
       "    }\n",
       "\n",
       "    .dataframe thead th {\n",
       "        text-align: right;\n",
       "    }\n",
       "</style>\n",
       "<table border=\"1\" class=\"dataframe\">\n",
       "  <thead>\n",
       "    <tr style=\"text-align: right;\">\n",
       "      <th></th>\n",
       "      <th>num_ts</th>\n",
       "      <th>cusno_ts</th>\n",
       "      <th>product_num_ts</th>\n",
       "      <th>price_ts</th>\n",
       "      <th>quantity</th>\n",
       "      <th>amount</th>\n",
       "      <th>date</th>\n",
       "      <th>year</th>\n",
       "      <th>weekday</th>\n",
       "      <th>hour</th>\n",
       "    </tr>\n",
       "  </thead>\n",
       "  <tbody>\n",
       "  </tbody>\n",
       "</table>\n",
       "</div>"
      ],
      "text/plain": [
       "Empty DataFrame\n",
       "Columns: [num_ts, cusno_ts, product_num_ts, price_ts, quantity, amount, date, year, weekday, hour]\n",
       "Index: []"
      ]
     },
     "execution_count": 7,
     "metadata": {},
     "output_type": "execute_result"
    }
   ],
   "source": [
    "purchase = pd.DataFrame(columns=['num_ts', 'cusno_ts', 'product_num_ts', 'price_ts',\n",
    "                        'quantity', 'amount', 'date', 'year', 'weekday', 'hour'])\n",
    "purchase"
   ]
  },
  {
   "cell_type": "markdown",
   "id": "1167d877",
   "metadata": {},
   "source": [
    "### 거래 데이터프레임 데이터 채우기"
   ]
  },
  {
   "cell_type": "markdown",
   "id": "3a1d7190",
   "metadata": {},
   "source": [
    "#### 날짜,요일,시간 : date, day, time"
   ]
  },
  {
   "cell_type": "code",
   "execution_count": 8,
   "id": "f6f57d83",
   "metadata": {
    "ExecuteTime": {
     "end_time": "2022-07-16T19:40:53.525560Z",
     "start_time": "2022-07-16T19:40:53.482602Z"
    },
    "scrolled": true
   },
   "outputs": [
    {
     "name": "stdout",
     "output_type": "stream",
     "text": [
      "<class 'pandas.core.frame.DataFrame'>\n",
      "RangeIndex: 10000 entries, 0 to 9999\n",
      "Data columns (total 10 columns):\n",
      " #   Column          Non-Null Count  Dtype         \n",
      "---  ------          --------------  -----         \n",
      " 0   num_ts          0 non-null      object        \n",
      " 1   cusno_ts        0 non-null      object        \n",
      " 2   product_num_ts  0 non-null      object        \n",
      " 3   price_ts        0 non-null      object        \n",
      " 4   quantity        0 non-null      object        \n",
      " 5   amount          0 non-null      object        \n",
      " 6   date            10000 non-null  datetime64[ns]\n",
      " 7   year            10000 non-null  int64         \n",
      " 8   weekday         10000 non-null  int64         \n",
      " 9   hour            10000 non-null  int64         \n",
      "dtypes: datetime64[ns](1), int64(3), object(6)\n",
      "memory usage: 781.4+ KB\n"
     ]
    }
   ],
   "source": [
    "# date\n",
    "# date 간격 : 시간\n",
    "date_list_20 = list(pd.date_range('2020-01-01', '2020-12-31', freq='H'))\n",
    "date_list_21 = list(pd.date_range('2021-01-01', '2021-12-31', freq='H'))\n",
    "\n",
    "# 2020 년 거래량 6000건\n",
    "date_20 = np.random.choice(date_list_20, size=6000).tolist()\n",
    "# 2021 년 거래량 4000건\n",
    "date_21 = np.random.choice(date_list_21, size=4000).tolist()\n",
    "date = date_20 + date_21\n",
    "random.shuffle(date)\n",
    "date = pd.Series(date)\n",
    "\n",
    "#date 에서 년-월-일 형식의 날짜 추출\n",
    "# purchase.date = date.dt.date\n",
    "purchase.date = pd.to_datetime(date.dt.date)\n",
    "\n",
    "# # year(년도)\n",
    "purchase.year = date.dt.year\n",
    "\n",
    "# # day(요일)\n",
    "purchase.weekday = date.dt.weekday\n",
    "\n",
    "# # 시간\n",
    "purchase.hour = date.dt.hour\n",
    "\n",
    "purchase.info()"
   ]
  },
  {
   "cell_type": "markdown",
   "id": "86ecef86",
   "metadata": {},
   "source": [
    "#### 거래 번호 : num_ts"
   ]
  },
  {
   "cell_type": "code",
   "execution_count": 9,
   "id": "8e3eb8e4",
   "metadata": {
    "ExecuteTime": {
     "end_time": "2022-07-16T19:40:53.528401Z",
     "start_time": "2022-07-16T19:40:53.526480Z"
    }
   },
   "outputs": [],
   "source": [
    "num_ts = np.arange(0, 10000)\n",
    "purchase.num_ts = num_ts"
   ]
  },
  {
   "cell_type": "markdown",
   "id": "6915de3e",
   "metadata": {},
   "source": [
    "#### 고객번호 : cusno_ts"
   ]
  },
  {
   "cell_type": "code",
   "execution_count": 10,
   "id": "389b0621",
   "metadata": {
    "ExecuteTime": {
     "end_time": "2022-07-16T19:40:53.531549Z",
     "start_time": "2022-07-16T19:40:53.529254Z"
    }
   },
   "outputs": [],
   "source": [
    "# 기존 cusno가 중복될 수 있도록 만들기\n",
    "cusno_ts = np.random.choice(list(np.arange(10000, 11000)), size=10000)\n",
    "purchase.cusno_ts = cusno_ts"
   ]
  },
  {
   "cell_type": "markdown",
   "id": "b810bf0e",
   "metadata": {},
   "source": [
    "#### 상품코드 : product_num_ts"
   ]
  },
  {
   "cell_type": "code",
   "execution_count": 11,
   "id": "221e95cf",
   "metadata": {
    "ExecuteTime": {
     "end_time": "2022-07-16T19:40:53.631007Z",
     "start_time": "2022-07-16T19:40:53.532420Z"
    }
   },
   "outputs": [],
   "source": [
    "product_num_ts = np.random.choice(list(product_num), size=10000)\n",
    "purchase.product_num_ts = product_num_ts\n",
    "\n",
    "price_grade_1 = product[product['price_grade'] == '1'].product_num.tolist()\n",
    "price_grade_2 = product[product['price_grade'] == '2'].product_num.tolist()\n",
    "price_grade_3 = product[product['price_grade'] == '3'].product_num.tolist()\n",
    "price_grade_3\n",
    "\n",
    "price_grade_1_20 = np.random.choice(price_grade_1, 1000).tolist()\n",
    "price_grade_2_20 = np.random.choice(price_grade_2, 2000).tolist()\n",
    "price_grade_3_20 = np.random.choice(price_grade_3, 3000).tolist()\n",
    "product_num_ts_20 = price_grade_1_20 + price_grade_2_20 + price_grade_3_20\n",
    "random.shuffle(product_num_ts_20)\n",
    "purchase[purchase['year'] == 2020].product_num_ts = product_num_ts_20\n",
    "\n",
    "price_grade_1_21 = np.random.choice(price_grade_1, 2000).tolist()\n",
    "price_grade_2_21 = np.random.choice(price_grade_2, 1000).tolist()\n",
    "price_grade_3_21 = np.random.choice(price_grade_3, 1000).tolist()\n",
    "product_num_ts_21 = price_grade_1_21 + price_grade_2_21 + price_grade_3_21\n",
    "random.shuffle(product_num_ts_21)\n",
    "purchase[purchase['year'] == 2021].product_num_ts = product_num_ts_21"
   ]
  },
  {
   "cell_type": "markdown",
   "id": "aba51854",
   "metadata": {},
   "source": [
    "#### 상품 가격 : price_ts"
   ]
  },
  {
   "cell_type": "code",
   "execution_count": 12,
   "id": "edb02110",
   "metadata": {
    "ExecuteTime": {
     "end_time": "2022-07-16T19:40:55.283869Z",
     "start_time": "2022-07-16T19:40:53.632479Z"
    }
   },
   "outputs": [
    {
     "data": {
      "text/html": [
       "<div>\n",
       "<style scoped>\n",
       "    .dataframe tbody tr th:only-of-type {\n",
       "        vertical-align: middle;\n",
       "    }\n",
       "\n",
       "    .dataframe tbody tr th {\n",
       "        vertical-align: top;\n",
       "    }\n",
       "\n",
       "    .dataframe thead th {\n",
       "        text-align: right;\n",
       "    }\n",
       "</style>\n",
       "<table border=\"1\" class=\"dataframe\">\n",
       "  <thead>\n",
       "    <tr style=\"text-align: right;\">\n",
       "      <th></th>\n",
       "      <th>num_ts</th>\n",
       "      <th>cusno_ts</th>\n",
       "      <th>product_num_ts</th>\n",
       "      <th>price_ts</th>\n",
       "      <th>quantity</th>\n",
       "      <th>amount</th>\n",
       "      <th>date</th>\n",
       "      <th>year</th>\n",
       "      <th>weekday</th>\n",
       "      <th>hour</th>\n",
       "    </tr>\n",
       "  </thead>\n",
       "  <tbody>\n",
       "    <tr>\n",
       "      <th>0</th>\n",
       "      <td>0</td>\n",
       "      <td>10011</td>\n",
       "      <td>100</td>\n",
       "      <td>81317</td>\n",
       "      <td>NaN</td>\n",
       "      <td>NaN</td>\n",
       "      <td>2020-09-17</td>\n",
       "      <td>2020</td>\n",
       "      <td>3</td>\n",
       "      <td>13</td>\n",
       "    </tr>\n",
       "    <tr>\n",
       "      <th>1</th>\n",
       "      <td>1</td>\n",
       "      <td>10763</td>\n",
       "      <td>53</td>\n",
       "      <td>1149</td>\n",
       "      <td>NaN</td>\n",
       "      <td>NaN</td>\n",
       "      <td>2020-08-26</td>\n",
       "      <td>2020</td>\n",
       "      <td>2</td>\n",
       "      <td>21</td>\n",
       "    </tr>\n",
       "    <tr>\n",
       "      <th>2</th>\n",
       "      <td>2</td>\n",
       "      <td>10274</td>\n",
       "      <td>61</td>\n",
       "      <td>9255</td>\n",
       "      <td>NaN</td>\n",
       "      <td>NaN</td>\n",
       "      <td>2020-05-26</td>\n",
       "      <td>2020</td>\n",
       "      <td>1</td>\n",
       "      <td>4</td>\n",
       "    </tr>\n",
       "    <tr>\n",
       "      <th>3</th>\n",
       "      <td>3</td>\n",
       "      <td>10202</td>\n",
       "      <td>77</td>\n",
       "      <td>39153</td>\n",
       "      <td>NaN</td>\n",
       "      <td>NaN</td>\n",
       "      <td>2020-01-25</td>\n",
       "      <td>2020</td>\n",
       "      <td>5</td>\n",
       "      <td>7</td>\n",
       "    </tr>\n",
       "    <tr>\n",
       "      <th>4</th>\n",
       "      <td>4</td>\n",
       "      <td>10978</td>\n",
       "      <td>59</td>\n",
       "      <td>43625</td>\n",
       "      <td>NaN</td>\n",
       "      <td>NaN</td>\n",
       "      <td>2020-09-06</td>\n",
       "      <td>2020</td>\n",
       "      <td>6</td>\n",
       "      <td>1</td>\n",
       "    </tr>\n",
       "    <tr>\n",
       "      <th>...</th>\n",
       "      <td>...</td>\n",
       "      <td>...</td>\n",
       "      <td>...</td>\n",
       "      <td>...</td>\n",
       "      <td>...</td>\n",
       "      <td>...</td>\n",
       "      <td>...</td>\n",
       "      <td>...</td>\n",
       "      <td>...</td>\n",
       "      <td>...</td>\n",
       "    </tr>\n",
       "    <tr>\n",
       "      <th>9995</th>\n",
       "      <td>9995</td>\n",
       "      <td>10914</td>\n",
       "      <td>95</td>\n",
       "      <td>39054</td>\n",
       "      <td>NaN</td>\n",
       "      <td>NaN</td>\n",
       "      <td>2020-07-16</td>\n",
       "      <td>2020</td>\n",
       "      <td>3</td>\n",
       "      <td>22</td>\n",
       "    </tr>\n",
       "    <tr>\n",
       "      <th>9996</th>\n",
       "      <td>9996</td>\n",
       "      <td>10628</td>\n",
       "      <td>24</td>\n",
       "      <td>41651</td>\n",
       "      <td>NaN</td>\n",
       "      <td>NaN</td>\n",
       "      <td>2020-03-20</td>\n",
       "      <td>2020</td>\n",
       "      <td>4</td>\n",
       "      <td>22</td>\n",
       "    </tr>\n",
       "    <tr>\n",
       "      <th>9997</th>\n",
       "      <td>9997</td>\n",
       "      <td>10531</td>\n",
       "      <td>4</td>\n",
       "      <td>34936</td>\n",
       "      <td>NaN</td>\n",
       "      <td>NaN</td>\n",
       "      <td>2020-07-18</td>\n",
       "      <td>2020</td>\n",
       "      <td>5</td>\n",
       "      <td>5</td>\n",
       "    </tr>\n",
       "    <tr>\n",
       "      <th>9998</th>\n",
       "      <td>9998</td>\n",
       "      <td>10702</td>\n",
       "      <td>66</td>\n",
       "      <td>19677</td>\n",
       "      <td>NaN</td>\n",
       "      <td>NaN</td>\n",
       "      <td>2021-11-01</td>\n",
       "      <td>2021</td>\n",
       "      <td>0</td>\n",
       "      <td>10</td>\n",
       "    </tr>\n",
       "    <tr>\n",
       "      <th>9999</th>\n",
       "      <td>9999</td>\n",
       "      <td>10368</td>\n",
       "      <td>59</td>\n",
       "      <td>43625</td>\n",
       "      <td>NaN</td>\n",
       "      <td>NaN</td>\n",
       "      <td>2020-01-19</td>\n",
       "      <td>2020</td>\n",
       "      <td>6</td>\n",
       "      <td>20</td>\n",
       "    </tr>\n",
       "  </tbody>\n",
       "</table>\n",
       "<p>10000 rows × 10 columns</p>\n",
       "</div>"
      ],
      "text/plain": [
       "      num_ts  cusno_ts  product_num_ts  price_ts quantity amount       date  \\\n",
       "0          0     10011             100     81317      NaN    NaN 2020-09-17   \n",
       "1          1     10763              53      1149      NaN    NaN 2020-08-26   \n",
       "2          2     10274              61      9255      NaN    NaN 2020-05-26   \n",
       "3          3     10202              77     39153      NaN    NaN 2020-01-25   \n",
       "4          4     10978              59     43625      NaN    NaN 2020-09-06   \n",
       "...      ...       ...             ...       ...      ...    ...        ...   \n",
       "9995    9995     10914              95     39054      NaN    NaN 2020-07-16   \n",
       "9996    9996     10628              24     41651      NaN    NaN 2020-03-20   \n",
       "9997    9997     10531               4     34936      NaN    NaN 2020-07-18   \n",
       "9998    9998     10702              66     19677      NaN    NaN 2021-11-01   \n",
       "9999    9999     10368              59     43625      NaN    NaN 2020-01-19   \n",
       "\n",
       "      year  weekday  hour  \n",
       "0     2020        3    13  \n",
       "1     2020        2    21  \n",
       "2     2020        1     4  \n",
       "3     2020        5     7  \n",
       "4     2020        6     1  \n",
       "...    ...      ...   ...  \n",
       "9995  2020        3    22  \n",
       "9996  2020        4    22  \n",
       "9997  2020        5     5  \n",
       "9998  2021        0    10  \n",
       "9999  2020        6    20  \n",
       "\n",
       "[10000 rows x 10 columns]"
      ]
     },
     "execution_count": 12,
     "metadata": {},
     "output_type": "execute_result"
    }
   ],
   "source": [
    "def price(x):\n",
    "    price = str(product[product.product_num == x].price)\n",
    "    price = int(price.split()[1])\n",
    "    return price\n",
    "\n",
    "\n",
    "purchase.price_ts = pd.Series(purchase.product_num_ts.map(price))\n",
    "purchase"
   ]
  },
  {
   "cell_type": "markdown",
   "id": "ed108767",
   "metadata": {},
   "source": [
    "#### 구매수량 : quantity"
   ]
  },
  {
   "cell_type": "code",
   "execution_count": 13,
   "id": "342f4a04",
   "metadata": {
    "ExecuteTime": {
     "end_time": "2022-07-16T19:40:55.304282Z",
     "start_time": "2022-07-16T19:40:55.284797Z"
    },
    "scrolled": true
   },
   "outputs": [
    {
     "name": "stdout",
     "output_type": "stream",
     "text": [
      "<class 'pandas.core.frame.DataFrame'>\n",
      "RangeIndex: 10000 entries, 0 to 9999\n",
      "Data columns (total 10 columns):\n",
      " #   Column          Non-Null Count  Dtype         \n",
      "---  ------          --------------  -----         \n",
      " 0   num_ts          10000 non-null  int64         \n",
      " 1   cusno_ts        10000 non-null  int64         \n",
      " 2   product_num_ts  10000 non-null  int64         \n",
      " 3   price_ts        10000 non-null  int64         \n",
      " 4   quantity        10000 non-null  object        \n",
      " 5   amount          0 non-null      object        \n",
      " 6   date            10000 non-null  datetime64[ns]\n",
      " 7   year            10000 non-null  int64         \n",
      " 8   weekday         10000 non-null  int64         \n",
      " 9   hour            10000 non-null  int64         \n",
      "dtypes: datetime64[ns](1), int64(7), object(2)\n",
      "memory usage: 781.4+ KB\n"
     ]
    }
   ],
   "source": [
    "# 2020년 구매수량 데이터 생성\n",
    "a_20 = np.random.randint(1, 4, size=4500).tolist()\n",
    "b_20 = np.random.randint(4, 7, size=3500).tolist()\n",
    "c_20 = np.random.randint(7, 10, size=2000).tolist()\n",
    "li_20 = a_20+b_20+c_20\n",
    "random.shuffle(li_20)\n",
    "purchase.quantity[purchase.year == 2020] = li_20\n",
    "\n",
    "# 2021년 구매수량 데이터 생성\n",
    "a_21 = np.random.randint(1, 4, size=6500).tolist()\n",
    "b_21 = np.random.randint(4, 7, size=2500).tolist()\n",
    "c_21 = np.random.randint(7, 10, size=1000).tolist()\n",
    "li_21 = a_21+b_21+c_21\n",
    "random.shuffle(li_21)\n",
    "purchase.quantity[purchase.year == 2021] = li_21\n",
    "purchase.info()"
   ]
  },
  {
   "cell_type": "markdown",
   "id": "03a35298",
   "metadata": {},
   "source": [
    "### 거래 데이터프레임 종속변수"
   ]
  },
  {
   "cell_type": "markdown",
   "id": "b24bc356",
   "metadata": {},
   "source": [
    "#### 거래별 거래총액 : amount"
   ]
  },
  {
   "cell_type": "code",
   "execution_count": 14,
   "id": "11d43daa",
   "metadata": {
    "ExecuteTime": {
     "end_time": "2022-07-16T19:40:56.974529Z",
     "start_time": "2022-07-16T19:40:55.305217Z"
    },
    "scrolled": true
   },
   "outputs": [
    {
     "data": {
      "text/html": [
       "<div>\n",
       "<style scoped>\n",
       "    .dataframe tbody tr th:only-of-type {\n",
       "        vertical-align: middle;\n",
       "    }\n",
       "\n",
       "    .dataframe tbody tr th {\n",
       "        vertical-align: top;\n",
       "    }\n",
       "\n",
       "    .dataframe thead th {\n",
       "        text-align: right;\n",
       "    }\n",
       "</style>\n",
       "<table border=\"1\" class=\"dataframe\">\n",
       "  <thead>\n",
       "    <tr style=\"text-align: right;\">\n",
       "      <th></th>\n",
       "      <th>num_ts</th>\n",
       "      <th>cusno_ts</th>\n",
       "      <th>product_num_ts</th>\n",
       "      <th>price_ts</th>\n",
       "      <th>quantity</th>\n",
       "      <th>amount</th>\n",
       "      <th>date</th>\n",
       "      <th>year</th>\n",
       "      <th>weekday</th>\n",
       "      <th>hour</th>\n",
       "    </tr>\n",
       "  </thead>\n",
       "  <tbody>\n",
       "    <tr>\n",
       "      <th>0</th>\n",
       "      <td>0</td>\n",
       "      <td>10011</td>\n",
       "      <td>100</td>\n",
       "      <td>81317</td>\n",
       "      <td>4</td>\n",
       "      <td>325268</td>\n",
       "      <td>2020-09-17</td>\n",
       "      <td>2020</td>\n",
       "      <td>3</td>\n",
       "      <td>13</td>\n",
       "    </tr>\n",
       "    <tr>\n",
       "      <th>1</th>\n",
       "      <td>1</td>\n",
       "      <td>10763</td>\n",
       "      <td>53</td>\n",
       "      <td>1149</td>\n",
       "      <td>4</td>\n",
       "      <td>4596</td>\n",
       "      <td>2020-08-26</td>\n",
       "      <td>2020</td>\n",
       "      <td>2</td>\n",
       "      <td>21</td>\n",
       "    </tr>\n",
       "    <tr>\n",
       "      <th>2</th>\n",
       "      <td>2</td>\n",
       "      <td>10274</td>\n",
       "      <td>61</td>\n",
       "      <td>9255</td>\n",
       "      <td>5</td>\n",
       "      <td>46275</td>\n",
       "      <td>2020-05-26</td>\n",
       "      <td>2020</td>\n",
       "      <td>1</td>\n",
       "      <td>4</td>\n",
       "    </tr>\n",
       "    <tr>\n",
       "      <th>3</th>\n",
       "      <td>3</td>\n",
       "      <td>10202</td>\n",
       "      <td>77</td>\n",
       "      <td>39153</td>\n",
       "      <td>3</td>\n",
       "      <td>117459</td>\n",
       "      <td>2020-01-25</td>\n",
       "      <td>2020</td>\n",
       "      <td>5</td>\n",
       "      <td>7</td>\n",
       "    </tr>\n",
       "    <tr>\n",
       "      <th>4</th>\n",
       "      <td>4</td>\n",
       "      <td>10978</td>\n",
       "      <td>59</td>\n",
       "      <td>43625</td>\n",
       "      <td>1</td>\n",
       "      <td>43625</td>\n",
       "      <td>2020-09-06</td>\n",
       "      <td>2020</td>\n",
       "      <td>6</td>\n",
       "      <td>1</td>\n",
       "    </tr>\n",
       "    <tr>\n",
       "      <th>...</th>\n",
       "      <td>...</td>\n",
       "      <td>...</td>\n",
       "      <td>...</td>\n",
       "      <td>...</td>\n",
       "      <td>...</td>\n",
       "      <td>...</td>\n",
       "      <td>...</td>\n",
       "      <td>...</td>\n",
       "      <td>...</td>\n",
       "      <td>...</td>\n",
       "    </tr>\n",
       "    <tr>\n",
       "      <th>9995</th>\n",
       "      <td>9995</td>\n",
       "      <td>10914</td>\n",
       "      <td>95</td>\n",
       "      <td>39054</td>\n",
       "      <td>6</td>\n",
       "      <td>234324</td>\n",
       "      <td>2020-07-16</td>\n",
       "      <td>2020</td>\n",
       "      <td>3</td>\n",
       "      <td>22</td>\n",
       "    </tr>\n",
       "    <tr>\n",
       "      <th>9996</th>\n",
       "      <td>9996</td>\n",
       "      <td>10628</td>\n",
       "      <td>24</td>\n",
       "      <td>41651</td>\n",
       "      <td>4</td>\n",
       "      <td>166604</td>\n",
       "      <td>2020-03-20</td>\n",
       "      <td>2020</td>\n",
       "      <td>4</td>\n",
       "      <td>22</td>\n",
       "    </tr>\n",
       "    <tr>\n",
       "      <th>9997</th>\n",
       "      <td>9997</td>\n",
       "      <td>10531</td>\n",
       "      <td>4</td>\n",
       "      <td>34936</td>\n",
       "      <td>3</td>\n",
       "      <td>104808</td>\n",
       "      <td>2020-07-18</td>\n",
       "      <td>2020</td>\n",
       "      <td>5</td>\n",
       "      <td>5</td>\n",
       "    </tr>\n",
       "    <tr>\n",
       "      <th>9998</th>\n",
       "      <td>9998</td>\n",
       "      <td>10702</td>\n",
       "      <td>66</td>\n",
       "      <td>19677</td>\n",
       "      <td>2</td>\n",
       "      <td>39354</td>\n",
       "      <td>2021-11-01</td>\n",
       "      <td>2021</td>\n",
       "      <td>0</td>\n",
       "      <td>10</td>\n",
       "    </tr>\n",
       "    <tr>\n",
       "      <th>9999</th>\n",
       "      <td>9999</td>\n",
       "      <td>10368</td>\n",
       "      <td>59</td>\n",
       "      <td>43625</td>\n",
       "      <td>1</td>\n",
       "      <td>43625</td>\n",
       "      <td>2020-01-19</td>\n",
       "      <td>2020</td>\n",
       "      <td>6</td>\n",
       "      <td>20</td>\n",
       "    </tr>\n",
       "  </tbody>\n",
       "</table>\n",
       "<p>10000 rows × 10 columns</p>\n",
       "</div>"
      ],
      "text/plain": [
       "      num_ts  cusno_ts  product_num_ts  price_ts quantity  amount       date  \\\n",
       "0          0     10011             100     81317        4  325268 2020-09-17   \n",
       "1          1     10763              53      1149        4    4596 2020-08-26   \n",
       "2          2     10274              61      9255        5   46275 2020-05-26   \n",
       "3          3     10202              77     39153        3  117459 2020-01-25   \n",
       "4          4     10978              59     43625        1   43625 2020-09-06   \n",
       "...      ...       ...             ...       ...      ...     ...        ...   \n",
       "9995    9995     10914              95     39054        6  234324 2020-07-16   \n",
       "9996    9996     10628              24     41651        4  166604 2020-03-20   \n",
       "9997    9997     10531               4     34936        3  104808 2020-07-18   \n",
       "9998    9998     10702              66     19677        2   39354 2021-11-01   \n",
       "9999    9999     10368              59     43625        1   43625 2020-01-19   \n",
       "\n",
       "      year  weekday  hour  \n",
       "0     2020        3    13  \n",
       "1     2020        2    21  \n",
       "2     2020        1     4  \n",
       "3     2020        5     7  \n",
       "4     2020        6     1  \n",
       "...    ...      ...   ...  \n",
       "9995  2020        3    22  \n",
       "9996  2020        4    22  \n",
       "9997  2020        5     5  \n",
       "9998  2021        0    10  \n",
       "9999  2020        6    20  \n",
       "\n",
       "[10000 rows x 10 columns]"
      ]
     },
     "execution_count": 14,
     "metadata": {},
     "output_type": "execute_result"
    }
   ],
   "source": [
    "def price(x):\n",
    "    price = str(product[product.product_num == x].price)\n",
    "    price = int(price.split()[1])\n",
    "    return price\n",
    "\n",
    "\n",
    "purchase.amount = pd.Series(\n",
    "    purchase.product_num_ts.map(price))*purchase.quantity\n",
    "purchase"
   ]
  },
  {
   "cell_type": "markdown",
   "id": "6296d752",
   "metadata": {
    "ExecuteTime": {
     "end_time": "2022-07-14T08:20:20.645016Z",
     "start_time": "2022-07-14T08:20:20.605679Z"
    }
   },
   "source": [
    "## 고객 데이터프레임 만들기 : customer"
   ]
  },
  {
   "cell_type": "markdown",
   "id": "395059e0",
   "metadata": {
    "ExecuteTime": {
     "end_time": "2022-07-14T11:32:11.666425Z",
     "start_time": "2022-07-14T11:32:11.651129Z"
    }
   },
   "source": [
    "### 고객 데이터프레임 양식 만들기"
   ]
  },
  {
   "cell_type": "code",
   "execution_count": 15,
   "id": "be159efa",
   "metadata": {
    "ExecuteTime": {
     "end_time": "2022-07-16T19:40:56.978878Z",
     "start_time": "2022-07-16T19:40:56.975373Z"
    }
   },
   "outputs": [
    {
     "data": {
      "text/html": [
       "<div>\n",
       "<style scoped>\n",
       "    .dataframe tbody tr th:only-of-type {\n",
       "        vertical-align: middle;\n",
       "    }\n",
       "\n",
       "    .dataframe tbody tr th {\n",
       "        vertical-align: top;\n",
       "    }\n",
       "\n",
       "    .dataframe thead th {\n",
       "        text-align: right;\n",
       "    }\n",
       "</style>\n",
       "<table border=\"1\" class=\"dataframe\">\n",
       "  <thead>\n",
       "    <tr style=\"text-align: right;\">\n",
       "      <th></th>\n",
       "      <th>cusno</th>\n",
       "      <th>region</th>\n",
       "      <th>gender</th>\n",
       "      <th>age</th>\n",
       "      <th>income</th>\n",
       "      <th>grade_20</th>\n",
       "      <th>grade_21</th>\n",
       "      <th>ARPPU_20</th>\n",
       "      <th>ARPPU_21</th>\n",
       "      <th>AVC_20</th>\n",
       "      <th>AVC_21</th>\n",
       "      <th>ASC_20</th>\n",
       "      <th>ASC_21</th>\n",
       "      <th>purchase_trend</th>\n",
       "    </tr>\n",
       "  </thead>\n",
       "  <tbody>\n",
       "  </tbody>\n",
       "</table>\n",
       "</div>"
      ],
      "text/plain": [
       "Empty DataFrame\n",
       "Columns: [cusno, region, gender, age, income, grade_20, grade_21, ARPPU_20, ARPPU_21, AVC_20, AVC_21, ASC_20, ASC_21, purchase_trend]\n",
       "Index: []"
      ]
     },
     "execution_count": 15,
     "metadata": {},
     "output_type": "execute_result"
    }
   ],
   "source": [
    "customer = pd.DataFrame(columns=['cusno', 'region', 'gender', 'age',  'income', 'grade_20',\n",
    "                        'grade_21', 'ARPPU_20', 'ARPPU_21', 'AVC_20', 'AVC_21', 'ASC_20', 'ASC_21', 'purchase_trend'])\n",
    "customer"
   ]
  },
  {
   "cell_type": "markdown",
   "id": "aed7e527",
   "metadata": {
    "ExecuteTime": {
     "end_time": "2022-07-15T05:40:54.684672Z",
     "start_time": "2022-07-15T05:40:54.680569Z"
    }
   },
   "source": [
    "### 고객 데이터프레임 데이터 채우기"
   ]
  },
  {
   "cell_type": "markdown",
   "id": "8a3a7cb3",
   "metadata": {
    "ExecuteTime": {
     "end_time": "2022-07-14T12:25:23.887093Z",
     "start_time": "2022-07-14T12:25:23.791326Z"
    },
    "scrolled": true
   },
   "source": [
    "#### 고객 번호 : cusno"
   ]
  },
  {
   "cell_type": "code",
   "execution_count": 16,
   "id": "b8c26eff",
   "metadata": {
    "ExecuteTime": {
     "end_time": "2022-07-16T19:40:56.981511Z",
     "start_time": "2022-07-16T19:40:56.979623Z"
    }
   },
   "outputs": [],
   "source": [
    "cusno = np.arange(10000, 11000)\n",
    "customer.cusno = cusno"
   ]
  },
  {
   "cell_type": "markdown",
   "id": "5014fedc",
   "metadata": {
    "ExecuteTime": {
     "end_time": "2022-07-14T12:25:23.887093Z",
     "start_time": "2022-07-14T12:25:23.791326Z"
    },
    "scrolled": true
   },
   "source": [
    "#### 거주 지역 : region"
   ]
  },
  {
   "cell_type": "code",
   "execution_count": 17,
   "id": "a6f30c7c",
   "metadata": {
    "ExecuteTime": {
     "end_time": "2022-07-16T19:40:56.985023Z",
     "start_time": "2022-07-16T19:40:56.982218Z"
    }
   },
   "outputs": [],
   "source": [
    "# 지역별 인구 분포 산정\n",
    "area_1 = np.random.randint(1, 2, size=100).tolist()\n",
    "area_2 = np.random.randint(2, 3, size=150).tolist()\n",
    "area_3 = np.random.randint(3, 4, size=300).tolist()\n",
    "area_4 = np.random.randint(4, 5, size=200).tolist()\n",
    "area_5 = np.random.randint(5, 6, size=250).tolist()\n",
    "li = area_1+area_2+area_3+area_4+area_5\n",
    "random.shuffle(li)\n",
    "\n",
    "customer.region = li"
   ]
  },
  {
   "cell_type": "markdown",
   "id": "0aaf8238",
   "metadata": {
    "ExecuteTime": {
     "end_time": "2022-07-14T12:25:23.887093Z",
     "start_time": "2022-07-14T12:25:23.791326Z"
    },
    "scrolled": true
   },
   "source": [
    "#### 소득 : income"
   ]
  },
  {
   "cell_type": "code",
   "execution_count": 18,
   "id": "3f2b40bf",
   "metadata": {
    "ExecuteTime": {
     "end_time": "2022-07-16T19:40:57.004793Z",
     "start_time": "2022-07-16T19:40:56.985890Z"
    }
   },
   "outputs": [],
   "source": [
    "# 지역별 소득 분포 산정 : 정규분포 사용\n",
    "customer.income[customer.region == 1] = np.random.normal(10, 3, 100)*20000\n",
    "customer.income[customer.region == 2] = np.random.normal(10, 2, 150)*10000\n",
    "customer.income[customer.region == 3] = np.random.normal(10, 1, 300)*5000\n",
    "customer.income[customer.region == 4] = np.random.normal(10, 2, 200)*1000\n",
    "customer.income[customer.region == 5] = np.random.normal(10, 0.5, 250)*3000\n",
    "customer.income = customer.income.map(lambda x: int(x))"
   ]
  },
  {
   "cell_type": "markdown",
   "id": "fcda3419",
   "metadata": {},
   "source": [
    "##### 지역별 소득 값 중 이상치 보정"
   ]
  },
  {
   "cell_type": "code",
   "execution_count": 19,
   "id": "029ed735",
   "metadata": {
    "ExecuteTime": {
     "end_time": "2022-07-16T19:40:57.099384Z",
     "start_time": "2022-07-16T19:40:57.005650Z"
    },
    "scrolled": true
   },
   "outputs": [
    {
     "data": {
      "text/plain": [
       "<AxesSubplot:xlabel='region', ylabel='income'>"
      ]
     },
     "execution_count": 19,
     "metadata": {},
     "output_type": "execute_result"
    },
    {
     "data": {
      "image/png": "[encoded data removed]",
      "text/plain": [
       "<Figure size 432x288 with 1 Axes>"
      ]
     },
     "metadata": {
      "needs_background": "light"
     },
     "output_type": "display_data"
    }
   ],
   "source": [
    "# 지역에 따른 소득 분포 확인 : by boxenplot\n",
    "sns.boxenplot(x='region', y='income', data=customer, color='skyblue')"
   ]
  },
  {
   "cell_type": "code",
   "execution_count": 20,
   "id": "3d13dad0",
   "metadata": {
    "ExecuteTime": {
     "end_time": "2022-07-16T19:40:57.106874Z",
     "start_time": "2022-07-16T19:40:57.100408Z"
    },
    "scrolled": false
   },
   "outputs": [
    {
     "data": {
      "text/html": [
       "<div>\n",
       "<style scoped>\n",
       "    .dataframe tbody tr th:only-of-type {\n",
       "        vertical-align: middle;\n",
       "    }\n",
       "\n",
       "    .dataframe tbody tr th {\n",
       "        vertical-align: top;\n",
       "    }\n",
       "\n",
       "    .dataframe thead th {\n",
       "        text-align: right;\n",
       "    }\n",
       "</style>\n",
       "<table border=\"1\" class=\"dataframe\">\n",
       "  <thead>\n",
       "    <tr style=\"text-align: right;\">\n",
       "      <th></th>\n",
       "      <th>cusno</th>\n",
       "      <th>region</th>\n",
       "      <th>income</th>\n",
       "    </tr>\n",
       "  </thead>\n",
       "  <tbody>\n",
       "    <tr>\n",
       "      <th>count</th>\n",
       "      <td>1000.000000</td>\n",
       "      <td>1000.000000</td>\n",
       "      <td>1000.000000</td>\n",
       "    </tr>\n",
       "    <tr>\n",
       "      <th>mean</th>\n",
       "      <td>10499.500000</td>\n",
       "      <td>3.350000</td>\n",
       "      <td>59810.848000</td>\n",
       "    </tr>\n",
       "    <tr>\n",
       "      <th>std</th>\n",
       "      <td>288.819436</td>\n",
       "      <td>1.276373</td>\n",
       "      <td>59002.706513</td>\n",
       "    </tr>\n",
       "    <tr>\n",
       "      <th>min</th>\n",
       "      <td>10000.000000</td>\n",
       "      <td>1.000000</td>\n",
       "      <td>4991.000000</td>\n",
       "    </tr>\n",
       "    <tr>\n",
       "      <th>25%</th>\n",
       "      <td>10249.750000</td>\n",
       "      <td>2.750000</td>\n",
       "      <td>28713.250000</td>\n",
       "    </tr>\n",
       "    <tr>\n",
       "      <th>50%</th>\n",
       "      <td>10499.500000</td>\n",
       "      <td>3.000000</td>\n",
       "      <td>45148.000000</td>\n",
       "    </tr>\n",
       "    <tr>\n",
       "      <th>75%</th>\n",
       "      <td>10749.250000</td>\n",
       "      <td>4.250000</td>\n",
       "      <td>61324.500000</td>\n",
       "    </tr>\n",
       "    <tr>\n",
       "      <th>max</th>\n",
       "      <td>10999.000000</td>\n",
       "      <td>5.000000</td>\n",
       "      <td>305908.000000</td>\n",
       "    </tr>\n",
       "  </tbody>\n",
       "</table>\n",
       "</div>"
      ],
      "text/plain": [
       "              cusno       region         income\n",
       "count   1000.000000  1000.000000    1000.000000\n",
       "mean   10499.500000     3.350000   59810.848000\n",
       "std      288.819436     1.276373   59002.706513\n",
       "min    10000.000000     1.000000    4991.000000\n",
       "25%    10249.750000     2.750000   28713.250000\n",
       "50%    10499.500000     3.000000   45148.000000\n",
       "75%    10749.250000     4.250000   61324.500000\n",
       "max    10999.000000     5.000000  305908.000000"
      ]
     },
     "execution_count": 20,
     "metadata": {},
     "output_type": "execute_result"
    }
   ],
   "source": [
    "# 소득 컬럼의 통계 요약\n",
    "customer.describe()"
   ]
  },
  {
   "cell_type": "code",
   "execution_count": 21,
   "id": "dbbd8e9b",
   "metadata": {
    "ExecuteTime": {
     "end_time": "2022-07-16T19:40:57.126382Z",
     "start_time": "2022-07-16T19:40:57.107761Z"
    }
   },
   "outputs": [
    {
     "name": "stdout",
     "output_type": "stream",
     "text": [
      "1지역 이상치\n",
      "Series([], Name: income, dtype: int64) \n",
      "\n",
      "2지역 이상치\n",
      "894    45233\n",
      "Name: income, dtype: int64 \n",
      "\n",
      "3지역 이상치\n",
      "781    64694\n",
      "Name: income, dtype: int64 \n",
      "\n",
      "4지역 이상치\n",
      "Series([], Name: income, dtype: int64) \n",
      "\n",
      "5지역 이상치\n",
      "409    25727\n",
      "727    34275\n",
      "836    26026\n",
      "Name: income, dtype: int64 \n",
      "\n"
     ]
    }
   ],
   "source": [
    "# 고객 소득 데이터 이상치 처리\n",
    "for i in range(1, 6):\n",
    "    cus_info = customer[customer.region == i].describe()\n",
    "    # 사분위 수(quartile)\n",
    "    Q1 = cus_info[\"income\"][\"25%\"]\n",
    "    Q3 = cus_info[\"income\"][\"75%\"]\n",
    "    # 사분위간 범위(Interquartile range, IQR)\n",
    "    IQR = Q3 - Q1\n",
    "    print(f'{i}지역 이상치')\n",
    "    mask = (customer[customer.region == i].income <= (Q1 - IQR*1.5)\n",
    "            ) | (customer[customer.region == i].income >= (Q3 + IQR*1.5))\n",
    "    outlier = customer[customer.region == i][mask].income\n",
    "    print(outlier, '\\n')\n",
    "\n",
    "# lower whisker 보다 작거나, upper whisker 보다 큰 값들을 이상치로 판정\n",
    "# 1지역: 2개\n",
    "# 2지역: 0개\n",
    "# 3지역: 2개\n",
    "# 4지역: 4개\n",
    "# 5지역: 2개\n",
    "\n",
    "# 위와 같이 이상치가 발생하였으나 분석 결과 사전에 설정한 가정에 영향이 없다고 판단되어 보정하지 않음"
   ]
  },
  {
   "cell_type": "markdown",
   "id": "39bce640",
   "metadata": {},
   "source": [
    "#### 연령 : age"
   ]
  },
  {
   "cell_type": "markdown",
   "id": "b836733b",
   "metadata": {},
   "source": [
    "##### 지역별 연령 데이터 산정"
   ]
  },
  {
   "cell_type": "code",
   "execution_count": 22,
   "id": "55c7573b",
   "metadata": {
    "ExecuteTime": {
     "end_time": "2022-07-16T19:40:57.152087Z",
     "start_time": "2022-07-16T19:40:57.130135Z"
    },
    "scrolled": false
   },
   "outputs": [],
   "source": [
    "# 1 지역 연령 데이터 생성\n",
    "age_1_old = np.random.normal(65, 6, 60).tolist()\n",
    "age_1_young = np.random.normal(24, 3, 40).tolist()\n",
    "age_1 = age_1_old + age_1_young\n",
    "customer.age[customer.region == 1] = age_1\n",
    "\n",
    "# 2 지역 연령 데이터 생성\n",
    "age_2_old = np.random.normal(40, 3, 100).tolist()\n",
    "age_2_young = np.random.normal(5, 3, 50).tolist()\n",
    "age_2 = age_2_old + age_2_young\n",
    "customer.age[customer.region == 2] = age_2\n",
    "\n",
    "# # 3 지역 연령 데이터 생성\n",
    "age_3 = np.random.randint(23, 57, size=300).tolist()\n",
    "customer.age[customer.region == 3] = age_3\n",
    "\n",
    "# # 4 지역 연령 데이터 생성\n",
    "age_4 = np.random.randint(20, 28, size=200).tolist()\n",
    "customer.age[customer.region == 4] = age_4\n",
    "\n",
    "# # 5 지역 연령 데이터 생성\n",
    "age_5 = np.random.randint(50, 85, size=250).tolist()\n",
    "customer.age[customer.region == 5] = age_5\n",
    "\n",
    "customer.age = customer.age.map(lambda x: int(x))"
   ]
  },
  {
   "cell_type": "markdown",
   "id": "a384c5c0",
   "metadata": {},
   "source": [
    "##### 지역별 연령 중 이상치 보정"
   ]
  },
  {
   "cell_type": "code",
   "execution_count": 23,
   "id": "92d2d399",
   "metadata": {
    "ExecuteTime": {
     "end_time": "2022-07-16T19:40:57.205020Z",
     "start_time": "2022-07-16T19:40:57.154427Z"
    },
    "scrolled": true
   },
   "outputs": [
    {
     "data": {
      "text/plain": [
       "<AxesSubplot:xlabel='region', ylabel='age'>"
      ]
     },
     "execution_count": 23,
     "metadata": {},
     "output_type": "execute_result"
    },
    {
     "data": {
      "image/png": "[encoded data removed]",
      "text/plain": [
       "<Figure size 432x288 with 1 Axes>"
      ]
     },
     "metadata": {
      "needs_background": "light"
     },
     "output_type": "display_data"
    }
   ],
   "source": [
    "# 지역에 따른 연령 분포 확인 : by boxenplot\n",
    "sns.boxenplot(x='region', y='age', data=customer, color='skyblue')"
   ]
  },
  {
   "cell_type": "code",
   "execution_count": 24,
   "id": "eb51b914",
   "metadata": {
    "ExecuteTime": {
     "end_time": "2022-07-16T19:40:57.230524Z",
     "start_time": "2022-07-16T19:40:57.206340Z"
    },
    "scrolled": true
   },
   "outputs": [
    {
     "name": "stdout",
     "output_type": "stream",
     "text": [
      "1지역 이상치\n",
      "Series([], Name: age, dtype: int64)\n",
      "2지역 이상치\n",
      "Series([], Name: age, dtype: int64)\n",
      "3지역 이상치\n",
      "Series([], Name: age, dtype: int64)\n",
      "4지역 이상치\n",
      "Series([], Name: age, dtype: int64)\n",
      "5지역 이상치\n",
      "Series([], Name: age, dtype: int64)\n"
     ]
    }
   ],
   "source": [
    "# 고객 연령 데이터 이상치 처리\n",
    "for i in range(1, 6):\n",
    "    cus_info = customer[customer.region == i].describe()\n",
    "    # 사분위 수(quartile)\n",
    "    Q1 = cus_info[\"age\"][\"25%\"]\n",
    "    Q3 = cus_info[\"age\"][\"75%\"]\n",
    "    # 사분위간 범위(Interquartile range, IQR)\n",
    "    IQR = Q3-Q1\n",
    "    print(f'{i}지역 이상치')\n",
    "    mask = (customer[customer.region == i].age <= (Q1 - IQR*1.5)\n",
    "            ) | (customer[customer.region == i].age >= (Q3 + IQR*1.5))\n",
    "    outlier = customer[customer.region == i][mask].age\n",
    "    print(outlier)\n",
    "\n",
    "# lower whisker 보다 작거나, upper whisker 보다 큰 값들을 이상치로 판정\n",
    "# 1지역: 0개\n",
    "# 2지역: 0개\n",
    "# 3지역: 0개\n",
    "# 4지역: 0개\n",
    "# 5지역: 0개\n",
    "\n",
    "# 위와 같이 이상치가 발생하였으나 분석 결과 사전에 설정한 가정에 영향이 없다고 판단되어 보정하지 않음"
   ]
  },
  {
   "cell_type": "code",
   "execution_count": 25,
   "id": "eee6ba01",
   "metadata": {
    "ExecuteTime": {
     "end_time": "2022-07-16T19:40:57.236524Z",
     "start_time": "2022-07-16T19:40:57.231631Z"
    }
   },
   "outputs": [
    {
     "name": "stdout",
     "output_type": "stream",
     "text": [
      "1\n",
      "18    1\n",
      "19    2\n",
      "20    5\n",
      "21    2\n",
      "22    6\n",
      "23    2\n",
      "24    8\n",
      "25    6\n",
      "26    4\n",
      "27    4\n",
      "53    2\n",
      "54    2\n",
      "56    2\n",
      "57    3\n",
      "58    4\n",
      "59    3\n",
      "60    4\n",
      "61    1\n",
      "62    3\n",
      "63    3\n",
      "64    3\n",
      "65    3\n",
      "66    3\n",
      "67    3\n",
      "68    5\n",
      "69    4\n",
      "70    2\n",
      "71    5\n",
      "72    1\n",
      "73    2\n",
      "78    2\n",
      "Name: age, dtype: int64\n",
      "2\n",
      "-3      1\n",
      "-1      1\n",
      " 0      2\n",
      " 2      5\n",
      " 3      5\n",
      " 4      7\n",
      " 5     11\n",
      " 6      9\n",
      " 7      2\n",
      " 8      3\n",
      " 9      4\n",
      " 32     1\n",
      " 33     1\n",
      " 35     8\n",
      " 36     8\n",
      " 37    10\n",
      " 38     9\n",
      " 39    12\n",
      " 40    12\n",
      " 41    13\n",
      " 42    12\n",
      " 43     5\n",
      " 44     4\n",
      " 45     3\n",
      " 46     2\n",
      "Name: age, dtype: int64\n",
      "3\n",
      "23    15\n",
      "24     9\n",
      "25     8\n",
      "26    12\n",
      "27     8\n",
      "28    10\n",
      "29     5\n",
      "30     7\n",
      "31     9\n",
      "32    11\n",
      "33     5\n",
      "34     4\n",
      "35    10\n",
      "36     6\n",
      "37    11\n",
      "38     9\n",
      "39     8\n",
      "40     9\n",
      "41    15\n",
      "42     9\n",
      "43     7\n",
      "44     7\n",
      "45     4\n",
      "46     4\n",
      "47     7\n",
      "48    10\n",
      "49    12\n",
      "50    11\n",
      "51    10\n",
      "52     9\n",
      "53     8\n",
      "54    12\n",
      "55    12\n",
      "56     7\n",
      "Name: age, dtype: int64\n",
      "4\n",
      "20    28\n",
      "21    20\n",
      "22    25\n",
      "23    16\n",
      "24    23\n",
      "25    26\n",
      "26    33\n",
      "27    29\n",
      "Name: age, dtype: int64\n",
      "5\n",
      "50     4\n",
      "51     7\n",
      "52    11\n",
      "53     5\n",
      "54    12\n",
      "55    11\n",
      "56    11\n",
      "57    10\n",
      "58     5\n",
      "59     6\n",
      "60     5\n",
      "61    10\n",
      "62     9\n",
      "63     8\n",
      "64     6\n",
      "65    10\n",
      "66     8\n",
      "67     8\n",
      "68     6\n",
      "69     8\n",
      "70     8\n",
      "71     5\n",
      "72     3\n",
      "73     6\n",
      "74     5\n",
      "75     9\n",
      "76     7\n",
      "77     9\n",
      "78     4\n",
      "79     5\n",
      "80     6\n",
      "81     6\n",
      "82     4\n",
      "83     9\n",
      "84     4\n",
      "Name: age, dtype: int64\n"
     ]
    }
   ],
   "source": [
    "# 추가 이상치 검증 : 나이가 음수인 이상치를 절대값을 이용하여 유효한 값으로 보정\n",
    "# 나이가 음수인 이상치 확인\n",
    "grouped = customer.groupby('region').age\n",
    "for i, j in grouped:\n",
    "    print(i)\n",
    "    print(j.value_counts().sort_index())\n",
    "\n",
    "# customer.age.value_counts().sort_index()"
   ]
  },
  {
   "cell_type": "code",
   "execution_count": 26,
   "id": "e7ff988c",
   "metadata": {
    "ExecuteTime": {
     "end_time": "2022-07-16T19:40:57.241894Z",
     "start_time": "2022-07-16T19:40:57.237472Z"
    }
   },
   "outputs": [
    {
     "data": {
      "text/plain": [
       "0     2\n",
       "1     1\n",
       "2     5\n",
       "3     6\n",
       "4     7\n",
       "     ..\n",
       "80    6\n",
       "81    6\n",
       "82    4\n",
       "83    9\n",
       "84    4\n",
       "Name: age, Length: 77, dtype: int64"
      ]
     },
     "execution_count": 26,
     "metadata": {},
     "output_type": "execute_result"
    }
   ],
   "source": [
    "# 추가 이상치 검증 : 나이가 음수인 이상치를 절대값을 이용하여 유효한 값으로 보정\n",
    "customer[customer.age <= 0] = abs(customer[customer.age <= 0])\n",
    "customer.age.value_counts().sort_index()"
   ]
  },
  {
   "cell_type": "markdown",
   "id": "14bc15e0",
   "metadata": {},
   "source": [
    "#### 성별 : gender"
   ]
  },
  {
   "cell_type": "markdown",
   "id": "8d4787f2",
   "metadata": {},
   "source": [
    "##### 지역별 성별 데이터 산정"
   ]
  },
  {
   "cell_type": "code",
   "execution_count": 27,
   "id": "bb91f34f",
   "metadata": {
    "ExecuteTime": {
     "end_time": "2022-07-16T19:40:57.269424Z",
     "start_time": "2022-07-16T19:40:57.242981Z"
    }
   },
   "outputs": [
    {
     "data": {
      "text/plain": [
       "0    468\n",
       "1    532\n",
       "Name: gender, dtype: int64"
      ]
     },
     "execution_count": 27,
     "metadata": {},
     "output_type": "execute_result"
    }
   ],
   "source": [
    "# 1 지역 성별 데이터 생성\n",
    "gender_1_male = np.random.randint(0, 1, size=40).tolist()\n",
    "gender_1_female = np.random.randint(1, 2, size=60).tolist()\n",
    "gender_1 = gender_1_male + gender_1_female\n",
    "random.shuffle(gender_1)\n",
    "customer.gender[customer.region == 1] = gender_1\n",
    "\n",
    "# 2 지역 성별 데이터 생성\n",
    "gender_2 = np.random.randint(0, 2, size=150)\n",
    "customer.gender[customer.region == 2] = gender_2\n",
    "\n",
    "# 3 지역 성별 데이터 생성\n",
    "gender_3 = np.random.randint(0, 2, size=300)\n",
    "customer.gender[customer.region == 3] = gender_3\n",
    "\n",
    "# 4 지역 성별 데이터 생성\n",
    "gender_4 = np.random.randint(0, 2, size=200)\n",
    "customer.gender[customer.region == 4] = gender_4\n",
    "\n",
    "# 5 지역 성별 데이터 생성\n",
    "gender_5 = np.random.randint(0, 2, size=250)\n",
    "customer.gender[customer.region == 5] = gender_5\n",
    "\n",
    "customer.gender = customer.gender.map(lambda x: int(x))\n",
    "customer.gender.value_counts().sort_index()"
   ]
  },
  {
   "cell_type": "markdown",
   "id": "d0a61197",
   "metadata": {},
   "source": [
    "### 고객 데이터프레임 종속변수"
   ]
  },
  {
   "cell_type": "markdown",
   "id": "aa69c1d9",
   "metadata": {},
   "source": [
    "#### 년도별 고객별 연간 매출액 : ASC_20, ASC_21"
   ]
  },
  {
   "cell_type": "code",
   "execution_count": 28,
   "id": "85127479",
   "metadata": {
    "ExecuteTime": {
     "end_time": "2022-07-16T19:40:57.715009Z",
     "start_time": "2022-07-16T19:40:57.270579Z"
    }
   },
   "outputs": [],
   "source": [
    "li_2020 = []\n",
    "li_2021 = []\n",
    "for i in range(10000, 11000):\n",
    "    a = purchase[(purchase['cusno_ts'] == i) & (\n",
    "        purchase[\"year\"] == 2020)].amount.sum()\n",
    "    b = purchase[(purchase['cusno_ts'] == i) & (\n",
    "        purchase[\"year\"] == 2021)].amount.sum()\n",
    "\n",
    "    li_2020.append(a)\n",
    "    li_2021.append(b)\n",
    "\n",
    "customer.ASC_20 = li_2020\n",
    "customer.ASC_21 = li_2021"
   ]
  },
  {
   "cell_type": "markdown",
   "id": "9b041e1c",
   "metadata": {},
   "source": [
    "#### 년도별 고객 등급 : grade_20, grade_21"
   ]
  },
  {
   "cell_type": "code",
   "execution_count": 29,
   "id": "a0de924c",
   "metadata": {
    "ExecuteTime": {
     "end_time": "2022-07-16T19:40:57.720603Z",
     "start_time": "2022-07-16T19:40:57.715966Z"
    },
    "scrolled": true
   },
   "outputs": [],
   "source": [
    "# 고객 등급 선정\n",
    "bin_dividers = np.linspace(customer.ASC_20.min(), customer.ASC_20.max(), 4)\n",
    "bin_names = ['Silver', 'Gold', 'VIP']  # qcut\n",
    "customer['grade_20'] = pd.cut(x=customer.ASC_20,  # 데이터 배열\n",
    "                              bins=bin_dividers,  # 경계값 리스트\n",
    "                              labels=bin_names,  # bin 이름\n",
    "                              include_lowest=True)  # 첫 경계값 포함 여부\n",
    "\n",
    "bin_dividers = np.linspace(customer.ASC_21.min(), customer.ASC_21.max(), 4)\n",
    "bin_names = ['Silver', 'Gold', 'VIP']\n",
    "customer['grade_21'] = pd.cut(x=customer.ASC_21,  # 데이터 배열\n",
    "                              bins=bin_dividers,  # 경계값 리스트\n",
    "                              labels=bin_names,  # bin 이름\n",
    "                              include_lowest=True)  # 첫 경계값 포함 여부"
   ]
  },
  {
   "cell_type": "markdown",
   "id": "eeb3615d",
   "metadata": {},
   "source": [
    "#### 년도별 고객별 연간 방문 횟수 : AVC_20, AVC_21"
   ]
  },
  {
   "cell_type": "code",
   "execution_count": 30,
   "id": "110c986a",
   "metadata": {
    "ExecuteTime": {
     "end_time": "2022-07-16T19:40:58.075810Z",
     "start_time": "2022-07-16T19:40:57.721564Z"
    },
    "scrolled": true
   },
   "outputs": [],
   "source": [
    "li_2020 = []\n",
    "li_2021 = []\n",
    "for i in range(10000, 11000):\n",
    "    a = purchase[(purchase['cusno_ts'] == i) & (purchase[\"year\"] == 2020)]\n",
    "    li_2020.append(len(a))\n",
    "    a = purchase[(purchase['cusno_ts'] == i) & (purchase[\"year\"] == 2021)]\n",
    "    li_2021.append(len(a))\n",
    "\n",
    "customer.AVC_20 = li_2020\n",
    "customer.AVC_21 = li_2021"
   ]
  },
  {
   "cell_type": "markdown",
   "id": "158ace2b",
   "metadata": {},
   "source": [
    "#### 년도별 고객별 회당 평균 결제액 : ARPPU_20, ARPPU_21"
   ]
  },
  {
   "cell_type": "code",
   "execution_count": 31,
   "id": "6cba7d29",
   "metadata": {
    "ExecuteTime": {
     "end_time": "2022-07-16T19:40:58.081438Z",
     "start_time": "2022-07-16T19:40:58.076747Z"
    }
   },
   "outputs": [
    {
     "data": {
      "text/plain": [
       "cusno                0\n",
       "region               0\n",
       "gender               0\n",
       "age                  0\n",
       "income               0\n",
       "grade_20             0\n",
       "grade_21             0\n",
       "ARPPU_20             4\n",
       "ARPPU_21            18\n",
       "AVC_20               0\n",
       "AVC_21               0\n",
       "ASC_20               0\n",
       "ASC_21               0\n",
       "purchase_trend    1000\n",
       "dtype: int64"
      ]
     },
     "execution_count": 31,
     "metadata": {},
     "output_type": "execute_result"
    }
   ],
   "source": [
    "customer.ARPPU_20 = (customer.ASC_20 / customer.AVC_20).round()\n",
    "customer.ARPPU_21 = (customer.ASC_21 / customer.AVC_21).round()"
   ]
  },
  {
   "cell_type": "markdown",
   "id": "597ac159",
   "metadata": {},
   "source": [
    "#### 고객별 구매 추세 변화 : purchase_trend"
   ]
  },
  {
   "cell_type": "code",
   "execution_count": 33,
   "id": "ec75872e",
   "metadata": {
    "ExecuteTime": {
     "end_time": "2022-07-16T19:40:58.093238Z",
     "start_time": "2022-07-16T19:40:58.085200Z"
    }
   },
   "outputs": [
    {
     "data": {
      "text/html": [
       "<div>\n",
       "<style scoped>\n",
       "    .dataframe tbody tr th:only-of-type {\n",
       "        vertical-align: middle;\n",
       "    }\n",
       "\n",
       "    .dataframe tbody tr th {\n",
       "        vertical-align: top;\n",
       "    }\n",
       "\n",
       "    .dataframe thead th {\n",
       "        text-align: right;\n",
       "    }\n",
       "</style>\n",
       "<table border=\"1\" class=\"dataframe\">\n",
       "  <thead>\n",
       "    <tr style=\"text-align: right;\">\n",
       "      <th></th>\n",
       "      <th>cusno</th>\n",
       "      <th>region</th>\n",
       "      <th>gender</th>\n",
       "      <th>age</th>\n",
       "      <th>income</th>\n",
       "      <th>grade_20</th>\n",
       "      <th>grade_21</th>\n",
       "      <th>ARPPU_20</th>\n",
       "      <th>ARPPU_21</th>\n",
       "      <th>AVC_20</th>\n",
       "      <th>AVC_21</th>\n",
       "      <th>ASC_20</th>\n",
       "      <th>ASC_21</th>\n",
       "      <th>purchase_trend</th>\n",
       "    </tr>\n",
       "  </thead>\n",
       "  <tbody>\n",
       "    <tr>\n",
       "      <th>0</th>\n",
       "      <td>10000</td>\n",
       "      <td>3</td>\n",
       "      <td>1</td>\n",
       "      <td>26</td>\n",
       "      <td>48982</td>\n",
       "      <td>Gold</td>\n",
       "      <td>Gold</td>\n",
       "      <td>326987.0</td>\n",
       "      <td>190722.0</td>\n",
       "      <td>7</td>\n",
       "      <td>5</td>\n",
       "      <td>2288906</td>\n",
       "      <td>953609</td>\n",
       "      <td>False</td>\n",
       "    </tr>\n",
       "    <tr>\n",
       "      <th>1</th>\n",
       "      <td>10001</td>\n",
       "      <td>2</td>\n",
       "      <td>1</td>\n",
       "      <td>39</td>\n",
       "      <td>102106</td>\n",
       "      <td>Silver</td>\n",
       "      <td>Silver</td>\n",
       "      <td>76652.0</td>\n",
       "      <td>101862.0</td>\n",
       "      <td>4</td>\n",
       "      <td>5</td>\n",
       "      <td>306606</td>\n",
       "      <td>509309</td>\n",
       "      <td>True</td>\n",
       "    </tr>\n",
       "    <tr>\n",
       "      <th>2</th>\n",
       "      <td>10002</td>\n",
       "      <td>4</td>\n",
       "      <td>1</td>\n",
       "      <td>24</td>\n",
       "      <td>4991</td>\n",
       "      <td>Gold</td>\n",
       "      <td>Silver</td>\n",
       "      <td>348180.0</td>\n",
       "      <td>183154.0</td>\n",
       "      <td>5</td>\n",
       "      <td>5</td>\n",
       "      <td>1740900</td>\n",
       "      <td>915769</td>\n",
       "      <td>False</td>\n",
       "    </tr>\n",
       "    <tr>\n",
       "      <th>3</th>\n",
       "      <td>10003</td>\n",
       "      <td>2</td>\n",
       "      <td>1</td>\n",
       "      <td>38</td>\n",
       "      <td>62829</td>\n",
       "      <td>Silver</td>\n",
       "      <td>Silver</td>\n",
       "      <td>127899.0</td>\n",
       "      <td>212658.0</td>\n",
       "      <td>3</td>\n",
       "      <td>4</td>\n",
       "      <td>383696</td>\n",
       "      <td>850630</td>\n",
       "      <td>True</td>\n",
       "    </tr>\n",
       "    <tr>\n",
       "      <th>4</th>\n",
       "      <td>10004</td>\n",
       "      <td>4</td>\n",
       "      <td>1</td>\n",
       "      <td>25</td>\n",
       "      <td>9653</td>\n",
       "      <td>Silver</td>\n",
       "      <td>Silver</td>\n",
       "      <td>155012.0</td>\n",
       "      <td>231857.0</td>\n",
       "      <td>3</td>\n",
       "      <td>4</td>\n",
       "      <td>465035</td>\n",
       "      <td>927427</td>\n",
       "      <td>True</td>\n",
       "    </tr>\n",
       "    <tr>\n",
       "      <th>...</th>\n",
       "      <td>...</td>\n",
       "      <td>...</td>\n",
       "      <td>...</td>\n",
       "      <td>...</td>\n",
       "      <td>...</td>\n",
       "      <td>...</td>\n",
       "      <td>...</td>\n",
       "      <td>...</td>\n",
       "      <td>...</td>\n",
       "      <td>...</td>\n",
       "      <td>...</td>\n",
       "      <td>...</td>\n",
       "      <td>...</td>\n",
       "      <td>...</td>\n",
       "    </tr>\n",
       "    <tr>\n",
       "      <th>995</th>\n",
       "      <td>10995</td>\n",
       "      <td>3</td>\n",
       "      <td>1</td>\n",
       "      <td>50</td>\n",
       "      <td>48492</td>\n",
       "      <td>Silver</td>\n",
       "      <td>Silver</td>\n",
       "      <td>269892.0</td>\n",
       "      <td>148750.0</td>\n",
       "      <td>2</td>\n",
       "      <td>1</td>\n",
       "      <td>539784</td>\n",
       "      <td>148750</td>\n",
       "      <td>False</td>\n",
       "    </tr>\n",
       "    <tr>\n",
       "      <th>996</th>\n",
       "      <td>10996</td>\n",
       "      <td>3</td>\n",
       "      <td>0</td>\n",
       "      <td>23</td>\n",
       "      <td>50639</td>\n",
       "      <td>Gold</td>\n",
       "      <td>Silver</td>\n",
       "      <td>198059.0</td>\n",
       "      <td>184119.0</td>\n",
       "      <td>8</td>\n",
       "      <td>5</td>\n",
       "      <td>1584475</td>\n",
       "      <td>920593</td>\n",
       "      <td>False</td>\n",
       "    </tr>\n",
       "    <tr>\n",
       "      <th>997</th>\n",
       "      <td>10997</td>\n",
       "      <td>5</td>\n",
       "      <td>0</td>\n",
       "      <td>65</td>\n",
       "      <td>31164</td>\n",
       "      <td>Silver</td>\n",
       "      <td>Silver</td>\n",
       "      <td>187663.0</td>\n",
       "      <td>109971.0</td>\n",
       "      <td>5</td>\n",
       "      <td>5</td>\n",
       "      <td>938313</td>\n",
       "      <td>549854</td>\n",
       "      <td>False</td>\n",
       "    </tr>\n",
       "    <tr>\n",
       "      <th>998</th>\n",
       "      <td>10998</td>\n",
       "      <td>4</td>\n",
       "      <td>1</td>\n",
       "      <td>27</td>\n",
       "      <td>6606</td>\n",
       "      <td>Silver</td>\n",
       "      <td>Silver</td>\n",
       "      <td>159376.0</td>\n",
       "      <td>42001.0</td>\n",
       "      <td>2</td>\n",
       "      <td>3</td>\n",
       "      <td>318752</td>\n",
       "      <td>126003</td>\n",
       "      <td>False</td>\n",
       "    </tr>\n",
       "    <tr>\n",
       "      <th>999</th>\n",
       "      <td>10999</td>\n",
       "      <td>3</td>\n",
       "      <td>1</td>\n",
       "      <td>38</td>\n",
       "      <td>55907</td>\n",
       "      <td>Gold</td>\n",
       "      <td>Gold</td>\n",
       "      <td>338470.0</td>\n",
       "      <td>190051.0</td>\n",
       "      <td>7</td>\n",
       "      <td>6</td>\n",
       "      <td>2369293</td>\n",
       "      <td>1140305</td>\n",
       "      <td>False</td>\n",
       "    </tr>\n",
       "  </tbody>\n",
       "</table>\n",
       "<p>1000 rows × 14 columns</p>\n",
       "</div>"
      ],
      "text/plain": [
       "     cusno  region  gender  age  income grade_20 grade_21  ARPPU_20  ARPPU_21  \\\n",
       "0    10000       3       1   26   48982     Gold     Gold  326987.0  190722.0   \n",
       "1    10001       2       1   39  102106   Silver   Silver   76652.0  101862.0   \n",
       "2    10002       4       1   24    4991     Gold   Silver  348180.0  183154.0   \n",
       "3    10003       2       1   38   62829   Silver   Silver  127899.0  212658.0   \n",
       "4    10004       4       1   25    9653   Silver   Silver  155012.0  231857.0   \n",
       "..     ...     ...     ...  ...     ...      ...      ...       ...       ...   \n",
       "995  10995       3       1   50   48492   Silver   Silver  269892.0  148750.0   \n",
       "996  10996       3       0   23   50639     Gold   Silver  198059.0  184119.0   \n",
       "997  10997       5       0   65   31164   Silver   Silver  187663.0  109971.0   \n",
       "998  10998       4       1   27    6606   Silver   Silver  159376.0   42001.0   \n",
       "999  10999       3       1   38   55907     Gold     Gold  338470.0  190051.0   \n",
       "\n",
       "     AVC_20  AVC_21   ASC_20   ASC_21  purchase_trend  \n",
       "0         7       5  2288906   953609           False  \n",
       "1         4       5   306606   509309            True  \n",
       "2         5       5  1740900   915769           False  \n",
       "3         3       4   383696   850630            True  \n",
       "4         3       4   465035   927427            True  \n",
       "..      ...     ...      ...      ...             ...  \n",
       "995       2       1   539784   148750           False  \n",
       "996       8       5  1584475   920593           False  \n",
       "997       5       5   938313   549854           False  \n",
       "998       2       3   318752   126003           False  \n",
       "999       7       6  2369293  1140305           False  \n",
       "\n",
       "[1000 rows x 14 columns]"
      ]
     },
     "execution_count": 33,
     "metadata": {},
     "output_type": "execute_result"
    }
   ],
   "source": [
    "customer.purchase_trend = (customer.ASC_21 > customer.ASC_20)\n",
    "customer"
   ]
  },
  {
   "cell_type": "markdown",
   "id": "50ea8baa",
   "metadata": {},
   "source": [
    "## DataFrame 확인"
   ]
  },
  {
   "cell_type": "markdown",
   "id": "25820ff3",
   "metadata": {},
   "source": [
    "### 결측치 처리"
   ]
  },
  {
   "cell_type": "code",
   "execution_count": 48,
   "id": "05391687",
   "metadata": {
    "ExecuteTime": {
     "end_time": "2022-07-16T19:41:59.656546Z",
     "start_time": "2022-07-16T19:41:59.649638Z"
    },
    "scrolled": true
   },
   "outputs": [
    {
     "data": {
      "text/plain": [
       "cusno              0\n",
       "region             0\n",
       "gender             0\n",
       "age                0\n",
       "income             0\n",
       "grade_20           0\n",
       "grade_21           0\n",
       "ARPPU_20           4\n",
       "ARPPU_21          18\n",
       "AVC_20             0\n",
       "AVC_21             0\n",
       "ASC_20             0\n",
       "ASC_21             0\n",
       "purchase_trend     0\n",
       "dtype: int64"
      ]
     },
     "execution_count": 48,
     "metadata": {},
     "output_type": "execute_result"
    }
   ],
   "source": [
    "customer.isnull().sum()"
   ]
  },
  {
   "cell_type": "code",
   "execution_count": 49,
   "id": "335fa867",
   "metadata": {
    "ExecuteTime": {
     "end_time": "2022-07-16T19:42:11.421026Z",
     "start_time": "2022-07-16T19:42:11.409924Z"
    }
   },
   "outputs": [
    {
     "data": {
      "text/plain": [
       "cusno             0\n",
       "region            0\n",
       "gender            0\n",
       "age               0\n",
       "income            0\n",
       "grade_20          0\n",
       "grade_21          0\n",
       "ARPPU_20          0\n",
       "ARPPU_21          0\n",
       "AVC_20            0\n",
       "AVC_21            0\n",
       "ASC_20            0\n",
       "ASC_21            0\n",
       "purchase_trend    0\n",
       "dtype: int64"
      ]
     },
     "execution_count": 49,
     "metadata": {},
     "output_type": "execute_result"
    }
   ],
   "source": [
    "customer.ARPPU_20.fillna(0, inplace=True)\n",
    "customer.ARPPU_21.fillna(0, inplace=True)\n",
    "customer.isnull().sum()"
   ]
  },
  {
   "cell_type": "code",
   "execution_count": 34,
   "id": "1b3083f0",
   "metadata": {
    "ExecuteTime": {
     "end_time": "2022-07-16T19:40:58.098953Z",
     "start_time": "2022-07-16T19:40:58.094180Z"
    },
    "scrolled": true
   },
   "outputs": [
    {
     "data": {
      "text/html": [
       "<div>\n",
       "<style scoped>\n",
       "    .dataframe tbody tr th:only-of-type {\n",
       "        vertical-align: middle;\n",
       "    }\n",
       "\n",
       "    .dataframe tbody tr th {\n",
       "        vertical-align: top;\n",
       "    }\n",
       "\n",
       "    .dataframe thead th {\n",
       "        text-align: right;\n",
       "    }\n",
       "</style>\n",
       "<table border=\"1\" class=\"dataframe\">\n",
       "  <thead>\n",
       "    <tr style=\"text-align: right;\">\n",
       "      <th></th>\n",
       "      <th>product_num</th>\n",
       "      <th>price</th>\n",
       "      <th>price_grade</th>\n",
       "    </tr>\n",
       "  </thead>\n",
       "  <tbody>\n",
       "    <tr>\n",
       "      <th>0</th>\n",
       "      <td>1</td>\n",
       "      <td>51494</td>\n",
       "      <td>1</td>\n",
       "    </tr>\n",
       "    <tr>\n",
       "      <th>1</th>\n",
       "      <td>2</td>\n",
       "      <td>56125</td>\n",
       "      <td>1</td>\n",
       "    </tr>\n",
       "    <tr>\n",
       "      <th>2</th>\n",
       "      <td>3</td>\n",
       "      <td>6306</td>\n",
       "      <td>3</td>\n",
       "    </tr>\n",
       "    <tr>\n",
       "      <th>3</th>\n",
       "      <td>4</td>\n",
       "      <td>34936</td>\n",
       "      <td>2</td>\n",
       "    </tr>\n",
       "    <tr>\n",
       "      <th>4</th>\n",
       "      <td>5</td>\n",
       "      <td>68013</td>\n",
       "      <td>1</td>\n",
       "    </tr>\n",
       "    <tr>\n",
       "      <th>...</th>\n",
       "      <td>...</td>\n",
       "      <td>...</td>\n",
       "      <td>...</td>\n",
       "    </tr>\n",
       "    <tr>\n",
       "      <th>95</th>\n",
       "      <td>96</td>\n",
       "      <td>25100</td>\n",
       "      <td>2</td>\n",
       "    </tr>\n",
       "    <tr>\n",
       "      <th>96</th>\n",
       "      <td>97</td>\n",
       "      <td>25823</td>\n",
       "      <td>2</td>\n",
       "    </tr>\n",
       "    <tr>\n",
       "      <th>97</th>\n",
       "      <td>98</td>\n",
       "      <td>25475</td>\n",
       "      <td>2</td>\n",
       "    </tr>\n",
       "    <tr>\n",
       "      <th>98</th>\n",
       "      <td>99</td>\n",
       "      <td>5321</td>\n",
       "      <td>3</td>\n",
       "    </tr>\n",
       "    <tr>\n",
       "      <th>99</th>\n",
       "      <td>100</td>\n",
       "      <td>81317</td>\n",
       "      <td>1</td>\n",
       "    </tr>\n",
       "  </tbody>\n",
       "</table>\n",
       "<p>100 rows × 3 columns</p>\n",
       "</div>"
      ],
      "text/plain": [
       "    product_num  price price_grade\n",
       "0             1  51494           1\n",
       "1             2  56125           1\n",
       "2             3   6306           3\n",
       "3             4  34936           2\n",
       "4             5  68013           1\n",
       "..          ...    ...         ...\n",
       "95           96  25100           2\n",
       "96           97  25823           2\n",
       "97           98  25475           2\n",
       "98           99   5321           3\n",
       "99          100  81317           1\n",
       "\n",
       "[100 rows x 3 columns]"
      ]
     },
     "execution_count": 34,
     "metadata": {},
     "output_type": "execute_result"
    }
   ],
   "source": [
    "product"
   ]
  },
  {
   "cell_type": "code",
   "execution_count": 35,
   "id": "60aa104b",
   "metadata": {
    "ExecuteTime": {
     "end_time": "2022-07-16T19:40:58.103736Z",
     "start_time": "2022-07-16T19:40:58.099850Z"
    },
    "scrolled": true
   },
   "outputs": [
    {
     "name": "stdout",
     "output_type": "stream",
     "text": [
      "<class 'pandas.core.frame.DataFrame'>\n",
      "RangeIndex: 100 entries, 0 to 99\n",
      "Data columns (total 3 columns):\n",
      " #   Column       Non-Null Count  Dtype \n",
      "---  ------       --------------  ----- \n",
      " 0   product_num  100 non-null    int64 \n",
      " 1   price        100 non-null    int64 \n",
      " 2   price_grade  100 non-null    object\n",
      "dtypes: int64(2), object(1)\n",
      "memory usage: 2.5+ KB\n"
     ]
    }
   ],
   "source": [
    "product.info()"
   ]
  },
  {
   "cell_type": "code",
   "execution_count": 36,
   "id": "80f2ff14",
   "metadata": {
    "ExecuteTime": {
     "end_time": "2022-07-16T19:40:58.110265Z",
     "start_time": "2022-07-16T19:40:58.104694Z"
    },
    "scrolled": false
   },
   "outputs": [
    {
     "data": {
      "text/html": [
       "<div>\n",
       "<style scoped>\n",
       "    .dataframe tbody tr th:only-of-type {\n",
       "        vertical-align: middle;\n",
       "    }\n",
       "\n",
       "    .dataframe tbody tr th {\n",
       "        vertical-align: top;\n",
       "    }\n",
       "\n",
       "    .dataframe thead th {\n",
       "        text-align: right;\n",
       "    }\n",
       "</style>\n",
       "<table border=\"1\" class=\"dataframe\">\n",
       "  <thead>\n",
       "    <tr style=\"text-align: right;\">\n",
       "      <th></th>\n",
       "      <th>num_ts</th>\n",
       "      <th>cusno_ts</th>\n",
       "      <th>product_num_ts</th>\n",
       "      <th>price_ts</th>\n",
       "      <th>quantity</th>\n",
       "      <th>amount</th>\n",
       "      <th>date</th>\n",
       "      <th>year</th>\n",
       "      <th>weekday</th>\n",
       "      <th>hour</th>\n",
       "    </tr>\n",
       "  </thead>\n",
       "  <tbody>\n",
       "    <tr>\n",
       "      <th>0</th>\n",
       "      <td>0</td>\n",
       "      <td>10011</td>\n",
       "      <td>100</td>\n",
       "      <td>81317</td>\n",
       "      <td>4</td>\n",
       "      <td>325268</td>\n",
       "      <td>2020-09-17</td>\n",
       "      <td>2020</td>\n",
       "      <td>3</td>\n",
       "      <td>13</td>\n",
       "    </tr>\n",
       "    <tr>\n",
       "      <th>1</th>\n",
       "      <td>1</td>\n",
       "      <td>10763</td>\n",
       "      <td>53</td>\n",
       "      <td>1149</td>\n",
       "      <td>4</td>\n",
       "      <td>4596</td>\n",
       "      <td>2020-08-26</td>\n",
       "      <td>2020</td>\n",
       "      <td>2</td>\n",
       "      <td>21</td>\n",
       "    </tr>\n",
       "    <tr>\n",
       "      <th>2</th>\n",
       "      <td>2</td>\n",
       "      <td>10274</td>\n",
       "      <td>61</td>\n",
       "      <td>9255</td>\n",
       "      <td>5</td>\n",
       "      <td>46275</td>\n",
       "      <td>2020-05-26</td>\n",
       "      <td>2020</td>\n",
       "      <td>1</td>\n",
       "      <td>4</td>\n",
       "    </tr>\n",
       "    <tr>\n",
       "      <th>3</th>\n",
       "      <td>3</td>\n",
       "      <td>10202</td>\n",
       "      <td>77</td>\n",
       "      <td>39153</td>\n",
       "      <td>3</td>\n",
       "      <td>117459</td>\n",
       "      <td>2020-01-25</td>\n",
       "      <td>2020</td>\n",
       "      <td>5</td>\n",
       "      <td>7</td>\n",
       "    </tr>\n",
       "    <tr>\n",
       "      <th>4</th>\n",
       "      <td>4</td>\n",
       "      <td>10978</td>\n",
       "      <td>59</td>\n",
       "      <td>43625</td>\n",
       "      <td>1</td>\n",
       "      <td>43625</td>\n",
       "      <td>2020-09-06</td>\n",
       "      <td>2020</td>\n",
       "      <td>6</td>\n",
       "      <td>1</td>\n",
       "    </tr>\n",
       "    <tr>\n",
       "      <th>...</th>\n",
       "      <td>...</td>\n",
       "      <td>...</td>\n",
       "      <td>...</td>\n",
       "      <td>...</td>\n",
       "      <td>...</td>\n",
       "      <td>...</td>\n",
       "      <td>...</td>\n",
       "      <td>...</td>\n",
       "      <td>...</td>\n",
       "      <td>...</td>\n",
       "    </tr>\n",
       "    <tr>\n",
       "      <th>9995</th>\n",
       "      <td>9995</td>\n",
       "      <td>10914</td>\n",
       "      <td>95</td>\n",
       "      <td>39054</td>\n",
       "      <td>6</td>\n",
       "      <td>234324</td>\n",
       "      <td>2020-07-16</td>\n",
       "      <td>2020</td>\n",
       "      <td>3</td>\n",
       "      <td>22</td>\n",
       "    </tr>\n",
       "    <tr>\n",
       "      <th>9996</th>\n",
       "      <td>9996</td>\n",
       "      <td>10628</td>\n",
       "      <td>24</td>\n",
       "      <td>41651</td>\n",
       "      <td>4</td>\n",
       "      <td>166604</td>\n",
       "      <td>2020-03-20</td>\n",
       "      <td>2020</td>\n",
       "      <td>4</td>\n",
       "      <td>22</td>\n",
       "    </tr>\n",
       "    <tr>\n",
       "      <th>9997</th>\n",
       "      <td>9997</td>\n",
       "      <td>10531</td>\n",
       "      <td>4</td>\n",
       "      <td>34936</td>\n",
       "      <td>3</td>\n",
       "      <td>104808</td>\n",
       "      <td>2020-07-18</td>\n",
       "      <td>2020</td>\n",
       "      <td>5</td>\n",
       "      <td>5</td>\n",
       "    </tr>\n",
       "    <tr>\n",
       "      <th>9998</th>\n",
       "      <td>9998</td>\n",
       "      <td>10702</td>\n",
       "      <td>66</td>\n",
       "      <td>19677</td>\n",
       "      <td>2</td>\n",
       "      <td>39354</td>\n",
       "      <td>2021-11-01</td>\n",
       "      <td>2021</td>\n",
       "      <td>0</td>\n",
       "      <td>10</td>\n",
       "    </tr>\n",
       "    <tr>\n",
       "      <th>9999</th>\n",
       "      <td>9999</td>\n",
       "      <td>10368</td>\n",
       "      <td>59</td>\n",
       "      <td>43625</td>\n",
       "      <td>1</td>\n",
       "      <td>43625</td>\n",
       "      <td>2020-01-19</td>\n",
       "      <td>2020</td>\n",
       "      <td>6</td>\n",
       "      <td>20</td>\n",
       "    </tr>\n",
       "  </tbody>\n",
       "</table>\n",
       "<p>10000 rows × 10 columns</p>\n",
       "</div>"
      ],
      "text/plain": [
       "      num_ts  cusno_ts  product_num_ts  price_ts quantity  amount       date  \\\n",
       "0          0     10011             100     81317        4  325268 2020-09-17   \n",
       "1          1     10763              53      1149        4    4596 2020-08-26   \n",
       "2          2     10274              61      9255        5   46275 2020-05-26   \n",
       "3          3     10202              77     39153        3  117459 2020-01-25   \n",
       "4          4     10978              59     43625        1   43625 2020-09-06   \n",
       "...      ...       ...             ...       ...      ...     ...        ...   \n",
       "9995    9995     10914              95     39054        6  234324 2020-07-16   \n",
       "9996    9996     10628              24     41651        4  166604 2020-03-20   \n",
       "9997    9997     10531               4     34936        3  104808 2020-07-18   \n",
       "9998    9998     10702              66     19677        2   39354 2021-11-01   \n",
       "9999    9999     10368              59     43625        1   43625 2020-01-19   \n",
       "\n",
       "      year  weekday  hour  \n",
       "0     2020        3    13  \n",
       "1     2020        2    21  \n",
       "2     2020        1     4  \n",
       "3     2020        5     7  \n",
       "4     2020        6     1  \n",
       "...    ...      ...   ...  \n",
       "9995  2020        3    22  \n",
       "9996  2020        4    22  \n",
       "9997  2020        5     5  \n",
       "9998  2021        0    10  \n",
       "9999  2020        6    20  \n",
       "\n",
       "[10000 rows x 10 columns]"
      ]
     },
     "execution_count": 36,
     "metadata": {},
     "output_type": "execute_result"
    }
   ],
   "source": [
    "purchase"
   ]
  },
  {
   "cell_type": "code",
   "execution_count": 37,
   "id": "73c27225",
   "metadata": {
    "ExecuteTime": {
     "end_time": "2022-07-16T19:40:58.118989Z",
     "start_time": "2022-07-16T19:40:58.111230Z"
    },
    "scrolled": true
   },
   "outputs": [
    {
     "name": "stdout",
     "output_type": "stream",
     "text": [
      "<class 'pandas.core.frame.DataFrame'>\n",
      "RangeIndex: 10000 entries, 0 to 9999\n",
      "Data columns (total 10 columns):\n",
      " #   Column          Non-Null Count  Dtype         \n",
      "---  ------          --------------  -----         \n",
      " 0   num_ts          10000 non-null  int64         \n",
      " 1   cusno_ts        10000 non-null  int64         \n",
      " 2   product_num_ts  10000 non-null  int64         \n",
      " 3   price_ts        10000 non-null  int64         \n",
      " 4   quantity        10000 non-null  object        \n",
      " 5   amount          10000 non-null  object        \n",
      " 6   date            10000 non-null  datetime64[ns]\n",
      " 7   year            10000 non-null  int64         \n",
      " 8   weekday         10000 non-null  int64         \n",
      " 9   hour            10000 non-null  int64         \n",
      "dtypes: datetime64[ns](1), int64(7), object(2)\n",
      "memory usage: 781.4+ KB\n"
     ]
    }
   ],
   "source": [
    "purchase.info()"
   ]
  },
  {
   "cell_type": "code",
   "execution_count": 38,
   "id": "6a47bebb",
   "metadata": {
    "ExecuteTime": {
     "end_time": "2022-07-16T19:40:58.127525Z",
     "start_time": "2022-07-16T19:40:58.119928Z"
    },
    "scrolled": false
   },
   "outputs": [
    {
     "data": {
      "text/html": [
       "<div>\n",
       "<style scoped>\n",
       "    .dataframe tbody tr th:only-of-type {\n",
       "        vertical-align: middle;\n",
       "    }\n",
       "\n",
       "    .dataframe tbody tr th {\n",
       "        vertical-align: top;\n",
       "    }\n",
       "\n",
       "    .dataframe thead th {\n",
       "        text-align: right;\n",
       "    }\n",
       "</style>\n",
       "<table border=\"1\" class=\"dataframe\">\n",
       "  <thead>\n",
       "    <tr style=\"text-align: right;\">\n",
       "      <th></th>\n",
       "      <th>cusno</th>\n",
       "      <th>region</th>\n",
       "      <th>gender</th>\n",
       "      <th>age</th>\n",
       "      <th>income</th>\n",
       "      <th>grade_20</th>\n",
       "      <th>grade_21</th>\n",
       "      <th>ARPPU_20</th>\n",
       "      <th>ARPPU_21</th>\n",
       "      <th>AVC_20</th>\n",
       "      <th>AVC_21</th>\n",
       "      <th>ASC_20</th>\n",
       "      <th>ASC_21</th>\n",
       "      <th>purchase_trend</th>\n",
       "    </tr>\n",
       "  </thead>\n",
       "  <tbody>\n",
       "    <tr>\n",
       "      <th>0</th>\n",
       "      <td>10000</td>\n",
       "      <td>3</td>\n",
       "      <td>1</td>\n",
       "      <td>26</td>\n",
       "      <td>48982</td>\n",
       "      <td>Gold</td>\n",
       "      <td>Gold</td>\n",
       "      <td>326987.0</td>\n",
       "      <td>190722.0</td>\n",
       "      <td>7</td>\n",
       "      <td>5</td>\n",
       "      <td>2288906</td>\n",
       "      <td>953609</td>\n",
       "      <td>False</td>\n",
       "    </tr>\n",
       "    <tr>\n",
       "      <th>1</th>\n",
       "      <td>10001</td>\n",
       "      <td>2</td>\n",
       "      <td>1</td>\n",
       "      <td>39</td>\n",
       "      <td>102106</td>\n",
       "      <td>Silver</td>\n",
       "      <td>Silver</td>\n",
       "      <td>76652.0</td>\n",
       "      <td>101862.0</td>\n",
       "      <td>4</td>\n",
       "      <td>5</td>\n",
       "      <td>306606</td>\n",
       "      <td>509309</td>\n",
       "      <td>True</td>\n",
       "    </tr>\n",
       "    <tr>\n",
       "      <th>2</th>\n",
       "      <td>10002</td>\n",
       "      <td>4</td>\n",
       "      <td>1</td>\n",
       "      <td>24</td>\n",
       "      <td>4991</td>\n",
       "      <td>Gold</td>\n",
       "      <td>Silver</td>\n",
       "      <td>348180.0</td>\n",
       "      <td>183154.0</td>\n",
       "      <td>5</td>\n",
       "      <td>5</td>\n",
       "      <td>1740900</td>\n",
       "      <td>915769</td>\n",
       "      <td>False</td>\n",
       "    </tr>\n",
       "    <tr>\n",
       "      <th>3</th>\n",
       "      <td>10003</td>\n",
       "      <td>2</td>\n",
       "      <td>1</td>\n",
       "      <td>38</td>\n",
       "      <td>62829</td>\n",
       "      <td>Silver</td>\n",
       "      <td>Silver</td>\n",
       "      <td>127899.0</td>\n",
       "      <td>212658.0</td>\n",
       "      <td>3</td>\n",
       "      <td>4</td>\n",
       "      <td>383696</td>\n",
       "      <td>850630</td>\n",
       "      <td>True</td>\n",
       "    </tr>\n",
       "    <tr>\n",
       "      <th>4</th>\n",
       "      <td>10004</td>\n",
       "      <td>4</td>\n",
       "      <td>1</td>\n",
       "      <td>25</td>\n",
       "      <td>9653</td>\n",
       "      <td>Silver</td>\n",
       "      <td>Silver</td>\n",
       "      <td>155012.0</td>\n",
       "      <td>231857.0</td>\n",
       "      <td>3</td>\n",
       "      <td>4</td>\n",
       "      <td>465035</td>\n",
       "      <td>927427</td>\n",
       "      <td>True</td>\n",
       "    </tr>\n",
       "    <tr>\n",
       "      <th>...</th>\n",
       "      <td>...</td>\n",
       "      <td>...</td>\n",
       "      <td>...</td>\n",
       "      <td>...</td>\n",
       "      <td>...</td>\n",
       "      <td>...</td>\n",
       "      <td>...</td>\n",
       "      <td>...</td>\n",
       "      <td>...</td>\n",
       "      <td>...</td>\n",
       "      <td>...</td>\n",
       "      <td>...</td>\n",
       "      <td>...</td>\n",
       "      <td>...</td>\n",
       "    </tr>\n",
       "    <tr>\n",
       "      <th>995</th>\n",
       "      <td>10995</td>\n",
       "      <td>3</td>\n",
       "      <td>1</td>\n",
       "      <td>50</td>\n",
       "      <td>48492</td>\n",
       "      <td>Silver</td>\n",
       "      <td>Silver</td>\n",
       "      <td>269892.0</td>\n",
       "      <td>148750.0</td>\n",
       "      <td>2</td>\n",
       "      <td>1</td>\n",
       "      <td>539784</td>\n",
       "      <td>148750</td>\n",
       "      <td>False</td>\n",
       "    </tr>\n",
       "    <tr>\n",
       "      <th>996</th>\n",
       "      <td>10996</td>\n",
       "      <td>3</td>\n",
       "      <td>0</td>\n",
       "      <td>23</td>\n",
       "      <td>50639</td>\n",
       "      <td>Gold</td>\n",
       "      <td>Silver</td>\n",
       "      <td>198059.0</td>\n",
       "      <td>184119.0</td>\n",
       "      <td>8</td>\n",
       "      <td>5</td>\n",
       "      <td>1584475</td>\n",
       "      <td>920593</td>\n",
       "      <td>False</td>\n",
       "    </tr>\n",
       "    <tr>\n",
       "      <th>997</th>\n",
       "      <td>10997</td>\n",
       "      <td>5</td>\n",
       "      <td>0</td>\n",
       "      <td>65</td>\n",
       "      <td>31164</td>\n",
       "      <td>Silver</td>\n",
       "      <td>Silver</td>\n",
       "      <td>187663.0</td>\n",
       "      <td>109971.0</td>\n",
       "      <td>5</td>\n",
       "      <td>5</td>\n",
       "      <td>938313</td>\n",
       "      <td>549854</td>\n",
       "      <td>False</td>\n",
       "    </tr>\n",
       "    <tr>\n",
       "      <th>998</th>\n",
       "      <td>10998</td>\n",
       "      <td>4</td>\n",
       "      <td>1</td>\n",
       "      <td>27</td>\n",
       "      <td>6606</td>\n",
       "      <td>Silver</td>\n",
       "      <td>Silver</td>\n",
       "      <td>159376.0</td>\n",
       "      <td>42001.0</td>\n",
       "      <td>2</td>\n",
       "      <td>3</td>\n",
       "      <td>318752</td>\n",
       "      <td>126003</td>\n",
       "      <td>False</td>\n",
       "    </tr>\n",
       "    <tr>\n",
       "      <th>999</th>\n",
       "      <td>10999</td>\n",
       "      <td>3</td>\n",
       "      <td>1</td>\n",
       "      <td>38</td>\n",
       "      <td>55907</td>\n",
       "      <td>Gold</td>\n",
       "      <td>Gold</td>\n",
       "      <td>338470.0</td>\n",
       "      <td>190051.0</td>\n",
       "      <td>7</td>\n",
       "      <td>6</td>\n",
       "      <td>2369293</td>\n",
       "      <td>1140305</td>\n",
       "      <td>False</td>\n",
       "    </tr>\n",
       "  </tbody>\n",
       "</table>\n",
       "<p>1000 rows × 14 columns</p>\n",
       "</div>"
      ],
      "text/plain": [
       "     cusno  region  gender  age  income grade_20 grade_21  ARPPU_20  ARPPU_21  \\\n",
       "0    10000       3       1   26   48982     Gold     Gold  326987.0  190722.0   \n",
       "1    10001       2       1   39  102106   Silver   Silver   76652.0  101862.0   \n",
       "2    10002       4       1   24    4991     Gold   Silver  348180.0  183154.0   \n",
       "3    10003       2       1   38   62829   Silver   Silver  127899.0  212658.0   \n",
       "4    10004       4       1   25    9653   Silver   Silver  155012.0  231857.0   \n",
       "..     ...     ...     ...  ...     ...      ...      ...       ...       ...   \n",
       "995  10995       3       1   50   48492   Silver   Silver  269892.0  148750.0   \n",
       "996  10996       3       0   23   50639     Gold   Silver  198059.0  184119.0   \n",
       "997  10997       5       0   65   31164   Silver   Silver  187663.0  109971.0   \n",
       "998  10998       4       1   27    6606   Silver   Silver  159376.0   42001.0   \n",
       "999  10999       3       1   38   55907     Gold     Gold  338470.0  190051.0   \n",
       "\n",
       "     AVC_20  AVC_21   ASC_20   ASC_21  purchase_trend  \n",
       "0         7       5  2288906   953609           False  \n",
       "1         4       5   306606   509309            True  \n",
       "2         5       5  1740900   915769           False  \n",
       "3         3       4   383696   850630            True  \n",
       "4         3       4   465035   927427            True  \n",
       "..      ...     ...      ...      ...             ...  \n",
       "995       2       1   539784   148750           False  \n",
       "996       8       5  1584475   920593           False  \n",
       "997       5       5   938313   549854           False  \n",
       "998       2       3   318752   126003           False  \n",
       "999       7       6  2369293  1140305           False  \n",
       "\n",
       "[1000 rows x 14 columns]"
      ]
     },
     "execution_count": 38,
     "metadata": {},
     "output_type": "execute_result"
    }
   ],
   "source": [
    "customer"
   ]
  },
  {
   "cell_type": "code",
   "execution_count": 39,
   "id": "b14351e6",
   "metadata": {
    "ExecuteTime": {
     "end_time": "2022-07-16T19:40:58.133713Z",
     "start_time": "2022-07-16T19:40:58.128460Z"
    }
   },
   "outputs": [
    {
     "name": "stdout",
     "output_type": "stream",
     "text": [
      "<class 'pandas.core.frame.DataFrame'>\n",
      "RangeIndex: 1000 entries, 0 to 999\n",
      "Data columns (total 14 columns):\n",
      " #   Column          Non-Null Count  Dtype   \n",
      "---  ------          --------------  -----   \n",
      " 0   cusno           1000 non-null   int64   \n",
      " 1   region          1000 non-null   int64   \n",
      " 2   gender          1000 non-null   int64   \n",
      " 3   age             1000 non-null   int64   \n",
      " 4   income          1000 non-null   int64   \n",
      " 5   grade_20        1000 non-null   category\n",
      " 6   grade_21        1000 non-null   category\n",
      " 7   ARPPU_20        996 non-null    float64 \n",
      " 8   ARPPU_21        982 non-null    float64 \n",
      " 9   AVC_20          1000 non-null   int64   \n",
      " 10  AVC_21          1000 non-null   int64   \n",
      " 11  ASC_20          1000 non-null   int64   \n",
      " 12  ASC_21          1000 non-null   int64   \n",
      " 13  purchase_trend  1000 non-null   bool    \n",
      "dtypes: bool(1), category(2), float64(2), int64(9)\n",
      "memory usage: 89.2 KB\n"
     ]
    }
   ],
   "source": [
    "customer.info()"
   ]
  },
  {
   "cell_type": "markdown",
   "id": "a3c83a1f",
   "metadata": {},
   "source": [
    "## 데이터프레임 Merge"
   ]
  },
  {
   "cell_type": "code",
   "execution_count": 40,
   "id": "e510b7e4",
   "metadata": {
    "ExecuteTime": {
     "end_time": "2022-07-16T19:40:58.147424Z",
     "start_time": "2022-07-16T19:40:58.134547Z"
    },
    "scrolled": true
   },
   "outputs": [
    {
     "data": {
      "text/html": [
       "<div>\n",
       "<style scoped>\n",
       "    .dataframe tbody tr th:only-of-type {\n",
       "        vertical-align: middle;\n",
       "    }\n",
       "\n",
       "    .dataframe tbody tr th {\n",
       "        vertical-align: top;\n",
       "    }\n",
       "\n",
       "    .dataframe thead th {\n",
       "        text-align: right;\n",
       "    }\n",
       "</style>\n",
       "<table border=\"1\" class=\"dataframe\">\n",
       "  <thead>\n",
       "    <tr style=\"text-align: right;\">\n",
       "      <th></th>\n",
       "      <th>num_ts</th>\n",
       "      <th>cusno_ts</th>\n",
       "      <th>product_num_ts</th>\n",
       "      <th>price_ts</th>\n",
       "      <th>quantity</th>\n",
       "      <th>amount</th>\n",
       "      <th>date</th>\n",
       "      <th>year</th>\n",
       "      <th>weekday</th>\n",
       "      <th>hour</th>\n",
       "      <th>...</th>\n",
       "      <th>ARPPU_20</th>\n",
       "      <th>ARPPU_21</th>\n",
       "      <th>AVC_20</th>\n",
       "      <th>AVC_21</th>\n",
       "      <th>ASC_20</th>\n",
       "      <th>ASC_21</th>\n",
       "      <th>purchase_trend</th>\n",
       "      <th>product_num</th>\n",
       "      <th>price</th>\n",
       "      <th>price_grade</th>\n",
       "    </tr>\n",
       "  </thead>\n",
       "  <tbody>\n",
       "    <tr>\n",
       "      <th>0</th>\n",
       "      <td>0</td>\n",
       "      <td>10011</td>\n",
       "      <td>100</td>\n",
       "      <td>81317</td>\n",
       "      <td>4</td>\n",
       "      <td>325268</td>\n",
       "      <td>2020-09-17</td>\n",
       "      <td>2020</td>\n",
       "      <td>3</td>\n",
       "      <td>13</td>\n",
       "      <td>...</td>\n",
       "      <td>313305.0</td>\n",
       "      <td>207223.0</td>\n",
       "      <td>10</td>\n",
       "      <td>5</td>\n",
       "      <td>3133050</td>\n",
       "      <td>1036117</td>\n",
       "      <td>False</td>\n",
       "      <td>100</td>\n",
       "      <td>81317</td>\n",
       "      <td>1</td>\n",
       "    </tr>\n",
       "    <tr>\n",
       "      <th>1</th>\n",
       "      <td>1</td>\n",
       "      <td>10763</td>\n",
       "      <td>53</td>\n",
       "      <td>1149</td>\n",
       "      <td>4</td>\n",
       "      <td>4596</td>\n",
       "      <td>2020-08-26</td>\n",
       "      <td>2020</td>\n",
       "      <td>2</td>\n",
       "      <td>21</td>\n",
       "      <td>...</td>\n",
       "      <td>212462.0</td>\n",
       "      <td>346056.0</td>\n",
       "      <td>6</td>\n",
       "      <td>2</td>\n",
       "      <td>1274769</td>\n",
       "      <td>692113</td>\n",
       "      <td>False</td>\n",
       "      <td>53</td>\n",
       "      <td>1149</td>\n",
       "      <td>3</td>\n",
       "    </tr>\n",
       "    <tr>\n",
       "      <th>2</th>\n",
       "      <td>2</td>\n",
       "      <td>10274</td>\n",
       "      <td>61</td>\n",
       "      <td>9255</td>\n",
       "      <td>5</td>\n",
       "      <td>46275</td>\n",
       "      <td>2020-05-26</td>\n",
       "      <td>2020</td>\n",
       "      <td>1</td>\n",
       "      <td>4</td>\n",
       "      <td>...</td>\n",
       "      <td>288176.0</td>\n",
       "      <td>160816.0</td>\n",
       "      <td>4</td>\n",
       "      <td>5</td>\n",
       "      <td>1152703</td>\n",
       "      <td>804082</td>\n",
       "      <td>False</td>\n",
       "      <td>61</td>\n",
       "      <td>9255</td>\n",
       "      <td>3</td>\n",
       "    </tr>\n",
       "    <tr>\n",
       "      <th>3</th>\n",
       "      <td>3</td>\n",
       "      <td>10202</td>\n",
       "      <td>77</td>\n",
       "      <td>39153</td>\n",
       "      <td>3</td>\n",
       "      <td>117459</td>\n",
       "      <td>2020-01-25</td>\n",
       "      <td>2020</td>\n",
       "      <td>5</td>\n",
       "      <td>7</td>\n",
       "      <td>...</td>\n",
       "      <td>277308.0</td>\n",
       "      <td>131786.0</td>\n",
       "      <td>10</td>\n",
       "      <td>2</td>\n",
       "      <td>2773079</td>\n",
       "      <td>263572</td>\n",
       "      <td>False</td>\n",
       "      <td>77</td>\n",
       "      <td>39153</td>\n",
       "      <td>2</td>\n",
       "    </tr>\n",
       "    <tr>\n",
       "      <th>4</th>\n",
       "      <td>4</td>\n",
       "      <td>10978</td>\n",
       "      <td>59</td>\n",
       "      <td>43625</td>\n",
       "      <td>1</td>\n",
       "      <td>43625</td>\n",
       "      <td>2020-09-06</td>\n",
       "      <td>2020</td>\n",
       "      <td>6</td>\n",
       "      <td>1</td>\n",
       "      <td>...</td>\n",
       "      <td>103999.0</td>\n",
       "      <td>111372.0</td>\n",
       "      <td>8</td>\n",
       "      <td>6</td>\n",
       "      <td>831992</td>\n",
       "      <td>668235</td>\n",
       "      <td>False</td>\n",
       "      <td>59</td>\n",
       "      <td>43625</td>\n",
       "      <td>2</td>\n",
       "    </tr>\n",
       "    <tr>\n",
       "      <th>...</th>\n",
       "      <td>...</td>\n",
       "      <td>...</td>\n",
       "      <td>...</td>\n",
       "      <td>...</td>\n",
       "      <td>...</td>\n",
       "      <td>...</td>\n",
       "      <td>...</td>\n",
       "      <td>...</td>\n",
       "      <td>...</td>\n",
       "      <td>...</td>\n",
       "      <td>...</td>\n",
       "      <td>...</td>\n",
       "      <td>...</td>\n",
       "      <td>...</td>\n",
       "      <td>...</td>\n",
       "      <td>...</td>\n",
       "      <td>...</td>\n",
       "      <td>...</td>\n",
       "      <td>...</td>\n",
       "      <td>...</td>\n",
       "      <td>...</td>\n",
       "    </tr>\n",
       "    <tr>\n",
       "      <th>9995</th>\n",
       "      <td>9995</td>\n",
       "      <td>10914</td>\n",
       "      <td>95</td>\n",
       "      <td>39054</td>\n",
       "      <td>6</td>\n",
       "      <td>234324</td>\n",
       "      <td>2020-07-16</td>\n",
       "      <td>2020</td>\n",
       "      <td>3</td>\n",
       "      <td>22</td>\n",
       "      <td>...</td>\n",
       "      <td>177501.0</td>\n",
       "      <td>236003.0</td>\n",
       "      <td>8</td>\n",
       "      <td>5</td>\n",
       "      <td>1420011</td>\n",
       "      <td>1180017</td>\n",
       "      <td>False</td>\n",
       "      <td>95</td>\n",
       "      <td>39054</td>\n",
       "      <td>2</td>\n",
       "    </tr>\n",
       "    <tr>\n",
       "      <th>9996</th>\n",
       "      <td>9996</td>\n",
       "      <td>10628</td>\n",
       "      <td>24</td>\n",
       "      <td>41651</td>\n",
       "      <td>4</td>\n",
       "      <td>166604</td>\n",
       "      <td>2020-03-20</td>\n",
       "      <td>2020</td>\n",
       "      <td>4</td>\n",
       "      <td>22</td>\n",
       "      <td>...</td>\n",
       "      <td>178052.0</td>\n",
       "      <td>161375.0</td>\n",
       "      <td>9</td>\n",
       "      <td>1</td>\n",
       "      <td>1602466</td>\n",
       "      <td>161375</td>\n",
       "      <td>False</td>\n",
       "      <td>24</td>\n",
       "      <td>41651</td>\n",
       "      <td>2</td>\n",
       "    </tr>\n",
       "    <tr>\n",
       "      <th>9997</th>\n",
       "      <td>9997</td>\n",
       "      <td>10531</td>\n",
       "      <td>4</td>\n",
       "      <td>34936</td>\n",
       "      <td>3</td>\n",
       "      <td>104808</td>\n",
       "      <td>2020-07-18</td>\n",
       "      <td>2020</td>\n",
       "      <td>5</td>\n",
       "      <td>5</td>\n",
       "      <td>...</td>\n",
       "      <td>265871.0</td>\n",
       "      <td>220607.0</td>\n",
       "      <td>6</td>\n",
       "      <td>6</td>\n",
       "      <td>1595224</td>\n",
       "      <td>1323643</td>\n",
       "      <td>False</td>\n",
       "      <td>4</td>\n",
       "      <td>34936</td>\n",
       "      <td>2</td>\n",
       "    </tr>\n",
       "    <tr>\n",
       "      <th>9998</th>\n",
       "      <td>9998</td>\n",
       "      <td>10702</td>\n",
       "      <td>66</td>\n",
       "      <td>19677</td>\n",
       "      <td>2</td>\n",
       "      <td>39354</td>\n",
       "      <td>2021-11-01</td>\n",
       "      <td>2021</td>\n",
       "      <td>0</td>\n",
       "      <td>10</td>\n",
       "      <td>...</td>\n",
       "      <td>160560.0</td>\n",
       "      <td>106538.0</td>\n",
       "      <td>2</td>\n",
       "      <td>2</td>\n",
       "      <td>321119</td>\n",
       "      <td>213075</td>\n",
       "      <td>False</td>\n",
       "      <td>66</td>\n",
       "      <td>19677</td>\n",
       "      <td>3</td>\n",
       "    </tr>\n",
       "    <tr>\n",
       "      <th>9999</th>\n",
       "      <td>9999</td>\n",
       "      <td>10368</td>\n",
       "      <td>59</td>\n",
       "      <td>43625</td>\n",
       "      <td>1</td>\n",
       "      <td>43625</td>\n",
       "      <td>2020-01-19</td>\n",
       "      <td>2020</td>\n",
       "      <td>6</td>\n",
       "      <td>20</td>\n",
       "      <td>...</td>\n",
       "      <td>178478.0</td>\n",
       "      <td>74443.0</td>\n",
       "      <td>7</td>\n",
       "      <td>4</td>\n",
       "      <td>1249343</td>\n",
       "      <td>297771</td>\n",
       "      <td>False</td>\n",
       "      <td>59</td>\n",
       "      <td>43625</td>\n",
       "      <td>2</td>\n",
       "    </tr>\n",
       "  </tbody>\n",
       "</table>\n",
       "<p>10000 rows × 27 columns</p>\n",
       "</div>"
      ],
      "text/plain": [
       "      num_ts  cusno_ts  product_num_ts  price_ts quantity  amount       date  \\\n",
       "0          0     10011             100     81317        4  325268 2020-09-17   \n",
       "1          1     10763              53      1149        4    4596 2020-08-26   \n",
       "2          2     10274              61      9255        5   46275 2020-05-26   \n",
       "3          3     10202              77     39153        3  117459 2020-01-25   \n",
       "4          4     10978              59     43625        1   43625 2020-09-06   \n",
       "...      ...       ...             ...       ...      ...     ...        ...   \n",
       "9995    9995     10914              95     39054        6  234324 2020-07-16   \n",
       "9996    9996     10628              24     41651        4  166604 2020-03-20   \n",
       "9997    9997     10531               4     34936        3  104808 2020-07-18   \n",
       "9998    9998     10702              66     19677        2   39354 2021-11-01   \n",
       "9999    9999     10368              59     43625        1   43625 2020-01-19   \n",
       "\n",
       "      year  weekday  hour  ...  ARPPU_20  ARPPU_21  AVC_20  AVC_21   ASC_20  \\\n",
       "0     2020        3    13  ...  313305.0  207223.0      10       5  3133050   \n",
       "1     2020        2    21  ...  212462.0  346056.0       6       2  1274769   \n",
       "2     2020        1     4  ...  288176.0  160816.0       4       5  1152703   \n",
       "3     2020        5     7  ...  277308.0  131786.0      10       2  2773079   \n",
       "4     2020        6     1  ...  103999.0  111372.0       8       6   831992   \n",
       "...    ...      ...   ...  ...       ...       ...     ...     ...      ...   \n",
       "9995  2020        3    22  ...  177501.0  236003.0       8       5  1420011   \n",
       "9996  2020        4    22  ...  178052.0  161375.0       9       1  1602466   \n",
       "9997  2020        5     5  ...  265871.0  220607.0       6       6  1595224   \n",
       "9998  2021        0    10  ...  160560.0  106538.0       2       2   321119   \n",
       "9999  2020        6    20  ...  178478.0   74443.0       7       4  1249343   \n",
       "\n",
       "       ASC_21 purchase_trend  product_num  price  price_grade  \n",
       "0     1036117          False          100  81317            1  \n",
       "1      692113          False           53   1149            3  \n",
       "2      804082          False           61   9255            3  \n",
       "3      263572          False           77  39153            2  \n",
       "4      668235          False           59  43625            2  \n",
       "...       ...            ...          ...    ...          ...  \n",
       "9995  1180017          False           95  39054            2  \n",
       "9996   161375          False           24  41651            2  \n",
       "9997  1323643          False            4  34936            2  \n",
       "9998   213075          False           66  19677            3  \n",
       "9999   297771          False           59  43625            2  \n",
       "\n",
       "[10000 rows x 27 columns]"
      ]
     },
     "execution_count": 40,
     "metadata": {},
     "output_type": "execute_result"
    }
   ],
   "source": [
    "# Merge purchase and customer\n",
    "df = purchase.merge(customer, how='left', left_on='cusno_ts', right_on='cusno', left_index=False,\n",
    "                    right_index=False, sort=False, suffixes=('_ts', '_c'), copy=True, indicator=False, validate=None)\n",
    "\n",
    "# Merge additional product\n",
    "df = df.merge(product, how='left', left_on='product_num_ts',\n",
    "              right_on='product_num', suffixes=('', '_p'), copy=True, indicator=False,)\n",
    "df"
   ]
  },
  {
   "cell_type": "code",
   "execution_count": 41,
   "id": "b536760e",
   "metadata": {
    "ExecuteTime": {
     "end_time": "2022-07-16T19:40:58.159722Z",
     "start_time": "2022-07-16T19:40:58.148193Z"
    },
    "scrolled": true
   },
   "outputs": [
    {
     "data": {
      "text/html": [
       "<div>\n",
       "<style scoped>\n",
       "    .dataframe tbody tr th:only-of-type {\n",
       "        vertical-align: middle;\n",
       "    }\n",
       "\n",
       "    .dataframe tbody tr th {\n",
       "        vertical-align: top;\n",
       "    }\n",
       "\n",
       "    .dataframe thead th {\n",
       "        text-align: right;\n",
       "    }\n",
       "</style>\n",
       "<table border=\"1\" class=\"dataframe\">\n",
       "  <thead>\n",
       "    <tr style=\"text-align: right;\">\n",
       "      <th></th>\n",
       "      <th>num_ts</th>\n",
       "      <th>date</th>\n",
       "      <th>product_num</th>\n",
       "      <th>price</th>\n",
       "      <th>price_grade</th>\n",
       "      <th>quantity</th>\n",
       "      <th>amount</th>\n",
       "      <th>year</th>\n",
       "      <th>weekday</th>\n",
       "      <th>hour</th>\n",
       "      <th>...</th>\n",
       "      <th>income</th>\n",
       "      <th>grade_20</th>\n",
       "      <th>grade_21</th>\n",
       "      <th>ARPPU_20</th>\n",
       "      <th>ARPPU_21</th>\n",
       "      <th>AVC_20</th>\n",
       "      <th>AVC_21</th>\n",
       "      <th>ASC_20</th>\n",
       "      <th>ASC_21</th>\n",
       "      <th>purchase_trend</th>\n",
       "    </tr>\n",
       "  </thead>\n",
       "  <tbody>\n",
       "    <tr>\n",
       "      <th>0</th>\n",
       "      <td>0</td>\n",
       "      <td>2020-09-17</td>\n",
       "      <td>100</td>\n",
       "      <td>81317</td>\n",
       "      <td>1</td>\n",
       "      <td>4</td>\n",
       "      <td>325268</td>\n",
       "      <td>2020</td>\n",
       "      <td>3</td>\n",
       "      <td>13</td>\n",
       "      <td>...</td>\n",
       "      <td>27927</td>\n",
       "      <td>VIP</td>\n",
       "      <td>Gold</td>\n",
       "      <td>313305.0</td>\n",
       "      <td>207223.0</td>\n",
       "      <td>10</td>\n",
       "      <td>5</td>\n",
       "      <td>3133050</td>\n",
       "      <td>1036117</td>\n",
       "      <td>False</td>\n",
       "    </tr>\n",
       "    <tr>\n",
       "      <th>1</th>\n",
       "      <td>1</td>\n",
       "      <td>2020-08-26</td>\n",
       "      <td>53</td>\n",
       "      <td>1149</td>\n",
       "      <td>3</td>\n",
       "      <td>4</td>\n",
       "      <td>4596</td>\n",
       "      <td>2020</td>\n",
       "      <td>2</td>\n",
       "      <td>21</td>\n",
       "      <td>...</td>\n",
       "      <td>7987</td>\n",
       "      <td>Silver</td>\n",
       "      <td>Silver</td>\n",
       "      <td>212462.0</td>\n",
       "      <td>346056.0</td>\n",
       "      <td>6</td>\n",
       "      <td>2</td>\n",
       "      <td>1274769</td>\n",
       "      <td>692113</td>\n",
       "      <td>False</td>\n",
       "    </tr>\n",
       "    <tr>\n",
       "      <th>2</th>\n",
       "      <td>2</td>\n",
       "      <td>2020-05-26</td>\n",
       "      <td>61</td>\n",
       "      <td>9255</td>\n",
       "      <td>3</td>\n",
       "      <td>5</td>\n",
       "      <td>46275</td>\n",
       "      <td>2020</td>\n",
       "      <td>1</td>\n",
       "      <td>4</td>\n",
       "      <td>...</td>\n",
       "      <td>30927</td>\n",
       "      <td>Silver</td>\n",
       "      <td>Silver</td>\n",
       "      <td>288176.0</td>\n",
       "      <td>160816.0</td>\n",
       "      <td>4</td>\n",
       "      <td>5</td>\n",
       "      <td>1152703</td>\n",
       "      <td>804082</td>\n",
       "      <td>False</td>\n",
       "    </tr>\n",
       "    <tr>\n",
       "      <th>3</th>\n",
       "      <td>3</td>\n",
       "      <td>2020-01-25</td>\n",
       "      <td>77</td>\n",
       "      <td>39153</td>\n",
       "      <td>2</td>\n",
       "      <td>3</td>\n",
       "      <td>117459</td>\n",
       "      <td>2020</td>\n",
       "      <td>5</td>\n",
       "      <td>7</td>\n",
       "      <td>...</td>\n",
       "      <td>297577</td>\n",
       "      <td>Gold</td>\n",
       "      <td>Silver</td>\n",
       "      <td>277308.0</td>\n",
       "      <td>131786.0</td>\n",
       "      <td>10</td>\n",
       "      <td>2</td>\n",
       "      <td>2773079</td>\n",
       "      <td>263572</td>\n",
       "      <td>False</td>\n",
       "    </tr>\n",
       "    <tr>\n",
       "      <th>4</th>\n",
       "      <td>4</td>\n",
       "      <td>2020-09-06</td>\n",
       "      <td>59</td>\n",
       "      <td>43625</td>\n",
       "      <td>2</td>\n",
       "      <td>1</td>\n",
       "      <td>43625</td>\n",
       "      <td>2020</td>\n",
       "      <td>6</td>\n",
       "      <td>1</td>\n",
       "      <td>...</td>\n",
       "      <td>13864</td>\n",
       "      <td>Silver</td>\n",
       "      <td>Silver</td>\n",
       "      <td>103999.0</td>\n",
       "      <td>111372.0</td>\n",
       "      <td>8</td>\n",
       "      <td>6</td>\n",
       "      <td>831992</td>\n",
       "      <td>668235</td>\n",
       "      <td>False</td>\n",
       "    </tr>\n",
       "    <tr>\n",
       "      <th>...</th>\n",
       "      <td>...</td>\n",
       "      <td>...</td>\n",
       "      <td>...</td>\n",
       "      <td>...</td>\n",
       "      <td>...</td>\n",
       "      <td>...</td>\n",
       "      <td>...</td>\n",
       "      <td>...</td>\n",
       "      <td>...</td>\n",
       "      <td>...</td>\n",
       "      <td>...</td>\n",
       "      <td>...</td>\n",
       "      <td>...</td>\n",
       "      <td>...</td>\n",
       "      <td>...</td>\n",
       "      <td>...</td>\n",
       "      <td>...</td>\n",
       "      <td>...</td>\n",
       "      <td>...</td>\n",
       "      <td>...</td>\n",
       "      <td>...</td>\n",
       "    </tr>\n",
       "    <tr>\n",
       "      <th>9995</th>\n",
       "      <td>9995</td>\n",
       "      <td>2020-07-16</td>\n",
       "      <td>95</td>\n",
       "      <td>39054</td>\n",
       "      <td>2</td>\n",
       "      <td>6</td>\n",
       "      <td>234324</td>\n",
       "      <td>2020</td>\n",
       "      <td>3</td>\n",
       "      <td>22</td>\n",
       "      <td>...</td>\n",
       "      <td>29545</td>\n",
       "      <td>Silver</td>\n",
       "      <td>Gold</td>\n",
       "      <td>177501.0</td>\n",
       "      <td>236003.0</td>\n",
       "      <td>8</td>\n",
       "      <td>5</td>\n",
       "      <td>1420011</td>\n",
       "      <td>1180017</td>\n",
       "      <td>False</td>\n",
       "    </tr>\n",
       "    <tr>\n",
       "      <th>9996</th>\n",
       "      <td>9996</td>\n",
       "      <td>2020-03-20</td>\n",
       "      <td>24</td>\n",
       "      <td>41651</td>\n",
       "      <td>2</td>\n",
       "      <td>4</td>\n",
       "      <td>166604</td>\n",
       "      <td>2020</td>\n",
       "      <td>4</td>\n",
       "      <td>22</td>\n",
       "      <td>...</td>\n",
       "      <td>56801</td>\n",
       "      <td>Gold</td>\n",
       "      <td>Silver</td>\n",
       "      <td>178052.0</td>\n",
       "      <td>161375.0</td>\n",
       "      <td>9</td>\n",
       "      <td>1</td>\n",
       "      <td>1602466</td>\n",
       "      <td>161375</td>\n",
       "      <td>False</td>\n",
       "    </tr>\n",
       "    <tr>\n",
       "      <th>9997</th>\n",
       "      <td>9997</td>\n",
       "      <td>2020-07-18</td>\n",
       "      <td>4</td>\n",
       "      <td>34936</td>\n",
       "      <td>2</td>\n",
       "      <td>3</td>\n",
       "      <td>104808</td>\n",
       "      <td>2020</td>\n",
       "      <td>5</td>\n",
       "      <td>5</td>\n",
       "      <td>...</td>\n",
       "      <td>29740</td>\n",
       "      <td>Gold</td>\n",
       "      <td>Gold</td>\n",
       "      <td>265871.0</td>\n",
       "      <td>220607.0</td>\n",
       "      <td>6</td>\n",
       "      <td>6</td>\n",
       "      <td>1595224</td>\n",
       "      <td>1323643</td>\n",
       "      <td>False</td>\n",
       "    </tr>\n",
       "    <tr>\n",
       "      <th>9998</th>\n",
       "      <td>9998</td>\n",
       "      <td>2021-11-01</td>\n",
       "      <td>66</td>\n",
       "      <td>19677</td>\n",
       "      <td>3</td>\n",
       "      <td>2</td>\n",
       "      <td>39354</td>\n",
       "      <td>2021</td>\n",
       "      <td>0</td>\n",
       "      <td>10</td>\n",
       "      <td>...</td>\n",
       "      <td>85594</td>\n",
       "      <td>Silver</td>\n",
       "      <td>Silver</td>\n",
       "      <td>160560.0</td>\n",
       "      <td>106538.0</td>\n",
       "      <td>2</td>\n",
       "      <td>2</td>\n",
       "      <td>321119</td>\n",
       "      <td>213075</td>\n",
       "      <td>False</td>\n",
       "    </tr>\n",
       "    <tr>\n",
       "      <th>9999</th>\n",
       "      <td>9999</td>\n",
       "      <td>2020-01-19</td>\n",
       "      <td>59</td>\n",
       "      <td>43625</td>\n",
       "      <td>2</td>\n",
       "      <td>1</td>\n",
       "      <td>43625</td>\n",
       "      <td>2020</td>\n",
       "      <td>6</td>\n",
       "      <td>20</td>\n",
       "      <td>...</td>\n",
       "      <td>9888</td>\n",
       "      <td>Silver</td>\n",
       "      <td>Silver</td>\n",
       "      <td>178478.0</td>\n",
       "      <td>74443.0</td>\n",
       "      <td>7</td>\n",
       "      <td>4</td>\n",
       "      <td>1249343</td>\n",
       "      <td>297771</td>\n",
       "      <td>False</td>\n",
       "    </tr>\n",
       "  </tbody>\n",
       "</table>\n",
       "<p>10000 rows × 24 columns</p>\n",
       "</div>"
      ],
      "text/plain": [
       "      num_ts       date  product_num  price price_grade quantity  amount  \\\n",
       "0          0 2020-09-17          100  81317           1        4  325268   \n",
       "1          1 2020-08-26           53   1149           3        4    4596   \n",
       "2          2 2020-05-26           61   9255           3        5   46275   \n",
       "3          3 2020-01-25           77  39153           2        3  117459   \n",
       "4          4 2020-09-06           59  43625           2        1   43625   \n",
       "...      ...        ...          ...    ...         ...      ...     ...   \n",
       "9995    9995 2020-07-16           95  39054           2        6  234324   \n",
       "9996    9996 2020-03-20           24  41651           2        4  166604   \n",
       "9997    9997 2020-07-18            4  34936           2        3  104808   \n",
       "9998    9998 2021-11-01           66  19677           3        2   39354   \n",
       "9999    9999 2020-01-19           59  43625           2        1   43625   \n",
       "\n",
       "      year  weekday  hour  ...  income  grade_20  grade_21  ARPPU_20  \\\n",
       "0     2020        3    13  ...   27927       VIP      Gold  313305.0   \n",
       "1     2020        2    21  ...    7987    Silver    Silver  212462.0   \n",
       "2     2020        1     4  ...   30927    Silver    Silver  288176.0   \n",
       "3     2020        5     7  ...  297577      Gold    Silver  277308.0   \n",
       "4     2020        6     1  ...   13864    Silver    Silver  103999.0   \n",
       "...    ...      ...   ...  ...     ...       ...       ...       ...   \n",
       "9995  2020        3    22  ...   29545    Silver      Gold  177501.0   \n",
       "9996  2020        4    22  ...   56801      Gold    Silver  178052.0   \n",
       "9997  2020        5     5  ...   29740      Gold      Gold  265871.0   \n",
       "9998  2021        0    10  ...   85594    Silver    Silver  160560.0   \n",
       "9999  2020        6    20  ...    9888    Silver    Silver  178478.0   \n",
       "\n",
       "      ARPPU_21 AVC_20 AVC_21   ASC_20   ASC_21  purchase_trend  \n",
       "0     207223.0     10      5  3133050  1036117           False  \n",
       "1     346056.0      6      2  1274769   692113           False  \n",
       "2     160816.0      4      5  1152703   804082           False  \n",
       "3     131786.0     10      2  2773079   263572           False  \n",
       "4     111372.0      8      6   831992   668235           False  \n",
       "...        ...    ...    ...      ...      ...             ...  \n",
       "9995  236003.0      8      5  1420011  1180017           False  \n",
       "9996  161375.0      9      1  1602466   161375           False  \n",
       "9997  220607.0      6      6  1595224  1323643           False  \n",
       "9998  106538.0      2      2   321119   213075           False  \n",
       "9999   74443.0      7      4  1249343   297771           False  \n",
       "\n",
       "[10000 rows x 24 columns]"
      ]
     },
     "execution_count": 41,
     "metadata": {},
     "output_type": "execute_result"
    }
   ],
   "source": [
    "# 중복을 제외하고 데이터 분석에 사용할 컬럼들로 이루어진 DataFrame 생성\n",
    "df = df.loc[:, ['num_ts', 'date', 'product_num', 'price', 'price_grade', 'quantity', 'amount',\n",
    "                'year', 'weekday', 'hour', 'cusno', 'region', 'gender', 'age', 'income',\n",
    "                'grade_20', 'grade_21', 'ARPPU_20', 'ARPPU_21', 'AVC_20', 'AVC_21', 'ASC_20', 'ASC_21', 'purchase_trend']]\n",
    "df"
   ]
  },
  {
   "cell_type": "markdown",
   "id": "1c422052",
   "metadata": {},
   "source": [
    "## 데이터 분석 및 시각화"
   ]
  },
  {
   "cell_type": "code",
   "execution_count": 42,
   "id": "573dc2aa",
   "metadata": {
    "ExecuteTime": {
     "end_time": "2022-07-16T19:40:58.166398Z",
     "start_time": "2022-07-16T19:40:58.160594Z"
    },
    "scrolled": true
   },
   "outputs": [
    {
     "data": {
      "text/plain": [
       "num_ts              0\n",
       "date                0\n",
       "product_num         0\n",
       "price               0\n",
       "price_grade         0\n",
       "quantity            0\n",
       "amount              0\n",
       "year                0\n",
       "weekday             0\n",
       "hour                0\n",
       "cusno               0\n",
       "region              0\n",
       "gender              0\n",
       "age                 0\n",
       "income              0\n",
       "grade_20            0\n",
       "grade_21            0\n",
       "ARPPU_20           15\n",
       "ARPPU_21          113\n",
       "AVC_20              0\n",
       "AVC_21              0\n",
       "ASC_20              0\n",
       "ASC_21              0\n",
       "purchase_trend      0\n",
       "dtype: int64"
      ]
     },
     "execution_count": 42,
     "metadata": {},
     "output_type": "execute_result"
    }
   ],
   "source": [
    "df.isnull().sum()"
   ]
  },
  {
   "cell_type": "code",
   "execution_count": 43,
   "id": "6b1a3328",
   "metadata": {
    "ExecuteTime": {
     "end_time": "2022-07-16T19:40:58.170041Z",
     "start_time": "2022-07-16T19:40:58.167247Z"
    },
    "scrolled": true
   },
   "outputs": [
    {
     "data": {
      "text/plain": [
       "0       15\n",
       "1       71\n",
       "2      214\n",
       "3      579\n",
       "4     1182\n",
       "5     1609\n",
       "6     1640\n",
       "7     1302\n",
       "8     1120\n",
       "9      821\n",
       "10     665\n",
       "11     423\n",
       "12      82\n",
       "13     170\n",
       "14      51\n",
       "15      17\n",
       "16      39\n",
       "Name: AVC_20, dtype: int64"
      ]
     },
     "execution_count": 43,
     "metadata": {},
     "output_type": "execute_result"
    }
   ],
   "source": [
    "df.AVC_20.value_counts().sort_index()"
   ]
  },
  {
   "cell_type": "code",
   "execution_count": 44,
   "id": "9f1332e4",
   "metadata": {
    "ExecuteTime": {
     "end_time": "2022-07-16T19:40:58.173774Z",
     "start_time": "2022-07-16T19:40:58.171046Z"
    },
    "scrolled": true
   },
   "outputs": [
    {
     "data": {
      "text/plain": [
       "0      113\n",
       "1      459\n",
       "2      943\n",
       "3     1994\n",
       "4     2206\n",
       "5     1742\n",
       "6     1075\n",
       "7      864\n",
       "8      289\n",
       "9      120\n",
       "10     100\n",
       "11      95\n",
       "Name: AVC_21, dtype: int64"
      ]
     },
     "execution_count": 44,
     "metadata": {},
     "output_type": "execute_result"
    }
   ],
   "source": [
    "df.AVC_21.value_counts().sort_index()"
   ]
  },
  {
   "cell_type": "code",
   "execution_count": 45,
   "id": "c1608c21",
   "metadata": {
    "ExecuteTime": {
     "end_time": "2022-07-16T19:40:58.369447Z",
     "start_time": "2022-07-16T19:40:58.174706Z"
    }
   },
   "outputs": [
    {
     "data": {
      "text/plain": [
       "<AxesSubplot:xlabel='a'>"
      ]
     },
     "execution_count": 45,
     "metadata": {},
     "output_type": "execute_result"
    },
    {
     "data": {
      "image/png": "[encoded data removed]",
      "text/plain": [
       "<Figure size 432x288 with 1 Axes>"
      ]
     },
     "metadata": {
      "needs_background": "light"
     },
     "output_type": "display_data"
    }
   ],
   "source": [
    "dff_date = purchase.date.unique()\n",
    "dff_date = pd.Series(dff_date, name='a')\n",
    "dff_date = dff_date.sort_values()\n",
    "dff_date.reset_index(drop=True, inplace=True)\n",
    "dff_date\n",
    "li = []\n",
    "for i in dff_date:\n",
    "    c = purchase[(purchase['date'] == i)].amount.sum()\n",
    "    li.append(c)\n",
    "\n",
    "li = pd.Series(li, name='b')\n",
    "li = li.cumsum()\n",
    "li\n",
    "df = pd.concat([dff_date, li], axis=1)\n",
    "df.set_index('a', inplace=True)\n",
    "df\n",
    "df.plot()"
   ]
  },
  {
   "cell_type": "code",
   "execution_count": 46,
   "id": "9424fa45",
   "metadata": {
    "ExecuteTime": {
     "end_time": "2022-07-16T19:40:59.626194Z",
     "start_time": "2022-07-16T19:40:58.371094Z"
    }
   },
   "outputs": [
    {
     "ename": "KeyError",
     "evalue": "'ts_product_num'",
     "output_type": "error",
     "traceback": [
      "\u001b[0;31m---------------------------------------------------------------------------\u001b[0m",
      "\u001b[0;31mKeyError\u001b[0m                                  Traceback (most recent call last)",
      "Input \u001b[0;32mIn [46]\u001b[0m, in \u001b[0;36m<cell line: 1>\u001b[0;34m()\u001b[0m\n\u001b[0;32m----> 1\u001b[0m df \u001b[38;5;241m=\u001b[39m \u001b[43mpurchase\u001b[49m\u001b[38;5;241;43m.\u001b[39;49m\u001b[43mmerge\u001b[49m\u001b[43m(\u001b[49m\u001b[43mproduct\u001b[49m\u001b[43m,\u001b[49m\u001b[43m \u001b[49m\u001b[43mleft_on\u001b[49m\u001b[38;5;241;43m=\u001b[39;49m\u001b[38;5;124;43m'\u001b[39;49m\u001b[38;5;124;43mts_product_num\u001b[39;49m\u001b[38;5;124;43m'\u001b[39;49m\u001b[43m,\u001b[49m\n\u001b[1;32m      2\u001b[0m \u001b[43m                    \u001b[49m\u001b[43mright_on\u001b[49m\u001b[38;5;241;43m=\u001b[39;49m\u001b[38;5;124;43m'\u001b[39;49m\u001b[38;5;124;43mproduct_num\u001b[39;49m\u001b[38;5;124;43m'\u001b[39;49m\u001b[43m,\u001b[49m\u001b[43m \u001b[49m\u001b[43mhow\u001b[49m\u001b[38;5;241;43m=\u001b[39;49m\u001b[38;5;124;43m'\u001b[39;49m\u001b[38;5;124;43mouter\u001b[39;49m\u001b[38;5;124;43m'\u001b[39;49m\u001b[43m)\u001b[49m\n\u001b[1;32m      3\u001b[0m df\n\u001b[1;32m      5\u001b[0m \u001b[38;5;66;03m# df = df.price_grade.map(lambda x: int(x))\u001b[39;00m\n",
      "File \u001b[0;32m/opt/homebrew/Caskroom/miniconda/base/envs/cakd7/lib/python3.8/site-packages/pandas/core/frame.py:9339\u001b[0m, in \u001b[0;36mDataFrame.merge\u001b[0;34m(self, right, how, on, left_on, right_on, left_index, right_index, sort, suffixes, copy, indicator, validate)\u001b[0m\n\u001b[1;32m   9320\u001b[0m \u001b[38;5;129m@Substitution\u001b[39m(\u001b[38;5;124m\"\u001b[39m\u001b[38;5;124m\"\u001b[39m)\n\u001b[1;32m   9321\u001b[0m \u001b[38;5;129m@Appender\u001b[39m(_merge_doc, indents\u001b[38;5;241m=\u001b[39m\u001b[38;5;241m2\u001b[39m)\n\u001b[1;32m   9322\u001b[0m \u001b[38;5;28;01mdef\u001b[39;00m \u001b[38;5;21mmerge\u001b[39m(\n\u001b[0;32m   (...)\u001b[0m\n\u001b[1;32m   9335\u001b[0m     validate: \u001b[38;5;28mstr\u001b[39m \u001b[38;5;241m|\u001b[39m \u001b[38;5;28;01mNone\u001b[39;00m \u001b[38;5;241m=\u001b[39m \u001b[38;5;28;01mNone\u001b[39;00m,\n\u001b[1;32m   9336\u001b[0m ) \u001b[38;5;241m-\u001b[39m\u001b[38;5;241m>\u001b[39m DataFrame:\n\u001b[1;32m   9337\u001b[0m     \u001b[38;5;28;01mfrom\u001b[39;00m \u001b[38;5;21;01mpandas\u001b[39;00m\u001b[38;5;21;01m.\u001b[39;00m\u001b[38;5;21;01mcore\u001b[39;00m\u001b[38;5;21;01m.\u001b[39;00m\u001b[38;5;21;01mreshape\u001b[39;00m\u001b[38;5;21;01m.\u001b[39;00m\u001b[38;5;21;01mmerge\u001b[39;00m \u001b[38;5;28;01mimport\u001b[39;00m merge\n\u001b[0;32m-> 9339\u001b[0m     \u001b[38;5;28;01mreturn\u001b[39;00m \u001b[43mmerge\u001b[49m\u001b[43m(\u001b[49m\n\u001b[1;32m   9340\u001b[0m \u001b[43m        \u001b[49m\u001b[38;5;28;43mself\u001b[39;49m\u001b[43m,\u001b[49m\n\u001b[1;32m   9341\u001b[0m \u001b[43m        \u001b[49m\u001b[43mright\u001b[49m\u001b[43m,\u001b[49m\n\u001b[1;32m   9342\u001b[0m \u001b[43m        \u001b[49m\u001b[43mhow\u001b[49m\u001b[38;5;241;43m=\u001b[39;49m\u001b[43mhow\u001b[49m\u001b[43m,\u001b[49m\n\u001b[1;32m   9343\u001b[0m \u001b[43m        \u001b[49m\u001b[43mon\u001b[49m\u001b[38;5;241;43m=\u001b[39;49m\u001b[43mon\u001b[49m\u001b[43m,\u001b[49m\n\u001b[1;32m   9344\u001b[0m \u001b[43m        \u001b[49m\u001b[43mleft_on\u001b[49m\u001b[38;5;241;43m=\u001b[39;49m\u001b[43mleft_on\u001b[49m\u001b[43m,\u001b[49m\n\u001b[1;32m   9345\u001b[0m \u001b[43m        \u001b[49m\u001b[43mright_on\u001b[49m\u001b[38;5;241;43m=\u001b[39;49m\u001b[43mright_on\u001b[49m\u001b[43m,\u001b[49m\n\u001b[1;32m   9346\u001b[0m \u001b[43m        \u001b[49m\u001b[43mleft_index\u001b[49m\u001b[38;5;241;43m=\u001b[39;49m\u001b[43mleft_index\u001b[49m\u001b[43m,\u001b[49m\n\u001b[1;32m   9347\u001b[0m \u001b[43m        \u001b[49m\u001b[43mright_index\u001b[49m\u001b[38;5;241;43m=\u001b[39;49m\u001b[43mright_index\u001b[49m\u001b[43m,\u001b[49m\n\u001b[1;32m   9348\u001b[0m \u001b[43m        \u001b[49m\u001b[43msort\u001b[49m\u001b[38;5;241;43m=\u001b[39;49m\u001b[43msort\u001b[49m\u001b[43m,\u001b[49m\n\u001b[1;32m   9349\u001b[0m \u001b[43m        \u001b[49m\u001b[43msuffixes\u001b[49m\u001b[38;5;241;43m=\u001b[39;49m\u001b[43msuffixes\u001b[49m\u001b[43m,\u001b[49m\n\u001b[1;32m   9350\u001b[0m \u001b[43m        \u001b[49m\u001b[43mcopy\u001b[49m\u001b[38;5;241;43m=\u001b[39;49m\u001b[43mcopy\u001b[49m\u001b[43m,\u001b[49m\n\u001b[1;32m   9351\u001b[0m \u001b[43m        \u001b[49m\u001b[43mindicator\u001b[49m\u001b[38;5;241;43m=\u001b[39;49m\u001b[43mindicator\u001b[49m\u001b[43m,\u001b[49m\n\u001b[1;32m   9352\u001b[0m \u001b[43m        \u001b[49m\u001b[43mvalidate\u001b[49m\u001b[38;5;241;43m=\u001b[39;49m\u001b[43mvalidate\u001b[49m\u001b[43m,\u001b[49m\n\u001b[1;32m   9353\u001b[0m \u001b[43m    \u001b[49m\u001b[43m)\u001b[49m\n",
      "File \u001b[0;32m/opt/homebrew/Caskroom/miniconda/base/envs/cakd7/lib/python3.8/site-packages/pandas/core/reshape/merge.py:107\u001b[0m, in \u001b[0;36mmerge\u001b[0;34m(left, right, how, on, left_on, right_on, left_index, right_index, sort, suffixes, copy, indicator, validate)\u001b[0m\n\u001b[1;32m     90\u001b[0m \u001b[38;5;129m@Substitution\u001b[39m(\u001b[38;5;124m\"\u001b[39m\u001b[38;5;130;01m\\n\u001b[39;00m\u001b[38;5;124mleft : DataFrame or named Series\u001b[39m\u001b[38;5;124m\"\u001b[39m)\n\u001b[1;32m     91\u001b[0m \u001b[38;5;129m@Appender\u001b[39m(_merge_doc, indents\u001b[38;5;241m=\u001b[39m\u001b[38;5;241m0\u001b[39m)\n\u001b[1;32m     92\u001b[0m \u001b[38;5;28;01mdef\u001b[39;00m \u001b[38;5;21mmerge\u001b[39m(\n\u001b[0;32m   (...)\u001b[0m\n\u001b[1;32m    105\u001b[0m     validate: \u001b[38;5;28mstr\u001b[39m \u001b[38;5;241m|\u001b[39m \u001b[38;5;28;01mNone\u001b[39;00m \u001b[38;5;241m=\u001b[39m \u001b[38;5;28;01mNone\u001b[39;00m,\n\u001b[1;32m    106\u001b[0m ) \u001b[38;5;241m-\u001b[39m\u001b[38;5;241m>\u001b[39m DataFrame:\n\u001b[0;32m--> 107\u001b[0m     op \u001b[38;5;241m=\u001b[39m \u001b[43m_MergeOperation\u001b[49m\u001b[43m(\u001b[49m\n\u001b[1;32m    108\u001b[0m \u001b[43m        \u001b[49m\u001b[43mleft\u001b[49m\u001b[43m,\u001b[49m\n\u001b[1;32m    109\u001b[0m \u001b[43m        \u001b[49m\u001b[43mright\u001b[49m\u001b[43m,\u001b[49m\n\u001b[1;32m    110\u001b[0m \u001b[43m        \u001b[49m\u001b[43mhow\u001b[49m\u001b[38;5;241;43m=\u001b[39;49m\u001b[43mhow\u001b[49m\u001b[43m,\u001b[49m\n\u001b[1;32m    111\u001b[0m \u001b[43m        \u001b[49m\u001b[43mon\u001b[49m\u001b[38;5;241;43m=\u001b[39;49m\u001b[43mon\u001b[49m\u001b[43m,\u001b[49m\n\u001b[1;32m    112\u001b[0m \u001b[43m        \u001b[49m\u001b[43mleft_on\u001b[49m\u001b[38;5;241;43m=\u001b[39;49m\u001b[43mleft_on\u001b[49m\u001b[43m,\u001b[49m\n\u001b[1;32m    113\u001b[0m \u001b[43m        \u001b[49m\u001b[43mright_on\u001b[49m\u001b[38;5;241;43m=\u001b[39;49m\u001b[43mright_on\u001b[49m\u001b[43m,\u001b[49m\n\u001b[1;32m    114\u001b[0m \u001b[43m        \u001b[49m\u001b[43mleft_index\u001b[49m\u001b[38;5;241;43m=\u001b[39;49m\u001b[43mleft_index\u001b[49m\u001b[43m,\u001b[49m\n\u001b[1;32m    115\u001b[0m \u001b[43m        \u001b[49m\u001b[43mright_index\u001b[49m\u001b[38;5;241;43m=\u001b[39;49m\u001b[43mright_index\u001b[49m\u001b[43m,\u001b[49m\n\u001b[1;32m    116\u001b[0m \u001b[43m        \u001b[49m\u001b[43msort\u001b[49m\u001b[38;5;241;43m=\u001b[39;49m\u001b[43msort\u001b[49m\u001b[43m,\u001b[49m\n\u001b[1;32m    117\u001b[0m \u001b[43m        \u001b[49m\u001b[43msuffixes\u001b[49m\u001b[38;5;241;43m=\u001b[39;49m\u001b[43msuffixes\u001b[49m\u001b[43m,\u001b[49m\n\u001b[1;32m    118\u001b[0m \u001b[43m        \u001b[49m\u001b[43mcopy\u001b[49m\u001b[38;5;241;43m=\u001b[39;49m\u001b[43mcopy\u001b[49m\u001b[43m,\u001b[49m\n\u001b[1;32m    119\u001b[0m \u001b[43m        \u001b[49m\u001b[43mindicator\u001b[49m\u001b[38;5;241;43m=\u001b[39;49m\u001b[43mindicator\u001b[49m\u001b[43m,\u001b[49m\n\u001b[1;32m    120\u001b[0m \u001b[43m        \u001b[49m\u001b[43mvalidate\u001b[49m\u001b[38;5;241;43m=\u001b[39;49m\u001b[43mvalidate\u001b[49m\u001b[43m,\u001b[49m\n\u001b[1;32m    121\u001b[0m \u001b[43m    \u001b[49m\u001b[43m)\u001b[49m\n\u001b[1;32m    122\u001b[0m     \u001b[38;5;28;01mreturn\u001b[39;00m op\u001b[38;5;241m.\u001b[39mget_result()\n",
      "File \u001b[0;32m/opt/homebrew/Caskroom/miniconda/base/envs/cakd7/lib/python3.8/site-packages/pandas/core/reshape/merge.py:700\u001b[0m, in \u001b[0;36m_MergeOperation.__init__\u001b[0;34m(self, left, right, how, on, left_on, right_on, axis, left_index, right_index, sort, suffixes, copy, indicator, validate)\u001b[0m\n\u001b[1;32m    693\u001b[0m \u001b[38;5;28mself\u001b[39m\u001b[38;5;241m.\u001b[39m_cross \u001b[38;5;241m=\u001b[39m cross_col\n\u001b[1;32m    695\u001b[0m \u001b[38;5;66;03m# note this function has side effects\u001b[39;00m\n\u001b[1;32m    696\u001b[0m (\n\u001b[1;32m    697\u001b[0m     \u001b[38;5;28mself\u001b[39m\u001b[38;5;241m.\u001b[39mleft_join_keys,\n\u001b[1;32m    698\u001b[0m     \u001b[38;5;28mself\u001b[39m\u001b[38;5;241m.\u001b[39mright_join_keys,\n\u001b[1;32m    699\u001b[0m     \u001b[38;5;28mself\u001b[39m\u001b[38;5;241m.\u001b[39mjoin_names,\n\u001b[0;32m--> 700\u001b[0m ) \u001b[38;5;241m=\u001b[39m \u001b[38;5;28;43mself\u001b[39;49m\u001b[38;5;241;43m.\u001b[39;49m\u001b[43m_get_merge_keys\u001b[49m\u001b[43m(\u001b[49m\u001b[43m)\u001b[49m\n\u001b[1;32m    702\u001b[0m \u001b[38;5;66;03m# validate the merge keys dtypes. We may need to coerce\u001b[39;00m\n\u001b[1;32m    703\u001b[0m \u001b[38;5;66;03m# to avoid incompatible dtypes\u001b[39;00m\n\u001b[1;32m    704\u001b[0m \u001b[38;5;28mself\u001b[39m\u001b[38;5;241m.\u001b[39m_maybe_coerce_merge_keys()\n",
      "File \u001b[0;32m/opt/homebrew/Caskroom/miniconda/base/envs/cakd7/lib/python3.8/site-packages/pandas/core/reshape/merge.py:1110\u001b[0m, in \u001b[0;36m_MergeOperation._get_merge_keys\u001b[0;34m(self)\u001b[0m\n\u001b[1;32m   1108\u001b[0m     right_keys\u001b[38;5;241m.\u001b[39mappend(rk)\n\u001b[1;32m   1109\u001b[0m \u001b[38;5;28;01mif\u001b[39;00m lk \u001b[38;5;129;01mis\u001b[39;00m \u001b[38;5;129;01mnot\u001b[39;00m \u001b[38;5;28;01mNone\u001b[39;00m:\n\u001b[0;32m-> 1110\u001b[0m     left_keys\u001b[38;5;241m.\u001b[39mappend(\u001b[43mleft\u001b[49m\u001b[38;5;241;43m.\u001b[39;49m\u001b[43m_get_label_or_level_values\u001b[49m\u001b[43m(\u001b[49m\u001b[43mlk\u001b[49m\u001b[43m)\u001b[49m)\n\u001b[1;32m   1111\u001b[0m     join_names\u001b[38;5;241m.\u001b[39mappend(lk)\n\u001b[1;32m   1112\u001b[0m \u001b[38;5;28;01melse\u001b[39;00m:\n\u001b[1;32m   1113\u001b[0m     \u001b[38;5;66;03m# work-around for merge_asof(left_index=True)\u001b[39;00m\n",
      "File \u001b[0;32m/opt/homebrew/Caskroom/miniconda/base/envs/cakd7/lib/python3.8/site-packages/pandas/core/generic.py:1848\u001b[0m, in \u001b[0;36mNDFrame._get_label_or_level_values\u001b[0;34m(self, key, axis)\u001b[0m\n\u001b[1;32m   1846\u001b[0m     values \u001b[38;5;241m=\u001b[39m \u001b[38;5;28mself\u001b[39m\u001b[38;5;241m.\u001b[39maxes[axis]\u001b[38;5;241m.\u001b[39mget_level_values(key)\u001b[38;5;241m.\u001b[39m_values\n\u001b[1;32m   1847\u001b[0m \u001b[38;5;28;01melse\u001b[39;00m:\n\u001b[0;32m-> 1848\u001b[0m     \u001b[38;5;28;01mraise\u001b[39;00m \u001b[38;5;167;01mKeyError\u001b[39;00m(key)\n\u001b[1;32m   1850\u001b[0m \u001b[38;5;66;03m# Check for duplicates\u001b[39;00m\n\u001b[1;32m   1851\u001b[0m \u001b[38;5;28;01mif\u001b[39;00m values\u001b[38;5;241m.\u001b[39mndim \u001b[38;5;241m>\u001b[39m \u001b[38;5;241m1\u001b[39m:\n",
      "\u001b[0;31mKeyError\u001b[0m: 'ts_product_num'"
     ]
    }
   ],
   "source": [
    "df = purchase.merge(product, left_on='ts_product_num',\n",
    "                    right_on='product_num', how='outer')\n",
    "df\n",
    "\n",
    "# df = df.price_grade.map(lambda x: int(x))\n",
    "df_20 = df[df['year'] == 2020].price_grade.value_counts()\n",
    "df_20\n",
    "df_21 = df[df['year'] == 2021].price_grade.value_counts()\n",
    "df_21\n",
    "\n",
    "df_00 = pd.concat([df_20, df_21], axis=1)\n",
    "df_00.plot(kind='bar')\n",
    "\n",
    "# y = df\n",
    "# x = range(len(y))\n",
    "# plt.figure(figsize=(10,6))\n",
    "# plt.bar(x,y,width=0.7,color='skyblue')\n",
    "# plt.title('Bar Plot',size=30)"
   ]
  },
  {
   "cell_type": "code",
   "execution_count": null,
   "id": "fe19448d",
   "metadata": {
    "ExecuteTime": {
     "end_time": "2022-07-16T19:40:59.627638Z",
     "start_time": "2022-07-16T19:40:52.807Z"
    },
    "scrolled": false
   },
   "outputs": [],
   "source": [
    "grid = sns.FacetGrid(purchase, row='year', col='day', height=2.2, aspect=1.6)\n",
    "grid.map(plt.hist, 'amount', alpha=.5, bins=20)\n",
    "grid.add_legend()"
   ]
  },
  {
   "cell_type": "code",
   "execution_count": null,
   "id": "a24fd6fb",
   "metadata": {
    "ExecuteTime": {
     "end_time": "2022-07-16T19:40:59.628636Z",
     "start_time": "2022-07-16T19:40:52.808Z"
    }
   },
   "outputs": [],
   "source": [
    "grid = sns.FacetGrid(X_train, row='embarked',\n",
    "                     col='survived', height=2.2, aspect=1.6)\n",
    "\n",
    "# 바그래프로 시각화, x: 성별, y: 요금, Error bar: 표시 안 함\n",
    "grid.map(sns.barplot, 'sex', 'fare', alpha=.5,\n",
    "         ci=None, order=[\"male\", \"female\"])\n",
    "\n",
    "grid.add_legend()"
   ]
  },
  {
   "cell_type": "code",
   "execution_count": null,
   "id": "bec723bd",
   "metadata": {
    "ExecuteTime": {
     "end_time": "2022-07-16T19:40:59.629352Z",
     "start_time": "2022-07-16T19:40:52.808Z"
    }
   },
   "outputs": [],
   "source": [
    "grid = sns.FacetGrid(X_train, row='embarked', height=2.2, aspect=1.6)\n",
    "\n",
    "# Pointplot으로 시각화, x: 객실 등급, y: 생존 여부, 색깔: 성별, x축 순서: [1, 2, 3], 색깔 순서: [남성, 여성]\n",
    "grid.map(sns.pointplot, 'pclass', 'survived', 'sex', palette='deep',\n",
    "         order=[1, 2, 3], hue_order=[\"male\", \"female\"])\n",
    "\n",
    "grid.add_legend()"
   ]
  },
  {
   "cell_type": "code",
   "execution_count": null,
   "id": "2309e6c4",
   "metadata": {
    "ExecuteTime": {
     "end_time": "2022-07-16T19:40:59.630213Z",
     "start_time": "2022-07-16T19:40:52.809Z"
    }
   },
   "outputs": [],
   "source": [
    "from sklearn import preprocessing\n",
    "from sklearn.model_selection import train_test_split\n",
    "\n",
    "# 독립변수, 종속 변수 분리\n",
    "X = df_1[['gender_c', 'age_c', 'region_c', 'ARPPU_20_c',\n",
    "          'AVC_20_c', 'AVC_21_c', 'amount_20_p']]\n",
    "y = df_1['sales_trend']\n",
    "\n",
    "# 학습용 테이터와 평가용 데이터를 8:2로 분리\n",
    "X_train, X_test, y_train, y_test = train_test_split(X, y, test_size=0.2,\n",
    "                                                    random_state=10)\n",
    "print(X_train.shape)\n",
    "print(X_test.shape)"
   ]
  },
  {
   "cell_type": "code",
   "execution_count": null,
   "id": "460edd9f",
   "metadata": {
    "ExecuteTime": {
     "end_time": "2022-07-16T19:40:59.631132Z",
     "start_time": "2022-07-16T19:40:52.810Z"
    }
   },
   "outputs": [],
   "source": [
    "# Decision Tree\n",
    "from sklearn.metrics import accuracy_score\n",
    "from sklearn.tree import DecisionTreeClassifier\n",
    "dt_model = DecisionTreeClassifier()\n",
    "dt_model.fit(X_train, y_train)\n",
    "dt_pred = dt_model.predict(X_test)\n",
    "\n",
    "print(dt_pred[0:10])\n",
    "print(y_test.values[0:10])\n",
    "\n",
    "accuracy = accuracy_score(y_test, dt_pred)\n",
    "print('dt 예측 정확도 :', accuracy)"
   ]
  },
  {
   "cell_type": "code",
   "execution_count": null,
   "id": "9b4e0df5",
   "metadata": {
    "ExecuteTime": {
     "end_time": "2022-07-16T19:40:59.632553Z",
     "start_time": "2022-07-16T19:40:52.810Z"
    }
   },
   "outputs": [],
   "source": [
    "# Random Forest\n",
    "from sklearn.ensemble import RandomForestClassifier\n",
    "\n",
    "rf_model = RandomForestClassifier()\n",
    "rf_model.fit(X_train, y_train)\n",
    "rf_pred = rf_model.predict(X_test)\n",
    "\n",
    "rf_accuracy = accuracy_score(y_test, rf_pred)\n",
    "print('rf 예측 정확도 :', rf_accuracy)"
   ]
  },
  {
   "cell_type": "code",
   "execution_count": null,
   "id": "4d20edf0",
   "metadata": {
    "ExecuteTime": {
     "end_time": "2022-07-16T19:40:59.633700Z",
     "start_time": "2022-07-16T19:40:52.811Z"
    }
   },
   "outputs": [],
   "source": [
    "# Logistic Regression\n",
    "from sklearn.linear_model import LogisticRegression\n",
    "import warnings\n",
    "warnings.filterwarnings('ignore')\n",
    "\n",
    "lr_model = LogisticRegression(random_state=0)\n",
    "lr_model.fit(X_train, y_train)\n",
    "lr_pred = lr_model.predict(X_test)\n",
    "\n",
    "lr_accuracy = accuracy_score(y_test, lr_pred)\n",
    "print('lr 예측 정확도 :', accuracy)"
   ]
  }
 ],
 "metadata": {
  "kernelspec": {
   "display_name": "Python 3",
   "language": "python",
   "name": "python3"
  },
  "language_info": {
   "codemirror_mode": {
    "name": "ipython",
    "version": 3
   },
   "file_extension": ".py",
   "mimetype": "text/x-python",
   "name": "python",
   "nbconvert_exporter": "python",
   "pygments_lexer": "ipython3",
   "version": "3.8.13"
  },
  "toc": {
   "base_numbering": 1,
   "nav_menu": {},
   "number_sections": true,
   "sideBar": true,
   "skip_h1_title": false,
   "title_cell": "Table of Contents",
   "title_sidebar": "Contents",
   "toc_cell": false,
   "toc_position": {
    "height": "772px",
    "left": "50px",
    "top": "96px",
    "width": "338.98895263671875px"
   },
   "toc_section_display": true,
   "toc_window_display": true
  }
 },
 "nbformat": 4,
 "nbformat_minor": 5
}
