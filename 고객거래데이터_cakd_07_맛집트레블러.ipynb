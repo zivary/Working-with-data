{
 "cells": [
  {
   "cell_type": "code",
   "execution_count": 1,
   "id": "a88aad96",
   "metadata": {
    "ExecuteTime": {
     "end_time": "2022-07-17T05:40:08.286616Z",
     "start_time": "2022-07-17T05:40:08.282388Z"
    }
   },
   "outputs": [
    {
     "data": {
      "text/plain": [
       "'/Users/alexkim/Documents/GitHub/sales_data_analysis'"
      ]
     },
     "execution_count": 1,
     "metadata": {},
     "output_type": "execute_result"
    }
   ],
   "source": [
    "%pwd"
   ]
  },
  {
   "cell_type": "markdown",
   "id": "c9ea644c",
   "metadata": {},
   "source": [
    "# 인사이트(중앙 편의점)\n",
    "1. 소비 트랜드 만들기 \n",
    "    - 고객별 총 소비량 감소\n",
    "    - 누적 매출액 증가량 감소\n",
    "    - 지역별, 소득수준 별 소비량 변화\n",
    "    - 1 지역 고가품 소비 증가 경향\n",
    "    - 5 지역 저가품 소비 증가 경향\n",
    "       |지역|인구(명)|소득|컨셉|연령 분포|소비 집중 시간|\n",
    "       |-|-|-|-|-|-|\n",
    "       | 1지역 | 100 | 2억 | 부촌 | 고령남여 + 청년 | 일과 시간 소비 |\n",
    "       | 2지역 | 150 | 1억 | 위성신도시 | 신혼 부부 + 어린 자녀 |  평일 오전, 주말 | \n",
    "       | 3지역 | 300 | 5천 | 업무지구 | 30~50대 생상가능인구 | 점심시간, 저녁, (특징: 주말 소비 급감) | \n",
    "       | 4지역 | 200 | 1천 | 대학가 | 20대 | 점심시간, 저녁, (특징: 주말 소비 급감) |\n",
    "       | 5지역 | 250 | 3천 | 일반거주지구 | 노년층 | 늦은 밤 |\n",
    "       \n",
    "       -  소득은 정규분포로 데이터 입력\n",
    "1. 트랜드 분석\n",
    "    - 평균 1회 결제 금액이 큰 고객을 더 유치하기위한 마케팅 계획 수립을 위한 분석\n",
    "    - 최근 변화한 소비 트렌드에 가장 민감하게 반응한 소득별 계층 분석\n",
    "\n",
    "1. 데이터프레임\n",
    "    - 상품 데이터프레임\n",
    ">- product_num* : 상품 코드\n",
    ">- price* : 상품 가격\n",
    ">- price_grade : 고가 중가 저가 여부\n",
    "\n",
    "    - 고객 데이터프레임\n",
    ">- cusno* : 고객 번호\n",
    ">- region* : 지역  \n",
    ">- gender* : 성별  \n",
    ">- age* : 나이  \n",
    ">- income* : 급여  \n",
    ">- grade_20 : 2020년 회원 등급\n",
    ">- grade_21 : 2021년 회원 등급\n",
    ">- ARPPU_20 : 2020년 회당 평균 결제액\n",
    ">- ARPPU_21 : 2021년 회당 평균 결제액\n",
    ">- AVC_20 : 2020년 연간 방문 횟수\n",
    ">- AVC_21 : 2021년 연간 방문 횟수\n",
    ">- purchase_trend : 고개 구매 추세 변화\n",
    "    \n",
    "    - 거래 데이터프레임\n",
    ">- num_ts* : 거래 번호\n",
    ">- cusno_ts* : 고객 변호\n",
    ">- product_num_ts* : 상품코드\n",
    ">- price_ts : 상품 가격\n",
    ">- quantity* : 수량\n",
    ">- amount : 해당 거래 매출\n",
    ">- date*: 거래 날짜\n",
    ">- year, weekday, hour : 거래 년도, 요일, 시간\n",
    "\n",
    " **변수명* <- 독립변수로 직접 입력해준 데이터**"
   ]
  },
  {
   "cell_type": "code",
   "execution_count": 2,
   "id": "2805b6d0",
   "metadata": {
    "ExecuteTime": {
     "end_time": "2022-07-17T05:40:08.293514Z",
     "start_time": "2022-07-17T05:40:08.288895Z"
    }
   },
   "outputs": [],
   "source": [
    "import pandas as pd\n",
    "import numpy as np\n",
    "import matplotlib.pyplot as plt\n",
    "from matplotlib import rc\n",
    "rc('font', family='AppleGothic')\n",
    "plt.rcParams['axes.unicode_minus'] = False\n",
    "import plotly.express as px\n",
    "import seaborn as sns\n",
    "import random\n",
    "import warnings\n",
    "from datetime import datetime\n",
    "from dateutil.parser import parse\n",
    "warnings.filterwarnings('ignore')\n",
    "\n",
    "random.seed(0)\n",
    "np.random.seed(0)"
   ]
  },
  {
   "cell_type": "markdown",
   "id": "65a3b986",
   "metadata": {
    "ExecuteTime": {
     "end_time": "2022-07-14T08:36:50.831874Z",
     "start_time": "2022-07-14T08:36:50.829616Z"
    }
   },
   "source": [
    "## 상품 목록 데이터프레임 만들기 : product"
   ]
  },
  {
   "cell_type": "markdown",
   "id": "8bd1bf67",
   "metadata": {},
   "source": [
    "### 상품 목록 데이터프레임 양식 만들기"
   ]
  },
  {
   "cell_type": "code",
   "execution_count": 3,
   "id": "20b3524f",
   "metadata": {
    "ExecuteTime": {
     "end_time": "2022-07-17T05:40:08.305765Z",
     "start_time": "2022-07-17T05:40:08.297380Z"
    }
   },
   "outputs": [
    {
     "data": {
      "text/html": [
       "<div>\n",
       "<style scoped>\n",
       "    .dataframe tbody tr th:only-of-type {\n",
       "        vertical-align: middle;\n",
       "    }\n",
       "\n",
       "    .dataframe tbody tr th {\n",
       "        vertical-align: top;\n",
       "    }\n",
       "\n",
       "    .dataframe thead th {\n",
       "        text-align: right;\n",
       "    }\n",
       "</style>\n",
       "<table border=\"1\" class=\"dataframe\">\n",
       "  <thead>\n",
       "    <tr style=\"text-align: right;\">\n",
       "      <th></th>\n",
       "      <th>product_num</th>\n",
       "      <th>price</th>\n",
       "      <th>price_grade</th>\n",
       "    </tr>\n",
       "  </thead>\n",
       "  <tbody>\n",
       "  </tbody>\n",
       "</table>\n",
       "</div>"
      ],
      "text/plain": [
       "Empty DataFrame\n",
       "Columns: [product_num, price, price_grade]\n",
       "Index: []"
      ]
     },
     "execution_count": 3,
     "metadata": {},
     "output_type": "execute_result"
    }
   ],
   "source": [
    "product = pd.DataFrame(columns=['product_num', 'price', 'price_grade'])\n",
    "product"
   ]
  },
  {
   "cell_type": "markdown",
   "id": "60a93b08",
   "metadata": {},
   "source": [
    "### 상품 목록 데이터프레임 데이터 채우기"
   ]
  },
  {
   "cell_type": "markdown",
   "id": "2a8471d2",
   "metadata": {
    "ExecuteTime": {
     "end_time": "2022-07-15T07:57:46.018692Z",
     "start_time": "2022-07-15T07:57:45.985750Z"
    }
   },
   "source": [
    "#### 상품 코드 : product_num"
   ]
  },
  {
   "cell_type": "code",
   "execution_count": 4,
   "id": "2681babe",
   "metadata": {
    "ExecuteTime": {
     "end_time": "2022-07-17T05:40:08.311007Z",
     "start_time": "2022-07-17T05:40:08.308031Z"
    }
   },
   "outputs": [],
   "source": [
    "product_num = np.arange(1, 101)\n",
    "product.product_num = product_num"
   ]
  },
  {
   "cell_type": "markdown",
   "id": "a7df4f4b",
   "metadata": {},
   "source": [
    "#### 상품 가격 : price"
   ]
  },
  {
   "cell_type": "code",
   "execution_count": 5,
   "id": "934d805e",
   "metadata": {
    "ExecuteTime": {
     "end_time": "2022-07-17T05:40:08.317213Z",
     "start_time": "2022-07-17T05:40:08.312365Z"
    }
   },
   "outputs": [],
   "source": [
    "price = random.sample(list(range(1000, 100000)), 100)\n",
    "product.price = price"
   ]
  },
  {
   "cell_type": "markdown",
   "id": "e6b0696f",
   "metadata": {},
   "source": [
    "### 상품 목록 데이터프레임 종속변수"
   ]
  },
  {
   "cell_type": "markdown",
   "id": "e0d0b8a9",
   "metadata": {},
   "source": [
    "#### 상품 가격 분류 : price_grade"
   ]
  },
  {
   "cell_type": "code",
   "execution_count": 6,
   "id": "41ef54d5",
   "metadata": {
    "ExecuteTime": {
     "end_time": "2022-07-17T05:40:08.325100Z",
     "start_time": "2022-07-17T05:40:08.318580Z"
    },
    "scrolled": true
   },
   "outputs": [
    {
     "data": {
      "text/html": [
       "<div>\n",
       "<style scoped>\n",
       "    .dataframe tbody tr th:only-of-type {\n",
       "        vertical-align: middle;\n",
       "    }\n",
       "\n",
       "    .dataframe tbody tr th {\n",
       "        vertical-align: top;\n",
       "    }\n",
       "\n",
       "    .dataframe thead th {\n",
       "        text-align: right;\n",
       "    }\n",
       "</style>\n",
       "<table border=\"1\" class=\"dataframe\">\n",
       "  <thead>\n",
       "    <tr style=\"text-align: right;\">\n",
       "      <th></th>\n",
       "      <th>product_num</th>\n",
       "      <th>price</th>\n",
       "      <th>price_grade</th>\n",
       "    </tr>\n",
       "  </thead>\n",
       "  <tbody>\n",
       "    <tr>\n",
       "      <th>0</th>\n",
       "      <td>1</td>\n",
       "      <td>51494</td>\n",
       "      <td>1</td>\n",
       "    </tr>\n",
       "    <tr>\n",
       "      <th>1</th>\n",
       "      <td>2</td>\n",
       "      <td>56125</td>\n",
       "      <td>1</td>\n",
       "    </tr>\n",
       "    <tr>\n",
       "      <th>2</th>\n",
       "      <td>3</td>\n",
       "      <td>6306</td>\n",
       "      <td>3</td>\n",
       "    </tr>\n",
       "    <tr>\n",
       "      <th>3</th>\n",
       "      <td>4</td>\n",
       "      <td>34936</td>\n",
       "      <td>2</td>\n",
       "    </tr>\n",
       "    <tr>\n",
       "      <th>4</th>\n",
       "      <td>5</td>\n",
       "      <td>68013</td>\n",
       "      <td>1</td>\n",
       "    </tr>\n",
       "    <tr>\n",
       "      <th>...</th>\n",
       "      <td>...</td>\n",
       "      <td>...</td>\n",
       "      <td>...</td>\n",
       "    </tr>\n",
       "    <tr>\n",
       "      <th>95</th>\n",
       "      <td>96</td>\n",
       "      <td>25100</td>\n",
       "      <td>2</td>\n",
       "    </tr>\n",
       "    <tr>\n",
       "      <th>96</th>\n",
       "      <td>97</td>\n",
       "      <td>25823</td>\n",
       "      <td>2</td>\n",
       "    </tr>\n",
       "    <tr>\n",
       "      <th>97</th>\n",
       "      <td>98</td>\n",
       "      <td>25475</td>\n",
       "      <td>2</td>\n",
       "    </tr>\n",
       "    <tr>\n",
       "      <th>98</th>\n",
       "      <td>99</td>\n",
       "      <td>5321</td>\n",
       "      <td>3</td>\n",
       "    </tr>\n",
       "    <tr>\n",
       "      <th>99</th>\n",
       "      <td>100</td>\n",
       "      <td>81317</td>\n",
       "      <td>1</td>\n",
       "    </tr>\n",
       "  </tbody>\n",
       "</table>\n",
       "<p>100 rows × 3 columns</p>\n",
       "</div>"
      ],
      "text/plain": [
       "    product_num  price price_grade\n",
       "0             1  51494           1\n",
       "1             2  56125           1\n",
       "2             3   6306           3\n",
       "3             4  34936           2\n",
       "4             5  68013           1\n",
       "..          ...    ...         ...\n",
       "95           96  25100           2\n",
       "96           97  25823           2\n",
       "97           98  25475           2\n",
       "98           99   5321           3\n",
       "99          100  81317           1\n",
       "\n",
       "[100 rows x 3 columns]"
      ]
     },
     "execution_count": 6,
     "metadata": {},
     "output_type": "execute_result"
    }
   ],
   "source": [
    "# price_grade : 고가품 : 1, 중가품 : 2, 저가품 : 3\n",
    "\n",
    "def price_grade(x):\n",
    "    y = 0\n",
    "    if x <= 20000:\n",
    "        y = '3'\n",
    "    elif x <= 50000:\n",
    "        y = '2'\n",
    "    else:\n",
    "        y = '1'\n",
    "    return y\n",
    "\n",
    "\n",
    "product['price_grade'] = product['price'].apply(price_grade)\n",
    "product"
   ]
  },
  {
   "cell_type": "markdown",
   "id": "f7ee6589",
   "metadata": {},
   "source": [
    "## 거래 데이터 만들기 : purchase"
   ]
  },
  {
   "cell_type": "markdown",
   "id": "755da93f",
   "metadata": {},
   "source": [
    "### 거래 데이터프레임 만들기"
   ]
  },
  {
   "cell_type": "markdown",
   "id": "947f5c25",
   "metadata": {},
   "source": [
    "#### 거래 데이터프레임 양식 만들기"
   ]
  },
  {
   "cell_type": "code",
   "execution_count": 7,
   "id": "92f3d64c",
   "metadata": {
    "ExecuteTime": {
     "end_time": "2022-07-17T05:40:08.331936Z",
     "start_time": "2022-07-17T05:40:08.326234Z"
    }
   },
   "outputs": [
    {
     "data": {
      "text/html": [
       "<div>\n",
       "<style scoped>\n",
       "    .dataframe tbody tr th:only-of-type {\n",
       "        vertical-align: middle;\n",
       "    }\n",
       "\n",
       "    .dataframe tbody tr th {\n",
       "        vertical-align: top;\n",
       "    }\n",
       "\n",
       "    .dataframe thead th {\n",
       "        text-align: right;\n",
       "    }\n",
       "</style>\n",
       "<table border=\"1\" class=\"dataframe\">\n",
       "  <thead>\n",
       "    <tr style=\"text-align: right;\">\n",
       "      <th></th>\n",
       "      <th>num_ts</th>\n",
       "      <th>cusno_ts</th>\n",
       "      <th>product_num_ts</th>\n",
       "      <th>price_ts</th>\n",
       "      <th>quantity</th>\n",
       "      <th>amount</th>\n",
       "      <th>date</th>\n",
       "      <th>year</th>\n",
       "      <th>weekday</th>\n",
       "      <th>hour</th>\n",
       "    </tr>\n",
       "  </thead>\n",
       "  <tbody>\n",
       "  </tbody>\n",
       "</table>\n",
       "</div>"
      ],
      "text/plain": [
       "Empty DataFrame\n",
       "Columns: [num_ts, cusno_ts, product_num_ts, price_ts, quantity, amount, date, year, weekday, hour]\n",
       "Index: []"
      ]
     },
     "execution_count": 7,
     "metadata": {},
     "output_type": "execute_result"
    }
   ],
   "source": [
    "purchase = pd.DataFrame(columns=['num_ts', 'cusno_ts', 'product_num_ts', 'price_ts',\n",
    "                        'quantity', 'amount', 'date', 'year', 'weekday', 'hour'])\n",
    "purchase"
   ]
  },
  {
   "cell_type": "markdown",
   "id": "d5692a59",
   "metadata": {},
   "source": [
    "### 거래 데이터프레임 데이터 채우기"
   ]
  },
  {
   "cell_type": "markdown",
   "id": "915c61c5",
   "metadata": {},
   "source": [
    "#### 날짜,요일,시간 : date, day, time"
   ]
  },
  {
   "cell_type": "code",
   "execution_count": 8,
   "id": "3094968e",
   "metadata": {
    "ExecuteTime": {
     "end_time": "2022-07-17T05:40:08.381118Z",
     "start_time": "2022-07-17T05:40:08.334475Z"
    },
    "scrolled": true
   },
   "outputs": [
    {
     "data": {
      "text/html": [
       "<div>\n",
       "<style scoped>\n",
       "    .dataframe tbody tr th:only-of-type {\n",
       "        vertical-align: middle;\n",
       "    }\n",
       "\n",
       "    .dataframe tbody tr th {\n",
       "        vertical-align: top;\n",
       "    }\n",
       "\n",
       "    .dataframe thead th {\n",
       "        text-align: right;\n",
       "    }\n",
       "</style>\n",
       "<table border=\"1\" class=\"dataframe\">\n",
       "  <thead>\n",
       "    <tr style=\"text-align: right;\">\n",
       "      <th></th>\n",
       "      <th>num_ts</th>\n",
       "      <th>cusno_ts</th>\n",
       "      <th>product_num_ts</th>\n",
       "      <th>price_ts</th>\n",
       "      <th>quantity</th>\n",
       "      <th>amount</th>\n",
       "      <th>date</th>\n",
       "      <th>year</th>\n",
       "      <th>weekday</th>\n",
       "      <th>hour</th>\n",
       "    </tr>\n",
       "  </thead>\n",
       "  <tbody>\n",
       "    <tr>\n",
       "      <th>0</th>\n",
       "      <td>NaN</td>\n",
       "      <td>NaN</td>\n",
       "      <td>NaN</td>\n",
       "      <td>NaN</td>\n",
       "      <td>NaN</td>\n",
       "      <td>NaN</td>\n",
       "      <td>2020-01-01</td>\n",
       "      <td>2020</td>\n",
       "      <td>2</td>\n",
       "      <td>3</td>\n",
       "    </tr>\n",
       "    <tr>\n",
       "      <th>1</th>\n",
       "      <td>NaN</td>\n",
       "      <td>NaN</td>\n",
       "      <td>NaN</td>\n",
       "      <td>NaN</td>\n",
       "      <td>NaN</td>\n",
       "      <td>NaN</td>\n",
       "      <td>2020-01-01</td>\n",
       "      <td>2020</td>\n",
       "      <td>2</td>\n",
       "      <td>13</td>\n",
       "    </tr>\n",
       "    <tr>\n",
       "      <th>2</th>\n",
       "      <td>NaN</td>\n",
       "      <td>NaN</td>\n",
       "      <td>NaN</td>\n",
       "      <td>NaN</td>\n",
       "      <td>NaN</td>\n",
       "      <td>NaN</td>\n",
       "      <td>2020-01-01</td>\n",
       "      <td>2020</td>\n",
       "      <td>2</td>\n",
       "      <td>13</td>\n",
       "    </tr>\n",
       "    <tr>\n",
       "      <th>3</th>\n",
       "      <td>NaN</td>\n",
       "      <td>NaN</td>\n",
       "      <td>NaN</td>\n",
       "      <td>NaN</td>\n",
       "      <td>NaN</td>\n",
       "      <td>NaN</td>\n",
       "      <td>2020-01-01</td>\n",
       "      <td>2020</td>\n",
       "      <td>2</td>\n",
       "      <td>0</td>\n",
       "    </tr>\n",
       "    <tr>\n",
       "      <th>4</th>\n",
       "      <td>NaN</td>\n",
       "      <td>NaN</td>\n",
       "      <td>NaN</td>\n",
       "      <td>NaN</td>\n",
       "      <td>NaN</td>\n",
       "      <td>NaN</td>\n",
       "      <td>2020-01-01</td>\n",
       "      <td>2020</td>\n",
       "      <td>2</td>\n",
       "      <td>21</td>\n",
       "    </tr>\n",
       "    <tr>\n",
       "      <th>...</th>\n",
       "      <td>...</td>\n",
       "      <td>...</td>\n",
       "      <td>...</td>\n",
       "      <td>...</td>\n",
       "      <td>...</td>\n",
       "      <td>...</td>\n",
       "      <td>...</td>\n",
       "      <td>...</td>\n",
       "      <td>...</td>\n",
       "      <td>...</td>\n",
       "    </tr>\n",
       "    <tr>\n",
       "      <th>9995</th>\n",
       "      <td>NaN</td>\n",
       "      <td>NaN</td>\n",
       "      <td>NaN</td>\n",
       "      <td>NaN</td>\n",
       "      <td>NaN</td>\n",
       "      <td>NaN</td>\n",
       "      <td>2021-12-30</td>\n",
       "      <td>2021</td>\n",
       "      <td>3</td>\n",
       "      <td>4</td>\n",
       "    </tr>\n",
       "    <tr>\n",
       "      <th>9996</th>\n",
       "      <td>NaN</td>\n",
       "      <td>NaN</td>\n",
       "      <td>NaN</td>\n",
       "      <td>NaN</td>\n",
       "      <td>NaN</td>\n",
       "      <td>NaN</td>\n",
       "      <td>2021-12-30</td>\n",
       "      <td>2021</td>\n",
       "      <td>3</td>\n",
       "      <td>20</td>\n",
       "    </tr>\n",
       "    <tr>\n",
       "      <th>9997</th>\n",
       "      <td>NaN</td>\n",
       "      <td>NaN</td>\n",
       "      <td>NaN</td>\n",
       "      <td>NaN</td>\n",
       "      <td>NaN</td>\n",
       "      <td>NaN</td>\n",
       "      <td>2021-12-30</td>\n",
       "      <td>2021</td>\n",
       "      <td>3</td>\n",
       "      <td>19</td>\n",
       "    </tr>\n",
       "    <tr>\n",
       "      <th>9998</th>\n",
       "      <td>NaN</td>\n",
       "      <td>NaN</td>\n",
       "      <td>NaN</td>\n",
       "      <td>NaN</td>\n",
       "      <td>NaN</td>\n",
       "      <td>NaN</td>\n",
       "      <td>2021-12-31</td>\n",
       "      <td>2021</td>\n",
       "      <td>4</td>\n",
       "      <td>0</td>\n",
       "    </tr>\n",
       "    <tr>\n",
       "      <th>9999</th>\n",
       "      <td>NaN</td>\n",
       "      <td>NaN</td>\n",
       "      <td>NaN</td>\n",
       "      <td>NaN</td>\n",
       "      <td>NaN</td>\n",
       "      <td>NaN</td>\n",
       "      <td>2021-12-31</td>\n",
       "      <td>2021</td>\n",
       "      <td>4</td>\n",
       "      <td>0</td>\n",
       "    </tr>\n",
       "  </tbody>\n",
       "</table>\n",
       "<p>10000 rows × 10 columns</p>\n",
       "</div>"
      ],
      "text/plain": [
       "     num_ts cusno_ts product_num_ts price_ts quantity amount       date  year  \\\n",
       "0       NaN      NaN            NaN      NaN      NaN    NaN 2020-01-01  2020   \n",
       "1       NaN      NaN            NaN      NaN      NaN    NaN 2020-01-01  2020   \n",
       "2       NaN      NaN            NaN      NaN      NaN    NaN 2020-01-01  2020   \n",
       "3       NaN      NaN            NaN      NaN      NaN    NaN 2020-01-01  2020   \n",
       "4       NaN      NaN            NaN      NaN      NaN    NaN 2020-01-01  2020   \n",
       "...     ...      ...            ...      ...      ...    ...        ...   ...   \n",
       "9995    NaN      NaN            NaN      NaN      NaN    NaN 2021-12-30  2021   \n",
       "9996    NaN      NaN            NaN      NaN      NaN    NaN 2021-12-30  2021   \n",
       "9997    NaN      NaN            NaN      NaN      NaN    NaN 2021-12-30  2021   \n",
       "9998    NaN      NaN            NaN      NaN      NaN    NaN 2021-12-31  2021   \n",
       "9999    NaN      NaN            NaN      NaN      NaN    NaN 2021-12-31  2021   \n",
       "\n",
       "      weekday  hour  \n",
       "0           2     3  \n",
       "1           2    13  \n",
       "2           2    13  \n",
       "3           2     0  \n",
       "4           2    21  \n",
       "...       ...   ...  \n",
       "9995        3     4  \n",
       "9996        3    20  \n",
       "9997        3    19  \n",
       "9998        4     0  \n",
       "9999        4     0  \n",
       "\n",
       "[10000 rows x 10 columns]"
      ]
     },
     "execution_count": 8,
     "metadata": {},
     "output_type": "execute_result"
    }
   ],
   "source": [
    "# date\n",
    "# date 간격 : 시간\n",
    "date_list_20 = list(pd.date_range('2020-01-01', '2020-12-31', freq='H'))\n",
    "date_list_21 = list(pd.date_range('2021-01-01', '2021-12-31', freq='H'))\n",
    "\n",
    "# 2020 년 거래량 6000건\n",
    "date_20 = np.random.choice(date_list_20, size=6000).tolist()\n",
    "# 2021 년 거래량 4000건\n",
    "date_21 = np.random.choice(date_list_21, size=4000).tolist()\n",
    "date = date_20 + date_21\n",
    "random.shuffle(date)\n",
    "date = pd.Series(date)\n",
    "\n",
    "#date 에서 년-월-일 형식의 날짜 추출\n",
    "# purchase.date = date.dt.date\n",
    "purchase.date = pd.to_datetime(date.dt.date)\n",
    "\n",
    "# # year(년도)\n",
    "purchase.year = date.dt.year\n",
    "\n",
    "# # day(요일)\n",
    "purchase.weekday = date.dt.weekday\n",
    "\n",
    "# # 시간\n",
    "purchase.hour = date.dt.hour\n",
    "\n",
    "purchase=purchase.sort_values('date',ascending=True)\n",
    "purchase=purchase.reset_index(drop=True)\n",
    "\n",
    "purchase"
   ]
  },
  {
   "cell_type": "markdown",
   "id": "d99f2fcf",
   "metadata": {},
   "source": [
    "#### 거래 번호 : num_ts"
   ]
  },
  {
   "cell_type": "code",
   "execution_count": 9,
   "id": "4a29d92c",
   "metadata": {
    "ExecuteTime": {
     "end_time": "2022-07-17T05:40:08.384436Z",
     "start_time": "2022-07-17T05:40:08.382684Z"
    }
   },
   "outputs": [],
   "source": [
    "num_ts = np.arange(0, 10000)\n",
    "purchase.num_ts = num_ts"
   ]
  },
  {
   "cell_type": "markdown",
   "id": "e71c3ac3",
   "metadata": {},
   "source": [
    "#### 고객번호 : cusno_ts"
   ]
  },
  {
   "cell_type": "code",
   "execution_count": 10,
   "id": "39a57569",
   "metadata": {
    "ExecuteTime": {
     "end_time": "2022-07-17T05:40:08.387521Z",
     "start_time": "2022-07-17T05:40:08.385319Z"
    }
   },
   "outputs": [],
   "source": [
    "# 기존 cusno가 중복될 수 있도록 만들기\n",
    "cusno_ts = np.random.choice(list(np.arange(10000, 11000)), size=10000)\n",
    "purchase.cusno_ts = cusno_ts"
   ]
  },
  {
   "cell_type": "markdown",
   "id": "11d706a8",
   "metadata": {},
   "source": [
    "#### 상품코드 : product_num_ts"
   ]
  },
  {
   "cell_type": "code",
   "execution_count": 11,
   "id": "79e9b033",
   "metadata": {
    "ExecuteTime": {
     "end_time": "2022-07-17T05:40:08.406985Z",
     "start_time": "2022-07-17T05:40:08.388340Z"
    }
   },
   "outputs": [],
   "source": [
    "product_num_ts = np.random.choice(list(product_num), size=10000)\n",
    "purchase.product_num_ts = product_num_ts\n",
    "\n",
    "price_grade_1 = product[product['price_grade'] == '1'].product_num.tolist()\n",
    "price_grade_2 = product[product['price_grade'] == '2'].product_num.tolist()\n",
    "price_grade_3 = product[product['price_grade'] == '3'].product_num.tolist()\n",
    "price_grade_3\n",
    "\n",
    "price_grade_1_20 = np.random.choice(price_grade_1, 1000).tolist()\n",
    "price_grade_2_20 = np.random.choice(price_grade_2, 2000).tolist()\n",
    "price_grade_3_20 = np.random.choice(price_grade_3, 3000).tolist()\n",
    "product_num_ts_20 = price_grade_1_20 + price_grade_2_20 + price_grade_3_20\n",
    "random.shuffle(product_num_ts_20)\n",
    "purchase[purchase['year'] == 2020].product_num_ts = product_num_ts_20\n",
    "\n",
    "price_grade_1_21 = np.random.choice(price_grade_1, 2000).tolist()\n",
    "price_grade_2_21 = np.random.choice(price_grade_2, 1000).tolist()\n",
    "price_grade_3_21 = np.random.choice(price_grade_3, 1000).tolist()\n",
    "product_num_ts_21 = price_grade_1_21 + price_grade_2_21 + price_grade_3_21\n",
    "random.shuffle(product_num_ts_21)\n",
    "purchase[purchase['year'] == 2021].product_num_ts = product_num_ts_21"
   ]
  },
  {
   "cell_type": "markdown",
   "id": "0b6b4697",
   "metadata": {},
   "source": [
    "#### 상품 가격 : price_ts"
   ]
  },
  {
   "cell_type": "code",
   "execution_count": 12,
   "id": "0ce2b6c0",
   "metadata": {
    "ExecuteTime": {
     "end_time": "2022-07-17T05:40:10.093327Z",
     "start_time": "2022-07-17T05:40:08.407765Z"
    }
   },
   "outputs": [
    {
     "data": {
      "text/html": [
       "<div>\n",
       "<style scoped>\n",
       "    .dataframe tbody tr th:only-of-type {\n",
       "        vertical-align: middle;\n",
       "    }\n",
       "\n",
       "    .dataframe tbody tr th {\n",
       "        vertical-align: top;\n",
       "    }\n",
       "\n",
       "    .dataframe thead th {\n",
       "        text-align: right;\n",
       "    }\n",
       "</style>\n",
       "<table border=\"1\" class=\"dataframe\">\n",
       "  <thead>\n",
       "    <tr style=\"text-align: right;\">\n",
       "      <th></th>\n",
       "      <th>num_ts</th>\n",
       "      <th>cusno_ts</th>\n",
       "      <th>product_num_ts</th>\n",
       "      <th>price_ts</th>\n",
       "      <th>quantity</th>\n",
       "      <th>amount</th>\n",
       "      <th>date</th>\n",
       "      <th>year</th>\n",
       "      <th>weekday</th>\n",
       "      <th>hour</th>\n",
       "    </tr>\n",
       "  </thead>\n",
       "  <tbody>\n",
       "    <tr>\n",
       "      <th>0</th>\n",
       "      <td>0</td>\n",
       "      <td>10660</td>\n",
       "      <td>31</td>\n",
       "      <td>74375</td>\n",
       "      <td>NaN</td>\n",
       "      <td>NaN</td>\n",
       "      <td>2020-01-01</td>\n",
       "      <td>2020</td>\n",
       "      <td>2</td>\n",
       "      <td>3</td>\n",
       "    </tr>\n",
       "    <tr>\n",
       "      <th>1</th>\n",
       "      <td>1</td>\n",
       "      <td>10760</td>\n",
       "      <td>45</td>\n",
       "      <td>72919</td>\n",
       "      <td>NaN</td>\n",
       "      <td>NaN</td>\n",
       "      <td>2020-01-01</td>\n",
       "      <td>2020</td>\n",
       "      <td>2</td>\n",
       "      <td>13</td>\n",
       "    </tr>\n",
       "    <tr>\n",
       "      <th>2</th>\n",
       "      <td>2</td>\n",
       "      <td>10626</td>\n",
       "      <td>8</td>\n",
       "      <td>40755</td>\n",
       "      <td>NaN</td>\n",
       "      <td>NaN</td>\n",
       "      <td>2020-01-01</td>\n",
       "      <td>2020</td>\n",
       "      <td>2</td>\n",
       "      <td>13</td>\n",
       "    </tr>\n",
       "    <tr>\n",
       "      <th>3</th>\n",
       "      <td>3</td>\n",
       "      <td>10918</td>\n",
       "      <td>48</td>\n",
       "      <td>95333</td>\n",
       "      <td>NaN</td>\n",
       "      <td>NaN</td>\n",
       "      <td>2020-01-01</td>\n",
       "      <td>2020</td>\n",
       "      <td>2</td>\n",
       "      <td>0</td>\n",
       "    </tr>\n",
       "    <tr>\n",
       "      <th>4</th>\n",
       "      <td>4</td>\n",
       "      <td>10114</td>\n",
       "      <td>84</td>\n",
       "      <td>80060</td>\n",
       "      <td>NaN</td>\n",
       "      <td>NaN</td>\n",
       "      <td>2020-01-01</td>\n",
       "      <td>2020</td>\n",
       "      <td>2</td>\n",
       "      <td>21</td>\n",
       "    </tr>\n",
       "    <tr>\n",
       "      <th>...</th>\n",
       "      <td>...</td>\n",
       "      <td>...</td>\n",
       "      <td>...</td>\n",
       "      <td>...</td>\n",
       "      <td>...</td>\n",
       "      <td>...</td>\n",
       "      <td>...</td>\n",
       "      <td>...</td>\n",
       "      <td>...</td>\n",
       "      <td>...</td>\n",
       "    </tr>\n",
       "    <tr>\n",
       "      <th>9995</th>\n",
       "      <td>9995</td>\n",
       "      <td>10691</td>\n",
       "      <td>61</td>\n",
       "      <td>9255</td>\n",
       "      <td>NaN</td>\n",
       "      <td>NaN</td>\n",
       "      <td>2021-12-30</td>\n",
       "      <td>2021</td>\n",
       "      <td>3</td>\n",
       "      <td>4</td>\n",
       "    </tr>\n",
       "    <tr>\n",
       "      <th>9996</th>\n",
       "      <td>9996</td>\n",
       "      <td>10629</td>\n",
       "      <td>6</td>\n",
       "      <td>64691</td>\n",
       "      <td>NaN</td>\n",
       "      <td>NaN</td>\n",
       "      <td>2021-12-30</td>\n",
       "      <td>2021</td>\n",
       "      <td>3</td>\n",
       "      <td>20</td>\n",
       "    </tr>\n",
       "    <tr>\n",
       "      <th>9997</th>\n",
       "      <td>9997</td>\n",
       "      <td>10373</td>\n",
       "      <td>5</td>\n",
       "      <td>68013</td>\n",
       "      <td>NaN</td>\n",
       "      <td>NaN</td>\n",
       "      <td>2021-12-30</td>\n",
       "      <td>2021</td>\n",
       "      <td>3</td>\n",
       "      <td>19</td>\n",
       "    </tr>\n",
       "    <tr>\n",
       "      <th>9998</th>\n",
       "      <td>9998</td>\n",
       "      <td>10144</td>\n",
       "      <td>45</td>\n",
       "      <td>72919</td>\n",
       "      <td>NaN</td>\n",
       "      <td>NaN</td>\n",
       "      <td>2021-12-31</td>\n",
       "      <td>2021</td>\n",
       "      <td>4</td>\n",
       "      <td>0</td>\n",
       "    </tr>\n",
       "    <tr>\n",
       "      <th>9999</th>\n",
       "      <td>9999</td>\n",
       "      <td>10024</td>\n",
       "      <td>21</td>\n",
       "      <td>93428</td>\n",
       "      <td>NaN</td>\n",
       "      <td>NaN</td>\n",
       "      <td>2021-12-31</td>\n",
       "      <td>2021</td>\n",
       "      <td>4</td>\n",
       "      <td>0</td>\n",
       "    </tr>\n",
       "  </tbody>\n",
       "</table>\n",
       "<p>10000 rows × 10 columns</p>\n",
       "</div>"
      ],
      "text/plain": [
       "      num_ts  cusno_ts  product_num_ts  price_ts quantity amount       date  \\\n",
       "0          0     10660              31     74375      NaN    NaN 2020-01-01   \n",
       "1          1     10760              45     72919      NaN    NaN 2020-01-01   \n",
       "2          2     10626               8     40755      NaN    NaN 2020-01-01   \n",
       "3          3     10918              48     95333      NaN    NaN 2020-01-01   \n",
       "4          4     10114              84     80060      NaN    NaN 2020-01-01   \n",
       "...      ...       ...             ...       ...      ...    ...        ...   \n",
       "9995    9995     10691              61      9255      NaN    NaN 2021-12-30   \n",
       "9996    9996     10629               6     64691      NaN    NaN 2021-12-30   \n",
       "9997    9997     10373               5     68013      NaN    NaN 2021-12-30   \n",
       "9998    9998     10144              45     72919      NaN    NaN 2021-12-31   \n",
       "9999    9999     10024              21     93428      NaN    NaN 2021-12-31   \n",
       "\n",
       "      year  weekday  hour  \n",
       "0     2020        2     3  \n",
       "1     2020        2    13  \n",
       "2     2020        2    13  \n",
       "3     2020        2     0  \n",
       "4     2020        2    21  \n",
       "...    ...      ...   ...  \n",
       "9995  2021        3     4  \n",
       "9996  2021        3    20  \n",
       "9997  2021        3    19  \n",
       "9998  2021        4     0  \n",
       "9999  2021        4     0  \n",
       "\n",
       "[10000 rows x 10 columns]"
      ]
     },
     "execution_count": 12,
     "metadata": {},
     "output_type": "execute_result"
    }
   ],
   "source": [
    "def price(x):\n",
    "    price = product[product.product_num == x].price\n",
    "    price = str(price).split()[1]\n",
    "    return int(price)\n",
    "\n",
    "\n",
    "purchase.price_ts = pd.Series(purchase.product_num_ts.map(price))\n",
    "purchase"
   ]
  },
  {
   "cell_type": "markdown",
   "id": "5c9d5493",
   "metadata": {},
   "source": [
    "#### 구매수량 : quantity"
   ]
  },
  {
   "cell_type": "code",
   "execution_count": 13,
   "id": "5e8f9d2f",
   "metadata": {
    "ExecuteTime": {
     "end_time": "2022-07-17T05:40:10.114014Z",
     "start_time": "2022-07-17T05:40:10.094249Z"
    },
    "scrolled": true
   },
   "outputs": [
    {
     "name": "stdout",
     "output_type": "stream",
     "text": [
      "<class 'pandas.core.frame.DataFrame'>\n",
      "RangeIndex: 10000 entries, 0 to 9999\n",
      "Data columns (total 10 columns):\n",
      " #   Column          Non-Null Count  Dtype         \n",
      "---  ------          --------------  -----         \n",
      " 0   num_ts          10000 non-null  int64         \n",
      " 1   cusno_ts        10000 non-null  int64         \n",
      " 2   product_num_ts  10000 non-null  int64         \n",
      " 3   price_ts        10000 non-null  int64         \n",
      " 4   quantity        10000 non-null  int64         \n",
      " 5   amount          0 non-null      object        \n",
      " 6   date            10000 non-null  datetime64[ns]\n",
      " 7   year            10000 non-null  int64         \n",
      " 8   weekday         10000 non-null  int64         \n",
      " 9   hour            10000 non-null  int64         \n",
      "dtypes: datetime64[ns](1), int64(8), object(1)\n",
      "memory usage: 781.4+ KB\n"
     ]
    }
   ],
   "source": [
    "# 2020년 구매수량 데이터 생성\n",
    "a_20 = np.random.randint(1, 4, size=4500).tolist()\n",
    "b_20 = np.random.randint(4, 7, size=3500).tolist()\n",
    "c_20 = np.random.randint(7, 10, size=2000).tolist()\n",
    "li_20 = a_20+b_20+c_20\n",
    "random.shuffle(li_20)\n",
    "purchase.quantity[purchase.year == 2020] = li_20\n",
    "\n",
    "# 2021년 구매수량 데이터 생성\n",
    "a_21 = np.random.randint(1, 4, size=6500).tolist()\n",
    "b_21 = np.random.randint(4, 7, size=2500).tolist()\n",
    "c_21 = np.random.randint(7, 10, size=1000).tolist()\n",
    "li_21 = a_21+b_21+c_21\n",
    "random.shuffle(li_21)\n",
    "purchase.quantity[purchase.year == 2021] = li_21\n",
    "purchase = purchase.astype({'quantity':'int'})\n",
    "purchase.info()"
   ]
  },
  {
   "cell_type": "markdown",
   "id": "e515cd33",
   "metadata": {},
   "source": [
    "### 거래 데이터프레임 종속변수"
   ]
  },
  {
   "cell_type": "markdown",
   "id": "f8f36171",
   "metadata": {},
   "source": [
    "#### 거래별 거래총액 : amount"
   ]
  },
  {
   "cell_type": "code",
   "execution_count": 14,
   "id": "ce890a0d",
   "metadata": {
    "ExecuteTime": {
     "end_time": "2022-07-17T05:40:11.750778Z",
     "start_time": "2022-07-17T05:40:10.114970Z"
    },
    "scrolled": true
   },
   "outputs": [
    {
     "name": "stdout",
     "output_type": "stream",
     "text": [
      "<class 'pandas.core.frame.DataFrame'>\n",
      "RangeIndex: 10000 entries, 0 to 9999\n",
      "Data columns (total 10 columns):\n",
      " #   Column          Non-Null Count  Dtype         \n",
      "---  ------          --------------  -----         \n",
      " 0   num_ts          10000 non-null  int64         \n",
      " 1   cusno_ts        10000 non-null  int64         \n",
      " 2   product_num_ts  10000 non-null  int64         \n",
      " 3   price_ts        10000 non-null  int64         \n",
      " 4   quantity        10000 non-null  int64         \n",
      " 5   amount          10000 non-null  int64         \n",
      " 6   date            10000 non-null  datetime64[ns]\n",
      " 7   year            10000 non-null  int64         \n",
      " 8   weekday         10000 non-null  int64         \n",
      " 9   hour            10000 non-null  int64         \n",
      "dtypes: datetime64[ns](1), int64(9)\n",
      "memory usage: 781.4 KB\n"
     ]
    }
   ],
   "source": [
    "def price(x):\n",
    "    price = product[product.product_num == x].price\n",
    "    price = str(price).split()[1]\n",
    "    return int(price)\n",
    "\n",
    "\n",
    "purchase.amount = pd.Series(\n",
    "    purchase.product_num_ts.map(price))*purchase.quantity\n",
    "purchase.info()"
   ]
  },
  {
   "cell_type": "markdown",
   "id": "6296d752",
   "metadata": {
    "ExecuteTime": {
     "end_time": "2022-07-14T08:20:20.645016Z",
     "start_time": "2022-07-14T08:20:20.605679Z"
    }
   },
   "source": [
    "## 고객 데이터프레임 만들기 : customer"
   ]
  },
  {
   "cell_type": "markdown",
   "id": "395059e0",
   "metadata": {
    "ExecuteTime": {
     "end_time": "2022-07-14T11:32:11.666425Z",
     "start_time": "2022-07-14T11:32:11.651129Z"
    }
   },
   "source": [
    "### 고객 데이터프레임 양식 만들기"
   ]
  },
  {
   "cell_type": "code",
   "execution_count": 15,
   "id": "be159efa",
   "metadata": {
    "ExecuteTime": {
     "end_time": "2022-07-17T05:40:11.755045Z",
     "start_time": "2022-07-17T05:40:11.751564Z"
    }
   },
   "outputs": [
    {
     "data": {
      "text/html": [
       "<div>\n",
       "<style scoped>\n",
       "    .dataframe tbody tr th:only-of-type {\n",
       "        vertical-align: middle;\n",
       "    }\n",
       "\n",
       "    .dataframe tbody tr th {\n",
       "        vertical-align: top;\n",
       "    }\n",
       "\n",
       "    .dataframe thead th {\n",
       "        text-align: right;\n",
       "    }\n",
       "</style>\n",
       "<table border=\"1\" class=\"dataframe\">\n",
       "  <thead>\n",
       "    <tr style=\"text-align: right;\">\n",
       "      <th></th>\n",
       "      <th>cusno</th>\n",
       "      <th>region</th>\n",
       "      <th>gender</th>\n",
       "      <th>age</th>\n",
       "      <th>income</th>\n",
       "      <th>grade_20</th>\n",
       "      <th>grade_21</th>\n",
       "      <th>ARPPU_20</th>\n",
       "      <th>ARPPU_21</th>\n",
       "      <th>AVC_20</th>\n",
       "      <th>AVC_21</th>\n",
       "      <th>ASC_20</th>\n",
       "      <th>ASC_21</th>\n",
       "      <th>purchase_trend</th>\n",
       "    </tr>\n",
       "  </thead>\n",
       "  <tbody>\n",
       "  </tbody>\n",
       "</table>\n",
       "</div>"
      ],
      "text/plain": [
       "Empty DataFrame\n",
       "Columns: [cusno, region, gender, age, income, grade_20, grade_21, ARPPU_20, ARPPU_21, AVC_20, AVC_21, ASC_20, ASC_21, purchase_trend]\n",
       "Index: []"
      ]
     },
     "execution_count": 15,
     "metadata": {},
     "output_type": "execute_result"
    }
   ],
   "source": [
    "customer = pd.DataFrame(columns=['cusno', 'region', 'gender', 'age',  'income', 'grade_20',\n",
    "                        'grade_21', 'ARPPU_20', 'ARPPU_21', 'AVC_20', 'AVC_21', 'ASC_20', 'ASC_21', 'purchase_trend'])\n",
    "customer"
   ]
  },
  {
   "cell_type": "markdown",
   "id": "aed7e527",
   "metadata": {
    "ExecuteTime": {
     "end_time": "2022-07-15T05:40:54.684672Z",
     "start_time": "2022-07-15T05:40:54.680569Z"
    }
   },
   "source": [
    "### 고객 데이터프레임 데이터 채우기"
   ]
  },
  {
   "cell_type": "markdown",
   "id": "8a3a7cb3",
   "metadata": {
    "ExecuteTime": {
     "end_time": "2022-07-14T12:25:23.887093Z",
     "start_time": "2022-07-14T12:25:23.791326Z"
    }
   },
   "source": [
    "#### 고객 번호 : cusno"
   ]
  },
  {
   "cell_type": "code",
   "execution_count": 16,
   "id": "b8c26eff",
   "metadata": {
    "ExecuteTime": {
     "end_time": "2022-07-17T05:40:11.757640Z",
     "start_time": "2022-07-17T05:40:11.755783Z"
    }
   },
   "outputs": [],
   "source": [
    "cusno = np.arange(10000, 11000)\n",
    "customer.cusno = cusno"
   ]
  },
  {
   "cell_type": "markdown",
   "id": "5014fedc",
   "metadata": {
    "ExecuteTime": {
     "end_time": "2022-07-14T12:25:23.887093Z",
     "start_time": "2022-07-14T12:25:23.791326Z"
    }
   },
   "source": [
    "#### 거주 지역 : region"
   ]
  },
  {
   "cell_type": "code",
   "execution_count": 17,
   "id": "a6f30c7c",
   "metadata": {
    "ExecuteTime": {
     "end_time": "2022-07-17T05:40:11.761053Z",
     "start_time": "2022-07-17T05:40:11.758372Z"
    }
   },
   "outputs": [],
   "source": [
    "# 지역별 인구 분포 산정\n",
    "area_1 = np.random.randint(1, 2, size=100).tolist()\n",
    "area_2 = np.random.randint(2, 3, size=150).tolist()\n",
    "area_3 = np.random.randint(3, 4, size=300).tolist()\n",
    "area_4 = np.random.randint(4, 5, size=200).tolist()\n",
    "area_5 = np.random.randint(5, 6, size=250).tolist()\n",
    "li = area_1+area_2+area_3+area_4+area_5\n",
    "random.shuffle(li)\n",
    "\n",
    "customer.region = li"
   ]
  },
  {
   "cell_type": "markdown",
   "id": "0aaf8238",
   "metadata": {
    "ExecuteTime": {
     "end_time": "2022-07-14T12:25:23.887093Z",
     "start_time": "2022-07-14T12:25:23.791326Z"
    }
   },
   "source": [
    "#### 소득 : income"
   ]
  },
  {
   "cell_type": "code",
   "execution_count": 18,
   "id": "3f2b40bf",
   "metadata": {
    "ExecuteTime": {
     "end_time": "2022-07-17T05:40:11.781395Z",
     "start_time": "2022-07-17T05:40:11.761944Z"
    }
   },
   "outputs": [],
   "source": [
    "# 지역별 소득 분포 산정 : 정규분포 사용\n",
    "customer.income[customer.region == 1] = np.random.normal(10, 3, 100)*20000\n",
    "customer.income[customer.region == 2] = np.random.normal(10, 2, 150)*10000\n",
    "customer.income[customer.region == 3] = np.random.normal(10, 1, 300)*5000\n",
    "customer.income[customer.region == 4] = np.random.normal(10, 2, 200)*1000\n",
    "customer.income[customer.region == 5] = np.random.normal(10, 0.5, 250)*3000\n",
    "customer.income = customer.income.map(lambda x: int(x))"
   ]
  },
  {
   "cell_type": "code",
   "execution_count": 19,
   "id": "2b975b58-7601-400f-965c-9d785e778794",
   "metadata": {},
   "outputs": [
    {
     "data": {
      "image/png": "[encoded data removed]",
      "text/plain": [
       "<Figure size 432x288 with 1 Axes>"
      ]
     },
     "metadata": {
      "needs_background": "light"
     },
     "output_type": "display_data"
    }
   ],
   "source": [
    "# 지역별 연봉 분포\n",
    "customer.plot(x='region', y='income', kind='scatter');"
   ]
  },
  {
   "cell_type": "markdown",
   "id": "fcda3419",
   "metadata": {},
   "source": [
    "##### 지역별 소득 값 중 이상치 보정"
   ]
  },
  {
   "cell_type": "code",
   "execution_count": 20,
   "id": "029ed735",
   "metadata": {
    "ExecuteTime": {
     "end_time": "2022-07-17T05:40:11.840245Z",
     "start_time": "2022-07-17T05:40:11.782211Z"
    },
    "scrolled": true
   },
   "outputs": [
    {
     "data": {
      "image/png": "[encoded data removed]",
      "text/plain": [
       "<Figure size 432x288 with 1 Axes>"
      ]
     },
     "metadata": {
      "needs_background": "light"
     },
     "output_type": "display_data"
    }
   ],
   "source": [
    "# 지역에 따른 소득 분포 확인 : by boxenplot\n",
    "sns.boxenplot(x='region', y='income', data=customer, color='skyblue');"
   ]
  },
  {
   "cell_type": "code",
   "execution_count": 21,
   "id": "23057b80",
   "metadata": {
    "ExecuteTime": {
     "end_time": "2022-07-17T05:40:11.847243Z",
     "start_time": "2022-07-17T05:40:11.841217Z"
    }
   },
   "outputs": [
    {
     "data": {
      "text/html": [
       "<div>\n",
       "<style scoped>\n",
       "    .dataframe tbody tr th:only-of-type {\n",
       "        vertical-align: middle;\n",
       "    }\n",
       "\n",
       "    .dataframe tbody tr th {\n",
       "        vertical-align: top;\n",
       "    }\n",
       "\n",
       "    .dataframe thead th {\n",
       "        text-align: right;\n",
       "    }\n",
       "</style>\n",
       "<table border=\"1\" class=\"dataframe\">\n",
       "  <thead>\n",
       "    <tr style=\"text-align: right;\">\n",
       "      <th></th>\n",
       "      <th>cusno</th>\n",
       "      <th>region</th>\n",
       "      <th>income</th>\n",
       "    </tr>\n",
       "  </thead>\n",
       "  <tbody>\n",
       "    <tr>\n",
       "      <th>count</th>\n",
       "      <td>1000.000000</td>\n",
       "      <td>1000.000000</td>\n",
       "      <td>1000.000000</td>\n",
       "    </tr>\n",
       "    <tr>\n",
       "      <th>mean</th>\n",
       "      <td>10499.500000</td>\n",
       "      <td>3.350000</td>\n",
       "      <td>59024.151000</td>\n",
       "    </tr>\n",
       "    <tr>\n",
       "      <th>std</th>\n",
       "      <td>288.819436</td>\n",
       "      <td>1.276373</td>\n",
       "      <td>56426.615309</td>\n",
       "    </tr>\n",
       "    <tr>\n",
       "      <th>min</th>\n",
       "      <td>10000.000000</td>\n",
       "      <td>1.000000</td>\n",
       "      <td>3690.000000</td>\n",
       "    </tr>\n",
       "    <tr>\n",
       "      <th>25%</th>\n",
       "      <td>10249.750000</td>\n",
       "      <td>2.750000</td>\n",
       "      <td>28702.500000</td>\n",
       "    </tr>\n",
       "    <tr>\n",
       "      <th>50%</th>\n",
       "      <td>10499.500000</td>\n",
       "      <td>3.000000</td>\n",
       "      <td>45247.000000</td>\n",
       "    </tr>\n",
       "    <tr>\n",
       "      <th>75%</th>\n",
       "      <td>10749.250000</td>\n",
       "      <td>4.250000</td>\n",
       "      <td>62496.500000</td>\n",
       "    </tr>\n",
       "    <tr>\n",
       "      <th>max</th>\n",
       "      <td>10999.000000</td>\n",
       "      <td>5.000000</td>\n",
       "      <td>365661.000000</td>\n",
       "    </tr>\n",
       "  </tbody>\n",
       "</table>\n",
       "</div>"
      ],
      "text/plain": [
       "              cusno       region         income\n",
       "count   1000.000000  1000.000000    1000.000000\n",
       "mean   10499.500000     3.350000   59024.151000\n",
       "std      288.819436     1.276373   56426.615309\n",
       "min    10000.000000     1.000000    3690.000000\n",
       "25%    10249.750000     2.750000   28702.500000\n",
       "50%    10499.500000     3.000000   45247.000000\n",
       "75%    10749.250000     4.250000   62496.500000\n",
       "max    10999.000000     5.000000  365661.000000"
      ]
     },
     "execution_count": 21,
     "metadata": {},
     "output_type": "execute_result"
    }
   ],
   "source": [
    "# 소득 컬럼의 통계 요약\n",
    "customer.describe()"
   ]
  },
  {
   "cell_type": "code",
   "execution_count": 22,
   "id": "dbbd8e9b",
   "metadata": {
    "ExecuteTime": {
     "end_time": "2022-07-17T05:40:11.866602Z",
     "start_time": "2022-07-17T05:40:11.848278Z"
    }
   },
   "outputs": [
    {
     "name": "stdout",
     "output_type": "stream",
     "text": [
      "1지역 이상치\n",
      "54     338795\n",
      "366    365661\n",
      "Name: income, dtype: int64 \n",
      "\n",
      "2지역 이상치\n",
      "387    155373\n",
      "Name: income, dtype: int64 \n",
      "\n",
      "3지역 이상치\n",
      "698    70146\n",
      "Name: income, dtype: int64 \n",
      "\n",
      "4지역 이상치\n",
      "276     3690\n",
      "370    15215\n",
      "490     4747\n",
      "755     4286\n",
      "Name: income, dtype: int64 \n",
      "\n",
      "5지역 이상치\n",
      "Series([], Name: income, dtype: int64) \n",
      "\n"
     ]
    }
   ],
   "source": [
    "# 고객 소득 데이터 이상치 처리\n",
    "for i in range(1, 6):\n",
    "    cus_info = customer[customer.region == i].describe()\n",
    "    # 사분위 수(quartile)\n",
    "    Q1 = cus_info[\"income\"][\"25%\"]\n",
    "    Q3 = cus_info[\"income\"][\"75%\"]\n",
    "    # 사분위간 범위(Interquartile range, IQR)\n",
    "    IQR = Q3 - Q1\n",
    "    print(f'{i}지역 이상치')\n",
    "    mask = (customer[customer.region == i].income <= (Q1 - IQR*1.5)\n",
    "            ) | (customer[customer.region == i].income >= (Q3 + IQR*1.5))\n",
    "    outlier = customer[customer.region == i][mask].income\n",
    "    print(outlier, '\\n')\n",
    "\n",
    "# lower whisker 보다 작거나, upper whisker 보다 큰 값들을 이상치로 판정\n",
    "\n",
    "# 위와 같이 이상치가 발생하였으나 분석 결과 사전에 설정한 가정에 영향이 없다고 판단되어 보정하지 않음"
   ]
  },
  {
   "cell_type": "markdown",
   "id": "39bce640",
   "metadata": {},
   "source": [
    "#### 연령 : age"
   ]
  },
  {
   "cell_type": "markdown",
   "id": "b836733b",
   "metadata": {},
   "source": [
    "##### 지역별 연령 데이터 산정"
   ]
  },
  {
   "cell_type": "code",
   "execution_count": 23,
   "id": "55c7573b",
   "metadata": {
    "ExecuteTime": {
     "end_time": "2022-07-17T05:40:11.892352Z",
     "start_time": "2022-07-17T05:40:11.870075Z"
    }
   },
   "outputs": [],
   "source": [
    "# 1 지역 연령 데이터 생성\n",
    "age_1_old = np.random.normal(65, 6, 60).tolist()\n",
    "age_1_young = np.random.normal(24, 3, 40).tolist()\n",
    "age_1 = age_1_old + age_1_young\n",
    "customer.age[customer.region == 1] = age_1\n",
    "\n",
    "# 2 지역 연령 데이터 생성\n",
    "age_2_old = np.random.normal(40, 3, 100).tolist()\n",
    "age_2_young = np.random.normal(5, 3, 50).tolist()\n",
    "age_2 = age_2_old + age_2_young\n",
    "customer.age[customer.region == 2] = age_2\n",
    "\n",
    "# # 3 지역 연령 데이터 생성\n",
    "age_3 = np.random.randint(23, 57, size=300).tolist()\n",
    "customer.age[customer.region == 3] = age_3\n",
    "\n",
    "# # 4 지역 연령 데이터 생성\n",
    "age_4 = np.random.randint(20, 28, size=200).tolist()\n",
    "customer.age[customer.region == 4] = age_4\n",
    "\n",
    "# # 5 지역 연령 데이터 생성\n",
    "age_5 = np.random.randint(50, 85, size=250).tolist()\n",
    "customer.age[customer.region == 5] = age_5\n",
    "\n",
    "customer.age = customer.age.map(lambda x: int(x))"
   ]
  },
  {
   "cell_type": "code",
   "execution_count": 24,
   "id": "421c7ddb-257c-49b1-a6a9-88d746207413",
   "metadata": {},
   "outputs": [
    {
     "data": {
      "image/png": "[encoded data removed]",
      "text/plain": [
       "<Figure size 432x288 with 1 Axes>"
      ]
     },
     "metadata": {
      "needs_background": "light"
     },
     "output_type": "display_data"
    }
   ],
   "source": [
    "# 지역별 나이 분포\n",
    "x = customer.region\n",
    "y = customer.age\n",
    "sns.violinplot(x,y,data=product, color='skyblue');"
   ]
  },
  {
   "cell_type": "markdown",
   "id": "a384c5c0",
   "metadata": {},
   "source": [
    "##### 지역별 연령 중 이상치 보정"
   ]
  },
  {
   "cell_type": "code",
   "execution_count": 25,
   "id": "92d2d399",
   "metadata": {
    "ExecuteTime": {
     "end_time": "2022-07-17T05:40:11.945079Z",
     "start_time": "2022-07-17T05:40:11.894239Z"
    },
    "scrolled": true
   },
   "outputs": [
    {
     "data": {
      "image/png": "[encoded data removed]",
      "text/plain": [
       "<Figure size 432x288 with 1 Axes>"
      ]
     },
     "metadata": {
      "needs_background": "light"
     },
     "output_type": "display_data"
    }
   ],
   "source": [
    "# 지역에 따른 연령 분포 확인 : by boxenplot\n",
    "sns.boxenplot(x='region', y='age', data=customer, color='skyblue');"
   ]
  },
  {
   "cell_type": "code",
   "execution_count": 26,
   "id": "eb51b914",
   "metadata": {
    "ExecuteTime": {
     "end_time": "2022-07-17T05:40:11.967230Z",
     "start_time": "2022-07-17T05:40:11.946015Z"
    },
    "scrolled": true
   },
   "outputs": [
    {
     "name": "stdout",
     "output_type": "stream",
     "text": [
      "1지역 이상치\n",
      "Series([], Name: age, dtype: int64)\n",
      "2지역 이상치\n",
      "Series([], Name: age, dtype: int64)\n",
      "3지역 이상치\n",
      "Series([], Name: age, dtype: int64)\n",
      "4지역 이상치\n",
      "Series([], Name: age, dtype: int64)\n",
      "5지역 이상치\n",
      "Series([], Name: age, dtype: int64)\n"
     ]
    }
   ],
   "source": [
    "# 고객 연령 데이터 이상치 처리\n",
    "for i in range(1, 6):\n",
    "    cus_info = customer[customer.region == i].describe()\n",
    "    # 사분위 수(quartile)\n",
    "    Q1 = cus_info[\"age\"][\"25%\"]\n",
    "    Q3 = cus_info[\"age\"][\"75%\"]\n",
    "    # 사분위간 범위(Interquartile range, IQR)\n",
    "    IQR = Q3-Q1\n",
    "    print(f'{i}지역 이상치')\n",
    "    mask = (customer[customer.region == i].age <= (Q1 - IQR*1.5)\n",
    "            ) | (customer[customer.region == i].age >= (Q3 + IQR*1.5))\n",
    "    outlier = customer[customer.region == i][mask].age\n",
    "    print(outlier)\n",
    "\n",
    "# lower whisker 보다 작거나, upper whisker 보다 큰 값들을 이상치로 판정\n",
    "# 1지역: 0개\n",
    "# 2지역: 0개\n",
    "# 3지역: 0개\n",
    "# 4지역: 0개\n",
    "# 5지역: 0개\n",
    "\n",
    "# 위와 같이 이상치가 발생하였으나 분석 결과 사전에 설정한 가정에 영향이 없다고 판단되어 보정하지 않음"
   ]
  },
  {
   "cell_type": "code",
   "execution_count": 27,
   "id": "26656077",
   "metadata": {
    "ExecuteTime": {
     "end_time": "2022-07-17T05:40:11.972981Z",
     "start_time": "2022-07-17T05:40:11.968461Z"
    },
    "tags": []
   },
   "outputs": [
    {
     "name": "stdout",
     "output_type": "stream",
     "text": [
      "1\n",
      "17    1\n",
      "18    1\n",
      "19    4\n",
      "20    2\n",
      "21    5\n",
      "22    2\n",
      "23    6\n",
      "24    1\n",
      "25    7\n",
      "26    3\n",
      "27    1\n",
      "28    5\n",
      "29    2\n",
      "49    1\n",
      "52    1\n",
      "54    2\n",
      "55    1\n",
      "56    1\n",
      "58    2\n",
      "59    2\n",
      "60    3\n",
      "61    2\n",
      "62    7\n",
      "63    3\n",
      "64    2\n",
      "65    3\n",
      "66    4\n",
      "67    3\n",
      "68    3\n",
      "69    6\n",
      "71    1\n",
      "72    3\n",
      "73    2\n",
      "74    1\n",
      "75    3\n",
      "76    1\n",
      "78    1\n",
      "80    1\n",
      "82    1\n",
      "Name: age, dtype: int64\n",
      "2\n",
      "-3      1\n",
      "-1      1\n",
      " 0      5\n",
      " 1      3\n",
      " 2      5\n",
      " 3      7\n",
      " 4      4\n",
      " 5      9\n",
      " 6      5\n",
      " 7      2\n",
      " 8      6\n",
      " 9      1\n",
      " 10     1\n",
      " 33     1\n",
      " 34     2\n",
      " 35     6\n",
      " 36     6\n",
      " 37    10\n",
      " 38    13\n",
      " 39    13\n",
      " 40     8\n",
      " 41    11\n",
      " 42    13\n",
      " 43     7\n",
      " 44     5\n",
      " 45     2\n",
      " 46     2\n",
      " 48     1\n",
      "Name: age, dtype: int64\n",
      "3\n",
      "23     7\n",
      "24     6\n",
      "25    10\n",
      "26     5\n",
      "27     4\n",
      "28    12\n",
      "29     6\n",
      "30    12\n",
      "31    12\n",
      "32    10\n",
      "33    10\n",
      "34    11\n",
      "35     7\n",
      "36     8\n",
      "37     6\n",
      "38    13\n",
      "39     7\n",
      "40    15\n",
      "41     8\n",
      "42     8\n",
      "43     9\n",
      "44     9\n",
      "45     9\n",
      "46    11\n",
      "47    14\n",
      "48    13\n",
      "49    12\n",
      "50     9\n",
      "51     5\n",
      "52     7\n",
      "53     4\n",
      "54     5\n",
      "55     9\n",
      "56     7\n",
      "Name: age, dtype: int64\n",
      "4\n",
      "20    27\n",
      "21    21\n",
      "22    23\n",
      "23    21\n",
      "24    24\n",
      "25    30\n",
      "26    22\n",
      "27    32\n",
      "Name: age, dtype: int64\n",
      "5\n",
      "50     9\n",
      "51     9\n",
      "52     3\n",
      "53     8\n",
      "54     7\n",
      "55     9\n",
      "56     9\n",
      "57     4\n",
      "58     7\n",
      "59     8\n",
      "60     6\n",
      "61     6\n",
      "62     7\n",
      "63     5\n",
      "64     8\n",
      "65     4\n",
      "66     3\n",
      "67     3\n",
      "68    10\n",
      "69     8\n",
      "70    13\n",
      "71     9\n",
      "72     7\n",
      "73     9\n",
      "74     5\n",
      "75     6\n",
      "76     9\n",
      "77     6\n",
      "78     8\n",
      "79    11\n",
      "80     6\n",
      "81     4\n",
      "82     7\n",
      "83    10\n",
      "84     7\n",
      "Name: age, dtype: int64\n"
     ]
    }
   ],
   "source": [
    "# 추가 이상치 검증 : 나이가 음수인 이상치 확인\n",
    "grouped = customer.groupby('region').age\n",
    "for i, j in grouped:\n",
    "    print(i)\n",
    "    print(j.value_counts().sort_index())"
   ]
  },
  {
   "cell_type": "code",
   "execution_count": 28,
   "id": "e7ff988c",
   "metadata": {
    "ExecuteTime": {
     "end_time": "2022-07-17T05:40:11.977997Z",
     "start_time": "2022-07-17T05:40:11.973885Z"
    }
   },
   "outputs": [
    {
     "data": {
      "text/plain": [
       "0      5\n",
       "1      4\n",
       "2      5\n",
       "3      8\n",
       "4      4\n",
       "      ..\n",
       "80     7\n",
       "81     4\n",
       "82     8\n",
       "83    10\n",
       "84     7\n",
       "Name: age, Length: 79, dtype: int64"
      ]
     },
     "execution_count": 28,
     "metadata": {},
     "output_type": "execute_result"
    }
   ],
   "source": [
    "# 추가 이상치 검증 : 나이가 음수인 이상치를 절대값을 이용하여 유효한 값으로 보정\n",
    "customer[customer.age <= 0] = abs(customer[customer.age <= 0])\n",
    "customer.age.value_counts().sort_index()"
   ]
  },
  {
   "cell_type": "markdown",
   "id": "14bc15e0",
   "metadata": {},
   "source": [
    "#### 성별 : gender"
   ]
  },
  {
   "cell_type": "markdown",
   "id": "8d4787f2",
   "metadata": {},
   "source": [
    "##### 지역별 성별 데이터 산정"
   ]
  },
  {
   "cell_type": "code",
   "execution_count": 29,
   "id": "bb91f34f",
   "metadata": {
    "ExecuteTime": {
     "end_time": "2022-07-17T05:40:11.999666Z",
     "start_time": "2022-07-17T05:40:11.979067Z"
    }
   },
   "outputs": [
    {
     "name": "stdout",
     "output_type": "stream",
     "text": [
      "남성 : 481명\n",
      "여성 : 519명\n"
     ]
    }
   ],
   "source": [
    "# 1 지역 성별 데이터 생성\n",
    "gender_1_male = np.random.randint(0, 1, size=40).tolist()\n",
    "gender_1_female = np.random.randint(1, 2, size=60).tolist()\n",
    "gender_1 = gender_1_male + gender_1_female\n",
    "random.shuffle(gender_1)\n",
    "customer.gender[customer.region == 1] = gender_1\n",
    "\n",
    "# 2 지역 성별 데이터 생성\n",
    "gender_2 = np.random.randint(0, 2, size=150)\n",
    "customer.gender[customer.region == 2] = gender_2\n",
    "\n",
    "# 3 지역 성별 데이터 생성\n",
    "gender_3 = np.random.randint(0, 2, size=300)\n",
    "customer.gender[customer.region == 3] = gender_3\n",
    "\n",
    "# 4 지역 성별 데이터 생성\n",
    "gender_4 = np.random.randint(0, 2, size=200)\n",
    "customer.gender[customer.region == 4] = gender_4\n",
    "\n",
    "# 5 지역 성별 데이터 생성\n",
    "gender_5 = np.random.randint(0, 2, size=250)\n",
    "customer.gender[customer.region == 5] = gender_5\n",
    "\n",
    "customer.gender = customer.gender.map(lambda x: int(x))\n",
    "gender_count = customer.gender.value_counts().sort_index()\n",
    "\n",
    "print(f'남성 : {gender_count[0]}명\\n여성 : {gender_count[1]}명')"
   ]
  },
  {
   "cell_type": "markdown",
   "id": "d0a61197",
   "metadata": {},
   "source": [
    "### 고객 데이터프레임 종속변수"
   ]
  },
  {
   "cell_type": "markdown",
   "id": "aa69c1d9",
   "metadata": {},
   "source": [
    "#### 년도별 고객별 연간 매출액 : ASC_20, ASC_21"
   ]
  },
  {
   "cell_type": "code",
   "execution_count": 30,
   "id": "c2334099",
   "metadata": {
    "ExecuteTime": {
     "end_time": "2022-07-17T05:40:12.436319Z",
     "start_time": "2022-07-17T05:40:12.000596Z"
    }
   },
   "outputs": [],
   "source": [
    "li_2020 = []\n",
    "li_2021 = []\n",
    "for i in range(10000, 11000):\n",
    "    a = purchase[(purchase['cusno_ts'] == i) & (\n",
    "        purchase[\"year\"] == 2020)].amount.sum()\n",
    "    b = purchase[(purchase['cusno_ts'] == i) & (\n",
    "        purchase[\"year\"] == 2021)].amount.sum()\n",
    "\n",
    "    li_2020.append(a)\n",
    "    li_2021.append(b)\n",
    "\n",
    "customer.ASC_20 = li_2020\n",
    "customer.ASC_21 = li_2021"
   ]
  },
  {
   "cell_type": "markdown",
   "id": "9b041e1c",
   "metadata": {
    "tags": []
   },
   "source": [
    "#### 년도별 고객 등급 : grade_20, grade_21"
   ]
  },
  {
   "cell_type": "code",
   "execution_count": 31,
   "id": "a0de924c",
   "metadata": {
    "ExecuteTime": {
     "end_time": "2022-07-17T05:40:12.441453Z",
     "start_time": "2022-07-17T05:40:12.437179Z"
    },
    "scrolled": true
   },
   "outputs": [],
   "source": [
    "# 고객 등급 선정\n",
    "# 3가지 등급, 인원수 1:1:1 비율로 선정\n",
    "grade_20_Silver = customer.sort_values('ASC_20').ASC_20.iloc[333]\n",
    "grade_20_Gold = customer.sort_values('ASC_20').ASC_20.iloc[666]\n",
    "grade_20_VIP = customer.sort_values('ASC_20').ASC_20.iloc[999]\n",
    "\n",
    "grade_21_Silver = customer.sort_values('ASC_21').ASC_21.iloc[333]\n",
    "grade_21_Gold = customer.sort_values('ASC_21').ASC_21.iloc[666]\n",
    "grade_21_VIP = customer.sort_values('ASC_21').ASC_21.iloc[999]\n",
    "\n",
    "bin_dividers_20 = [0,grade_20_Silver,grade_20_Gold,grade_20_VIP]\n",
    "bin_dividers_21 = [0,grade_21_Silver,grade_21_Gold,grade_21_VIP]\n",
    "\n",
    "bin_names = ['Silver', 'Gold', 'VIP']  # qcut\n",
    "customer['grade_20'] = pd.cut(x=customer.ASC_20,  # 데이터 배열\n",
    "                              bins=bin_dividers_20,  # 경계값 리스트\n",
    "                              labels=bin_names,  # bin 이름\n",
    "                              include_lowest=True)  # 첫 경계값 포함 여부\n",
    "bin_names = ['Silver', 'Gold', 'VIP']\n",
    "customer['grade_21'] = pd.cut(x=customer.ASC_21,  # 데이터 배열\n",
    "                              bins=bin_dividers_21 ,  # 경계값 리스트\n",
    "                              labels=bin_names,  # bin 이름\n",
    "                              include_lowest=True)  # 첫 경계값 포함 여부\n"
   ]
  },
  {
   "cell_type": "markdown",
   "id": "eeb3615d",
   "metadata": {},
   "source": [
    "#### 년도별 고객별 연간 방문 횟수 : AVC_20, AVC_21"
   ]
  },
  {
   "cell_type": "code",
   "execution_count": 32,
   "id": "110c986a",
   "metadata": {
    "ExecuteTime": {
     "end_time": "2022-07-17T05:40:12.780528Z",
     "start_time": "2022-07-17T05:40:12.442337Z"
    },
    "scrolled": true
   },
   "outputs": [],
   "source": [
    "li_2020 = []\n",
    "li_2021 = []\n",
    "for i in range(10000, 11000):\n",
    "    a = purchase[(purchase['cusno_ts'] == i) & (purchase[\"year\"] == 2020)]\n",
    "    li_2020.append(len(a))\n",
    "    a = purchase[(purchase['cusno_ts'] == i) & (purchase[\"year\"] == 2021)]\n",
    "    li_2021.append(len(a))\n",
    "\n",
    "customer.AVC_20 = li_2020\n",
    "customer.AVC_21 = li_2021"
   ]
  },
  {
   "cell_type": "markdown",
   "id": "158ace2b",
   "metadata": {},
   "source": [
    "#### 년도별 고객별 회당 평균 결제액(Average Revenue Per Paid User) : ARPPU_20, ARPPU_21"
   ]
  },
  {
   "cell_type": "code",
   "execution_count": 33,
   "id": "6cba7d29",
   "metadata": {
    "ExecuteTime": {
     "end_time": "2022-07-17T05:40:12.784196Z",
     "start_time": "2022-07-17T05:40:12.781496Z"
    }
   },
   "outputs": [],
   "source": [
    "customer.ARPPU_20 = (customer.ASC_20 / customer.AVC_20).round()\n",
    "customer.ARPPU_21 = (customer.ASC_21 / customer.AVC_21).round()"
   ]
  },
  {
   "cell_type": "markdown",
   "id": "597ac159",
   "metadata": {},
   "source": [
    "#### 고객별 구매 추세 변화 : purchase_trend"
   ]
  },
  {
   "cell_type": "code",
   "execution_count": 34,
   "id": "ec75872e",
   "metadata": {
    "ExecuteTime": {
     "end_time": "2022-07-17T05:40:12.787005Z",
     "start_time": "2022-07-17T05:40:12.785302Z"
    }
   },
   "outputs": [
    {
     "data": {
      "text/html": [
       "<div>\n",
       "<style scoped>\n",
       "    .dataframe tbody tr th:only-of-type {\n",
       "        vertical-align: middle;\n",
       "    }\n",
       "\n",
       "    .dataframe tbody tr th {\n",
       "        vertical-align: top;\n",
       "    }\n",
       "\n",
       "    .dataframe thead th {\n",
       "        text-align: right;\n",
       "    }\n",
       "</style>\n",
       "<table border=\"1\" class=\"dataframe\">\n",
       "  <thead>\n",
       "    <tr style=\"text-align: right;\">\n",
       "      <th></th>\n",
       "      <th>cusno</th>\n",
       "      <th>region</th>\n",
       "      <th>gender</th>\n",
       "      <th>age</th>\n",
       "      <th>income</th>\n",
       "      <th>grade_20</th>\n",
       "      <th>grade_21</th>\n",
       "      <th>ARPPU_20</th>\n",
       "      <th>ARPPU_21</th>\n",
       "      <th>AVC_20</th>\n",
       "      <th>AVC_21</th>\n",
       "      <th>ASC_20</th>\n",
       "      <th>ASC_21</th>\n",
       "      <th>purchase_trend</th>\n",
       "    </tr>\n",
       "  </thead>\n",
       "  <tbody>\n",
       "    <tr>\n",
       "      <th>0</th>\n",
       "      <td>10000</td>\n",
       "      <td>3</td>\n",
       "      <td>0</td>\n",
       "      <td>30</td>\n",
       "      <td>57910</td>\n",
       "      <td>VIP</td>\n",
       "      <td>Gold</td>\n",
       "      <td>292389.0</td>\n",
       "      <td>153603.0</td>\n",
       "      <td>9</td>\n",
       "      <td>4</td>\n",
       "      <td>2631500</td>\n",
       "      <td>614411</td>\n",
       "      <td>0</td>\n",
       "    </tr>\n",
       "    <tr>\n",
       "      <th>1</th>\n",
       "      <td>10001</td>\n",
       "      <td>2</td>\n",
       "      <td>1</td>\n",
       "      <td>36</td>\n",
       "      <td>115808</td>\n",
       "      <td>Silver</td>\n",
       "      <td>Silver</td>\n",
       "      <td>52148.0</td>\n",
       "      <td>103070.0</td>\n",
       "      <td>3</td>\n",
       "      <td>3</td>\n",
       "      <td>156444</td>\n",
       "      <td>309211</td>\n",
       "      <td>1</td>\n",
       "    </tr>\n",
       "    <tr>\n",
       "      <th>2</th>\n",
       "      <td>10002</td>\n",
       "      <td>4</td>\n",
       "      <td>1</td>\n",
       "      <td>26</td>\n",
       "      <td>9770</td>\n",
       "      <td>Gold</td>\n",
       "      <td>VIP</td>\n",
       "      <td>459348.0</td>\n",
       "      <td>156687.0</td>\n",
       "      <td>3</td>\n",
       "      <td>7</td>\n",
       "      <td>1378044</td>\n",
       "      <td>1096812</td>\n",
       "      <td>0</td>\n",
       "    </tr>\n",
       "    <tr>\n",
       "      <th>3</th>\n",
       "      <td>10003</td>\n",
       "      <td>2</td>\n",
       "      <td>0</td>\n",
       "      <td>42</td>\n",
       "      <td>125223</td>\n",
       "      <td>Gold</td>\n",
       "      <td>Silver</td>\n",
       "      <td>271016.0</td>\n",
       "      <td>118062.0</td>\n",
       "      <td>5</td>\n",
       "      <td>1</td>\n",
       "      <td>1355078</td>\n",
       "      <td>118062</td>\n",
       "      <td>0</td>\n",
       "    </tr>\n",
       "    <tr>\n",
       "      <th>4</th>\n",
       "      <td>10004</td>\n",
       "      <td>4</td>\n",
       "      <td>0</td>\n",
       "      <td>22</td>\n",
       "      <td>10505</td>\n",
       "      <td>VIP</td>\n",
       "      <td>Silver</td>\n",
       "      <td>333410.0</td>\n",
       "      <td>99797.0</td>\n",
       "      <td>6</td>\n",
       "      <td>2</td>\n",
       "      <td>2000463</td>\n",
       "      <td>199594</td>\n",
       "      <td>0</td>\n",
       "    </tr>\n",
       "  </tbody>\n",
       "</table>\n",
       "</div>"
      ],
      "text/plain": [
       "   cusno  region  gender  age  income grade_20 grade_21  ARPPU_20  ARPPU_21  \\\n",
       "0  10000       3       0   30   57910      VIP     Gold  292389.0  153603.0   \n",
       "1  10001       2       1   36  115808   Silver   Silver   52148.0  103070.0   \n",
       "2  10002       4       1   26    9770     Gold      VIP  459348.0  156687.0   \n",
       "3  10003       2       0   42  125223     Gold   Silver  271016.0  118062.0   \n",
       "4  10004       4       0   22   10505      VIP   Silver  333410.0   99797.0   \n",
       "\n",
       "   AVC_20  AVC_21   ASC_20   ASC_21  purchase_trend  \n",
       "0       9       4  2631500   614411               0  \n",
       "1       3       3   156444   309211               1  \n",
       "2       3       7  1378044  1096812               0  \n",
       "3       5       1  1355078   118062               0  \n",
       "4       6       2  2000463   199594               0  "
      ]
     },
     "execution_count": 34,
     "metadata": {},
     "output_type": "execute_result"
    }
   ],
   "source": [
    "customer.purchase_trend = np.where(customer.ASC_21 > customer.ASC_20, 1,0)\n",
    "customer.head()"
   ]
  },
  {
   "cell_type": "markdown",
   "id": "50ea8baa",
   "metadata": {},
   "source": [
    "## DataFrame 확인"
   ]
  },
  {
   "cell_type": "markdown",
   "id": "b02a87c7",
   "metadata": {},
   "source": [
    "### 결측치 처리"
   ]
  },
  {
   "cell_type": "code",
   "execution_count": 35,
   "id": "06c7195c",
   "metadata": {
    "ExecuteTime": {
     "end_time": "2022-07-17T05:40:12.791005Z",
     "start_time": "2022-07-17T05:40:12.787937Z"
    },
    "scrolled": true
   },
   "outputs": [
    {
     "data": {
      "text/plain": [
       "cusno              0\n",
       "region             0\n",
       "gender             0\n",
       "age                0\n",
       "income             0\n",
       "grade_20           0\n",
       "grade_21           0\n",
       "ARPPU_20           1\n",
       "ARPPU_21          15\n",
       "AVC_20             0\n",
       "AVC_21             0\n",
       "ASC_20             0\n",
       "ASC_21             0\n",
       "purchase_trend     0\n",
       "dtype: int64"
      ]
     },
     "execution_count": 35,
     "metadata": {},
     "output_type": "execute_result"
    }
   ],
   "source": [
    "customer.isnull().sum()"
   ]
  },
  {
   "cell_type": "code",
   "execution_count": 36,
   "id": "fb6ab4da",
   "metadata": {
    "ExecuteTime": {
     "end_time": "2022-07-17T05:40:12.795816Z",
     "start_time": "2022-07-17T05:40:12.791948Z"
    }
   },
   "outputs": [
    {
     "data": {
      "text/plain": [
       "cusno             0\n",
       "region            0\n",
       "gender            0\n",
       "age               0\n",
       "income            0\n",
       "grade_20          0\n",
       "grade_21          0\n",
       "ARPPU_20          0\n",
       "ARPPU_21          0\n",
       "AVC_20            0\n",
       "AVC_21            0\n",
       "ASC_20            0\n",
       "ASC_21            0\n",
       "purchase_trend    0\n",
       "dtype: int64"
      ]
     },
     "execution_count": 36,
     "metadata": {},
     "output_type": "execute_result"
    }
   ],
   "source": [
    "customer.ARPPU_20.fillna(0, inplace=True)\n",
    "customer.ARPPU_21.fillna(0, inplace=True)\n",
    "customer.isnull().sum()"
   ]
  },
  {
   "cell_type": "code",
   "execution_count": 37,
   "id": "fd90b862",
   "metadata": {
    "ExecuteTime": {
     "end_time": "2022-07-17T05:40:12.800880Z",
     "start_time": "2022-07-17T05:40:12.796654Z"
    },
    "scrolled": true
   },
   "outputs": [
    {
     "data": {
      "text/html": [
       "<div>\n",
       "<style scoped>\n",
       "    .dataframe tbody tr th:only-of-type {\n",
       "        vertical-align: middle;\n",
       "    }\n",
       "\n",
       "    .dataframe tbody tr th {\n",
       "        vertical-align: top;\n",
       "    }\n",
       "\n",
       "    .dataframe thead th {\n",
       "        text-align: right;\n",
       "    }\n",
       "</style>\n",
       "<table border=\"1\" class=\"dataframe\">\n",
       "  <thead>\n",
       "    <tr style=\"text-align: right;\">\n",
       "      <th></th>\n",
       "      <th>product_num</th>\n",
       "      <th>price</th>\n",
       "      <th>price_grade</th>\n",
       "    </tr>\n",
       "  </thead>\n",
       "  <tbody>\n",
       "    <tr>\n",
       "      <th>0</th>\n",
       "      <td>1</td>\n",
       "      <td>51494</td>\n",
       "      <td>1</td>\n",
       "    </tr>\n",
       "    <tr>\n",
       "      <th>1</th>\n",
       "      <td>2</td>\n",
       "      <td>56125</td>\n",
       "      <td>1</td>\n",
       "    </tr>\n",
       "    <tr>\n",
       "      <th>2</th>\n",
       "      <td>3</td>\n",
       "      <td>6306</td>\n",
       "      <td>3</td>\n",
       "    </tr>\n",
       "    <tr>\n",
       "      <th>3</th>\n",
       "      <td>4</td>\n",
       "      <td>34936</td>\n",
       "      <td>2</td>\n",
       "    </tr>\n",
       "    <tr>\n",
       "      <th>4</th>\n",
       "      <td>5</td>\n",
       "      <td>68013</td>\n",
       "      <td>1</td>\n",
       "    </tr>\n",
       "    <tr>\n",
       "      <th>...</th>\n",
       "      <td>...</td>\n",
       "      <td>...</td>\n",
       "      <td>...</td>\n",
       "    </tr>\n",
       "    <tr>\n",
       "      <th>95</th>\n",
       "      <td>96</td>\n",
       "      <td>25100</td>\n",
       "      <td>2</td>\n",
       "    </tr>\n",
       "    <tr>\n",
       "      <th>96</th>\n",
       "      <td>97</td>\n",
       "      <td>25823</td>\n",
       "      <td>2</td>\n",
       "    </tr>\n",
       "    <tr>\n",
       "      <th>97</th>\n",
       "      <td>98</td>\n",
       "      <td>25475</td>\n",
       "      <td>2</td>\n",
       "    </tr>\n",
       "    <tr>\n",
       "      <th>98</th>\n",
       "      <td>99</td>\n",
       "      <td>5321</td>\n",
       "      <td>3</td>\n",
       "    </tr>\n",
       "    <tr>\n",
       "      <th>99</th>\n",
       "      <td>100</td>\n",
       "      <td>81317</td>\n",
       "      <td>1</td>\n",
       "    </tr>\n",
       "  </tbody>\n",
       "</table>\n",
       "<p>100 rows × 3 columns</p>\n",
       "</div>"
      ],
      "text/plain": [
       "    product_num  price price_grade\n",
       "0             1  51494           1\n",
       "1             2  56125           1\n",
       "2             3   6306           3\n",
       "3             4  34936           2\n",
       "4             5  68013           1\n",
       "..          ...    ...         ...\n",
       "95           96  25100           2\n",
       "96           97  25823           2\n",
       "97           98  25475           2\n",
       "98           99   5321           3\n",
       "99          100  81317           1\n",
       "\n",
       "[100 rows x 3 columns]"
      ]
     },
     "execution_count": 37,
     "metadata": {},
     "output_type": "execute_result"
    }
   ],
   "source": [
    "product"
   ]
  },
  {
   "cell_type": "code",
   "execution_count": 38,
   "id": "f2117545",
   "metadata": {
    "ExecuteTime": {
     "end_time": "2022-07-17T05:40:12.805399Z",
     "start_time": "2022-07-17T05:40:12.801620Z"
    },
    "scrolled": true
   },
   "outputs": [
    {
     "name": "stdout",
     "output_type": "stream",
     "text": [
      "<class 'pandas.core.frame.DataFrame'>\n",
      "RangeIndex: 100 entries, 0 to 99\n",
      "Data columns (total 3 columns):\n",
      " #   Column       Non-Null Count  Dtype \n",
      "---  ------       --------------  ----- \n",
      " 0   product_num  100 non-null    int64 \n",
      " 1   price        100 non-null    int64 \n",
      " 2   price_grade  100 non-null    object\n",
      "dtypes: int64(2), object(1)\n",
      "memory usage: 2.5+ KB\n"
     ]
    }
   ],
   "source": [
    "product.info()"
   ]
  },
  {
   "cell_type": "code",
   "execution_count": 39,
   "id": "d362a443",
   "metadata": {
    "ExecuteTime": {
     "end_time": "2022-07-17T05:40:12.811837Z",
     "start_time": "2022-07-17T05:40:12.806299Z"
    }
   },
   "outputs": [
    {
     "data": {
      "text/html": [
       "<div>\n",
       "<style scoped>\n",
       "    .dataframe tbody tr th:only-of-type {\n",
       "        vertical-align: middle;\n",
       "    }\n",
       "\n",
       "    .dataframe tbody tr th {\n",
       "        vertical-align: top;\n",
       "    }\n",
       "\n",
       "    .dataframe thead th {\n",
       "        text-align: right;\n",
       "    }\n",
       "</style>\n",
       "<table border=\"1\" class=\"dataframe\">\n",
       "  <thead>\n",
       "    <tr style=\"text-align: right;\">\n",
       "      <th></th>\n",
       "      <th>num_ts</th>\n",
       "      <th>cusno_ts</th>\n",
       "      <th>product_num_ts</th>\n",
       "      <th>price_ts</th>\n",
       "      <th>quantity</th>\n",
       "      <th>amount</th>\n",
       "      <th>date</th>\n",
       "      <th>year</th>\n",
       "      <th>weekday</th>\n",
       "      <th>hour</th>\n",
       "    </tr>\n",
       "  </thead>\n",
       "  <tbody>\n",
       "    <tr>\n",
       "      <th>0</th>\n",
       "      <td>0</td>\n",
       "      <td>10660</td>\n",
       "      <td>31</td>\n",
       "      <td>74375</td>\n",
       "      <td>5</td>\n",
       "      <td>371875</td>\n",
       "      <td>2020-01-01</td>\n",
       "      <td>2020</td>\n",
       "      <td>2</td>\n",
       "      <td>3</td>\n",
       "    </tr>\n",
       "    <tr>\n",
       "      <th>1</th>\n",
       "      <td>1</td>\n",
       "      <td>10760</td>\n",
       "      <td>45</td>\n",
       "      <td>72919</td>\n",
       "      <td>4</td>\n",
       "      <td>291676</td>\n",
       "      <td>2020-01-01</td>\n",
       "      <td>2020</td>\n",
       "      <td>2</td>\n",
       "      <td>13</td>\n",
       "    </tr>\n",
       "    <tr>\n",
       "      <th>2</th>\n",
       "      <td>2</td>\n",
       "      <td>10626</td>\n",
       "      <td>8</td>\n",
       "      <td>40755</td>\n",
       "      <td>6</td>\n",
       "      <td>244530</td>\n",
       "      <td>2020-01-01</td>\n",
       "      <td>2020</td>\n",
       "      <td>2</td>\n",
       "      <td>13</td>\n",
       "    </tr>\n",
       "    <tr>\n",
       "      <th>3</th>\n",
       "      <td>3</td>\n",
       "      <td>10918</td>\n",
       "      <td>48</td>\n",
       "      <td>95333</td>\n",
       "      <td>1</td>\n",
       "      <td>95333</td>\n",
       "      <td>2020-01-01</td>\n",
       "      <td>2020</td>\n",
       "      <td>2</td>\n",
       "      <td>0</td>\n",
       "    </tr>\n",
       "    <tr>\n",
       "      <th>4</th>\n",
       "      <td>4</td>\n",
       "      <td>10114</td>\n",
       "      <td>84</td>\n",
       "      <td>80060</td>\n",
       "      <td>3</td>\n",
       "      <td>240180</td>\n",
       "      <td>2020-01-01</td>\n",
       "      <td>2020</td>\n",
       "      <td>2</td>\n",
       "      <td>21</td>\n",
       "    </tr>\n",
       "    <tr>\n",
       "      <th>...</th>\n",
       "      <td>...</td>\n",
       "      <td>...</td>\n",
       "      <td>...</td>\n",
       "      <td>...</td>\n",
       "      <td>...</td>\n",
       "      <td>...</td>\n",
       "      <td>...</td>\n",
       "      <td>...</td>\n",
       "      <td>...</td>\n",
       "      <td>...</td>\n",
       "    </tr>\n",
       "    <tr>\n",
       "      <th>9995</th>\n",
       "      <td>9995</td>\n",
       "      <td>10691</td>\n",
       "      <td>61</td>\n",
       "      <td>9255</td>\n",
       "      <td>1</td>\n",
       "      <td>9255</td>\n",
       "      <td>2021-12-30</td>\n",
       "      <td>2021</td>\n",
       "      <td>3</td>\n",
       "      <td>4</td>\n",
       "    </tr>\n",
       "    <tr>\n",
       "      <th>9996</th>\n",
       "      <td>9996</td>\n",
       "      <td>10629</td>\n",
       "      <td>6</td>\n",
       "      <td>64691</td>\n",
       "      <td>4</td>\n",
       "      <td>258764</td>\n",
       "      <td>2021-12-30</td>\n",
       "      <td>2021</td>\n",
       "      <td>3</td>\n",
       "      <td>20</td>\n",
       "    </tr>\n",
       "    <tr>\n",
       "      <th>9997</th>\n",
       "      <td>9997</td>\n",
       "      <td>10373</td>\n",
       "      <td>5</td>\n",
       "      <td>68013</td>\n",
       "      <td>1</td>\n",
       "      <td>68013</td>\n",
       "      <td>2021-12-30</td>\n",
       "      <td>2021</td>\n",
       "      <td>3</td>\n",
       "      <td>19</td>\n",
       "    </tr>\n",
       "    <tr>\n",
       "      <th>9998</th>\n",
       "      <td>9998</td>\n",
       "      <td>10144</td>\n",
       "      <td>45</td>\n",
       "      <td>72919</td>\n",
       "      <td>2</td>\n",
       "      <td>145838</td>\n",
       "      <td>2021-12-31</td>\n",
       "      <td>2021</td>\n",
       "      <td>4</td>\n",
       "      <td>0</td>\n",
       "    </tr>\n",
       "    <tr>\n",
       "      <th>9999</th>\n",
       "      <td>9999</td>\n",
       "      <td>10024</td>\n",
       "      <td>21</td>\n",
       "      <td>93428</td>\n",
       "      <td>3</td>\n",
       "      <td>280284</td>\n",
       "      <td>2021-12-31</td>\n",
       "      <td>2021</td>\n",
       "      <td>4</td>\n",
       "      <td>0</td>\n",
       "    </tr>\n",
       "  </tbody>\n",
       "</table>\n",
       "<p>10000 rows × 10 columns</p>\n",
       "</div>"
      ],
      "text/plain": [
       "      num_ts  cusno_ts  product_num_ts  price_ts  quantity  amount       date  \\\n",
       "0          0     10660              31     74375         5  371875 2020-01-01   \n",
       "1          1     10760              45     72919         4  291676 2020-01-01   \n",
       "2          2     10626               8     40755         6  244530 2020-01-01   \n",
       "3          3     10918              48     95333         1   95333 2020-01-01   \n",
       "4          4     10114              84     80060         3  240180 2020-01-01   \n",
       "...      ...       ...             ...       ...       ...     ...        ...   \n",
       "9995    9995     10691              61      9255         1    9255 2021-12-30   \n",
       "9996    9996     10629               6     64691         4  258764 2021-12-30   \n",
       "9997    9997     10373               5     68013         1   68013 2021-12-30   \n",
       "9998    9998     10144              45     72919         2  145838 2021-12-31   \n",
       "9999    9999     10024              21     93428         3  280284 2021-12-31   \n",
       "\n",
       "      year  weekday  hour  \n",
       "0     2020        2     3  \n",
       "1     2020        2    13  \n",
       "2     2020        2    13  \n",
       "3     2020        2     0  \n",
       "4     2020        2    21  \n",
       "...    ...      ...   ...  \n",
       "9995  2021        3     4  \n",
       "9996  2021        3    20  \n",
       "9997  2021        3    19  \n",
       "9998  2021        4     0  \n",
       "9999  2021        4     0  \n",
       "\n",
       "[10000 rows x 10 columns]"
      ]
     },
     "execution_count": 39,
     "metadata": {},
     "output_type": "execute_result"
    }
   ],
   "source": [
    "purchase"
   ]
  },
  {
   "cell_type": "code",
   "execution_count": 40,
   "id": "89b03729",
   "metadata": {
    "ExecuteTime": {
     "end_time": "2022-07-17T05:40:12.818611Z",
     "start_time": "2022-07-17T05:40:12.812701Z"
    },
    "scrolled": true
   },
   "outputs": [
    {
     "name": "stdout",
     "output_type": "stream",
     "text": [
      "<class 'pandas.core.frame.DataFrame'>\n",
      "RangeIndex: 10000 entries, 0 to 9999\n",
      "Data columns (total 10 columns):\n",
      " #   Column          Non-Null Count  Dtype         \n",
      "---  ------          --------------  -----         \n",
      " 0   num_ts          10000 non-null  int64         \n",
      " 1   cusno_ts        10000 non-null  int64         \n",
      " 2   product_num_ts  10000 non-null  int64         \n",
      " 3   price_ts        10000 non-null  int64         \n",
      " 4   quantity        10000 non-null  int64         \n",
      " 5   amount          10000 non-null  int64         \n",
      " 6   date            10000 non-null  datetime64[ns]\n",
      " 7   year            10000 non-null  int64         \n",
      " 8   weekday         10000 non-null  int64         \n",
      " 9   hour            10000 non-null  int64         \n",
      "dtypes: datetime64[ns](1), int64(9)\n",
      "memory usage: 781.4 KB\n"
     ]
    }
   ],
   "source": [
    "purchase.info()"
   ]
  },
  {
   "cell_type": "code",
   "execution_count": 41,
   "id": "6a47bebb",
   "metadata": {
    "ExecuteTime": {
     "end_time": "2022-07-17T05:40:12.827612Z",
     "start_time": "2022-07-17T05:40:12.819480Z"
    }
   },
   "outputs": [
    {
     "data": {
      "text/html": [
       "<div>\n",
       "<style scoped>\n",
       "    .dataframe tbody tr th:only-of-type {\n",
       "        vertical-align: middle;\n",
       "    }\n",
       "\n",
       "    .dataframe tbody tr th {\n",
       "        vertical-align: top;\n",
       "    }\n",
       "\n",
       "    .dataframe thead th {\n",
       "        text-align: right;\n",
       "    }\n",
       "</style>\n",
       "<table border=\"1\" class=\"dataframe\">\n",
       "  <thead>\n",
       "    <tr style=\"text-align: right;\">\n",
       "      <th></th>\n",
       "      <th>cusno</th>\n",
       "      <th>region</th>\n",
       "      <th>gender</th>\n",
       "      <th>age</th>\n",
       "      <th>income</th>\n",
       "      <th>grade_20</th>\n",
       "      <th>grade_21</th>\n",
       "      <th>ARPPU_20</th>\n",
       "      <th>ARPPU_21</th>\n",
       "      <th>AVC_20</th>\n",
       "      <th>AVC_21</th>\n",
       "      <th>ASC_20</th>\n",
       "      <th>ASC_21</th>\n",
       "      <th>purchase_trend</th>\n",
       "    </tr>\n",
       "  </thead>\n",
       "  <tbody>\n",
       "    <tr>\n",
       "      <th>0</th>\n",
       "      <td>10000</td>\n",
       "      <td>3</td>\n",
       "      <td>0</td>\n",
       "      <td>30</td>\n",
       "      <td>57910</td>\n",
       "      <td>VIP</td>\n",
       "      <td>Gold</td>\n",
       "      <td>292389.0</td>\n",
       "      <td>153603.0</td>\n",
       "      <td>9</td>\n",
       "      <td>4</td>\n",
       "      <td>2631500</td>\n",
       "      <td>614411</td>\n",
       "      <td>0</td>\n",
       "    </tr>\n",
       "    <tr>\n",
       "      <th>1</th>\n",
       "      <td>10001</td>\n",
       "      <td>2</td>\n",
       "      <td>1</td>\n",
       "      <td>36</td>\n",
       "      <td>115808</td>\n",
       "      <td>Silver</td>\n",
       "      <td>Silver</td>\n",
       "      <td>52148.0</td>\n",
       "      <td>103070.0</td>\n",
       "      <td>3</td>\n",
       "      <td>3</td>\n",
       "      <td>156444</td>\n",
       "      <td>309211</td>\n",
       "      <td>1</td>\n",
       "    </tr>\n",
       "    <tr>\n",
       "      <th>2</th>\n",
       "      <td>10002</td>\n",
       "      <td>4</td>\n",
       "      <td>1</td>\n",
       "      <td>26</td>\n",
       "      <td>9770</td>\n",
       "      <td>Gold</td>\n",
       "      <td>VIP</td>\n",
       "      <td>459348.0</td>\n",
       "      <td>156687.0</td>\n",
       "      <td>3</td>\n",
       "      <td>7</td>\n",
       "      <td>1378044</td>\n",
       "      <td>1096812</td>\n",
       "      <td>0</td>\n",
       "    </tr>\n",
       "    <tr>\n",
       "      <th>3</th>\n",
       "      <td>10003</td>\n",
       "      <td>2</td>\n",
       "      <td>0</td>\n",
       "      <td>42</td>\n",
       "      <td>125223</td>\n",
       "      <td>Gold</td>\n",
       "      <td>Silver</td>\n",
       "      <td>271016.0</td>\n",
       "      <td>118062.0</td>\n",
       "      <td>5</td>\n",
       "      <td>1</td>\n",
       "      <td>1355078</td>\n",
       "      <td>118062</td>\n",
       "      <td>0</td>\n",
       "    </tr>\n",
       "    <tr>\n",
       "      <th>4</th>\n",
       "      <td>10004</td>\n",
       "      <td>4</td>\n",
       "      <td>0</td>\n",
       "      <td>22</td>\n",
       "      <td>10505</td>\n",
       "      <td>VIP</td>\n",
       "      <td>Silver</td>\n",
       "      <td>333410.0</td>\n",
       "      <td>99797.0</td>\n",
       "      <td>6</td>\n",
       "      <td>2</td>\n",
       "      <td>2000463</td>\n",
       "      <td>199594</td>\n",
       "      <td>0</td>\n",
       "    </tr>\n",
       "    <tr>\n",
       "      <th>...</th>\n",
       "      <td>...</td>\n",
       "      <td>...</td>\n",
       "      <td>...</td>\n",
       "      <td>...</td>\n",
       "      <td>...</td>\n",
       "      <td>...</td>\n",
       "      <td>...</td>\n",
       "      <td>...</td>\n",
       "      <td>...</td>\n",
       "      <td>...</td>\n",
       "      <td>...</td>\n",
       "      <td>...</td>\n",
       "      <td>...</td>\n",
       "      <td>...</td>\n",
       "    </tr>\n",
       "    <tr>\n",
       "      <th>995</th>\n",
       "      <td>10995</td>\n",
       "      <td>3</td>\n",
       "      <td>1</td>\n",
       "      <td>25</td>\n",
       "      <td>49379</td>\n",
       "      <td>Gold</td>\n",
       "      <td>Gold</td>\n",
       "      <td>189141.0</td>\n",
       "      <td>170720.0</td>\n",
       "      <td>6</td>\n",
       "      <td>4</td>\n",
       "      <td>1134844</td>\n",
       "      <td>682880</td>\n",
       "      <td>0</td>\n",
       "    </tr>\n",
       "    <tr>\n",
       "      <th>996</th>\n",
       "      <td>10996</td>\n",
       "      <td>3</td>\n",
       "      <td>1</td>\n",
       "      <td>33</td>\n",
       "      <td>52317</td>\n",
       "      <td>VIP</td>\n",
       "      <td>VIP</td>\n",
       "      <td>399410.0</td>\n",
       "      <td>190914.0</td>\n",
       "      <td>6</td>\n",
       "      <td>6</td>\n",
       "      <td>2396457</td>\n",
       "      <td>1145486</td>\n",
       "      <td>0</td>\n",
       "    </tr>\n",
       "    <tr>\n",
       "      <th>997</th>\n",
       "      <td>10997</td>\n",
       "      <td>5</td>\n",
       "      <td>1</td>\n",
       "      <td>56</td>\n",
       "      <td>29752</td>\n",
       "      <td>Gold</td>\n",
       "      <td>Gold</td>\n",
       "      <td>185212.0</td>\n",
       "      <td>215428.0</td>\n",
       "      <td>8</td>\n",
       "      <td>2</td>\n",
       "      <td>1481698</td>\n",
       "      <td>430856</td>\n",
       "      <td>0</td>\n",
       "    </tr>\n",
       "    <tr>\n",
       "      <th>998</th>\n",
       "      <td>10998</td>\n",
       "      <td>4</td>\n",
       "      <td>0</td>\n",
       "      <td>26</td>\n",
       "      <td>11114</td>\n",
       "      <td>Silver</td>\n",
       "      <td>Silver</td>\n",
       "      <td>175425.0</td>\n",
       "      <td>51494.0</td>\n",
       "      <td>5</td>\n",
       "      <td>1</td>\n",
       "      <td>877126</td>\n",
       "      <td>51494</td>\n",
       "      <td>0</td>\n",
       "    </tr>\n",
       "    <tr>\n",
       "      <th>999</th>\n",
       "      <td>10999</td>\n",
       "      <td>3</td>\n",
       "      <td>0</td>\n",
       "      <td>35</td>\n",
       "      <td>41504</td>\n",
       "      <td>Gold</td>\n",
       "      <td>VIP</td>\n",
       "      <td>233926.0</td>\n",
       "      <td>240430.0</td>\n",
       "      <td>6</td>\n",
       "      <td>6</td>\n",
       "      <td>1403556</td>\n",
       "      <td>1442581</td>\n",
       "      <td>1</td>\n",
       "    </tr>\n",
       "  </tbody>\n",
       "</table>\n",
       "<p>1000 rows × 14 columns</p>\n",
       "</div>"
      ],
      "text/plain": [
       "     cusno  region  gender  age  income grade_20 grade_21  ARPPU_20  ARPPU_21  \\\n",
       "0    10000       3       0   30   57910      VIP     Gold  292389.0  153603.0   \n",
       "1    10001       2       1   36  115808   Silver   Silver   52148.0  103070.0   \n",
       "2    10002       4       1   26    9770     Gold      VIP  459348.0  156687.0   \n",
       "3    10003       2       0   42  125223     Gold   Silver  271016.0  118062.0   \n",
       "4    10004       4       0   22   10505      VIP   Silver  333410.0   99797.0   \n",
       "..     ...     ...     ...  ...     ...      ...      ...       ...       ...   \n",
       "995  10995       3       1   25   49379     Gold     Gold  189141.0  170720.0   \n",
       "996  10996       3       1   33   52317      VIP      VIP  399410.0  190914.0   \n",
       "997  10997       5       1   56   29752     Gold     Gold  185212.0  215428.0   \n",
       "998  10998       4       0   26   11114   Silver   Silver  175425.0   51494.0   \n",
       "999  10999       3       0   35   41504     Gold      VIP  233926.0  240430.0   \n",
       "\n",
       "     AVC_20  AVC_21   ASC_20   ASC_21  purchase_trend  \n",
       "0         9       4  2631500   614411               0  \n",
       "1         3       3   156444   309211               1  \n",
       "2         3       7  1378044  1096812               0  \n",
       "3         5       1  1355078   118062               0  \n",
       "4         6       2  2000463   199594               0  \n",
       "..      ...     ...      ...      ...             ...  \n",
       "995       6       4  1134844   682880               0  \n",
       "996       6       6  2396457  1145486               0  \n",
       "997       8       2  1481698   430856               0  \n",
       "998       5       1   877126    51494               0  \n",
       "999       6       6  1403556  1442581               1  \n",
       "\n",
       "[1000 rows x 14 columns]"
      ]
     },
     "execution_count": 41,
     "metadata": {},
     "output_type": "execute_result"
    }
   ],
   "source": [
    "customer"
   ]
  },
  {
   "cell_type": "code",
   "execution_count": 42,
   "id": "12181a90",
   "metadata": {
    "ExecuteTime": {
     "end_time": "2022-07-17T05:40:12.834102Z",
     "start_time": "2022-07-17T05:40:12.828996Z"
    }
   },
   "outputs": [
    {
     "name": "stdout",
     "output_type": "stream",
     "text": [
      "<class 'pandas.core.frame.DataFrame'>\n",
      "RangeIndex: 1000 entries, 0 to 999\n",
      "Data columns (total 14 columns):\n",
      " #   Column          Non-Null Count  Dtype   \n",
      "---  ------          --------------  -----   \n",
      " 0   cusno           1000 non-null   int64   \n",
      " 1   region          1000 non-null   int64   \n",
      " 2   gender          1000 non-null   int64   \n",
      " 3   age             1000 non-null   int64   \n",
      " 4   income          1000 non-null   int64   \n",
      " 5   grade_20        1000 non-null   category\n",
      " 6   grade_21        1000 non-null   category\n",
      " 7   ARPPU_20        1000 non-null   float64 \n",
      " 8   ARPPU_21        1000 non-null   float64 \n",
      " 9   AVC_20          1000 non-null   int64   \n",
      " 10  AVC_21          1000 non-null   int64   \n",
      " 11  ASC_20          1000 non-null   int64   \n",
      " 12  ASC_21          1000 non-null   int64   \n",
      " 13  purchase_trend  1000 non-null   int64   \n",
      "dtypes: category(2), float64(2), int64(10)\n",
      "memory usage: 96.1 KB\n"
     ]
    }
   ],
   "source": [
    "customer.info()"
   ]
  },
  {
   "cell_type": "markdown",
   "id": "b8a4b740",
   "metadata": {},
   "source": [
    "# 데이터 분석 및 시각화"
   ]
  },
  {
   "cell_type": "markdown",
   "id": "59bf842f",
   "metadata": {},
   "source": [
    "## 데이터프레임 Merge"
   ]
  },
  {
   "cell_type": "code",
   "execution_count": 43,
   "id": "ef01f8eb",
   "metadata": {
    "ExecuteTime": {
     "end_time": "2022-07-17T05:40:12.849718Z",
     "start_time": "2022-07-17T05:40:12.835184Z"
    },
    "scrolled": true
   },
   "outputs": [
    {
     "data": {
      "text/html": [
       "<div>\n",
       "<style scoped>\n",
       "    .dataframe tbody tr th:only-of-type {\n",
       "        vertical-align: middle;\n",
       "    }\n",
       "\n",
       "    .dataframe tbody tr th {\n",
       "        vertical-align: top;\n",
       "    }\n",
       "\n",
       "    .dataframe thead th {\n",
       "        text-align: right;\n",
       "    }\n",
       "</style>\n",
       "<table border=\"1\" class=\"dataframe\">\n",
       "  <thead>\n",
       "    <tr style=\"text-align: right;\">\n",
       "      <th></th>\n",
       "      <th>num_ts</th>\n",
       "      <th>cusno_ts</th>\n",
       "      <th>product_num_ts</th>\n",
       "      <th>price_ts</th>\n",
       "      <th>quantity</th>\n",
       "      <th>amount</th>\n",
       "      <th>date</th>\n",
       "      <th>year</th>\n",
       "      <th>weekday</th>\n",
       "      <th>hour</th>\n",
       "      <th>...</th>\n",
       "      <th>ARPPU_20</th>\n",
       "      <th>ARPPU_21</th>\n",
       "      <th>AVC_20</th>\n",
       "      <th>AVC_21</th>\n",
       "      <th>ASC_20</th>\n",
       "      <th>ASC_21</th>\n",
       "      <th>purchase_trend</th>\n",
       "      <th>product_num</th>\n",
       "      <th>price</th>\n",
       "      <th>price_grade</th>\n",
       "    </tr>\n",
       "  </thead>\n",
       "  <tbody>\n",
       "    <tr>\n",
       "      <th>0</th>\n",
       "      <td>0</td>\n",
       "      <td>10660</td>\n",
       "      <td>31</td>\n",
       "      <td>74375</td>\n",
       "      <td>5</td>\n",
       "      <td>371875</td>\n",
       "      <td>2020-01-01</td>\n",
       "      <td>2020</td>\n",
       "      <td>2</td>\n",
       "      <td>3</td>\n",
       "      <td>...</td>\n",
       "      <td>238911.0</td>\n",
       "      <td>233624.0</td>\n",
       "      <td>9</td>\n",
       "      <td>4</td>\n",
       "      <td>2150203</td>\n",
       "      <td>934497</td>\n",
       "      <td>0</td>\n",
       "      <td>31</td>\n",
       "      <td>74375</td>\n",
       "      <td>1</td>\n",
       "    </tr>\n",
       "    <tr>\n",
       "      <th>1</th>\n",
       "      <td>1</td>\n",
       "      <td>10760</td>\n",
       "      <td>45</td>\n",
       "      <td>72919</td>\n",
       "      <td>4</td>\n",
       "      <td>291676</td>\n",
       "      <td>2020-01-01</td>\n",
       "      <td>2020</td>\n",
       "      <td>2</td>\n",
       "      <td>13</td>\n",
       "      <td>...</td>\n",
       "      <td>144799.0</td>\n",
       "      <td>263947.0</td>\n",
       "      <td>4</td>\n",
       "      <td>5</td>\n",
       "      <td>579197</td>\n",
       "      <td>1319733</td>\n",
       "      <td>1</td>\n",
       "      <td>45</td>\n",
       "      <td>72919</td>\n",
       "      <td>1</td>\n",
       "    </tr>\n",
       "    <tr>\n",
       "      <th>2</th>\n",
       "      <td>2</td>\n",
       "      <td>10626</td>\n",
       "      <td>8</td>\n",
       "      <td>40755</td>\n",
       "      <td>6</td>\n",
       "      <td>244530</td>\n",
       "      <td>2020-01-01</td>\n",
       "      <td>2020</td>\n",
       "      <td>2</td>\n",
       "      <td>13</td>\n",
       "      <td>...</td>\n",
       "      <td>134545.0</td>\n",
       "      <td>245054.0</td>\n",
       "      <td>10</td>\n",
       "      <td>4</td>\n",
       "      <td>1345449</td>\n",
       "      <td>980215</td>\n",
       "      <td>0</td>\n",
       "      <td>8</td>\n",
       "      <td>40755</td>\n",
       "      <td>2</td>\n",
       "    </tr>\n",
       "    <tr>\n",
       "      <th>3</th>\n",
       "      <td>3</td>\n",
       "      <td>10918</td>\n",
       "      <td>48</td>\n",
       "      <td>95333</td>\n",
       "      <td>1</td>\n",
       "      <td>95333</td>\n",
       "      <td>2020-01-01</td>\n",
       "      <td>2020</td>\n",
       "      <td>2</td>\n",
       "      <td>0</td>\n",
       "      <td>...</td>\n",
       "      <td>145561.0</td>\n",
       "      <td>74090.0</td>\n",
       "      <td>7</td>\n",
       "      <td>3</td>\n",
       "      <td>1018930</td>\n",
       "      <td>222270</td>\n",
       "      <td>0</td>\n",
       "      <td>48</td>\n",
       "      <td>95333</td>\n",
       "      <td>1</td>\n",
       "    </tr>\n",
       "    <tr>\n",
       "      <th>4</th>\n",
       "      <td>4</td>\n",
       "      <td>10114</td>\n",
       "      <td>84</td>\n",
       "      <td>80060</td>\n",
       "      <td>3</td>\n",
       "      <td>240180</td>\n",
       "      <td>2020-01-01</td>\n",
       "      <td>2020</td>\n",
       "      <td>2</td>\n",
       "      <td>21</td>\n",
       "      <td>...</td>\n",
       "      <td>128118.0</td>\n",
       "      <td>101434.0</td>\n",
       "      <td>5</td>\n",
       "      <td>5</td>\n",
       "      <td>640589</td>\n",
       "      <td>507172</td>\n",
       "      <td>0</td>\n",
       "      <td>84</td>\n",
       "      <td>80060</td>\n",
       "      <td>1</td>\n",
       "    </tr>\n",
       "    <tr>\n",
       "      <th>...</th>\n",
       "      <td>...</td>\n",
       "      <td>...</td>\n",
       "      <td>...</td>\n",
       "      <td>...</td>\n",
       "      <td>...</td>\n",
       "      <td>...</td>\n",
       "      <td>...</td>\n",
       "      <td>...</td>\n",
       "      <td>...</td>\n",
       "      <td>...</td>\n",
       "      <td>...</td>\n",
       "      <td>...</td>\n",
       "      <td>...</td>\n",
       "      <td>...</td>\n",
       "      <td>...</td>\n",
       "      <td>...</td>\n",
       "      <td>...</td>\n",
       "      <td>...</td>\n",
       "      <td>...</td>\n",
       "      <td>...</td>\n",
       "      <td>...</td>\n",
       "    </tr>\n",
       "    <tr>\n",
       "      <th>9995</th>\n",
       "      <td>9995</td>\n",
       "      <td>10691</td>\n",
       "      <td>61</td>\n",
       "      <td>9255</td>\n",
       "      <td>1</td>\n",
       "      <td>9255</td>\n",
       "      <td>2021-12-30</td>\n",
       "      <td>2021</td>\n",
       "      <td>3</td>\n",
       "      <td>4</td>\n",
       "      <td>...</td>\n",
       "      <td>310292.0</td>\n",
       "      <td>241538.0</td>\n",
       "      <td>5</td>\n",
       "      <td>4</td>\n",
       "      <td>1551462</td>\n",
       "      <td>966154</td>\n",
       "      <td>0</td>\n",
       "      <td>61</td>\n",
       "      <td>9255</td>\n",
       "      <td>3</td>\n",
       "    </tr>\n",
       "    <tr>\n",
       "      <th>9996</th>\n",
       "      <td>9996</td>\n",
       "      <td>10629</td>\n",
       "      <td>6</td>\n",
       "      <td>64691</td>\n",
       "      <td>4</td>\n",
       "      <td>258764</td>\n",
       "      <td>2021-12-30</td>\n",
       "      <td>2021</td>\n",
       "      <td>3</td>\n",
       "      <td>20</td>\n",
       "      <td>...</td>\n",
       "      <td>360681.0</td>\n",
       "      <td>251636.0</td>\n",
       "      <td>8</td>\n",
       "      <td>7</td>\n",
       "      <td>2885450</td>\n",
       "      <td>1761455</td>\n",
       "      <td>0</td>\n",
       "      <td>6</td>\n",
       "      <td>64691</td>\n",
       "      <td>1</td>\n",
       "    </tr>\n",
       "    <tr>\n",
       "      <th>9997</th>\n",
       "      <td>9997</td>\n",
       "      <td>10373</td>\n",
       "      <td>5</td>\n",
       "      <td>68013</td>\n",
       "      <td>1</td>\n",
       "      <td>68013</td>\n",
       "      <td>2021-12-30</td>\n",
       "      <td>2021</td>\n",
       "      <td>3</td>\n",
       "      <td>19</td>\n",
       "      <td>...</td>\n",
       "      <td>329332.0</td>\n",
       "      <td>241180.0</td>\n",
       "      <td>8</td>\n",
       "      <td>6</td>\n",
       "      <td>2634656</td>\n",
       "      <td>1447079</td>\n",
       "      <td>0</td>\n",
       "      <td>5</td>\n",
       "      <td>68013</td>\n",
       "      <td>1</td>\n",
       "    </tr>\n",
       "    <tr>\n",
       "      <th>9998</th>\n",
       "      <td>9998</td>\n",
       "      <td>10144</td>\n",
       "      <td>45</td>\n",
       "      <td>72919</td>\n",
       "      <td>2</td>\n",
       "      <td>145838</td>\n",
       "      <td>2021-12-31</td>\n",
       "      <td>2021</td>\n",
       "      <td>4</td>\n",
       "      <td>0</td>\n",
       "      <td>...</td>\n",
       "      <td>368460.0</td>\n",
       "      <td>318590.0</td>\n",
       "      <td>4</td>\n",
       "      <td>4</td>\n",
       "      <td>1473842</td>\n",
       "      <td>1274362</td>\n",
       "      <td>0</td>\n",
       "      <td>45</td>\n",
       "      <td>72919</td>\n",
       "      <td>1</td>\n",
       "    </tr>\n",
       "    <tr>\n",
       "      <th>9999</th>\n",
       "      <td>9999</td>\n",
       "      <td>10024</td>\n",
       "      <td>21</td>\n",
       "      <td>93428</td>\n",
       "      <td>3</td>\n",
       "      <td>280284</td>\n",
       "      <td>2021-12-31</td>\n",
       "      <td>2021</td>\n",
       "      <td>4</td>\n",
       "      <td>0</td>\n",
       "      <td>...</td>\n",
       "      <td>364938.0</td>\n",
       "      <td>109629.0</td>\n",
       "      <td>6</td>\n",
       "      <td>4</td>\n",
       "      <td>2189631</td>\n",
       "      <td>438515</td>\n",
       "      <td>0</td>\n",
       "      <td>21</td>\n",
       "      <td>93428</td>\n",
       "      <td>1</td>\n",
       "    </tr>\n",
       "  </tbody>\n",
       "</table>\n",
       "<p>10000 rows × 27 columns</p>\n",
       "</div>"
      ],
      "text/plain": [
       "      num_ts  cusno_ts  product_num_ts  price_ts  quantity  amount       date  \\\n",
       "0          0     10660              31     74375         5  371875 2020-01-01   \n",
       "1          1     10760              45     72919         4  291676 2020-01-01   \n",
       "2          2     10626               8     40755         6  244530 2020-01-01   \n",
       "3          3     10918              48     95333         1   95333 2020-01-01   \n",
       "4          4     10114              84     80060         3  240180 2020-01-01   \n",
       "...      ...       ...             ...       ...       ...     ...        ...   \n",
       "9995    9995     10691              61      9255         1    9255 2021-12-30   \n",
       "9996    9996     10629               6     64691         4  258764 2021-12-30   \n",
       "9997    9997     10373               5     68013         1   68013 2021-12-30   \n",
       "9998    9998     10144              45     72919         2  145838 2021-12-31   \n",
       "9999    9999     10024              21     93428         3  280284 2021-12-31   \n",
       "\n",
       "      year  weekday  hour  ...  ARPPU_20  ARPPU_21  AVC_20  AVC_21   ASC_20  \\\n",
       "0     2020        2     3  ...  238911.0  233624.0       9       4  2150203   \n",
       "1     2020        2    13  ...  144799.0  263947.0       4       5   579197   \n",
       "2     2020        2    13  ...  134545.0  245054.0      10       4  1345449   \n",
       "3     2020        2     0  ...  145561.0   74090.0       7       3  1018930   \n",
       "4     2020        2    21  ...  128118.0  101434.0       5       5   640589   \n",
       "...    ...      ...   ...  ...       ...       ...     ...     ...      ...   \n",
       "9995  2021        3     4  ...  310292.0  241538.0       5       4  1551462   \n",
       "9996  2021        3    20  ...  360681.0  251636.0       8       7  2885450   \n",
       "9997  2021        3    19  ...  329332.0  241180.0       8       6  2634656   \n",
       "9998  2021        4     0  ...  368460.0  318590.0       4       4  1473842   \n",
       "9999  2021        4     0  ...  364938.0  109629.0       6       4  2189631   \n",
       "\n",
       "       ASC_21 purchase_trend  product_num  price  price_grade  \n",
       "0      934497              0           31  74375            1  \n",
       "1     1319733              1           45  72919            1  \n",
       "2      980215              0            8  40755            2  \n",
       "3      222270              0           48  95333            1  \n",
       "4      507172              0           84  80060            1  \n",
       "...       ...            ...          ...    ...          ...  \n",
       "9995   966154              0           61   9255            3  \n",
       "9996  1761455              0            6  64691            1  \n",
       "9997  1447079              0            5  68013            1  \n",
       "9998  1274362              0           45  72919            1  \n",
       "9999   438515              0           21  93428            1  \n",
       "\n",
       "[10000 rows x 27 columns]"
      ]
     },
     "execution_count": 43,
     "metadata": {},
     "output_type": "execute_result"
    }
   ],
   "source": [
    "# Merge purchase and customer\n",
    "df = purchase.merge(customer, how='left', left_on='cusno_ts', right_on='cusno', left_index=False,\n",
    "                    right_index=False, sort=False, suffixes=('_ts', '_c'), copy=True, indicator=False, validate=None)\n",
    "\n",
    "# Merge additional product\n",
    "df = df.merge(product, how='left', left_on='product_num_ts',\n",
    "              right_on='product_num', suffixes=('', '_p'), copy=True, indicator=False,)\n",
    "df"
   ]
  },
  {
   "cell_type": "code",
   "execution_count": 44,
   "id": "764b7206",
   "metadata": {
    "ExecuteTime": {
     "end_time": "2022-07-17T05:40:12.861771Z",
     "start_time": "2022-07-17T05:40:12.850603Z"
    },
    "scrolled": true
   },
   "outputs": [
    {
     "data": {
      "text/html": [
       "<div>\n",
       "<style scoped>\n",
       "    .dataframe tbody tr th:only-of-type {\n",
       "        vertical-align: middle;\n",
       "    }\n",
       "\n",
       "    .dataframe tbody tr th {\n",
       "        vertical-align: top;\n",
       "    }\n",
       "\n",
       "    .dataframe thead th {\n",
       "        text-align: right;\n",
       "    }\n",
       "</style>\n",
       "<table border=\"1\" class=\"dataframe\">\n",
       "  <thead>\n",
       "    <tr style=\"text-align: right;\">\n",
       "      <th></th>\n",
       "      <th>num_ts</th>\n",
       "      <th>date</th>\n",
       "      <th>product_num</th>\n",
       "      <th>price</th>\n",
       "      <th>price_grade</th>\n",
       "      <th>quantity</th>\n",
       "      <th>amount</th>\n",
       "      <th>year</th>\n",
       "      <th>weekday</th>\n",
       "      <th>hour</th>\n",
       "      <th>...</th>\n",
       "      <th>income</th>\n",
       "      <th>grade_20</th>\n",
       "      <th>grade_21</th>\n",
       "      <th>ARPPU_20</th>\n",
       "      <th>ARPPU_21</th>\n",
       "      <th>AVC_20</th>\n",
       "      <th>AVC_21</th>\n",
       "      <th>ASC_20</th>\n",
       "      <th>ASC_21</th>\n",
       "      <th>purchase_trend</th>\n",
       "    </tr>\n",
       "  </thead>\n",
       "  <tbody>\n",
       "    <tr>\n",
       "      <th>0</th>\n",
       "      <td>0</td>\n",
       "      <td>2020-01-01</td>\n",
       "      <td>31</td>\n",
       "      <td>74375</td>\n",
       "      <td>1</td>\n",
       "      <td>5</td>\n",
       "      <td>371875</td>\n",
       "      <td>2020</td>\n",
       "      <td>2</td>\n",
       "      <td>3</td>\n",
       "      <td>...</td>\n",
       "      <td>29703</td>\n",
       "      <td>VIP</td>\n",
       "      <td>VIP</td>\n",
       "      <td>238911.0</td>\n",
       "      <td>233624.0</td>\n",
       "      <td>9</td>\n",
       "      <td>4</td>\n",
       "      <td>2150203</td>\n",
       "      <td>934497</td>\n",
       "      <td>0</td>\n",
       "    </tr>\n",
       "    <tr>\n",
       "      <th>1</th>\n",
       "      <td>1</td>\n",
       "      <td>2020-01-01</td>\n",
       "      <td>45</td>\n",
       "      <td>72919</td>\n",
       "      <td>1</td>\n",
       "      <td>4</td>\n",
       "      <td>291676</td>\n",
       "      <td>2020</td>\n",
       "      <td>2</td>\n",
       "      <td>13</td>\n",
       "      <td>...</td>\n",
       "      <td>10736</td>\n",
       "      <td>Silver</td>\n",
       "      <td>VIP</td>\n",
       "      <td>144799.0</td>\n",
       "      <td>263947.0</td>\n",
       "      <td>4</td>\n",
       "      <td>5</td>\n",
       "      <td>579197</td>\n",
       "      <td>1319733</td>\n",
       "      <td>1</td>\n",
       "    </tr>\n",
       "    <tr>\n",
       "      <th>2</th>\n",
       "      <td>2</td>\n",
       "      <td>2020-01-01</td>\n",
       "      <td>8</td>\n",
       "      <td>40755</td>\n",
       "      <td>2</td>\n",
       "      <td>6</td>\n",
       "      <td>244530</td>\n",
       "      <td>2020</td>\n",
       "      <td>2</td>\n",
       "      <td>13</td>\n",
       "      <td>...</td>\n",
       "      <td>215286</td>\n",
       "      <td>Gold</td>\n",
       "      <td>VIP</td>\n",
       "      <td>134545.0</td>\n",
       "      <td>245054.0</td>\n",
       "      <td>10</td>\n",
       "      <td>4</td>\n",
       "      <td>1345449</td>\n",
       "      <td>980215</td>\n",
       "      <td>0</td>\n",
       "    </tr>\n",
       "    <tr>\n",
       "      <th>3</th>\n",
       "      <td>3</td>\n",
       "      <td>2020-01-01</td>\n",
       "      <td>48</td>\n",
       "      <td>95333</td>\n",
       "      <td>1</td>\n",
       "      <td>1</td>\n",
       "      <td>95333</td>\n",
       "      <td>2020</td>\n",
       "      <td>2</td>\n",
       "      <td>0</td>\n",
       "      <td>...</td>\n",
       "      <td>10782</td>\n",
       "      <td>Gold</td>\n",
       "      <td>Silver</td>\n",
       "      <td>145561.0</td>\n",
       "      <td>74090.0</td>\n",
       "      <td>7</td>\n",
       "      <td>3</td>\n",
       "      <td>1018930</td>\n",
       "      <td>222270</td>\n",
       "      <td>0</td>\n",
       "    </tr>\n",
       "    <tr>\n",
       "      <th>4</th>\n",
       "      <td>4</td>\n",
       "      <td>2020-01-01</td>\n",
       "      <td>84</td>\n",
       "      <td>80060</td>\n",
       "      <td>1</td>\n",
       "      <td>3</td>\n",
       "      <td>240180</td>\n",
       "      <td>2020</td>\n",
       "      <td>2</td>\n",
       "      <td>21</td>\n",
       "      <td>...</td>\n",
       "      <td>11218</td>\n",
       "      <td>Silver</td>\n",
       "      <td>Gold</td>\n",
       "      <td>128118.0</td>\n",
       "      <td>101434.0</td>\n",
       "      <td>5</td>\n",
       "      <td>5</td>\n",
       "      <td>640589</td>\n",
       "      <td>507172</td>\n",
       "      <td>0</td>\n",
       "    </tr>\n",
       "    <tr>\n",
       "      <th>...</th>\n",
       "      <td>...</td>\n",
       "      <td>...</td>\n",
       "      <td>...</td>\n",
       "      <td>...</td>\n",
       "      <td>...</td>\n",
       "      <td>...</td>\n",
       "      <td>...</td>\n",
       "      <td>...</td>\n",
       "      <td>...</td>\n",
       "      <td>...</td>\n",
       "      <td>...</td>\n",
       "      <td>...</td>\n",
       "      <td>...</td>\n",
       "      <td>...</td>\n",
       "      <td>...</td>\n",
       "      <td>...</td>\n",
       "      <td>...</td>\n",
       "      <td>...</td>\n",
       "      <td>...</td>\n",
       "      <td>...</td>\n",
       "      <td>...</td>\n",
       "    </tr>\n",
       "    <tr>\n",
       "      <th>9995</th>\n",
       "      <td>9995</td>\n",
       "      <td>2021-12-30</td>\n",
       "      <td>61</td>\n",
       "      <td>9255</td>\n",
       "      <td>3</td>\n",
       "      <td>1</td>\n",
       "      <td>9255</td>\n",
       "      <td>2021</td>\n",
       "      <td>3</td>\n",
       "      <td>4</td>\n",
       "      <td>...</td>\n",
       "      <td>7518</td>\n",
       "      <td>VIP</td>\n",
       "      <td>VIP</td>\n",
       "      <td>310292.0</td>\n",
       "      <td>241538.0</td>\n",
       "      <td>5</td>\n",
       "      <td>4</td>\n",
       "      <td>1551462</td>\n",
       "      <td>966154</td>\n",
       "      <td>0</td>\n",
       "    </tr>\n",
       "    <tr>\n",
       "      <th>9996</th>\n",
       "      <td>9996</td>\n",
       "      <td>2021-12-30</td>\n",
       "      <td>6</td>\n",
       "      <td>64691</td>\n",
       "      <td>1</td>\n",
       "      <td>4</td>\n",
       "      <td>258764</td>\n",
       "      <td>2021</td>\n",
       "      <td>3</td>\n",
       "      <td>20</td>\n",
       "      <td>...</td>\n",
       "      <td>49801</td>\n",
       "      <td>VIP</td>\n",
       "      <td>VIP</td>\n",
       "      <td>360681.0</td>\n",
       "      <td>251636.0</td>\n",
       "      <td>8</td>\n",
       "      <td>7</td>\n",
       "      <td>2885450</td>\n",
       "      <td>1761455</td>\n",
       "      <td>0</td>\n",
       "    </tr>\n",
       "    <tr>\n",
       "      <th>9997</th>\n",
       "      <td>9997</td>\n",
       "      <td>2021-12-30</td>\n",
       "      <td>5</td>\n",
       "      <td>68013</td>\n",
       "      <td>1</td>\n",
       "      <td>1</td>\n",
       "      <td>68013</td>\n",
       "      <td>2021</td>\n",
       "      <td>3</td>\n",
       "      <td>19</td>\n",
       "      <td>...</td>\n",
       "      <td>46418</td>\n",
       "      <td>VIP</td>\n",
       "      <td>VIP</td>\n",
       "      <td>329332.0</td>\n",
       "      <td>241180.0</td>\n",
       "      <td>8</td>\n",
       "      <td>6</td>\n",
       "      <td>2634656</td>\n",
       "      <td>1447079</td>\n",
       "      <td>0</td>\n",
       "    </tr>\n",
       "    <tr>\n",
       "      <th>9998</th>\n",
       "      <td>9998</td>\n",
       "      <td>2021-12-31</td>\n",
       "      <td>45</td>\n",
       "      <td>72919</td>\n",
       "      <td>1</td>\n",
       "      <td>2</td>\n",
       "      <td>145838</td>\n",
       "      <td>2021</td>\n",
       "      <td>4</td>\n",
       "      <td>0</td>\n",
       "      <td>...</td>\n",
       "      <td>52499</td>\n",
       "      <td>Gold</td>\n",
       "      <td>VIP</td>\n",
       "      <td>368460.0</td>\n",
       "      <td>318590.0</td>\n",
       "      <td>4</td>\n",
       "      <td>4</td>\n",
       "      <td>1473842</td>\n",
       "      <td>1274362</td>\n",
       "      <td>0</td>\n",
       "    </tr>\n",
       "    <tr>\n",
       "      <th>9999</th>\n",
       "      <td>9999</td>\n",
       "      <td>2021-12-31</td>\n",
       "      <td>21</td>\n",
       "      <td>93428</td>\n",
       "      <td>1</td>\n",
       "      <td>3</td>\n",
       "      <td>280284</td>\n",
       "      <td>2021</td>\n",
       "      <td>4</td>\n",
       "      <td>0</td>\n",
       "      <td>...</td>\n",
       "      <td>8546</td>\n",
       "      <td>VIP</td>\n",
       "      <td>Gold</td>\n",
       "      <td>364938.0</td>\n",
       "      <td>109629.0</td>\n",
       "      <td>6</td>\n",
       "      <td>4</td>\n",
       "      <td>2189631</td>\n",
       "      <td>438515</td>\n",
       "      <td>0</td>\n",
       "    </tr>\n",
       "  </tbody>\n",
       "</table>\n",
       "<p>10000 rows × 24 columns</p>\n",
       "</div>"
      ],
      "text/plain": [
       "      num_ts       date  product_num  price price_grade  quantity  amount  \\\n",
       "0          0 2020-01-01           31  74375           1         5  371875   \n",
       "1          1 2020-01-01           45  72919           1         4  291676   \n",
       "2          2 2020-01-01            8  40755           2         6  244530   \n",
       "3          3 2020-01-01           48  95333           1         1   95333   \n",
       "4          4 2020-01-01           84  80060           1         3  240180   \n",
       "...      ...        ...          ...    ...         ...       ...     ...   \n",
       "9995    9995 2021-12-30           61   9255           3         1    9255   \n",
       "9996    9996 2021-12-30            6  64691           1         4  258764   \n",
       "9997    9997 2021-12-30            5  68013           1         1   68013   \n",
       "9998    9998 2021-12-31           45  72919           1         2  145838   \n",
       "9999    9999 2021-12-31           21  93428           1         3  280284   \n",
       "\n",
       "      year  weekday  hour  ...  income  grade_20  grade_21  ARPPU_20  \\\n",
       "0     2020        2     3  ...   29703       VIP       VIP  238911.0   \n",
       "1     2020        2    13  ...   10736    Silver       VIP  144799.0   \n",
       "2     2020        2    13  ...  215286      Gold       VIP  134545.0   \n",
       "3     2020        2     0  ...   10782      Gold    Silver  145561.0   \n",
       "4     2020        2    21  ...   11218    Silver      Gold  128118.0   \n",
       "...    ...      ...   ...  ...     ...       ...       ...       ...   \n",
       "9995  2021        3     4  ...    7518       VIP       VIP  310292.0   \n",
       "9996  2021        3    20  ...   49801       VIP       VIP  360681.0   \n",
       "9997  2021        3    19  ...   46418       VIP       VIP  329332.0   \n",
       "9998  2021        4     0  ...   52499      Gold       VIP  368460.0   \n",
       "9999  2021        4     0  ...    8546       VIP      Gold  364938.0   \n",
       "\n",
       "      ARPPU_21 AVC_20 AVC_21   ASC_20   ASC_21  purchase_trend  \n",
       "0     233624.0      9      4  2150203   934497               0  \n",
       "1     263947.0      4      5   579197  1319733               1  \n",
       "2     245054.0     10      4  1345449   980215               0  \n",
       "3      74090.0      7      3  1018930   222270               0  \n",
       "4     101434.0      5      5   640589   507172               0  \n",
       "...        ...    ...    ...      ...      ...             ...  \n",
       "9995  241538.0      5      4  1551462   966154               0  \n",
       "9996  251636.0      8      7  2885450  1761455               0  \n",
       "9997  241180.0      8      6  2634656  1447079               0  \n",
       "9998  318590.0      4      4  1473842  1274362               0  \n",
       "9999  109629.0      6      4  2189631   438515               0  \n",
       "\n",
       "[10000 rows x 24 columns]"
      ]
     },
     "execution_count": 44,
     "metadata": {},
     "output_type": "execute_result"
    }
   ],
   "source": [
    "# 중복을 제외하고 데이터 분석에 사용할 컬럼들로 이루어진 DataFrame 생성\n",
    "df = df.loc[:, ['num_ts', 'date', 'product_num', 'price', 'price_grade', 'quantity', 'amount',\n",
    "                'year', 'weekday', 'hour', 'cusno', 'region', 'gender', 'age', 'income',\n",
    "                'grade_20', 'grade_21', 'ARPPU_20', 'ARPPU_21', 'AVC_20', 'AVC_21', 'ASC_20', 'ASC_21', 'purchase_trend']]\n",
    "df"
   ]
  },
  {
   "cell_type": "code",
   "execution_count": 45,
   "id": "ae00f516",
   "metadata": {
    "ExecuteTime": {
     "end_time": "2022-07-17T05:40:22.913853Z",
     "start_time": "2022-07-17T05:40:22.891610Z"
    },
    "scrolled": true
   },
   "outputs": [
    {
     "name": "stdout",
     "output_type": "stream",
     "text": [
      "<class 'pandas.core.frame.DataFrame'>\n",
      "Int64Index: 10000 entries, 0 to 9999\n",
      "Data columns (total 24 columns):\n",
      " #   Column          Non-Null Count  Dtype         \n",
      "---  ------          --------------  -----         \n",
      " 0   num_ts          10000 non-null  int64         \n",
      " 1   date            10000 non-null  datetime64[ns]\n",
      " 2   product_num     10000 non-null  int64         \n",
      " 3   price           10000 non-null  int64         \n",
      " 4   price_grade     10000 non-null  object        \n",
      " 5   quantity        10000 non-null  int64         \n",
      " 6   amount          10000 non-null  int64         \n",
      " 7   year            10000 non-null  int64         \n",
      " 8   weekday         10000 non-null  int64         \n",
      " 9   hour            10000 non-null  int64         \n",
      " 10  cusno           10000 non-null  int64         \n",
      " 11  region          10000 non-null  int64         \n",
      " 12  gender          10000 non-null  int64         \n",
      " 13  age             10000 non-null  int64         \n",
      " 14  income          10000 non-null  int64         \n",
      " 15  grade_20        10000 non-null  category      \n",
      " 16  grade_21        10000 non-null  category      \n",
      " 17  ARPPU_20        10000 non-null  float64       \n",
      " 18  ARPPU_21        10000 non-null  float64       \n",
      " 19  AVC_20          10000 non-null  int64         \n",
      " 20  AVC_21          10000 non-null  int64         \n",
      " 21  ASC_20          10000 non-null  int64         \n",
      " 22  ASC_21          10000 non-null  int64         \n",
      " 23  purchase_trend  10000 non-null  int64         \n",
      "dtypes: category(2), datetime64[ns](1), float64(2), int64(18), object(1)\n",
      "memory usage: 1.8+ MB\n"
     ]
    }
   ],
   "source": [
    "df.info()"
   ]
  },
  {
   "cell_type": "markdown",
   "id": "85e98245",
   "metadata": {},
   "source": [
    "## 의도한 데이터 경향성 확인\n",
    "- 고객별 총 소비량 감소\n",
    "- 누적 매출액 증가량 감소\n",
    "- 지역별, 소득수준 별 소비량 변화\n",
    "- 1 지역 고가품 소비 증가 경향\n",
    "    - 집에서 즐길 수 있는 고가품들 (와인, 치즈 밀키트 등...)\n",
    "- 5 지역 저가품 소비 증가 경향\n"
   ]
  },
  {
   "cell_type": "markdown",
   "id": "48c473a7",
   "metadata": {},
   "source": [
    "### 고객별 총 소비량 감소"
   ]
  },
  {
   "cell_type": "code",
   "execution_count": 46,
   "id": "f1cb855d",
   "metadata": {
    "ExecuteTime": {
     "end_time": "2022-07-17T05:40:28.534743Z",
     "start_time": "2022-07-17T05:40:28.444456Z"
    }
   },
   "outputs": [
    {
     "name": "stdout",
     "output_type": "stream",
     "text": [
      "1    228\n",
      "0    772\n",
      "Name: purchase_trend, dtype: int64\n"
     ]
    },
    {
     "data": {
      "image/png": "[encoded data removed]",
      "text/plain": [
       "<Figure size 432x288 with 1 Axes>"
      ]
     },
     "metadata": {
      "needs_background": "light"
     },
     "output_type": "display_data"
    },
    {
     "name": "stdout",
     "output_type": "stream",
     "text": [
      "2020년 대비 2021년도 고객별 총 소비량이\n",
      " 증가 228 명\n",
      " 감소 772 명\n",
      "으로 77.2% 고객들의 소비가 감소한 것으로 나타났다. \n"
     ]
    }
   ],
   "source": [
    "a = customer.purchase_trend.value_counts()\n",
    "a = a[::-1]\n",
    "print(a)\n",
    "a = a.rename(index={True: '증가', False: '감소'})\n",
    "a.plot(kind='bar')\n",
    "plt.title('2020년 대비 2021년도 고객별 평균 소비량 변화', color='white')\n",
    "plt.xlabel('purchase_trend', color='white')\n",
    "plt.ylabel('고객 수', color='white')\n",
    "plt.legend()\n",
    "plt.show()\n",
    "\n",
    "print(f'2020년 대비 2021년도 고객별 총 소비량이\\n 증가 {a[0]} 명\\n 감소 {a[1]} 명\\n으로 {a[1]/(10)}% 고객들의 소비가 감소한 것으로 나타났다. ')"
   ]
  },
  {
   "cell_type": "markdown",
   "id": "cf9874be",
   "metadata": {},
   "source": [
    "###  누적 매출액 증가량 감소"
   ]
  },
  {
   "cell_type": "code",
   "execution_count": 47,
   "id": "5853c6b6-c909-49e2-a93a-b9646e024d4a",
   "metadata": {},
   "outputs": [
    {
     "data": {
      "image/png": "[encoded data removed]",
      "text/plain": [
       "<Figure size 576x288 with 1 Axes>"
      ]
     },
     "metadata": {
      "needs_background": "light"
     },
     "output_type": "display_data"
    }
   ],
   "source": [
    "# 매출 증가 그래프\n",
    "x = purchase.date\n",
    "y = purchase.amount.cumsum()\n",
    "\n",
    "plt.figure(figsize=(8,4))\n",
    "plt.plot(x,y,color='blue',marker='o',markersize=1)\n",
    "plt.title('매출 증가 그래프',size=20)\n",
    "plt.xlabel('날짜',size=10)\n",
    "plt.ylabel('누적매출',size=10)\n",
    "plt.legend(labels=[''])\n",
    "plt.show()"
   ]
  },
  {
   "cell_type": "code",
   "execution_count": 51,
   "id": "a09975bc-9b2d-4c51-8b10-799487da6b0f",
   "metadata": {
    "tags": []
   },
   "outputs": [
    {
     "data": {
      "text/plain": [
       "Index(['num_ts', 'date', 'product_num', 'price', 'price_grade', 'quantity',\n",
       "       'amount', 'year', 'weekday', 'hour', 'cusno', 'region', 'gender', 'age',\n",
       "       'income', 'grade_20', 'grade_21', 'ARPPU_20', 'ARPPU_21', 'AVC_20',\n",
       "       'AVC_21', 'ASC_20', 'ASC_21', 'purchase_trend'],\n",
       "      dtype='object')"
      ]
     },
     "execution_count": 51,
     "metadata": {},
     "output_type": "execute_result"
    }
   ],
   "source": [
    "df.columns"
   ]
  },
  {
   "cell_type": "markdown",
   "id": "128ebe69",
   "metadata": {
    "tags": []
   },
   "source": [
    "### 지역별 소비량 변화"
   ]
  },
  {
   "cell_type": "code",
   "execution_count": 91,
   "id": "0c3f0206-bca9-4f0d-976f-8345f3cc9a9a",
   "metadata": {},
   "outputs": [
    {
     "data": {
      "text/html": [
       "<div>\n",
       "<style scoped>\n",
       "    .dataframe tbody tr th:only-of-type {\n",
       "        vertical-align: middle;\n",
       "    }\n",
       "\n",
       "    .dataframe tbody tr th {\n",
       "        vertical-align: top;\n",
       "    }\n",
       "\n",
       "    .dataframe thead th {\n",
       "        text-align: right;\n",
       "    }\n",
       "</style>\n",
       "<table border=\"1\" class=\"dataframe\">\n",
       "  <thead>\n",
       "    <tr style=\"text-align: right;\">\n",
       "      <th></th>\n",
       "      <th>purchase_trend</th>\n",
       "    </tr>\n",
       "    <tr>\n",
       "      <th>region</th>\n",
       "      <th></th>\n",
       "    </tr>\n",
       "  </thead>\n",
       "  <tbody>\n",
       "    <tr>\n",
       "      <th>1</th>\n",
       "      <td>0.193707</td>\n",
       "    </tr>\n",
       "    <tr>\n",
       "      <th>2</th>\n",
       "      <td>0.153741</td>\n",
       "    </tr>\n",
       "    <tr>\n",
       "      <th>3</th>\n",
       "      <td>0.216163</td>\n",
       "    </tr>\n",
       "    <tr>\n",
       "      <th>4</th>\n",
       "      <td>0.201435</td>\n",
       "    </tr>\n",
       "    <tr>\n",
       "      <th>5</th>\n",
       "      <td>0.259333</td>\n",
       "    </tr>\n",
       "  </tbody>\n",
       "</table>\n",
       "</div>"
      ],
      "text/plain": [
       "        purchase_trend\n",
       "region                \n",
       "1             0.193707\n",
       "2             0.153741\n",
       "3             0.216163\n",
       "4             0.201435\n",
       "5             0.259333"
      ]
     },
     "execution_count": 91,
     "metadata": {},
     "output_type": "execute_result"
    }
   ],
   "source": [
    "table = df.pivot_table(index=['region'],values=['purchase_trend'],aggfunc='mean')\n",
    "table"
   ]
  },
  {
   "cell_type": "markdown",
   "id": "914ff944",
   "metadata": {},
   "source": [
    "### 연도,지역별 고가품 소비 증감 현황"
   ]
  },
  {
   "cell_type": "code",
   "execution_count": 99,
   "id": "bf56423c-cd83-43e9-9ee9-461124d679ac",
   "metadata": {},
   "outputs": [
    {
     "data": {
      "text/plain": [
       "Index(['num_ts', 'date', 'product_num', 'price', 'price_grade', 'quantity',\n",
       "       'amount', 'year', 'weekday', 'hour', 'cusno', 'region', 'gender', 'age',\n",
       "       'income', 'grade_20', 'grade_21', 'ARPPU_20', 'ARPPU_21', 'AVC_20',\n",
       "       'AVC_21', 'ASC_20', 'ASC_21', 'purchase_trend'],\n",
       "      dtype='object')"
      ]
     },
     "execution_count": 99,
     "metadata": {},
     "output_type": "execute_result"
    }
   ],
   "source": [
    "df.columns"
   ]
  },
  {
   "cell_type": "code",
   "execution_count": 101,
   "id": "469c7319-8963-410b-984a-e277c0179ddc",
   "metadata": {},
   "outputs": [
    {
     "data": {
      "text/html": [
       "<div>\n",
       "<style scoped>\n",
       "    .dataframe tbody tr th:only-of-type {\n",
       "        vertical-align: middle;\n",
       "    }\n",
       "\n",
       "    .dataframe tbody tr th {\n",
       "        vertical-align: top;\n",
       "    }\n",
       "\n",
       "    .dataframe thead th {\n",
       "        text-align: right;\n",
       "    }\n",
       "</style>\n",
       "<table border=\"1\" class=\"dataframe\">\n",
       "  <thead>\n",
       "    <tr style=\"text-align: right;\">\n",
       "      <th></th>\n",
       "      <th>num_ts</th>\n",
       "      <th>date</th>\n",
       "      <th>product_num</th>\n",
       "      <th>price</th>\n",
       "      <th>price_grade</th>\n",
       "      <th>quantity</th>\n",
       "      <th>amount</th>\n",
       "      <th>year</th>\n",
       "      <th>weekday</th>\n",
       "      <th>hour</th>\n",
       "      <th>...</th>\n",
       "      <th>income</th>\n",
       "      <th>grade_20</th>\n",
       "      <th>grade_21</th>\n",
       "      <th>ARPPU_20</th>\n",
       "      <th>ARPPU_21</th>\n",
       "      <th>AVC_20</th>\n",
       "      <th>AVC_21</th>\n",
       "      <th>ASC_20</th>\n",
       "      <th>ASC_21</th>\n",
       "      <th>purchase_trend</th>\n",
       "    </tr>\n",
       "  </thead>\n",
       "  <tbody>\n",
       "    <tr>\n",
       "      <th>119</th>\n",
       "      <td>119</td>\n",
       "      <td>2020-01-07</td>\n",
       "      <td>2</td>\n",
       "      <td>56125</td>\n",
       "      <td>1</td>\n",
       "      <td>7</td>\n",
       "      <td>392875</td>\n",
       "      <td>2020</td>\n",
       "      <td>1</td>\n",
       "      <td>19</td>\n",
       "      <td>...</td>\n",
       "      <td>196999</td>\n",
       "      <td>VIP</td>\n",
       "      <td>VIP</td>\n",
       "      <td>194759.0</td>\n",
       "      <td>352166.0</td>\n",
       "      <td>12</td>\n",
       "      <td>4</td>\n",
       "      <td>2337112</td>\n",
       "      <td>1408665</td>\n",
       "      <td>0</td>\n",
       "    </tr>\n",
       "    <tr>\n",
       "      <th>126</th>\n",
       "      <td>126</td>\n",
       "      <td>2020-01-07</td>\n",
       "      <td>26</td>\n",
       "      <td>96660</td>\n",
       "      <td>1</td>\n",
       "      <td>5</td>\n",
       "      <td>483300</td>\n",
       "      <td>2020</td>\n",
       "      <td>1</td>\n",
       "      <td>1</td>\n",
       "      <td>...</td>\n",
       "      <td>205285</td>\n",
       "      <td>VIP</td>\n",
       "      <td>Gold</td>\n",
       "      <td>270137.0</td>\n",
       "      <td>240629.0</td>\n",
       "      <td>6</td>\n",
       "      <td>2</td>\n",
       "      <td>1620820</td>\n",
       "      <td>481258</td>\n",
       "      <td>0</td>\n",
       "    </tr>\n",
       "    <tr>\n",
       "      <th>145</th>\n",
       "      <td>145</td>\n",
       "      <td>2020-01-09</td>\n",
       "      <td>7</td>\n",
       "      <td>54075</td>\n",
       "      <td>1</td>\n",
       "      <td>3</td>\n",
       "      <td>162225</td>\n",
       "      <td>2020</td>\n",
       "      <td>3</td>\n",
       "      <td>8</td>\n",
       "      <td>...</td>\n",
       "      <td>196999</td>\n",
       "      <td>VIP</td>\n",
       "      <td>VIP</td>\n",
       "      <td>194759.0</td>\n",
       "      <td>352166.0</td>\n",
       "      <td>12</td>\n",
       "      <td>4</td>\n",
       "      <td>2337112</td>\n",
       "      <td>1408665</td>\n",
       "      <td>0</td>\n",
       "    </tr>\n",
       "    <tr>\n",
       "      <th>204</th>\n",
       "      <td>204</td>\n",
       "      <td>2020-01-13</td>\n",
       "      <td>21</td>\n",
       "      <td>93428</td>\n",
       "      <td>1</td>\n",
       "      <td>5</td>\n",
       "      <td>467140</td>\n",
       "      <td>2020</td>\n",
       "      <td>0</td>\n",
       "      <td>18</td>\n",
       "      <td>...</td>\n",
       "      <td>124661</td>\n",
       "      <td>VIP</td>\n",
       "      <td>Silver</td>\n",
       "      <td>432950.0</td>\n",
       "      <td>43692.0</td>\n",
       "      <td>4</td>\n",
       "      <td>2</td>\n",
       "      <td>1731802</td>\n",
       "      <td>87385</td>\n",
       "      <td>0</td>\n",
       "    </tr>\n",
       "    <tr>\n",
       "      <th>210</th>\n",
       "      <td>210</td>\n",
       "      <td>2020-01-13</td>\n",
       "      <td>58</td>\n",
       "      <td>96719</td>\n",
       "      <td>1</td>\n",
       "      <td>4</td>\n",
       "      <td>386876</td>\n",
       "      <td>2020</td>\n",
       "      <td>0</td>\n",
       "      <td>15</td>\n",
       "      <td>...</td>\n",
       "      <td>164071</td>\n",
       "      <td>VIP</td>\n",
       "      <td>Gold</td>\n",
       "      <td>187792.0</td>\n",
       "      <td>138959.0</td>\n",
       "      <td>9</td>\n",
       "      <td>5</td>\n",
       "      <td>1690130</td>\n",
       "      <td>694793</td>\n",
       "      <td>0</td>\n",
       "    </tr>\n",
       "  </tbody>\n",
       "</table>\n",
       "<p>5 rows × 24 columns</p>\n",
       "</div>"
      ],
      "text/plain": [
       "     num_ts       date  product_num  price price_grade  quantity  amount  \\\n",
       "119     119 2020-01-07            2  56125           1         7  392875   \n",
       "126     126 2020-01-07           26  96660           1         5  483300   \n",
       "145     145 2020-01-09            7  54075           1         3  162225   \n",
       "204     204 2020-01-13           21  93428           1         5  467140   \n",
       "210     210 2020-01-13           58  96719           1         4  386876   \n",
       "\n",
       "     year  weekday  hour  ...  income  grade_20  grade_21  ARPPU_20  ARPPU_21  \\\n",
       "119  2020        1    19  ...  196999       VIP       VIP  194759.0  352166.0   \n",
       "126  2020        1     1  ...  205285       VIP      Gold  270137.0  240629.0   \n",
       "145  2020        3     8  ...  196999       VIP       VIP  194759.0  352166.0   \n",
       "204  2020        0    18  ...  124661       VIP    Silver  432950.0   43692.0   \n",
       "210  2020        0    15  ...  164071       VIP      Gold  187792.0  138959.0   \n",
       "\n",
       "    AVC_20 AVC_21   ASC_20   ASC_21  purchase_trend  \n",
       "119     12      4  2337112  1408665               0  \n",
       "126      6      2  1620820   481258               0  \n",
       "145     12      4  2337112  1408665               0  \n",
       "204      4      2  1731802    87385               0  \n",
       "210      9      5  1690130   694793               0  \n",
       "\n",
       "[5 rows x 24 columns]"
      ]
     },
     "execution_count": 101,
     "metadata": {},
     "output_type": "execute_result"
    }
   ],
   "source": [
    "mask = (df.price_grade=='1')&(df.year==2020)&(df.region==1)\n",
    "df.loc[mask].head()"
   ]
  },
  {
   "cell_type": "code",
   "execution_count": 128,
   "id": "cdf44614-7256-4673-b22e-613bf440244d",
   "metadata": {},
   "outputs": [
    {
     "data": {
      "text/plain": [
       "<AxesSubplot:xlabel='year,price_grade'>"
      ]
     },
     "execution_count": 128,
     "metadata": {},
     "output_type": "execute_result"
    },
    {
     "data": {
      "image/png": "[encoded data removed]",
      "text/plain": [
       "<Figure size 432x288 with 1 Axes>"
      ]
     },
     "metadata": {
      "needs_background": "light"
     },
     "output_type": "display_data"
    }
   ],
   "source": [
    "grouped = df.groupby(['year','price_grade'])\n",
    "grouped.quantity.sum().plot(kind='bar')"
   ]
  },
  {
   "cell_type": "code",
   "execution_count": 152,
   "id": "b0c2b9c6-e5ac-4ac7-b374-5f055e6ac953",
   "metadata": {},
   "outputs": [
    {
     "data": {
      "text/plain": [
       "price_grade\n",
       "1    0.514106\n",
       "2    0.294389\n",
       "3    0.191505\n",
       "Name: quantity, dtype: float64"
      ]
     },
     "execution_count": 152,
     "metadata": {},
     "output_type": "execute_result"
    }
   ],
   "source": [
    "grouped.quantity.sum()[2020]/grouped.quantity.sum()[2020].sum()"
   ]
  },
  {
   "cell_type": "code",
   "execution_count": null,
   "id": "20680b09-62d5-4c31-a82d-f9ad00ac2273",
   "metadata": {},
   "outputs": [
    {
     "data": {
      "text/plain": [
       "price_grade\n",
       "1    0.517274\n",
       "2    0.290166\n",
       "3    0.192560\n",
       "Name: quantity, dtype: float64"
      ]
     },
     "execution_count": 149,
     "metadata": {},
     "output_type": "execute_result"
    }
   ],
   "source": []
  },
  {
   "cell_type": "markdown",
   "id": "39699792",
   "metadata": {},
   "source": [
    "## 분석 결과 알 수 있는 정보"
   ]
  },
  {
   "cell_type": "code",
   "execution_count": 94,
   "id": "a02d4467-20b0-4fd6-9e01-7f7cb883f79e",
   "metadata": {},
   "outputs": [
    {
     "data": {
      "image/png": "[encoded data removed]",
      "text/plain": [
       "<Figure size 432x288 with 1 Axes>"
      ]
     },
     "metadata": {
      "needs_background": "light"
     },
     "output_type": "display_data"
    }
   ],
   "source": [
    "table = df.pivot_table(index=['region'],values=['purchase_trend'],aggfunc=lambda x:np.mean(x*100))\n",
    "table.plot();\n",
    "\n",
    "# 최근 경기변화에 가장 민감하게 반응하여 소비량이 떨어진 지역은 2지역임을 알수있음.\n",
    "# 2지역은 본래 앵갤지수가 낮은 지역임을 알 수 있었다. \n",
    "# (앵갤지수 : 가계지출 대비 식료품 비율, 높은 수록 서민층)\n",
    "\n",
    "# 필수소비재 위주로 소비를 하는 5지역은 최근 경기변화에도 다른지역에 비해 소비성향의 변화가 적었다."
   ]
  },
  {
   "cell_type": "code",
   "execution_count": null,
   "id": "af06bba4",
   "metadata": {},
   "outputs": [],
   "source": []
  },
  {
   "cell_type": "code",
   "execution_count": null,
   "id": "e5b60aa2",
   "metadata": {},
   "outputs": [],
   "source": []
  },
  {
   "cell_type": "code",
   "execution_count": null,
   "id": "3a2a9ea5",
   "metadata": {},
   "outputs": [],
   "source": []
  },
  {
   "cell_type": "code",
   "execution_count": null,
   "id": "fe19448d",
   "metadata": {
    "ExecuteTime": {
     "end_time": "2022-07-17T05:34:50.235989Z",
     "start_time": "2022-07-17T05:34:41.834Z"
    }
   },
   "outputs": [],
   "source": [
    "# grid = sns.FacetGrid(purchase, row='year', col='day', height=2.2, aspect=1.6)\n",
    "# grid.map(plt.hist, 'amount', alpha=.5, bins=20)\n",
    "# grid.add_legend()"
   ]
  },
  {
   "cell_type": "code",
   "execution_count": null,
   "id": "a24fd6fb",
   "metadata": {
    "ExecuteTime": {
     "end_time": "2022-07-17T05:34:50.236687Z",
     "start_time": "2022-07-17T05:34:41.835Z"
    }
   },
   "outputs": [],
   "source": [
    "grid = sns.FacetGrid(X_train, row='embarked',\n",
    "                     col='survived', height=2.2, aspect=1.6)\n",
    "\n",
    "# 바그래프로 시각화, x: 성별, y: 요금, Error bar: 표시 안 함\n",
    "grid.map(sns.barplot, 'sex', 'fare', alpha=.5,\n",
    "         ci=None, order=[\"male\", \"female\"])\n",
    "\n",
    "grid.add_legend()"
   ]
  },
  {
   "cell_type": "code",
   "execution_count": null,
   "id": "bec723bd",
   "metadata": {
    "ExecuteTime": {
     "end_time": "2022-07-17T05:34:50.237289Z",
     "start_time": "2022-07-17T05:34:41.836Z"
    }
   },
   "outputs": [],
   "source": [
    "grid = sns.FacetGrid(X_train, row='embarked', height=2.2, aspect=1.6)\n",
    "\n",
    "# Pointplot으로 시각화, x: 객실 등급, y: 생존 여부, 색깔: 성별, x축 순서: [1, 2, 3], 색깔 순서: [남성, 여성]\n",
    "grid.map(sns.pointplot, 'pclass', 'survived', 'sex', palette='deep',\n",
    "         order=[1, 2, 3], hue_order=[\"male\", \"female\"])\n",
    "\n",
    "grid.add_legend()"
   ]
  },
  {
   "cell_type": "code",
   "execution_count": null,
   "id": "2309e6c4",
   "metadata": {
    "ExecuteTime": {
     "end_time": "2022-07-17T05:34:50.237843Z",
     "start_time": "2022-07-17T05:34:41.836Z"
    }
   },
   "outputs": [],
   "source": [
    "from sklearn import preprocessing\n",
    "from sklearn.model_selection import train_test_split\n",
    "\n",
    "# 독립변수, 종속 변수 분리\n",
    "X = df_1[['gender_c', 'age_c', 'region_c', 'ARPPU_20_c',\n",
    "          'AVC_20_c', 'AVC_21_c', 'amount_20_p']]\n",
    "y = df_1['sales_trend']\n",
    "\n",
    "# 학습용 테이터와 평가용 데이터를 8:2로 분리\n",
    "X_train, X_test, y_train, y_test = train_test_split(X, y, test_size=0.2,\n",
    "                                                    random_state=10)\n",
    "print(X_train.shape)\n",
    "print(X_test.shape)"
   ]
  },
  {
   "cell_type": "code",
   "execution_count": null,
   "id": "460edd9f",
   "metadata": {
    "ExecuteTime": {
     "end_time": "2022-07-17T05:34:50.238389Z",
     "start_time": "2022-07-17T05:34:41.837Z"
    }
   },
   "outputs": [],
   "source": [
    "# Decision Tree\n",
    "from sklearn.metrics import accuracy_score\n",
    "from sklearn.tree import DecisionTreeClassifier\n",
    "dt_model = DecisionTreeClassifier()\n",
    "dt_model.fit(X_train, y_train)\n",
    "dt_pred = dt_model.predict(X_test)\n",
    "\n",
    "print(dt_pred[0:10])\n",
    "print(y_test.values[0:10])\n",
    "\n",
    "accuracy = accuracy_score(y_test, dt_pred)\n",
    "print('dt 예측 정확도 :', accuracy)"
   ]
  },
  {
   "cell_type": "code",
   "execution_count": null,
   "id": "9b4e0df5",
   "metadata": {
    "ExecuteTime": {
     "end_time": "2022-07-17T05:34:50.239164Z",
     "start_time": "2022-07-17T05:34:41.838Z"
    }
   },
   "outputs": [],
   "source": [
    "# Random Forest\n",
    "from sklearn.ensemble import RandomForestClassifier\n",
    "\n",
    "rf_model = RandomForestClassifier()\n",
    "rf_model.fit(X_train, y_train)\n",
    "rf_pred = rf_model.predict(X_test)\n",
    "\n",
    "rf_accuracy = accuracy_score(y_test, rf_pred)\n",
    "print('rf 예측 정확도 :', rf_accuracy)"
   ]
  },
  {
   "cell_type": "code",
   "execution_count": null,
   "id": "4d20edf0",
   "metadata": {
    "ExecuteTime": {
     "end_time": "2022-07-17T05:34:50.239941Z",
     "start_time": "2022-07-17T05:34:41.838Z"
    }
   },
   "outputs": [],
   "source": [
    "# Logistic Regression\n",
    "from sklearn.linear_model import LogisticRegression\n",
    "import warnings\n",
    "warnings.filterwarnings('ignore')\n",
    "\n",
    "lr_model = LogisticRegression(random_state=0)\n",
    "lr_model.fit(X_train, y_train)\n",
    "lr_pred = lr_model.predict(X_test)\n",
    "\n",
    "lr_accuracy = accuracy_score(y_test, lr_pred)\n",
    "print('lr 예측 정확도 :', accuracy)"
   ]
  }
 ],
 "metadata": {
  "kernelspec": {
   "display_name": "Python 3 (ipykernel)",
   "language": "python",
   "name": "python3"
  },
  "language_info": {
   "codemirror_mode": {
    "name": "ipython",
    "version": 3
   },
   "file_extension": ".py",
   "mimetype": "text/x-python",
   "name": "python",
   "nbconvert_exporter": "python",
   "pygments_lexer": "ipython3",
   "version": "3.9.12"
  },
  "toc": {
   "base_numbering": 1,
   "nav_menu": {},
   "number_sections": true,
   "sideBar": true,
   "skip_h1_title": false,
   "title_cell": "Table of Contents",
   "title_sidebar": "Contents",
   "toc_cell": false,
   "toc_position": {
    "height": "772px",
    "left": "50px",
    "top": "96px",
    "width": "338.98895263671875px"
   },
   "toc_section_display": true,
   "toc_window_display": true
  }
 },
 "nbformat": 4,
 "nbformat_minor": 5
}
