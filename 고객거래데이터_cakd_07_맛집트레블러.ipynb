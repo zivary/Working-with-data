{
 "cells": [
  {
   "cell_type": "code",
   "execution_count": 1,
   "id": "a88aad96",
   "metadata": {
    "ExecuteTime": {
     "end_time": "2022-07-17T13:11:26.706905Z",
     "start_time": "2022-07-17T13:11:26.698751Z"
    }
   },
   "outputs": [
    {
     "data": {
      "text/plain": [
       "'/Users/alexkim/Documents/GitHub/sales_data_analysis'"
      ]
     },
     "execution_count": 1,
     "metadata": {},
     "output_type": "execute_result"
    }
   ],
   "source": [
    "%pwd"
   ]
  },
  {
   "cell_type": "markdown",
   "id": "c9ea644c",
   "metadata": {},
   "source": [
    "# 인사이트(중앙 편의점)\n",
    "1. 소비 트랜드 만들기 \n",
    "    - 고객별 총 소비량 감소\n",
    "    - 누적 매출액 증가량 감소\n",
    "    - 지역별, 소득수준 별 소비량 변화\n",
    "    - 1 지역 고가품 소비 증가 경향\n",
    "    - 5 지역 저가품 소비 증가 경향\n",
    "       |지역|인구(명)|소득|컨셉|연령 분포|소비 집중 시간|\n",
    "       |-|-|-|-|-|-|\n",
    "       | 1지역 | 100 | 2억 | 부촌 | 고령남여 + 청년 | 일과 시간 소비 |\n",
    "       | 2지역 | 150 | 1억 | 위성신도시 | 신혼 부부 + 어린 자녀 |  평일 오전, 주말 | \n",
    "       | 3지역 | 300 | 5천 | 업무지구 | 30~50대 생상가능인구 | 점심시간, 저녁, (특징: 주말 소비 급감) | \n",
    "       | 4지역 | 200 | 1천 | 대학가 | 20대 | 점심시간, 저녁, (특징: 주말 소비 급감) |\n",
    "       | 5지역 | 250 | 3천 | 일반거주지구 | 노년층 | 늦은 밤 |\n",
    "       \n",
    "       -  소득은 정규분포로 데이터 입력\n",
    "1. 트랜드 분석\n",
    "    - 평균 1회 결제 금액이 큰 고객을 더 유치하기위한 마케팅 계획 수립을 위한 분석\n",
    "    - 최근 변화한 소비 트렌드에 가장 민감하게 반응한 소득별 계층 분석\n",
    "\n",
    "1. 데이터프레임\n",
    "    - 상품 데이터프레임\n",
    ">- product_num* : 상품 코드\n",
    ">- price* : 상품 가격\n",
    ">- price_grade : 고가 중가 저가 여부\n",
    "\n",
    "    - 고객 데이터프레임\n",
    ">- cusno* : 고객 번호\n",
    ">- region* : 지역  \n",
    ">- gender* : 성별  \n",
    ">- age* : 나이  \n",
    ">- income* : 급여  \n",
    ">- grade_20 : 2020년 회원 등급\n",
    ">- grade_21 : 2021년 회원 등급\n",
    ">- ARPPU_20 : 2020년 회당 평균 결제액\n",
    ">- ARPPU_21 : 2021년 회당 평균 결제액\n",
    ">- AVC_20 : 2020년 연간 방문 횟수\n",
    ">- AVC_21 : 2021년 연간 방문 횟수\n",
    ">- purchase_trend : 고개 구매 추세 변화\n",
    "    \n",
    "    - 거래 데이터프레임\n",
    ">- num_ts* : 거래 번호\n",
    ">- cusno_ts* : 고객 변호\n",
    ">- product_num_ts* : 상품코드\n",
    ">- price_ts : 상품 가격\n",
    ">- quantity* : 수량\n",
    ">- amount : 해당 거래 매출\n",
    ">- date*: 거래 날짜\n",
    ">- year, weekday, hour : 거래 년도, 요일, 시간\n",
    "\n",
    " **변수명* <- 독립변수로 직접 입력해준 데이터**"
   ]
  },
  {
   "cell_type": "code",
   "execution_count": 2,
   "id": "2805b6d0",
   "metadata": {
    "ExecuteTime": {
     "end_time": "2022-07-17T13:11:27.561967Z",
     "start_time": "2022-07-17T13:11:26.709805Z"
    }
   },
   "outputs": [],
   "source": [
    "from dateutil.parser import parse\n",
    "from datetime import datetime\n",
    "import warnings\n",
    "import random\n",
    "import seaborn as sns\n",
    "import plotly.express as px\n",
    "import pandas as pd\n",
    "import numpy as np\n",
    "import matplotlib.pyplot as plt\n",
    "from matplotlib import rc\n",
    "rc('font', family='AppleGothic')\n",
    "plt.rcParams['axes.unicode_minus'] = False\n",
    "warnings.filterwarnings('ignore')\n",
    "\n",
    "random.seed(1)\n",
    "np.random.seed(1)"
   ]
  },
  {
   "cell_type": "markdown",
   "id": "65a3b986",
   "metadata": {
    "ExecuteTime": {
     "end_time": "2022-07-14T08:36:50.831874Z",
     "start_time": "2022-07-14T08:36:50.829616Z"
    }
   },
   "source": [
    "## 상품 목록 데이터프레임 만들기 : product"
   ]
  },
  {
   "cell_type": "markdown",
   "id": "8bd1bf67",
   "metadata": {},
   "source": [
    "### 상품 목록 데이터프레임 양식 만들기"
   ]
  },
  {
   "cell_type": "code",
   "execution_count": 3,
   "id": "20b3524f",
   "metadata": {
    "ExecuteTime": {
     "end_time": "2022-07-17T13:11:27.571329Z",
     "start_time": "2022-07-17T13:11:27.562865Z"
    }
   },
   "outputs": [
    {
     "data": {
      "text/html": [
       "<div>\n",
       "<style scoped>\n",
       "    .dataframe tbody tr th:only-of-type {\n",
       "        vertical-align: middle;\n",
       "    }\n",
       "\n",
       "    .dataframe tbody tr th {\n",
       "        vertical-align: top;\n",
       "    }\n",
       "\n",
       "    .dataframe thead th {\n",
       "        text-align: right;\n",
       "    }\n",
       "</style>\n",
       "<table border=\"1\" class=\"dataframe\">\n",
       "  <thead>\n",
       "    <tr style=\"text-align: right;\">\n",
       "      <th></th>\n",
       "      <th>product_num</th>\n",
       "      <th>price</th>\n",
       "      <th>price_grade</th>\n",
       "    </tr>\n",
       "  </thead>\n",
       "  <tbody>\n",
       "  </tbody>\n",
       "</table>\n",
       "</div>"
      ],
      "text/plain": [
       "Empty DataFrame\n",
       "Columns: [product_num, price, price_grade]\n",
       "Index: []"
      ]
     },
     "execution_count": 3,
     "metadata": {},
     "output_type": "execute_result"
    }
   ],
   "source": [
    "product = pd.DataFrame(columns=['product_num', 'price', 'price_grade'])\n",
    "product"
   ]
  },
  {
   "cell_type": "markdown",
   "id": "60a93b08",
   "metadata": {},
   "source": [
    "### 상품 목록 데이터프레임 데이터 채우기"
   ]
  },
  {
   "cell_type": "markdown",
   "id": "2a8471d2",
   "metadata": {
    "ExecuteTime": {
     "end_time": "2022-07-15T07:57:46.018692Z",
     "start_time": "2022-07-15T07:57:45.985750Z"
    }
   },
   "source": [
    "#### 상품 코드 : product_num"
   ]
  },
  {
   "cell_type": "code",
   "execution_count": 4,
   "id": "2681babe",
   "metadata": {
    "ExecuteTime": {
     "end_time": "2022-07-17T13:11:27.574962Z",
     "start_time": "2022-07-17T13:11:27.572352Z"
    }
   },
   "outputs": [],
   "source": [
    "product_num = np.arange(1, 101)\n",
    "product.product_num = product_num"
   ]
  },
  {
   "cell_type": "markdown",
   "id": "a7df4f4b",
   "metadata": {},
   "source": [
    "#### 상품 가격 : price"
   ]
  },
  {
   "cell_type": "code",
   "execution_count": 5,
   "id": "934d805e",
   "metadata": {
    "ExecuteTime": {
     "end_time": "2022-07-17T13:11:27.580530Z",
     "start_time": "2022-07-17T13:11:27.576337Z"
    }
   },
   "outputs": [],
   "source": [
    "price = random.sample(list(range(1000, 100000)), 100)\n",
    "product.price = price"
   ]
  },
  {
   "cell_type": "markdown",
   "id": "e6b0696f",
   "metadata": {},
   "source": [
    "### 상품 목록 데이터프레임 종속변수"
   ]
  },
  {
   "cell_type": "markdown",
   "id": "e0d0b8a9",
   "metadata": {},
   "source": [
    "#### 상품 가격 분류 : price_grade"
   ]
  },
  {
   "cell_type": "code",
   "execution_count": 6,
   "id": "41ef54d5",
   "metadata": {
    "ExecuteTime": {
     "end_time": "2022-07-17T13:11:27.588905Z",
     "start_time": "2022-07-17T13:11:27.582340Z"
    },
    "scrolled": true
   },
   "outputs": [
    {
     "data": {
      "text/html": [
       "<div>\n",
       "<style scoped>\n",
       "    .dataframe tbody tr th:only-of-type {\n",
       "        vertical-align: middle;\n",
       "    }\n",
       "\n",
       "    .dataframe tbody tr th {\n",
       "        vertical-align: top;\n",
       "    }\n",
       "\n",
       "    .dataframe thead th {\n",
       "        text-align: right;\n",
       "    }\n",
       "</style>\n",
       "<table border=\"1\" class=\"dataframe\">\n",
       "  <thead>\n",
       "    <tr style=\"text-align: right;\">\n",
       "      <th></th>\n",
       "      <th>product_num</th>\n",
       "      <th>price</th>\n",
       "      <th>price_grade</th>\n",
       "    </tr>\n",
       "  </thead>\n",
       "  <tbody>\n",
       "    <tr>\n",
       "      <th>0</th>\n",
       "      <td>1</td>\n",
       "      <td>18611</td>\n",
       "      <td>3</td>\n",
       "    </tr>\n",
       "    <tr>\n",
       "      <th>1</th>\n",
       "      <td>2</td>\n",
       "      <td>75606</td>\n",
       "      <td>2</td>\n",
       "    </tr>\n",
       "    <tr>\n",
       "      <th>2</th>\n",
       "      <td>3</td>\n",
       "      <td>9271</td>\n",
       "      <td>3</td>\n",
       "    </tr>\n",
       "    <tr>\n",
       "      <th>3</th>\n",
       "      <td>4</td>\n",
       "      <td>34432</td>\n",
       "      <td>3</td>\n",
       "    </tr>\n",
       "    <tr>\n",
       "      <th>4</th>\n",
       "      <td>5</td>\n",
       "      <td>16455</td>\n",
       "      <td>3</td>\n",
       "    </tr>\n",
       "    <tr>\n",
       "      <th>...</th>\n",
       "      <td>...</td>\n",
       "      <td>...</td>\n",
       "      <td>...</td>\n",
       "    </tr>\n",
       "    <tr>\n",
       "      <th>95</th>\n",
       "      <td>96</td>\n",
       "      <td>22456</td>\n",
       "      <td>3</td>\n",
       "    </tr>\n",
       "    <tr>\n",
       "      <th>96</th>\n",
       "      <td>97</td>\n",
       "      <td>69280</td>\n",
       "      <td>2</td>\n",
       "    </tr>\n",
       "    <tr>\n",
       "      <th>97</th>\n",
       "      <td>98</td>\n",
       "      <td>52544</td>\n",
       "      <td>2</td>\n",
       "    </tr>\n",
       "    <tr>\n",
       "      <th>98</th>\n",
       "      <td>99</td>\n",
       "      <td>49565</td>\n",
       "      <td>3</td>\n",
       "    </tr>\n",
       "    <tr>\n",
       "      <th>99</th>\n",
       "      <td>100</td>\n",
       "      <td>65185</td>\n",
       "      <td>2</td>\n",
       "    </tr>\n",
       "  </tbody>\n",
       "</table>\n",
       "<p>100 rows × 3 columns</p>\n",
       "</div>"
      ],
      "text/plain": [
       "    product_num  price price_grade\n",
       "0             1  18611           3\n",
       "1             2  75606           2\n",
       "2             3   9271           3\n",
       "3             4  34432           3\n",
       "4             5  16455           3\n",
       "..          ...    ...         ...\n",
       "95           96  22456           3\n",
       "96           97  69280           2\n",
       "97           98  52544           2\n",
       "98           99  49565           3\n",
       "99          100  65185           2\n",
       "\n",
       "[100 rows x 3 columns]"
      ]
     },
     "execution_count": 6,
     "metadata": {},
     "output_type": "execute_result"
    }
   ],
   "source": [
    "# price_grade : 고가품 : 1, 중가품 : 2, 저가품 : 3\n",
    "\n",
    "def price_grade(x):\n",
    "    y = 0\n",
    "    if x <= 50000:\n",
    "        y = '3'\n",
    "    elif x <= 80000:\n",
    "        y = '2'\n",
    "    else:\n",
    "        y = '1'\n",
    "    return y\n",
    "\n",
    "\n",
    "product['price_grade'] = product['price'].apply(price_grade)\n",
    "product"
   ]
  },
  {
   "cell_type": "code",
   "execution_count": 7,
   "id": "d3059d47-a7d8-464c-867e-b023ce7fd2e7",
   "metadata": {
    "ExecuteTime": {
     "end_time": "2022-07-17T13:11:27.649136Z",
     "start_time": "2022-07-17T13:11:27.589712Z"
    }
   },
   "outputs": [
    {
     "data": {
      "text/plain": [
       "<AxesSubplot:xlabel='price_grade'>"
      ]
     },
     "execution_count": 7,
     "metadata": {},
     "output_type": "execute_result"
    },
    {
     "data": {
      "image/png": "[encoded data removed]",
      "text/plain": [
       "<Figure size 432x288 with 1 Axes>"
      ]
     },
     "metadata": {
      "needs_background": "light"
     },
     "output_type": "display_data"
    }
   ],
   "source": [
    "# 상품 가격 등급 분포\n",
    "grouped = product.groupby('price_grade')\n",
    "grouped.price_grade.count().plot(kind='bar')"
   ]
  },
  {
   "cell_type": "markdown",
   "id": "f7ee6589",
   "metadata": {},
   "source": [
    "## 거래 데이터 만들기 : purchase"
   ]
  },
  {
   "cell_type": "markdown",
   "id": "755da93f",
   "metadata": {},
   "source": [
    "### 거래 데이터프레임 만들기"
   ]
  },
  {
   "cell_type": "markdown",
   "id": "947f5c25",
   "metadata": {},
   "source": [
    "#### 거래 데이터프레임 양식 만들기"
   ]
  },
  {
   "cell_type": "code",
   "execution_count": 8,
   "id": "92f3d64c",
   "metadata": {
    "ExecuteTime": {
     "end_time": "2022-07-17T13:11:27.656462Z",
     "start_time": "2022-07-17T13:11:27.651642Z"
    }
   },
   "outputs": [
    {
     "data": {
      "text/html": [
       "<div>\n",
       "<style scoped>\n",
       "    .dataframe tbody tr th:only-of-type {\n",
       "        vertical-align: middle;\n",
       "    }\n",
       "\n",
       "    .dataframe tbody tr th {\n",
       "        vertical-align: top;\n",
       "    }\n",
       "\n",
       "    .dataframe thead th {\n",
       "        text-align: right;\n",
       "    }\n",
       "</style>\n",
       "<table border=\"1\" class=\"dataframe\">\n",
       "  <thead>\n",
       "    <tr style=\"text-align: right;\">\n",
       "      <th></th>\n",
       "      <th>num_ts</th>\n",
       "      <th>cusno_ts</th>\n",
       "      <th>product_num_ts</th>\n",
       "      <th>price_ts</th>\n",
       "      <th>quantity</th>\n",
       "      <th>amount</th>\n",
       "      <th>date</th>\n",
       "      <th>year</th>\n",
       "      <th>weekday</th>\n",
       "      <th>hour</th>\n",
       "    </tr>\n",
       "  </thead>\n",
       "  <tbody>\n",
       "  </tbody>\n",
       "</table>\n",
       "</div>"
      ],
      "text/plain": [
       "Empty DataFrame\n",
       "Columns: [num_ts, cusno_ts, product_num_ts, price_ts, quantity, amount, date, year, weekday, hour]\n",
       "Index: []"
      ]
     },
     "execution_count": 8,
     "metadata": {},
     "output_type": "execute_result"
    }
   ],
   "source": [
    "purchase = pd.DataFrame(columns=['num_ts', 'cusno_ts', 'product_num_ts', 'price_ts',\n",
    "                        'quantity', 'amount', 'date', 'year', 'weekday', 'hour'])\n",
    "purchase"
   ]
  },
  {
   "cell_type": "markdown",
   "id": "d5692a59",
   "metadata": {},
   "source": [
    "### 거래 데이터프레임 데이터 채우기"
   ]
  },
  {
   "cell_type": "markdown",
   "id": "915c61c5",
   "metadata": {},
   "source": [
    "#### 날짜,요일,시간 : date, day, time"
   ]
  },
  {
   "cell_type": "code",
   "execution_count": 9,
   "id": "3094968e",
   "metadata": {
    "ExecuteTime": {
     "end_time": "2022-07-17T13:11:27.707535Z",
     "start_time": "2022-07-17T13:11:27.657333Z"
    },
    "scrolled": true
   },
   "outputs": [
    {
     "data": {
      "text/html": [
       "<div>\n",
       "<style scoped>\n",
       "    .dataframe tbody tr th:only-of-type {\n",
       "        vertical-align: middle;\n",
       "    }\n",
       "\n",
       "    .dataframe tbody tr th {\n",
       "        vertical-align: top;\n",
       "    }\n",
       "\n",
       "    .dataframe thead th {\n",
       "        text-align: right;\n",
       "    }\n",
       "</style>\n",
       "<table border=\"1\" class=\"dataframe\">\n",
       "  <thead>\n",
       "    <tr style=\"text-align: right;\">\n",
       "      <th></th>\n",
       "      <th>num_ts</th>\n",
       "      <th>cusno_ts</th>\n",
       "      <th>product_num_ts</th>\n",
       "      <th>price_ts</th>\n",
       "      <th>quantity</th>\n",
       "      <th>amount</th>\n",
       "      <th>date</th>\n",
       "      <th>year</th>\n",
       "      <th>weekday</th>\n",
       "      <th>hour</th>\n",
       "    </tr>\n",
       "  </thead>\n",
       "  <tbody>\n",
       "    <tr>\n",
       "      <th>0</th>\n",
       "      <td>NaN</td>\n",
       "      <td>NaN</td>\n",
       "      <td>NaN</td>\n",
       "      <td>NaN</td>\n",
       "      <td>NaN</td>\n",
       "      <td>NaN</td>\n",
       "      <td>2020-01-01</td>\n",
       "      <td>2020</td>\n",
       "      <td>2</td>\n",
       "      <td>1</td>\n",
       "    </tr>\n",
       "    <tr>\n",
       "      <th>1</th>\n",
       "      <td>NaN</td>\n",
       "      <td>NaN</td>\n",
       "      <td>NaN</td>\n",
       "      <td>NaN</td>\n",
       "      <td>NaN</td>\n",
       "      <td>NaN</td>\n",
       "      <td>2020-01-01</td>\n",
       "      <td>2020</td>\n",
       "      <td>2</td>\n",
       "      <td>13</td>\n",
       "    </tr>\n",
       "    <tr>\n",
       "      <th>2</th>\n",
       "      <td>NaN</td>\n",
       "      <td>NaN</td>\n",
       "      <td>NaN</td>\n",
       "      <td>NaN</td>\n",
       "      <td>NaN</td>\n",
       "      <td>NaN</td>\n",
       "      <td>2020-01-01</td>\n",
       "      <td>2020</td>\n",
       "      <td>2</td>\n",
       "      <td>2</td>\n",
       "    </tr>\n",
       "    <tr>\n",
       "      <th>3</th>\n",
       "      <td>NaN</td>\n",
       "      <td>NaN</td>\n",
       "      <td>NaN</td>\n",
       "      <td>NaN</td>\n",
       "      <td>NaN</td>\n",
       "      <td>NaN</td>\n",
       "      <td>2020-01-01</td>\n",
       "      <td>2020</td>\n",
       "      <td>2</td>\n",
       "      <td>8</td>\n",
       "    </tr>\n",
       "    <tr>\n",
       "      <th>4</th>\n",
       "      <td>NaN</td>\n",
       "      <td>NaN</td>\n",
       "      <td>NaN</td>\n",
       "      <td>NaN</td>\n",
       "      <td>NaN</td>\n",
       "      <td>NaN</td>\n",
       "      <td>2020-01-01</td>\n",
       "      <td>2020</td>\n",
       "      <td>2</td>\n",
       "      <td>14</td>\n",
       "    </tr>\n",
       "    <tr>\n",
       "      <th>...</th>\n",
       "      <td>...</td>\n",
       "      <td>...</td>\n",
       "      <td>...</td>\n",
       "      <td>...</td>\n",
       "      <td>...</td>\n",
       "      <td>...</td>\n",
       "      <td>...</td>\n",
       "      <td>...</td>\n",
       "      <td>...</td>\n",
       "      <td>...</td>\n",
       "    </tr>\n",
       "    <tr>\n",
       "      <th>9995</th>\n",
       "      <td>NaN</td>\n",
       "      <td>NaN</td>\n",
       "      <td>NaN</td>\n",
       "      <td>NaN</td>\n",
       "      <td>NaN</td>\n",
       "      <td>NaN</td>\n",
       "      <td>2021-12-30</td>\n",
       "      <td>2021</td>\n",
       "      <td>3</td>\n",
       "      <td>1</td>\n",
       "    </tr>\n",
       "    <tr>\n",
       "      <th>9996</th>\n",
       "      <td>NaN</td>\n",
       "      <td>NaN</td>\n",
       "      <td>NaN</td>\n",
       "      <td>NaN</td>\n",
       "      <td>NaN</td>\n",
       "      <td>NaN</td>\n",
       "      <td>2021-12-30</td>\n",
       "      <td>2021</td>\n",
       "      <td>3</td>\n",
       "      <td>4</td>\n",
       "    </tr>\n",
       "    <tr>\n",
       "      <th>9997</th>\n",
       "      <td>NaN</td>\n",
       "      <td>NaN</td>\n",
       "      <td>NaN</td>\n",
       "      <td>NaN</td>\n",
       "      <td>NaN</td>\n",
       "      <td>NaN</td>\n",
       "      <td>2021-12-30</td>\n",
       "      <td>2021</td>\n",
       "      <td>3</td>\n",
       "      <td>10</td>\n",
       "    </tr>\n",
       "    <tr>\n",
       "      <th>9998</th>\n",
       "      <td>NaN</td>\n",
       "      <td>NaN</td>\n",
       "      <td>NaN</td>\n",
       "      <td>NaN</td>\n",
       "      <td>NaN</td>\n",
       "      <td>NaN</td>\n",
       "      <td>2021-12-30</td>\n",
       "      <td>2021</td>\n",
       "      <td>3</td>\n",
       "      <td>22</td>\n",
       "    </tr>\n",
       "    <tr>\n",
       "      <th>9999</th>\n",
       "      <td>NaN</td>\n",
       "      <td>NaN</td>\n",
       "      <td>NaN</td>\n",
       "      <td>NaN</td>\n",
       "      <td>NaN</td>\n",
       "      <td>NaN</td>\n",
       "      <td>2021-12-30</td>\n",
       "      <td>2021</td>\n",
       "      <td>3</td>\n",
       "      <td>2</td>\n",
       "    </tr>\n",
       "  </tbody>\n",
       "</table>\n",
       "<p>10000 rows × 10 columns</p>\n",
       "</div>"
      ],
      "text/plain": [
       "     num_ts cusno_ts product_num_ts price_ts quantity amount       date  year  \\\n",
       "0       NaN      NaN            NaN      NaN      NaN    NaN 2020-01-01  2020   \n",
       "1       NaN      NaN            NaN      NaN      NaN    NaN 2020-01-01  2020   \n",
       "2       NaN      NaN            NaN      NaN      NaN    NaN 2020-01-01  2020   \n",
       "3       NaN      NaN            NaN      NaN      NaN    NaN 2020-01-01  2020   \n",
       "4       NaN      NaN            NaN      NaN      NaN    NaN 2020-01-01  2020   \n",
       "...     ...      ...            ...      ...      ...    ...        ...   ...   \n",
       "9995    NaN      NaN            NaN      NaN      NaN    NaN 2021-12-30  2021   \n",
       "9996    NaN      NaN            NaN      NaN      NaN    NaN 2021-12-30  2021   \n",
       "9997    NaN      NaN            NaN      NaN      NaN    NaN 2021-12-30  2021   \n",
       "9998    NaN      NaN            NaN      NaN      NaN    NaN 2021-12-30  2021   \n",
       "9999    NaN      NaN            NaN      NaN      NaN    NaN 2021-12-30  2021   \n",
       "\n",
       "      weekday  hour  \n",
       "0           2     1  \n",
       "1           2    13  \n",
       "2           2     2  \n",
       "3           2     8  \n",
       "4           2    14  \n",
       "...       ...   ...  \n",
       "9995        3     1  \n",
       "9996        3     4  \n",
       "9997        3    10  \n",
       "9998        3    22  \n",
       "9999        3     2  \n",
       "\n",
       "[10000 rows x 10 columns]"
      ]
     },
     "execution_count": 9,
     "metadata": {},
     "output_type": "execute_result"
    }
   ],
   "source": [
    "# date\n",
    "# date 간격 : 시간\n",
    "date_list_20 = list(pd.date_range('2020-01-01', '2020-12-31', freq='H'))\n",
    "date_list_21 = list(pd.date_range('2021-01-01', '2021-12-31', freq='H'))\n",
    "\n",
    "# 2020 년 거래량 6000건\n",
    "date_20 = np.random.choice(date_list_20, size=6000).tolist()\n",
    "# 2021 년 거래량 4000건\n",
    "date_21 = np.random.choice(date_list_21, size=4000).tolist()\n",
    "date = date_20 + date_21\n",
    "random.shuffle(date)\n",
    "date = pd.Series(date)\n",
    "\n",
    "# date 에서 년-월-일 형식의 날짜 추출\n",
    "# purchase.date = date.dt.date\n",
    "purchase.date = pd.to_datetime(date.dt.date)\n",
    "\n",
    "# # year(년도)\n",
    "purchase.year = date.dt.year\n",
    "\n",
    "# # day(요일)\n",
    "purchase.weekday = date.dt.weekday\n",
    "\n",
    "# # 시간\n",
    "purchase.hour = date.dt.hour\n",
    "\n",
    "purchase = purchase.sort_values('date', ascending=True)\n",
    "purchase = purchase.reset_index(drop=True)\n",
    "\n",
    "purchase"
   ]
  },
  {
   "cell_type": "markdown",
   "id": "d99f2fcf",
   "metadata": {},
   "source": [
    "#### 거래 번호 : num_ts"
   ]
  },
  {
   "cell_type": "code",
   "execution_count": 10,
   "id": "4a29d92c",
   "metadata": {
    "ExecuteTime": {
     "end_time": "2022-07-17T13:11:27.711352Z",
     "start_time": "2022-07-17T13:11:27.708356Z"
    }
   },
   "outputs": [],
   "source": [
    "num_ts = np.arange(0, 10000)\n",
    "purchase.num_ts = num_ts"
   ]
  },
  {
   "cell_type": "markdown",
   "id": "e71c3ac3",
   "metadata": {},
   "source": [
    "#### 고객번호 : cusno_ts"
   ]
  },
  {
   "cell_type": "code",
   "execution_count": 11,
   "id": "39a57569",
   "metadata": {
    "ExecuteTime": {
     "end_time": "2022-07-17T13:11:27.715378Z",
     "start_time": "2022-07-17T13:11:27.712207Z"
    }
   },
   "outputs": [],
   "source": [
    "# 기존 cusno가 중복될 수 있도록 만들기\n",
    "cusno_ts = np.random.choice(list(np.arange(10000, 11000)), size=10000)\n",
    "purchase.cusno_ts = cusno_ts"
   ]
  },
  {
   "cell_type": "code",
   "execution_count": 12,
   "id": "ae12640e-5bc0-4756-bf3c-42f0e1e1755e",
   "metadata": {
    "ExecuteTime": {
     "end_time": "2022-07-17T13:11:27.723273Z",
     "start_time": "2022-07-17T13:11:27.716654Z"
    }
   },
   "outputs": [
    {
     "data": {
      "text/html": [
       "<div>\n",
       "<style scoped>\n",
       "    .dataframe tbody tr th:only-of-type {\n",
       "        vertical-align: middle;\n",
       "    }\n",
       "\n",
       "    .dataframe tbody tr th {\n",
       "        vertical-align: top;\n",
       "    }\n",
       "\n",
       "    .dataframe thead th {\n",
       "        text-align: right;\n",
       "    }\n",
       "</style>\n",
       "<table border=\"1\" class=\"dataframe\">\n",
       "  <thead>\n",
       "    <tr style=\"text-align: right;\">\n",
       "      <th></th>\n",
       "      <th>num_ts</th>\n",
       "      <th>cusno_ts</th>\n",
       "      <th>product_num_ts</th>\n",
       "      <th>price_ts</th>\n",
       "      <th>quantity</th>\n",
       "      <th>amount</th>\n",
       "      <th>date</th>\n",
       "      <th>year</th>\n",
       "      <th>weekday</th>\n",
       "      <th>hour</th>\n",
       "    </tr>\n",
       "  </thead>\n",
       "  <tbody>\n",
       "    <tr>\n",
       "      <th>0</th>\n",
       "      <td>0</td>\n",
       "      <td>10166</td>\n",
       "      <td>NaN</td>\n",
       "      <td>NaN</td>\n",
       "      <td>NaN</td>\n",
       "      <td>NaN</td>\n",
       "      <td>2020-01-01</td>\n",
       "      <td>2020</td>\n",
       "      <td>2</td>\n",
       "      <td>1</td>\n",
       "    </tr>\n",
       "    <tr>\n",
       "      <th>1</th>\n",
       "      <td>1</td>\n",
       "      <td>10182</td>\n",
       "      <td>NaN</td>\n",
       "      <td>NaN</td>\n",
       "      <td>NaN</td>\n",
       "      <td>NaN</td>\n",
       "      <td>2020-01-01</td>\n",
       "      <td>2020</td>\n",
       "      <td>2</td>\n",
       "      <td>13</td>\n",
       "    </tr>\n",
       "    <tr>\n",
       "      <th>2</th>\n",
       "      <td>2</td>\n",
       "      <td>10680</td>\n",
       "      <td>NaN</td>\n",
       "      <td>NaN</td>\n",
       "      <td>NaN</td>\n",
       "      <td>NaN</td>\n",
       "      <td>2020-01-01</td>\n",
       "      <td>2020</td>\n",
       "      <td>2</td>\n",
       "      <td>2</td>\n",
       "    </tr>\n",
       "    <tr>\n",
       "      <th>3</th>\n",
       "      <td>3</td>\n",
       "      <td>10298</td>\n",
       "      <td>NaN</td>\n",
       "      <td>NaN</td>\n",
       "      <td>NaN</td>\n",
       "      <td>NaN</td>\n",
       "      <td>2020-01-01</td>\n",
       "      <td>2020</td>\n",
       "      <td>2</td>\n",
       "      <td>8</td>\n",
       "    </tr>\n",
       "    <tr>\n",
       "      <th>4</th>\n",
       "      <td>4</td>\n",
       "      <td>10107</td>\n",
       "      <td>NaN</td>\n",
       "      <td>NaN</td>\n",
       "      <td>NaN</td>\n",
       "      <td>NaN</td>\n",
       "      <td>2020-01-01</td>\n",
       "      <td>2020</td>\n",
       "      <td>2</td>\n",
       "      <td>14</td>\n",
       "    </tr>\n",
       "    <tr>\n",
       "      <th>...</th>\n",
       "      <td>...</td>\n",
       "      <td>...</td>\n",
       "      <td>...</td>\n",
       "      <td>...</td>\n",
       "      <td>...</td>\n",
       "      <td>...</td>\n",
       "      <td>...</td>\n",
       "      <td>...</td>\n",
       "      <td>...</td>\n",
       "      <td>...</td>\n",
       "    </tr>\n",
       "    <tr>\n",
       "      <th>9995</th>\n",
       "      <td>9995</td>\n",
       "      <td>10542</td>\n",
       "      <td>NaN</td>\n",
       "      <td>NaN</td>\n",
       "      <td>NaN</td>\n",
       "      <td>NaN</td>\n",
       "      <td>2021-12-30</td>\n",
       "      <td>2021</td>\n",
       "      <td>3</td>\n",
       "      <td>1</td>\n",
       "    </tr>\n",
       "    <tr>\n",
       "      <th>9996</th>\n",
       "      <td>9996</td>\n",
       "      <td>10192</td>\n",
       "      <td>NaN</td>\n",
       "      <td>NaN</td>\n",
       "      <td>NaN</td>\n",
       "      <td>NaN</td>\n",
       "      <td>2021-12-30</td>\n",
       "      <td>2021</td>\n",
       "      <td>3</td>\n",
       "      <td>4</td>\n",
       "    </tr>\n",
       "    <tr>\n",
       "      <th>9997</th>\n",
       "      <td>9997</td>\n",
       "      <td>10322</td>\n",
       "      <td>NaN</td>\n",
       "      <td>NaN</td>\n",
       "      <td>NaN</td>\n",
       "      <td>NaN</td>\n",
       "      <td>2021-12-30</td>\n",
       "      <td>2021</td>\n",
       "      <td>3</td>\n",
       "      <td>10</td>\n",
       "    </tr>\n",
       "    <tr>\n",
       "      <th>9998</th>\n",
       "      <td>9998</td>\n",
       "      <td>10568</td>\n",
       "      <td>NaN</td>\n",
       "      <td>NaN</td>\n",
       "      <td>NaN</td>\n",
       "      <td>NaN</td>\n",
       "      <td>2021-12-30</td>\n",
       "      <td>2021</td>\n",
       "      <td>3</td>\n",
       "      <td>22</td>\n",
       "    </tr>\n",
       "    <tr>\n",
       "      <th>9999</th>\n",
       "      <td>9999</td>\n",
       "      <td>10253</td>\n",
       "      <td>NaN</td>\n",
       "      <td>NaN</td>\n",
       "      <td>NaN</td>\n",
       "      <td>NaN</td>\n",
       "      <td>2021-12-30</td>\n",
       "      <td>2021</td>\n",
       "      <td>3</td>\n",
       "      <td>2</td>\n",
       "    </tr>\n",
       "  </tbody>\n",
       "</table>\n",
       "<p>10000 rows × 10 columns</p>\n",
       "</div>"
      ],
      "text/plain": [
       "      num_ts  cusno_ts product_num_ts price_ts quantity amount       date  \\\n",
       "0          0     10166            NaN      NaN      NaN    NaN 2020-01-01   \n",
       "1          1     10182            NaN      NaN      NaN    NaN 2020-01-01   \n",
       "2          2     10680            NaN      NaN      NaN    NaN 2020-01-01   \n",
       "3          3     10298            NaN      NaN      NaN    NaN 2020-01-01   \n",
       "4          4     10107            NaN      NaN      NaN    NaN 2020-01-01   \n",
       "...      ...       ...            ...      ...      ...    ...        ...   \n",
       "9995    9995     10542            NaN      NaN      NaN    NaN 2021-12-30   \n",
       "9996    9996     10192            NaN      NaN      NaN    NaN 2021-12-30   \n",
       "9997    9997     10322            NaN      NaN      NaN    NaN 2021-12-30   \n",
       "9998    9998     10568            NaN      NaN      NaN    NaN 2021-12-30   \n",
       "9999    9999     10253            NaN      NaN      NaN    NaN 2021-12-30   \n",
       "\n",
       "      year  weekday  hour  \n",
       "0     2020        2     1  \n",
       "1     2020        2    13  \n",
       "2     2020        2     2  \n",
       "3     2020        2     8  \n",
       "4     2020        2    14  \n",
       "...    ...      ...   ...  \n",
       "9995  2021        3     1  \n",
       "9996  2021        3     4  \n",
       "9997  2021        3    10  \n",
       "9998  2021        3    22  \n",
       "9999  2021        3     2  \n",
       "\n",
       "[10000 rows x 10 columns]"
      ]
     },
     "execution_count": 12,
     "metadata": {},
     "output_type": "execute_result"
    }
   ],
   "source": [
    "purchase"
   ]
  },
  {
   "cell_type": "markdown",
   "id": "11d706a8",
   "metadata": {},
   "source": [
    "#### 상품코드 : product_num_ts"
   ]
  },
  {
   "cell_type": "code",
   "execution_count": 13,
   "id": "79e9b033",
   "metadata": {
    "ExecuteTime": {
     "end_time": "2022-07-17T13:11:27.842966Z",
     "start_time": "2022-07-17T13:11:27.724363Z"
    }
   },
   "outputs": [],
   "source": [
    "# product_num_ts = np.random.choice(list(product_num), size=10000).tolist()\n",
    "# purchase.product_num_ts = product_num_ts\n",
    "\n",
    "price_grade_1 = product[product['price_grade'] == '1'].product_num.tolist()\n",
    "price_grade_2 = product[product['price_grade'] == '2'].product_num.tolist()\n",
    "price_grade_3 = product[product['price_grade'] == '3'].product_num.tolist()\n",
    "price_grade_3\n",
    "\n",
    "price_grade_1_20 = np.random.choice(price_grade_1, 1000).tolist()\n",
    "price_grade_2_20 = np.random.choice(price_grade_2, 2000).tolist()\n",
    "price_grade_3_20 = np.random.choice(price_grade_3, 3000).tolist()\n",
    "product_num_ts_20 = price_grade_1_20 + price_grade_2_20 + price_grade_3_20\n",
    "random.shuffle(product_num_ts_20)\n",
    "\n",
    "\n",
    "price_grade_1_21 = np.random.choice(price_grade_1, 1000).tolist()\n",
    "price_grade_2_21 = np.random.choice(price_grade_2, 1500).tolist()\n",
    "price_grade_3_21 = np.random.choice(price_grade_3, 1500).tolist()\n",
    "product_num_ts_21 = price_grade_1_21 + price_grade_2_21 + price_grade_3_21\n",
    "random.shuffle(product_num_ts_21)\n",
    "\n",
    "product_num_ts_ = product_num_ts_20 + product_num_ts_21\n",
    "purchase.product_num_ts = product_num_ts_"
   ]
  },
  {
   "cell_type": "code",
   "execution_count": 14,
   "id": "37ceec65-2ee3-4ee3-b0fd-34846b2ab246",
   "metadata": {
    "ExecuteTime": {
     "end_time": "2022-07-17T13:11:27.852488Z",
     "start_time": "2022-07-17T13:11:27.845121Z"
    },
    "scrolled": true
   },
   "outputs": [
    {
     "data": {
      "text/html": [
       "<div>\n",
       "<style scoped>\n",
       "    .dataframe tbody tr th:only-of-type {\n",
       "        vertical-align: middle;\n",
       "    }\n",
       "\n",
       "    .dataframe tbody tr th {\n",
       "        vertical-align: top;\n",
       "    }\n",
       "\n",
       "    .dataframe thead th {\n",
       "        text-align: right;\n",
       "    }\n",
       "</style>\n",
       "<table border=\"1\" class=\"dataframe\">\n",
       "  <thead>\n",
       "    <tr style=\"text-align: right;\">\n",
       "      <th></th>\n",
       "      <th>num_ts</th>\n",
       "      <th>cusno_ts</th>\n",
       "      <th>product_num_ts</th>\n",
       "      <th>price_ts</th>\n",
       "      <th>quantity</th>\n",
       "      <th>amount</th>\n",
       "      <th>date</th>\n",
       "      <th>year</th>\n",
       "      <th>weekday</th>\n",
       "      <th>hour</th>\n",
       "    </tr>\n",
       "  </thead>\n",
       "  <tbody>\n",
       "    <tr>\n",
       "      <th>0</th>\n",
       "      <td>0</td>\n",
       "      <td>10166</td>\n",
       "      <td>87</td>\n",
       "      <td>NaN</td>\n",
       "      <td>NaN</td>\n",
       "      <td>NaN</td>\n",
       "      <td>2020-01-01</td>\n",
       "      <td>2020</td>\n",
       "      <td>2</td>\n",
       "      <td>1</td>\n",
       "    </tr>\n",
       "    <tr>\n",
       "      <th>1</th>\n",
       "      <td>1</td>\n",
       "      <td>10182</td>\n",
       "      <td>88</td>\n",
       "      <td>NaN</td>\n",
       "      <td>NaN</td>\n",
       "      <td>NaN</td>\n",
       "      <td>2020-01-01</td>\n",
       "      <td>2020</td>\n",
       "      <td>2</td>\n",
       "      <td>13</td>\n",
       "    </tr>\n",
       "    <tr>\n",
       "      <th>2</th>\n",
       "      <td>2</td>\n",
       "      <td>10680</td>\n",
       "      <td>69</td>\n",
       "      <td>NaN</td>\n",
       "      <td>NaN</td>\n",
       "      <td>NaN</td>\n",
       "      <td>2020-01-01</td>\n",
       "      <td>2020</td>\n",
       "      <td>2</td>\n",
       "      <td>2</td>\n",
       "    </tr>\n",
       "    <tr>\n",
       "      <th>3</th>\n",
       "      <td>3</td>\n",
       "      <td>10298</td>\n",
       "      <td>21</td>\n",
       "      <td>NaN</td>\n",
       "      <td>NaN</td>\n",
       "      <td>NaN</td>\n",
       "      <td>2020-01-01</td>\n",
       "      <td>2020</td>\n",
       "      <td>2</td>\n",
       "      <td>8</td>\n",
       "    </tr>\n",
       "    <tr>\n",
       "      <th>4</th>\n",
       "      <td>4</td>\n",
       "      <td>10107</td>\n",
       "      <td>98</td>\n",
       "      <td>NaN</td>\n",
       "      <td>NaN</td>\n",
       "      <td>NaN</td>\n",
       "      <td>2020-01-01</td>\n",
       "      <td>2020</td>\n",
       "      <td>2</td>\n",
       "      <td>14</td>\n",
       "    </tr>\n",
       "    <tr>\n",
       "      <th>...</th>\n",
       "      <td>...</td>\n",
       "      <td>...</td>\n",
       "      <td>...</td>\n",
       "      <td>...</td>\n",
       "      <td>...</td>\n",
       "      <td>...</td>\n",
       "      <td>...</td>\n",
       "      <td>...</td>\n",
       "      <td>...</td>\n",
       "      <td>...</td>\n",
       "    </tr>\n",
       "    <tr>\n",
       "      <th>9995</th>\n",
       "      <td>9995</td>\n",
       "      <td>10542</td>\n",
       "      <td>49</td>\n",
       "      <td>NaN</td>\n",
       "      <td>NaN</td>\n",
       "      <td>NaN</td>\n",
       "      <td>2021-12-30</td>\n",
       "      <td>2021</td>\n",
       "      <td>3</td>\n",
       "      <td>1</td>\n",
       "    </tr>\n",
       "    <tr>\n",
       "      <th>9996</th>\n",
       "      <td>9996</td>\n",
       "      <td>10192</td>\n",
       "      <td>1</td>\n",
       "      <td>NaN</td>\n",
       "      <td>NaN</td>\n",
       "      <td>NaN</td>\n",
       "      <td>2021-12-30</td>\n",
       "      <td>2021</td>\n",
       "      <td>3</td>\n",
       "      <td>4</td>\n",
       "    </tr>\n",
       "    <tr>\n",
       "      <th>9997</th>\n",
       "      <td>9997</td>\n",
       "      <td>10322</td>\n",
       "      <td>30</td>\n",
       "      <td>NaN</td>\n",
       "      <td>NaN</td>\n",
       "      <td>NaN</td>\n",
       "      <td>2021-12-30</td>\n",
       "      <td>2021</td>\n",
       "      <td>3</td>\n",
       "      <td>10</td>\n",
       "    </tr>\n",
       "    <tr>\n",
       "      <th>9998</th>\n",
       "      <td>9998</td>\n",
       "      <td>10568</td>\n",
       "      <td>40</td>\n",
       "      <td>NaN</td>\n",
       "      <td>NaN</td>\n",
       "      <td>NaN</td>\n",
       "      <td>2021-12-30</td>\n",
       "      <td>2021</td>\n",
       "      <td>3</td>\n",
       "      <td>22</td>\n",
       "    </tr>\n",
       "    <tr>\n",
       "      <th>9999</th>\n",
       "      <td>9999</td>\n",
       "      <td>10253</td>\n",
       "      <td>93</td>\n",
       "      <td>NaN</td>\n",
       "      <td>NaN</td>\n",
       "      <td>NaN</td>\n",
       "      <td>2021-12-30</td>\n",
       "      <td>2021</td>\n",
       "      <td>3</td>\n",
       "      <td>2</td>\n",
       "    </tr>\n",
       "  </tbody>\n",
       "</table>\n",
       "<p>10000 rows × 10 columns</p>\n",
       "</div>"
      ],
      "text/plain": [
       "      num_ts  cusno_ts  product_num_ts price_ts quantity amount       date  \\\n",
       "0          0     10166              87      NaN      NaN    NaN 2020-01-01   \n",
       "1          1     10182              88      NaN      NaN    NaN 2020-01-01   \n",
       "2          2     10680              69      NaN      NaN    NaN 2020-01-01   \n",
       "3          3     10298              21      NaN      NaN    NaN 2020-01-01   \n",
       "4          4     10107              98      NaN      NaN    NaN 2020-01-01   \n",
       "...      ...       ...             ...      ...      ...    ...        ...   \n",
       "9995    9995     10542              49      NaN      NaN    NaN 2021-12-30   \n",
       "9996    9996     10192               1      NaN      NaN    NaN 2021-12-30   \n",
       "9997    9997     10322              30      NaN      NaN    NaN 2021-12-30   \n",
       "9998    9998     10568              40      NaN      NaN    NaN 2021-12-30   \n",
       "9999    9999     10253              93      NaN      NaN    NaN 2021-12-30   \n",
       "\n",
       "      year  weekday  hour  \n",
       "0     2020        2     1  \n",
       "1     2020        2    13  \n",
       "2     2020        2     2  \n",
       "3     2020        2     8  \n",
       "4     2020        2    14  \n",
       "...    ...      ...   ...  \n",
       "9995  2021        3     1  \n",
       "9996  2021        3     4  \n",
       "9997  2021        3    10  \n",
       "9998  2021        3    22  \n",
       "9999  2021        3     2  \n",
       "\n",
       "[10000 rows x 10 columns]"
      ]
     },
     "execution_count": 14,
     "metadata": {},
     "output_type": "execute_result"
    }
   ],
   "source": [
    "purchase"
   ]
  },
  {
   "cell_type": "markdown",
   "id": "0b6b4697",
   "metadata": {},
   "source": [
    "#### 상품 가격 : price_ts"
   ]
  },
  {
   "cell_type": "code",
   "execution_count": 15,
   "id": "0ce2b6c0",
   "metadata": {
    "ExecuteTime": {
     "end_time": "2022-07-17T13:11:29.694401Z",
     "start_time": "2022-07-17T13:11:27.853694Z"
    }
   },
   "outputs": [
    {
     "data": {
      "text/html": [
       "<div>\n",
       "<style scoped>\n",
       "    .dataframe tbody tr th:only-of-type {\n",
       "        vertical-align: middle;\n",
       "    }\n",
       "\n",
       "    .dataframe tbody tr th {\n",
       "        vertical-align: top;\n",
       "    }\n",
       "\n",
       "    .dataframe thead th {\n",
       "        text-align: right;\n",
       "    }\n",
       "</style>\n",
       "<table border=\"1\" class=\"dataframe\">\n",
       "  <thead>\n",
       "    <tr style=\"text-align: right;\">\n",
       "      <th></th>\n",
       "      <th>num_ts</th>\n",
       "      <th>cusno_ts</th>\n",
       "      <th>product_num_ts</th>\n",
       "      <th>price_ts</th>\n",
       "      <th>quantity</th>\n",
       "      <th>amount</th>\n",
       "      <th>date</th>\n",
       "      <th>year</th>\n",
       "      <th>weekday</th>\n",
       "      <th>hour</th>\n",
       "    </tr>\n",
       "  </thead>\n",
       "  <tbody>\n",
       "    <tr>\n",
       "      <th>0</th>\n",
       "      <td>0</td>\n",
       "      <td>10166</td>\n",
       "      <td>87</td>\n",
       "      <td>93148</td>\n",
       "      <td>NaN</td>\n",
       "      <td>NaN</td>\n",
       "      <td>2020-01-01</td>\n",
       "      <td>2020</td>\n",
       "      <td>2</td>\n",
       "      <td>1</td>\n",
       "    </tr>\n",
       "    <tr>\n",
       "      <th>1</th>\n",
       "      <td>1</td>\n",
       "      <td>10182</td>\n",
       "      <td>88</td>\n",
       "      <td>89406</td>\n",
       "      <td>NaN</td>\n",
       "      <td>NaN</td>\n",
       "      <td>2020-01-01</td>\n",
       "      <td>2020</td>\n",
       "      <td>2</td>\n",
       "      <td>13</td>\n",
       "    </tr>\n",
       "    <tr>\n",
       "      <th>2</th>\n",
       "      <td>2</td>\n",
       "      <td>10680</td>\n",
       "      <td>69</td>\n",
       "      <td>25883</td>\n",
       "      <td>NaN</td>\n",
       "      <td>NaN</td>\n",
       "      <td>2020-01-01</td>\n",
       "      <td>2020</td>\n",
       "      <td>2</td>\n",
       "      <td>2</td>\n",
       "    </tr>\n",
       "    <tr>\n",
       "      <th>3</th>\n",
       "      <td>3</td>\n",
       "      <td>10298</td>\n",
       "      <td>21</td>\n",
       "      <td>35908</td>\n",
       "      <td>NaN</td>\n",
       "      <td>NaN</td>\n",
       "      <td>2020-01-01</td>\n",
       "      <td>2020</td>\n",
       "      <td>2</td>\n",
       "      <td>8</td>\n",
       "    </tr>\n",
       "    <tr>\n",
       "      <th>4</th>\n",
       "      <td>4</td>\n",
       "      <td>10107</td>\n",
       "      <td>98</td>\n",
       "      <td>52544</td>\n",
       "      <td>NaN</td>\n",
       "      <td>NaN</td>\n",
       "      <td>2020-01-01</td>\n",
       "      <td>2020</td>\n",
       "      <td>2</td>\n",
       "      <td>14</td>\n",
       "    </tr>\n",
       "    <tr>\n",
       "      <th>...</th>\n",
       "      <td>...</td>\n",
       "      <td>...</td>\n",
       "      <td>...</td>\n",
       "      <td>...</td>\n",
       "      <td>...</td>\n",
       "      <td>...</td>\n",
       "      <td>...</td>\n",
       "      <td>...</td>\n",
       "      <td>...</td>\n",
       "      <td>...</td>\n",
       "    </tr>\n",
       "    <tr>\n",
       "      <th>9995</th>\n",
       "      <td>9995</td>\n",
       "      <td>10542</td>\n",
       "      <td>49</td>\n",
       "      <td>61241</td>\n",
       "      <td>NaN</td>\n",
       "      <td>NaN</td>\n",
       "      <td>2021-12-30</td>\n",
       "      <td>2021</td>\n",
       "      <td>3</td>\n",
       "      <td>1</td>\n",
       "    </tr>\n",
       "    <tr>\n",
       "      <th>9996</th>\n",
       "      <td>9996</td>\n",
       "      <td>10192</td>\n",
       "      <td>1</td>\n",
       "      <td>18611</td>\n",
       "      <td>NaN</td>\n",
       "      <td>NaN</td>\n",
       "      <td>2021-12-30</td>\n",
       "      <td>2021</td>\n",
       "      <td>3</td>\n",
       "      <td>4</td>\n",
       "    </tr>\n",
       "    <tr>\n",
       "      <th>9997</th>\n",
       "      <td>9997</td>\n",
       "      <td>10322</td>\n",
       "      <td>30</td>\n",
       "      <td>86137</td>\n",
       "      <td>NaN</td>\n",
       "      <td>NaN</td>\n",
       "      <td>2021-12-30</td>\n",
       "      <td>2021</td>\n",
       "      <td>3</td>\n",
       "      <td>10</td>\n",
       "    </tr>\n",
       "    <tr>\n",
       "      <th>9998</th>\n",
       "      <td>9998</td>\n",
       "      <td>10568</td>\n",
       "      <td>40</td>\n",
       "      <td>30057</td>\n",
       "      <td>NaN</td>\n",
       "      <td>NaN</td>\n",
       "      <td>2021-12-30</td>\n",
       "      <td>2021</td>\n",
       "      <td>3</td>\n",
       "      <td>22</td>\n",
       "    </tr>\n",
       "    <tr>\n",
       "      <th>9999</th>\n",
       "      <td>9999</td>\n",
       "      <td>10253</td>\n",
       "      <td>93</td>\n",
       "      <td>88000</td>\n",
       "      <td>NaN</td>\n",
       "      <td>NaN</td>\n",
       "      <td>2021-12-30</td>\n",
       "      <td>2021</td>\n",
       "      <td>3</td>\n",
       "      <td>2</td>\n",
       "    </tr>\n",
       "  </tbody>\n",
       "</table>\n",
       "<p>10000 rows × 10 columns</p>\n",
       "</div>"
      ],
      "text/plain": [
       "      num_ts  cusno_ts  product_num_ts  price_ts quantity amount       date  \\\n",
       "0          0     10166              87     93148      NaN    NaN 2020-01-01   \n",
       "1          1     10182              88     89406      NaN    NaN 2020-01-01   \n",
       "2          2     10680              69     25883      NaN    NaN 2020-01-01   \n",
       "3          3     10298              21     35908      NaN    NaN 2020-01-01   \n",
       "4          4     10107              98     52544      NaN    NaN 2020-01-01   \n",
       "...      ...       ...             ...       ...      ...    ...        ...   \n",
       "9995    9995     10542              49     61241      NaN    NaN 2021-12-30   \n",
       "9996    9996     10192               1     18611      NaN    NaN 2021-12-30   \n",
       "9997    9997     10322              30     86137      NaN    NaN 2021-12-30   \n",
       "9998    9998     10568              40     30057      NaN    NaN 2021-12-30   \n",
       "9999    9999     10253              93     88000      NaN    NaN 2021-12-30   \n",
       "\n",
       "      year  weekday  hour  \n",
       "0     2020        2     1  \n",
       "1     2020        2    13  \n",
       "2     2020        2     2  \n",
       "3     2020        2     8  \n",
       "4     2020        2    14  \n",
       "...    ...      ...   ...  \n",
       "9995  2021        3     1  \n",
       "9996  2021        3     4  \n",
       "9997  2021        3    10  \n",
       "9998  2021        3    22  \n",
       "9999  2021        3     2  \n",
       "\n",
       "[10000 rows x 10 columns]"
      ]
     },
     "execution_count": 15,
     "metadata": {},
     "output_type": "execute_result"
    }
   ],
   "source": [
    "def price(x):\n",
    "    price = product[product.product_num == x].price\n",
    "    price = str(price).split()[1]\n",
    "    return int(price)\n",
    "\n",
    "\n",
    "purchase.price_ts = pd.Series(purchase.product_num_ts.map(price))\n",
    "purchase"
   ]
  },
  {
   "cell_type": "markdown",
   "id": "5c9d5493",
   "metadata": {},
   "source": [
    "#### 구매수량 : quantity"
   ]
  },
  {
   "cell_type": "code",
   "execution_count": 16,
   "id": "5e8f9d2f",
   "metadata": {
    "ExecuteTime": {
     "end_time": "2022-07-17T13:11:29.715710Z",
     "start_time": "2022-07-17T13:11:29.695246Z"
    },
    "scrolled": true
   },
   "outputs": [
    {
     "name": "stdout",
     "output_type": "stream",
     "text": [
      "<class 'pandas.core.frame.DataFrame'>\n",
      "RangeIndex: 10000 entries, 0 to 9999\n",
      "Data columns (total 10 columns):\n",
      " #   Column          Non-Null Count  Dtype         \n",
      "---  ------          --------------  -----         \n",
      " 0   num_ts          10000 non-null  int64         \n",
      " 1   cusno_ts        10000 non-null  int64         \n",
      " 2   product_num_ts  10000 non-null  int64         \n",
      " 3   price_ts        10000 non-null  int64         \n",
      " 4   quantity        10000 non-null  int64         \n",
      " 5   amount          0 non-null      object        \n",
      " 6   date            10000 non-null  datetime64[ns]\n",
      " 7   year            10000 non-null  int64         \n",
      " 8   weekday         10000 non-null  int64         \n",
      " 9   hour            10000 non-null  int64         \n",
      "dtypes: datetime64[ns](1), int64(8), object(1)\n",
      "memory usage: 781.4+ KB\n"
     ]
    }
   ],
   "source": [
    "# 2020년 구매수량 데이터 생성 : 6000개\n",
    "a_20 = np.random.randint(1, 4, size=3000).tolist()\n",
    "b_20 = np.random.randint(4, 7, size=2000).tolist()\n",
    "c_20 = np.random.randint(7, 10, size=1000).tolist()\n",
    "li_20 = a_20+b_20+c_20\n",
    "random.shuffle(li_20)\n",
    "purchase.quantity[purchase.year == 2020] = li_20\n",
    "\n",
    "# 2021년 구매수량 데이터 생성 : 4000개\n",
    "a_21 = np.random.randint(1, 4, size=2500).tolist()\n",
    "b_21 = np.random.randint(4, 7, size=1000).tolist()\n",
    "c_21 = np.random.randint(7, 10, size=500).tolist()\n",
    "li_21 = a_21+b_21+c_21\n",
    "random.shuffle(li_21)\n",
    "purchase.quantity[purchase.year == 2021] = li_21\n",
    "purchase = purchase.astype({'quantity': 'int'})\n",
    "purchase.info()"
   ]
  },
  {
   "cell_type": "code",
   "execution_count": null,
   "id": "c3796d40-be3d-47bd-af70-92c4b9233ab2",
   "metadata": {},
   "outputs": [],
   "source": []
  },
  {
   "cell_type": "markdown",
   "id": "e515cd33",
   "metadata": {
    "tags": []
   },
   "source": [
    "### 거래 데이터프레임 종속변수"
   ]
  },
  {
   "cell_type": "code",
   "execution_count": null,
   "id": "6a8243eb-79f1-486c-9029-0799b112e262",
   "metadata": {},
   "outputs": [],
   "source": [
    "muli_20 = {1 :2, 2:1.3, 3:1.5, 4:0.6,5:0.5}\n",
    "muli_21 = {1 :2, 2:1.3, 3:1.5, 4:0.6,5:0.5}\n",
    "\n",
    "for i in [1,2,3,4,5]:\n",
    "    for j in [2020,2021]:\n",
    "        if j == 2020:\n",
    "            conditon = (purchase['ts_region'] == i ) & (purchase.year == j)\n",
    "            purchase.loc[conditon,'quantity'] = purchase.quantity * age_band_20[i]\n",
    "        else:\n",
    "            conditon = (purchase['ts_region'] == i ) & (purchase.year == j)\n",
    "            purchase.loc[conditon,'quantity'] = purchase.quantity * age_band_21[i]     "
   ]
  },
  {
   "cell_type": "markdown",
   "id": "f8f36171",
   "metadata": {},
   "source": [
    "#### 거래별 거래총액 : amount"
   ]
  },
  {
   "cell_type": "code",
   "execution_count": 17,
   "id": "ce890a0d",
   "metadata": {
    "ExecuteTime": {
     "end_time": "2022-07-17T13:11:31.492503Z",
     "start_time": "2022-07-17T13:11:29.716537Z"
    },
    "scrolled": true
   },
   "outputs": [
    {
     "name": "stdout",
     "output_type": "stream",
     "text": [
      "<class 'pandas.core.frame.DataFrame'>\n",
      "RangeIndex: 10000 entries, 0 to 9999\n",
      "Data columns (total 10 columns):\n",
      " #   Column          Non-Null Count  Dtype         \n",
      "---  ------          --------------  -----         \n",
      " 0   num_ts          10000 non-null  int64         \n",
      " 1   cusno_ts        10000 non-null  int64         \n",
      " 2   product_num_ts  10000 non-null  int64         \n",
      " 3   price_ts        10000 non-null  int64         \n",
      " 4   quantity        10000 non-null  int64         \n",
      " 5   amount          10000 non-null  int64         \n",
      " 6   date            10000 non-null  datetime64[ns]\n",
      " 7   year            10000 non-null  int64         \n",
      " 8   weekday         10000 non-null  int64         \n",
      " 9   hour            10000 non-null  int64         \n",
      "dtypes: datetime64[ns](1), int64(9)\n",
      "memory usage: 781.4 KB\n"
     ]
    }
   ],
   "source": [
    "def price(x):\n",
    "    price = product[product.product_num == x].price\n",
    "    price = str(price).split()[1]\n",
    "    return int(price)\n",
    "\n",
    "\n",
    "purchase.amount = pd.Series(purchase.product_num_ts.map(price))*purchase.quantity\n",
    "purchase.info()"
   ]
  },
  {
   "cell_type": "code",
   "execution_count": null,
   "id": "9af7b979-3074-420a-8b8b-f2d6377c1a11",
   "metadata": {},
   "outputs": [],
   "source": []
  },
  {
   "cell_type": "markdown",
   "id": "6296d752",
   "metadata": {
    "ExecuteTime": {
     "end_time": "2022-07-14T08:20:20.645016Z",
     "start_time": "2022-07-14T08:20:20.605679Z"
    }
   },
   "source": [
    "## 고객 데이터프레임 만들기 : customer"
   ]
  },
  {
   "cell_type": "markdown",
   "id": "395059e0",
   "metadata": {
    "ExecuteTime": {
     "end_time": "2022-07-14T11:32:11.666425Z",
     "start_time": "2022-07-14T11:32:11.651129Z"
    }
   },
   "source": [
    "### 고객 데이터프레임 양식 만들기"
   ]
  },
  {
   "cell_type": "code",
   "execution_count": 18,
   "id": "be159efa",
   "metadata": {
    "ExecuteTime": {
     "end_time": "2022-07-17T13:11:31.498614Z",
     "start_time": "2022-07-17T13:11:31.493348Z"
    }
   },
   "outputs": [
    {
     "data": {
      "text/html": [
       "<div>\n",
       "<style scoped>\n",
       "    .dataframe tbody tr th:only-of-type {\n",
       "        vertical-align: middle;\n",
       "    }\n",
       "\n",
       "    .dataframe tbody tr th {\n",
       "        vertical-align: top;\n",
       "    }\n",
       "\n",
       "    .dataframe thead th {\n",
       "        text-align: right;\n",
       "    }\n",
       "</style>\n",
       "<table border=\"1\" class=\"dataframe\">\n",
       "  <thead>\n",
       "    <tr style=\"text-align: right;\">\n",
       "      <th></th>\n",
       "      <th>cusno</th>\n",
       "      <th>region</th>\n",
       "      <th>gender</th>\n",
       "      <th>age</th>\n",
       "      <th>income</th>\n",
       "      <th>grade_20</th>\n",
       "      <th>grade_21</th>\n",
       "      <th>ARPPU_20</th>\n",
       "      <th>ARPPU_21</th>\n",
       "      <th>AVC_20</th>\n",
       "      <th>AVC_21</th>\n",
       "      <th>ASC_20</th>\n",
       "      <th>ASC_21</th>\n",
       "      <th>purchase_trend</th>\n",
       "    </tr>\n",
       "  </thead>\n",
       "  <tbody>\n",
       "  </tbody>\n",
       "</table>\n",
       "</div>"
      ],
      "text/plain": [
       "Empty DataFrame\n",
       "Columns: [cusno, region, gender, age, income, grade_20, grade_21, ARPPU_20, ARPPU_21, AVC_20, AVC_21, ASC_20, ASC_21, purchase_trend]\n",
       "Index: []"
      ]
     },
     "execution_count": 18,
     "metadata": {},
     "output_type": "execute_result"
    }
   ],
   "source": [
    "customer = pd.DataFrame(columns=['cusno', 'region', 'gender', 'age',  'income', 'grade_20',\n",
    "                        'grade_21', 'ARPPU_20', 'ARPPU_21', 'AVC_20', 'AVC_21', 'ASC_20', 'ASC_21', 'purchase_trend'])\n",
    "customer"
   ]
  },
  {
   "cell_type": "markdown",
   "id": "aed7e527",
   "metadata": {
    "ExecuteTime": {
     "end_time": "2022-07-15T05:40:54.684672Z",
     "start_time": "2022-07-15T05:40:54.680569Z"
    }
   },
   "source": [
    "### 고객 데이터프레임 데이터 채우기"
   ]
  },
  {
   "cell_type": "markdown",
   "id": "8a3a7cb3",
   "metadata": {
    "ExecuteTime": {
     "end_time": "2022-07-14T12:25:23.887093Z",
     "start_time": "2022-07-14T12:25:23.791326Z"
    }
   },
   "source": [
    "#### 고객 번호 : cusno"
   ]
  },
  {
   "cell_type": "code",
   "execution_count": 19,
   "id": "b8c26eff",
   "metadata": {
    "ExecuteTime": {
     "end_time": "2022-07-17T13:11:31.505428Z",
     "start_time": "2022-07-17T13:11:31.500484Z"
    }
   },
   "outputs": [],
   "source": [
    "cusno = np.arange(10000, 11000)\n",
    "customer.cusno = cusno"
   ]
  },
  {
   "cell_type": "markdown",
   "id": "5014fedc",
   "metadata": {
    "ExecuteTime": {
     "end_time": "2022-07-14T12:25:23.887093Z",
     "start_time": "2022-07-14T12:25:23.791326Z"
    }
   },
   "source": [
    "#### 거주 지역 : region"
   ]
  },
  {
   "cell_type": "code",
   "execution_count": 20,
   "id": "a6f30c7c",
   "metadata": {
    "ExecuteTime": {
     "end_time": "2022-07-17T13:11:31.509717Z",
     "start_time": "2022-07-17T13:11:31.506717Z"
    }
   },
   "outputs": [],
   "source": [
    "# 지역별 인구 분포 산정\n",
    "area_1 = np.random.randint(1, 2, size=100).tolist()\n",
    "area_2 = np.random.randint(2, 3, size=150).tolist()\n",
    "area_3 = np.random.randint(3, 4, size=300).tolist()\n",
    "area_4 = np.random.randint(4, 5, size=200).tolist()\n",
    "area_5 = np.random.randint(5, 6, size=250).tolist()\n",
    "li = area_1+area_2+area_3+area_4+area_5\n",
    "random.shuffle(li)\n",
    "\n",
    "customer.region = li"
   ]
  },
  {
   "cell_type": "markdown",
   "id": "0aaf8238",
   "metadata": {
    "ExecuteTime": {
     "end_time": "2022-07-14T12:25:23.887093Z",
     "start_time": "2022-07-14T12:25:23.791326Z"
    }
   },
   "source": [
    "#### 소득 : income"
   ]
  },
  {
   "cell_type": "code",
   "execution_count": 21,
   "id": "3f2b40bf",
   "metadata": {
    "ExecuteTime": {
     "end_time": "2022-07-17T13:11:31.542544Z",
     "start_time": "2022-07-17T13:11:31.510617Z"
    }
   },
   "outputs": [],
   "source": [
    "# 지역별 소득 분포 산정 : 정규분포 사용\n",
    "customer.income[customer.region == 1] = np.random.normal(10, 3, 100)*20000\n",
    "customer.income[customer.region == 2] = np.random.normal(10, 2, 150)*10000\n",
    "customer.income[customer.region == 3] = np.random.normal(10, 1, 300)*5000\n",
    "customer.income[customer.region == 4] = np.random.normal(10, 2, 200)*1000\n",
    "customer.income[customer.region == 5] = np.random.normal(10, 0.5, 250)*3000\n",
    "customer.income = customer.income.map(lambda x: int(x))"
   ]
  },
  {
   "cell_type": "code",
   "execution_count": 22,
   "id": "2b975b58-7601-400f-965c-9d785e778794",
   "metadata": {
    "ExecuteTime": {
     "end_time": "2022-07-17T13:11:31.616487Z",
     "start_time": "2022-07-17T13:11:31.543327Z"
    }
   },
   "outputs": [
    {
     "data": {
      "text/plain": [
       "<AxesSubplot:xlabel='region', ylabel='income'>"
      ]
     },
     "execution_count": 22,
     "metadata": {},
     "output_type": "execute_result"
    },
    {
     "data": {
      "image/png": "[encoded data removed]",
      "text/plain": [
       "<Figure size 432x288 with 1 Axes>"
      ]
     },
     "metadata": {
      "needs_background": "light"
     },
     "output_type": "display_data"
    }
   ],
   "source": [
    "# 지역별 연봉 분포\n",
    "customer.plot(x='region', y='income', kind='scatter')"
   ]
  },
  {
   "cell_type": "markdown",
   "id": "fcda3419",
   "metadata": {},
   "source": [
    "##### 지역별 소득 값 중 이상치 보정"
   ]
  },
  {
   "cell_type": "code",
   "execution_count": 23,
   "id": "029ed735",
   "metadata": {
    "ExecuteTime": {
     "end_time": "2022-07-17T13:11:31.695293Z",
     "start_time": "2022-07-17T13:11:31.618522Z"
    },
    "scrolled": true
   },
   "outputs": [
    {
     "data": {
      "text/plain": [
       "<AxesSubplot:xlabel='region', ylabel='income'>"
      ]
     },
     "execution_count": 23,
     "metadata": {},
     "output_type": "execute_result"
    },
    {
     "data": {
      "image/png": "[encoded data removed]",
      "text/plain": [
       "<Figure size 432x288 with 1 Axes>"
      ]
     },
     "metadata": {
      "needs_background": "light"
     },
     "output_type": "display_data"
    }
   ],
   "source": [
    "# 지역에 따른 소득 분포 확인 : by boxenplot\n",
    "sns.boxenplot(x='region', y='income', data=customer, color='skyblue')"
   ]
  },
  {
   "cell_type": "code",
   "execution_count": 24,
   "id": "23057b80",
   "metadata": {
    "ExecuteTime": {
     "end_time": "2022-07-17T13:11:31.709485Z",
     "start_time": "2022-07-17T13:11:31.697499Z"
    }
   },
   "outputs": [
    {
     "data": {
      "text/html": [
       "<div>\n",
       "<style scoped>\n",
       "    .dataframe tbody tr th:only-of-type {\n",
       "        vertical-align: middle;\n",
       "    }\n",
       "\n",
       "    .dataframe tbody tr th {\n",
       "        vertical-align: top;\n",
       "    }\n",
       "\n",
       "    .dataframe thead th {\n",
       "        text-align: right;\n",
       "    }\n",
       "</style>\n",
       "<table border=\"1\" class=\"dataframe\">\n",
       "  <thead>\n",
       "    <tr style=\"text-align: right;\">\n",
       "      <th></th>\n",
       "      <th>cusno</th>\n",
       "      <th>region</th>\n",
       "      <th>income</th>\n",
       "    </tr>\n",
       "  </thead>\n",
       "  <tbody>\n",
       "    <tr>\n",
       "      <th>count</th>\n",
       "      <td>1000.000000</td>\n",
       "      <td>1000.000000</td>\n",
       "      <td>1000.000000</td>\n",
       "    </tr>\n",
       "    <tr>\n",
       "      <th>mean</th>\n",
       "      <td>10499.500000</td>\n",
       "      <td>3.350000</td>\n",
       "      <td>59739.982000</td>\n",
       "    </tr>\n",
       "    <tr>\n",
       "      <th>std</th>\n",
       "      <td>288.819436</td>\n",
       "      <td>1.276373</td>\n",
       "      <td>58897.053713</td>\n",
       "    </tr>\n",
       "    <tr>\n",
       "      <th>min</th>\n",
       "      <td>10000.000000</td>\n",
       "      <td>1.000000</td>\n",
       "      <td>4937.000000</td>\n",
       "    </tr>\n",
       "    <tr>\n",
       "      <th>25%</th>\n",
       "      <td>10249.750000</td>\n",
       "      <td>2.750000</td>\n",
       "      <td>28551.000000</td>\n",
       "    </tr>\n",
       "    <tr>\n",
       "      <th>50%</th>\n",
       "      <td>10499.500000</td>\n",
       "      <td>3.000000</td>\n",
       "      <td>45200.500000</td>\n",
       "    </tr>\n",
       "    <tr>\n",
       "      <th>75%</th>\n",
       "      <td>10749.250000</td>\n",
       "      <td>4.250000</td>\n",
       "      <td>60155.750000</td>\n",
       "    </tr>\n",
       "    <tr>\n",
       "      <th>max</th>\n",
       "      <td>10999.000000</td>\n",
       "      <td>5.000000</td>\n",
       "      <td>393887.000000</td>\n",
       "    </tr>\n",
       "  </tbody>\n",
       "</table>\n",
       "</div>"
      ],
      "text/plain": [
       "              cusno       region         income\n",
       "count   1000.000000  1000.000000    1000.000000\n",
       "mean   10499.500000     3.350000   59739.982000\n",
       "std      288.819436     1.276373   58897.053713\n",
       "min    10000.000000     1.000000    4937.000000\n",
       "25%    10249.750000     2.750000   28551.000000\n",
       "50%    10499.500000     3.000000   45200.500000\n",
       "75%    10749.250000     4.250000   60155.750000\n",
       "max    10999.000000     5.000000  393887.000000"
      ]
     },
     "execution_count": 24,
     "metadata": {},
     "output_type": "execute_result"
    }
   ],
   "source": [
    "# 소득 컬럼의 통계 요약\n",
    "customer.describe()"
   ]
  },
  {
   "cell_type": "code",
   "execution_count": 25,
   "id": "dbbd8e9b",
   "metadata": {
    "ExecuteTime": {
     "end_time": "2022-07-17T13:11:31.732868Z",
     "start_time": "2022-07-17T13:11:31.710691Z"
    }
   },
   "outputs": [
    {
     "name": "stdout",
     "output_type": "stream",
     "text": [
      "1지역 이상치\n",
      "119    393887\n",
      "801     37695\n",
      "Name: income, dtype: int64 \n",
      "\n",
      "2지역 이상치\n",
      "460    32335\n",
      "Name: income, dtype: int64 \n",
      "\n",
      "3지역 이상치\n",
      "180    35895\n",
      "247    37354\n",
      "283    36486\n",
      "517    66520\n",
      "660    62485\n",
      "830    65916\n",
      "Name: income, dtype: int64 \n",
      "\n",
      "4지역 이상치\n",
      "531    15059\n",
      "662    15181\n",
      "766    15139\n",
      "Name: income, dtype: int64 \n",
      "\n",
      "5지역 이상치\n",
      "260    25645\n",
      "737    34111\n",
      "Name: income, dtype: int64 \n",
      "\n"
     ]
    }
   ],
   "source": [
    "# 고객 소득 데이터 이상치 처리\n",
    "for i in range(1, 6):\n",
    "    cus_info = customer[customer.region == i].describe()\n",
    "    # 사분위 수(quartile)\n",
    "    Q1 = cus_info[\"income\"][\"25%\"]\n",
    "    Q3 = cus_info[\"income\"][\"75%\"]\n",
    "    # 사분위간 범위(Interquartile range, IQR)\n",
    "    IQR = Q3 - Q1\n",
    "    print(f'{i}지역 이상치')\n",
    "    mask = (customer[customer.region == i].income <= (Q1 - IQR*1.5)\n",
    "            ) | (customer[customer.region == i].income >= (Q3 + IQR*1.5))\n",
    "    outlier = customer[customer.region == i][mask].income\n",
    "    print(outlier, '\\n')\n",
    "\n",
    "# lower whisker 보다 작거나, upper whisker 보다 큰 값들을 이상치로 판정\n",
    "\n",
    "# 위와 같이 이상치가 발생하였으나 분석 결과 사전에 설정한 가정에 영향이 없다고 판단되어 보정하지 않음"
   ]
  },
  {
   "cell_type": "markdown",
   "id": "39bce640",
   "metadata": {},
   "source": [
    "#### 연령 : age"
   ]
  },
  {
   "cell_type": "markdown",
   "id": "b836733b",
   "metadata": {},
   "source": [
    "##### 지역별 연령 데이터 산정"
   ]
  },
  {
   "cell_type": "code",
   "execution_count": 26,
   "id": "55c7573b",
   "metadata": {
    "ExecuteTime": {
     "end_time": "2022-07-17T13:11:31.784848Z",
     "start_time": "2022-07-17T13:11:31.741038Z"
    }
   },
   "outputs": [],
   "source": [
    "# 1 지역 연령 데이터 생성\n",
    "age_1_old = np.random.normal(65, 6, 60).tolist()\n",
    "age_1_young = np.random.normal(24, 3, 40).tolist()\n",
    "age_1 = age_1_old + age_1_young\n",
    "customer.age[customer.region == 1] = age_1\n",
    "\n",
    "# 2 지역 연령 데이터 생성\n",
    "age_2_old = np.random.normal(40, 3, 100).tolist()\n",
    "age_2_young = np.random.normal(5, 3, 50).tolist()\n",
    "age_2 = age_2_old + age_2_young\n",
    "customer.age[customer.region == 2] = age_2\n",
    "\n",
    "# # 3 지역 연령 데이터 생성\n",
    "age_3 = np.random.randint(23, 57, size=300).tolist()\n",
    "customer.age[customer.region == 3] = age_3\n",
    "\n",
    "# # 4 지역 연령 데이터 생성\n",
    "age_4 = np.random.randint(20, 28, size=200).tolist()\n",
    "customer.age[customer.region == 4] = age_4\n",
    "\n",
    "# # 5 지역 연령 데이터 생성\n",
    "age_5 = np.random.randint(50, 85, size=250).tolist()\n",
    "customer.age[customer.region == 5] = age_5\n",
    "\n",
    "customer.age = customer.age.map(lambda x: int(x))"
   ]
  },
  {
   "cell_type": "code",
   "execution_count": 27,
   "id": "421c7ddb-257c-49b1-a6a9-88d746207413",
   "metadata": {
    "ExecuteTime": {
     "end_time": "2022-07-17T13:11:31.870604Z",
     "start_time": "2022-07-17T13:11:31.786167Z"
    }
   },
   "outputs": [
    {
     "data": {
      "text/plain": [
       "<AxesSubplot:xlabel='region', ylabel='age'>"
      ]
     },
     "execution_count": 27,
     "metadata": {},
     "output_type": "execute_result"
    },
    {
     "data": {
      "image/png": "[encoded data removed]",
      "text/plain": [
       "<Figure size 432x288 with 1 Axes>"
      ]
     },
     "metadata": {
      "needs_background": "light"
     },
     "output_type": "display_data"
    }
   ],
   "source": [
    "# 지역별 나이 분포\n",
    "x = customer.region\n",
    "y = customer.age\n",
    "sns.violinplot(x, y, data=product, color='skyblue')"
   ]
  },
  {
   "cell_type": "markdown",
   "id": "a384c5c0",
   "metadata": {},
   "source": [
    "##### 지역별 연령 중 이상치 보정"
   ]
  },
  {
   "cell_type": "code",
   "execution_count": 28,
   "id": "92d2d399",
   "metadata": {
    "ExecuteTime": {
     "end_time": "2022-07-17T13:11:31.944109Z",
     "start_time": "2022-07-17T13:11:31.872886Z"
    },
    "scrolled": true
   },
   "outputs": [
    {
     "data": {
      "text/plain": [
       "<AxesSubplot:xlabel='region', ylabel='age'>"
      ]
     },
     "execution_count": 28,
     "metadata": {},
     "output_type": "execute_result"
    },
    {
     "data": {
      "image/png": "[encoded data removed]",
      "text/plain": [
       "<Figure size 432x288 with 1 Axes>"
      ]
     },
     "metadata": {
      "needs_background": "light"
     },
     "output_type": "display_data"
    }
   ],
   "source": [
    "# 지역에 따른 연령 분포 확인 : by boxenplot\n",
    "sns.boxenplot(x='region', y='age', data=customer, color='skyblue')"
   ]
  },
  {
   "cell_type": "code",
   "execution_count": 29,
   "id": "eb51b914",
   "metadata": {
    "ExecuteTime": {
     "end_time": "2022-07-17T13:11:31.977122Z",
     "start_time": "2022-07-17T13:11:31.945413Z"
    },
    "scrolled": true
   },
   "outputs": [
    {
     "name": "stdout",
     "output_type": "stream",
     "text": [
      "1지역 이상치\n",
      "Series([], Name: age, dtype: int64)\n",
      "2지역 이상치\n",
      "Series([], Name: age, dtype: int64)\n",
      "3지역 이상치\n",
      "Series([], Name: age, dtype: int64)\n",
      "4지역 이상치\n",
      "Series([], Name: age, dtype: int64)\n",
      "5지역 이상치\n",
      "Series([], Name: age, dtype: int64)\n"
     ]
    }
   ],
   "source": [
    "# 고객 연령 데이터 이상치 처리\n",
    "for i in range(1, 6):\n",
    "    cus_info = customer[customer.region == i].describe()\n",
    "    # 사분위 수(quartile)\n",
    "    Q1 = cus_info[\"age\"][\"25%\"]\n",
    "    Q3 = cus_info[\"age\"][\"75%\"]\n",
    "    # 사분위간 범위(Interquartile range, IQR)\n",
    "    IQR = Q3-Q1\n",
    "    print(f'{i}지역 이상치')\n",
    "    mask = (customer[customer.region == i].age <= (Q1 - IQR*1.5)\n",
    "            ) | (customer[customer.region == i].age >= (Q3 + IQR*1.5))\n",
    "    outlier = customer[customer.region == i][mask].age\n",
    "    print(outlier)\n",
    "\n",
    "# lower whisker 보다 작거나, upper whisker 보다 큰 값들을 이상치로 판정\n",
    "# 1지역: 0개\n",
    "# 2지역: 0개\n",
    "# 3지역: 0개\n",
    "# 4지역: 0개\n",
    "# 5지역: 0개\n",
    "\n",
    "# 위와 같이 이상치가 발생하였으나 분석 결과 사전에 설정한 가정에 영향이 없다고 판단되어 보정하지 않음"
   ]
  },
  {
   "cell_type": "code",
   "execution_count": 30,
   "id": "26656077",
   "metadata": {
    "ExecuteTime": {
     "end_time": "2022-07-17T13:11:31.986476Z",
     "start_time": "2022-07-17T13:11:31.978716Z"
    },
    "tags": []
   },
   "outputs": [
    {
     "name": "stdout",
     "output_type": "stream",
     "text": [
      "1\n",
      "17    1\n",
      "18    1\n",
      "19    1\n",
      "20    3\n",
      "21    5\n",
      "22    3\n",
      "23    6\n",
      "24    7\n",
      "25    3\n",
      "26    2\n",
      "27    3\n",
      "28    3\n",
      "29    1\n",
      "32    1\n",
      "44    1\n",
      "49    1\n",
      "54    1\n",
      "55    1\n",
      "56    3\n",
      "57    3\n",
      "58    2\n",
      "59    4\n",
      "60    5\n",
      "61    4\n",
      "62    2\n",
      "63    1\n",
      "64    6\n",
      "66    2\n",
      "67    3\n",
      "68    2\n",
      "69    4\n",
      "70    2\n",
      "71    3\n",
      "72    2\n",
      "74    2\n",
      "75    3\n",
      "76    1\n",
      "78    1\n",
      "79    1\n",
      "Name: age, dtype: int64\n",
      "2\n",
      "0      3\n",
      "1      4\n",
      "2      8\n",
      "3      5\n",
      "4      5\n",
      "5      6\n",
      "6      5\n",
      "7      6\n",
      "8      3\n",
      "9      1\n",
      "10     2\n",
      "12     2\n",
      "30     1\n",
      "33     1\n",
      "34     2\n",
      "35     6\n",
      "36     8\n",
      "37    10\n",
      "38    12\n",
      "39    13\n",
      "40    15\n",
      "41     9\n",
      "42     8\n",
      "43     7\n",
      "44     4\n",
      "45     1\n",
      "46     2\n",
      "47     1\n",
      "Name: age, dtype: int64\n",
      "3\n",
      "23    13\n",
      "24     8\n",
      "25     7\n",
      "26    11\n",
      "27    11\n",
      "28    11\n",
      "29    12\n",
      "30     7\n",
      "31    12\n",
      "32    15\n",
      "33     9\n",
      "34     7\n",
      "35     5\n",
      "36     6\n",
      "37     9\n",
      "38     8\n",
      "39     7\n",
      "40     7\n",
      "41     9\n",
      "42    11\n",
      "43     9\n",
      "44     5\n",
      "45     7\n",
      "46     7\n",
      "47     8\n",
      "48     7\n",
      "49    14\n",
      "50    10\n",
      "51     6\n",
      "52     6\n",
      "53     8\n",
      "54     7\n",
      "55    11\n",
      "56    10\n",
      "Name: age, dtype: int64\n",
      "4\n",
      "20    28\n",
      "21    27\n",
      "22    23\n",
      "23    24\n",
      "24    20\n",
      "25    18\n",
      "26    31\n",
      "27    29\n",
      "Name: age, dtype: int64\n",
      "5\n",
      "50     8\n",
      "51     8\n",
      "52     6\n",
      "53     5\n",
      "54     4\n",
      "55     9\n",
      "56    10\n",
      "57     7\n",
      "58     4\n",
      "59    12\n",
      "60    11\n",
      "61     3\n",
      "62     5\n",
      "63     7\n",
      "64     8\n",
      "65     5\n",
      "66     5\n",
      "67    10\n",
      "68     4\n",
      "69     6\n",
      "70     6\n",
      "71     8\n",
      "72     9\n",
      "73     6\n",
      "74     9\n",
      "75    10\n",
      "76     6\n",
      "77     8\n",
      "78    13\n",
      "79     8\n",
      "80     4\n",
      "81     8\n",
      "82     5\n",
      "83     6\n",
      "84     7\n",
      "Name: age, dtype: int64\n"
     ]
    }
   ],
   "source": [
    "# 추가 이상치 검증 : 나이가 음수인 이상치 확인\n",
    "grouped = customer.groupby('region').age\n",
    "for i, j in grouped:\n",
    "    print(i)\n",
    "    print(j.value_counts().sort_index())"
   ]
  },
  {
   "cell_type": "code",
   "execution_count": 31,
   "id": "e7ff988c",
   "metadata": {
    "ExecuteTime": {
     "end_time": "2022-07-17T13:11:31.993146Z",
     "start_time": "2022-07-17T13:11:31.987957Z"
    }
   },
   "outputs": [
    {
     "data": {
      "text/plain": [
       "0     3\n",
       "1     4\n",
       "2     8\n",
       "3     5\n",
       "4     5\n",
       "     ..\n",
       "80    4\n",
       "81    8\n",
       "82    5\n",
       "83    6\n",
       "84    7\n",
       "Name: age, Length: 80, dtype: int64"
      ]
     },
     "execution_count": 31,
     "metadata": {},
     "output_type": "execute_result"
    }
   ],
   "source": [
    "# 추가 이상치 검증 : 나이가 음수인 이상치를 절대값을 이용하여 유효한 값으로 보정\n",
    "customer[customer.age <= 0] = abs(customer[customer.age <= 0])\n",
    "customer.age.value_counts().sort_index()"
   ]
  },
  {
   "cell_type": "markdown",
   "id": "14bc15e0",
   "metadata": {},
   "source": [
    "#### 성별 : gender"
   ]
  },
  {
   "cell_type": "markdown",
   "id": "8d4787f2",
   "metadata": {},
   "source": [
    "##### 지역별 성별 데이터 산정"
   ]
  },
  {
   "cell_type": "code",
   "execution_count": 32,
   "id": "bb91f34f",
   "metadata": {
    "ExecuteTime": {
     "end_time": "2022-07-17T13:11:32.034674Z",
     "start_time": "2022-07-17T13:11:31.994159Z"
    }
   },
   "outputs": [
    {
     "name": "stdout",
     "output_type": "stream",
     "text": [
      "남성 : 514명\n",
      "여성 : 486명\n"
     ]
    }
   ],
   "source": [
    "# 1 지역 성별 데이터 생성\n",
    "gender_1_male = np.random.randint(0, 1, size=40).tolist()\n",
    "gender_1_female = np.random.randint(1, 2, size=60).tolist()\n",
    "gender_1 = gender_1_male + gender_1_female\n",
    "random.shuffle(gender_1)\n",
    "customer.gender[customer.region == 1] = gender_1\n",
    "\n",
    "# 2 지역 성별 데이터 생성\n",
    "gender_2 = np.random.randint(0, 2, size=150)\n",
    "customer.gender[customer.region == 2] = gender_2\n",
    "\n",
    "# 3 지역 성별 데이터 생성\n",
    "gender_3 = np.random.randint(0, 2, size=300)\n",
    "customer.gender[customer.region == 3] = gender_3\n",
    "\n",
    "# 4 지역 성별 데이터 생성\n",
    "gender_4 = np.random.randint(0, 2, size=200)\n",
    "customer.gender[customer.region == 4] = gender_4\n",
    "\n",
    "# 5 지역 성별 데이터 생성\n",
    "gender_5 = np.random.randint(0, 2, size=250)\n",
    "customer.gender[customer.region == 5] = gender_5\n",
    "\n",
    "customer.gender = customer.gender.map(lambda x: int(x))\n",
    "gender_count = customer.gender.value_counts().sort_index()\n",
    "\n",
    "print(f'남성 : {gender_count[0]}명\\n여성 : {gender_count[1]}명')"
   ]
  },
  {
   "cell_type": "markdown",
   "id": "d0a61197",
   "metadata": {},
   "source": [
    "### 고객 데이터프레임 종속변수"
   ]
  },
  {
   "cell_type": "markdown",
   "id": "aa69c1d9",
   "metadata": {},
   "source": [
    "#### 년도별 고객별 연간 매출액 : ASC_20, ASC_21"
   ]
  },
  {
   "cell_type": "code",
   "execution_count": 33,
   "id": "c2334099",
   "metadata": {
    "ExecuteTime": {
     "end_time": "2022-07-17T13:11:32.569489Z",
     "start_time": "2022-07-17T13:11:32.037339Z"
    }
   },
   "outputs": [],
   "source": [
    "li_2020 = []\n",
    "li_2021 = []\n",
    "for i in range(10000, 11000):\n",
    "    a = purchase[(purchase['cusno_ts'] == i) & (\n",
    "        purchase[\"year\"] == 2020)].amount.sum()\n",
    "    b = purchase[(purchase['cusno_ts'] == i) & (\n",
    "        purchase[\"year\"] == 2021)].amount.sum()\n",
    "\n",
    "    li_2020.append(a)\n",
    "    li_2021.append(b)\n",
    "\n",
    "customer.ASC_20 = li_2020\n",
    "customer.ASC_21 = li_2021"
   ]
  },
  {
   "cell_type": "markdown",
   "id": "9b041e1c",
   "metadata": {
    "tags": []
   },
   "source": [
    "#### 년도별 고객 등급 : grade_20, grade_21"
   ]
  },
  {
   "cell_type": "code",
   "execution_count": 34,
   "id": "a0de924c",
   "metadata": {
    "ExecuteTime": {
     "end_time": "2022-07-17T13:11:32.577048Z",
     "start_time": "2022-07-17T13:11:32.570467Z"
    },
    "scrolled": true
   },
   "outputs": [],
   "source": [
    "# 고객 등급 선정\n",
    "# 3가지 등급, 인원수 1:1:1 비율로 선정\n",
    "grade_20_Silver = customer.sort_values('ASC_20').ASC_20.iloc[333]\n",
    "grade_20_Gold = customer.sort_values('ASC_20').ASC_20.iloc[666]\n",
    "grade_20_VIP = customer.sort_values('ASC_20').ASC_20.iloc[999]\n",
    "\n",
    "grade_21_Silver = customer.sort_values('ASC_21').ASC_21.iloc[333]\n",
    "grade_21_Gold = customer.sort_values('ASC_21').ASC_21.iloc[666]\n",
    "grade_21_VIP = customer.sort_values('ASC_21').ASC_21.iloc[999]\n",
    "\n",
    "bin_dividers_20 = [0, grade_20_Silver, grade_20_Gold, grade_20_VIP]\n",
    "bin_dividers_21 = [0, grade_21_Silver, grade_21_Gold, grade_21_VIP]\n",
    "\n",
    "bin_names = ['Silver', 'Gold', 'VIP']  # qcut\n",
    "customer['grade_20'] = pd.cut(x=customer.ASC_20,  # 데이터 배열\n",
    "                              bins=bin_dividers_20,  # 경계값 리스트\n",
    "                              labels=bin_names,  # bin 이름\n",
    "                              include_lowest=True)  # 첫 경계값 포함 여부\n",
    "bin_names = ['Silver', 'Gold', 'VIP']\n",
    "customer['grade_21'] = pd.cut(x=customer.ASC_21,  # 데이터 배열\n",
    "                              bins=bin_dividers_21,  # 경계값 리스트\n",
    "                              labels=bin_names,  # bin 이름\n",
    "                              include_lowest=True)  # 첫 경계값 포함 여부"
   ]
  },
  {
   "cell_type": "markdown",
   "id": "eeb3615d",
   "metadata": {},
   "source": [
    "#### 년도별 고객별 연간 방문 횟수 : AVC_20, AVC_21"
   ]
  },
  {
   "cell_type": "code",
   "execution_count": 35,
   "id": "110c986a",
   "metadata": {
    "ExecuteTime": {
     "end_time": "2022-07-17T13:11:32.972240Z",
     "start_time": "2022-07-17T13:11:32.577927Z"
    },
    "scrolled": true
   },
   "outputs": [],
   "source": [
    "li_2020 = []\n",
    "li_2021 = []\n",
    "for i in range(10000, 11000):\n",
    "    a = purchase[(purchase['cusno_ts'] == i) & (purchase[\"year\"] == 2020)]\n",
    "    li_2020.append(len(a))\n",
    "    a = purchase[(purchase['cusno_ts'] == i) & (purchase[\"year\"] == 2021)]\n",
    "    li_2021.append(len(a))\n",
    "\n",
    "customer.AVC_20 = li_2020\n",
    "customer.AVC_21 = li_2021"
   ]
  },
  {
   "cell_type": "markdown",
   "id": "158ace2b",
   "metadata": {},
   "source": [
    "#### 년도별 고객별 회당 평균 결제액(Average Revenue Per Paid User) : ARPPU_20, ARPPU_21"
   ]
  },
  {
   "cell_type": "code",
   "execution_count": 36,
   "id": "6cba7d29",
   "metadata": {
    "ExecuteTime": {
     "end_time": "2022-07-17T13:11:32.976344Z",
     "start_time": "2022-07-17T13:11:32.973297Z"
    }
   },
   "outputs": [],
   "source": [
    "customer.ARPPU_20 = (customer.ASC_20 / customer.AVC_20).round()\n",
    "customer.ARPPU_21 = (customer.ASC_21 / customer.AVC_21).round()"
   ]
  },
  {
   "cell_type": "markdown",
   "id": "597ac159",
   "metadata": {},
   "source": [
    "#### 고객별 구매 추세 변화 : purchase_trend"
   ]
  },
  {
   "cell_type": "code",
   "execution_count": 37,
   "id": "ec75872e",
   "metadata": {
    "ExecuteTime": {
     "end_time": "2022-07-17T13:11:32.984607Z",
     "start_time": "2022-07-17T13:11:32.977514Z"
    }
   },
   "outputs": [
    {
     "data": {
      "text/html": [
       "<div>\n",
       "<style scoped>\n",
       "    .dataframe tbody tr th:only-of-type {\n",
       "        vertical-align: middle;\n",
       "    }\n",
       "\n",
       "    .dataframe tbody tr th {\n",
       "        vertical-align: top;\n",
       "    }\n",
       "\n",
       "    .dataframe thead th {\n",
       "        text-align: right;\n",
       "    }\n",
       "</style>\n",
       "<table border=\"1\" class=\"dataframe\">\n",
       "  <thead>\n",
       "    <tr style=\"text-align: right;\">\n",
       "      <th></th>\n",
       "      <th>cusno</th>\n",
       "      <th>region</th>\n",
       "      <th>gender</th>\n",
       "      <th>age</th>\n",
       "      <th>income</th>\n",
       "      <th>grade_20</th>\n",
       "      <th>grade_21</th>\n",
       "      <th>ARPPU_20</th>\n",
       "      <th>ARPPU_21</th>\n",
       "      <th>AVC_20</th>\n",
       "      <th>AVC_21</th>\n",
       "      <th>ASC_20</th>\n",
       "      <th>ASC_21</th>\n",
       "      <th>purchase_trend</th>\n",
       "    </tr>\n",
       "  </thead>\n",
       "  <tbody>\n",
       "    <tr>\n",
       "      <th>0</th>\n",
       "      <td>10000</td>\n",
       "      <td>3</td>\n",
       "      <td>1</td>\n",
       "      <td>55</td>\n",
       "      <td>49390</td>\n",
       "      <td>VIP</td>\n",
       "      <td>Silver</td>\n",
       "      <td>236075.0</td>\n",
       "      <td>166647.0</td>\n",
       "      <td>8</td>\n",
       "      <td>1</td>\n",
       "      <td>1888601</td>\n",
       "      <td>166647</td>\n",
       "      <td>0</td>\n",
       "    </tr>\n",
       "    <tr>\n",
       "      <th>1</th>\n",
       "      <td>10001</td>\n",
       "      <td>3</td>\n",
       "      <td>0</td>\n",
       "      <td>39</td>\n",
       "      <td>45163</td>\n",
       "      <td>Gold</td>\n",
       "      <td>Gold</td>\n",
       "      <td>145022.0</td>\n",
       "      <td>124620.0</td>\n",
       "      <td>8</td>\n",
       "      <td>5</td>\n",
       "      <td>1160173</td>\n",
       "      <td>623102</td>\n",
       "      <td>0</td>\n",
       "    </tr>\n",
       "    <tr>\n",
       "      <th>2</th>\n",
       "      <td>10002</td>\n",
       "      <td>1</td>\n",
       "      <td>0</td>\n",
       "      <td>60</td>\n",
       "      <td>188152</td>\n",
       "      <td>Gold</td>\n",
       "      <td>Silver</td>\n",
       "      <td>226112.0</td>\n",
       "      <td>25829.0</td>\n",
       "      <td>5</td>\n",
       "      <td>3</td>\n",
       "      <td>1130562</td>\n",
       "      <td>77488</td>\n",
       "      <td>0</td>\n",
       "    </tr>\n",
       "    <tr>\n",
       "      <th>3</th>\n",
       "      <td>10003</td>\n",
       "      <td>2</td>\n",
       "      <td>1</td>\n",
       "      <td>42</td>\n",
       "      <td>103289</td>\n",
       "      <td>Gold</td>\n",
       "      <td>Gold</td>\n",
       "      <td>179602.0</td>\n",
       "      <td>342171.0</td>\n",
       "      <td>7</td>\n",
       "      <td>2</td>\n",
       "      <td>1257216</td>\n",
       "      <td>684342</td>\n",
       "      <td>0</td>\n",
       "    </tr>\n",
       "    <tr>\n",
       "      <th>4</th>\n",
       "      <td>10004</td>\n",
       "      <td>4</td>\n",
       "      <td>0</td>\n",
       "      <td>25</td>\n",
       "      <td>9862</td>\n",
       "      <td>VIP</td>\n",
       "      <td>Silver</td>\n",
       "      <td>246461.0</td>\n",
       "      <td>NaN</td>\n",
       "      <td>6</td>\n",
       "      <td>0</td>\n",
       "      <td>1478765</td>\n",
       "      <td>0</td>\n",
       "      <td>0</td>\n",
       "    </tr>\n",
       "  </tbody>\n",
       "</table>\n",
       "</div>"
      ],
      "text/plain": [
       "   cusno  region  gender  age  income grade_20 grade_21  ARPPU_20  ARPPU_21  \\\n",
       "0  10000       3       1   55   49390      VIP   Silver  236075.0  166647.0   \n",
       "1  10001       3       0   39   45163     Gold     Gold  145022.0  124620.0   \n",
       "2  10002       1       0   60  188152     Gold   Silver  226112.0   25829.0   \n",
       "3  10003       2       1   42  103289     Gold     Gold  179602.0  342171.0   \n",
       "4  10004       4       0   25    9862      VIP   Silver  246461.0       NaN   \n",
       "\n",
       "   AVC_20  AVC_21   ASC_20  ASC_21  purchase_trend  \n",
       "0       8       1  1888601  166647               0  \n",
       "1       8       5  1160173  623102               0  \n",
       "2       5       3  1130562   77488               0  \n",
       "3       7       2  1257216  684342               0  \n",
       "4       6       0  1478765       0               0  "
      ]
     },
     "execution_count": 37,
     "metadata": {},
     "output_type": "execute_result"
    }
   ],
   "source": [
    "customer.purchase_trend = np.where(customer.ASC_21 > customer.ASC_20, 1, 0)\n",
    "customer.head()"
   ]
  },
  {
   "cell_type": "markdown",
   "id": "50ea8baa",
   "metadata": {
    "tags": []
   },
   "source": [
    "## DataFrame 확인"
   ]
  },
  {
   "cell_type": "markdown",
   "id": "b02a87c7",
   "metadata": {},
   "source": [
    "### 결측치 처리"
   ]
  },
  {
   "cell_type": "code",
   "execution_count": null,
   "id": "06c7195c",
   "metadata": {
    "ExecuteTime": {
     "end_time": "2022-07-17T13:11:32.989146Z",
     "start_time": "2022-07-17T13:11:32.985740Z"
    },
    "scrolled": true
   },
   "outputs": [],
   "source": [
    "customer.isnull().sum()"
   ]
  },
  {
   "cell_type": "code",
   "execution_count": null,
   "id": "fb6ab4da",
   "metadata": {
    "ExecuteTime": {
     "end_time": "2022-07-17T13:11:32.993735Z",
     "start_time": "2022-07-17T13:11:32.990083Z"
    }
   },
   "outputs": [],
   "source": [
    "customer.ARPPU_20.fillna(0, inplace=True)\n",
    "customer.ARPPU_21.fillna(0, inplace=True)\n",
    "customer.isnull().sum()"
   ]
  },
  {
   "cell_type": "code",
   "execution_count": null,
   "id": "fd90b862",
   "metadata": {
    "ExecuteTime": {
     "end_time": "2022-07-17T13:11:33.000289Z",
     "start_time": "2022-07-17T13:11:32.994691Z"
    },
    "scrolled": true
   },
   "outputs": [],
   "source": [
    "product"
   ]
  },
  {
   "cell_type": "code",
   "execution_count": null,
   "id": "f2117545",
   "metadata": {
    "ExecuteTime": {
     "end_time": "2022-07-17T13:11:33.009733Z",
     "start_time": "2022-07-17T13:11:33.004629Z"
    },
    "scrolled": true
   },
   "outputs": [],
   "source": [
    "product.info()"
   ]
  },
  {
   "cell_type": "code",
   "execution_count": null,
   "id": "d362a443",
   "metadata": {
    "ExecuteTime": {
     "end_time": "2022-07-17T13:11:33.016668Z",
     "start_time": "2022-07-17T13:11:33.010632Z"
    }
   },
   "outputs": [],
   "source": [
    "purchase"
   ]
  },
  {
   "cell_type": "code",
   "execution_count": null,
   "id": "89b03729",
   "metadata": {
    "ExecuteTime": {
     "end_time": "2022-07-17T13:11:33.022730Z",
     "start_time": "2022-07-17T13:11:33.017481Z"
    },
    "scrolled": true
   },
   "outputs": [],
   "source": [
    "purchase.info()"
   ]
  },
  {
   "cell_type": "code",
   "execution_count": null,
   "id": "6a47bebb",
   "metadata": {
    "ExecuteTime": {
     "end_time": "2022-07-17T13:11:33.033383Z",
     "start_time": "2022-07-17T13:11:33.023531Z"
    }
   },
   "outputs": [],
   "source": [
    "customer"
   ]
  },
  {
   "cell_type": "code",
   "execution_count": null,
   "id": "12181a90",
   "metadata": {
    "ExecuteTime": {
     "end_time": "2022-07-17T13:11:33.044733Z",
     "start_time": "2022-07-17T13:11:33.036958Z"
    }
   },
   "outputs": [],
   "source": [
    "customer.info()"
   ]
  },
  {
   "cell_type": "code",
   "execution_count": null,
   "id": "ebdb4f00-d7a0-4228-8415-80e208291dc6",
   "metadata": {},
   "outputs": [],
   "source": []
  },
  {
   "cell_type": "markdown",
   "id": "b8a4b740",
   "metadata": {
    "tags": []
   },
   "source": [
    "# 데이터 분석 및 시각화"
   ]
  },
  {
   "cell_type": "markdown",
   "id": "59bf842f",
   "metadata": {},
   "source": [
    "## 데이터프레임 Merge"
   ]
  },
  {
   "cell_type": "code",
   "execution_count": null,
   "id": "ef01f8eb",
   "metadata": {
    "ExecuteTime": {
     "end_time": "2022-07-17T13:11:33.059304Z",
     "start_time": "2022-07-17T13:11:33.045934Z"
    },
    "scrolled": true
   },
   "outputs": [],
   "source": [
    "# Merge purchase and customer\n",
    "df = purchase.merge(customer, how='left', left_on='cusno_ts', right_on='cusno', left_index=False,\n",
    "                    right_index=False, sort=False, suffixes=('_ts', '_c'), copy=True, indicator=False, validate=None)\n",
    "\n",
    "# Merge additional product\n",
    "df = df.merge(product, how='left', left_on='product_num_ts',\n",
    "              right_on='product_num', suffixes=('', '_p'), copy=True, indicator=False,)\n",
    "df"
   ]
  },
  {
   "cell_type": "code",
   "execution_count": null,
   "id": "764b7206",
   "metadata": {
    "ExecuteTime": {
     "end_time": "2022-07-17T13:11:33.075858Z",
     "start_time": "2022-07-17T13:11:33.060190Z"
    },
    "scrolled": true
   },
   "outputs": [],
   "source": [
    "# 중복을 제외하고 데이터 분석에 사용할 컬럼들로 이루어진 DataFrame 생성\n",
    "df = df.loc[:, ['num_ts', 'date', 'product_num', 'price', 'price_grade', 'quantity', 'amount',\n",
    "                'year', 'weekday', 'hour', 'cusno', 'region', 'gender', 'age', 'income',\n",
    "                'grade_20', 'grade_21', 'ARPPU_20', 'ARPPU_21', 'AVC_20', 'AVC_21', 'ASC_20', 'ASC_21', 'purchase_trend']]\n",
    "df"
   ]
  },
  {
   "cell_type": "code",
   "execution_count": null,
   "id": "ae00f516",
   "metadata": {
    "ExecuteTime": {
     "end_time": "2022-07-17T13:11:33.083444Z",
     "start_time": "2022-07-17T13:11:33.076760Z"
    },
    "scrolled": true
   },
   "outputs": [],
   "source": [
    "df.info()"
   ]
  },
  {
   "cell_type": "code",
   "execution_count": null,
   "id": "cf088b68-8b3f-4f77-971c-d5d9eebee6fe",
   "metadata": {},
   "outputs": [],
   "source": []
  },
  {
   "cell_type": "markdown",
   "id": "85e98245",
   "metadata": {
    "tags": []
   },
   "source": [
    "## 의도한 데이터 경향성 확인\n",
    "- 고객별 총 소비량 감소\n",
    "- 누적 매출액 증가량 감소\n",
    "- 지역별, 소득수준 별 소비량 변화\n",
    "- 1 지역 고가품 소비 증가 경향\n",
    "    - 집에서 즐길 수 있는 고가품들 (와인, 치즈 밀키트 등...)\n",
    "- 5 지역 저가품 소비 증가 경향\n"
   ]
  },
  {
   "cell_type": "markdown",
   "id": "48c473a7",
   "metadata": {},
   "source": [
    "### 고객별 총 소비량 감소"
   ]
  },
  {
   "cell_type": "code",
   "execution_count": null,
   "id": "f1cb855d",
   "metadata": {
    "ExecuteTime": {
     "end_time": "2022-07-17T13:11:33.142836Z",
     "start_time": "2022-07-17T13:11:33.084478Z"
    }
   },
   "outputs": [],
   "source": [
    "a = customer.purchase_trend.value_counts()\n",
    "a = a[::-1]\n",
    "print(a)\n",
    "a = a.rename(index={True: '증가', False: '감소'})\n",
    "a.plot(kind='bar')\n",
    "plt.title('2020년 대비 2021년도 고객별 평균 소비량 변화', color='white')\n",
    "plt.xlabel('purchase_trend', color='white')\n",
    "plt.ylabel('고객 수', color='white')\n",
    "plt.legend()\n",
    "plt.show()\n",
    "\n",
    "print(\n",
    "    f'2020년 대비 2021년도 고객별 총 소비량이\\n 증가 {a[0]} 명\\n 감소 {a[1]} 명\\n으로 {a[1]/(10)}% 고객들의 소비가 감소한 것으로 나타났다. ')"
   ]
  },
  {
   "cell_type": "markdown",
   "id": "cf9874be",
   "metadata": {},
   "source": [
    "###  누적 매출액 증가량 감소"
   ]
  },
  {
   "cell_type": "code",
   "execution_count": null,
   "id": "5853c6b6-c909-49e2-a93a-b9646e024d4a",
   "metadata": {
    "ExecuteTime": {
     "end_time": "2022-07-17T13:11:33.250852Z",
     "start_time": "2022-07-17T13:11:33.144154Z"
    }
   },
   "outputs": [],
   "source": [
    "# 매출 증가 그래프\n",
    "x = purchase.date\n",
    "y = purchase.amount.cumsum()\n",
    "\n",
    "plt.figure(figsize=(8, 4))\n",
    "plt.plot(x, y, color='blue', marker='o', markersize=1)\n",
    "plt.title('매출 증가 그래프', size=20)\n",
    "plt.xlabel('날짜', size=10)\n",
    "plt.ylabel('누적매출', size=10)\n",
    "plt.legend(labels=[''])\n",
    "plt.show()"
   ]
  },
  {
   "cell_type": "code",
   "execution_count": null,
   "id": "a09975bc-9b2d-4c51-8b10-799487da6b0f",
   "metadata": {
    "ExecuteTime": {
     "end_time": "2022-07-17T13:11:33.254574Z",
     "start_time": "2022-07-17T13:11:33.252284Z"
    },
    "tags": []
   },
   "outputs": [],
   "source": [
    "df.columns"
   ]
  },
  {
   "cell_type": "markdown",
   "id": "128ebe69",
   "metadata": {
    "tags": []
   },
   "source": [
    "### 지역별 소비량 변화"
   ]
  },
  {
   "cell_type": "code",
   "execution_count": null,
   "id": "0c3f0206-bca9-4f0d-976f-8345f3cc9a9a",
   "metadata": {
    "ExecuteTime": {
     "end_time": "2022-07-17T13:11:33.260595Z",
     "start_time": "2022-07-17T13:11:33.255585Z"
    }
   },
   "outputs": [],
   "source": [
    "table = df.pivot_table(index=['region'], values=[\n",
    "                       'purchase_trend'], aggfunc='mean')\n",
    "table"
   ]
  },
  {
   "cell_type": "markdown",
   "id": "914ff944",
   "metadata": {},
   "source": [
    "### 연도,지역별 고가품 소비 증감 현황"
   ]
  },
  {
   "cell_type": "code",
   "execution_count": null,
   "id": "bf56423c-cd83-43e9-9ee9-461124d679ac",
   "metadata": {
    "ExecuteTime": {
     "end_time": "2022-07-17T13:11:33.264090Z",
     "start_time": "2022-07-17T13:11:33.261336Z"
    }
   },
   "outputs": [],
   "source": [
    "df.columns"
   ]
  },
  {
   "cell_type": "code",
   "execution_count": null,
   "id": "469c7319-8963-410b-984a-e277c0179ddc",
   "metadata": {
    "ExecuteTime": {
     "end_time": "2022-07-17T13:11:33.275234Z",
     "start_time": "2022-07-17T13:11:33.264894Z"
    }
   },
   "outputs": [],
   "source": [
    "mask = (df.price_grade == '1') & (df.year == 2020) & (df.region == 1)\n",
    "df.loc[mask].head()"
   ]
  },
  {
   "cell_type": "code",
   "execution_count": null,
   "id": "cdf44614-7256-4673-b22e-613bf440244d",
   "metadata": {
    "ExecuteTime": {
     "end_time": "2022-07-17T13:11:33.369694Z",
     "start_time": "2022-07-17T13:11:33.276211Z"
    }
   },
   "outputs": [],
   "source": [
    "grouped = df.groupby(['year', 'price_grade'])\n",
    "grouped.quantity.count().plot(kind='bar')"
   ]
  },
  {
   "cell_type": "code",
   "execution_count": null,
   "id": "b0cbc6d9-bfeb-4156-b88d-cb9881a59736",
   "metadata": {
    "ExecuteTime": {
     "end_time": "2022-07-17T13:11:33.394302Z",
     "start_time": "2022-07-17T13:11:33.388960Z"
    }
   },
   "outputs": [],
   "source": [
    "grouped.quantity.sum()[2020]/grouped.quantity.sum()[2020].sum()"
   ]
  },
  {
   "cell_type": "code",
   "execution_count": null,
   "id": "e952d268-3d24-4a2f-be80-e60d8bfc6fc0",
   "metadata": {
    "ExecuteTime": {
     "end_time": "2022-07-17T13:11:33.403134Z",
     "start_time": "2022-07-17T13:11:33.396920Z"
    }
   },
   "outputs": [],
   "source": [
    "grouped.quantity.sum()[2021]/grouped.quantity.sum()[2021].sum()"
   ]
  },
  {
   "cell_type": "code",
   "execution_count": null,
   "id": "5b8cae38-aaa4-457c-82e8-822cba969aea",
   "metadata": {},
   "outputs": [],
   "source": []
  },
  {
   "cell_type": "markdown",
   "id": "39699792",
   "metadata": {},
   "source": [
    "## 분석 결과 알 수 있는 정보"
   ]
  },
  {
   "cell_type": "code",
   "execution_count": null,
   "id": "a02d4467-20b0-4fd6-9e01-7f7cb883f79e",
   "metadata": {
    "ExecuteTime": {
     "end_time": "2022-07-17T13:11:33.526179Z",
     "start_time": "2022-07-17T13:11:33.468740Z"
    }
   },
   "outputs": [],
   "source": [
    "table = df.pivot_table(index=['region'], values=[\n",
    "                       'purchase_trend'], aggfunc=lambda x: np.mean(x*100))\n",
    "table.plot()\n",
    "\n",
    "# 최근 경기변화에 민감하게 반응하여 눈에 띄게 소비량이 떨어진 지역은 2,4,5지역임을 알수있음.\n",
    "\n",
    "\n",
    "# 2지역은 본래 앵갤지수가 낮은 지역임을 알 수 있었다.\n",
    "# (앵갤지수 : 가계지출 대비 식료품 비율, 높은 수록 서민층)\n",
    "\n",
    "# 필수소비재 위주로 소비를 하는 5지역은 최근 경기변화에도 다른지역에 비해 소비성향의 변화가 적었다."
   ]
  },
  {
   "cell_type": "markdown",
   "id": "b57c9e8f-987a-4e31-a970-37bedd50e326",
   "metadata": {},
   "source": [
    "### 연도별 지역별 총매출"
   ]
  },
  {
   "cell_type": "code",
   "execution_count": null,
   "id": "e5b60aa2",
   "metadata": {},
   "outputs": [],
   "source": [
    "table = customer.pivot_table(index=['region'],values=['ASC_20','ASC_21'],aggfunc=np.sum)\n",
    "table.plot()"
   ]
  },
  {
   "cell_type": "code",
   "execution_count": null,
   "id": "3a2a9ea5",
   "metadata": {},
   "outputs": [],
   "source": [
    "customer"
   ]
  },
  {
   "cell_type": "code",
   "execution_count": null,
   "id": "fe19448d",
   "metadata": {
    "ExecuteTime": {
     "end_time": "2022-07-17T13:11:33.530280Z",
     "start_time": "2022-07-17T13:11:33.528304Z"
    }
   },
   "outputs": [],
   "source": [
    "# grid = sns.FacetGrid(purchase, row='year', col='day', height=2.2, aspect=1.6)\n",
    "# grid.map(plt.hist, 'amount', alpha=.5, bins=20)\n",
    "# grid.add_legend()"
   ]
  },
  {
   "cell_type": "code",
   "execution_count": null,
   "id": "a24fd6fb",
   "metadata": {
    "ExecuteTime": {
     "end_time": "2022-07-17T13:11:33.763582Z",
     "start_time": "2022-07-17T13:11:33.532055Z"
    }
   },
   "outputs": [],
   "source": [
    "grid = sns.FacetGrid(X_train, row='embarked',\n",
    "                     col='survived', height=2.2, aspect=1.6)\n",
    "\n",
    "# 바그래프로 시각화, x: 성별, y: 요금, Error bar: 표시 안 함\n",
    "grid.map(sns.barplot, 'sex', 'fare', alpha=.5,\n",
    "         ci=None, order=[\"male\", \"female\"])\n",
    "\n",
    "grid.add_legend()"
   ]
  },
  {
   "cell_type": "code",
   "execution_count": null,
   "id": "bec723bd",
   "metadata": {
    "ExecuteTime": {
     "end_time": "2022-07-17T13:11:33.765401Z",
     "start_time": "2022-07-17T13:11:33.765384Z"
    }
   },
   "outputs": [],
   "source": [
    "grid = sns.FacetGrid(X_train, row='embarked', height=2.2, aspect=1.6)\n",
    "\n",
    "# Pointplot으로 시각화, x: 객실 등급, y: 생존 여부, 색깔: 성별, x축 순서: [1, 2, 3], 색깔 순서: [남성, 여성]\n",
    "grid.map(sns.pointplot, 'pclass', 'survived', 'sex', palette='deep',\n",
    "         order=[1, 2, 3], hue_order=[\"male\", \"female\"])\n",
    "\n",
    "grid.add_legend()"
   ]
  },
  {
   "cell_type": "code",
   "execution_count": null,
   "id": "2309e6c4",
   "metadata": {
    "ExecuteTime": {
     "end_time": "2022-07-17T13:11:33.766502Z",
     "start_time": "2022-07-17T13:11:33.766496Z"
    }
   },
   "outputs": [],
   "source": [
    "from sklearn import preprocessing\n",
    "from sklearn.model_selection import train_test_split\n",
    "\n",
    "# 독립변수, 종속 변수 분리\n",
    "X = df_1[['gender_c', 'age_c', 'region_c', 'ARPPU_20_c',\n",
    "          'AVC_20_c', 'AVC_21_c', 'amount_20_p']]\n",
    "y = df_1['sales_trend']\n",
    "\n",
    "# 학습용 테이터와 평가용 데이터를 8:2로 분리\n",
    "X_train, X_test, y_train, y_test = train_test_split(X, y, test_size=0.2,\n",
    "                                                    random_state=10)\n",
    "print(X_train.shape)\n",
    "print(X_test.shape)"
   ]
  },
  {
   "cell_type": "code",
   "execution_count": null,
   "id": "460edd9f",
   "metadata": {
    "ExecuteTime": {
     "end_time": "2022-07-17T13:11:33.767988Z",
     "start_time": "2022-07-17T13:11:33.767970Z"
    }
   },
   "outputs": [],
   "source": [
    "# Decision Tree\n",
    "from sklearn.metrics import accuracy_score\n",
    "from sklearn.tree import DecisionTreeClassifier\n",
    "dt_model = DecisionTreeClassifier()\n",
    "dt_model.fit(X_train, y_train)\n",
    "dt_pred = dt_model.predict(X_test)\n",
    "\n",
    "print(dt_pred[0:10])\n",
    "print(y_test.values[0:10])\n",
    "\n",
    "accuracy = accuracy_score(y_test, dt_pred)\n",
    "print('dt 예측 정확도 :', accuracy)"
   ]
  },
  {
   "cell_type": "code",
   "execution_count": null,
   "id": "9b4e0df5",
   "metadata": {
    "ExecuteTime": {
     "end_time": "2022-07-17T13:11:33.769602Z",
     "start_time": "2022-07-17T13:11:33.769595Z"
    }
   },
   "outputs": [],
   "source": [
    "# Random Forest\n",
    "from sklearn.ensemble import RandomForestClassifier\n",
    "\n",
    "rf_model = RandomForestClassifier()\n",
    "rf_model.fit(X_train, y_train)\n",
    "rf_pred = rf_model.predict(X_test)\n",
    "\n",
    "rf_accuracy = accuracy_score(y_test, rf_pred)\n",
    "print('rf 예측 정확도 :', rf_accuracy)"
   ]
  },
  {
   "cell_type": "code",
   "execution_count": null,
   "id": "4d20edf0",
   "metadata": {
    "ExecuteTime": {
     "end_time": "2022-07-17T13:11:33.770584Z",
     "start_time": "2022-07-17T13:11:33.770578Z"
    }
   },
   "outputs": [],
   "source": [
    "# Logistic Regression\n",
    "from sklearn.linear_model import LogisticRegression\n",
    "import warnings\n",
    "warnings.filterwarnings('ignore')\n",
    "\n",
    "lr_model = LogisticRegression(random_state=0)\n",
    "lr_model.fit(X_train, y_train)\n",
    "lr_pred = lr_model.predict(X_test)\n",
    "\n",
    "lr_accuracy = accuracy_score(y_test, lr_pred)\n",
    "print('lr 예측 정확도 :', accuracy)"
   ]
  }
 ],
 "metadata": {
  "kernelspec": {
   "display_name": "Python 3 (ipykernel)",
   "language": "python",
   "name": "python3"
  },
  "language_info": {
   "codemirror_mode": {
    "name": "ipython",
    "version": 3
   },
   "file_extension": ".py",
   "mimetype": "text/x-python",
   "name": "python",
   "nbconvert_exporter": "python",
   "pygments_lexer": "ipython3",
   "version": "3.9.12"
  },
  "toc": {
   "base_numbering": 1,
   "nav_menu": {},
   "number_sections": true,
   "sideBar": true,
   "skip_h1_title": false,
   "title_cell": "Table of Contents",
   "title_sidebar": "Contents",
   "toc_cell": false,
   "toc_position": {
    "height": "772px",
    "left": "50px",
    "top": "96px",
    "width": "338.98895263671875px"
   },
   "toc_section_display": true,
   "toc_window_display": true
  }
 },
 "nbformat": 4,
 "nbformat_minor": 5
}
