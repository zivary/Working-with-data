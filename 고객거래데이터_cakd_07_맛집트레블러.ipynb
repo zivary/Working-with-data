{
 "cells": [
  {
   "cell_type": "code",
   "execution_count": 1,
   "id": "a88aad96",
   "metadata": {
    "ExecuteTime": {
     "end_time": "2022-07-15T10:59:51.586865Z",
     "start_time": "2022-07-15T10:59:51.579779Z"
    }
   },
   "outputs": [
    {
     "data": {
      "text/plain": [
       "'/Users/mac/Library/Mobile Documents/com~apple~CloudDocs/GitHub/sales_data_analysis'"
      ]
     },
     "execution_count": 1,
     "metadata": {},
     "output_type": "execute_result"
    }
   ],
   "source": [
    "%pwd"
   ]
  },
  {
   "cell_type": "markdown",
   "id": "c9ea644c",
   "metadata": {},
   "source": [
    "# 인사이트(중앙 편의점)\n",
    "1. 소비 트랜드 만들기 \n",
    "    - 1 지역 젊은 여상들의 고가품 소비 증가 경향\n",
    "    - 5 지역 고령 남성들의 저가품 소비 증가 경향\n",
    "    - 인당 평균 소비량 감소\n",
    "    - \n",
    "       |지역|소득|컨셉|연령분포|소득시간|\n",
    "       |-|-|-|-|-|\n",
    "       | 1지역 | 2억 | 부촌 |고령남여+ 젊은여|일과시간 소비|\n",
    "       | 2지역 | 1억 | 위성신도시 |신혼 부부 + 어린 자녀|오전,주말에 증가| \n",
    "       | 3지역 | 5천 | 업무지구 |30~50대 생상가능인구|점심시간,저녁, 주말 전무| \n",
    "       | 4지역 | 1천 | 대학가 |20대|점심시간, 저녁, 주말 전무|\n",
    "       | 5지역 | 3천 | 일반거주지구 |노년층|밤 늦게|\n",
    "      - 소득은 정규분포로 데이터 입력\n",
    "1. 트랜드 분석\n",
    "    - 평균 1회 결제 금액이 큰 고객을 더 유치하기위한 마케팅 계획 수립을 위한 분석\n",
    "    - 최근 변화한 소비 트렌드에 가장 민감하게 반응한 소득별 계층 분석\n",
    "    - \n",
    "4. 추가할 컬럼\n",
    "    고객\n",
    "        - *고객 번호, *성별, *지역, 등급, *나이, 20년 총 소비금액, 21년 총 소비금액, *소득, 거래당 평균 결제 금액, 연간 방문 횟수\n",
    "    상품\n",
    "        - *상품 코드, *가격, 고가 중가 저가 여부\n",
    "    거래\n",
    "        - 거래 번호, *고객 변호, *상품코드, *수량, *날짜\n",
    "        \n",
    "    "
   ]
  },
  {
   "cell_type": "code",
   "execution_count": 2,
   "id": "2805b6d0",
   "metadata": {
    "ExecuteTime": {
     "end_time": "2022-07-15T10:59:52.190547Z",
     "start_time": "2022-07-15T10:59:51.588532Z"
    }
   },
   "outputs": [],
   "source": [
    "import pandas as pd\n",
    "import numpy as np\n",
    "import matplotlib.pyplot as plt\n",
    "import seaborn as sns\n",
    "import random\n",
    "import warnings\n",
    "warnings.filterwarnings('ignore')\n",
    "\n",
    "random.seed(0)"
   ]
  },
  {
   "cell_type": "markdown",
   "id": "6296d752",
   "metadata": {
    "ExecuteTime": {
     "end_time": "2022-07-14T08:20:20.645016Z",
     "start_time": "2022-07-14T08:20:20.605679Z"
    }
   },
   "source": [
    "## 고객 데이터프레임 만들기"
   ]
  },
  {
   "cell_type": "markdown",
   "id": "7f7b2d6a",
   "metadata": {
    "ExecuteTime": {
     "end_time": "2022-07-14T11:32:11.666425Z",
     "start_time": "2022-07-14T11:32:11.651129Z"
    }
   },
   "source": [
    "### 고객 데이터프레임 양식 만들기"
   ]
  },
  {
   "cell_type": "code",
   "execution_count": 3,
   "id": "be159efa",
   "metadata": {
    "ExecuteTime": {
     "end_time": "2022-07-15T10:59:52.197669Z",
     "start_time": "2022-07-15T10:59:52.191726Z"
    }
   },
   "outputs": [
    {
     "data": {
      "text/html": [
       "<div>\n",
       "<style scoped>\n",
       "    .dataframe tbody tr th:only-of-type {\n",
       "        vertical-align: middle;\n",
       "    }\n",
       "\n",
       "    .dataframe tbody tr th {\n",
       "        vertical-align: top;\n",
       "    }\n",
       "\n",
       "    .dataframe thead th {\n",
       "        text-align: right;\n",
       "    }\n",
       "</style>\n",
       "<table border=\"1\" class=\"dataframe\">\n",
       "  <thead>\n",
       "    <tr style=\"text-align: right;\">\n",
       "      <th></th>\n",
       "      <th>cusno</th>\n",
       "      <th>region</th>\n",
       "      <th>gender</th>\n",
       "      <th>age</th>\n",
       "      <th>income</th>\n",
       "      <th>grade_20</th>\n",
       "      <th>grade_21</th>\n",
       "      <th>ARPPU_20</th>\n",
       "      <th>ARPPU_21</th>\n",
       "      <th>AVC_20</th>\n",
       "      <th>AVC_21</th>\n",
       "      <th>ASC_20</th>\n",
       "      <th>ASC_21</th>\n",
       "      <th>purchase_trend</th>\n",
       "    </tr>\n",
       "  </thead>\n",
       "  <tbody>\n",
       "  </tbody>\n",
       "</table>\n",
       "</div>"
      ],
      "text/plain": [
       "Empty DataFrame\n",
       "Columns: [cusno, region, gender, age, income, grade_20, grade_21, ARPPU_20, ARPPU_21, AVC_20, AVC_21, ASC_20, ASC_21, purchase_trend]\n",
       "Index: []"
      ]
     },
     "execution_count": 3,
     "metadata": {},
     "output_type": "execute_result"
    }
   ],
   "source": [
    "customer = pd.DataFrame(columns=['cusno', 'region', 'gender', 'age',  'income', 'grade_20',\n",
    "                        'grade_21', 'ARPPU_20', 'ARPPU_21', 'AVC_20', 'AVC_21', 'ASC_20', 'ASC_21', 'purchase_trend'])\n",
    "customer"
   ]
  },
  {
   "cell_type": "markdown",
   "id": "bc8f7c80",
   "metadata": {
    "ExecuteTime": {
     "end_time": "2022-07-15T05:40:54.684672Z",
     "start_time": "2022-07-15T05:40:54.680569Z"
    }
   },
   "source": [
    "### 고객 데이터프레임 데이터 채우기"
   ]
  },
  {
   "cell_type": "markdown",
   "id": "56fad2af",
   "metadata": {
    "ExecuteTime": {
     "end_time": "2022-07-14T12:25:23.887093Z",
     "start_time": "2022-07-14T12:25:23.791326Z"
    },
    "scrolled": true
   },
   "source": [
    "#### 고객 번호 : cusno"
   ]
  },
  {
   "cell_type": "code",
   "execution_count": 4,
   "id": "ee28e447",
   "metadata": {
    "ExecuteTime": {
     "end_time": "2022-07-15T10:59:52.201199Z",
     "start_time": "2022-07-15T10:59:52.198582Z"
    }
   },
   "outputs": [],
   "source": [
    "cusno = np.arange(10000, 11000)\n",
    "customer.cusno = cusno"
   ]
  },
  {
   "cell_type": "markdown",
   "id": "a7910a85",
   "metadata": {
    "ExecuteTime": {
     "end_time": "2022-07-14T12:25:23.887093Z",
     "start_time": "2022-07-14T12:25:23.791326Z"
    },
    "scrolled": true
   },
   "source": [
    "#### 거주 지역 : region"
   ]
  },
  {
   "cell_type": "code",
   "execution_count": 5,
   "id": "4363fd65",
   "metadata": {
    "ExecuteTime": {
     "end_time": "2022-07-15T10:59:52.204906Z",
     "start_time": "2022-07-15T10:59:52.202014Z"
    }
   },
   "outputs": [],
   "source": [
    "area_1 = np.random.randint(1, 2, size=100).tolist()\n",
    "area_2 = np.random.randint(2, 3, size=150).tolist()\n",
    "area_3 = np.random.randint(3, 4, size=300).tolist()\n",
    "area_4 = np.random.randint(4, 5, size=200).tolist()\n",
    "area_5 = np.random.randint(5, 6, size=250).tolist()\n",
    "li = area_1+area_2+area_3+area_4+area_5\n",
    "random.shuffle(li)\n",
    "\n",
    "customer.region = li"
   ]
  },
  {
   "cell_type": "markdown",
   "id": "c1342556",
   "metadata": {
    "ExecuteTime": {
     "end_time": "2022-07-14T12:25:23.887093Z",
     "start_time": "2022-07-14T12:25:23.791326Z"
    },
    "scrolled": true
   },
   "source": [
    "#### 소득 : income"
   ]
  },
  {
   "cell_type": "markdown",
   "id": "be3541d7",
   "metadata": {
    "ExecuteTime": {
     "end_time": "2022-07-15T05:55:18.033852Z",
     "start_time": "2022-07-15T05:55:17.920643Z"
    },
    "scrolled": true
   },
   "source": [
    "##### 지역별 소득 분포 산정 : 각각 특성에 맞는 정규분포 사용"
   ]
  },
  {
   "cell_type": "code",
   "execution_count": 6,
   "id": "390659e8",
   "metadata": {
    "ExecuteTime": {
     "end_time": "2022-07-15T10:59:52.310403Z",
     "start_time": "2022-07-15T10:59:52.205804Z"
    }
   },
   "outputs": [],
   "source": [
    "customer.income[customer.region == 1] = np.random.normal(10, 3, 100)*20000\n",
    "customer.income[customer.region == 2] = np.random.normal(10, 2, 150)*10000\n",
    "customer.income[customer.region == 3] = np.random.normal(10, 1, 300)*5000\n",
    "customer.income[customer.region == 4] = np.random.normal(10, 2, 200)*1000\n",
    "customer.income[customer.region == 5] = np.random.normal(10, 0.5, 250)*3000\n",
    "customer.income = customer.income.map(lambda x: int(x))"
   ]
  },
  {
   "cell_type": "markdown",
   "id": "d7bbfb57",
   "metadata": {
    "scrolled": true
   },
   "source": [
    "##### 소득 컬럼의 통계 요약"
   ]
  },
  {
   "cell_type": "code",
   "execution_count": 7,
   "id": "52c89cc7",
   "metadata": {
    "ExecuteTime": {
     "end_time": "2022-07-15T10:59:52.319097Z",
     "start_time": "2022-07-15T10:59:52.312418Z"
    },
    "scrolled": true
   },
   "outputs": [
    {
     "data": {
      "text/html": [
       "<div>\n",
       "<style scoped>\n",
       "    .dataframe tbody tr th:only-of-type {\n",
       "        vertical-align: middle;\n",
       "    }\n",
       "\n",
       "    .dataframe tbody tr th {\n",
       "        vertical-align: top;\n",
       "    }\n",
       "\n",
       "    .dataframe thead th {\n",
       "        text-align: right;\n",
       "    }\n",
       "</style>\n",
       "<table border=\"1\" class=\"dataframe\">\n",
       "  <thead>\n",
       "    <tr style=\"text-align: right;\">\n",
       "      <th></th>\n",
       "      <th>cusno</th>\n",
       "      <th>region</th>\n",
       "      <th>income</th>\n",
       "    </tr>\n",
       "  </thead>\n",
       "  <tbody>\n",
       "    <tr>\n",
       "      <th>count</th>\n",
       "      <td>1000.000000</td>\n",
       "      <td>1000.000000</td>\n",
       "      <td>1000.000000</td>\n",
       "    </tr>\n",
       "    <tr>\n",
       "      <th>mean</th>\n",
       "      <td>10499.500000</td>\n",
       "      <td>3.350000</td>\n",
       "      <td>58691.424000</td>\n",
       "    </tr>\n",
       "    <tr>\n",
       "      <th>std</th>\n",
       "      <td>288.819436</td>\n",
       "      <td>1.276373</td>\n",
       "      <td>56678.439708</td>\n",
       "    </tr>\n",
       "    <tr>\n",
       "      <th>min</th>\n",
       "      <td>10000.000000</td>\n",
       "      <td>1.000000</td>\n",
       "      <td>4659.000000</td>\n",
       "    </tr>\n",
       "    <tr>\n",
       "      <th>25%</th>\n",
       "      <td>10249.750000</td>\n",
       "      <td>2.750000</td>\n",
       "      <td>28561.500000</td>\n",
       "    </tr>\n",
       "    <tr>\n",
       "      <th>50%</th>\n",
       "      <td>10499.500000</td>\n",
       "      <td>3.000000</td>\n",
       "      <td>45063.500000</td>\n",
       "    </tr>\n",
       "    <tr>\n",
       "      <th>75%</th>\n",
       "      <td>10749.250000</td>\n",
       "      <td>4.250000</td>\n",
       "      <td>60705.750000</td>\n",
       "    </tr>\n",
       "    <tr>\n",
       "      <th>max</th>\n",
       "      <td>10999.000000</td>\n",
       "      <td>5.000000</td>\n",
       "      <td>327344.000000</td>\n",
       "    </tr>\n",
       "  </tbody>\n",
       "</table>\n",
       "</div>"
      ],
      "text/plain": [
       "              cusno       region         income\n",
       "count   1000.000000  1000.000000    1000.000000\n",
       "mean   10499.500000     3.350000   58691.424000\n",
       "std      288.819436     1.276373   56678.439708\n",
       "min    10000.000000     1.000000    4659.000000\n",
       "25%    10249.750000     2.750000   28561.500000\n",
       "50%    10499.500000     3.000000   45063.500000\n",
       "75%    10749.250000     4.250000   60705.750000\n",
       "max    10999.000000     5.000000  327344.000000"
      ]
     },
     "execution_count": 7,
     "metadata": {},
     "output_type": "execute_result"
    }
   ],
   "source": [
    "customer.describe()"
   ]
  },
  {
   "cell_type": "markdown",
   "id": "5c75046a",
   "metadata": {},
   "source": [
    "##### 지역별 소득 값 중 이상치 보정"
   ]
  },
  {
   "cell_type": "code",
   "execution_count": 8,
   "id": "893e1beb",
   "metadata": {
    "ExecuteTime": {
     "end_time": "2022-07-15T10:59:52.388074Z",
     "start_time": "2022-07-15T10:59:52.321840Z"
    }
   },
   "outputs": [
    {
     "data": {
      "text/plain": [
       "<AxesSubplot:xlabel='region', ylabel='income'>"
      ]
     },
     "execution_count": 8,
     "metadata": {},
     "output_type": "execute_result"
    },
    {
     "data": {
      "image/png": "[encoded data removed]",
      "text/plain": [
       "<Figure size 432x288 with 1 Axes>"
      ]
     },
     "metadata": {
      "needs_background": "light"
     },
     "output_type": "display_data"
    }
   ],
   "source": [
    "# 지역에 따른 소득 분포 확인 : by boxenplot\n",
    "sns.boxenplot(x='region', y='income', data=customer, color='skyblue')"
   ]
  },
  {
   "cell_type": "code",
   "execution_count": 9,
   "id": "dbbd8e9b",
   "metadata": {
    "ExecuteTime": {
     "end_time": "2022-07-15T10:59:52.410644Z",
     "start_time": "2022-07-15T10:59:52.389132Z"
    }
   },
   "outputs": [
    {
     "name": "stdout",
     "output_type": "stream",
     "text": [
      "1지역 이상치\n",
      "Series([], Name: income, dtype: int64)\n",
      "2지역 이상치\n",
      "640    153940\n",
      "873     42053\n",
      "Name: income, dtype: int64\n",
      "3지역 이상치\n",
      "5      62867\n",
      "392    65393\n",
      "498    37953\n",
      "Name: income, dtype: int64\n",
      "4지역 이상치\n",
      "256    16311\n",
      "772     4659\n",
      "Name: income, dtype: int64\n",
      "5지역 이상치\n",
      "615    34605\n",
      "844    25498\n",
      "851    24882\n",
      "Name: income, dtype: int64\n"
     ]
    }
   ],
   "source": [
    "# 고객 소득 데이터 이상치 처리\n",
    "for i in range(1, 6):\n",
    "    cus_info = customer[customer.region == i].describe()\n",
    "    Q1 = cus_info[\"income\"][\"25%\"]\n",
    "    Q3 = cus_info[\"income\"][\"75%\"]\n",
    "    IQR = Q3-Q1\n",
    "    print(f'{i}지역 이상치')\n",
    "    mask = (customer[customer.region == i].income <= (Q1 - IQR*1.5)\n",
    "            ) | (customer[customer.region == i].income >= (Q3 + IQR*1.5))\n",
    "    outlier = customer[customer.region == i][mask].income\n",
    "    print(outlier)\n",
    "\n",
    "# lower whisker 보다 작거나, upper whisker 보다 큰 값들을 이상치로 판정\n",
    "# 1지역: 2개\n",
    "# 2지역: 0개\n",
    "# 3지역: 2개\n",
    "# 4지역: 4개\n",
    "# 5지역: 2개\n",
    "\n",
    "# 위와 같이 이상치가 발생하였으나 분석 결과 사전에 설정한 가정에 영향이 없다고 판단되어 보정하지 않음"
   ]
  },
  {
   "cell_type": "markdown",
   "id": "70066ce5",
   "metadata": {},
   "source": [
    "#### 연령 : age"
   ]
  },
  {
   "cell_type": "markdown",
   "id": "a26ef900",
   "metadata": {},
   "source": [
    "##### 지역별 연령 데이터 산정"
   ]
  },
  {
   "cell_type": "code",
   "execution_count": 10,
   "id": "59245cf3",
   "metadata": {
    "ExecuteTime": {
     "end_time": "2022-07-15T10:59:52.438825Z",
     "start_time": "2022-07-15T10:59:52.412229Z"
    },
    "scrolled": false
   },
   "outputs": [
    {
     "data": {
      "text/plain": [
       "0      2\n",
       "1      6\n",
       "2      5\n",
       "3      3\n",
       "4      9\n",
       "      ..\n",
       "80     5\n",
       "81     5\n",
       "82     3\n",
       "83     7\n",
       "84    10\n",
       "Name: age, Length: 77, dtype: int64"
      ]
     },
     "execution_count": 10,
     "metadata": {},
     "output_type": "execute_result"
    }
   ],
   "source": [
    "# 1 지역 연령 데이터 생성\n",
    "age_1_old = np.random.normal(65, 6, 60).tolist()\n",
    "age_1_young = np.random.normal(24, 3, 40).tolist()\n",
    "age_1 = age_1_old + age_1_young\n",
    "customer.age[customer.region == 1] = age_1\n",
    "\n",
    "# 2 지역 연령 데이터 생성\n",
    "age_2_old = np.random.normal(40, 3, 100).tolist()\n",
    "age_2_young = np.random.normal(5, 3, 50).tolist()\n",
    "age_2 = age_2_old + age_2_young\n",
    "customer.age[customer.region == 2] = age_2\n",
    "\n",
    "# # 3 지역 연령 데이터 생성\n",
    "age_3 = np.random.randint(23, 57, size=300).tolist()\n",
    "customer.age[customer.region == 3] = age_3\n",
    "\n",
    "# # 4 지역 연령 데이터 생성\n",
    "age_4 = np.random.randint(20, 28, size=200).tolist()\n",
    "customer.age[customer.region == 4] = age_4\n",
    "\n",
    "# # 5 지역 연령 데이터 생성\n",
    "age_5 = np.random.randint(50, 85, size=250).tolist()\n",
    "customer.age[customer.region == 5] = age_5\n",
    "\n",
    "customer.age = customer.age.map(lambda x: int(x))\n",
    "customer.age.value_counts().sort_index()"
   ]
  },
  {
   "cell_type": "markdown",
   "id": "8657c494",
   "metadata": {},
   "source": [
    "##### 지역별 연령 중 이상치 보정"
   ]
  },
  {
   "cell_type": "code",
   "execution_count": 11,
   "id": "760811f4",
   "metadata": {
    "ExecuteTime": {
     "end_time": "2022-07-15T10:59:52.497792Z",
     "start_time": "2022-07-15T10:59:52.440567Z"
    }
   },
   "outputs": [
    {
     "data": {
      "text/plain": [
       "<AxesSubplot:xlabel='region', ylabel='age'>"
      ]
     },
     "execution_count": 11,
     "metadata": {},
     "output_type": "execute_result"
    },
    {
     "data": {
      "image/png": "[encoded data removed]",
      "text/plain": [
       "<Figure size 432x288 with 1 Axes>"
      ]
     },
     "metadata": {
      "needs_background": "light"
     },
     "output_type": "display_data"
    }
   ],
   "source": [
    "# 지역에 따른 연령 분포 확인 : by boxenplot\n",
    "sns.boxenplot(x='region', y='age', data=customer, color='skyblue')"
   ]
  },
  {
   "cell_type": "code",
   "execution_count": 12,
   "id": "2c28fd7f",
   "metadata": {
    "ExecuteTime": {
     "end_time": "2022-07-15T10:59:52.523559Z",
     "start_time": "2022-07-15T10:59:52.498952Z"
    }
   },
   "outputs": [
    {
     "name": "stdout",
     "output_type": "stream",
     "text": [
      "1지역 이상치\n",
      "Series([], Name: age, dtype: int64)\n",
      "2지역 이상치\n",
      "Series([], Name: age, dtype: int64)\n",
      "3지역 이상치\n",
      "Series([], Name: age, dtype: int64)\n",
      "4지역 이상치\n",
      "Series([], Name: age, dtype: int64)\n",
      "5지역 이상치\n",
      "Series([], Name: age, dtype: int64)\n"
     ]
    }
   ],
   "source": [
    "# 고객 연령 데이터 이상치 처리\n",
    "for i in range(1, 6):\n",
    "    cus_info = customer[customer.region == i].describe()\n",
    "    Q1 = cus_info[\"age\"][\"25%\"]\n",
    "    Q3 = cus_info[\"age\"][\"75%\"]\n",
    "    IQR = Q3-Q1\n",
    "    print(f'{i}지역 이상치')\n",
    "    mask = (customer[customer.region == i].age <= (Q1 - IQR*1.5)\n",
    "            ) | (customer[customer.region == i].age >= (Q3 + IQR*1.5))\n",
    "    outlier = customer[customer.region == i][mask].age\n",
    "    print(outlier)\n",
    "\n",
    "# lower whisker 보다 작거나, upper whisker 보다 큰 값들을 이상치로 판정\n",
    "# 1지역: 0개\n",
    "# 2지역: 0개\n",
    "# 3지역: 0개\n",
    "# 4지역: 0개\n",
    "# 5지역: 0개\n",
    "\n",
    "# 위와 같이 이상치가 발생하였으나 분석 결과 사전에 설정한 가정에 영향이 없다고 판단되어 보정하지 않음"
   ]
  },
  {
   "cell_type": "code",
   "execution_count": 13,
   "id": "2293f777",
   "metadata": {
    "ExecuteTime": {
     "end_time": "2022-07-15T10:59:52.529269Z",
     "start_time": "2022-07-15T10:59:52.524577Z"
    }
   },
   "outputs": [
    {
     "data": {
      "text/plain": [
       "0      2\n",
       "1      6\n",
       "2      5\n",
       "3      3\n",
       "4      9\n",
       "      ..\n",
       "80     5\n",
       "81     5\n",
       "82     3\n",
       "83     7\n",
       "84    10\n",
       "Name: age, Length: 77, dtype: int64"
      ]
     },
     "execution_count": 13,
     "metadata": {},
     "output_type": "execute_result"
    }
   ],
   "source": [
    "# 추가 이상치 검증 : 나이가 음수인 이상치를 절대값을 이용하여 유효한 값으로 보정\n",
    "customer[customer.age <= 0] = abs(customer[customer.age <= 0])\n",
    "customer.age.value_counts().sort_index()"
   ]
  },
  {
   "cell_type": "markdown",
   "id": "6111f097",
   "metadata": {},
   "source": [
    "#### 성별 : gender"
   ]
  },
  {
   "cell_type": "markdown",
   "id": "537e8ee5",
   "metadata": {},
   "source": [
    "##### 지역별 성별 데이터 산정"
   ]
  },
  {
   "cell_type": "code",
   "execution_count": 14,
   "id": "190a75e7",
   "metadata": {
    "ExecuteTime": {
     "end_time": "2022-07-15T10:59:52.558941Z",
     "start_time": "2022-07-15T10:59:52.530249Z"
    }
   },
   "outputs": [
    {
     "data": {
      "text/plain": [
       "0    480\n",
       "1    520\n",
       "Name: gender, dtype: int64"
      ]
     },
     "execution_count": 14,
     "metadata": {},
     "output_type": "execute_result"
    }
   ],
   "source": [
    "# 1 지역 성별 데이터 생성\n",
    "gender_1_male = np.random.randint(0, 1, size=40).tolist()\n",
    "gender_1_female = np.random.randint(1, 2, size=60).tolist()\n",
    "gender_1 = gender_1_male + gender_1_female\n",
    "random.shuffle(gender_1)\n",
    "customer.gender[customer.region == 1] = gender_1\n",
    "\n",
    "# 2 지역 성별 데이터 생성\n",
    "gender_2 = np.random.randint(0, 2, size=150)\n",
    "customer.gender[customer.region == 2] = gender_2\n",
    "\n",
    "# 3 지역 성별 데이터 생성\n",
    "gender_3 = np.random.randint(0, 2, size=300)\n",
    "customer.gender[customer.region == 3] = gender_3\n",
    "\n",
    "# 4 지역 성별 데이터 생성\n",
    "gender_4 = np.random.randint(0, 2, size=200)\n",
    "customer.gender[customer.region == 4] = gender_4\n",
    "\n",
    "# 5 지역 성별 데이터 생성\n",
    "gender_5 = np.random.randint(0, 2, size=250)\n",
    "customer.gender[customer.region == 5] = gender_5\n",
    "\n",
    "customer.gender = customer.gender.map(lambda x: int(x))\n",
    "customer.gender.value_counts().sort_index()"
   ]
  },
  {
   "cell_type": "markdown",
   "id": "abb226d1",
   "metadata": {
    "ExecuteTime": {
     "end_time": "2022-07-14T08:36:50.831874Z",
     "start_time": "2022-07-14T08:36:50.829616Z"
    }
   },
   "source": [
    "## 상품 목록 데이터프레임 만들기"
   ]
  },
  {
   "cell_type": "markdown",
   "id": "2a4b5b11",
   "metadata": {},
   "source": [
    "### 상품 목록 데이터프레임 양식 만들기"
   ]
  },
  {
   "cell_type": "code",
   "execution_count": 15,
   "id": "20175bea",
   "metadata": {
    "ExecuteTime": {
     "end_time": "2022-07-15T10:59:52.563833Z",
     "start_time": "2022-07-15T10:59:52.559935Z"
    }
   },
   "outputs": [
    {
     "data": {
      "text/html": [
       "<div>\n",
       "<style scoped>\n",
       "    .dataframe tbody tr th:only-of-type {\n",
       "        vertical-align: middle;\n",
       "    }\n",
       "\n",
       "    .dataframe tbody tr th {\n",
       "        vertical-align: top;\n",
       "    }\n",
       "\n",
       "    .dataframe thead th {\n",
       "        text-align: right;\n",
       "    }\n",
       "</style>\n",
       "<table border=\"1\" class=\"dataframe\">\n",
       "  <thead>\n",
       "    <tr style=\"text-align: right;\">\n",
       "      <th></th>\n",
       "      <th>product_num</th>\n",
       "      <th>price</th>\n",
       "      <th>price_grade</th>\n",
       "    </tr>\n",
       "  </thead>\n",
       "  <tbody>\n",
       "  </tbody>\n",
       "</table>\n",
       "</div>"
      ],
      "text/plain": [
       "Empty DataFrame\n",
       "Columns: [product_num, price, price_grade]\n",
       "Index: []"
      ]
     },
     "execution_count": 15,
     "metadata": {},
     "output_type": "execute_result"
    }
   ],
   "source": [
    "product = pd.DataFrame(columns=['product_num', 'price', 'price_grade'])\n",
    "product"
   ]
  },
  {
   "cell_type": "markdown",
   "id": "3c901d4f",
   "metadata": {},
   "source": [
    "### 상품 목록 데이터프레임 데이터 채우기"
   ]
  },
  {
   "cell_type": "markdown",
   "id": "93929bc3",
   "metadata": {
    "ExecuteTime": {
     "end_time": "2022-07-15T07:57:46.018692Z",
     "start_time": "2022-07-15T07:57:45.985750Z"
    },
    "scrolled": true
   },
   "source": [
    "#### 상품 코드 : product_num"
   ]
  },
  {
   "cell_type": "code",
   "execution_count": 16,
   "id": "1a1b5fe9",
   "metadata": {
    "ExecuteTime": {
     "end_time": "2022-07-15T10:59:52.568864Z",
     "start_time": "2022-07-15T10:59:52.566267Z"
    }
   },
   "outputs": [],
   "source": [
    "product_num = np.arange(1, 101)\n",
    "product.product_num = product_num"
   ]
  },
  {
   "cell_type": "markdown",
   "id": "1bfcc626",
   "metadata": {},
   "source": [
    "#### 가격 : price"
   ]
  },
  {
   "cell_type": "code",
   "execution_count": 17,
   "id": "7dd73153",
   "metadata": {
    "ExecuteTime": {
     "end_time": "2022-07-15T10:59:52.574232Z",
     "start_time": "2022-07-15T10:59:52.570791Z"
    }
   },
   "outputs": [],
   "source": [
    "price = random.sample(list(range(1000, 100000)), 100)\n",
    "product.price = price"
   ]
  },
  {
   "cell_type": "markdown",
   "id": "de682b0b",
   "metadata": {},
   "source": []
  },
  {
   "cell_type": "markdown",
   "id": "5aa7dc66",
   "metadata": {},
   "source": [
    "## 거래 데이터 만들기"
   ]
  },
  {
   "cell_type": "markdown",
   "id": "7b7d8031",
   "metadata": {},
   "source": [
    "### 거래 데이터프레임 만들기"
   ]
  },
  {
   "cell_type": "markdown",
   "id": "4f0de677",
   "metadata": {},
   "source": [
    "#### 거래 데이터프레임 양식 만들기"
   ]
  },
  {
   "cell_type": "code",
   "execution_count": 18,
   "id": "f19ed06c",
   "metadata": {
    "ExecuteTime": {
     "end_time": "2022-07-15T10:59:52.582470Z",
     "start_time": "2022-07-15T10:59:52.575699Z"
    }
   },
   "outputs": [
    {
     "data": {
      "text/html": [
       "<div>\n",
       "<style scoped>\n",
       "    .dataframe tbody tr th:only-of-type {\n",
       "        vertical-align: middle;\n",
       "    }\n",
       "\n",
       "    .dataframe tbody tr th {\n",
       "        vertical-align: top;\n",
       "    }\n",
       "\n",
       "    .dataframe thead th {\n",
       "        text-align: right;\n",
       "    }\n",
       "</style>\n",
       "<table border=\"1\" class=\"dataframe\">\n",
       "  <thead>\n",
       "    <tr style=\"text-align: right;\">\n",
       "      <th></th>\n",
       "      <th>ts_num</th>\n",
       "      <th>ts_cusno</th>\n",
       "      <th>ts_product_num</th>\n",
       "      <th>quantity</th>\n",
       "      <th>amount</th>\n",
       "      <th>date</th>\n",
       "      <th>year</th>\n",
       "      <th>day</th>\n",
       "      <th>time</th>\n",
       "    </tr>\n",
       "  </thead>\n",
       "  <tbody>\n",
       "  </tbody>\n",
       "</table>\n",
       "</div>"
      ],
      "text/plain": [
       "Empty DataFrame\n",
       "Columns: [ts_num, ts_cusno, ts_product_num, quantity, amount, date, year, day, time]\n",
       "Index: []"
      ]
     },
     "execution_count": 18,
     "metadata": {},
     "output_type": "execute_result"
    }
   ],
   "source": [
    "purchase = pd.DataFrame(columns=['ts_num', 'ts_cusno', 'ts_product_num', 'quantity','amount', 'date', 'year', 'day', 'time'])\n",
    "purchase"
   ]
  },
  {
   "cell_type": "markdown",
   "id": "f0c1f630",
   "metadata": {},
   "source": [
    "#### 거래 데이터프레임 데이터 채우기"
   ]
  },
  {
   "cell_type": "markdown",
   "id": "856de544",
   "metadata": {},
   "source": [
    "##### 거래 번호 : ts_num"
   ]
  },
  {
   "cell_type": "code",
   "execution_count": 19,
   "id": "0452c4de",
   "metadata": {
    "ExecuteTime": {
     "end_time": "2022-07-15T10:59:52.587157Z",
     "start_time": "2022-07-15T10:59:52.583820Z"
    }
   },
   "outputs": [],
   "source": [
    "ts_num = np.arange(0, 10000)\n",
    "purchase.ts_num = ts_num"
   ]
  },
  {
   "cell_type": "markdown",
   "id": "92f05b2a",
   "metadata": {},
   "source": [
    "##### 고객번호 : ts_cusno"
   ]
  },
  {
   "cell_type": "code",
   "execution_count": 20,
   "id": "71ee8edb",
   "metadata": {
    "ExecuteTime": {
     "end_time": "2022-07-15T10:59:52.590550Z",
     "start_time": "2022-07-15T10:59:52.588124Z"
    }
   },
   "outputs": [],
   "source": [
    "# 기존 cusno가 중복될 수 있도록 만들기\n",
    "ts_cusno = np.random.choice(list(cusno), size=10000)\n",
    "purchase.ts_cusno = ts_cusno"
   ]
  },
  {
   "cell_type": "markdown",
   "id": "edf7268a",
   "metadata": {},
   "source": [
    "##### 상품코드 : ts_product_num"
   ]
  },
  {
   "cell_type": "code",
   "execution_count": 21,
   "id": "ddcae81c",
   "metadata": {
    "ExecuteTime": {
     "end_time": "2022-07-15T10:59:52.594555Z",
     "start_time": "2022-07-15T10:59:52.591779Z"
    }
   },
   "outputs": [],
   "source": [
    "ts_product_num = np.random.choice(list(product_num), size=10000)\n",
    "purchase.ts_product_num = ts_product_num"
   ]
  },
  {
   "cell_type": "markdown",
   "id": "ea561512",
   "metadata": {},
   "source": [
    "##### 구매수량 : quantity"
   ]
  },
  {
   "cell_type": "code",
   "execution_count": 22,
   "id": "5a4e8e40",
   "metadata": {
    "ExecuteTime": {
     "end_time": "2022-07-15T10:59:52.604693Z",
     "start_time": "2022-07-15T10:59:52.598282Z"
    }
   },
   "outputs": [],
   "source": [
    "a = np.random.randint(1, 4, size=6500).tolist()\n",
    "b = np.random.randint(4, 7, size=2500).tolist()\n",
    "c = np.random.randint(7, 10, size=1000).tolist()\n",
    "li = a+b+c\n",
    "random.shuffle(li)\n",
    "purchase.quantity = li\n"
   ]
  },
  {
   "cell_type": "markdown",
   "id": "02c2b392",
   "metadata": {},
   "source": [
    "##### 날짜,요일,시간 : date, day, time"
   ]
  },
  {
   "cell_type": "code",
   "execution_count": 23,
   "id": "69bc24ad",
   "metadata": {
    "ExecuteTime": {
     "end_time": "2022-07-15T10:59:52.731067Z",
     "start_time": "2022-07-15T10:59:52.606540Z"
    }
   },
   "outputs": [
    {
     "data": {
      "text/html": [
       "<div>\n",
       "<style scoped>\n",
       "    .dataframe tbody tr th:only-of-type {\n",
       "        vertical-align: middle;\n",
       "    }\n",
       "\n",
       "    .dataframe tbody tr th {\n",
       "        vertical-align: top;\n",
       "    }\n",
       "\n",
       "    .dataframe thead th {\n",
       "        text-align: right;\n",
       "    }\n",
       "</style>\n",
       "<table border=\"1\" class=\"dataframe\">\n",
       "  <thead>\n",
       "    <tr style=\"text-align: right;\">\n",
       "      <th></th>\n",
       "      <th>ts_num</th>\n",
       "      <th>ts_cusno</th>\n",
       "      <th>ts_product_num</th>\n",
       "      <th>quantity</th>\n",
       "      <th>amount</th>\n",
       "      <th>date</th>\n",
       "      <th>year</th>\n",
       "      <th>day</th>\n",
       "      <th>time</th>\n",
       "    </tr>\n",
       "  </thead>\n",
       "  <tbody>\n",
       "    <tr>\n",
       "      <th>0</th>\n",
       "      <td>0</td>\n",
       "      <td>10380</td>\n",
       "      <td>86</td>\n",
       "      <td>6</td>\n",
       "      <td>NaN</td>\n",
       "      <td>2020-12-30</td>\n",
       "      <td>2020</td>\n",
       "      <td>2</td>\n",
       "      <td>NaN</td>\n",
       "    </tr>\n",
       "    <tr>\n",
       "      <th>1</th>\n",
       "      <td>1</td>\n",
       "      <td>10501</td>\n",
       "      <td>13</td>\n",
       "      <td>5</td>\n",
       "      <td>NaN</td>\n",
       "      <td>2020-04-05</td>\n",
       "      <td>2020</td>\n",
       "      <td>6</td>\n",
       "      <td>NaN</td>\n",
       "    </tr>\n",
       "    <tr>\n",
       "      <th>2</th>\n",
       "      <td>2</td>\n",
       "      <td>10694</td>\n",
       "      <td>19</td>\n",
       "      <td>9</td>\n",
       "      <td>NaN</td>\n",
       "      <td>2020-03-05</td>\n",
       "      <td>2020</td>\n",
       "      <td>3</td>\n",
       "      <td>NaN</td>\n",
       "    </tr>\n",
       "    <tr>\n",
       "      <th>3</th>\n",
       "      <td>3</td>\n",
       "      <td>10430</td>\n",
       "      <td>98</td>\n",
       "      <td>6</td>\n",
       "      <td>NaN</td>\n",
       "      <td>2021-04-04</td>\n",
       "      <td>2021</td>\n",
       "      <td>6</td>\n",
       "      <td>NaN</td>\n",
       "    </tr>\n",
       "    <tr>\n",
       "      <th>4</th>\n",
       "      <td>4</td>\n",
       "      <td>10196</td>\n",
       "      <td>55</td>\n",
       "      <td>3</td>\n",
       "      <td>NaN</td>\n",
       "      <td>2021-10-19</td>\n",
       "      <td>2021</td>\n",
       "      <td>1</td>\n",
       "      <td>NaN</td>\n",
       "    </tr>\n",
       "    <tr>\n",
       "      <th>...</th>\n",
       "      <td>...</td>\n",
       "      <td>...</td>\n",
       "      <td>...</td>\n",
       "      <td>...</td>\n",
       "      <td>...</td>\n",
       "      <td>...</td>\n",
       "      <td>...</td>\n",
       "      <td>...</td>\n",
       "      <td>...</td>\n",
       "    </tr>\n",
       "    <tr>\n",
       "      <th>9995</th>\n",
       "      <td>9995</td>\n",
       "      <td>10009</td>\n",
       "      <td>25</td>\n",
       "      <td>1</td>\n",
       "      <td>NaN</td>\n",
       "      <td>2021-04-12</td>\n",
       "      <td>2021</td>\n",
       "      <td>0</td>\n",
       "      <td>NaN</td>\n",
       "    </tr>\n",
       "    <tr>\n",
       "      <th>9996</th>\n",
       "      <td>9996</td>\n",
       "      <td>10669</td>\n",
       "      <td>35</td>\n",
       "      <td>1</td>\n",
       "      <td>NaN</td>\n",
       "      <td>2021-03-16</td>\n",
       "      <td>2021</td>\n",
       "      <td>1</td>\n",
       "      <td>NaN</td>\n",
       "    </tr>\n",
       "    <tr>\n",
       "      <th>9997</th>\n",
       "      <td>9997</td>\n",
       "      <td>10427</td>\n",
       "      <td>77</td>\n",
       "      <td>3</td>\n",
       "      <td>NaN</td>\n",
       "      <td>2021-04-04</td>\n",
       "      <td>2021</td>\n",
       "      <td>6</td>\n",
       "      <td>NaN</td>\n",
       "    </tr>\n",
       "    <tr>\n",
       "      <th>9998</th>\n",
       "      <td>9998</td>\n",
       "      <td>10685</td>\n",
       "      <td>57</td>\n",
       "      <td>2</td>\n",
       "      <td>NaN</td>\n",
       "      <td>2020-03-09</td>\n",
       "      <td>2020</td>\n",
       "      <td>0</td>\n",
       "      <td>NaN</td>\n",
       "    </tr>\n",
       "    <tr>\n",
       "      <th>9999</th>\n",
       "      <td>9999</td>\n",
       "      <td>10082</td>\n",
       "      <td>33</td>\n",
       "      <td>8</td>\n",
       "      <td>NaN</td>\n",
       "      <td>2021-08-07</td>\n",
       "      <td>2021</td>\n",
       "      <td>5</td>\n",
       "      <td>NaN</td>\n",
       "    </tr>\n",
       "  </tbody>\n",
       "</table>\n",
       "<p>10000 rows × 9 columns</p>\n",
       "</div>"
      ],
      "text/plain": [
       "      ts_num  ts_cusno  ts_product_num  quantity amount       date  year  day  \\\n",
       "0          0     10380              86         6    NaN 2020-12-30  2020    2   \n",
       "1          1     10501              13         5    NaN 2020-04-05  2020    6   \n",
       "2          2     10694              19         9    NaN 2020-03-05  2020    3   \n",
       "3          3     10430              98         6    NaN 2021-04-04  2021    6   \n",
       "4          4     10196              55         3    NaN 2021-10-19  2021    1   \n",
       "...      ...       ...             ...       ...    ...        ...   ...  ...   \n",
       "9995    9995     10009              25         1    NaN 2021-04-12  2021    0   \n",
       "9996    9996     10669              35         1    NaN 2021-03-16  2021    1   \n",
       "9997    9997     10427              77         3    NaN 2021-04-04  2021    6   \n",
       "9998    9998     10685              57         2    NaN 2020-03-09  2020    0   \n",
       "9999    9999     10082              33         8    NaN 2021-08-07  2021    5   \n",
       "\n",
       "     time  \n",
       "0     NaN  \n",
       "1     NaN  \n",
       "2     NaN  \n",
       "3     NaN  \n",
       "4     NaN  \n",
       "...   ...  \n",
       "9995  NaN  \n",
       "9996  NaN  \n",
       "9997  NaN  \n",
       "9998  NaN  \n",
       "9999  NaN  \n",
       "\n",
       "[10000 rows x 9 columns]"
      ]
     },
     "execution_count": 23,
     "metadata": {},
     "output_type": "execute_result"
    }
   ],
   "source": [
    "from datetime import datetime\n",
    "# date\n",
    "date_list_20 = list(pd.date_range('2020-01-01', '2020-12-31', freq='H'))\n",
    "date_list_21 = list(pd.date_range('2021-01-01', '2021-12-31', freq='H'))\n",
    "date_20 = np.random.choice(date_list_20, size=5500).tolist()\n",
    "date_21 = np.random.choice(date_list_21, size=4500).tolist()\n",
    "date = date_20 + date_21\n",
    "random.shuffle(date)\n",
    "date = pd.Series(date)\n",
    "\n",
    "# date 중에서 년월일만 추출\n",
    "purchase.date = date.map(lambda x:datetime.strptime(datetime.strftime(x, '%Y-%m-%d'), '%Y-%m-%d'))\n",
    "\n",
    "# year(년도)\n",
    "purchase.year = purchase.date.dt.year\n",
    "\n",
    "# day(요일)\n",
    "purchase.day = purchase.date.dt.weekday\n",
    "\n",
    "# 시간\n",
    "purchase.hour = purchase.date.dt.hour\n",
    "\n",
    "purchase"
   ]
  },
  {
   "cell_type": "markdown",
   "id": "f2d97796",
   "metadata": {},
   "source": [
    "## 종속변수 데이터 생성"
   ]
  },
  {
   "cell_type": "markdown",
   "id": "05a6f967",
   "metadata": {},
   "source": [
    "### 상품 목록 데이터프레임 종속변수"
   ]
  },
  {
   "cell_type": "markdown",
   "id": "cdc1a88a",
   "metadata": {},
   "source": [
    "#### 상품 가격 분류 : product_grade"
   ]
  },
  {
   "cell_type": "code",
   "execution_count": 24,
   "id": "2d550ad1",
   "metadata": {
    "ExecuteTime": {
     "end_time": "2022-07-15T10:59:52.737059Z",
     "start_time": "2022-07-15T10:59:52.732106Z"
    },
    "scrolled": true
   },
   "outputs": [
    {
     "data": {
      "text/html": [
       "<div>\n",
       "<style scoped>\n",
       "    .dataframe tbody tr th:only-of-type {\n",
       "        vertical-align: middle;\n",
       "    }\n",
       "\n",
       "    .dataframe tbody tr th {\n",
       "        vertical-align: top;\n",
       "    }\n",
       "\n",
       "    .dataframe thead th {\n",
       "        text-align: right;\n",
       "    }\n",
       "</style>\n",
       "<table border=\"1\" class=\"dataframe\">\n",
       "  <thead>\n",
       "    <tr style=\"text-align: right;\">\n",
       "      <th></th>\n",
       "      <th>product_num</th>\n",
       "      <th>price</th>\n",
       "      <th>price_grade</th>\n",
       "    </tr>\n",
       "  </thead>\n",
       "  <tbody>\n",
       "    <tr>\n",
       "      <th>0</th>\n",
       "      <td>1</td>\n",
       "      <td>65694</td>\n",
       "      <td>1</td>\n",
       "    </tr>\n",
       "    <tr>\n",
       "      <th>1</th>\n",
       "      <td>2</td>\n",
       "      <td>61360</td>\n",
       "      <td>1</td>\n",
       "    </tr>\n",
       "    <tr>\n",
       "      <th>2</th>\n",
       "      <td>3</td>\n",
       "      <td>58685</td>\n",
       "      <td>1</td>\n",
       "    </tr>\n",
       "    <tr>\n",
       "      <th>3</th>\n",
       "      <td>4</td>\n",
       "      <td>16482</td>\n",
       "      <td>3</td>\n",
       "    </tr>\n",
       "    <tr>\n",
       "      <th>4</th>\n",
       "      <td>5</td>\n",
       "      <td>12221</td>\n",
       "      <td>3</td>\n",
       "    </tr>\n",
       "    <tr>\n",
       "      <th>...</th>\n",
       "      <td>...</td>\n",
       "      <td>...</td>\n",
       "      <td>...</td>\n",
       "    </tr>\n",
       "    <tr>\n",
       "      <th>95</th>\n",
       "      <td>96</td>\n",
       "      <td>3031</td>\n",
       "      <td>3</td>\n",
       "    </tr>\n",
       "    <tr>\n",
       "      <th>96</th>\n",
       "      <td>97</td>\n",
       "      <td>73498</td>\n",
       "      <td>1</td>\n",
       "    </tr>\n",
       "    <tr>\n",
       "      <th>97</th>\n",
       "      <td>98</td>\n",
       "      <td>67171</td>\n",
       "      <td>1</td>\n",
       "    </tr>\n",
       "    <tr>\n",
       "      <th>98</th>\n",
       "      <td>99</td>\n",
       "      <td>43976</td>\n",
       "      <td>2</td>\n",
       "    </tr>\n",
       "    <tr>\n",
       "      <th>99</th>\n",
       "      <td>100</td>\n",
       "      <td>49101</td>\n",
       "      <td>2</td>\n",
       "    </tr>\n",
       "  </tbody>\n",
       "</table>\n",
       "<p>100 rows × 3 columns</p>\n",
       "</div>"
      ],
      "text/plain": [
       "    product_num  price price_grade\n",
       "0             1  65694           1\n",
       "1             2  61360           1\n",
       "2             3  58685           1\n",
       "3             4  16482           3\n",
       "4             5  12221           3\n",
       "..          ...    ...         ...\n",
       "95           96   3031           3\n",
       "96           97  73498           1\n",
       "97           98  67171           1\n",
       "98           99  43976           2\n",
       "99          100  49101           2\n",
       "\n",
       "[100 rows x 3 columns]"
      ]
     },
     "execution_count": 24,
     "metadata": {},
     "output_type": "execute_result"
    }
   ],
   "source": [
    "# price_grade : 고가품 : 1, 중가품 : 2, 저가품 : 3\n",
    "\n",
    "def price_grade(x):\n",
    "    y = 0\n",
    "    if x <= 20000:\n",
    "        y = '3'\n",
    "    elif x <= 50000:\n",
    "        y = '2'\n",
    "    else:\n",
    "        y = '1'\n",
    "    return y\n",
    "\n",
    "\n",
    "product['price_grade'] = product['price'].apply(price_grade)\n",
    "product"
   ]
  },
  {
   "cell_type": "markdown",
   "id": "01316e5b",
   "metadata": {},
   "source": [
    "### 거래 데이터프레임 종속변수"
   ]
  },
  {
   "cell_type": "markdown",
   "id": "2d6dc532",
   "metadata": {},
   "source": [
    "#### 거래별 거래총액"
   ]
  },
  {
   "cell_type": "code",
   "execution_count": 25,
   "id": "64972d64",
   "metadata": {
    "ExecuteTime": {
     "end_time": "2022-07-15T10:59:54.391212Z",
     "start_time": "2022-07-15T10:59:52.738192Z"
    },
    "scrolled": true
   },
   "outputs": [
    {
     "data": {
      "text/html": [
       "<div>\n",
       "<style scoped>\n",
       "    .dataframe tbody tr th:only-of-type {\n",
       "        vertical-align: middle;\n",
       "    }\n",
       "\n",
       "    .dataframe tbody tr th {\n",
       "        vertical-align: top;\n",
       "    }\n",
       "\n",
       "    .dataframe thead th {\n",
       "        text-align: right;\n",
       "    }\n",
       "</style>\n",
       "<table border=\"1\" class=\"dataframe\">\n",
       "  <thead>\n",
       "    <tr style=\"text-align: right;\">\n",
       "      <th></th>\n",
       "      <th>ts_num</th>\n",
       "      <th>ts_cusno</th>\n",
       "      <th>ts_product_num</th>\n",
       "      <th>quantity</th>\n",
       "      <th>amount</th>\n",
       "      <th>date</th>\n",
       "      <th>year</th>\n",
       "      <th>day</th>\n",
       "      <th>time</th>\n",
       "    </tr>\n",
       "  </thead>\n",
       "  <tbody>\n",
       "    <tr>\n",
       "      <th>0</th>\n",
       "      <td>0</td>\n",
       "      <td>10380</td>\n",
       "      <td>86</td>\n",
       "      <td>6</td>\n",
       "      <td>536562</td>\n",
       "      <td>2020-12-30</td>\n",
       "      <td>2020</td>\n",
       "      <td>2</td>\n",
       "      <td>NaN</td>\n",
       "    </tr>\n",
       "    <tr>\n",
       "      <th>1</th>\n",
       "      <td>1</td>\n",
       "      <td>10501</td>\n",
       "      <td>13</td>\n",
       "      <td>5</td>\n",
       "      <td>406575</td>\n",
       "      <td>2020-04-05</td>\n",
       "      <td>2020</td>\n",
       "      <td>6</td>\n",
       "      <td>NaN</td>\n",
       "    </tr>\n",
       "    <tr>\n",
       "      <th>2</th>\n",
       "      <td>2</td>\n",
       "      <td>10694</td>\n",
       "      <td>19</td>\n",
       "      <td>9</td>\n",
       "      <td>55413</td>\n",
       "      <td>2020-03-05</td>\n",
       "      <td>2020</td>\n",
       "      <td>3</td>\n",
       "      <td>NaN</td>\n",
       "    </tr>\n",
       "    <tr>\n",
       "      <th>3</th>\n",
       "      <td>3</td>\n",
       "      <td>10430</td>\n",
       "      <td>98</td>\n",
       "      <td>6</td>\n",
       "      <td>403026</td>\n",
       "      <td>2021-04-04</td>\n",
       "      <td>2021</td>\n",
       "      <td>6</td>\n",
       "      <td>NaN</td>\n",
       "    </tr>\n",
       "    <tr>\n",
       "      <th>4</th>\n",
       "      <td>4</td>\n",
       "      <td>10196</td>\n",
       "      <td>55</td>\n",
       "      <td>3</td>\n",
       "      <td>88746</td>\n",
       "      <td>2021-10-19</td>\n",
       "      <td>2021</td>\n",
       "      <td>1</td>\n",
       "      <td>NaN</td>\n",
       "    </tr>\n",
       "    <tr>\n",
       "      <th>...</th>\n",
       "      <td>...</td>\n",
       "      <td>...</td>\n",
       "      <td>...</td>\n",
       "      <td>...</td>\n",
       "      <td>...</td>\n",
       "      <td>...</td>\n",
       "      <td>...</td>\n",
       "      <td>...</td>\n",
       "      <td>...</td>\n",
       "    </tr>\n",
       "    <tr>\n",
       "      <th>9995</th>\n",
       "      <td>9995</td>\n",
       "      <td>10009</td>\n",
       "      <td>25</td>\n",
       "      <td>1</td>\n",
       "      <td>37568</td>\n",
       "      <td>2021-04-12</td>\n",
       "      <td>2021</td>\n",
       "      <td>0</td>\n",
       "      <td>NaN</td>\n",
       "    </tr>\n",
       "    <tr>\n",
       "      <th>9996</th>\n",
       "      <td>9996</td>\n",
       "      <td>10669</td>\n",
       "      <td>35</td>\n",
       "      <td>1</td>\n",
       "      <td>94201</td>\n",
       "      <td>2021-03-16</td>\n",
       "      <td>2021</td>\n",
       "      <td>1</td>\n",
       "      <td>NaN</td>\n",
       "    </tr>\n",
       "    <tr>\n",
       "      <th>9997</th>\n",
       "      <td>9997</td>\n",
       "      <td>10427</td>\n",
       "      <td>77</td>\n",
       "      <td>3</td>\n",
       "      <td>217944</td>\n",
       "      <td>2021-04-04</td>\n",
       "      <td>2021</td>\n",
       "      <td>6</td>\n",
       "      <td>NaN</td>\n",
       "    </tr>\n",
       "    <tr>\n",
       "      <th>9998</th>\n",
       "      <td>9998</td>\n",
       "      <td>10685</td>\n",
       "      <td>57</td>\n",
       "      <td>2</td>\n",
       "      <td>194958</td>\n",
       "      <td>2020-03-09</td>\n",
       "      <td>2020</td>\n",
       "      <td>0</td>\n",
       "      <td>NaN</td>\n",
       "    </tr>\n",
       "    <tr>\n",
       "      <th>9999</th>\n",
       "      <td>9999</td>\n",
       "      <td>10082</td>\n",
       "      <td>33</td>\n",
       "      <td>8</td>\n",
       "      <td>575352</td>\n",
       "      <td>2021-08-07</td>\n",
       "      <td>2021</td>\n",
       "      <td>5</td>\n",
       "      <td>NaN</td>\n",
       "    </tr>\n",
       "  </tbody>\n",
       "</table>\n",
       "<p>10000 rows × 9 columns</p>\n",
       "</div>"
      ],
      "text/plain": [
       "      ts_num  ts_cusno  ts_product_num  quantity  amount       date  year  \\\n",
       "0          0     10380              86         6  536562 2020-12-30  2020   \n",
       "1          1     10501              13         5  406575 2020-04-05  2020   \n",
       "2          2     10694              19         9   55413 2020-03-05  2020   \n",
       "3          3     10430              98         6  403026 2021-04-04  2021   \n",
       "4          4     10196              55         3   88746 2021-10-19  2021   \n",
       "...      ...       ...             ...       ...     ...        ...   ...   \n",
       "9995    9995     10009              25         1   37568 2021-04-12  2021   \n",
       "9996    9996     10669              35         1   94201 2021-03-16  2021   \n",
       "9997    9997     10427              77         3  217944 2021-04-04  2021   \n",
       "9998    9998     10685              57         2  194958 2020-03-09  2020   \n",
       "9999    9999     10082              33         8  575352 2021-08-07  2021   \n",
       "\n",
       "      day time  \n",
       "0       2  NaN  \n",
       "1       6  NaN  \n",
       "2       3  NaN  \n",
       "3       6  NaN  \n",
       "4       1  NaN  \n",
       "...   ...  ...  \n",
       "9995    0  NaN  \n",
       "9996    1  NaN  \n",
       "9997    6  NaN  \n",
       "9998    0  NaN  \n",
       "9999    5  NaN  \n",
       "\n",
       "[10000 rows x 9 columns]"
      ]
     },
     "execution_count": 25,
     "metadata": {},
     "output_type": "execute_result"
    }
   ],
   "source": [
    "def amount(x):\n",
    "    a = product[product.product_num ==  x].price\n",
    "    a = str(a).split()[1]\n",
    "    return int(a)\n",
    "    \n",
    "b = purchase.ts_product_num.map(amount)\n",
    "b = pd.Series(b)\n",
    "\n",
    "purchase['amount'] = b*purchase.quantity\n",
    "purchase"
   ]
  },
  {
   "cell_type": "markdown",
   "id": "cb6fb2b0",
   "metadata": {},
   "source": [
    "### 고객 데이터프레임 종속변수"
   ]
  },
  {
   "cell_type": "markdown",
   "id": "f808ec9a",
   "metadata": {},
   "source": [
    "#### 년도별 고객별 연간 매출액 : ASC_20, ASC_21"
   ]
  },
  {
   "cell_type": "code",
   "execution_count": 26,
   "id": "c49c86fa",
   "metadata": {
    "ExecuteTime": {
     "end_time": "2022-07-15T10:59:59.795593Z",
     "start_time": "2022-07-15T10:59:54.392070Z"
    }
   },
   "outputs": [],
   "source": [
    "li_2020 = []\n",
    "li_2021 = []\n",
    "for i in range(10000,11000):\n",
    "    a = purchase[(purchase['ts_cusno']== i)&(purchase[\"year\"] == 2020)]\n",
    "    b = purchase[(purchase['ts_cusno']== i)&(purchase[\"year\"] == 2021)]\n",
    "    li_2020.append(a.sum()[4])\n",
    "    li_2021.append(b.sum()[4])\n",
    "    \n",
    "customer.ASC_20 = li_2020\n",
    "customer.ASC_21 = li_2021\n"
   ]
  },
  {
   "cell_type": "markdown",
   "id": "de7320de",
   "metadata": {},
   "source": [
    "#### 년도별 고객 등급 : grade_20, grade_21"
   ]
  },
  {
   "cell_type": "code",
   "execution_count": 27,
   "id": "e0502658",
   "metadata": {
    "ExecuteTime": {
     "end_time": "2022-07-15T10:59:59.800128Z",
     "start_time": "2022-07-15T10:59:59.796529Z"
    },
    "scrolled": true
   },
   "outputs": [],
   "source": [
    "# 고객 등급 선정\n",
    "bin_dividers = np.linspace(customer.ASC_20.min(), customer.ASC_20.max(), 4)\n",
    "bin_names = ['Silver', 'Gold', 'VIP']  # qcut\n",
    "customer['grade_20'] = pd.cut(x=customer.ASC_20,  # 데이터 배열\n",
    "                              bins=bin_dividers,  # 경계값 리스트\n",
    "                              labels=bin_names,  # bin 이름\n",
    "                              include_lowest=True)  # 첫 경계값 포함 여부\n",
    "\n",
    "bin_dividers = np.linspace(customer.ASC_21.min(), customer.ASC_21.max(), 4)\n",
    "bin_names = ['Silver', 'Gold', 'VIP']\n",
    "customer['grade_21'] = pd.cut(x=customer.ASC_21,  # 데이터 배열\n",
    "                              bins=bin_dividers,  # 경계값 리스트\n",
    "                              labels=bin_names,  # bin 이름\n",
    "                              include_lowest=True)  # 첫 경계값 포함 여부\n"
   ]
  },
  {
   "cell_type": "markdown",
   "id": "a74456e4",
   "metadata": {},
   "source": [
    "#### 년도별 고객별 연간 방문 횟수 : AVC_20, AVC_21"
   ]
  },
  {
   "cell_type": "code",
   "execution_count": 28,
   "id": "eee6b819",
   "metadata": {
    "ExecuteTime": {
     "end_time": "2022-07-15T11:00:00.149943Z",
     "start_time": "2022-07-15T10:59:59.800851Z"
    }
   },
   "outputs": [
    {
     "data": {
      "text/html": [
       "<div>\n",
       "<style scoped>\n",
       "    .dataframe tbody tr th:only-of-type {\n",
       "        vertical-align: middle;\n",
       "    }\n",
       "\n",
       "    .dataframe tbody tr th {\n",
       "        vertical-align: top;\n",
       "    }\n",
       "\n",
       "    .dataframe thead th {\n",
       "        text-align: right;\n",
       "    }\n",
       "</style>\n",
       "<table border=\"1\" class=\"dataframe\">\n",
       "  <thead>\n",
       "    <tr style=\"text-align: right;\">\n",
       "      <th></th>\n",
       "      <th>cusno</th>\n",
       "      <th>region</th>\n",
       "      <th>gender</th>\n",
       "      <th>age</th>\n",
       "      <th>income</th>\n",
       "      <th>grade_20</th>\n",
       "      <th>grade_21</th>\n",
       "      <th>ARPPU_20</th>\n",
       "      <th>ARPPU_21</th>\n",
       "      <th>AVC_20</th>\n",
       "      <th>AVC_21</th>\n",
       "      <th>ASC_20</th>\n",
       "      <th>ASC_21</th>\n",
       "      <th>purchase_trend</th>\n",
       "    </tr>\n",
       "  </thead>\n",
       "  <tbody>\n",
       "    <tr>\n",
       "      <th>0</th>\n",
       "      <td>10000</td>\n",
       "      <td>3</td>\n",
       "      <td>1</td>\n",
       "      <td>29</td>\n",
       "      <td>46588</td>\n",
       "      <td>Silver</td>\n",
       "      <td>Gold</td>\n",
       "      <td>NaN</td>\n",
       "      <td>NaN</td>\n",
       "      <td>3</td>\n",
       "      <td>6</td>\n",
       "      <td>503890.0</td>\n",
       "      <td>1140869.0</td>\n",
       "      <td>NaN</td>\n",
       "    </tr>\n",
       "    <tr>\n",
       "      <th>1</th>\n",
       "      <td>10001</td>\n",
       "      <td>4</td>\n",
       "      <td>0</td>\n",
       "      <td>24</td>\n",
       "      <td>13373</td>\n",
       "      <td>Silver</td>\n",
       "      <td>Silver</td>\n",
       "      <td>NaN</td>\n",
       "      <td>NaN</td>\n",
       "      <td>0</td>\n",
       "      <td>4</td>\n",
       "      <td>0.0</td>\n",
       "      <td>510120.0</td>\n",
       "      <td>NaN</td>\n",
       "    </tr>\n",
       "    <tr>\n",
       "      <th>2</th>\n",
       "      <td>10002</td>\n",
       "      <td>2</td>\n",
       "      <td>0</td>\n",
       "      <td>43</td>\n",
       "      <td>99438</td>\n",
       "      <td>Silver</td>\n",
       "      <td>Gold</td>\n",
       "      <td>NaN</td>\n",
       "      <td>NaN</td>\n",
       "      <td>8</td>\n",
       "      <td>4</td>\n",
       "      <td>966348.0</td>\n",
       "      <td>1341390.0</td>\n",
       "      <td>NaN</td>\n",
       "    </tr>\n",
       "    <tr>\n",
       "      <th>3</th>\n",
       "      <td>10003</td>\n",
       "      <td>3</td>\n",
       "      <td>1</td>\n",
       "      <td>38</td>\n",
       "      <td>53961</td>\n",
       "      <td>Silver</td>\n",
       "      <td>Silver</td>\n",
       "      <td>NaN</td>\n",
       "      <td>NaN</td>\n",
       "      <td>6</td>\n",
       "      <td>4</td>\n",
       "      <td>987042.0</td>\n",
       "      <td>749262.0</td>\n",
       "      <td>NaN</td>\n",
       "    </tr>\n",
       "    <tr>\n",
       "      <th>4</th>\n",
       "      <td>10004</td>\n",
       "      <td>2</td>\n",
       "      <td>0</td>\n",
       "      <td>39</td>\n",
       "      <td>57129</td>\n",
       "      <td>Silver</td>\n",
       "      <td>Silver</td>\n",
       "      <td>NaN</td>\n",
       "      <td>NaN</td>\n",
       "      <td>4</td>\n",
       "      <td>3</td>\n",
       "      <td>584346.0</td>\n",
       "      <td>195062.0</td>\n",
       "      <td>NaN</td>\n",
       "    </tr>\n",
       "    <tr>\n",
       "      <th>...</th>\n",
       "      <td>...</td>\n",
       "      <td>...</td>\n",
       "      <td>...</td>\n",
       "      <td>...</td>\n",
       "      <td>...</td>\n",
       "      <td>...</td>\n",
       "      <td>...</td>\n",
       "      <td>...</td>\n",
       "      <td>...</td>\n",
       "      <td>...</td>\n",
       "      <td>...</td>\n",
       "      <td>...</td>\n",
       "      <td>...</td>\n",
       "      <td>...</td>\n",
       "    </tr>\n",
       "    <tr>\n",
       "      <th>995</th>\n",
       "      <td>10995</td>\n",
       "      <td>3</td>\n",
       "      <td>0</td>\n",
       "      <td>35</td>\n",
       "      <td>45558</td>\n",
       "      <td>Silver</td>\n",
       "      <td>Gold</td>\n",
       "      <td>NaN</td>\n",
       "      <td>NaN</td>\n",
       "      <td>6</td>\n",
       "      <td>7</td>\n",
       "      <td>956808.0</td>\n",
       "      <td>1721938.0</td>\n",
       "      <td>NaN</td>\n",
       "    </tr>\n",
       "    <tr>\n",
       "      <th>996</th>\n",
       "      <td>10996</td>\n",
       "      <td>5</td>\n",
       "      <td>1</td>\n",
       "      <td>69</td>\n",
       "      <td>29747</td>\n",
       "      <td>Silver</td>\n",
       "      <td>Gold</td>\n",
       "      <td>NaN</td>\n",
       "      <td>NaN</td>\n",
       "      <td>4</td>\n",
       "      <td>7</td>\n",
       "      <td>821625.0</td>\n",
       "      <td>1920186.0</td>\n",
       "      <td>NaN</td>\n",
       "    </tr>\n",
       "    <tr>\n",
       "      <th>997</th>\n",
       "      <td>10997</td>\n",
       "      <td>5</td>\n",
       "      <td>0</td>\n",
       "      <td>81</td>\n",
       "      <td>31335</td>\n",
       "      <td>Silver</td>\n",
       "      <td>Silver</td>\n",
       "      <td>NaN</td>\n",
       "      <td>NaN</td>\n",
       "      <td>5</td>\n",
       "      <td>5</td>\n",
       "      <td>718211.0</td>\n",
       "      <td>614549.0</td>\n",
       "      <td>NaN</td>\n",
       "    </tr>\n",
       "    <tr>\n",
       "      <th>998</th>\n",
       "      <td>10998</td>\n",
       "      <td>3</td>\n",
       "      <td>0</td>\n",
       "      <td>35</td>\n",
       "      <td>50029</td>\n",
       "      <td>Silver</td>\n",
       "      <td>Silver</td>\n",
       "      <td>NaN</td>\n",
       "      <td>NaN</td>\n",
       "      <td>3</td>\n",
       "      <td>5</td>\n",
       "      <td>128266.0</td>\n",
       "      <td>630123.0</td>\n",
       "      <td>NaN</td>\n",
       "    </tr>\n",
       "    <tr>\n",
       "      <th>999</th>\n",
       "      <td>10999</td>\n",
       "      <td>5</td>\n",
       "      <td>0</td>\n",
       "      <td>84</td>\n",
       "      <td>26704</td>\n",
       "      <td>Gold</td>\n",
       "      <td>Gold</td>\n",
       "      <td>NaN</td>\n",
       "      <td>NaN</td>\n",
       "      <td>9</td>\n",
       "      <td>7</td>\n",
       "      <td>1492505.0</td>\n",
       "      <td>1159336.0</td>\n",
       "      <td>NaN</td>\n",
       "    </tr>\n",
       "  </tbody>\n",
       "</table>\n",
       "<p>1000 rows × 14 columns</p>\n",
       "</div>"
      ],
      "text/plain": [
       "     cusno  region  gender  age  income grade_20 grade_21 ARPPU_20 ARPPU_21  \\\n",
       "0    10000       3       1   29   46588   Silver     Gold      NaN      NaN   \n",
       "1    10001       4       0   24   13373   Silver   Silver      NaN      NaN   \n",
       "2    10002       2       0   43   99438   Silver     Gold      NaN      NaN   \n",
       "3    10003       3       1   38   53961   Silver   Silver      NaN      NaN   \n",
       "4    10004       2       0   39   57129   Silver   Silver      NaN      NaN   \n",
       "..     ...     ...     ...  ...     ...      ...      ...      ...      ...   \n",
       "995  10995       3       0   35   45558   Silver     Gold      NaN      NaN   \n",
       "996  10996       5       1   69   29747   Silver     Gold      NaN      NaN   \n",
       "997  10997       5       0   81   31335   Silver   Silver      NaN      NaN   \n",
       "998  10998       3       0   35   50029   Silver   Silver      NaN      NaN   \n",
       "999  10999       5       0   84   26704     Gold     Gold      NaN      NaN   \n",
       "\n",
       "     AVC_20  AVC_21     ASC_20     ASC_21 purchase_trend  \n",
       "0         3       6   503890.0  1140869.0            NaN  \n",
       "1         0       4        0.0   510120.0            NaN  \n",
       "2         8       4   966348.0  1341390.0            NaN  \n",
       "3         6       4   987042.0   749262.0            NaN  \n",
       "4         4       3   584346.0   195062.0            NaN  \n",
       "..      ...     ...        ...        ...            ...  \n",
       "995       6       7   956808.0  1721938.0            NaN  \n",
       "996       4       7   821625.0  1920186.0            NaN  \n",
       "997       5       5   718211.0   614549.0            NaN  \n",
       "998       3       5   128266.0   630123.0            NaN  \n",
       "999       9       7  1492505.0  1159336.0            NaN  \n",
       "\n",
       "[1000 rows x 14 columns]"
      ]
     },
     "execution_count": 28,
     "metadata": {},
     "output_type": "execute_result"
    }
   ],
   "source": [
    "li_2020 = []\n",
    "li_2021 = []\n",
    "for i in range(10000,11000):\n",
    "    a = purchase[(purchase['ts_cusno']== i)&(purchase[\"year\"] == 2020)]\n",
    "    li_2020.append(len(a))\n",
    "    a = purchase[(purchase['ts_cusno']== i)&(purchase[\"year\"] == 2021)]\n",
    "    li_2021.append(len(a))\n",
    "    \n",
    "customer.AVC_20 = li_2020\n",
    "customer.AVC_21 = li_2021\n",
    "\n",
    "\n",
    "customer"
   ]
  },
  {
   "cell_type": "markdown",
   "id": "e0999ba5",
   "metadata": {},
   "source": [
    "#### 년도별 고객별 회당 평균 결제액 : ARPPU_20, ARPPU_21"
   ]
  },
  {
   "cell_type": "code",
   "execution_count": 29,
   "id": "9dd1f914",
   "metadata": {
    "ExecuteTime": {
     "end_time": "2022-07-15T11:00:00.159330Z",
     "start_time": "2022-07-15T11:00:00.150925Z"
    }
   },
   "outputs": [
    {
     "data": {
      "text/html": [
       "<div>\n",
       "<style scoped>\n",
       "    .dataframe tbody tr th:only-of-type {\n",
       "        vertical-align: middle;\n",
       "    }\n",
       "\n",
       "    .dataframe tbody tr th {\n",
       "        vertical-align: top;\n",
       "    }\n",
       "\n",
       "    .dataframe thead th {\n",
       "        text-align: right;\n",
       "    }\n",
       "</style>\n",
       "<table border=\"1\" class=\"dataframe\">\n",
       "  <thead>\n",
       "    <tr style=\"text-align: right;\">\n",
       "      <th></th>\n",
       "      <th>cusno</th>\n",
       "      <th>region</th>\n",
       "      <th>gender</th>\n",
       "      <th>age</th>\n",
       "      <th>income</th>\n",
       "      <th>grade_20</th>\n",
       "      <th>grade_21</th>\n",
       "      <th>ARPPU_20</th>\n",
       "      <th>ARPPU_21</th>\n",
       "      <th>AVC_20</th>\n",
       "      <th>AVC_21</th>\n",
       "      <th>ASC_20</th>\n",
       "      <th>ASC_21</th>\n",
       "      <th>purchase_trend</th>\n",
       "    </tr>\n",
       "  </thead>\n",
       "  <tbody>\n",
       "    <tr>\n",
       "      <th>0</th>\n",
       "      <td>10000</td>\n",
       "      <td>3</td>\n",
       "      <td>1</td>\n",
       "      <td>29</td>\n",
       "      <td>46588</td>\n",
       "      <td>Silver</td>\n",
       "      <td>Gold</td>\n",
       "      <td>167963.33</td>\n",
       "      <td>190144.83</td>\n",
       "      <td>3</td>\n",
       "      <td>6</td>\n",
       "      <td>503890.0</td>\n",
       "      <td>1140869.0</td>\n",
       "      <td>NaN</td>\n",
       "    </tr>\n",
       "    <tr>\n",
       "      <th>1</th>\n",
       "      <td>10001</td>\n",
       "      <td>4</td>\n",
       "      <td>0</td>\n",
       "      <td>24</td>\n",
       "      <td>13373</td>\n",
       "      <td>Silver</td>\n",
       "      <td>Silver</td>\n",
       "      <td>NaN</td>\n",
       "      <td>127530.00</td>\n",
       "      <td>0</td>\n",
       "      <td>4</td>\n",
       "      <td>0.0</td>\n",
       "      <td>510120.0</td>\n",
       "      <td>NaN</td>\n",
       "    </tr>\n",
       "    <tr>\n",
       "      <th>2</th>\n",
       "      <td>10002</td>\n",
       "      <td>2</td>\n",
       "      <td>0</td>\n",
       "      <td>43</td>\n",
       "      <td>99438</td>\n",
       "      <td>Silver</td>\n",
       "      <td>Gold</td>\n",
       "      <td>120793.50</td>\n",
       "      <td>335347.50</td>\n",
       "      <td>8</td>\n",
       "      <td>4</td>\n",
       "      <td>966348.0</td>\n",
       "      <td>1341390.0</td>\n",
       "      <td>NaN</td>\n",
       "    </tr>\n",
       "    <tr>\n",
       "      <th>3</th>\n",
       "      <td>10003</td>\n",
       "      <td>3</td>\n",
       "      <td>1</td>\n",
       "      <td>38</td>\n",
       "      <td>53961</td>\n",
       "      <td>Silver</td>\n",
       "      <td>Silver</td>\n",
       "      <td>164507.00</td>\n",
       "      <td>187315.50</td>\n",
       "      <td>6</td>\n",
       "      <td>4</td>\n",
       "      <td>987042.0</td>\n",
       "      <td>749262.0</td>\n",
       "      <td>NaN</td>\n",
       "    </tr>\n",
       "    <tr>\n",
       "      <th>4</th>\n",
       "      <td>10004</td>\n",
       "      <td>2</td>\n",
       "      <td>0</td>\n",
       "      <td>39</td>\n",
       "      <td>57129</td>\n",
       "      <td>Silver</td>\n",
       "      <td>Silver</td>\n",
       "      <td>146086.50</td>\n",
       "      <td>65020.67</td>\n",
       "      <td>4</td>\n",
       "      <td>3</td>\n",
       "      <td>584346.0</td>\n",
       "      <td>195062.0</td>\n",
       "      <td>NaN</td>\n",
       "    </tr>\n",
       "    <tr>\n",
       "      <th>...</th>\n",
       "      <td>...</td>\n",
       "      <td>...</td>\n",
       "      <td>...</td>\n",
       "      <td>...</td>\n",
       "      <td>...</td>\n",
       "      <td>...</td>\n",
       "      <td>...</td>\n",
       "      <td>...</td>\n",
       "      <td>...</td>\n",
       "      <td>...</td>\n",
       "      <td>...</td>\n",
       "      <td>...</td>\n",
       "      <td>...</td>\n",
       "      <td>...</td>\n",
       "    </tr>\n",
       "    <tr>\n",
       "      <th>995</th>\n",
       "      <td>10995</td>\n",
       "      <td>3</td>\n",
       "      <td>0</td>\n",
       "      <td>35</td>\n",
       "      <td>45558</td>\n",
       "      <td>Silver</td>\n",
       "      <td>Gold</td>\n",
       "      <td>159468.00</td>\n",
       "      <td>245991.14</td>\n",
       "      <td>6</td>\n",
       "      <td>7</td>\n",
       "      <td>956808.0</td>\n",
       "      <td>1721938.0</td>\n",
       "      <td>NaN</td>\n",
       "    </tr>\n",
       "    <tr>\n",
       "      <th>996</th>\n",
       "      <td>10996</td>\n",
       "      <td>5</td>\n",
       "      <td>1</td>\n",
       "      <td>69</td>\n",
       "      <td>29747</td>\n",
       "      <td>Silver</td>\n",
       "      <td>Gold</td>\n",
       "      <td>205406.25</td>\n",
       "      <td>274312.29</td>\n",
       "      <td>4</td>\n",
       "      <td>7</td>\n",
       "      <td>821625.0</td>\n",
       "      <td>1920186.0</td>\n",
       "      <td>NaN</td>\n",
       "    </tr>\n",
       "    <tr>\n",
       "      <th>997</th>\n",
       "      <td>10997</td>\n",
       "      <td>5</td>\n",
       "      <td>0</td>\n",
       "      <td>81</td>\n",
       "      <td>31335</td>\n",
       "      <td>Silver</td>\n",
       "      <td>Silver</td>\n",
       "      <td>143642.20</td>\n",
       "      <td>122909.80</td>\n",
       "      <td>5</td>\n",
       "      <td>5</td>\n",
       "      <td>718211.0</td>\n",
       "      <td>614549.0</td>\n",
       "      <td>NaN</td>\n",
       "    </tr>\n",
       "    <tr>\n",
       "      <th>998</th>\n",
       "      <td>10998</td>\n",
       "      <td>3</td>\n",
       "      <td>0</td>\n",
       "      <td>35</td>\n",
       "      <td>50029</td>\n",
       "      <td>Silver</td>\n",
       "      <td>Silver</td>\n",
       "      <td>42755.33</td>\n",
       "      <td>126024.60</td>\n",
       "      <td>3</td>\n",
       "      <td>5</td>\n",
       "      <td>128266.0</td>\n",
       "      <td>630123.0</td>\n",
       "      <td>NaN</td>\n",
       "    </tr>\n",
       "    <tr>\n",
       "      <th>999</th>\n",
       "      <td>10999</td>\n",
       "      <td>5</td>\n",
       "      <td>0</td>\n",
       "      <td>84</td>\n",
       "      <td>26704</td>\n",
       "      <td>Gold</td>\n",
       "      <td>Gold</td>\n",
       "      <td>165833.89</td>\n",
       "      <td>165619.43</td>\n",
       "      <td>9</td>\n",
       "      <td>7</td>\n",
       "      <td>1492505.0</td>\n",
       "      <td>1159336.0</td>\n",
       "      <td>NaN</td>\n",
       "    </tr>\n",
       "  </tbody>\n",
       "</table>\n",
       "<p>1000 rows × 14 columns</p>\n",
       "</div>"
      ],
      "text/plain": [
       "     cusno  region  gender  age  income grade_20 grade_21   ARPPU_20  \\\n",
       "0    10000       3       1   29   46588   Silver     Gold  167963.33   \n",
       "1    10001       4       0   24   13373   Silver   Silver        NaN   \n",
       "2    10002       2       0   43   99438   Silver     Gold  120793.50   \n",
       "3    10003       3       1   38   53961   Silver   Silver  164507.00   \n",
       "4    10004       2       0   39   57129   Silver   Silver  146086.50   \n",
       "..     ...     ...     ...  ...     ...      ...      ...        ...   \n",
       "995  10995       3       0   35   45558   Silver     Gold  159468.00   \n",
       "996  10996       5       1   69   29747   Silver     Gold  205406.25   \n",
       "997  10997       5       0   81   31335   Silver   Silver  143642.20   \n",
       "998  10998       3       0   35   50029   Silver   Silver   42755.33   \n",
       "999  10999       5       0   84   26704     Gold     Gold  165833.89   \n",
       "\n",
       "      ARPPU_21  AVC_20  AVC_21     ASC_20     ASC_21 purchase_trend  \n",
       "0    190144.83       3       6   503890.0  1140869.0            NaN  \n",
       "1    127530.00       0       4        0.0   510120.0            NaN  \n",
       "2    335347.50       8       4   966348.0  1341390.0            NaN  \n",
       "3    187315.50       6       4   987042.0   749262.0            NaN  \n",
       "4     65020.67       4       3   584346.0   195062.0            NaN  \n",
       "..         ...     ...     ...        ...        ...            ...  \n",
       "995  245991.14       6       7   956808.0  1721938.0            NaN  \n",
       "996  274312.29       4       7   821625.0  1920186.0            NaN  \n",
       "997  122909.80       5       5   718211.0   614549.0            NaN  \n",
       "998  126024.60       3       5   128266.0   630123.0            NaN  \n",
       "999  165619.43       9       7  1492505.0  1159336.0            NaN  \n",
       "\n",
       "[1000 rows x 14 columns]"
      ]
     },
     "execution_count": 29,
     "metadata": {},
     "output_type": "execute_result"
    }
   ],
   "source": [
    "customer.ARPPU_20 = (customer.ASC_20 / customer.AVC_20).round(2)\n",
    "customer.ARPPU_21 = (customer.ASC_21 / customer.AVC_21).round(2)\n",
    "customer"
   ]
  },
  {
   "cell_type": "markdown",
   "id": "d630ed7a",
   "metadata": {},
   "source": [
    "#### 고객별 구매 추세 변화 : purchase_trend"
   ]
  },
  {
   "cell_type": "code",
   "execution_count": 30,
   "id": "378612e3",
   "metadata": {
    "ExecuteTime": {
     "end_time": "2022-07-15T11:00:00.168044Z",
     "start_time": "2022-07-15T11:00:00.160232Z"
    }
   },
   "outputs": [
    {
     "data": {
      "text/html": [
       "<div>\n",
       "<style scoped>\n",
       "    .dataframe tbody tr th:only-of-type {\n",
       "        vertical-align: middle;\n",
       "    }\n",
       "\n",
       "    .dataframe tbody tr th {\n",
       "        vertical-align: top;\n",
       "    }\n",
       "\n",
       "    .dataframe thead th {\n",
       "        text-align: right;\n",
       "    }\n",
       "</style>\n",
       "<table border=\"1\" class=\"dataframe\">\n",
       "  <thead>\n",
       "    <tr style=\"text-align: right;\">\n",
       "      <th></th>\n",
       "      <th>cusno</th>\n",
       "      <th>region</th>\n",
       "      <th>gender</th>\n",
       "      <th>age</th>\n",
       "      <th>income</th>\n",
       "      <th>grade_20</th>\n",
       "      <th>grade_21</th>\n",
       "      <th>ARPPU_20</th>\n",
       "      <th>ARPPU_21</th>\n",
       "      <th>AVC_20</th>\n",
       "      <th>AVC_21</th>\n",
       "      <th>ASC_20</th>\n",
       "      <th>ASC_21</th>\n",
       "      <th>purchase_trend</th>\n",
       "    </tr>\n",
       "  </thead>\n",
       "  <tbody>\n",
       "    <tr>\n",
       "      <th>0</th>\n",
       "      <td>10000</td>\n",
       "      <td>3</td>\n",
       "      <td>1</td>\n",
       "      <td>29</td>\n",
       "      <td>46588</td>\n",
       "      <td>Silver</td>\n",
       "      <td>Gold</td>\n",
       "      <td>167963.33</td>\n",
       "      <td>190144.83</td>\n",
       "      <td>3</td>\n",
       "      <td>6</td>\n",
       "      <td>503890.0</td>\n",
       "      <td>1140869.0</td>\n",
       "      <td>True</td>\n",
       "    </tr>\n",
       "    <tr>\n",
       "      <th>1</th>\n",
       "      <td>10001</td>\n",
       "      <td>4</td>\n",
       "      <td>0</td>\n",
       "      <td>24</td>\n",
       "      <td>13373</td>\n",
       "      <td>Silver</td>\n",
       "      <td>Silver</td>\n",
       "      <td>NaN</td>\n",
       "      <td>127530.00</td>\n",
       "      <td>0</td>\n",
       "      <td>4</td>\n",
       "      <td>0.0</td>\n",
       "      <td>510120.0</td>\n",
       "      <td>True</td>\n",
       "    </tr>\n",
       "    <tr>\n",
       "      <th>2</th>\n",
       "      <td>10002</td>\n",
       "      <td>2</td>\n",
       "      <td>0</td>\n",
       "      <td>43</td>\n",
       "      <td>99438</td>\n",
       "      <td>Silver</td>\n",
       "      <td>Gold</td>\n",
       "      <td>120793.50</td>\n",
       "      <td>335347.50</td>\n",
       "      <td>8</td>\n",
       "      <td>4</td>\n",
       "      <td>966348.0</td>\n",
       "      <td>1341390.0</td>\n",
       "      <td>True</td>\n",
       "    </tr>\n",
       "    <tr>\n",
       "      <th>3</th>\n",
       "      <td>10003</td>\n",
       "      <td>3</td>\n",
       "      <td>1</td>\n",
       "      <td>38</td>\n",
       "      <td>53961</td>\n",
       "      <td>Silver</td>\n",
       "      <td>Silver</td>\n",
       "      <td>164507.00</td>\n",
       "      <td>187315.50</td>\n",
       "      <td>6</td>\n",
       "      <td>4</td>\n",
       "      <td>987042.0</td>\n",
       "      <td>749262.0</td>\n",
       "      <td>False</td>\n",
       "    </tr>\n",
       "    <tr>\n",
       "      <th>4</th>\n",
       "      <td>10004</td>\n",
       "      <td>2</td>\n",
       "      <td>0</td>\n",
       "      <td>39</td>\n",
       "      <td>57129</td>\n",
       "      <td>Silver</td>\n",
       "      <td>Silver</td>\n",
       "      <td>146086.50</td>\n",
       "      <td>65020.67</td>\n",
       "      <td>4</td>\n",
       "      <td>3</td>\n",
       "      <td>584346.0</td>\n",
       "      <td>195062.0</td>\n",
       "      <td>False</td>\n",
       "    </tr>\n",
       "    <tr>\n",
       "      <th>...</th>\n",
       "      <td>...</td>\n",
       "      <td>...</td>\n",
       "      <td>...</td>\n",
       "      <td>...</td>\n",
       "      <td>...</td>\n",
       "      <td>...</td>\n",
       "      <td>...</td>\n",
       "      <td>...</td>\n",
       "      <td>...</td>\n",
       "      <td>...</td>\n",
       "      <td>...</td>\n",
       "      <td>...</td>\n",
       "      <td>...</td>\n",
       "      <td>...</td>\n",
       "    </tr>\n",
       "    <tr>\n",
       "      <th>995</th>\n",
       "      <td>10995</td>\n",
       "      <td>3</td>\n",
       "      <td>0</td>\n",
       "      <td>35</td>\n",
       "      <td>45558</td>\n",
       "      <td>Silver</td>\n",
       "      <td>Gold</td>\n",
       "      <td>159468.00</td>\n",
       "      <td>245991.14</td>\n",
       "      <td>6</td>\n",
       "      <td>7</td>\n",
       "      <td>956808.0</td>\n",
       "      <td>1721938.0</td>\n",
       "      <td>True</td>\n",
       "    </tr>\n",
       "    <tr>\n",
       "      <th>996</th>\n",
       "      <td>10996</td>\n",
       "      <td>5</td>\n",
       "      <td>1</td>\n",
       "      <td>69</td>\n",
       "      <td>29747</td>\n",
       "      <td>Silver</td>\n",
       "      <td>Gold</td>\n",
       "      <td>205406.25</td>\n",
       "      <td>274312.29</td>\n",
       "      <td>4</td>\n",
       "      <td>7</td>\n",
       "      <td>821625.0</td>\n",
       "      <td>1920186.0</td>\n",
       "      <td>True</td>\n",
       "    </tr>\n",
       "    <tr>\n",
       "      <th>997</th>\n",
       "      <td>10997</td>\n",
       "      <td>5</td>\n",
       "      <td>0</td>\n",
       "      <td>81</td>\n",
       "      <td>31335</td>\n",
       "      <td>Silver</td>\n",
       "      <td>Silver</td>\n",
       "      <td>143642.20</td>\n",
       "      <td>122909.80</td>\n",
       "      <td>5</td>\n",
       "      <td>5</td>\n",
       "      <td>718211.0</td>\n",
       "      <td>614549.0</td>\n",
       "      <td>False</td>\n",
       "    </tr>\n",
       "    <tr>\n",
       "      <th>998</th>\n",
       "      <td>10998</td>\n",
       "      <td>3</td>\n",
       "      <td>0</td>\n",
       "      <td>35</td>\n",
       "      <td>50029</td>\n",
       "      <td>Silver</td>\n",
       "      <td>Silver</td>\n",
       "      <td>42755.33</td>\n",
       "      <td>126024.60</td>\n",
       "      <td>3</td>\n",
       "      <td>5</td>\n",
       "      <td>128266.0</td>\n",
       "      <td>630123.0</td>\n",
       "      <td>True</td>\n",
       "    </tr>\n",
       "    <tr>\n",
       "      <th>999</th>\n",
       "      <td>10999</td>\n",
       "      <td>5</td>\n",
       "      <td>0</td>\n",
       "      <td>84</td>\n",
       "      <td>26704</td>\n",
       "      <td>Gold</td>\n",
       "      <td>Gold</td>\n",
       "      <td>165833.89</td>\n",
       "      <td>165619.43</td>\n",
       "      <td>9</td>\n",
       "      <td>7</td>\n",
       "      <td>1492505.0</td>\n",
       "      <td>1159336.0</td>\n",
       "      <td>False</td>\n",
       "    </tr>\n",
       "  </tbody>\n",
       "</table>\n",
       "<p>1000 rows × 14 columns</p>\n",
       "</div>"
      ],
      "text/plain": [
       "     cusno  region  gender  age  income grade_20 grade_21   ARPPU_20  \\\n",
       "0    10000       3       1   29   46588   Silver     Gold  167963.33   \n",
       "1    10001       4       0   24   13373   Silver   Silver        NaN   \n",
       "2    10002       2       0   43   99438   Silver     Gold  120793.50   \n",
       "3    10003       3       1   38   53961   Silver   Silver  164507.00   \n",
       "4    10004       2       0   39   57129   Silver   Silver  146086.50   \n",
       "..     ...     ...     ...  ...     ...      ...      ...        ...   \n",
       "995  10995       3       0   35   45558   Silver     Gold  159468.00   \n",
       "996  10996       5       1   69   29747   Silver     Gold  205406.25   \n",
       "997  10997       5       0   81   31335   Silver   Silver  143642.20   \n",
       "998  10998       3       0   35   50029   Silver   Silver   42755.33   \n",
       "999  10999       5       0   84   26704     Gold     Gold  165833.89   \n",
       "\n",
       "      ARPPU_21  AVC_20  AVC_21     ASC_20     ASC_21  purchase_trend  \n",
       "0    190144.83       3       6   503890.0  1140869.0            True  \n",
       "1    127530.00       0       4        0.0   510120.0            True  \n",
       "2    335347.50       8       4   966348.0  1341390.0            True  \n",
       "3    187315.50       6       4   987042.0   749262.0           False  \n",
       "4     65020.67       4       3   584346.0   195062.0           False  \n",
       "..         ...     ...     ...        ...        ...             ...  \n",
       "995  245991.14       6       7   956808.0  1721938.0            True  \n",
       "996  274312.29       4       7   821625.0  1920186.0            True  \n",
       "997  122909.80       5       5   718211.0   614549.0           False  \n",
       "998  126024.60       3       5   128266.0   630123.0            True  \n",
       "999  165619.43       9       7  1492505.0  1159336.0           False  \n",
       "\n",
       "[1000 rows x 14 columns]"
      ]
     },
     "execution_count": 30,
     "metadata": {},
     "output_type": "execute_result"
    }
   ],
   "source": [
    "customer.purchase_trend = (customer.ASC_21 > customer.ASC_20)\n",
    "customer"
   ]
  },
  {
   "cell_type": "markdown",
   "id": "50ea8baa",
   "metadata": {},
   "source": [
    "## DataFrame 확인"
   ]
  },
  {
   "cell_type": "code",
   "execution_count": 31,
   "id": "6a47bebb",
   "metadata": {
    "ExecuteTime": {
     "end_time": "2022-07-15T11:00:00.175972Z",
     "start_time": "2022-07-15T11:00:00.168950Z"
    },
    "scrolled": true
   },
   "outputs": [
    {
     "data": {
      "text/html": [
       "<div>\n",
       "<style scoped>\n",
       "    .dataframe tbody tr th:only-of-type {\n",
       "        vertical-align: middle;\n",
       "    }\n",
       "\n",
       "    .dataframe tbody tr th {\n",
       "        vertical-align: top;\n",
       "    }\n",
       "\n",
       "    .dataframe thead th {\n",
       "        text-align: right;\n",
       "    }\n",
       "</style>\n",
       "<table border=\"1\" class=\"dataframe\">\n",
       "  <thead>\n",
       "    <tr style=\"text-align: right;\">\n",
       "      <th></th>\n",
       "      <th>cusno</th>\n",
       "      <th>region</th>\n",
       "      <th>gender</th>\n",
       "      <th>age</th>\n",
       "      <th>income</th>\n",
       "      <th>grade_20</th>\n",
       "      <th>grade_21</th>\n",
       "      <th>ARPPU_20</th>\n",
       "      <th>ARPPU_21</th>\n",
       "      <th>AVC_20</th>\n",
       "      <th>AVC_21</th>\n",
       "      <th>ASC_20</th>\n",
       "      <th>ASC_21</th>\n",
       "      <th>purchase_trend</th>\n",
       "    </tr>\n",
       "  </thead>\n",
       "  <tbody>\n",
       "    <tr>\n",
       "      <th>0</th>\n",
       "      <td>10000</td>\n",
       "      <td>3</td>\n",
       "      <td>1</td>\n",
       "      <td>29</td>\n",
       "      <td>46588</td>\n",
       "      <td>Silver</td>\n",
       "      <td>Gold</td>\n",
       "      <td>167963.33</td>\n",
       "      <td>190144.83</td>\n",
       "      <td>3</td>\n",
       "      <td>6</td>\n",
       "      <td>503890.0</td>\n",
       "      <td>1140869.0</td>\n",
       "      <td>True</td>\n",
       "    </tr>\n",
       "    <tr>\n",
       "      <th>1</th>\n",
       "      <td>10001</td>\n",
       "      <td>4</td>\n",
       "      <td>0</td>\n",
       "      <td>24</td>\n",
       "      <td>13373</td>\n",
       "      <td>Silver</td>\n",
       "      <td>Silver</td>\n",
       "      <td>NaN</td>\n",
       "      <td>127530.00</td>\n",
       "      <td>0</td>\n",
       "      <td>4</td>\n",
       "      <td>0.0</td>\n",
       "      <td>510120.0</td>\n",
       "      <td>True</td>\n",
       "    </tr>\n",
       "    <tr>\n",
       "      <th>2</th>\n",
       "      <td>10002</td>\n",
       "      <td>2</td>\n",
       "      <td>0</td>\n",
       "      <td>43</td>\n",
       "      <td>99438</td>\n",
       "      <td>Silver</td>\n",
       "      <td>Gold</td>\n",
       "      <td>120793.50</td>\n",
       "      <td>335347.50</td>\n",
       "      <td>8</td>\n",
       "      <td>4</td>\n",
       "      <td>966348.0</td>\n",
       "      <td>1341390.0</td>\n",
       "      <td>True</td>\n",
       "    </tr>\n",
       "    <tr>\n",
       "      <th>3</th>\n",
       "      <td>10003</td>\n",
       "      <td>3</td>\n",
       "      <td>1</td>\n",
       "      <td>38</td>\n",
       "      <td>53961</td>\n",
       "      <td>Silver</td>\n",
       "      <td>Silver</td>\n",
       "      <td>164507.00</td>\n",
       "      <td>187315.50</td>\n",
       "      <td>6</td>\n",
       "      <td>4</td>\n",
       "      <td>987042.0</td>\n",
       "      <td>749262.0</td>\n",
       "      <td>False</td>\n",
       "    </tr>\n",
       "    <tr>\n",
       "      <th>4</th>\n",
       "      <td>10004</td>\n",
       "      <td>2</td>\n",
       "      <td>0</td>\n",
       "      <td>39</td>\n",
       "      <td>57129</td>\n",
       "      <td>Silver</td>\n",
       "      <td>Silver</td>\n",
       "      <td>146086.50</td>\n",
       "      <td>65020.67</td>\n",
       "      <td>4</td>\n",
       "      <td>3</td>\n",
       "      <td>584346.0</td>\n",
       "      <td>195062.0</td>\n",
       "      <td>False</td>\n",
       "    </tr>\n",
       "    <tr>\n",
       "      <th>...</th>\n",
       "      <td>...</td>\n",
       "      <td>...</td>\n",
       "      <td>...</td>\n",
       "      <td>...</td>\n",
       "      <td>...</td>\n",
       "      <td>...</td>\n",
       "      <td>...</td>\n",
       "      <td>...</td>\n",
       "      <td>...</td>\n",
       "      <td>...</td>\n",
       "      <td>...</td>\n",
       "      <td>...</td>\n",
       "      <td>...</td>\n",
       "      <td>...</td>\n",
       "    </tr>\n",
       "    <tr>\n",
       "      <th>995</th>\n",
       "      <td>10995</td>\n",
       "      <td>3</td>\n",
       "      <td>0</td>\n",
       "      <td>35</td>\n",
       "      <td>45558</td>\n",
       "      <td>Silver</td>\n",
       "      <td>Gold</td>\n",
       "      <td>159468.00</td>\n",
       "      <td>245991.14</td>\n",
       "      <td>6</td>\n",
       "      <td>7</td>\n",
       "      <td>956808.0</td>\n",
       "      <td>1721938.0</td>\n",
       "      <td>True</td>\n",
       "    </tr>\n",
       "    <tr>\n",
       "      <th>996</th>\n",
       "      <td>10996</td>\n",
       "      <td>5</td>\n",
       "      <td>1</td>\n",
       "      <td>69</td>\n",
       "      <td>29747</td>\n",
       "      <td>Silver</td>\n",
       "      <td>Gold</td>\n",
       "      <td>205406.25</td>\n",
       "      <td>274312.29</td>\n",
       "      <td>4</td>\n",
       "      <td>7</td>\n",
       "      <td>821625.0</td>\n",
       "      <td>1920186.0</td>\n",
       "      <td>True</td>\n",
       "    </tr>\n",
       "    <tr>\n",
       "      <th>997</th>\n",
       "      <td>10997</td>\n",
       "      <td>5</td>\n",
       "      <td>0</td>\n",
       "      <td>81</td>\n",
       "      <td>31335</td>\n",
       "      <td>Silver</td>\n",
       "      <td>Silver</td>\n",
       "      <td>143642.20</td>\n",
       "      <td>122909.80</td>\n",
       "      <td>5</td>\n",
       "      <td>5</td>\n",
       "      <td>718211.0</td>\n",
       "      <td>614549.0</td>\n",
       "      <td>False</td>\n",
       "    </tr>\n",
       "    <tr>\n",
       "      <th>998</th>\n",
       "      <td>10998</td>\n",
       "      <td>3</td>\n",
       "      <td>0</td>\n",
       "      <td>35</td>\n",
       "      <td>50029</td>\n",
       "      <td>Silver</td>\n",
       "      <td>Silver</td>\n",
       "      <td>42755.33</td>\n",
       "      <td>126024.60</td>\n",
       "      <td>3</td>\n",
       "      <td>5</td>\n",
       "      <td>128266.0</td>\n",
       "      <td>630123.0</td>\n",
       "      <td>True</td>\n",
       "    </tr>\n",
       "    <tr>\n",
       "      <th>999</th>\n",
       "      <td>10999</td>\n",
       "      <td>5</td>\n",
       "      <td>0</td>\n",
       "      <td>84</td>\n",
       "      <td>26704</td>\n",
       "      <td>Gold</td>\n",
       "      <td>Gold</td>\n",
       "      <td>165833.89</td>\n",
       "      <td>165619.43</td>\n",
       "      <td>9</td>\n",
       "      <td>7</td>\n",
       "      <td>1492505.0</td>\n",
       "      <td>1159336.0</td>\n",
       "      <td>False</td>\n",
       "    </tr>\n",
       "  </tbody>\n",
       "</table>\n",
       "<p>1000 rows × 14 columns</p>\n",
       "</div>"
      ],
      "text/plain": [
       "     cusno  region  gender  age  income grade_20 grade_21   ARPPU_20  \\\n",
       "0    10000       3       1   29   46588   Silver     Gold  167963.33   \n",
       "1    10001       4       0   24   13373   Silver   Silver        NaN   \n",
       "2    10002       2       0   43   99438   Silver     Gold  120793.50   \n",
       "3    10003       3       1   38   53961   Silver   Silver  164507.00   \n",
       "4    10004       2       0   39   57129   Silver   Silver  146086.50   \n",
       "..     ...     ...     ...  ...     ...      ...      ...        ...   \n",
       "995  10995       3       0   35   45558   Silver     Gold  159468.00   \n",
       "996  10996       5       1   69   29747   Silver     Gold  205406.25   \n",
       "997  10997       5       0   81   31335   Silver   Silver  143642.20   \n",
       "998  10998       3       0   35   50029   Silver   Silver   42755.33   \n",
       "999  10999       5       0   84   26704     Gold     Gold  165833.89   \n",
       "\n",
       "      ARPPU_21  AVC_20  AVC_21     ASC_20     ASC_21  purchase_trend  \n",
       "0    190144.83       3       6   503890.0  1140869.0            True  \n",
       "1    127530.00       0       4        0.0   510120.0            True  \n",
       "2    335347.50       8       4   966348.0  1341390.0            True  \n",
       "3    187315.50       6       4   987042.0   749262.0           False  \n",
       "4     65020.67       4       3   584346.0   195062.0           False  \n",
       "..         ...     ...     ...        ...        ...             ...  \n",
       "995  245991.14       6       7   956808.0  1721938.0            True  \n",
       "996  274312.29       4       7   821625.0  1920186.0            True  \n",
       "997  122909.80       5       5   718211.0   614549.0           False  \n",
       "998  126024.60       3       5   128266.0   630123.0            True  \n",
       "999  165619.43       9       7  1492505.0  1159336.0           False  \n",
       "\n",
       "[1000 rows x 14 columns]"
      ]
     },
     "execution_count": 31,
     "metadata": {},
     "output_type": "execute_result"
    }
   ],
   "source": [
    "customer"
   ]
  },
  {
   "cell_type": "code",
   "execution_count": 32,
   "id": "30ca7502",
   "metadata": {
    "ExecuteTime": {
     "end_time": "2022-07-15T11:00:00.180474Z",
     "start_time": "2022-07-15T11:00:00.176891Z"
    }
   },
   "outputs": [
    {
     "data": {
      "text/html": [
       "<div>\n",
       "<style scoped>\n",
       "    .dataframe tbody tr th:only-of-type {\n",
       "        vertical-align: middle;\n",
       "    }\n",
       "\n",
       "    .dataframe tbody tr th {\n",
       "        vertical-align: top;\n",
       "    }\n",
       "\n",
       "    .dataframe thead th {\n",
       "        text-align: right;\n",
       "    }\n",
       "</style>\n",
       "<table border=\"1\" class=\"dataframe\">\n",
       "  <thead>\n",
       "    <tr style=\"text-align: right;\">\n",
       "      <th></th>\n",
       "      <th>product_num</th>\n",
       "      <th>price</th>\n",
       "      <th>price_grade</th>\n",
       "    </tr>\n",
       "  </thead>\n",
       "  <tbody>\n",
       "    <tr>\n",
       "      <th>0</th>\n",
       "      <td>1</td>\n",
       "      <td>65694</td>\n",
       "      <td>1</td>\n",
       "    </tr>\n",
       "    <tr>\n",
       "      <th>1</th>\n",
       "      <td>2</td>\n",
       "      <td>61360</td>\n",
       "      <td>1</td>\n",
       "    </tr>\n",
       "    <tr>\n",
       "      <th>2</th>\n",
       "      <td>3</td>\n",
       "      <td>58685</td>\n",
       "      <td>1</td>\n",
       "    </tr>\n",
       "    <tr>\n",
       "      <th>3</th>\n",
       "      <td>4</td>\n",
       "      <td>16482</td>\n",
       "      <td>3</td>\n",
       "    </tr>\n",
       "    <tr>\n",
       "      <th>4</th>\n",
       "      <td>5</td>\n",
       "      <td>12221</td>\n",
       "      <td>3</td>\n",
       "    </tr>\n",
       "    <tr>\n",
       "      <th>...</th>\n",
       "      <td>...</td>\n",
       "      <td>...</td>\n",
       "      <td>...</td>\n",
       "    </tr>\n",
       "    <tr>\n",
       "      <th>95</th>\n",
       "      <td>96</td>\n",
       "      <td>3031</td>\n",
       "      <td>3</td>\n",
       "    </tr>\n",
       "    <tr>\n",
       "      <th>96</th>\n",
       "      <td>97</td>\n",
       "      <td>73498</td>\n",
       "      <td>1</td>\n",
       "    </tr>\n",
       "    <tr>\n",
       "      <th>97</th>\n",
       "      <td>98</td>\n",
       "      <td>67171</td>\n",
       "      <td>1</td>\n",
       "    </tr>\n",
       "    <tr>\n",
       "      <th>98</th>\n",
       "      <td>99</td>\n",
       "      <td>43976</td>\n",
       "      <td>2</td>\n",
       "    </tr>\n",
       "    <tr>\n",
       "      <th>99</th>\n",
       "      <td>100</td>\n",
       "      <td>49101</td>\n",
       "      <td>2</td>\n",
       "    </tr>\n",
       "  </tbody>\n",
       "</table>\n",
       "<p>100 rows × 3 columns</p>\n",
       "</div>"
      ],
      "text/plain": [
       "    product_num  price price_grade\n",
       "0             1  65694           1\n",
       "1             2  61360           1\n",
       "2             3  58685           1\n",
       "3             4  16482           3\n",
       "4             5  12221           3\n",
       "..          ...    ...         ...\n",
       "95           96   3031           3\n",
       "96           97  73498           1\n",
       "97           98  67171           1\n",
       "98           99  43976           2\n",
       "99          100  49101           2\n",
       "\n",
       "[100 rows x 3 columns]"
      ]
     },
     "execution_count": 32,
     "metadata": {},
     "output_type": "execute_result"
    }
   ],
   "source": [
    "product"
   ]
  },
  {
   "cell_type": "code",
   "execution_count": 33,
   "id": "bc7ae713",
   "metadata": {
    "ExecuteTime": {
     "end_time": "2022-07-15T11:00:00.186275Z",
     "start_time": "2022-07-15T11:00:00.181281Z"
    },
    "scrolled": true
   },
   "outputs": [
    {
     "data": {
      "text/html": [
       "<div>\n",
       "<style scoped>\n",
       "    .dataframe tbody tr th:only-of-type {\n",
       "        vertical-align: middle;\n",
       "    }\n",
       "\n",
       "    .dataframe tbody tr th {\n",
       "        vertical-align: top;\n",
       "    }\n",
       "\n",
       "    .dataframe thead th {\n",
       "        text-align: right;\n",
       "    }\n",
       "</style>\n",
       "<table border=\"1\" class=\"dataframe\">\n",
       "  <thead>\n",
       "    <tr style=\"text-align: right;\">\n",
       "      <th></th>\n",
       "      <th>ts_num</th>\n",
       "      <th>ts_cusno</th>\n",
       "      <th>ts_product_num</th>\n",
       "      <th>quantity</th>\n",
       "      <th>amount</th>\n",
       "      <th>date</th>\n",
       "      <th>year</th>\n",
       "      <th>day</th>\n",
       "      <th>time</th>\n",
       "    </tr>\n",
       "  </thead>\n",
       "  <tbody>\n",
       "    <tr>\n",
       "      <th>0</th>\n",
       "      <td>0</td>\n",
       "      <td>10380</td>\n",
       "      <td>86</td>\n",
       "      <td>6</td>\n",
       "      <td>536562</td>\n",
       "      <td>2020-12-30</td>\n",
       "      <td>2020</td>\n",
       "      <td>2</td>\n",
       "      <td>NaN</td>\n",
       "    </tr>\n",
       "    <tr>\n",
       "      <th>1</th>\n",
       "      <td>1</td>\n",
       "      <td>10501</td>\n",
       "      <td>13</td>\n",
       "      <td>5</td>\n",
       "      <td>406575</td>\n",
       "      <td>2020-04-05</td>\n",
       "      <td>2020</td>\n",
       "      <td>6</td>\n",
       "      <td>NaN</td>\n",
       "    </tr>\n",
       "    <tr>\n",
       "      <th>2</th>\n",
       "      <td>2</td>\n",
       "      <td>10694</td>\n",
       "      <td>19</td>\n",
       "      <td>9</td>\n",
       "      <td>55413</td>\n",
       "      <td>2020-03-05</td>\n",
       "      <td>2020</td>\n",
       "      <td>3</td>\n",
       "      <td>NaN</td>\n",
       "    </tr>\n",
       "    <tr>\n",
       "      <th>3</th>\n",
       "      <td>3</td>\n",
       "      <td>10430</td>\n",
       "      <td>98</td>\n",
       "      <td>6</td>\n",
       "      <td>403026</td>\n",
       "      <td>2021-04-04</td>\n",
       "      <td>2021</td>\n",
       "      <td>6</td>\n",
       "      <td>NaN</td>\n",
       "    </tr>\n",
       "    <tr>\n",
       "      <th>4</th>\n",
       "      <td>4</td>\n",
       "      <td>10196</td>\n",
       "      <td>55</td>\n",
       "      <td>3</td>\n",
       "      <td>88746</td>\n",
       "      <td>2021-10-19</td>\n",
       "      <td>2021</td>\n",
       "      <td>1</td>\n",
       "      <td>NaN</td>\n",
       "    </tr>\n",
       "    <tr>\n",
       "      <th>...</th>\n",
       "      <td>...</td>\n",
       "      <td>...</td>\n",
       "      <td>...</td>\n",
       "      <td>...</td>\n",
       "      <td>...</td>\n",
       "      <td>...</td>\n",
       "      <td>...</td>\n",
       "      <td>...</td>\n",
       "      <td>...</td>\n",
       "    </tr>\n",
       "    <tr>\n",
       "      <th>9995</th>\n",
       "      <td>9995</td>\n",
       "      <td>10009</td>\n",
       "      <td>25</td>\n",
       "      <td>1</td>\n",
       "      <td>37568</td>\n",
       "      <td>2021-04-12</td>\n",
       "      <td>2021</td>\n",
       "      <td>0</td>\n",
       "      <td>NaN</td>\n",
       "    </tr>\n",
       "    <tr>\n",
       "      <th>9996</th>\n",
       "      <td>9996</td>\n",
       "      <td>10669</td>\n",
       "      <td>35</td>\n",
       "      <td>1</td>\n",
       "      <td>94201</td>\n",
       "      <td>2021-03-16</td>\n",
       "      <td>2021</td>\n",
       "      <td>1</td>\n",
       "      <td>NaN</td>\n",
       "    </tr>\n",
       "    <tr>\n",
       "      <th>9997</th>\n",
       "      <td>9997</td>\n",
       "      <td>10427</td>\n",
       "      <td>77</td>\n",
       "      <td>3</td>\n",
       "      <td>217944</td>\n",
       "      <td>2021-04-04</td>\n",
       "      <td>2021</td>\n",
       "      <td>6</td>\n",
       "      <td>NaN</td>\n",
       "    </tr>\n",
       "    <tr>\n",
       "      <th>9998</th>\n",
       "      <td>9998</td>\n",
       "      <td>10685</td>\n",
       "      <td>57</td>\n",
       "      <td>2</td>\n",
       "      <td>194958</td>\n",
       "      <td>2020-03-09</td>\n",
       "      <td>2020</td>\n",
       "      <td>0</td>\n",
       "      <td>NaN</td>\n",
       "    </tr>\n",
       "    <tr>\n",
       "      <th>9999</th>\n",
       "      <td>9999</td>\n",
       "      <td>10082</td>\n",
       "      <td>33</td>\n",
       "      <td>8</td>\n",
       "      <td>575352</td>\n",
       "      <td>2021-08-07</td>\n",
       "      <td>2021</td>\n",
       "      <td>5</td>\n",
       "      <td>NaN</td>\n",
       "    </tr>\n",
       "  </tbody>\n",
       "</table>\n",
       "<p>10000 rows × 9 columns</p>\n",
       "</div>"
      ],
      "text/plain": [
       "      ts_num  ts_cusno  ts_product_num  quantity  amount       date  year  \\\n",
       "0          0     10380              86         6  536562 2020-12-30  2020   \n",
       "1          1     10501              13         5  406575 2020-04-05  2020   \n",
       "2          2     10694              19         9   55413 2020-03-05  2020   \n",
       "3          3     10430              98         6  403026 2021-04-04  2021   \n",
       "4          4     10196              55         3   88746 2021-10-19  2021   \n",
       "...      ...       ...             ...       ...     ...        ...   ...   \n",
       "9995    9995     10009              25         1   37568 2021-04-12  2021   \n",
       "9996    9996     10669              35         1   94201 2021-03-16  2021   \n",
       "9997    9997     10427              77         3  217944 2021-04-04  2021   \n",
       "9998    9998     10685              57         2  194958 2020-03-09  2020   \n",
       "9999    9999     10082              33         8  575352 2021-08-07  2021   \n",
       "\n",
       "      day time  \n",
       "0       2  NaN  \n",
       "1       6  NaN  \n",
       "2       3  NaN  \n",
       "3       6  NaN  \n",
       "4       1  NaN  \n",
       "...   ...  ...  \n",
       "9995    0  NaN  \n",
       "9996    1  NaN  \n",
       "9997    6  NaN  \n",
       "9998    0  NaN  \n",
       "9999    5  NaN  \n",
       "\n",
       "[10000 rows x 9 columns]"
      ]
     },
     "execution_count": 33,
     "metadata": {},
     "output_type": "execute_result"
    }
   ],
   "source": [
    "purchase"
   ]
  },
  {
   "cell_type": "code",
   "execution_count": null,
   "id": "8dd61de1",
   "metadata": {},
   "outputs": [],
   "source": []
  },
  {
   "cell_type": "code",
   "execution_count": 34,
   "id": "09cad72c",
   "metadata": {
    "ExecuteTime": {
     "end_time": "2022-07-15T11:00:00.453312Z",
     "start_time": "2022-07-15T11:00:00.187044Z"
    }
   },
   "outputs": [
    {
     "ename": "NameError",
     "evalue": "name 'df_1' is not defined",
     "output_type": "error",
     "traceback": [
      "\u001b[0;31m---------------------------------------------------------------------------\u001b[0m",
      "\u001b[0;31mNameError\u001b[0m                                 Traceback (most recent call last)",
      "Input \u001b[0;32mIn [34]\u001b[0m, in \u001b[0;36m<cell line: 5>\u001b[0;34m()\u001b[0m\n\u001b[1;32m      2\u001b[0m \u001b[38;5;28;01mfrom\u001b[39;00m \u001b[38;5;21;01msklearn\u001b[39;00m\u001b[38;5;21;01m.\u001b[39;00m\u001b[38;5;21;01mmodel_selection\u001b[39;00m \u001b[38;5;28;01mimport\u001b[39;00m train_test_split\n\u001b[1;32m      4\u001b[0m \u001b[38;5;66;03m# 독립변수, 종속 변수 분리\u001b[39;00m\n\u001b[0;32m----> 5\u001b[0m X \u001b[38;5;241m=\u001b[39m \u001b[43mdf_1\u001b[49m[[\u001b[38;5;124m'\u001b[39m\u001b[38;5;124mgender_c\u001b[39m\u001b[38;5;124m'\u001b[39m, \u001b[38;5;124m'\u001b[39m\u001b[38;5;124mage_c\u001b[39m\u001b[38;5;124m'\u001b[39m, \u001b[38;5;124m'\u001b[39m\u001b[38;5;124mregion_c\u001b[39m\u001b[38;5;124m'\u001b[39m, \u001b[38;5;124m'\u001b[39m\u001b[38;5;124mARPPU_20_c\u001b[39m\u001b[38;5;124m'\u001b[39m,\n\u001b[1;32m      6\u001b[0m           \u001b[38;5;124m'\u001b[39m\u001b[38;5;124mAVC_20_c\u001b[39m\u001b[38;5;124m'\u001b[39m, \u001b[38;5;124m'\u001b[39m\u001b[38;5;124mAVC_21_c\u001b[39m\u001b[38;5;124m'\u001b[39m, \u001b[38;5;124m'\u001b[39m\u001b[38;5;124mamount_20_p\u001b[39m\u001b[38;5;124m'\u001b[39m]]\n\u001b[1;32m      7\u001b[0m y \u001b[38;5;241m=\u001b[39m df_1[\u001b[38;5;124m'\u001b[39m\u001b[38;5;124msales_trend\u001b[39m\u001b[38;5;124m'\u001b[39m]\n\u001b[1;32m      9\u001b[0m \u001b[38;5;66;03m# 학습용 테이터와 평가용 데이터를 8:2로 분리\u001b[39;00m\n",
      "\u001b[0;31mNameError\u001b[0m: name 'df_1' is not defined"
     ]
    }
   ],
   "source": [
    "from sklearn import preprocessing\n",
    "from sklearn.model_selection import train_test_split\n",
    "\n",
    "# 독립변수, 종속 변수 분리\n",
    "X = df_1[['gender_c', 'age_c', 'region_c', 'ARPPU_20_c',\n",
    "          'AVC_20_c', 'AVC_21_c', 'amount_20_p']]\n",
    "y = df_1['sales_trend']\n",
    "\n",
    "# 학습용 테이터와 평가용 데이터를 8:2로 분리\n",
    "X_train, X_test, y_train, y_test = train_test_split(X, y, test_size=0.2,\n",
    "                                                    random_state=10)\n",
    "print(X_train.shape)\n",
    "print(X_test.shape)"
   ]
  },
  {
   "cell_type": "code",
   "execution_count": null,
   "id": "ac04ec1f",
   "metadata": {
    "ExecuteTime": {
     "end_time": "2022-07-15T11:00:00.454400Z",
     "start_time": "2022-07-15T10:59:51.602Z"
    }
   },
   "outputs": [],
   "source": [
    "# Decision Tree\n",
    "from sklearn.metrics import accuracy_score\n",
    "from sklearn.tree import DecisionTreeClassifier\n",
    "dt_model = DecisionTreeClassifier()\n",
    "dt_model.fit(X_train, y_train)\n",
    "dt_pred = dt_model.predict(X_test)\n",
    "\n",
    "print(dt_pred[0:10])\n",
    "print(y_test.values[0:10])\n",
    "\n",
    "accuracy = accuracy_score(y_test, dt_pred)\n",
    "print('dt 예측 정확도 :', accuracy)"
   ]
  },
  {
   "cell_type": "code",
   "execution_count": null,
   "id": "174819c3",
   "metadata": {
    "ExecuteTime": {
     "end_time": "2022-07-15T11:00:00.455094Z",
     "start_time": "2022-07-15T10:59:51.602Z"
    }
   },
   "outputs": [],
   "source": [
    "# Random Forest\n",
    "from sklearn.ensemble import RandomForestClassifier\n",
    "\n",
    "rf_model = RandomForestClassifier()\n",
    "rf_model.fit(X_train, y_train)\n",
    "rf_pred = rf_model.predict(X_test)\n",
    "\n",
    "rf_accuracy = accuracy_score(y_test, rf_pred)\n",
    "print('rf 예측 정확도 :', rf_accuracy)"
   ]
  },
  {
   "cell_type": "code",
   "execution_count": null,
   "id": "b304ee11",
   "metadata": {
    "ExecuteTime": {
     "end_time": "2022-07-15T11:00:00.455835Z",
     "start_time": "2022-07-15T10:59:51.603Z"
    }
   },
   "outputs": [],
   "source": [
    "# Logistic Regression\n",
    "from sklearn.linear_model import LogisticRegression\n",
    "import warnings\n",
    "warnings.filterwarnings('ignore')\n",
    "\n",
    "lr_model = LogisticRegression(random_state=0)\n",
    "lr_model.fit(X_train, y_train)\n",
    "lr_pred = lr_model.predict(X_test)\n",
    "\n",
    "lr_accuracy = accuracy_score(y_test, lr_pred)\n",
    "print('lr 예측 정확도 :', accuracy)"
   ]
  }
 ],
 "metadata": {
  "kernelspec": {
   "display_name": "Python 3",
   "language": "python",
   "name": "python3"
  },
  "language_info": {
   "codemirror_mode": {
    "name": "ipython",
    "version": 3
   },
   "file_extension": ".py",
   "mimetype": "text/x-python",
   "name": "python",
   "nbconvert_exporter": "python",
   "pygments_lexer": "ipython3",
   "version": "3.8.13"
  },
  "toc": {
   "base_numbering": 1,
   "nav_menu": {},
   "number_sections": true,
   "sideBar": true,
   "skip_h1_title": false,
   "title_cell": "Table of Contents",
   "title_sidebar": "Contents",
   "toc_cell": false,
   "toc_position": {
    "height": "772px",
    "left": "50px",
    "top": "96px",
    "width": "339px"
   },
   "toc_section_display": true,
   "toc_window_display": true
  }
 },
 "nbformat": 4,
 "nbformat_minor": 5
}
